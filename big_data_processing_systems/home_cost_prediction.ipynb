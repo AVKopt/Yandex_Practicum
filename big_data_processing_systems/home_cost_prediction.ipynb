{
 "cells": [
  {
   "cell_type": "markdown",
   "id": "GEqQaHzsZ_bA",
   "metadata": {
    "id": "GEqQaHzsZ_bA"
   },
   "source": [
    "# Предсказание стоимости жилья"
   ]
  },
  {
   "cell_type": "markdown",
   "id": "96adfaf9",
   "metadata": {},
   "source": [
    "# Описание проекта\n",
    "\n",
    "Необходимо обучить модель линейной регрессии на данных о жилье в Калифорнии в 1990 году.\n",
    "\n",
    "На основе данных нужно предсказать медианную стоимость дома в жилом массиве — `median_house_value`. Обучить модель и сделайть предсказания на тестовой выборке. Для оценки качества модели будут использованы метрики `RMSE`, `MAE` и `R2`."
   ]
  },
  {
   "cell_type": "markdown",
   "id": "f7e9d32f",
   "metadata": {},
   "source": [
    "**Описание датасета**\n",
    "\n",
    "В колонках датасета содержатся следующие данные:\n",
    "\n",
    "- `longitude` — широта;\n",
    "- `latitude` — долгота;\n",
    "- `housing_median_age` — медианный возраст жителей жилого массива;\n",
    "- `total_rooms` — общее количество комнат в домах жилого массива;\n",
    "- `total_bedrooms` — общее количество спален в домах жилого массива;\n",
    "- `population` — количество человек, которые проживают в жилом массиве;\n",
    "- `households` — количество домовладений в жилом массиве;\n",
    "- `median_income` — медианный доход жителей жилого массива;\n",
    "- `median_house_value` — медианная стоимость дома в жилом массиве;\n",
    "- `ocean_proximity` — близость к океану.\n",
    "\n",
    "**План проекта**\n",
    "\n",
    "1. Подготовка данных.\n",
    "   \n",
    "   - Импорты необходимых библиотек;\n",
    "   - Инициализация локальной `Spark`-сессии;\n",
    "   - Чтение содержимого файла `/datasets/housing.csv`;\n",
    "   - Проверка типов данных колонок датасета(использую методы pySpark);\n",
    "   - Предобработка данных:\n",
    "       \n",
    "       - Исследование данные на наличие пропусков и заполнение их по возможности;\n",
    "       - Преобразование колонки с категориальными значениями техникой One hot encoding;\n",
    "       \n",
    "2. Обучение моделей.\n",
    "   \n",
    "   - Построение двух моделей линейной регрессии на разных наборах данных(используйя оценщик LinearRegression из библиотеки MLlib):\n",
    "       \n",
    "       - используя все данные из файла;\n",
    "       - используя только числовые переменные, исключив категориальные.\n",
    "       \n",
    "3. Анализ результатов.\n",
    "   \n",
    "   - Сравнение результатов работы линейной регрессии на двух наборах данных по метрикам RMSE, MAE и R2. \n",
    "\n",
    "4. Выводы."
   ]
  },
  {
   "cell_type": "markdown",
   "id": "53871372",
   "metadata": {
    "id": "53871372"
   },
   "source": [
    "## Подготовка данных"
   ]
  },
  {
   "cell_type": "markdown",
   "id": "1ba0c8fb",
   "metadata": {},
   "source": [
    "### Импорт необходимых библиотек для работы"
   ]
  },
  {
   "cell_type": "code",
   "execution_count": 1,
   "id": "a9dbdf2a",
   "metadata": {},
   "outputs": [],
   "source": [
    "import pandas as pd\n",
    "import numpy as np\n",
    "import pyspark\n",
    "\n",
    "from pyspark.sql import SparkSession\n",
    "from pyspark.sql.types import *\n",
    "import pyspark.sql.functions as F\n",
    "\n",
    "from pyspark.ml.feature import StringIndexer, VectorAssembler, StandardScaler\n",
    "from pyspark.ml.regression import LinearRegression\n",
    "from pyspark.ml.feature import OneHotEncoder\n",
    "from pyspark.mllib.evaluation import RegressionMetrics\n",
    "from pyspark.ml import Pipeline\n",
    "\n",
    "RANDOM = 12345\n",
    "\n",
    "import warnings\n",
    "\n",
    "warnings.filterwarnings(\"ignore\")\n",
    "\n",
    "import os\n",
    "import sys\n",
    "\n",
    "os.environ['PYSPARK_PYTHON'] = sys.executable\n",
    "os.environ['PYSPARK_DRIVER_PYTHON'] = sys.executable\n",
    "os.environ['SPARK_LOCAL_IP'] = '127.0.1.1'"
   ]
  },
  {
   "cell_type": "markdown",
   "id": "cf3861b8",
   "metadata": {},
   "source": [
    "### Инициализация Spark-сессии и загрузка датасета"
   ]
  },
  {
   "cell_type": "code",
   "execution_count": 2,
   "id": "4a65f286",
   "metadata": {},
   "outputs": [
    {
     "name": "stderr",
     "output_type": "stream",
     "text": [
      "Setting default log level to \"WARN\".\n",
      "To adjust logging level use sc.setLogLevel(newLevel). For SparkR, use setLogLevel(newLevel).\n",
      "23/07/11 10:33:33 WARN NativeCodeLoader: Unable to load native-hadoop library for your platform... using builtin-java classes where applicable\n",
      "23/07/11 10:33:34 WARN Utils: Service 'SparkUI' could not bind on port 4040. Attempting port 4041.\n"
     ]
    }
   ],
   "source": [
    "spark = SparkSession.builder \\\n",
    "                    .master(\"local[*]\") \\\n",
    "                    .appName(\"Housing Forecast\") \\\n",
    "                    .getOrCreate()"
   ]
  },
  {
   "cell_type": "code",
   "execution_count": 3,
   "id": "489728cc",
   "metadata": {},
   "outputs": [
    {
     "name": "stdout",
     "output_type": "stream",
     "text": [
      "root\n",
      " |-- longitude: double (nullable = true)\n",
      " |-- latitude: double (nullable = true)\n",
      " |-- housing_median_age: double (nullable = true)\n",
      " |-- total_rooms: double (nullable = true)\n",
      " |-- total_bedrooms: double (nullable = true)\n",
      " |-- population: double (nullable = true)\n",
      " |-- households: double (nullable = true)\n",
      " |-- median_income: double (nullable = true)\n",
      " |-- median_house_value: double (nullable = true)\n",
      " |-- ocean_proximity: string (nullable = true)\n",
      "\n"
     ]
    }
   ],
   "source": [
    "data = spark.read.option('header', 'true').csv('../Data/housing.csv',\n",
    "                                               inferSchema=True)\n",
    "data.printSchema()"
   ]
  },
  {
   "cell_type": "markdown",
   "id": "da22e823",
   "metadata": {},
   "source": [
    "### Типы данных"
   ]
  },
  {
   "cell_type": "code",
   "execution_count": 4,
   "id": "16fa8dc7",
   "metadata": {},
   "outputs": [
    {
     "name": "stdout",
     "output_type": "stream",
     "text": [
      "               column    type\n",
      "0           longitude  double\n",
      "1            latitude  double\n",
      "2  housing_median_age  double\n",
      "3         total_rooms  double\n",
      "4      total_bedrooms  double\n",
      "5          population  double\n",
      "6          households  double\n",
      "7       median_income  double\n",
      "8  median_house_value  double\n",
      "9     ocean_proximity  string\n"
     ]
    }
   ],
   "source": [
    "print(pd.DataFrame(data.dtypes, columns=['column', 'type']))"
   ]
  },
  {
   "cell_type": "markdown",
   "id": "183553e5",
   "metadata": {},
   "source": [
    "### Проверка на наличие пропусков"
   ]
  },
  {
   "cell_type": "code",
   "execution_count": 5,
   "id": "f06ed8d6",
   "metadata": {},
   "outputs": [
    {
     "name": "stdout",
     "output_type": "stream",
     "text": [
      "longitude 0\n",
      "latitude 0\n",
      "housing_median_age 0\n",
      "total_rooms 0\n",
      "total_bedrooms 207\n",
      "population 0\n",
      "households 0\n",
      "median_income 0\n",
      "median_house_value 0\n",
      "ocean_proximity 0\n"
     ]
    }
   ],
   "source": [
    "for column in data.columns:\n",
    "    print(column, data.where(F.isnan(column) | F.col(column).isNull()).count())"
   ]
  },
  {
   "cell_type": "markdown",
   "id": "922a89cc",
   "metadata": {},
   "source": [
    "Имеется 207 пропусков в колонке `total_bedrooms` — общее количество спален в домах жилого массива.\n",
    "\n",
    "Т. к. пропусков меньше 1% их можно просто удалить, но как вариант можно попробовать точечно заполнить.\n",
    "Можно былобы просто заменить средним значением всей колонки, но это будет не корректно, т.к. в некоторых строках общее количество спален может превысить общее количество комнат.\n",
    "\n",
    "Да замены буду использовать след. вариант.\n",
    "\n",
    "Рассчитаю среднее отношение количества комнат к количичетсву спален.\n",
    "\n",
    "Сгруппируем датасет по колонке близости к океану и рассчитаем среднее отношение количества комнат к количеству спален."
   ]
  },
  {
   "cell_type": "code",
   "execution_count": 6,
   "id": "b9979a06",
   "metadata": {},
   "outputs": [],
   "source": [
    "temp = data.groupBy(['ocean_proximity'\n",
    "                     ]).agg(F.avg('total_rooms'),\n",
    "                            F.avg('total_bedrooms')).toPandas()"
   ]
  },
  {
   "cell_type": "code",
   "execution_count": 7,
   "id": "ac9c6bef",
   "metadata": {},
   "outputs": [
    {
     "data": {
      "text/html": [
       "<div>\n",
       "<style scoped>\n",
       "    .dataframe tbody tr th:only-of-type {\n",
       "        vertical-align: middle;\n",
       "    }\n",
       "\n",
       "    .dataframe tbody tr th {\n",
       "        vertical-align: top;\n",
       "    }\n",
       "\n",
       "    .dataframe thead th {\n",
       "        text-align: right;\n",
       "    }\n",
       "</style>\n",
       "<table border=\"1\" class=\"dataframe\">\n",
       "  <thead>\n",
       "    <tr style=\"text-align: right;\">\n",
       "      <th></th>\n",
       "      <th>ocean_proximity</th>\n",
       "      <th>avg(total_rooms)</th>\n",
       "      <th>avg(total_bedrooms)</th>\n",
       "    </tr>\n",
       "  </thead>\n",
       "  <tbody>\n",
       "    <tr>\n",
       "      <th>0</th>\n",
       "      <td>ISLAND</td>\n",
       "      <td>1574.600000</td>\n",
       "      <td>420.400000</td>\n",
       "    </tr>\n",
       "    <tr>\n",
       "      <th>1</th>\n",
       "      <td>NEAR OCEAN</td>\n",
       "      <td>2583.700903</td>\n",
       "      <td>538.615677</td>\n",
       "    </tr>\n",
       "    <tr>\n",
       "      <th>2</th>\n",
       "      <td>NEAR BAY</td>\n",
       "      <td>2493.589520</td>\n",
       "      <td>514.182819</td>\n",
       "    </tr>\n",
       "    <tr>\n",
       "      <th>3</th>\n",
       "      <td>&lt;1H OCEAN</td>\n",
       "      <td>2628.343586</td>\n",
       "      <td>546.539185</td>\n",
       "    </tr>\n",
       "    <tr>\n",
       "      <th>4</th>\n",
       "      <td>INLAND</td>\n",
       "      <td>2717.742787</td>\n",
       "      <td>533.881619</td>\n",
       "    </tr>\n",
       "  </tbody>\n",
       "</table>\n",
       "</div>"
      ],
      "text/plain": [
       "  ocean_proximity  avg(total_rooms)  avg(total_bedrooms)\n",
       "0          ISLAND       1574.600000           420.400000\n",
       "1      NEAR OCEAN       2583.700903           538.615677\n",
       "2        NEAR BAY       2493.589520           514.182819\n",
       "3       <1H OCEAN       2628.343586           546.539185\n",
       "4          INLAND       2717.742787           533.881619"
      ]
     },
     "execution_count": 7,
     "metadata": {},
     "output_type": "execute_result"
    }
   ],
   "source": [
    "temp"
   ]
  },
  {
   "cell_type": "code",
   "execution_count": 8,
   "id": "06a276da",
   "metadata": {},
   "outputs": [
    {
     "name": "stdout",
     "output_type": "stream",
     "text": [
      "Среднее значение: 5.0\n"
     ]
    }
   ],
   "source": [
    "print(\n",
    "    'Среднее значение:',\n",
    "    round((temp['avg(total_rooms)'] / temp['avg(total_bedrooms)']).mean(), 0))"
   ]
  },
  {
   "cell_type": "markdown",
   "id": "1e82a23b",
   "metadata": {},
   "source": [
    "Данные с пропусками"
   ]
  },
  {
   "cell_type": "code",
   "execution_count": 9,
   "id": "9fad181c",
   "metadata": {},
   "outputs": [
    {
     "name": "stdout",
     "output_type": "stream",
     "text": [
      "     longitude  latitude  housing_median_age  total_rooms  total_bedrooms  \\\n",
      "0      -122.16     37.77                47.0       1256.0             NaN   \n",
      "1      -122.17     37.75                38.0        992.0             NaN   \n",
      "2      -122.28     37.78                29.0       5154.0             NaN   \n",
      "3      -122.24     37.75                45.0        891.0             NaN   \n",
      "4      -122.10     37.69                41.0        746.0             NaN   \n",
      "..         ...       ...                 ...          ...             ...   \n",
      "202    -119.19     34.20                18.0       3620.0             NaN   \n",
      "203    -119.18     34.19                19.0       2393.0             NaN   \n",
      "204    -118.88     34.17                15.0       4260.0             NaN   \n",
      "205    -118.75     34.29                17.0       5512.0             NaN   \n",
      "206    -118.72     34.28                17.0       3051.0             NaN   \n",
      "\n",
      "     population  households  median_income  median_house_value ocean_proximity  \n",
      "0         570.0       218.0         4.3750            161900.0        NEAR BAY  \n",
      "1         732.0       259.0         1.6196             85100.0        NEAR BAY  \n",
      "2        3741.0      1273.0         2.5762            173400.0        NEAR BAY  \n",
      "3         384.0       146.0         4.9489            247100.0        NEAR BAY  \n",
      "4         387.0       161.0         3.9063            178400.0        NEAR BAY  \n",
      "..          ...         ...            ...                 ...             ...  \n",
      "202      3171.0       779.0         3.3409            220500.0      NEAR OCEAN  \n",
      "203      1938.0       762.0         1.6953            167400.0      NEAR OCEAN  \n",
      "204      1701.0       669.0         5.1033            410700.0       <1H OCEAN  \n",
      "205      2734.0       814.0         6.6073            258100.0       <1H OCEAN  \n",
      "206      1705.0       495.0         5.7376            218600.0       <1H OCEAN  \n",
      "\n",
      "[207 rows x 10 columns]\n"
     ]
    }
   ],
   "source": [
    "print(data.filter(data['total_bedrooms'].isNull()).toPandas())"
   ]
  },
  {
   "cell_type": "markdown",
   "id": "c419e846",
   "metadata": {},
   "source": [
    "Замена пропусков"
   ]
  },
  {
   "cell_type": "code",
   "execution_count": 10,
   "id": "cbe46dac",
   "metadata": {},
   "outputs": [],
   "source": [
    "data = data.withColumn(\n",
    "    'total_bedrooms',\n",
    "    F.when(data['total_bedrooms'].isNull(),\n",
    "           data['total_rooms'] / 5).otherwise(data['total_bedrooms']))"
   ]
  },
  {
   "cell_type": "markdown",
   "id": "50337932",
   "metadata": {},
   "source": [
    "Проверка замены пропусков"
   ]
  },
  {
   "cell_type": "code",
   "execution_count": 11,
   "id": "d68b382f",
   "metadata": {},
   "outputs": [
    {
     "name": "stdout",
     "output_type": "stream",
     "text": [
      "longitude 0\n",
      "latitude 0\n",
      "housing_median_age 0\n",
      "total_rooms 0\n",
      "total_bedrooms 0\n",
      "population 0\n",
      "households 0\n",
      "median_income 0\n",
      "median_house_value 0\n",
      "ocean_proximity 0\n"
     ]
    }
   ],
   "source": [
    "for column in data.columns:\n",
    "    print(column, data.where(F.isnan(column) | F.col(column).isNull()).count())"
   ]
  },
  {
   "cell_type": "markdown",
   "id": "dcb4989c",
   "metadata": {},
   "source": [
    "Пропуски заменены нужными значениями"
   ]
  },
  {
   "cell_type": "markdown",
   "id": "5420d9ad",
   "metadata": {},
   "source": [
    "Проверим на наличие дубликатов"
   ]
  },
  {
   "cell_type": "code",
   "execution_count": 12,
   "id": "4bdb7cb4",
   "metadata": {},
   "outputs": [
    {
     "name": "stderr",
     "output_type": "stream",
     "text": [
      "23/07/11 10:33:47 WARN package: Truncated the string representation of a plan since it was too large. This behavior can be adjusted by setting 'spark.sql.debug.maxToStringFields'.\n",
      "                                                                                \r"
     ]
    },
    {
     "data": {
      "text/html": [
       "<div>\n",
       "<style scoped>\n",
       "    .dataframe tbody tr th:only-of-type {\n",
       "        vertical-align: middle;\n",
       "    }\n",
       "\n",
       "    .dataframe tbody tr th {\n",
       "        vertical-align: top;\n",
       "    }\n",
       "\n",
       "    .dataframe thead th {\n",
       "        text-align: right;\n",
       "    }\n",
       "</style>\n",
       "<table border=\"1\" class=\"dataframe\">\n",
       "  <thead>\n",
       "    <tr style=\"text-align: right;\">\n",
       "      <th></th>\n",
       "      <th>0</th>\n",
       "      <th>1</th>\n",
       "      <th>2</th>\n",
       "      <th>3</th>\n",
       "      <th>4</th>\n",
       "    </tr>\n",
       "  </thead>\n",
       "  <tbody>\n",
       "    <tr>\n",
       "      <th>summary</th>\n",
       "      <td>count</td>\n",
       "      <td>mean</td>\n",
       "      <td>stddev</td>\n",
       "      <td>min</td>\n",
       "      <td>max</td>\n",
       "    </tr>\n",
       "    <tr>\n",
       "      <th>longitude</th>\n",
       "      <td>20640</td>\n",
       "      <td>-119.56970445736148</td>\n",
       "      <td>2.003531723502584</td>\n",
       "      <td>-124.35</td>\n",
       "      <td>-114.31</td>\n",
       "    </tr>\n",
       "    <tr>\n",
       "      <th>latitude</th>\n",
       "      <td>20640</td>\n",
       "      <td>35.6318614341087</td>\n",
       "      <td>2.135952397457101</td>\n",
       "      <td>32.54</td>\n",
       "      <td>41.95</td>\n",
       "    </tr>\n",
       "    <tr>\n",
       "      <th>housing_median_age</th>\n",
       "      <td>20640</td>\n",
       "      <td>28.639486434108527</td>\n",
       "      <td>12.58555761211163</td>\n",
       "      <td>1.0</td>\n",
       "      <td>52.0</td>\n",
       "    </tr>\n",
       "    <tr>\n",
       "      <th>total_rooms</th>\n",
       "      <td>20640</td>\n",
       "      <td>2635.7630813953488</td>\n",
       "      <td>2181.6152515827944</td>\n",
       "      <td>2.0</td>\n",
       "      <td>39320.0</td>\n",
       "    </tr>\n",
       "    <tr>\n",
       "      <th>total_bedrooms</th>\n",
       "      <td>20640</td>\n",
       "      <td>537.6163178294578</td>\n",
       "      <td>420.7923178822386</td>\n",
       "      <td>1.0</td>\n",
       "      <td>6445.0</td>\n",
       "    </tr>\n",
       "    <tr>\n",
       "      <th>population</th>\n",
       "      <td>20640</td>\n",
       "      <td>1425.4767441860465</td>\n",
       "      <td>1132.46212176534</td>\n",
       "      <td>3.0</td>\n",
       "      <td>35682.0</td>\n",
       "    </tr>\n",
       "    <tr>\n",
       "      <th>households</th>\n",
       "      <td>20640</td>\n",
       "      <td>499.5396802325581</td>\n",
       "      <td>382.3297528316098</td>\n",
       "      <td>1.0</td>\n",
       "      <td>6082.0</td>\n",
       "    </tr>\n",
       "    <tr>\n",
       "      <th>median_income</th>\n",
       "      <td>20640</td>\n",
       "      <td>3.8706710029070246</td>\n",
       "      <td>1.899821717945263</td>\n",
       "      <td>0.4999</td>\n",
       "      <td>15.0001</td>\n",
       "    </tr>\n",
       "    <tr>\n",
       "      <th>median_house_value</th>\n",
       "      <td>20640</td>\n",
       "      <td>206855.81690891474</td>\n",
       "      <td>115395.61587441359</td>\n",
       "      <td>14999.0</td>\n",
       "      <td>500001.0</td>\n",
       "    </tr>\n",
       "    <tr>\n",
       "      <th>ocean_proximity</th>\n",
       "      <td>20640</td>\n",
       "      <td>None</td>\n",
       "      <td>None</td>\n",
       "      <td>&lt;1H OCEAN</td>\n",
       "      <td>NEAR OCEAN</td>\n",
       "    </tr>\n",
       "  </tbody>\n",
       "</table>\n",
       "</div>"
      ],
      "text/plain": [
       "                        0                    1                   2          3  \\\n",
       "summary             count                 mean              stddev        min   \n",
       "longitude           20640  -119.56970445736148   2.003531723502584    -124.35   \n",
       "latitude            20640     35.6318614341087   2.135952397457101      32.54   \n",
       "housing_median_age  20640   28.639486434108527   12.58555761211163        1.0   \n",
       "total_rooms         20640   2635.7630813953488  2181.6152515827944        2.0   \n",
       "total_bedrooms      20640    537.6163178294578   420.7923178822386        1.0   \n",
       "population          20640   1425.4767441860465    1132.46212176534        3.0   \n",
       "households          20640    499.5396802325581   382.3297528316098        1.0   \n",
       "median_income       20640   3.8706710029070246   1.899821717945263     0.4999   \n",
       "median_house_value  20640   206855.81690891474  115395.61587441359    14999.0   \n",
       "ocean_proximity     20640                 None                None  <1H OCEAN   \n",
       "\n",
       "                             4  \n",
       "summary                    max  \n",
       "longitude              -114.31  \n",
       "latitude                 41.95  \n",
       "housing_median_age        52.0  \n",
       "total_rooms            39320.0  \n",
       "total_bedrooms          6445.0  \n",
       "population             35682.0  \n",
       "households              6082.0  \n",
       "median_income          15.0001  \n",
       "median_house_value    500001.0  \n",
       "ocean_proximity     NEAR OCEAN  "
      ]
     },
     "metadata": {},
     "output_type": "display_data"
    }
   ],
   "source": [
    "display(data.describe().toPandas().T)"
   ]
  },
  {
   "cell_type": "code",
   "execution_count": 13,
   "id": "531853ed",
   "metadata": {},
   "outputs": [
    {
     "name": "stdout",
     "output_type": "stream",
     "text": [
      "20640\n"
     ]
    }
   ],
   "source": [
    "print(data.distinct().count())"
   ]
  },
  {
   "cell_type": "markdown",
   "id": "f3d48496",
   "metadata": {},
   "source": [
    "Всего в датасете 20640 строк, уникальных тоже 20640. Дубликатов нету."
   ]
  },
  {
   "cell_type": "markdown",
   "id": "6bd844aa",
   "metadata": {
    "id": "bddb08c4"
   },
   "source": [
    "### Разделение на выборки"
   ]
  },
  {
   "cell_type": "code",
   "execution_count": 14,
   "id": "763f75ee",
   "metadata": {},
   "outputs": [],
   "source": [
    "train_data, test_data = data.randomSplit([.75, .25], seed=RANDOM)"
   ]
  },
  {
   "cell_type": "markdown",
   "id": "61087d06",
   "metadata": {},
   "source": [
    "Выделение категориального, количественных и целевого признаков"
   ]
  },
  {
   "cell_type": "code",
   "execution_count": 15,
   "id": "7645df1f",
   "metadata": {},
   "outputs": [
    {
     "name": "stdout",
     "output_type": "stream",
     "text": [
      "15406 5234\n"
     ]
    }
   ],
   "source": [
    "print(train_data.count(), test_data.count()) "
   ]
  },
  {
   "cell_type": "markdown",
   "id": "b01b7fcb",
   "metadata": {},
   "source": [
    "### Преобразование признаков"
   ]
  },
  {
   "cell_type": "code",
   "execution_count": 16,
   "id": "5b6123ae",
   "metadata": {},
   "outputs": [],
   "source": [
    "categorical_features = ['ocean_proximity']\n",
    "numerical_features = [\n",
    "    column for column in data.columns\n",
    "    if (column != 'median_house_value') and (column != 'ocean_proximity')]\n",
    "target = 'median_house_value'"
   ]
  },
  {
   "cell_type": "markdown",
   "id": "f1628a39",
   "metadata": {},
   "source": [
    "Трансформация категориальных признаков с помощью трансформера `StringIndexer`"
   ]
  },
  {
   "cell_type": "code",
   "execution_count": 17,
   "id": "d680e585",
   "metadata": {},
   "outputs": [],
   "source": [
    "indexer = StringIndexer(inputCols=categorical_features,\n",
    "                        outputCols=[c + '_idx' for c in categorical_features])\n",
    "\n",
    "indexer = indexer.fit(train_data)\n",
    "train_data = indexer.transform(train_data)\n",
    "test_data = indexer.transform(test_data)"
   ]
  },
  {
   "cell_type": "code",
   "execution_count": 18,
   "id": "58e1e8a1",
   "metadata": {},
   "outputs": [
    {
     "name": "stdout",
     "output_type": "stream",
     "text": [
      "+---------------+-------------------+\n",
      "|ocean_proximity|ocean_proximity_idx|\n",
      "+---------------+-------------------+\n",
      "|     NEAR OCEAN|                2.0|\n",
      "|     NEAR OCEAN|                2.0|\n",
      "|     NEAR OCEAN|                2.0|\n",
      "|     NEAR OCEAN|                2.0|\n",
      "|     NEAR OCEAN|                2.0|\n",
      "+---------------+-------------------+\n",
      "only showing top 5 rows\n",
      "\n"
     ]
    }
   ],
   "source": [
    "cols = [\n",
    "    column for column in train_data.columns for i in categorical_features\n",
    "    if (column.startswith(i))]\n",
    "\n",
    "train_data.select(cols).show(5)"
   ]
  },
  {
   "cell_type": "code",
   "execution_count": 19,
   "id": "731dce09",
   "metadata": {},
   "outputs": [
    {
     "name": "stdout",
     "output_type": "stream",
     "text": [
      "+---------------+-------------------+\n",
      "|ocean_proximity|ocean_proximity_idx|\n",
      "+---------------+-------------------+\n",
      "|     NEAR OCEAN|                2.0|\n",
      "|     NEAR OCEAN|                2.0|\n",
      "|     NEAR OCEAN|                2.0|\n",
      "|     NEAR OCEAN|                2.0|\n",
      "|     NEAR OCEAN|                2.0|\n",
      "+---------------+-------------------+\n",
      "only showing top 5 rows\n",
      "\n"
     ]
    }
   ],
   "source": [
    "test_data.select(cols).show(5)"
   ]
  },
  {
   "cell_type": "markdown",
   "id": "404f0b31",
   "metadata": {},
   "source": [
    "Создание `OHE`-кодирование для категорий."
   ]
  },
  {
   "cell_type": "code",
   "execution_count": 20,
   "id": "f40ddef7",
   "metadata": {},
   "outputs": [],
   "source": [
    "encoder = OneHotEncoder(\n",
    "    inputCols=[column + '_idx' for column in categorical_features],\n",
    "    outputCols=[column + '_ohe' for column in categorical_features])\n",
    "\n",
    "encoder = encoder.fit(train_data)\n",
    "\n",
    "train_data = encoder.transform(train_data)\n",
    "test_data = encoder.transform(test_data)\n",
    "\n",
    "cols = [\n",
    "    column for column in train_data.columns for i in categorical_features\n",
    "    if (column.startswith(i))]"
   ]
  },
  {
   "cell_type": "code",
   "execution_count": 21,
   "id": "ec073ad4",
   "metadata": {},
   "outputs": [
    {
     "name": "stdout",
     "output_type": "stream",
     "text": [
      "+---------------+-------------------+-------------------+\n",
      "|ocean_proximity|ocean_proximity_idx|ocean_proximity_ohe|\n",
      "+---------------+-------------------+-------------------+\n",
      "|     NEAR OCEAN|                2.0|      (4,[2],[1.0])|\n",
      "|     NEAR OCEAN|                2.0|      (4,[2],[1.0])|\n",
      "|     NEAR OCEAN|                2.0|      (4,[2],[1.0])|\n",
      "|     NEAR OCEAN|                2.0|      (4,[2],[1.0])|\n",
      "|     NEAR OCEAN|                2.0|      (4,[2],[1.0])|\n",
      "+---------------+-------------------+-------------------+\n",
      "only showing top 5 rows\n",
      "\n"
     ]
    }
   ],
   "source": [
    "train_data.select(cols).show(5)"
   ]
  },
  {
   "cell_type": "code",
   "execution_count": 22,
   "id": "53f46f3d",
   "metadata": {},
   "outputs": [
    {
     "name": "stdout",
     "output_type": "stream",
     "text": [
      "+---------------+-------------------+-------------------+\n",
      "|ocean_proximity|ocean_proximity_idx|ocean_proximity_ohe|\n",
      "+---------------+-------------------+-------------------+\n",
      "|     NEAR OCEAN|                2.0|      (4,[2],[1.0])|\n",
      "|     NEAR OCEAN|                2.0|      (4,[2],[1.0])|\n",
      "|     NEAR OCEAN|                2.0|      (4,[2],[1.0])|\n",
      "|     NEAR OCEAN|                2.0|      (4,[2],[1.0])|\n",
      "|     NEAR OCEAN|                2.0|      (4,[2],[1.0])|\n",
      "+---------------+-------------------+-------------------+\n",
      "only showing top 5 rows\n",
      "\n"
     ]
    }
   ],
   "source": [
    "test_data.select(cols).show(5)"
   ]
  },
  {
   "cell_type": "markdown",
   "id": "c7c5297c",
   "metadata": {},
   "source": [
    "Объединение признаков в один вектор"
   ]
  },
  {
   "cell_type": "code",
   "execution_count": 23,
   "id": "cfa391fa",
   "metadata": {},
   "outputs": [],
   "source": [
    "categorical_assembler = \\\n",
    "        VectorAssembler(inputCols=[column+'_ohe' for column in categorical_features],\n",
    "                                        outputCol=\"categorical_features\")\n",
    "\n",
    "train_data = categorical_assembler.transform(train_data)\n",
    "test_data = categorical_assembler.transform(test_data)"
   ]
  },
  {
   "cell_type": "code",
   "execution_count": 24,
   "id": "d95a3dea",
   "metadata": {},
   "outputs": [
    {
     "data": {
      "text/html": [
       "<div>\n",
       "<style scoped>\n",
       "    .dataframe tbody tr th:only-of-type {\n",
       "        vertical-align: middle;\n",
       "    }\n",
       "\n",
       "    .dataframe tbody tr th {\n",
       "        vertical-align: top;\n",
       "    }\n",
       "\n",
       "    .dataframe thead th {\n",
       "        text-align: right;\n",
       "    }\n",
       "</style>\n",
       "<table border=\"1\" class=\"dataframe\">\n",
       "  <thead>\n",
       "    <tr style=\"text-align: right;\">\n",
       "      <th></th>\n",
       "      <th>longitude</th>\n",
       "      <th>latitude</th>\n",
       "      <th>housing_median_age</th>\n",
       "      <th>total_rooms</th>\n",
       "      <th>total_bedrooms</th>\n",
       "      <th>population</th>\n",
       "      <th>households</th>\n",
       "      <th>median_income</th>\n",
       "      <th>median_house_value</th>\n",
       "      <th>ocean_proximity</th>\n",
       "      <th>ocean_proximity_idx</th>\n",
       "      <th>ocean_proximity_ohe</th>\n",
       "      <th>categorical_features</th>\n",
       "    </tr>\n",
       "  </thead>\n",
       "  <tbody>\n",
       "    <tr>\n",
       "      <th>0</th>\n",
       "      <td>-124.35</td>\n",
       "      <td>40.54</td>\n",
       "      <td>52.0</td>\n",
       "      <td>1820.0</td>\n",
       "      <td>300.0</td>\n",
       "      <td>806.0</td>\n",
       "      <td>270.0</td>\n",
       "      <td>3.0147</td>\n",
       "      <td>94600.0</td>\n",
       "      <td>NEAR OCEAN</td>\n",
       "      <td>2.0</td>\n",
       "      <td>(0.0, 0.0, 1.0, 0.0)</td>\n",
       "      <td>(0.0, 0.0, 1.0, 0.0)</td>\n",
       "    </tr>\n",
       "    <tr>\n",
       "      <th>1</th>\n",
       "      <td>-124.30</td>\n",
       "      <td>41.80</td>\n",
       "      <td>19.0</td>\n",
       "      <td>2672.0</td>\n",
       "      <td>552.0</td>\n",
       "      <td>1298.0</td>\n",
       "      <td>478.0</td>\n",
       "      <td>1.9797</td>\n",
       "      <td>85800.0</td>\n",
       "      <td>NEAR OCEAN</td>\n",
       "      <td>2.0</td>\n",
       "      <td>(0.0, 0.0, 1.0, 0.0)</td>\n",
       "      <td>(0.0, 0.0, 1.0, 0.0)</td>\n",
       "    </tr>\n",
       "    <tr>\n",
       "      <th>2</th>\n",
       "      <td>-124.30</td>\n",
       "      <td>41.84</td>\n",
       "      <td>17.0</td>\n",
       "      <td>2677.0</td>\n",
       "      <td>531.0</td>\n",
       "      <td>1244.0</td>\n",
       "      <td>456.0</td>\n",
       "      <td>3.0313</td>\n",
       "      <td>103600.0</td>\n",
       "      <td>NEAR OCEAN</td>\n",
       "      <td>2.0</td>\n",
       "      <td>(0.0, 0.0, 1.0, 0.0)</td>\n",
       "      <td>(0.0, 0.0, 1.0, 0.0)</td>\n",
       "    </tr>\n",
       "    <tr>\n",
       "      <th>3</th>\n",
       "      <td>-124.27</td>\n",
       "      <td>40.69</td>\n",
       "      <td>36.0</td>\n",
       "      <td>2349.0</td>\n",
       "      <td>528.0</td>\n",
       "      <td>1194.0</td>\n",
       "      <td>465.0</td>\n",
       "      <td>2.5179</td>\n",
       "      <td>79000.0</td>\n",
       "      <td>NEAR OCEAN</td>\n",
       "      <td>2.0</td>\n",
       "      <td>(0.0, 0.0, 1.0, 0.0)</td>\n",
       "      <td>(0.0, 0.0, 1.0, 0.0)</td>\n",
       "    </tr>\n",
       "    <tr>\n",
       "      <th>4</th>\n",
       "      <td>-124.26</td>\n",
       "      <td>40.58</td>\n",
       "      <td>52.0</td>\n",
       "      <td>2217.0</td>\n",
       "      <td>394.0</td>\n",
       "      <td>907.0</td>\n",
       "      <td>369.0</td>\n",
       "      <td>2.3571</td>\n",
       "      <td>111400.0</td>\n",
       "      <td>NEAR OCEAN</td>\n",
       "      <td>2.0</td>\n",
       "      <td>(0.0, 0.0, 1.0, 0.0)</td>\n",
       "      <td>(0.0, 0.0, 1.0, 0.0)</td>\n",
       "    </tr>\n",
       "  </tbody>\n",
       "</table>\n",
       "</div>"
      ],
      "text/plain": [
       "   longitude  latitude  housing_median_age  total_rooms  total_bedrooms  \\\n",
       "0    -124.35     40.54                52.0       1820.0           300.0   \n",
       "1    -124.30     41.80                19.0       2672.0           552.0   \n",
       "2    -124.30     41.84                17.0       2677.0           531.0   \n",
       "3    -124.27     40.69                36.0       2349.0           528.0   \n",
       "4    -124.26     40.58                52.0       2217.0           394.0   \n",
       "\n",
       "   population  households  median_income  median_house_value ocean_proximity  \\\n",
       "0       806.0       270.0         3.0147             94600.0      NEAR OCEAN   \n",
       "1      1298.0       478.0         1.9797             85800.0      NEAR OCEAN   \n",
       "2      1244.0       456.0         3.0313            103600.0      NEAR OCEAN   \n",
       "3      1194.0       465.0         2.5179             79000.0      NEAR OCEAN   \n",
       "4       907.0       369.0         2.3571            111400.0      NEAR OCEAN   \n",
       "\n",
       "   ocean_proximity_idx   ocean_proximity_ohe  categorical_features  \n",
       "0                  2.0  (0.0, 0.0, 1.0, 0.0)  (0.0, 0.0, 1.0, 0.0)  \n",
       "1                  2.0  (0.0, 0.0, 1.0, 0.0)  (0.0, 0.0, 1.0, 0.0)  \n",
       "2                  2.0  (0.0, 0.0, 1.0, 0.0)  (0.0, 0.0, 1.0, 0.0)  \n",
       "3                  2.0  (0.0, 0.0, 1.0, 0.0)  (0.0, 0.0, 1.0, 0.0)  \n",
       "4                  2.0  (0.0, 0.0, 1.0, 0.0)  (0.0, 0.0, 1.0, 0.0)  "
      ]
     },
     "metadata": {},
     "output_type": "display_data"
    }
   ],
   "source": [
    "display(pd.DataFrame(train_data.take(5), columns=train_data.columns))"
   ]
  },
  {
   "cell_type": "code",
   "execution_count": 25,
   "id": "cf175cc4",
   "metadata": {},
   "outputs": [
    {
     "data": {
      "text/html": [
       "<div>\n",
       "<style scoped>\n",
       "    .dataframe tbody tr th:only-of-type {\n",
       "        vertical-align: middle;\n",
       "    }\n",
       "\n",
       "    .dataframe tbody tr th {\n",
       "        vertical-align: top;\n",
       "    }\n",
       "\n",
       "    .dataframe thead th {\n",
       "        text-align: right;\n",
       "    }\n",
       "</style>\n",
       "<table border=\"1\" class=\"dataframe\">\n",
       "  <thead>\n",
       "    <tr style=\"text-align: right;\">\n",
       "      <th></th>\n",
       "      <th>longitude</th>\n",
       "      <th>latitude</th>\n",
       "      <th>housing_median_age</th>\n",
       "      <th>total_rooms</th>\n",
       "      <th>total_bedrooms</th>\n",
       "      <th>population</th>\n",
       "      <th>households</th>\n",
       "      <th>median_income</th>\n",
       "      <th>median_house_value</th>\n",
       "      <th>ocean_proximity</th>\n",
       "      <th>ocean_proximity_idx</th>\n",
       "      <th>ocean_proximity_ohe</th>\n",
       "      <th>categorical_features</th>\n",
       "    </tr>\n",
       "  </thead>\n",
       "  <tbody>\n",
       "    <tr>\n",
       "      <th>0</th>\n",
       "      <td>-124.23</td>\n",
       "      <td>40.54</td>\n",
       "      <td>52.0</td>\n",
       "      <td>2694.0</td>\n",
       "      <td>453.0</td>\n",
       "      <td>1152.0</td>\n",
       "      <td>435.0</td>\n",
       "      <td>3.0806</td>\n",
       "      <td>106700.0</td>\n",
       "      <td>NEAR OCEAN</td>\n",
       "      <td>2.0</td>\n",
       "      <td>(0.0, 0.0, 1.0, 0.0)</td>\n",
       "      <td>(0.0, 0.0, 1.0, 0.0)</td>\n",
       "    </tr>\n",
       "    <tr>\n",
       "      <th>1</th>\n",
       "      <td>-124.17</td>\n",
       "      <td>40.74</td>\n",
       "      <td>17.0</td>\n",
       "      <td>2026.0</td>\n",
       "      <td>338.0</td>\n",
       "      <td>873.0</td>\n",
       "      <td>313.0</td>\n",
       "      <td>4.0357</td>\n",
       "      <td>128900.0</td>\n",
       "      <td>NEAR OCEAN</td>\n",
       "      <td>2.0</td>\n",
       "      <td>(0.0, 0.0, 1.0, 0.0)</td>\n",
       "      <td>(0.0, 0.0, 1.0, 0.0)</td>\n",
       "    </tr>\n",
       "    <tr>\n",
       "      <th>2</th>\n",
       "      <td>-124.17</td>\n",
       "      <td>40.75</td>\n",
       "      <td>13.0</td>\n",
       "      <td>2171.0</td>\n",
       "      <td>339.0</td>\n",
       "      <td>951.0</td>\n",
       "      <td>353.0</td>\n",
       "      <td>4.8516</td>\n",
       "      <td>116100.0</td>\n",
       "      <td>NEAR OCEAN</td>\n",
       "      <td>2.0</td>\n",
       "      <td>(0.0, 0.0, 1.0, 0.0)</td>\n",
       "      <td>(0.0, 0.0, 1.0, 0.0)</td>\n",
       "    </tr>\n",
       "    <tr>\n",
       "      <th>3</th>\n",
       "      <td>-124.17</td>\n",
       "      <td>40.79</td>\n",
       "      <td>43.0</td>\n",
       "      <td>2285.0</td>\n",
       "      <td>479.0</td>\n",
       "      <td>1169.0</td>\n",
       "      <td>482.0</td>\n",
       "      <td>1.9688</td>\n",
       "      <td>70500.0</td>\n",
       "      <td>NEAR OCEAN</td>\n",
       "      <td>2.0</td>\n",
       "      <td>(0.0, 0.0, 1.0, 0.0)</td>\n",
       "      <td>(0.0, 0.0, 1.0, 0.0)</td>\n",
       "    </tr>\n",
       "    <tr>\n",
       "      <th>4</th>\n",
       "      <td>-124.16</td>\n",
       "      <td>40.77</td>\n",
       "      <td>35.0</td>\n",
       "      <td>2141.0</td>\n",
       "      <td>438.0</td>\n",
       "      <td>1053.0</td>\n",
       "      <td>434.0</td>\n",
       "      <td>2.8529</td>\n",
       "      <td>85600.0</td>\n",
       "      <td>NEAR OCEAN</td>\n",
       "      <td>2.0</td>\n",
       "      <td>(0.0, 0.0, 1.0, 0.0)</td>\n",
       "      <td>(0.0, 0.0, 1.0, 0.0)</td>\n",
       "    </tr>\n",
       "  </tbody>\n",
       "</table>\n",
       "</div>"
      ],
      "text/plain": [
       "   longitude  latitude  housing_median_age  total_rooms  total_bedrooms  \\\n",
       "0    -124.23     40.54                52.0       2694.0           453.0   \n",
       "1    -124.17     40.74                17.0       2026.0           338.0   \n",
       "2    -124.17     40.75                13.0       2171.0           339.0   \n",
       "3    -124.17     40.79                43.0       2285.0           479.0   \n",
       "4    -124.16     40.77                35.0       2141.0           438.0   \n",
       "\n",
       "   population  households  median_income  median_house_value ocean_proximity  \\\n",
       "0      1152.0       435.0         3.0806            106700.0      NEAR OCEAN   \n",
       "1       873.0       313.0         4.0357            128900.0      NEAR OCEAN   \n",
       "2       951.0       353.0         4.8516            116100.0      NEAR OCEAN   \n",
       "3      1169.0       482.0         1.9688             70500.0      NEAR OCEAN   \n",
       "4      1053.0       434.0         2.8529             85600.0      NEAR OCEAN   \n",
       "\n",
       "   ocean_proximity_idx   ocean_proximity_ohe  categorical_features  \n",
       "0                  2.0  (0.0, 0.0, 1.0, 0.0)  (0.0, 0.0, 1.0, 0.0)  \n",
       "1                  2.0  (0.0, 0.0, 1.0, 0.0)  (0.0, 0.0, 1.0, 0.0)  \n",
       "2                  2.0  (0.0, 0.0, 1.0, 0.0)  (0.0, 0.0, 1.0, 0.0)  \n",
       "3                  2.0  (0.0, 0.0, 1.0, 0.0)  (0.0, 0.0, 1.0, 0.0)  \n",
       "4                  2.0  (0.0, 0.0, 1.0, 0.0)  (0.0, 0.0, 1.0, 0.0)  "
      ]
     },
     "metadata": {},
     "output_type": "display_data"
    }
   ],
   "source": [
    "display(pd.DataFrame(test_data.take(5), columns=test_data.columns))"
   ]
  },
  {
   "cell_type": "markdown",
   "id": "174b70c4",
   "metadata": {},
   "source": [
    "**Трансформация числовых признаков**"
   ]
  },
  {
   "cell_type": "markdown",
   "id": "5fc3ea96",
   "metadata": {},
   "source": [
    "Шкалируем значения с помощью `VectorAssembler` и `StandardScaler`"
   ]
  },
  {
   "cell_type": "code",
   "execution_count": 26,
   "id": "1d141ad8",
   "metadata": {},
   "outputs": [],
   "source": [
    "numerical_assembler = VectorAssembler(inputCols=numerical_features,\n",
    "                                      outputCol=\"numerical_features\")\n",
    "\n",
    "train_data = numerical_assembler.transform(train_data)\n",
    "test_data = numerical_assembler.transform(test_data)"
   ]
  },
  {
   "cell_type": "code",
   "execution_count": 27,
   "id": "25c0503f",
   "metadata": {},
   "outputs": [],
   "source": [
    "standardScaler = StandardScaler(inputCol='numerical_features',\n",
    "                                outputCol=\"numerical_features_scaled\")\n",
    "standardScaler = standardScaler.fit(train_data)\n",
    "train_data = standardScaler.transform(train_data)\n",
    "test_data = standardScaler.transform(test_data)"
   ]
  },
  {
   "cell_type": "code",
   "execution_count": 28,
   "id": "226d317a",
   "metadata": {},
   "outputs": [
    {
     "data": {
      "text/plain": [
       "['longitude',\n",
       " 'latitude',\n",
       " 'housing_median_age',\n",
       " 'total_rooms',\n",
       " 'total_bedrooms',\n",
       " 'population',\n",
       " 'households',\n",
       " 'median_income',\n",
       " 'median_house_value',\n",
       " 'ocean_proximity',\n",
       " 'ocean_proximity_idx',\n",
       " 'ocean_proximity_ohe',\n",
       " 'categorical_features',\n",
       " 'numerical_features',\n",
       " 'numerical_features_scaled']"
      ]
     },
     "execution_count": 28,
     "metadata": {},
     "output_type": "execute_result"
    }
   ],
   "source": [
    "train_data.columns"
   ]
  },
  {
   "cell_type": "code",
   "execution_count": 29,
   "id": "a8c2e7c7",
   "metadata": {},
   "outputs": [
    {
     "data": {
      "text/plain": [
       "['longitude',\n",
       " 'latitude',\n",
       " 'housing_median_age',\n",
       " 'total_rooms',\n",
       " 'total_bedrooms',\n",
       " 'population',\n",
       " 'households',\n",
       " 'median_income',\n",
       " 'median_house_value',\n",
       " 'ocean_proximity',\n",
       " 'ocean_proximity_idx',\n",
       " 'ocean_proximity_ohe',\n",
       " 'categorical_features',\n",
       " 'numerical_features',\n",
       " 'numerical_features_scaled']"
      ]
     },
     "execution_count": 29,
     "metadata": {},
     "output_type": "execute_result"
    }
   ],
   "source": [
    "test_data.columns"
   ]
  },
  {
   "cell_type": "markdown",
   "id": "10937e95",
   "metadata": {},
   "source": [
    "Собираем трансформированные категориальные и числовые признаки с помощью `VectorAssembler`"
   ]
  },
  {
   "cell_type": "code",
   "execution_count": 30,
   "id": "ad718cf6",
   "metadata": {},
   "outputs": [],
   "source": [
    "all_features = ['categorical_features', 'numerical_features_scaled']\n",
    "\n",
    "final_assembler = VectorAssembler(inputCols=all_features, outputCol=\"features\")\n",
    "\n",
    "train_data = final_assembler.transform(train_data)\n",
    "test_data = final_assembler.transform(test_data)"
   ]
  },
  {
   "cell_type": "code",
   "execution_count": 31,
   "id": "956aaed2",
   "metadata": {},
   "outputs": [
    {
     "name": "stdout",
     "output_type": "stream",
     "text": [
      "+--------------------+-------------------------+\n",
      "|categorical_features|numerical_features_scaled|\n",
      "+--------------------+-------------------------+\n",
      "|       (4,[2],[1.0])|     [-61.982225379042...|\n",
      "|       (4,[2],[1.0])|     [-61.957302891957...|\n",
      "|       (4,[2],[1.0])|     [-61.957302891957...|\n",
      "|       (4,[2],[1.0])|     [-61.942349399707...|\n",
      "|       (4,[2],[1.0])|     [-61.937364902290...|\n",
      "+--------------------+-------------------------+\n",
      "only showing top 5 rows\n",
      "\n"
     ]
    }
   ],
   "source": [
    "train_data.select(all_features).show(5) "
   ]
  },
  {
   "cell_type": "code",
   "execution_count": 32,
   "id": "ff39668f",
   "metadata": {},
   "outputs": [
    {
     "name": "stdout",
     "output_type": "stream",
     "text": [
      "+--------------------+-------------------------+\n",
      "|categorical_features|numerical_features_scaled|\n",
      "+--------------------+-------------------------+\n",
      "|       (4,[2],[1.0])|     [-61.922411410039...|\n",
      "|       (4,[2],[1.0])|     [-61.892504425538...|\n",
      "|       (4,[2],[1.0])|     [-61.892504425538...|\n",
      "|       (4,[2],[1.0])|     [-61.892504425538...|\n",
      "|       (4,[2],[1.0])|     [-61.887519928121...|\n",
      "+--------------------+-------------------------+\n",
      "only showing top 5 rows\n",
      "\n"
     ]
    }
   ],
   "source": [
    "test_data.select(all_features).show(5) "
   ]
  },
  {
   "cell_type": "markdown",
   "id": "1af4bfc1",
   "metadata": {},
   "source": [
    "**Данные обработаны, трансформированы и готовы к обучению моделей.**"
   ]
  },
  {
   "cell_type": "markdown",
   "id": "9f0a82f3",
   "metadata": {
    "id": "9f0a82f3"
   },
   "source": [
    "## Обучение моделей"
   ]
  },
  {
   "cell_type": "markdown",
   "id": "5ec58fe3",
   "metadata": {},
   "source": [
    "### Обучение модели линейной регрессии"
   ]
  },
  {
   "cell_type": "markdown",
   "id": "e4808571",
   "metadata": {},
   "source": [
    "Качество моделей будет оцениваться, используя трансформер `RegressionMetrics`."
   ]
  },
  {
   "cell_type": "code",
   "execution_count": 33,
   "id": "23912253",
   "metadata": {
    "scrolled": true
   },
   "outputs": [
    {
     "name": "stderr",
     "output_type": "stream",
     "text": [
      "23/07/11 10:33:57 WARN InstanceBuilder: Failed to load implementation from:dev.ludovic.netlib.blas.VectorBLAS\n",
      "                                                                                \r"
     ]
    },
    {
     "name": "stdout",
     "output_type": "stream",
     "text": [
      "Модель: features\n",
      "RMSE: 67139.3017\n",
      "MAE: 48938.7983\n",
      "R2: 0.6641\n",
      "\n",
      "Модель: numerical_features_scaled\n",
      "RMSE: 68175.0001\n",
      "MAE: 50103.1342\n",
      "R2: 0.6537\n",
      "\n"
     ]
    }
   ],
   "source": [
    "final = []\n",
    "for column in ['features', 'numerical_features_scaled']:\n",
    "\n",
    "    reg = LinearRegression(featuresCol=column, labelCol=target, regParam=1)\n",
    "    model = reg.fit(train_data)\n",
    "\n",
    "    predictions = model.transform(test_data)\n",
    "\n",
    "    results = predictions.select(['prediction', target])\n",
    "\n",
    "    results_collect = results.collect()\n",
    "    results_list = [(float(i[0]), float(i[1])) for i in results_collect]\n",
    "    scoreAndLabels = spark.sparkContext.parallelize(results_list)\n",
    "\n",
    "    metrics = RegressionMetrics(scoreAndLabels)\n",
    "\n",
    "    final.append([\n",
    "        column,\n",
    "        round(metrics.rootMeanSquaredError, 4),\n",
    "        round(metrics.meanAbsoluteError, 4),\n",
    "        round(metrics.r2, 4)\n",
    "    ])\n",
    "\n",
    "    print('Модель:', column)\n",
    "    print('RMSE:', round(metrics.rootMeanSquaredError, 4))\n",
    "    print('MAE:', round(metrics.meanAbsoluteError, 4))\n",
    "    print('R2:', round(metrics.r2, 4))\n",
    "    print()"
   ]
  },
  {
   "cell_type": "markdown",
   "id": "939d8c60",
   "metadata": {},
   "source": [
    "**Модели обучены**"
   ]
  },
  {
   "cell_type": "markdown",
   "id": "757fd103",
   "metadata": {
    "id": "757fd103"
   },
   "source": [
    "## Анализ результатов"
   ]
  },
  {
   "cell_type": "markdown",
   "id": "5a8ecf17",
   "metadata": {},
   "source": [
    "Для оценки качества модели использовались метрики `RMSE`, `MAE` и `R2`.\n",
    "\n",
    "- `RMSE` - корень от средней квадратической ошибки, чем точнее модель, тем больше значение RMSE будет стремиться к нулю;\n",
    "- `MAE` - среднее абсолютное значение, тем больше значение RMSE будет стремиться к нулю;\n",
    "- `R2` - указывает насколько тесной является связь между факторами регрессии и зависимой переменной, чем выше R2, тем точнее модель. "
   ]
  },
  {
   "cell_type": "code",
   "execution_count": 34,
   "id": "3db4cfb4",
   "metadata": {},
   "outputs": [
    {
     "name": "stdout",
     "output_type": "stream",
     "text": [
      "+-----------------+----------+----------+------+\n",
      "|         Признаки|      RMSE|       MAE|    R2|\n",
      "+-----------------+----------+----------+------+\n",
      "|     Все признаки|67139.3017|48938.7983|0.6641|\n",
      "|Числовые признаки|68175.0001|50103.1342|0.6537|\n",
      "+-----------------+----------+----------+------+\n",
      "\n"
     ]
    }
   ],
   "source": [
    "results = spark.createDataFrame(final, ['Признаки', 'RMSE', 'MAE', 'R2'])\n",
    "results = results.replace([\"features\", \"numerical_features_scaled\"],\n",
    "                          [\"Все признаки\", \"Числовые признаки\"], \"Признаки\")\n",
    "results.show()"
   ]
  },
  {
   "cell_type": "markdown",
   "id": "e69d5bea",
   "metadata": {},
   "source": [
    "**Согласно всем метрикам модель со всеми признаками работает чуть точнее**"
   ]
  },
  {
   "cell_type": "markdown",
   "id": "7dc862a6",
   "metadata": {},
   "source": [
    "## Альтернативное решение используя Pipeline"
   ]
  },
  {
   "cell_type": "markdown",
   "id": "d08a1a62",
   "metadata": {},
   "source": [
    "Создаем шаги для Pipe"
   ]
  },
  {
   "cell_type": "code",
   "execution_count": 35,
   "id": "869a62cb",
   "metadata": {},
   "outputs": [],
   "source": [
    "stages = []\n",
    "\n",
    "indexer = StringIndexer(inputCols=categorical_features,\n",
    "                        outputCols=[c + '_idx' for c in categorical_features])\n",
    "\n",
    "encoder = OneHotEncoder(\n",
    "    inputCols=[column + '_idx' for column in categorical_features],\n",
    "    outputCols=[column + '_ohe' for column in categorical_features])\n",
    "\n",
    "categorical_assembler = \\\n",
    "        VectorAssembler(inputCols=[column+'_ohe' for column in categorical_features],\n",
    "                                        outputCol=\"categorical_features\")\n",
    "\n",
    "numerical_assembler = VectorAssembler(inputCols=numerical_features,\n",
    "                                      outputCol=\"numerical_features\")\n",
    "\n",
    "standardScaler = StandardScaler(inputCol='numerical_features',\n",
    "                                outputCol=\"numerical_features_scaled\")\n",
    "\n",
    "all_features = ['categorical_features', 'numerical_features_scaled']\n",
    "final_assembler = VectorAssembler(inputCols=all_features, outputCol=\"features\")\n",
    "\n",
    "stages += [indexer, encoder, categorical_assembler, numerical_assembler, \n",
    "          standardScaler, final_assembler]\n"
   ]
  },
  {
   "cell_type": "markdown",
   "id": "ff97be31",
   "metadata": {},
   "source": [
    "Разделяем на train и test"
   ]
  },
  {
   "cell_type": "code",
   "execution_count": 36,
   "id": "4d3b96c8",
   "metadata": {},
   "outputs": [],
   "source": [
    "train_data_pipe, test_data_pipe = data.randomSplit([.75, .25], seed=RANDOM)"
   ]
  },
  {
   "cell_type": "markdown",
   "id": "e8216733",
   "metadata": {},
   "source": [
    "Обучаем модель"
   ]
  },
  {
   "cell_type": "code",
   "execution_count": 37,
   "id": "30245962",
   "metadata": {},
   "outputs": [
    {
     "name": "stdout",
     "output_type": "stream",
     "text": [
      "Модель: features\n",
      "RMSE: 67139.3017\n",
      "MAE: 48938.7983\n",
      "R2: 0.6641\n",
      "\n",
      "Модель: numerical_features_scaled\n",
      "RMSE: 68175.0001\n",
      "MAE: 50103.1342\n",
      "R2: 0.6537\n",
      "\n"
     ]
    }
   ],
   "source": [
    "final_pipe = []\n",
    "for column in ['features', 'numerical_features_scaled']:\n",
    "\n",
    "    reg = LinearRegression(featuresCol=column, labelCol=target, regParam=1)\n",
    "    stages += [reg]\n",
    "    pipeline = Pipeline(stages=stages)\n",
    "    \n",
    "    model = pipeline.fit(train_data_pipe)\n",
    "\n",
    "    predictions = model.transform(test_data_pipe)\n",
    "\n",
    "    results = predictions.select(['prediction', target])\n",
    "\n",
    "    results_collect = results.collect()\n",
    "    results_list = [(float(i[0]), float(i[1])) for i in results_collect]\n",
    "    scoreAndLabels = spark.sparkContext.parallelize(results_list)\n",
    "\n",
    "    metrics = RegressionMetrics(scoreAndLabels)\n",
    "\n",
    "    final_pipe.append([\n",
    "        column,\n",
    "        round(metrics.rootMeanSquaredError, 4),\n",
    "        round(metrics.meanAbsoluteError, 4),\n",
    "        round(metrics.r2, 4)\n",
    "    ])\n",
    "\n",
    "    print('Модель:', column)\n",
    "    print('RMSE:', round(metrics.rootMeanSquaredError, 4))\n",
    "    print('MAE:', round(metrics.meanAbsoluteError, 4))\n",
    "    print('R2:', round(metrics.r2, 4))\n",
    "    print()\n",
    "    stages.remove(reg)"
   ]
  },
  {
   "cell_type": "markdown",
   "id": "28b0fdfd",
   "metadata": {},
   "source": [
    "Результаты"
   ]
  },
  {
   "cell_type": "code",
   "execution_count": 38,
   "id": "644e1f1b",
   "metadata": {},
   "outputs": [
    {
     "name": "stdout",
     "output_type": "stream",
     "text": [
      "+-----------------+----------+----------+------+\n",
      "|         Признаки|      RMSE|       MAE|    R2|\n",
      "+-----------------+----------+----------+------+\n",
      "|     Все признаки|67139.3017|48938.7983|0.6641|\n",
      "|Числовые признаки|68175.0001|50103.1342|0.6537|\n",
      "+-----------------+----------+----------+------+\n",
      "\n"
     ]
    }
   ],
   "source": [
    "results_pipe = spark.createDataFrame(final_pipe, ['Признаки', 'RMSE', 'MAE', 'R2'])\n",
    "results_pipe = results_pipe.replace([\"features\", \"numerical_features_scaled\"],\n",
    "                          [\"Все признаки\", \"Числовые признаки\"], \"Признаки\")\n",
    "results_pipe.show()"
   ]
  },
  {
   "cell_type": "markdown",
   "id": "4dce8f86",
   "metadata": {},
   "source": [
    "**Результаты получились точно такие же как и без Pipeline**"
   ]
  },
  {
   "cell_type": "markdown",
   "id": "257e6f58",
   "metadata": {},
   "source": [
    "Остановка Spark-сессии"
   ]
  },
  {
   "cell_type": "code",
   "execution_count": 39,
   "id": "fd6554b5",
   "metadata": {},
   "outputs": [],
   "source": [
    "spark.stop()"
   ]
  },
  {
   "cell_type": "markdown",
   "id": "a5a90d44",
   "metadata": {},
   "source": [
    "## Вывод"
   ]
  },
  {
   "cell_type": "markdown",
   "id": "bb06b98c",
   "metadata": {},
   "source": [
    "В результате исследования было сделано:\n",
    "1. Инициализирована Spark сессия, прочитаны данные.\n",
    "2. Обработаны пропуски. Пропуски заменены путем выявленного соотношения между общим количеством комнат и количеством спален.\n",
    "3. Преобразованы признаки (`OHE` и `StandardScaler`).\n",
    "4. Обучена модель линейной регрессии в двух вариантах:\n",
    "   - со всеми признаками;\n",
    "   - только с числовыми признаками.\n",
    "5. Альтернативным вариантом обучены модели с использованием Pipeline. Результаты аналогичные.\n",
    "\n",
    "Согласно полученным метрикам можно сделать вывод, что модель со всеми признаками чуть лучше."
   ]
  }
 ],
 "metadata": {
  "ExecuteTimeLog": [
   {
    "duration": 770,
    "start_time": "2023-02-08T06:03:55.900Z"
   },
   {
    "duration": 20504,
    "start_time": "2023-02-08T06:04:26.909Z"
   },
   {
    "duration": 591,
    "start_time": "2023-02-08T06:04:54.167Z"
   },
   {
    "duration": 9408,
    "start_time": "2023-02-08T06:05:10.213Z"
   },
   {
    "duration": 45,
    "start_time": "2023-02-08T06:06:48.588Z"
   },
   {
    "duration": 3,
    "start_time": "2023-02-08T06:07:25.405Z"
   },
   {
    "duration": 8,
    "start_time": "2023-02-08T06:08:17.187Z"
   },
   {
    "duration": 83,
    "start_time": "2023-02-08T06:08:30.296Z"
   },
   {
    "duration": 5357,
    "start_time": "2023-02-08T06:08:34.483Z"
   },
   {
    "duration": 8,
    "start_time": "2023-02-08T06:09:50.244Z"
   },
   {
    "duration": 728,
    "start_time": "2023-02-08T06:10:07.844Z"
   },
   {
    "duration": 15580,
    "start_time": "2023-02-08T06:10:12.953Z"
   },
   {
    "duration": 9317,
    "start_time": "2023-02-08T06:10:28.536Z"
   },
   {
    "duration": 92,
    "start_time": "2023-02-08T06:10:37.854Z"
   },
   {
    "duration": 5607,
    "start_time": "2023-02-08T06:10:37.949Z"
   },
   {
    "duration": 79,
    "start_time": "2023-02-08T06:18:00.856Z"
   },
   {
    "duration": 505,
    "start_time": "2023-02-08T06:18:12.945Z"
   },
   {
    "duration": 3,
    "start_time": "2023-02-08T06:18:15.485Z"
   },
   {
    "duration": 3,
    "start_time": "2023-02-08T06:18:29.435Z"
   },
   {
    "duration": 9,
    "start_time": "2023-02-08T06:18:51.960Z"
   },
   {
    "duration": 8,
    "start_time": "2023-02-08T06:18:58.461Z"
   },
   {
    "duration": 282,
    "start_time": "2023-02-08T06:19:07.465Z"
   },
   {
    "duration": 3,
    "start_time": "2023-02-08T06:19:08.023Z"
   },
   {
    "duration": 42,
    "start_time": "2023-02-08T06:45:47.966Z"
   },
   {
    "duration": 3478,
    "start_time": "2023-02-08T06:46:06.246Z"
   },
   {
    "duration": 5220,
    "start_time": "2023-02-08T06:47:43.334Z"
   },
   {
    "duration": 19,
    "start_time": "2023-02-08T06:47:49.985Z"
   },
   {
    "duration": 14,
    "start_time": "2023-02-08T06:48:55.486Z"
   },
   {
    "duration": 603,
    "start_time": "2023-02-08T06:50:39.443Z"
   },
   {
    "duration": 8,
    "start_time": "2023-02-08T06:50:41.349Z"
   },
   {
    "duration": 2436,
    "start_time": "2023-02-08T06:50:42.705Z"
   },
   {
    "duration": 197,
    "start_time": "2023-02-08T06:50:46.927Z"
   },
   {
    "duration": 3,
    "start_time": "2023-02-08T06:50:47.653Z"
   },
   {
    "duration": 3,
    "start_time": "2023-02-08T06:50:48.770Z"
   },
   {
    "duration": 383,
    "start_time": "2023-02-08T06:50:49.577Z"
   },
   {
    "duration": 19,
    "start_time": "2023-02-08T06:51:05.743Z"
   },
   {
    "duration": 2231,
    "start_time": "2023-02-08T06:51:07.074Z"
   },
   {
    "duration": 250,
    "start_time": "2023-02-08T06:51:11.808Z"
   },
   {
    "duration": 2971,
    "start_time": "2023-02-08T06:51:27.756Z"
   },
   {
    "duration": 13,
    "start_time": "2023-02-08T06:51:31.245Z"
   },
   {
    "duration": 2835,
    "start_time": "2023-02-08T06:52:11.820Z"
   },
   {
    "duration": 13,
    "start_time": "2023-02-08T06:52:15.454Z"
   },
   {
    "duration": 12,
    "start_time": "2023-02-08T06:52:21.805Z"
   },
   {
    "duration": 213,
    "start_time": "2023-02-08T06:54:19.366Z"
   },
   {
    "duration": 218,
    "start_time": "2023-02-08T06:55:20.848Z"
   },
   {
    "duration": 4,
    "start_time": "2023-02-08T07:20:01.251Z"
   },
   {
    "duration": 2617,
    "start_time": "2023-02-08T07:20:09.018Z"
   },
   {
    "duration": 14,
    "start_time": "2023-02-08T07:20:12.726Z"
   },
   {
    "duration": 16,
    "start_time": "2023-02-08T07:20:34.405Z"
   },
   {
    "duration": 2739,
    "start_time": "2023-02-08T07:21:27.353Z"
   },
   {
    "duration": 15,
    "start_time": "2023-02-08T07:21:30.605Z"
   },
   {
    "duration": 2889,
    "start_time": "2023-02-08T07:22:18.961Z"
   },
   {
    "duration": 16,
    "start_time": "2023-02-08T07:22:23.001Z"
   },
   {
    "duration": 2283,
    "start_time": "2023-02-08T07:22:47.947Z"
   },
   {
    "duration": 22,
    "start_time": "2023-02-08T07:22:51.110Z"
   },
   {
    "duration": 2195,
    "start_time": "2023-02-08T07:24:38.443Z"
   },
   {
    "duration": 14,
    "start_time": "2023-02-08T07:24:40.895Z"
   },
   {
    "duration": 2540,
    "start_time": "2023-02-08T07:25:09.213Z"
   },
   {
    "duration": 7,
    "start_time": "2023-02-08T07:25:34.785Z"
   },
   {
    "duration": 8,
    "start_time": "2023-02-08T07:25:54.240Z"
   },
   {
    "duration": 6,
    "start_time": "2023-02-08T07:26:13.394Z"
   },
   {
    "duration": 2387,
    "start_time": "2023-02-08T07:28:32.447Z"
   },
   {
    "duration": 12,
    "start_time": "2023-02-08T07:28:38.286Z"
   },
   {
    "duration": 1931,
    "start_time": "2023-02-08T07:29:54.604Z"
   },
   {
    "duration": 8,
    "start_time": "2023-02-08T07:29:57.027Z"
   },
   {
    "duration": 5,
    "start_time": "2023-02-08T07:30:25.801Z"
   },
   {
    "duration": 5,
    "start_time": "2023-02-08T07:30:50.962Z"
   },
   {
    "duration": 4,
    "start_time": "2023-02-08T07:32:59.935Z"
   },
   {
    "duration": 171,
    "start_time": "2023-02-08T07:33:37.854Z"
   },
   {
    "duration": 17,
    "start_time": "2023-02-08T07:35:46.529Z"
   },
   {
    "duration": 1671,
    "start_time": "2023-02-08T07:35:48.876Z"
   },
   {
    "duration": 2,
    "start_time": "2023-02-08T07:42:37.496Z"
   },
   {
    "duration": 3,
    "start_time": "2023-02-08T07:42:42.513Z"
   },
   {
    "duration": 3,
    "start_time": "2023-02-08T07:42:49.777Z"
   },
   {
    "duration": 9,
    "start_time": "2023-02-08T07:42:50.597Z"
   },
   {
    "duration": 3,
    "start_time": "2023-02-08T07:43:23.219Z"
   },
   {
    "duration": 4,
    "start_time": "2023-02-08T07:43:23.703Z"
   },
   {
    "duration": 1461,
    "start_time": "2023-02-08T07:50:26.495Z"
   },
   {
    "duration": 430,
    "start_time": "2023-02-08T07:52:04.300Z"
   },
   {
    "duration": 136,
    "start_time": "2023-02-08T07:52:17.513Z"
   },
   {
    "duration": 742,
    "start_time": "2023-02-08T07:52:37.127Z"
   },
   {
    "duration": 15263,
    "start_time": "2023-02-08T07:52:38.978Z"
   },
   {
    "duration": 8986,
    "start_time": "2023-02-08T07:52:54.244Z"
   },
   {
    "duration": 96,
    "start_time": "2023-02-08T07:53:03.232Z"
   },
   {
    "duration": 5811,
    "start_time": "2023-02-08T07:53:03.331Z"
   },
   {
    "duration": 5383,
    "start_time": "2023-02-08T07:53:10.748Z"
   },
   {
    "duration": 16,
    "start_time": "2023-02-08T07:53:16.133Z"
   },
   {
    "duration": 8,
    "start_time": "2023-02-08T07:53:16.151Z"
   },
   {
    "duration": 448,
    "start_time": "2023-02-08T07:53:22.508Z"
   },
   {
    "duration": 37,
    "start_time": "2023-02-08T07:53:26.437Z"
   },
   {
    "duration": 85,
    "start_time": "2023-02-08T07:53:27.715Z"
   },
   {
    "duration": 2866,
    "start_time": "2023-02-08T07:53:35.214Z"
   },
   {
    "duration": 3,
    "start_time": "2023-02-08T07:53:43.233Z"
   },
   {
    "duration": 1296,
    "start_time": "2023-02-08T07:53:44.845Z"
   },
   {
    "duration": 136,
    "start_time": "2023-02-08T07:55:28.233Z"
   },
   {
    "duration": 777,
    "start_time": "2023-02-08T07:55:45.295Z"
   },
   {
    "duration": 15293,
    "start_time": "2023-02-08T07:55:46.867Z"
   },
   {
    "duration": 9059,
    "start_time": "2023-02-08T07:56:02.163Z"
   },
   {
    "duration": 32,
    "start_time": "2023-02-08T07:56:11.224Z"
   },
   {
    "duration": 5675,
    "start_time": "2023-02-08T07:56:11.258Z"
   },
   {
    "duration": 5586,
    "start_time": "2023-02-08T07:56:16.935Z"
   },
   {
    "duration": 15,
    "start_time": "2023-02-08T07:56:22.523Z"
   },
   {
    "duration": 6,
    "start_time": "2023-02-08T07:56:22.539Z"
   },
   {
    "duration": 501,
    "start_time": "2023-02-08T07:56:22.546Z"
   },
   {
    "duration": 81,
    "start_time": "2023-02-08T07:56:23.049Z"
   },
   {
    "duration": 3114,
    "start_time": "2023-02-08T07:56:23.132Z"
   },
   {
    "duration": 3,
    "start_time": "2023-02-08T07:56:26.248Z"
   },
   {
    "duration": 1837,
    "start_time": "2023-02-08T07:56:29.808Z"
   },
   {
    "duration": 672,
    "start_time": "2023-02-08T07:58:48.028Z"
   },
   {
    "duration": 52,
    "start_time": "2023-02-08T08:01:29.666Z"
   },
   {
    "duration": 403,
    "start_time": "2023-02-08T08:01:30.668Z"
   },
   {
    "duration": 77,
    "start_time": "2023-02-08T08:02:15.772Z"
   },
   {
    "duration": 251,
    "start_time": "2023-02-08T08:02:20.517Z"
   },
   {
    "duration": 202,
    "start_time": "2023-02-08T08:03:18.050Z"
   },
   {
    "duration": 32,
    "start_time": "2023-02-08T08:07:54.886Z"
   },
   {
    "duration": 1060,
    "start_time": "2023-02-08T08:08:23.070Z"
   },
   {
    "duration": 7,
    "start_time": "2023-02-08T08:08:39.780Z"
   },
   {
    "duration": 5,
    "start_time": "2023-02-08T08:08:46.524Z"
   },
   {
    "duration": 4,
    "start_time": "2023-02-08T08:08:56.758Z"
   },
   {
    "duration": 23,
    "start_time": "2023-02-08T08:10:38.373Z"
   },
   {
    "duration": 401,
    "start_time": "2023-02-08T08:10:39.033Z"
   },
   {
    "duration": 287,
    "start_time": "2023-02-08T08:10:45.340Z"
   },
   {
    "duration": 148,
    "start_time": "2023-02-08T08:11:21.980Z"
   },
   {
    "duration": 692,
    "start_time": "2023-02-08T08:11:45.375Z"
   },
   {
    "duration": 15274,
    "start_time": "2023-02-08T08:11:46.674Z"
   },
   {
    "duration": 8972,
    "start_time": "2023-02-08T08:12:01.951Z"
   },
   {
    "duration": 32,
    "start_time": "2023-02-08T08:12:10.924Z"
   },
   {
    "duration": 5608,
    "start_time": "2023-02-08T08:12:11.020Z"
   },
   {
    "duration": 5302,
    "start_time": "2023-02-08T08:12:16.630Z"
   },
   {
    "duration": 20,
    "start_time": "2023-02-08T08:12:21.934Z"
   },
   {
    "duration": 70,
    "start_time": "2023-02-08T08:12:21.956Z"
   },
   {
    "duration": 516,
    "start_time": "2023-02-08T08:12:22.028Z"
   },
   {
    "duration": 94,
    "start_time": "2023-02-08T08:12:22.546Z"
   },
   {
    "duration": 3092,
    "start_time": "2023-02-08T08:12:22.643Z"
   },
   {
    "duration": 3,
    "start_time": "2023-02-08T08:12:25.737Z"
   },
   {
    "duration": 1319,
    "start_time": "2023-02-08T08:12:25.741Z"
   },
   {
    "duration": 360,
    "start_time": "2023-02-08T08:12:27.062Z"
   },
   {
    "duration": 320,
    "start_time": "2023-02-08T08:12:27.424Z"
   },
   {
    "duration": 282,
    "start_time": "2023-02-08T08:12:27.745Z"
   },
   {
    "duration": 91,
    "start_time": "2023-02-08T08:12:28.029Z"
   },
   {
    "duration": 338,
    "start_time": "2023-02-08T08:12:28.122Z"
   },
   {
    "duration": 74,
    "start_time": "2023-02-08T08:12:28.462Z"
   },
   {
    "duration": 1105,
    "start_time": "2023-02-08T08:12:28.538Z"
   },
   {
    "duration": 5,
    "start_time": "2023-02-08T08:12:29.645Z"
   },
   {
    "duration": 77,
    "start_time": "2023-02-08T08:12:29.652Z"
   },
   {
    "duration": 398,
    "start_time": "2023-02-08T08:12:29.731Z"
   },
   {
    "duration": 22,
    "start_time": "2023-02-08T08:16:09.426Z"
   },
   {
    "duration": 2678,
    "start_time": "2023-02-08T08:16:11.342Z"
   },
   {
    "duration": 12,
    "start_time": "2023-02-08T08:35:01.249Z"
   },
   {
    "duration": 85,
    "start_time": "2023-02-08T08:35:36.006Z"
   },
   {
    "duration": 4,
    "start_time": "2023-02-08T08:36:06.019Z"
   },
   {
    "duration": 152,
    "start_time": "2023-02-08T08:36:11.057Z"
   },
   {
    "duration": 5,
    "start_time": "2023-02-08T08:36:50.756Z"
   },
   {
    "duration": 130,
    "start_time": "2023-02-08T08:36:55.164Z"
   },
   {
    "duration": 9996,
    "start_time": "2023-02-08T08:39:21.837Z"
   },
   {
    "duration": 8,
    "start_time": "2023-02-08T08:40:18.903Z"
   },
   {
    "duration": 3,
    "start_time": "2023-02-08T08:40:28.537Z"
   },
   {
    "duration": 9,
    "start_time": "2023-02-08T08:40:48.686Z"
   },
   {
    "duration": 12,
    "start_time": "2023-02-08T08:41:36.229Z"
   },
   {
    "duration": 1704,
    "start_time": "2023-02-08T08:41:36.839Z"
   },
   {
    "duration": 7093,
    "start_time": "2023-02-08T08:41:40.535Z"
   },
   {
    "duration": 4,
    "start_time": "2023-02-08T08:41:47.630Z"
   },
   {
    "duration": 15,
    "start_time": "2023-02-08T08:41:47.635Z"
   },
   {
    "duration": 5014,
    "start_time": "2023-02-08T09:07:35.942Z"
   },
   {
    "duration": 4,
    "start_time": "2023-02-08T09:07:50.172Z"
   },
   {
    "duration": 10,
    "start_time": "2023-02-08T09:07:51.020Z"
   },
   {
    "duration": 4967,
    "start_time": "2023-02-08T09:11:22.480Z"
   },
   {
    "duration": 5229,
    "start_time": "2023-02-08T09:12:12.601Z"
   },
   {
    "duration": 4,
    "start_time": "2023-02-08T09:12:46.419Z"
   },
   {
    "duration": 4636,
    "start_time": "2023-02-08T09:21:24.790Z"
   },
   {
    "duration": 3,
    "start_time": "2023-02-08T09:21:36.768Z"
   },
   {
    "duration": 10,
    "start_time": "2023-02-08T09:22:35.263Z"
   },
   {
    "duration": 9,
    "start_time": "2023-02-08T09:22:43.453Z"
   },
   {
    "duration": 13,
    "start_time": "2023-02-08T09:22:56.100Z"
   },
   {
    "duration": 9,
    "start_time": "2023-02-08T09:23:16.613Z"
   },
   {
    "duration": 13,
    "start_time": "2023-02-08T09:23:57.385Z"
   },
   {
    "duration": 1716,
    "start_time": "2023-02-08T09:24:06.345Z"
   },
   {
    "duration": 3419,
    "start_time": "2023-02-08T09:24:39.144Z"
   },
   {
    "duration": 4,
    "start_time": "2023-02-08T09:24:52.128Z"
   },
   {
    "duration": 3611,
    "start_time": "2023-02-08T09:25:58.010Z"
   },
   {
    "duration": 6,
    "start_time": "2023-02-08T09:26:05.487Z"
   },
   {
    "duration": 1824,
    "start_time": "2023-02-08T09:26:34.899Z"
   },
   {
    "duration": 3531,
    "start_time": "2023-02-08T09:26:54.143Z"
   },
   {
    "duration": 4,
    "start_time": "2023-02-08T09:27:01.346Z"
   },
   {
    "duration": 3069,
    "start_time": "2023-02-08T09:27:40.020Z"
   },
   {
    "duration": 4,
    "start_time": "2023-02-08T09:27:51.213Z"
   },
   {
    "duration": 9,
    "start_time": "2023-02-08T09:27:56.199Z"
   },
   {
    "duration": 4,
    "start_time": "2023-02-08T09:32:21.750Z"
   },
   {
    "duration": 2,
    "start_time": "2023-02-08T09:34:10.396Z"
   },
   {
    "duration": 80,
    "start_time": "2023-02-08T09:34:11.012Z"
   },
   {
    "duration": 1026,
    "start_time": "2023-02-08T09:34:44.349Z"
   },
   {
    "duration": 1021,
    "start_time": "2023-02-08T09:34:45.825Z"
   },
   {
    "duration": 10,
    "start_time": "2023-02-08T09:34:56.169Z"
   },
   {
    "duration": 8,
    "start_time": "2023-02-08T09:35:48.878Z"
   },
   {
    "duration": 891,
    "start_time": "2023-02-08T09:35:49.463Z"
   },
   {
    "duration": 743,
    "start_time": "2023-02-08T09:35:50.356Z"
   },
   {
    "duration": 433,
    "start_time": "2023-02-08T09:35:51.100Z"
   },
   {
    "duration": 379,
    "start_time": "2023-02-08T09:35:51.688Z"
   },
   {
    "duration": 420,
    "start_time": "2023-02-08T09:35:52.713Z"
   },
   {
    "duration": 433,
    "start_time": "2023-02-08T09:35:54.241Z"
   },
   {
    "duration": 3010,
    "start_time": "2023-02-08T09:40:37.355Z"
   },
   {
    "duration": 33,
    "start_time": "2023-02-08T09:43:45.049Z"
   },
   {
    "duration": 9,
    "start_time": "2023-02-08T09:43:55.395Z"
   },
   {
    "duration": 86,
    "start_time": "2023-02-08T09:44:15.461Z"
   },
   {
    "duration": 3442,
    "start_time": "2023-02-08T09:46:56.580Z"
   },
   {
    "duration": 10,
    "start_time": "2023-02-08T09:47:06.020Z"
   },
   {
    "duration": 18,
    "start_time": "2023-02-08T09:47:21.764Z"
   },
   {
    "duration": 4,
    "start_time": "2023-02-08T09:47:22.491Z"
   },
   {
    "duration": 40,
    "start_time": "2023-02-08T09:47:23.441Z"
   },
   {
    "duration": 41,
    "start_time": "2023-02-08T09:51:48.443Z"
   },
   {
    "duration": 4,
    "start_time": "2023-02-08T09:51:49.124Z"
   },
   {
    "duration": 60,
    "start_time": "2023-02-08T09:51:50.090Z"
   },
   {
    "duration": 29,
    "start_time": "2023-02-08T09:52:39.787Z"
   },
   {
    "duration": 120,
    "start_time": "2023-02-08T09:52:53.705Z"
   },
   {
    "duration": 700,
    "start_time": "2023-02-08T09:54:16.675Z"
   },
   {
    "duration": 15457,
    "start_time": "2023-02-08T09:54:20.701Z"
   },
   {
    "duration": 8777,
    "start_time": "2023-02-08T09:54:36.161Z"
   },
   {
    "duration": 101,
    "start_time": "2023-02-08T09:54:44.940Z"
   },
   {
    "duration": 5695,
    "start_time": "2023-02-08T09:54:45.044Z"
   },
   {
    "duration": 5585,
    "start_time": "2023-02-08T09:54:50.741Z"
   },
   {
    "duration": 19,
    "start_time": "2023-02-08T09:54:56.328Z"
   },
   {
    "duration": 7,
    "start_time": "2023-02-08T09:54:56.349Z"
   },
   {
    "duration": 482,
    "start_time": "2023-02-08T09:54:56.358Z"
   },
   {
    "duration": 83,
    "start_time": "2023-02-08T09:54:56.842Z"
   },
   {
    "duration": 3179,
    "start_time": "2023-02-08T09:54:56.928Z"
   },
   {
    "duration": 3,
    "start_time": "2023-02-08T09:55:00.122Z"
   },
   {
    "duration": 1297,
    "start_time": "2023-02-08T09:55:00.127Z"
   },
   {
    "duration": 300,
    "start_time": "2023-02-08T09:55:01.426Z"
   },
   {
    "duration": 315,
    "start_time": "2023-02-08T09:55:01.728Z"
   },
   {
    "duration": 297,
    "start_time": "2023-02-08T09:55:02.045Z"
   },
   {
    "duration": 92,
    "start_time": "2023-02-08T09:55:02.344Z"
   },
   {
    "duration": 411,
    "start_time": "2023-02-08T09:55:02.439Z"
   },
   {
    "duration": 88,
    "start_time": "2023-02-08T09:55:02.852Z"
   },
   {
    "duration": 1111,
    "start_time": "2023-02-08T09:55:02.942Z"
   },
   {
    "duration": 6,
    "start_time": "2023-02-08T09:55:04.054Z"
   },
   {
    "duration": 32,
    "start_time": "2023-02-08T09:55:04.122Z"
   },
   {
    "duration": 412,
    "start_time": "2023-02-08T09:55:04.221Z"
   },
   {
    "duration": 91,
    "start_time": "2023-02-08T09:55:04.635Z"
   },
   {
    "duration": 2641,
    "start_time": "2023-02-08T09:55:04.728Z"
   },
   {
    "duration": 10025,
    "start_time": "2023-02-08T09:55:07.421Z"
   },
   {
    "duration": 235,
    "start_time": "2023-02-08T09:55:17.520Z"
   },
   {
    "duration": 5922,
    "start_time": "2023-02-08T09:55:50.905Z"
   },
   {
    "duration": 5302,
    "start_time": "2023-02-08T09:57:14.024Z"
   },
   {
    "duration": 708,
    "start_time": "2023-02-08T09:57:59.364Z"
   },
   {
    "duration": 16047,
    "start_time": "2023-02-08T09:58:00.704Z"
   },
   {
    "duration": 9381,
    "start_time": "2023-02-08T09:58:16.754Z"
   },
   {
    "duration": 92,
    "start_time": "2023-02-08T09:58:26.138Z"
   },
   {
    "duration": 5892,
    "start_time": "2023-02-08T09:58:26.233Z"
   },
   {
    "duration": 5729,
    "start_time": "2023-02-08T09:58:32.127Z"
   },
   {
    "duration": 80,
    "start_time": "2023-02-08T09:58:37.858Z"
   },
   {
    "duration": 6,
    "start_time": "2023-02-08T09:58:37.939Z"
   },
   {
    "duration": 574,
    "start_time": "2023-02-08T09:58:37.947Z"
   },
   {
    "duration": 101,
    "start_time": "2023-02-08T09:58:38.523Z"
   },
   {
    "duration": 3202,
    "start_time": "2023-02-08T09:58:38.627Z"
   },
   {
    "duration": 4,
    "start_time": "2023-02-08T09:58:41.832Z"
   },
   {
    "duration": 1412,
    "start_time": "2023-02-08T09:58:41.838Z"
   },
   {
    "duration": 377,
    "start_time": "2023-02-08T09:58:43.252Z"
   },
   {
    "duration": 403,
    "start_time": "2023-02-08T09:58:43.632Z"
   },
   {
    "duration": 299,
    "start_time": "2023-02-08T09:58:44.036Z"
   },
   {
    "duration": 101,
    "start_time": "2023-02-08T09:58:44.337Z"
   },
   {
    "duration": 412,
    "start_time": "2023-02-08T09:58:44.440Z"
   },
   {
    "duration": 80,
    "start_time": "2023-02-08T09:58:44.854Z"
   },
   {
    "duration": 1285,
    "start_time": "2023-02-08T09:58:44.937Z"
   },
   {
    "duration": 9,
    "start_time": "2023-02-08T09:58:46.224Z"
   },
   {
    "duration": 24,
    "start_time": "2023-02-08T09:58:46.235Z"
   },
   {
    "duration": 363,
    "start_time": "2023-02-08T09:58:46.321Z"
   },
   {
    "duration": 44,
    "start_time": "2023-02-08T09:58:46.686Z"
   },
   {
    "duration": 3015,
    "start_time": "2023-02-08T09:58:46.732Z"
   },
   {
    "duration": 10900,
    "start_time": "2023-02-08T09:58:49.750Z"
   },
   {
    "duration": 298,
    "start_time": "2023-02-08T09:59:00.722Z"
   },
   {
    "duration": 775,
    "start_time": "2023-02-08T10:26:52.898Z"
   },
   {
    "duration": 15641,
    "start_time": "2023-02-08T10:26:53.819Z"
   },
   {
    "duration": 8598,
    "start_time": "2023-02-08T10:27:09.463Z"
   },
   {
    "duration": 29,
    "start_time": "2023-02-08T10:27:18.122Z"
   },
   {
    "duration": 5794,
    "start_time": "2023-02-08T10:27:18.154Z"
   },
   {
    "duration": 5505,
    "start_time": "2023-02-08T10:27:23.949Z"
   },
   {
    "duration": 18,
    "start_time": "2023-02-08T10:27:29.521Z"
   },
   {
    "duration": 5,
    "start_time": "2023-02-08T10:27:29.541Z"
   },
   {
    "duration": 585,
    "start_time": "2023-02-08T10:27:29.548Z"
   },
   {
    "duration": 108,
    "start_time": "2023-02-08T10:27:30.135Z"
   },
   {
    "duration": 3280,
    "start_time": "2023-02-08T10:27:30.247Z"
   },
   {
    "duration": 3,
    "start_time": "2023-02-08T10:27:33.529Z"
   },
   {
    "duration": 1387,
    "start_time": "2023-02-08T10:27:33.534Z"
   },
   {
    "duration": 320,
    "start_time": "2023-02-08T10:27:34.923Z"
   },
   {
    "duration": 390,
    "start_time": "2023-02-08T10:27:35.244Z"
   },
   {
    "duration": 310,
    "start_time": "2023-02-08T10:27:35.635Z"
   },
   {
    "duration": 109,
    "start_time": "2023-02-08T10:27:35.947Z"
   },
   {
    "duration": 483,
    "start_time": "2023-02-08T10:27:36.058Z"
   },
   {
    "duration": 90,
    "start_time": "2023-02-08T10:27:36.543Z"
   },
   {
    "duration": 1189,
    "start_time": "2023-02-08T10:27:36.635Z"
   },
   {
    "duration": 9,
    "start_time": "2023-02-08T10:27:37.825Z"
   },
   {
    "duration": 87,
    "start_time": "2023-02-08T10:27:37.836Z"
   },
   {
    "duration": 370,
    "start_time": "2023-02-08T10:27:37.926Z"
   },
   {
    "duration": 49,
    "start_time": "2023-02-08T10:27:38.297Z"
   },
   {
    "duration": 2682,
    "start_time": "2023-02-08T10:27:38.348Z"
   },
   {
    "duration": 10903,
    "start_time": "2023-02-08T10:27:41.032Z"
   },
   {
    "duration": 299,
    "start_time": "2023-02-08T10:27:51.936Z"
   },
   {
    "duration": 824,
    "start_time": "2023-02-09T05:36:51.347Z"
   },
   {
    "duration": 21318,
    "start_time": "2023-02-09T05:36:54.171Z"
   },
   {
    "duration": 11235,
    "start_time": "2023-02-09T05:37:15.491Z"
   },
   {
    "duration": 98,
    "start_time": "2023-02-09T05:37:26.728Z"
   },
   {
    "duration": 6702,
    "start_time": "2023-02-09T05:37:26.829Z"
   },
   {
    "duration": 6864,
    "start_time": "2023-02-09T05:37:33.534Z"
   },
   {
    "duration": 27,
    "start_time": "2023-02-09T05:37:40.403Z"
   },
   {
    "duration": 124,
    "start_time": "2023-02-09T05:37:40.432Z"
   },
   {
    "duration": 564,
    "start_time": "2023-02-09T05:37:40.557Z"
   },
   {
    "duration": 85,
    "start_time": "2023-02-09T05:37:41.126Z"
   },
   {
    "duration": 3332,
    "start_time": "2023-02-09T05:37:54.189Z"
   },
   {
    "duration": 87,
    "start_time": "2023-02-09T05:38:03.779Z"
   },
   {
    "duration": 5494,
    "start_time": "2023-02-09T05:38:12.012Z"
   },
   {
    "duration": 2960,
    "start_time": "2023-02-09T05:40:24.079Z"
   },
   {
    "duration": 1556,
    "start_time": "2023-02-09T05:41:37.672Z"
   },
   {
    "duration": 1280,
    "start_time": "2023-02-09T05:41:49.045Z"
   },
   {
    "duration": 5,
    "start_time": "2023-02-09T05:56:41.961Z"
   },
   {
    "duration": 3,
    "start_time": "2023-02-09T05:56:48.880Z"
   },
   {
    "duration": 1474,
    "start_time": "2023-02-09T05:56:49.973Z"
   },
   {
    "duration": 330,
    "start_time": "2023-02-09T05:56:51.494Z"
   },
   {
    "duration": 520,
    "start_time": "2023-02-09T05:56:51.826Z"
   },
   {
    "duration": 292,
    "start_time": "2023-02-09T05:56:52.349Z"
   },
   {
    "duration": 54,
    "start_time": "2023-02-09T05:56:53.318Z"
   },
   {
    "duration": 327,
    "start_time": "2023-02-09T05:56:53.867Z"
   },
   {
    "duration": 39,
    "start_time": "2023-02-09T05:56:55.624Z"
   },
   {
    "duration": 1217,
    "start_time": "2023-02-09T05:56:56.245Z"
   },
   {
    "duration": 6,
    "start_time": "2023-02-09T05:56:57.499Z"
   },
   {
    "duration": 32,
    "start_time": "2023-02-09T05:56:57.944Z"
   },
   {
    "duration": 357,
    "start_time": "2023-02-09T05:56:58.413Z"
   },
   {
    "duration": 38,
    "start_time": "2023-02-09T05:57:00.687Z"
   },
   {
    "duration": 3821,
    "start_time": "2023-02-09T05:57:01.282Z"
   },
   {
    "duration": 12498,
    "start_time": "2023-02-09T05:57:05.105Z"
   },
   {
    "duration": 346,
    "start_time": "2023-02-09T05:57:17.605Z"
   },
   {
    "duration": 13188,
    "start_time": "2023-02-09T05:58:25.723Z"
   },
   {
    "duration": 142,
    "start_time": "2023-02-09T05:59:26.959Z"
   },
   {
    "duration": 92,
    "start_time": "2023-02-09T06:02:02.435Z"
   },
   {
    "duration": 11,
    "start_time": "2023-02-09T06:03:08.023Z"
   },
   {
    "duration": 3092,
    "start_time": "2023-02-09T06:03:17.041Z"
   },
   {
    "duration": 113,
    "start_time": "2023-02-09T06:03:31.694Z"
   },
   {
    "duration": 887,
    "start_time": "2023-02-09T06:04:01.528Z"
   },
   {
    "duration": 3083,
    "start_time": "2023-02-09T06:04:14.556Z"
   },
   {
    "duration": 1926,
    "start_time": "2023-02-09T06:04:33.962Z"
   },
   {
    "duration": 12,
    "start_time": "2023-02-09T06:07:01.626Z"
   },
   {
    "duration": 2509,
    "start_time": "2023-02-09T06:07:09.524Z"
   },
   {
    "duration": 1927,
    "start_time": "2023-02-09T06:07:19.854Z"
   },
   {
    "duration": 4423,
    "start_time": "2023-02-09T06:08:41.013Z"
   },
   {
    "duration": 3059,
    "start_time": "2023-02-09T06:09:31.865Z"
   },
   {
    "duration": 4229,
    "start_time": "2023-02-09T06:10:40.635Z"
   },
   {
    "duration": 2511,
    "start_time": "2023-02-09T06:10:47.581Z"
   },
   {
    "duration": 2768,
    "start_time": "2023-02-09T06:11:22.458Z"
   },
   {
    "duration": 11,
    "start_time": "2023-02-09T06:11:33.428Z"
   },
   {
    "duration": 1219,
    "start_time": "2023-02-09T06:17:19.921Z"
   },
   {
    "duration": 15,
    "start_time": "2023-02-09T06:17:24.256Z"
   },
   {
    "duration": 50571,
    "start_time": "2023-02-09T06:17:39.552Z"
   },
   {
    "duration": 833,
    "start_time": "2023-02-09T06:19:43.835Z"
   },
   {
    "duration": 17598,
    "start_time": "2023-02-09T06:19:47.942Z"
   },
   {
    "duration": 11049,
    "start_time": "2023-02-09T06:20:05.543Z"
   },
   {
    "duration": 55,
    "start_time": "2023-02-09T06:20:16.594Z"
   },
   {
    "duration": 7204,
    "start_time": "2023-02-09T06:20:16.655Z"
   },
   {
    "duration": 7128,
    "start_time": "2023-02-09T06:20:23.893Z"
   },
   {
    "duration": 31,
    "start_time": "2023-02-09T06:20:31.027Z"
   },
   {
    "duration": 41,
    "start_time": "2023-02-09T06:20:31.061Z"
   },
   {
    "duration": 723,
    "start_time": "2023-02-09T06:20:31.106Z"
   },
   {
    "duration": 95,
    "start_time": "2023-02-09T06:20:31.835Z"
   },
   {
    "duration": 3815,
    "start_time": "2023-02-09T06:20:31.933Z"
   },
   {
    "duration": 3403,
    "start_time": "2023-02-09T06:20:35.750Z"
   },
   {
    "duration": 5866,
    "start_time": "2023-02-09T06:20:39.154Z"
   },
   {
    "duration": 16,
    "start_time": "2023-02-09T06:20:45.022Z"
   },
   {
    "duration": 1651,
    "start_time": "2023-02-09T06:20:45.046Z"
   },
   {
    "duration": 344,
    "start_time": "2023-02-09T06:20:46.699Z"
   },
   {
    "duration": 516,
    "start_time": "2023-02-09T06:20:47.045Z"
   },
   {
    "duration": 411,
    "start_time": "2023-02-09T06:20:47.595Z"
   },
   {
    "duration": 209,
    "start_time": "2023-02-09T06:20:48.008Z"
   },
   {
    "duration": 477,
    "start_time": "2023-02-09T06:20:48.219Z"
   },
   {
    "duration": 117,
    "start_time": "2023-02-09T06:20:48.698Z"
   },
   {
    "duration": 1684,
    "start_time": "2023-02-09T06:20:48.817Z"
   },
   {
    "duration": 9,
    "start_time": "2023-02-09T06:20:50.503Z"
   },
   {
    "duration": 85,
    "start_time": "2023-02-09T06:20:50.514Z"
   },
   {
    "duration": 438,
    "start_time": "2023-02-09T06:20:50.601Z"
   },
   {
    "duration": 93,
    "start_time": "2023-02-09T06:20:51.041Z"
   },
   {
    "duration": 3335,
    "start_time": "2023-02-09T06:20:51.135Z"
   },
   {
    "duration": 12938,
    "start_time": "2023-02-09T06:20:54.499Z"
   },
   {
    "duration": 394,
    "start_time": "2023-02-09T06:21:07.500Z"
   },
   {
    "duration": 76,
    "start_time": "2023-02-10T04:58:05.610Z"
   },
   {
    "duration": 817,
    "start_time": "2023-02-10T05:12:43.956Z"
   },
   {
    "duration": 16030,
    "start_time": "2023-02-10T05:12:46.245Z"
   },
   {
    "duration": 8117,
    "start_time": "2023-02-10T05:13:02.277Z"
   },
   {
    "duration": 101,
    "start_time": "2023-02-10T05:13:10.396Z"
   },
   {
    "duration": 5089,
    "start_time": "2023-02-10T05:13:10.500Z"
   },
   {
    "duration": 4581,
    "start_time": "2023-02-10T05:13:15.590Z"
   },
   {
    "duration": 14,
    "start_time": "2023-02-10T05:13:20.173Z"
   },
   {
    "duration": 11,
    "start_time": "2023-02-10T05:13:20.189Z"
   },
   {
    "duration": 404,
    "start_time": "2023-02-10T05:13:20.202Z"
   },
   {
    "duration": 89,
    "start_time": "2023-02-10T05:13:20.607Z"
   },
   {
    "duration": 2707,
    "start_time": "2023-02-10T05:13:20.698Z"
   },
   {
    "duration": 2372,
    "start_time": "2023-02-10T05:13:23.407Z"
   },
   {
    "duration": 4312,
    "start_time": "2023-02-10T05:13:25.780Z"
   },
   {
    "duration": 98,
    "start_time": "2023-02-10T05:13:30.094Z"
   },
   {
    "duration": 1066,
    "start_time": "2023-02-10T05:13:42.910Z"
   },
   {
    "duration": 3,
    "start_time": "2023-02-10T05:14:02.631Z"
   },
   {
    "duration": 1699,
    "start_time": "2023-02-10T05:21:13.044Z"
   },
   {
    "duration": 361,
    "start_time": "2023-02-10T05:29:22.441Z"
   },
   {
    "duration": 208,
    "start_time": "2023-02-10T05:29:24.829Z"
   },
   {
    "duration": 449,
    "start_time": "2023-02-10T05:30:23.835Z"
   },
   {
    "duration": 723,
    "start_time": "2023-02-10T05:45:52.407Z"
   },
   {
    "duration": 15812,
    "start_time": "2023-02-10T05:45:54.357Z"
   },
   {
    "duration": 9226,
    "start_time": "2023-02-10T05:46:10.172Z"
   },
   {
    "duration": 90,
    "start_time": "2023-02-10T05:46:19.400Z"
   },
   {
    "duration": 6092,
    "start_time": "2023-02-10T05:46:19.493Z"
   },
   {
    "duration": 5381,
    "start_time": "2023-02-10T05:46:25.588Z"
   },
   {
    "duration": 16,
    "start_time": "2023-02-10T05:46:30.971Z"
   },
   {
    "duration": 6,
    "start_time": "2023-02-10T05:46:30.989Z"
   },
   {
    "duration": 497,
    "start_time": "2023-02-10T05:46:30.997Z"
   },
   {
    "duration": 168,
    "start_time": "2023-02-10T05:46:31.499Z"
   },
   {
    "duration": 3219,
    "start_time": "2023-02-10T05:46:31.671Z"
   },
   {
    "duration": 2589,
    "start_time": "2023-02-10T05:46:34.892Z"
   },
   {
    "duration": 4701,
    "start_time": "2023-02-10T05:46:37.483Z"
   },
   {
    "duration": 98,
    "start_time": "2023-02-10T05:46:42.186Z"
   },
   {
    "duration": 1192,
    "start_time": "2023-02-10T05:46:42.286Z"
   },
   {
    "duration": 4,
    "start_time": "2023-02-10T05:46:43.480Z"
   },
   {
    "duration": 1628,
    "start_time": "2023-02-10T05:47:14.703Z"
   },
   {
    "duration": 68,
    "start_time": "2023-02-10T05:48:08.034Z"
   },
   {
    "duration": 913,
    "start_time": "2023-02-10T05:48:14.160Z"
   },
   {
    "duration": 375,
    "start_time": "2023-02-10T05:48:41.597Z"
   },
   {
    "duration": 116,
    "start_time": "2023-02-10T05:49:13.739Z"
   },
   {
    "duration": 24,
    "start_time": "2023-02-10T05:49:35.549Z"
   },
   {
    "duration": 678,
    "start_time": "2023-02-10T05:50:42.019Z"
   },
   {
    "duration": 14890,
    "start_time": "2023-02-10T05:50:43.511Z"
   },
   {
    "duration": 10063,
    "start_time": "2023-02-10T05:50:58.404Z"
   },
   {
    "duration": 31,
    "start_time": "2023-02-10T05:51:08.469Z"
   },
   {
    "duration": 5679,
    "start_time": "2023-02-10T05:51:08.504Z"
   },
   {
    "duration": 5313,
    "start_time": "2023-02-10T05:51:14.185Z"
   },
   {
    "duration": 76,
    "start_time": "2023-02-10T05:51:19.500Z"
   },
   {
    "duration": 5,
    "start_time": "2023-02-10T05:51:19.578Z"
   },
   {
    "duration": 400,
    "start_time": "2023-02-10T05:51:19.585Z"
   },
   {
    "duration": 83,
    "start_time": "2023-02-10T05:51:19.987Z"
   },
   {
    "duration": 3016,
    "start_time": "2023-02-10T05:51:20.072Z"
   },
   {
    "duration": 2509,
    "start_time": "2023-02-10T05:51:23.090Z"
   },
   {
    "duration": 4508,
    "start_time": "2023-02-10T05:51:25.601Z"
   },
   {
    "duration": 25,
    "start_time": "2023-02-10T05:51:30.168Z"
   },
   {
    "duration": 1279,
    "start_time": "2023-02-10T05:51:30.195Z"
   },
   {
    "duration": 4,
    "start_time": "2023-02-10T05:51:31.476Z"
   },
   {
    "duration": 1541,
    "start_time": "2023-02-10T05:51:34.739Z"
   },
   {
    "duration": 89,
    "start_time": "2023-02-10T05:51:40.524Z"
   },
   {
    "duration": 536,
    "start_time": "2023-02-10T05:53:06.343Z"
   },
   {
    "duration": 299,
    "start_time": "2023-02-10T05:53:41.620Z"
   },
   {
    "duration": 748,
    "start_time": "2023-02-10T05:54:02.661Z"
   },
   {
    "duration": 371,
    "start_time": "2023-02-10T05:54:14.313Z"
   },
   {
    "duration": 19,
    "start_time": "2023-02-10T05:58:37.168Z"
   },
   {
    "duration": 4,
    "start_time": "2023-02-10T06:03:31.981Z"
   },
   {
    "duration": 318,
    "start_time": "2023-02-10T06:04:50.583Z"
   },
   {
    "duration": 355,
    "start_time": "2023-02-10T06:05:35.003Z"
   },
   {
    "duration": 279,
    "start_time": "2023-02-10T06:06:16.326Z"
   },
   {
    "duration": 437,
    "start_time": "2023-02-10T06:06:27.552Z"
   },
   {
    "duration": 317,
    "start_time": "2023-02-10T06:06:45.727Z"
   },
   {
    "duration": 72,
    "start_time": "2023-02-10T06:08:03.724Z"
   },
   {
    "duration": 464,
    "start_time": "2023-02-10T06:08:21.848Z"
   },
   {
    "duration": 400,
    "start_time": "2023-02-10T06:08:55.982Z"
   },
   {
    "duration": 54,
    "start_time": "2023-02-10T06:13:13.740Z"
   },
   {
    "duration": 1217,
    "start_time": "2023-02-10T06:14:17.586Z"
   },
   {
    "duration": 10,
    "start_time": "2023-02-10T06:14:25.735Z"
   },
   {
    "duration": 7,
    "start_time": "2023-02-10T06:14:37.056Z"
   },
   {
    "duration": 35,
    "start_time": "2023-02-10T06:15:18.850Z"
   },
   {
    "duration": 583,
    "start_time": "2023-02-10T06:15:19.704Z"
   },
   {
    "duration": 373,
    "start_time": "2023-02-10T06:15:36.418Z"
   },
   {
    "duration": 7592,
    "start_time": "2023-02-10T06:15:43.210Z"
   },
   {
    "duration": 263,
    "start_time": "2023-02-10T06:16:10.319Z"
   },
   {
    "duration": 389,
    "start_time": "2023-02-10T06:20:05.997Z"
   },
   {
    "duration": 405,
    "start_time": "2023-02-10T06:20:23.567Z"
   },
   {
    "duration": 456,
    "start_time": "2023-02-10T06:20:51.043Z"
   },
   {
    "duration": 47,
    "start_time": "2023-02-10T06:39:51.860Z"
   },
   {
    "duration": 30,
    "start_time": "2023-02-10T06:44:24.113Z"
   },
   {
    "duration": 719,
    "start_time": "2023-02-10T06:45:08.481Z"
   },
   {
    "duration": 14685,
    "start_time": "2023-02-10T06:45:11.817Z"
   },
   {
    "duration": 8075,
    "start_time": "2023-02-10T06:45:26.505Z"
   },
   {
    "duration": 149,
    "start_time": "2023-02-10T06:45:55.051Z"
   },
   {
    "duration": 22,
    "start_time": "2023-02-10T06:46:49.373Z"
   },
   {
    "duration": 32,
    "start_time": "2023-02-10T06:47:47.874Z"
   },
   {
    "duration": 3,
    "start_time": "2023-02-10T06:48:33.383Z"
   },
   {
    "duration": 3,
    "start_time": "2023-02-10T06:48:33.959Z"
   },
   {
    "duration": 1042,
    "start_time": "2023-02-10T06:48:34.165Z"
   },
   {
    "duration": 720,
    "start_time": "2023-02-10T06:49:05.788Z"
   },
   {
    "duration": 14995,
    "start_time": "2023-02-10T06:49:09.408Z"
   },
   {
    "duration": 8290,
    "start_time": "2023-02-10T06:49:24.405Z"
   },
   {
    "duration": 89,
    "start_time": "2023-02-10T06:49:32.697Z"
   },
   {
    "duration": 5359,
    "start_time": "2023-02-10T06:49:32.788Z"
   },
   {
    "duration": 4545,
    "start_time": "2023-02-10T06:49:38.149Z"
   },
   {
    "duration": 15,
    "start_time": "2023-02-10T06:49:42.696Z"
   },
   {
    "duration": 59,
    "start_time": "2023-02-10T06:49:42.713Z"
   },
   {
    "duration": 399,
    "start_time": "2023-02-10T06:49:42.773Z"
   },
   {
    "duration": 93,
    "start_time": "2023-02-10T06:49:43.174Z"
   },
   {
    "duration": 2757,
    "start_time": "2023-02-10T06:49:43.270Z"
   },
   {
    "duration": 2269,
    "start_time": "2023-02-10T06:49:46.029Z"
   },
   {
    "duration": 3988,
    "start_time": "2023-02-10T06:49:48.300Z"
   },
   {
    "duration": 91,
    "start_time": "2023-02-10T06:49:52.291Z"
   },
   {
    "duration": 1102,
    "start_time": "2023-02-10T06:49:52.384Z"
   },
   {
    "duration": 4,
    "start_time": "2023-02-10T06:49:53.487Z"
   },
   {
    "duration": 1306,
    "start_time": "2023-02-10T06:49:53.492Z"
   },
   {
    "duration": 623,
    "start_time": "2023-02-10T06:49:54.799Z"
   },
   {
    "duration": 447,
    "start_time": "2023-02-10T06:49:55.424Z"
   },
   {
    "duration": 317,
    "start_time": "2023-02-10T06:49:55.873Z"
   },
   {
    "duration": 484,
    "start_time": "2023-02-10T06:49:56.192Z"
   },
   {
    "duration": 422,
    "start_time": "2023-02-10T06:49:56.678Z"
   },
   {
    "duration": 90,
    "start_time": "2023-02-10T06:49:57.101Z"
   },
   {
    "duration": 677,
    "start_time": "2023-02-10T06:49:57.192Z"
   },
   {
    "duration": 524,
    "start_time": "2023-02-10T06:49:57.871Z"
   },
   {
    "duration": 98,
    "start_time": "2023-02-10T06:49:58.396Z"
   },
   {
    "duration": 1071,
    "start_time": "2023-02-10T06:49:58.496Z"
   },
   {
    "duration": 9,
    "start_time": "2023-02-10T06:49:59.569Z"
   },
   {
    "duration": 4,
    "start_time": "2023-02-10T06:49:59.581Z"
   },
   {
    "duration": 103,
    "start_time": "2023-02-10T06:49:59.586Z"
   },
   {
    "duration": 511,
    "start_time": "2023-02-10T06:49:59.690Z"
   },
   {
    "duration": 565,
    "start_time": "2023-02-10T06:50:00.203Z"
   },
   {
    "duration": 6723,
    "start_time": "2023-02-10T06:50:00.770Z"
   },
   {
    "duration": 207,
    "start_time": "2023-02-10T06:50:07.495Z"
   },
   {
    "duration": 28,
    "start_time": "2023-02-10T06:50:29.086Z"
   },
   {
    "duration": 9,
    "start_time": "2023-02-10T06:52:06.053Z"
   },
   {
    "duration": 10,
    "start_time": "2023-02-10T06:53:59.921Z"
   },
   {
    "duration": 2,
    "start_time": "2023-02-10T06:54:12.681Z"
   },
   {
    "duration": 1866,
    "start_time": "2023-02-10T06:54:45.123Z"
   },
   {
    "duration": 4,
    "start_time": "2023-02-10T06:58:57.103Z"
   },
   {
    "duration": 25,
    "start_time": "2023-02-10T07:11:24.587Z"
   },
   {
    "duration": 7,
    "start_time": "2023-02-10T07:11:28.404Z"
   },
   {
    "duration": 3,
    "start_time": "2023-02-10T07:11:29.416Z"
   },
   {
    "duration": 4131,
    "start_time": "2023-02-10T07:11:33.764Z"
   },
   {
    "duration": 526,
    "start_time": "2023-02-10T07:12:45.067Z"
   },
   {
    "duration": 61,
    "start_time": "2023-02-10T07:13:06.636Z"
   },
   {
    "duration": 583,
    "start_time": "2023-02-10T07:13:35.984Z"
   },
   {
    "duration": 101,
    "start_time": "2023-02-10T07:13:37.269Z"
   },
   {
    "duration": 3550,
    "start_time": "2023-02-10T07:16:26.044Z"
   },
   {
    "duration": 751,
    "start_time": "2023-02-10T07:17:06.669Z"
   },
   {
    "duration": 15014,
    "start_time": "2023-02-10T07:17:08.559Z"
   },
   {
    "duration": 8517,
    "start_time": "2023-02-10T07:17:23.576Z"
   },
   {
    "duration": 89,
    "start_time": "2023-02-10T07:17:32.095Z"
   },
   {
    "duration": 5382,
    "start_time": "2023-02-10T07:17:32.186Z"
   },
   {
    "duration": 4934,
    "start_time": "2023-02-10T07:17:37.571Z"
   },
   {
    "duration": 67,
    "start_time": "2023-02-10T07:17:42.507Z"
   },
   {
    "duration": 5,
    "start_time": "2023-02-10T07:17:42.576Z"
   },
   {
    "duration": 419,
    "start_time": "2023-02-10T07:17:42.583Z"
   },
   {
    "duration": 91,
    "start_time": "2023-02-10T07:17:43.004Z"
   },
   {
    "duration": 2805,
    "start_time": "2023-02-10T07:17:43.098Z"
   },
   {
    "duration": 2303,
    "start_time": "2023-02-10T07:17:45.905Z"
   },
   {
    "duration": 4187,
    "start_time": "2023-02-10T07:17:48.209Z"
   },
   {
    "duration": 78,
    "start_time": "2023-02-10T07:17:52.398Z"
   },
   {
    "duration": 1123,
    "start_time": "2023-02-10T07:17:52.478Z"
   },
   {
    "duration": 66,
    "start_time": "2023-02-10T07:17:53.602Z"
   },
   {
    "duration": 1621,
    "start_time": "2023-02-10T07:17:53.669Z"
   },
   {
    "duration": 585,
    "start_time": "2023-02-10T07:17:55.292Z"
   },
   {
    "duration": 414,
    "start_time": "2023-02-10T07:17:55.879Z"
   },
   {
    "duration": 385,
    "start_time": "2023-02-10T07:17:56.294Z"
   },
   {
    "duration": 588,
    "start_time": "2023-02-10T07:17:56.680Z"
   },
   {
    "duration": 431,
    "start_time": "2023-02-10T07:17:57.270Z"
   },
   {
    "duration": 168,
    "start_time": "2023-02-10T07:17:57.703Z"
   },
   {
    "duration": 530,
    "start_time": "2023-02-10T07:17:57.872Z"
   },
   {
    "duration": 387,
    "start_time": "2023-02-10T07:17:58.403Z"
   },
   {
    "duration": 75,
    "start_time": "2023-02-10T07:17:58.792Z"
   },
   {
    "duration": 915,
    "start_time": "2023-02-10T07:17:58.869Z"
   },
   {
    "duration": 8,
    "start_time": "2023-02-10T07:17:59.785Z"
   },
   {
    "duration": 72,
    "start_time": "2023-02-10T07:17:59.796Z"
   },
   {
    "duration": 97,
    "start_time": "2023-02-10T07:17:59.870Z"
   },
   {
    "duration": 378,
    "start_time": "2023-02-10T07:17:59.969Z"
   },
   {
    "duration": 531,
    "start_time": "2023-02-10T07:18:00.349Z"
   },
   {
    "duration": 7792,
    "start_time": "2023-02-10T07:18:00.882Z"
   },
   {
    "duration": 302,
    "start_time": "2023-02-10T07:18:08.675Z"
   },
   {
    "duration": 27,
    "start_time": "2023-02-10T07:18:15.292Z"
   },
   {
    "duration": 9,
    "start_time": "2023-02-10T07:18:17.919Z"
   },
   {
    "duration": 7903,
    "start_time": "2023-02-10T07:18:19.228Z"
   },
   {
    "duration": 3009,
    "start_time": "2023-02-10T07:22:07.193Z"
   },
   {
    "duration": 746,
    "start_time": "2023-02-10T07:22:53.955Z"
   },
   {
    "duration": 15206,
    "start_time": "2023-02-10T07:22:55.788Z"
   },
   {
    "duration": 8895,
    "start_time": "2023-02-10T07:23:10.997Z"
   },
   {
    "duration": 82,
    "start_time": "2023-02-10T07:23:19.894Z"
   },
   {
    "duration": 6009,
    "start_time": "2023-02-10T07:23:19.979Z"
   },
   {
    "duration": 5094,
    "start_time": "2023-02-10T07:23:25.989Z"
   },
   {
    "duration": 16,
    "start_time": "2023-02-10T07:23:31.085Z"
   },
   {
    "duration": 11,
    "start_time": "2023-02-10T07:23:31.167Z"
   },
   {
    "duration": 414,
    "start_time": "2023-02-10T07:23:31.179Z"
   },
   {
    "duration": 87,
    "start_time": "2023-02-10T07:23:31.595Z"
   },
   {
    "duration": 3087,
    "start_time": "2023-02-10T07:23:31.685Z"
   },
   {
    "duration": 2827,
    "start_time": "2023-02-10T07:23:34.773Z"
   },
   {
    "duration": 4194,
    "start_time": "2023-02-10T07:23:37.601Z"
   },
   {
    "duration": 88,
    "start_time": "2023-02-10T07:23:41.797Z"
   },
   {
    "duration": 1192,
    "start_time": "2023-02-10T07:23:41.887Z"
   },
   {
    "duration": 3,
    "start_time": "2023-02-10T07:23:43.081Z"
   },
   {
    "duration": 1611,
    "start_time": "2023-02-10T07:23:43.085Z"
   },
   {
    "duration": 679,
    "start_time": "2023-02-10T07:23:44.698Z"
   },
   {
    "duration": 399,
    "start_time": "2023-02-10T07:23:45.379Z"
   },
   {
    "duration": 323,
    "start_time": "2023-02-10T07:23:45.780Z"
   },
   {
    "duration": 536,
    "start_time": "2023-02-10T07:23:46.168Z"
   },
   {
    "duration": 418,
    "start_time": "2023-02-10T07:23:46.706Z"
   },
   {
    "duration": 89,
    "start_time": "2023-02-10T07:23:47.126Z"
   },
   {
    "duration": 532,
    "start_time": "2023-02-10T07:23:47.268Z"
   },
   {
    "duration": 394,
    "start_time": "2023-02-10T07:23:47.802Z"
   },
   {
    "duration": 94,
    "start_time": "2023-02-10T07:23:48.198Z"
   },
   {
    "duration": 1005,
    "start_time": "2023-02-10T07:23:48.294Z"
   },
   {
    "duration": 78,
    "start_time": "2023-02-10T07:23:49.300Z"
   },
   {
    "duration": 8,
    "start_time": "2023-02-10T07:23:49.387Z"
   },
   {
    "duration": 174,
    "start_time": "2023-02-10T07:23:49.398Z"
   },
   {
    "duration": 596,
    "start_time": "2023-02-10T07:23:49.576Z"
   },
   {
    "duration": 429,
    "start_time": "2023-02-10T07:23:50.173Z"
   },
   {
    "duration": 8173,
    "start_time": "2023-02-10T07:23:50.603Z"
   },
   {
    "duration": 308,
    "start_time": "2023-02-10T07:23:58.777Z"
   },
   {
    "duration": 91,
    "start_time": "2023-02-10T07:23:59.087Z"
   },
   {
    "duration": 10,
    "start_time": "2023-02-10T07:23:59.180Z"
   },
   {
    "duration": 5839,
    "start_time": "2023-02-10T07:24:05.060Z"
   },
   {
    "duration": 737,
    "start_time": "2023-02-10T07:26:22.440Z"
   },
   {
    "duration": 15064,
    "start_time": "2023-02-10T07:26:24.342Z"
   },
   {
    "duration": 8071,
    "start_time": "2023-02-10T07:26:39.409Z"
   },
   {
    "duration": 87,
    "start_time": "2023-02-10T07:26:47.481Z"
   },
   {
    "duration": 5120,
    "start_time": "2023-02-10T07:26:47.570Z"
   },
   {
    "duration": 4782,
    "start_time": "2023-02-10T07:26:52.692Z"
   },
   {
    "duration": 16,
    "start_time": "2023-02-10T07:26:57.475Z"
   },
   {
    "duration": 6,
    "start_time": "2023-02-10T07:26:57.492Z"
   },
   {
    "duration": 416,
    "start_time": "2023-02-10T07:26:57.566Z"
   },
   {
    "duration": 83,
    "start_time": "2023-02-10T07:26:57.984Z"
   },
   {
    "duration": 2907,
    "start_time": "2023-02-10T07:26:58.071Z"
   },
   {
    "duration": 2213,
    "start_time": "2023-02-10T07:27:00.980Z"
   },
   {
    "duration": 4477,
    "start_time": "2023-02-10T07:27:03.194Z"
   },
   {
    "duration": 21,
    "start_time": "2023-02-10T07:27:07.673Z"
   },
   {
    "duration": 1180,
    "start_time": "2023-02-10T07:27:07.696Z"
   },
   {
    "duration": 4,
    "start_time": "2023-02-10T07:27:08.878Z"
   },
   {
    "duration": 1310,
    "start_time": "2023-02-10T07:27:08.883Z"
   },
   {
    "duration": 594,
    "start_time": "2023-02-10T07:27:10.194Z"
   },
   {
    "duration": 319,
    "start_time": "2023-02-10T07:27:10.789Z"
   },
   {
    "duration": 374,
    "start_time": "2023-02-10T07:27:11.109Z"
   },
   {
    "duration": 418,
    "start_time": "2023-02-10T07:27:11.484Z"
   },
   {
    "duration": 411,
    "start_time": "2023-02-10T07:27:11.904Z"
   },
   {
    "duration": 89,
    "start_time": "2023-02-10T07:27:12.317Z"
   },
   {
    "duration": 484,
    "start_time": "2023-02-10T07:27:12.407Z"
   },
   {
    "duration": 412,
    "start_time": "2023-02-10T07:27:12.892Z"
   },
   {
    "duration": 98,
    "start_time": "2023-02-10T07:27:13.306Z"
   },
   {
    "duration": 982,
    "start_time": "2023-02-10T07:27:13.407Z"
   },
   {
    "duration": 8,
    "start_time": "2023-02-10T07:27:14.391Z"
   },
   {
    "duration": 5,
    "start_time": "2023-02-10T07:27:14.469Z"
   },
   {
    "duration": 111,
    "start_time": "2023-02-10T07:27:14.475Z"
   },
   {
    "duration": 526,
    "start_time": "2023-02-10T07:27:14.588Z"
   },
   {
    "duration": 477,
    "start_time": "2023-02-10T07:27:15.116Z"
   },
   {
    "duration": 7282,
    "start_time": "2023-02-10T07:27:15.594Z"
   },
   {
    "duration": 173,
    "start_time": "2023-02-10T07:27:25.814Z"
   },
   {
    "duration": 27,
    "start_time": "2023-02-10T07:27:28.295Z"
   },
   {
    "duration": 9,
    "start_time": "2023-02-10T07:27:29.856Z"
   },
   {
    "duration": 8670,
    "start_time": "2023-02-10T07:27:31.114Z"
   },
   {
    "duration": 453,
    "start_time": "2023-02-10T07:27:55.347Z"
   },
   {
    "duration": 743,
    "start_time": "2023-02-10T07:29:14.952Z"
   },
   {
    "duration": 14661,
    "start_time": "2023-02-10T07:29:16.733Z"
   },
   {
    "duration": 8395,
    "start_time": "2023-02-10T07:29:31.397Z"
   },
   {
    "duration": 89,
    "start_time": "2023-02-10T07:29:39.794Z"
   },
   {
    "duration": 5201,
    "start_time": "2023-02-10T07:29:39.885Z"
   },
   {
    "duration": 4907,
    "start_time": "2023-02-10T07:29:45.089Z"
   },
   {
    "duration": 80,
    "start_time": "2023-02-10T07:29:49.998Z"
   },
   {
    "duration": 5,
    "start_time": "2023-02-10T07:29:50.080Z"
   },
   {
    "duration": 414,
    "start_time": "2023-02-10T07:29:50.086Z"
   },
   {
    "duration": 89,
    "start_time": "2023-02-10T07:29:50.502Z"
   },
   {
    "duration": 3073,
    "start_time": "2023-02-10T07:29:50.594Z"
   },
   {
    "duration": 2230,
    "start_time": "2023-02-10T07:29:53.669Z"
   },
   {
    "duration": 4367,
    "start_time": "2023-02-10T07:29:55.901Z"
   },
   {
    "duration": 24,
    "start_time": "2023-02-10T07:30:00.270Z"
   },
   {
    "duration": 1195,
    "start_time": "2023-02-10T07:30:00.296Z"
   },
   {
    "duration": 3,
    "start_time": "2023-02-10T07:30:01.493Z"
   },
   {
    "duration": 1475,
    "start_time": "2023-02-10T07:30:01.498Z"
   },
   {
    "duration": 525,
    "start_time": "2023-02-10T07:30:02.975Z"
   },
   {
    "duration": 398,
    "start_time": "2023-02-10T07:30:03.502Z"
   },
   {
    "duration": 295,
    "start_time": "2023-02-10T07:30:03.901Z"
   },
   {
    "duration": 473,
    "start_time": "2023-02-10T07:30:04.198Z"
   },
   {
    "duration": 373,
    "start_time": "2023-02-10T07:30:04.673Z"
   },
   {
    "duration": 114,
    "start_time": "2023-02-10T07:30:05.068Z"
   },
   {
    "duration": 584,
    "start_time": "2023-02-10T07:30:05.187Z"
   },
   {
    "duration": 322,
    "start_time": "2023-02-10T07:30:05.772Z"
   },
   {
    "duration": 89,
    "start_time": "2023-02-10T07:30:06.096Z"
   },
   {
    "duration": 1024,
    "start_time": "2023-02-10T07:30:06.187Z"
   },
   {
    "duration": 11,
    "start_time": "2023-02-10T07:30:07.268Z"
   },
   {
    "duration": 8,
    "start_time": "2023-02-10T07:30:07.282Z"
   },
   {
    "duration": 105,
    "start_time": "2023-02-10T07:30:07.292Z"
   },
   {
    "duration": 515,
    "start_time": "2023-02-10T07:30:07.399Z"
   },
   {
    "duration": 757,
    "start_time": "2023-02-10T07:30:07.916Z"
   },
   {
    "duration": 8495,
    "start_time": "2023-02-10T07:30:08.675Z"
   },
   {
    "duration": 215,
    "start_time": "2023-02-10T07:30:17.171Z"
   },
   {
    "duration": 96,
    "start_time": "2023-02-10T07:30:17.388Z"
   },
   {
    "duration": 17,
    "start_time": "2023-02-10T07:30:17.485Z"
   },
   {
    "duration": 6780,
    "start_time": "2023-02-10T07:30:17.504Z"
   },
   {
    "duration": 999,
    "start_time": "2023-02-10T07:30:24.286Z"
   },
   {
    "duration": 94,
    "start_time": "2023-02-10T07:41:24.392Z"
   },
   {
    "duration": 706,
    "start_time": "2023-02-10T07:43:36.315Z"
   },
   {
    "duration": 15281,
    "start_time": "2023-02-10T07:43:37.023Z"
   },
   {
    "duration": 8704,
    "start_time": "2023-02-10T07:43:52.308Z"
   },
   {
    "duration": 36,
    "start_time": "2023-02-10T07:44:01.068Z"
   },
   {
    "duration": 5468,
    "start_time": "2023-02-10T07:44:01.106Z"
   },
   {
    "duration": 4700,
    "start_time": "2023-02-10T07:44:06.576Z"
   },
   {
    "duration": 16,
    "start_time": "2023-02-10T07:44:11.278Z"
   },
   {
    "duration": 6,
    "start_time": "2023-02-10T07:44:11.295Z"
   },
   {
    "duration": 477,
    "start_time": "2023-02-10T07:44:11.303Z"
   },
   {
    "duration": 31,
    "start_time": "2023-02-10T07:44:11.782Z"
   },
   {
    "duration": 3011,
    "start_time": "2023-02-10T07:44:11.816Z"
   },
   {
    "duration": 2360,
    "start_time": "2023-02-10T07:44:14.829Z"
   },
   {
    "duration": 4386,
    "start_time": "2023-02-10T07:44:17.191Z"
   },
   {
    "duration": 24,
    "start_time": "2023-02-10T07:44:21.579Z"
   },
   {
    "duration": 1106,
    "start_time": "2023-02-10T07:44:21.668Z"
   },
   {
    "duration": 4,
    "start_time": "2023-02-10T07:44:22.776Z"
   },
   {
    "duration": 1388,
    "start_time": "2023-02-10T07:44:22.782Z"
   },
   {
    "duration": 809,
    "start_time": "2023-02-10T07:44:24.172Z"
   },
   {
    "duration": 515,
    "start_time": "2023-02-10T07:44:24.984Z"
   },
   {
    "duration": 495,
    "start_time": "2023-02-10T07:44:25.501Z"
   },
   {
    "duration": 669,
    "start_time": "2023-02-10T07:44:25.999Z"
   },
   {
    "duration": 425,
    "start_time": "2023-02-10T07:44:26.670Z"
   },
   {
    "duration": 102,
    "start_time": "2023-02-10T07:44:27.097Z"
   },
   {
    "duration": 598,
    "start_time": "2023-02-10T07:44:27.200Z"
   },
   {
    "duration": 492,
    "start_time": "2023-02-10T07:44:27.800Z"
   },
   {
    "duration": 100,
    "start_time": "2023-02-10T07:44:28.294Z"
   },
   {
    "duration": 1005,
    "start_time": "2023-02-10T07:44:28.396Z"
   },
   {
    "duration": 71,
    "start_time": "2023-02-10T07:44:29.403Z"
   },
   {
    "duration": 5,
    "start_time": "2023-02-10T07:44:29.479Z"
   },
   {
    "duration": 88,
    "start_time": "2023-02-10T07:44:29.485Z"
   },
   {
    "duration": 394,
    "start_time": "2023-02-10T07:44:29.575Z"
   },
   {
    "duration": 499,
    "start_time": "2023-02-10T07:44:29.971Z"
   },
   {
    "duration": 7595,
    "start_time": "2023-02-10T07:44:30.472Z"
   },
   {
    "duration": 297,
    "start_time": "2023-02-10T07:44:38.070Z"
   },
   {
    "duration": 27,
    "start_time": "2023-02-10T07:44:38.369Z"
   },
   {
    "duration": 8,
    "start_time": "2023-02-10T07:44:38.398Z"
   },
   {
    "duration": 6766,
    "start_time": "2023-02-10T07:44:38.407Z"
   },
   {
    "duration": 120,
    "start_time": "2023-02-10T07:44:45.175Z"
   },
   {
    "duration": 928,
    "start_time": "2023-02-10T07:44:45.367Z"
   }
  ],
  "colab": {
   "name": "PySparkSprint.ipynb",
   "provenance": []
  },
  "kernelspec": {
   "display_name": "Python 3 (ipykernel)",
   "language": "python",
   "name": "python3"
  },
  "language_info": {
   "codemirror_mode": {
    "name": "ipython",
    "version": 3
   },
   "file_extension": ".py",
   "mimetype": "text/x-python",
   "name": "python",
   "nbconvert_exporter": "python",
   "pygments_lexer": "ipython3",
   "version": "3.10.9"
  },
  "latex_envs": {
   "LaTeX_envs_menu_present": true,
   "autoclose": false,
   "autocomplete": true,
   "bibliofile": "biblio.bib",
   "cite_by": "apalike",
   "current_citInitial": 1,
   "eqLabelWithNumbers": true,
   "eqNumInitial": 1,
   "hotkeys": {
    "equation": "Ctrl-E",
    "itemize": "Ctrl-I"
   },
   "labels_anchors": false,
   "latex_user_defs": false,
   "report_style_numbering": false,
   "user_envs_cfg": false
  },
  "toc": {
   "base_numbering": 1,
   "nav_menu": {},
   "number_sections": true,
   "sideBar": true,
   "skip_h1_title": true,
   "title_cell": "Table of Contents",
   "title_sidebar": "Contents",
   "toc_cell": false,
   "toc_position": {
    "height": "calc(100% - 180px)",
    "left": "10px",
    "top": "150px",
    "width": "284.3px"
   },
   "toc_section_display": true,
   "toc_window_display": false
  },
  "varInspector": {
   "cols": {
    "lenName": 16,
    "lenType": 16,
    "lenVar": 40
   },
   "kernels_config": {
    "python": {
     "delete_cmd_postfix": "",
     "delete_cmd_prefix": "del ",
     "library": "var_list.py",
     "varRefreshCmd": "print(var_dic_list())"
    },
    "r": {
     "delete_cmd_postfix": ") ",
     "delete_cmd_prefix": "rm(",
     "library": "var_list.r",
     "varRefreshCmd": "cat(var_dic_list()) "
    }
   },
   "types_to_exclude": [
    "module",
    "function",
    "builtin_function_or_method",
    "instance",
    "_Feature"
   ],
   "window_display": false
  }
 },
 "nbformat": 4,
 "nbformat_minor": 5
}
