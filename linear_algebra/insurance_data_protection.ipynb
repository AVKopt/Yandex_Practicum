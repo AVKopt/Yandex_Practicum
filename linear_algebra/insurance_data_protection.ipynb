{
 "cells": [
  {
   "cell_type": "markdown",
   "metadata": {},
   "source": [
    "# Защита персональных данных клиентов"
   ]
  },
  {
   "cell_type": "markdown",
   "metadata": {},
   "source": [
    "# Описание проекта\n",
    "\n",
    "Необходимо защитить данные клиентов страховой компании «Хоть потоп». \n",
    "\n",
    "Разработать такой метод преобразования данных, чтобы по ним было сложно восстановить персональную информацию. \n",
    "\n",
    "Обосновать корректность его работы.\n",
    "\n",
    "Необходимо защитить данные, чтобы при преобразовании качество моделей машинного обучения не ухудшилось. Подбирать наилучшую модель не требуется.\n",
    "\n",
    "**Инструкция по выполнению проекта**\n",
    "\n",
    "1. Загрузить и изучить данные.\n",
    "\n",
    "2. Ответить на вопрос и обосновать решение. Признаки умножают на обратимую матрицу. Изменится ли качество линейной регрессии? (Её можно обучить заново.)\n",
    " \n",
    "   - a. Изменится. Приведите примеры матриц.\n",
    "   \n",
    "   - b. Не изменится. Укажите, как связаны параметры линейной регрессии в исходной задаче и в преобразованной.\n",
    "\n",
    "3. Предложить алгоритм преобразования данных для решения задачи. Обосновать, почему качество линейной регрессии не поменяется.\n",
    "\n",
    "4. Запрограммировать этот алгоритм, применив матричные операции. Проверить, что качество линейной регрессии из sklearn не отличается до и после преобразования. Применить метрику R2.\n",
    "\n",
    "**Описание данных**\n",
    "\n",
    "- Признаки: пол, возраст и зарплата застрахованного, количество членов его семьи.\n",
    "- Целевой признак: количество страховых выплат клиенту за последние 5 лет."
   ]
  },
  {
   "cell_type": "markdown",
   "metadata": {},
   "source": [
    "## Загрузка данных"
   ]
  },
  {
   "cell_type": "markdown",
   "metadata": {},
   "source": [
    "**Импорт необходимых библиотек**"
   ]
  },
  {
   "cell_type": "code",
   "execution_count": 1,
   "metadata": {},
   "outputs": [],
   "source": [
    "import pandas as pd\n",
    "import numpy as np\n",
    "\n",
    "from sklearn.model_selection import train_test_split\n",
    "from sklearn.linear_model import LinearRegression\n",
    "from sklearn.metrics import r2_score\n",
    "\n",
    "from colorama import Fore, Style # модуль пришлось доинсталлировать в тренажере\n",
    "\n",
    "import warnings\n",
    "\n",
    "warnings.filterwarnings('ignore')\n",
    "\n",
    "RANDOM = 1234"
   ]
  },
  {
   "cell_type": "markdown",
   "metadata": {},
   "source": [
    "**Загрузка датасета**"
   ]
  },
  {
   "cell_type": "code",
   "execution_count": 2,
   "metadata": {},
   "outputs": [],
   "source": [
    "try:\n",
    "    data = pd.read_csv(\"/datasets/insurance.csv\")\n",
    "except FileNotFoundError:\n",
    "    data = pd.read_csv(\n",
    "        \"https://code.s3.yandex.net/datasets/insurance.csv\")"
   ]
  },
  {
   "cell_type": "markdown",
   "metadata": {},
   "source": [
    "**Первые пять строк датасета**"
   ]
  },
  {
   "cell_type": "code",
   "execution_count": 3,
   "metadata": {},
   "outputs": [
    {
     "name": "stdout",
     "output_type": "stream",
     "text": [
      "\u001b[32m\u001b[1mПервые пять строк датасета:\u001b[0m\n"
     ]
    },
    {
     "data": {
      "text/html": [
       "<div>\n",
       "<style scoped>\n",
       "    .dataframe tbody tr th:only-of-type {\n",
       "        vertical-align: middle;\n",
       "    }\n",
       "\n",
       "    .dataframe tbody tr th {\n",
       "        vertical-align: top;\n",
       "    }\n",
       "\n",
       "    .dataframe thead th {\n",
       "        text-align: right;\n",
       "    }\n",
       "</style>\n",
       "<table border=\"1\" class=\"dataframe\">\n",
       "  <thead>\n",
       "    <tr style=\"text-align: right;\">\n",
       "      <th></th>\n",
       "      <th>Пол</th>\n",
       "      <th>Возраст</th>\n",
       "      <th>Зарплата</th>\n",
       "      <th>Члены семьи</th>\n",
       "      <th>Страховые выплаты</th>\n",
       "    </tr>\n",
       "  </thead>\n",
       "  <tbody>\n",
       "    <tr>\n",
       "      <th>0</th>\n",
       "      <td>1</td>\n",
       "      <td>41.0</td>\n",
       "      <td>49600.0</td>\n",
       "      <td>1</td>\n",
       "      <td>0</td>\n",
       "    </tr>\n",
       "    <tr>\n",
       "      <th>1</th>\n",
       "      <td>0</td>\n",
       "      <td>46.0</td>\n",
       "      <td>38000.0</td>\n",
       "      <td>1</td>\n",
       "      <td>1</td>\n",
       "    </tr>\n",
       "    <tr>\n",
       "      <th>2</th>\n",
       "      <td>0</td>\n",
       "      <td>29.0</td>\n",
       "      <td>21000.0</td>\n",
       "      <td>0</td>\n",
       "      <td>0</td>\n",
       "    </tr>\n",
       "    <tr>\n",
       "      <th>3</th>\n",
       "      <td>0</td>\n",
       "      <td>21.0</td>\n",
       "      <td>41700.0</td>\n",
       "      <td>2</td>\n",
       "      <td>0</td>\n",
       "    </tr>\n",
       "    <tr>\n",
       "      <th>4</th>\n",
       "      <td>1</td>\n",
       "      <td>28.0</td>\n",
       "      <td>26100.0</td>\n",
       "      <td>0</td>\n",
       "      <td>0</td>\n",
       "    </tr>\n",
       "  </tbody>\n",
       "</table>\n",
       "</div>"
      ],
      "text/plain": [
       "   Пол  Возраст  Зарплата  Члены семьи  Страховые выплаты\n",
       "0    1     41.0   49600.0            1                  0\n",
       "1    0     46.0   38000.0            1                  1\n",
       "2    0     29.0   21000.0            0                  0\n",
       "3    0     21.0   41700.0            2                  0\n",
       "4    1     28.0   26100.0            0                  0"
      ]
     },
     "metadata": {},
     "output_type": "display_data"
    }
   ],
   "source": [
    "print(f\"{Fore.GREEN}{Style.BRIGHT}Первые пять строк датасета:{Style.RESET_ALL}\")\n",
    "display(data.head(5))"
   ]
  },
  {
   "cell_type": "markdown",
   "metadata": {},
   "source": [
    "**Проверка на пропущенные значения**"
   ]
  },
  {
   "cell_type": "code",
   "execution_count": 4,
   "metadata": {},
   "outputs": [
    {
     "name": "stdout",
     "output_type": "stream",
     "text": [
      "\u001b[31m\u001b[1mПропуски в данных:\u001b[0m\n"
     ]
    },
    {
     "data": {
      "text/plain": [
       "Пол                  0\n",
       "Возраст              0\n",
       "Зарплата             0\n",
       "Члены семьи          0\n",
       "Страховые выплаты    0\n",
       "dtype: int64"
      ]
     },
     "metadata": {},
     "output_type": "display_data"
    }
   ],
   "source": [
    "print(f\"{Fore.RED}{Style.BRIGHT}Пропуски в данных:{Style.RESET_ALL}\")\n",
    "display(data.isna().sum())"
   ]
  },
  {
   "cell_type": "markdown",
   "metadata": {},
   "source": [
    "**Информация по датафрейму**"
   ]
  },
  {
   "cell_type": "code",
   "execution_count": 5,
   "metadata": {},
   "outputs": [
    {
     "name": "stdout",
     "output_type": "stream",
     "text": [
      "\u001b[32m\u001b[1mИнформация по датафрейму:\u001b[0m \n",
      "\n",
      "<class 'pandas.core.frame.DataFrame'>\n",
      "RangeIndex: 5000 entries, 0 to 4999\n",
      "Data columns (total 5 columns):\n",
      " #   Column             Non-Null Count  Dtype  \n",
      "---  ------             --------------  -----  \n",
      " 0   Пол                5000 non-null   int64  \n",
      " 1   Возраст            5000 non-null   float64\n",
      " 2   Зарплата           5000 non-null   float64\n",
      " 3   Члены семьи        5000 non-null   int64  \n",
      " 4   Страховые выплаты  5000 non-null   int64  \n",
      "dtypes: float64(2), int64(3)\n",
      "memory usage: 195.4 KB\n"
     ]
    }
   ],
   "source": [
    "print(f\"{Fore.GREEN}{Style.BRIGHT}Информация по датафрейму:{Style.RESET_ALL} \\n\") \n",
    "data.info()"
   ]
  },
  {
   "cell_type": "markdown",
   "metadata": {},
   "source": [
    "Т.к. `Зарплата` и `Возраст` у нас целочисленные, можно помеять тип данных на более оптимальный. В колонках `Пол`, `Члены семьи` и `Страховые выплаты` значения только `0` и `1`. Тут тоже пожно помеять на более оптимальный тип данных."
   ]
  },
  {
   "cell_type": "code",
   "execution_count": 6,
   "metadata": {},
   "outputs": [],
   "source": [
    "data[['Пол', 'Возраст', 'Члены семьи', 'Страховые выплаты'\n",
    "      ]] = data[['Пол', 'Возраст', 'Члены семьи',\n",
    "                 'Страховые выплаты']].astype('int8')\n",
    "data['Зарплата'] = data['Зарплата'].astype('int64')"
   ]
  },
  {
   "cell_type": "markdown",
   "metadata": {},
   "source": [
    "**Проверка на дубликаты**"
   ]
  },
  {
   "cell_type": "code",
   "execution_count": 7,
   "metadata": {},
   "outputs": [
    {
     "name": "stdout",
     "output_type": "stream",
     "text": [
      "\u001b[31m\u001b[1mДубликаты в данных:\u001b[0m\n"
     ]
    },
    {
     "data": {
      "text/plain": [
       "153"
      ]
     },
     "metadata": {},
     "output_type": "display_data"
    }
   ],
   "source": [
    "print(f\"{Fore.RED}{Style.BRIGHT}Дубликаты в данных:{Style.RESET_ALL}\")\n",
    "display(data.duplicated().sum())"
   ]
  },
  {
   "cell_type": "code",
   "execution_count": 8,
   "metadata": {},
   "outputs": [
    {
     "data": {
      "text/html": [
       "<div>\n",
       "<style scoped>\n",
       "    .dataframe tbody tr th:only-of-type {\n",
       "        vertical-align: middle;\n",
       "    }\n",
       "\n",
       "    .dataframe tbody tr th {\n",
       "        vertical-align: top;\n",
       "    }\n",
       "\n",
       "    .dataframe thead th {\n",
       "        text-align: right;\n",
       "    }\n",
       "</style>\n",
       "<table border=\"1\" class=\"dataframe\">\n",
       "  <thead>\n",
       "    <tr style=\"text-align: right;\">\n",
       "      <th></th>\n",
       "      <th>Пол</th>\n",
       "      <th>Возраст</th>\n",
       "      <th>Зарплата</th>\n",
       "      <th>Члены семьи</th>\n",
       "      <th>Страховые выплаты</th>\n",
       "    </tr>\n",
       "  </thead>\n",
       "  <tbody>\n",
       "    <tr>\n",
       "      <th>2955</th>\n",
       "      <td>1</td>\n",
       "      <td>32</td>\n",
       "      <td>21600</td>\n",
       "      <td>0</td>\n",
       "      <td>0</td>\n",
       "    </tr>\n",
       "    <tr>\n",
       "      <th>2988</th>\n",
       "      <td>1</td>\n",
       "      <td>32</td>\n",
       "      <td>21600</td>\n",
       "      <td>0</td>\n",
       "      <td>0</td>\n",
       "    </tr>\n",
       "    <tr>\n",
       "      <th>361</th>\n",
       "      <td>0</td>\n",
       "      <td>50</td>\n",
       "      <td>24700</td>\n",
       "      <td>1</td>\n",
       "      <td>2</td>\n",
       "    </tr>\n",
       "    <tr>\n",
       "      <th>2869</th>\n",
       "      <td>0</td>\n",
       "      <td>50</td>\n",
       "      <td>24700</td>\n",
       "      <td>1</td>\n",
       "      <td>2</td>\n",
       "    </tr>\n",
       "    <tr>\n",
       "      <th>333</th>\n",
       "      <td>0</td>\n",
       "      <td>32</td>\n",
       "      <td>25600</td>\n",
       "      <td>1</td>\n",
       "      <td>0</td>\n",
       "    </tr>\n",
       "    <tr>\n",
       "      <th>4230</th>\n",
       "      <td>0</td>\n",
       "      <td>32</td>\n",
       "      <td>25600</td>\n",
       "      <td>1</td>\n",
       "      <td>0</td>\n",
       "    </tr>\n",
       "    <tr>\n",
       "      <th>1378</th>\n",
       "      <td>0</td>\n",
       "      <td>36</td>\n",
       "      <td>26400</td>\n",
       "      <td>0</td>\n",
       "      <td>0</td>\n",
       "    </tr>\n",
       "    <tr>\n",
       "      <th>2723</th>\n",
       "      <td>0</td>\n",
       "      <td>36</td>\n",
       "      <td>26400</td>\n",
       "      <td>0</td>\n",
       "      <td>0</td>\n",
       "    </tr>\n",
       "    <tr>\n",
       "      <th>1002</th>\n",
       "      <td>1</td>\n",
       "      <td>34</td>\n",
       "      <td>26900</td>\n",
       "      <td>0</td>\n",
       "      <td>0</td>\n",
       "    </tr>\n",
       "    <tr>\n",
       "      <th>1140</th>\n",
       "      <td>1</td>\n",
       "      <td>34</td>\n",
       "      <td>26900</td>\n",
       "      <td>0</td>\n",
       "      <td>0</td>\n",
       "    </tr>\n",
       "    <tr>\n",
       "      <th>1678</th>\n",
       "      <td>1</td>\n",
       "      <td>31</td>\n",
       "      <td>27900</td>\n",
       "      <td>1</td>\n",
       "      <td>0</td>\n",
       "    </tr>\n",
       "    <tr>\n",
       "      <th>2565</th>\n",
       "      <td>1</td>\n",
       "      <td>31</td>\n",
       "      <td>27900</td>\n",
       "      <td>1</td>\n",
       "      <td>0</td>\n",
       "    </tr>\n",
       "    <tr>\n",
       "      <th>471</th>\n",
       "      <td>1</td>\n",
       "      <td>30</td>\n",
       "      <td>28200</td>\n",
       "      <td>0</td>\n",
       "      <td>0</td>\n",
       "    </tr>\n",
       "    <tr>\n",
       "      <th>3315</th>\n",
       "      <td>1</td>\n",
       "      <td>30</td>\n",
       "      <td>28200</td>\n",
       "      <td>0</td>\n",
       "      <td>0</td>\n",
       "    </tr>\n",
       "    <tr>\n",
       "      <th>720</th>\n",
       "      <td>0</td>\n",
       "      <td>25</td>\n",
       "      <td>28300</td>\n",
       "      <td>0</td>\n",
       "      <td>0</td>\n",
       "    </tr>\n",
       "    <tr>\n",
       "      <th>2501</th>\n",
       "      <td>0</td>\n",
       "      <td>25</td>\n",
       "      <td>28300</td>\n",
       "      <td>0</td>\n",
       "      <td>0</td>\n",
       "    </tr>\n",
       "    <tr>\n",
       "      <th>3119</th>\n",
       "      <td>1</td>\n",
       "      <td>31</td>\n",
       "      <td>28400</td>\n",
       "      <td>1</td>\n",
       "      <td>0</td>\n",
       "    </tr>\n",
       "    <tr>\n",
       "      <th>4189</th>\n",
       "      <td>1</td>\n",
       "      <td>31</td>\n",
       "      <td>28400</td>\n",
       "      <td>1</td>\n",
       "      <td>0</td>\n",
       "    </tr>\n",
       "    <tr>\n",
       "      <th>3333</th>\n",
       "      <td>0</td>\n",
       "      <td>36</td>\n",
       "      <td>29700</td>\n",
       "      <td>2</td>\n",
       "      <td>0</td>\n",
       "    </tr>\n",
       "    <tr>\n",
       "      <th>2519</th>\n",
       "      <td>0</td>\n",
       "      <td>36</td>\n",
       "      <td>29700</td>\n",
       "      <td>2</td>\n",
       "      <td>0</td>\n",
       "    </tr>\n",
       "  </tbody>\n",
       "</table>\n",
       "</div>"
      ],
      "text/plain": [
       "      Пол  Возраст  Зарплата  Члены семьи  Страховые выплаты\n",
       "2955    1       32     21600            0                  0\n",
       "2988    1       32     21600            0                  0\n",
       "361     0       50     24700            1                  2\n",
       "2869    0       50     24700            1                  2\n",
       "333     0       32     25600            1                  0\n",
       "4230    0       32     25600            1                  0\n",
       "1378    0       36     26400            0                  0\n",
       "2723    0       36     26400            0                  0\n",
       "1002    1       34     26900            0                  0\n",
       "1140    1       34     26900            0                  0\n",
       "1678    1       31     27900            1                  0\n",
       "2565    1       31     27900            1                  0\n",
       "471     1       30     28200            0                  0\n",
       "3315    1       30     28200            0                  0\n",
       "720     0       25     28300            0                  0\n",
       "2501    0       25     28300            0                  0\n",
       "3119    1       31     28400            1                  0\n",
       "4189    1       31     28400            1                  0\n",
       "3333    0       36     29700            2                  0\n",
       "2519    0       36     29700            2                  0"
      ]
     },
     "metadata": {},
     "output_type": "display_data"
    }
   ],
   "source": [
    "display(\n",
    "    data.loc[data.duplicated(keep=False)].sort_values(by='Зарплата').head(20))"
   ]
  },
  {
   "cell_type": "markdown",
   "metadata": {},
   "source": [
    "В данных присутствуют дубликаты, но т.к. стотит другая задача исседования оставим как есть."
   ]
  },
  {
   "cell_type": "markdown",
   "metadata": {},
   "source": [
    "**Данные подготовлены к дальнейшему исследованию.**"
   ]
  },
  {
   "cell_type": "markdown",
   "metadata": {},
   "source": [
    "## Умножение матриц"
   ]
  },
  {
   "cell_type": "markdown",
   "metadata": {},
   "source": [
    "Обозначения:\n",
    "\n",
    "- $X$ — матрица признаков (нулевой столбец состоит из единиц)\n",
    "\n",
    "- $y$ — вектор целевого признака\n",
    "\n",
    "- $P$ — матрица, на которую умножаются признаки\n",
    "\n",
    "- $w$ — вектор весов линейной регрессии (нулевой элемент равен сдвигу)"
   ]
  },
  {
   "cell_type": "markdown",
   "metadata": {},
   "source": [
    "Предсказания:\n",
    "\n",
    "$$\n",
    "a = Xw\n",
    "$$\n",
    "\n",
    "Задача обучения:\n",
    "\n",
    "$$\n",
    "w = \\arg\\min_w MSE(Xw, y)\n",
    "$$\n",
    "\n",
    "Формула обучения:\n",
    "\n",
    "$$\n",
    "w = (X^T X)^{-1} X^T y\n",
    "$$"
   ]
  },
  {
   "cell_type": "markdown",
   "metadata": {},
   "source": [
    "**До проведения преобразований рассчитаем метрику `R2` для линейной регрессии по вышеуказанной формуле.**"
   ]
  },
  {
   "cell_type": "markdown",
   "metadata": {},
   "source": [
    "**Выделение признаков и целевого признака.**"
   ]
  },
  {
   "cell_type": "code",
   "execution_count": 9,
   "metadata": {},
   "outputs": [],
   "source": [
    "features = data.drop(['Страховые выплаты'], axis=1)\n",
    "target = data['Страховые выплаты']"
   ]
  },
  {
   "cell_type": "markdown",
   "metadata": {},
   "source": [
    "**Разделение на тренировочную и тестовую выборки.**"
   ]
  },
  {
   "cell_type": "code",
   "execution_count": 10,
   "metadata": {},
   "outputs": [],
   "source": [
    "train_features, test_features, train_target, test_target = train_test_split(\n",
    "    features, target, test_size=0.25, random_state=RANDOM)"
   ]
  },
  {
   "cell_type": "markdown",
   "metadata": {},
   "source": [
    "**Модель по исходным формулам для предсказания значений.**"
   ]
  },
  {
   "cell_type": "code",
   "execution_count": 11,
   "metadata": {},
   "outputs": [],
   "source": [
    "class LinRegression:\n",
    "    def fit(self, train_features, train_target):\n",
    "        X = np.concatenate((np.ones(\n",
    "            (train_features.shape[0], 1)), train_features),\n",
    "                           axis=1)\n",
    "        y = train_target\n",
    "        w = (np.linalg.inv(X.T.dot(X)).dot(X.T)).dot(y)\n",
    "        self.w = w[1:]\n",
    "        self.w0 = w[0]\n",
    "\n",
    "    def predict(self, test_features):\n",
    "        return test_features.dot(self.w) + self.w0"
   ]
  },
  {
   "cell_type": "code",
   "execution_count": 12,
   "metadata": {},
   "outputs": [],
   "source": [
    "model = LinRegression()\n",
    "model.fit(train_features, train_target)\n",
    "predict = model.predict(test_features)\n",
    "\n",
    "score_r2 = round(r2_score(test_target, predict), 6)"
   ]
  },
  {
   "cell_type": "code",
   "execution_count": 13,
   "metadata": {},
   "outputs": [
    {
     "name": "stdout",
     "output_type": "stream",
     "text": [
      "\u001b[31m\u001b[1mМетрика R2 для самостоятельно построенной модели: \u001b[34m\u001b[1m0.424962\u001b[0m\n"
     ]
    }
   ],
   "source": [
    "print(\n",
    "    f\"{Fore.RED}{Style.BRIGHT}Метрика R2 для самостоятельно построенной модели: {Fore.BLUE}{Style.BRIGHT}{score_r2}{Style.RESET_ALL}\"\n",
    ")"
   ]
  },
  {
   "cell_type": "markdown",
   "metadata": {},
   "source": [
    "**Для сравнения правильности построения модели и результатов её работы найдем метрику при помощи линейной регрессии из `sklearn`.**"
   ]
  },
  {
   "cell_type": "code",
   "execution_count": 14,
   "metadata": {},
   "outputs": [],
   "source": [
    "model_skl = LinearRegression()\n",
    "model_skl.fit(train_features, train_target)\n",
    "predict_skl = model_skl.predict(test_features)\n",
    "\n",
    "score_r2_skl = round(r2_score(test_target, predict_skl), 6)"
   ]
  },
  {
   "cell_type": "code",
   "execution_count": 15,
   "metadata": {},
   "outputs": [
    {
     "name": "stdout",
     "output_type": "stream",
     "text": [
      "\u001b[31m\u001b[1mМетрика R2 для модели из sklearn: \u001b[32m\u001b[1m0.424962\u001b[0m\n"
     ]
    }
   ],
   "source": [
    "print(\n",
    "    f\"{Fore.RED}{Style.BRIGHT}Метрика R2 для модели из sklearn: {Fore.GREEN}{Style.BRIGHT}{score_r2_skl}{Style.RESET_ALL}\"\n",
    ")"
   ]
  },
  {
   "cell_type": "markdown",
   "metadata": {},
   "source": [
    "Модели построены. "
   ]
  },
  {
   "cell_type": "markdown",
   "metadata": {},
   "source": [
    "**Вопрос исследования: Изменится ли качество линейной регрессии, если признаки умножить на обратимую матрицу** \n",
    "\n",
    "**Ответ: не изменится** \n",
    "\n",
    "**Обоснование:** \n",
    "\n",
    "Необходимо доказать, что при умножении исходной матрицы $X$ на обратимую матрицу $P$ предсказания модели и соответственно метрика `R2` не изменятся.\n",
    "\n",
    "Обозначим новую матрицу $Q$ как произведение матриц $X$ и $P$\n",
    "$$Q = XP$$\n",
    "\n",
    "Формула обучения теперь выглядит так:    $w1 = (Q^T Q)^{-1} Q^{T} y$\n",
    "\n",
    "Заменим в формуле $Q$ на $X$ и $P$: $w1 = ((XP)^T (XP))^{-1} (XP)^{T} y$\n",
    "\n",
    "Предсказания будут выглядеть соответсвенно: $a1 = (XP)((XP)^T (XP))^{-1} (XP)^{T} y$\n",
    "\n",
    "Для преобразования и раскрытия скобок необходимо учитывать свойства матриц:\n",
    "\n",
    " - $(AB)^{-1} = B^{-1}A^{-1}$\n",
    " - $(AB)^{T} = B^{T}A^{T}$\n",
    " - $AA^{-1} = E$ , где $E$ - единичная матрица \n",
    " - $AE = EA = A$\n",
    " \n",
    "Преобразуем $w1 = ((XP)^T (XP))^{-1} (XP)^T y$ \n",
    "\n",
    "$$w1 = ((XP)^T (XP))^{-1} (XP)^T y = (P^{T}X^{T}(XP))^{-1} P^{T}X^{T}y = $$\n",
    "$$ = (P^{T}(X^{T}X)P)^{-1} P^{T}X^{T} y = $$\n",
    "$$ = P^{-1}(X^{T}X)^{-1}(P^{T})^{-1} P^{T}X^{T} y = $$\n",
    "согласно свойствам $ (P^{T})^{-1} P^{T} = E$\n",
    "\n",
    "$$w1 = P^{-1}(X^{T}X)^{-1} EX^{T} y = P^{-1}(X^{T}X)^{-1} X^{T} y$$\n",
    "\n",
    "\n",
    "Из формулы видно, что $(X^{T}X)^{-1}X^{T}y$ это есть $w = (X^T X)^{-1} X^T y$ из условия задачи.\n",
    "\n",
    "Соотвественно получаем: $w1 = P^{-1} w$\n",
    "\n",
    "Подставим в это значение в исходную формулу: $a = Xw$\n",
    "\n",
    "$a1 = Qw1 = (XP) P^{-1} w = X(P P^{-1})w = XEw = Xw$\n",
    "\n",
    "В результате $a = a1$\n",
    "\n",
    "**Что и требовалось доказать.**"
   ]
  },
  {
   "cell_type": "markdown",
   "metadata": {},
   "source": [
    "## Алгоритм преобразования"
   ]
  },
  {
   "cell_type": "markdown",
   "metadata": {},
   "source": [
    "**Алгоритм**\n",
    "\n",
    "Для защиты данных нужно умножать матрицу признаков на обратимую матрицу, которая будет генерироваться случайно функцией `np.random.normal` и рассчитать метрику для линейной регрессии с новыми признаками."
   ]
  },
  {
   "cell_type": "markdown",
   "metadata": {},
   "source": [
    "**Обоснование**\n",
    "\n",
    "В пункте 2 было доказано, что умножение признаков на обратимую матрицу не должно привести к изменениям результатов. Метрики для моделей с неизмененными признаками рассчитаны выше.  \n",
    "\n",
    "\n",
    "Создаем рандомную матрицу:"
   ]
  },
  {
   "cell_type": "code",
   "execution_count": 16,
   "metadata": {},
   "outputs": [
    {
     "name": "stdout",
     "output_type": "stream",
     "text": [
      "\u001b[95m\u001b[1mРандомная матрица 4х4:\u001b[1m\u001b[0m\n",
      "[[4.78170258 4.74340139 4.58569292 5.42453251]\n",
      " [5.027623   4.05058948 6.54070765 3.6272019 ]\n",
      " [4.24622491 7.13369984 4.0377412  3.49254707]\n",
      " [4.44292983 2.8160619  4.69872087 5.32668571]]\n"
     ]
    }
   ],
   "source": [
    "n = features.shape[1]\n",
    "random_matrix = np.random.normal(5, size=(n, n))\n",
    "\n",
    "print(\n",
    "    f\"{Fore.LIGHTMAGENTA_EX}{Style.BRIGHT}Рандомная матрица 4х4:{Style.BRIGHT}{Style.RESET_ALL}\\n{random_matrix}\"\n",
    ")"
   ]
  },
  {
   "cell_type": "markdown",
   "metadata": {},
   "source": [
    "**Проверка на обратимость**"
   ]
  },
  {
   "cell_type": "code",
   "execution_count": 17,
   "metadata": {},
   "outputs": [
    {
     "name": "stdout",
     "output_type": "stream",
     "text": [
      "\u001b[31m\u001b[1mОбратная матрица к рандомной матрице:\u001b[1m\u001b[0m\n",
      "[[ 19.51138061   3.55752544  -8.35662745 -16.81309383]\n",
      " [ -3.16960915  -0.63916356   1.57136845   2.63277123]\n",
      " [ -9.66897884  -1.42455148   4.0046582    8.19090349]\n",
      " [ -6.0694489   -1.37277519   2.60688695   5.59420657]]\n"
     ]
    }
   ],
   "source": [
    "print(\n",
    "    f\"{Fore.RED}{Style.BRIGHT}Обратная матрица к рандомной матрице:{Style.BRIGHT}{Style.RESET_ALL}\\n{np.linalg.inv(random_matrix)}\"\n",
    ")"
   ]
  },
  {
   "cell_type": "markdown",
   "metadata": {},
   "source": [
    "При умножении рандомной матрицы на обратную должна получиться единчная матрица."
   ]
  },
  {
   "cell_type": "code",
   "execution_count": 18,
   "metadata": {},
   "outputs": [
    {
     "name": "stdout",
     "output_type": "stream",
     "text": [
      "\u001b[32m\u001b[1mЕдиничная матрица:\u001b[1m\u001b[0m\n",
      "[[ 1. -0. -0.  0.]\n",
      " [ 0.  1.  0.  0.]\n",
      " [ 0. -0.  1.  0.]\n",
      " [ 0.  0. -0.  1.]]\n"
     ]
    }
   ],
   "source": [
    "print(\n",
    "    f\"{Fore.GREEN}{Style.BRIGHT}Единичная матрица:{Style.BRIGHT}{Style.RESET_ALL}\\n{np.round(random_matrix @ np.linalg.inv(random_matrix))}\"\n",
    ")"
   ]
  },
  {
   "cell_type": "markdown",
   "metadata": {},
   "source": [
    "**Матрица для проверки алгоритма готова**"
   ]
  },
  {
   "cell_type": "markdown",
   "metadata": {},
   "source": [
    "## Проверка алгоритма"
   ]
  },
  {
   "cell_type": "markdown",
   "metadata": {},
   "source": [
    "**Умножаем признаки на трейне и тесте на рандомную матрицу**"
   ]
  },
  {
   "cell_type": "code",
   "execution_count": 19,
   "metadata": {},
   "outputs": [],
   "source": [
    "train_features_new = train_features.dot(random_matrix)\n",
    "test_features_new = test_features.dot(random_matrix)"
   ]
  },
  {
   "cell_type": "markdown",
   "metadata": {},
   "source": [
    "**Проверка результатов умножения**"
   ]
  },
  {
   "cell_type": "code",
   "execution_count": 20,
   "metadata": {},
   "outputs": [
    {
     "data": {
      "text/html": [
       "<div>\n",
       "<style scoped>\n",
       "    .dataframe tbody tr th:only-of-type {\n",
       "        vertical-align: middle;\n",
       "    }\n",
       "\n",
       "    .dataframe tbody tr th {\n",
       "        vertical-align: top;\n",
       "    }\n",
       "\n",
       "    .dataframe thead th {\n",
       "        text-align: right;\n",
       "    }\n",
       "</style>\n",
       "<table border=\"1\" class=\"dataframe\">\n",
       "  <thead>\n",
       "    <tr style=\"text-align: right;\">\n",
       "      <th></th>\n",
       "      <th>Пол</th>\n",
       "      <th>Возраст</th>\n",
       "      <th>Зарплата</th>\n",
       "      <th>Члены семьи</th>\n",
       "    </tr>\n",
       "  </thead>\n",
       "  <tbody>\n",
       "    <tr>\n",
       "      <th>3958</th>\n",
       "      <td>204847.035295</td>\n",
       "      <td>343987.142682</td>\n",
       "      <td>194847.110193</td>\n",
       "      <td>168478.244038</td>\n",
       "    </tr>\n",
       "    <tr>\n",
       "      <th>4768</th>\n",
       "      <td>237109.704704</td>\n",
       "      <td>398196.936522</td>\n",
       "      <td>225526.500863</td>\n",
       "      <td>195009.151102</td>\n",
       "    </tr>\n",
       "    <tr>\n",
       "      <th>326</th>\n",
       "      <td>154374.016748</td>\n",
       "      <td>259144.374667</td>\n",
       "      <td>146875.463694</td>\n",
       "      <td>126951.734622</td>\n",
       "    </tr>\n",
       "    <tr>\n",
       "      <th>2026</th>\n",
       "      <td>189162.895306</td>\n",
       "      <td>317616.409809</td>\n",
       "      <td>179945.697263</td>\n",
       "      <td>155568.857421</td>\n",
       "    </tr>\n",
       "    <tr>\n",
       "      <th>586</th>\n",
       "      <td>216706.884010</td>\n",
       "      <td>363938.433222</td>\n",
       "      <td>206115.383285</td>\n",
       "      <td>178233.913151</td>\n",
       "    </tr>\n",
       "    <tr>\n",
       "      <th>...</th>\n",
       "      <td>...</td>\n",
       "      <td>...</td>\n",
       "      <td>...</td>\n",
       "      <td>...</td>\n",
       "    </tr>\n",
       "    <tr>\n",
       "      <th>664</th>\n",
       "      <td>150841.290995</td>\n",
       "      <td>253328.048880</td>\n",
       "      <td>143468.671630</td>\n",
       "      <td>124059.762511</td>\n",
       "    </tr>\n",
       "    <tr>\n",
       "      <th>3276</th>\n",
       "      <td>151324.490883</td>\n",
       "      <td>254086.322355</td>\n",
       "      <td>143945.408281</td>\n",
       "      <td>124457.642093</td>\n",
       "    </tr>\n",
       "    <tr>\n",
       "      <th>1318</th>\n",
       "      <td>171702.173462</td>\n",
       "      <td>288324.572708</td>\n",
       "      <td>163323.822320</td>\n",
       "      <td>141214.744033</td>\n",
       "    </tr>\n",
       "    <tr>\n",
       "      <th>723</th>\n",
       "      <td>175629.940661</td>\n",
       "      <td>294831.199469</td>\n",
       "      <td>167096.986245</td>\n",
       "      <td>144432.508156</td>\n",
       "    </tr>\n",
       "    <tr>\n",
       "      <th>2863</th>\n",
       "      <td>121576.608982</td>\n",
       "      <td>204130.712251</td>\n",
       "      <td>115652.313366</td>\n",
       "      <td>99988.179748</td>\n",
       "    </tr>\n",
       "  </tbody>\n",
       "</table>\n",
       "<p>3750 rows × 4 columns</p>\n",
       "</div>"
      ],
      "text/plain": [
       "                Пол        Возраст       Зарплата    Члены семьи\n",
       "3958  204847.035295  343987.142682  194847.110193  168478.244038\n",
       "4768  237109.704704  398196.936522  225526.500863  195009.151102\n",
       "326   154374.016748  259144.374667  146875.463694  126951.734622\n",
       "2026  189162.895306  317616.409809  179945.697263  155568.857421\n",
       "586   216706.884010  363938.433222  206115.383285  178233.913151\n",
       "...             ...            ...            ...            ...\n",
       "664   150841.290995  253328.048880  143468.671630  124059.762511\n",
       "3276  151324.490883  254086.322355  143945.408281  124457.642093\n",
       "1318  171702.173462  288324.572708  163323.822320  141214.744033\n",
       "723   175629.940661  294831.199469  167096.986245  144432.508156\n",
       "2863  121576.608982  204130.712251  115652.313366   99988.179748\n",
       "\n",
       "[3750 rows x 4 columns]"
      ]
     },
     "execution_count": 20,
     "metadata": {},
     "output_type": "execute_result"
    }
   ],
   "source": [
    "train_features_new.columns = train_features.columns\n",
    "train_features_new"
   ]
  },
  {
   "cell_type": "code",
   "execution_count": 21,
   "metadata": {},
   "outputs": [
    {
     "data": {
      "text/html": [
       "<div>\n",
       "<style scoped>\n",
       "    .dataframe tbody tr th:only-of-type {\n",
       "        vertical-align: middle;\n",
       "    }\n",
       "\n",
       "    .dataframe tbody tr th {\n",
       "        vertical-align: top;\n",
       "    }\n",
       "\n",
       "    .dataframe thead th {\n",
       "        text-align: right;\n",
       "    }\n",
       "</style>\n",
       "<table border=\"1\" class=\"dataframe\">\n",
       "  <thead>\n",
       "    <tr style=\"text-align: right;\">\n",
       "      <th></th>\n",
       "      <th>Пол</th>\n",
       "      <th>Возраст</th>\n",
       "      <th>Зарплата</th>\n",
       "      <th>Члены семьи</th>\n",
       "    </tr>\n",
       "  </thead>\n",
       "  <tbody>\n",
       "    <tr>\n",
       "      <th>2706</th>\n",
       "      <td>149242.768796</td>\n",
       "      <td>250554.346207</td>\n",
       "      <td>141982.547317</td>\n",
       "      <td>122736.987203</td>\n",
       "    </tr>\n",
       "    <tr>\n",
       "      <th>2436</th>\n",
       "      <td>169998.409953</td>\n",
       "      <td>285467.734995</td>\n",
       "      <td>161700.230119</td>\n",
       "      <td>139815.895332</td>\n",
       "    </tr>\n",
       "    <tr>\n",
       "      <th>1201</th>\n",
       "      <td>150406.859178</td>\n",
       "      <td>252605.884905</td>\n",
       "      <td>143053.771110</td>\n",
       "      <td>123701.456069</td>\n",
       "    </tr>\n",
       "    <tr>\n",
       "      <th>1486</th>\n",
       "      <td>136993.490951</td>\n",
       "      <td>229918.039810</td>\n",
       "      <td>130356.285059</td>\n",
       "      <td>112657.453795</td>\n",
       "    </tr>\n",
       "    <tr>\n",
       "      <th>4286</th>\n",
       "      <td>116911.373893</td>\n",
       "      <td>196288.927546</td>\n",
       "      <td>111219.180743</td>\n",
       "      <td>96148.305684</td>\n",
       "    </tr>\n",
       "    <tr>\n",
       "      <th>...</th>\n",
       "      <td>...</td>\n",
       "      <td>...</td>\n",
       "      <td>...</td>\n",
       "      <td>...</td>\n",
       "    </tr>\n",
       "    <tr>\n",
       "      <th>3871</th>\n",
       "      <td>223970.376198</td>\n",
       "      <td>376100.250914</td>\n",
       "      <td>213038.522717</td>\n",
       "      <td>184203.790148</td>\n",
       "    </tr>\n",
       "    <tr>\n",
       "      <th>1075</th>\n",
       "      <td>212446.406840</td>\n",
       "      <td>356793.123330</td>\n",
       "      <td>202061.816967</td>\n",
       "      <td>174726.987657</td>\n",
       "    </tr>\n",
       "    <tr>\n",
       "      <th>40</th>\n",
       "      <td>170914.183421</td>\n",
       "      <td>286949.601681</td>\n",
       "      <td>162596.491531</td>\n",
       "      <td>140558.159404</td>\n",
       "    </tr>\n",
       "    <tr>\n",
       "      <th>1619</th>\n",
       "      <td>186134.064627</td>\n",
       "      <td>312575.794382</td>\n",
       "      <td>177043.646667</td>\n",
       "      <td>153087.574215</td>\n",
       "    </tr>\n",
       "    <tr>\n",
       "      <th>754</th>\n",
       "      <td>198432.110544</td>\n",
       "      <td>333248.210279</td>\n",
       "      <td>188731.745057</td>\n",
       "      <td>163206.680762</td>\n",
       "    </tr>\n",
       "  </tbody>\n",
       "</table>\n",
       "<p>1250 rows × 4 columns</p>\n",
       "</div>"
      ],
      "text/plain": [
       "                Пол        Возраст       Зарплата    Члены семьи\n",
       "2706  149242.768796  250554.346207  141982.547317  122736.987203\n",
       "2436  169998.409953  285467.734995  161700.230119  139815.895332\n",
       "1201  150406.859178  252605.884905  143053.771110  123701.456069\n",
       "1486  136993.490951  229918.039810  130356.285059  112657.453795\n",
       "4286  116911.373893  196288.927546  111219.180743   96148.305684\n",
       "...             ...            ...            ...            ...\n",
       "3871  223970.376198  376100.250914  213038.522717  184203.790148\n",
       "1075  212446.406840  356793.123330  202061.816967  174726.987657\n",
       "40    170914.183421  286949.601681  162596.491531  140558.159404\n",
       "1619  186134.064627  312575.794382  177043.646667  153087.574215\n",
       "754   198432.110544  333248.210279  188731.745057  163206.680762\n",
       "\n",
       "[1250 rows x 4 columns]"
      ]
     },
     "execution_count": 21,
     "metadata": {},
     "output_type": "execute_result"
    }
   ],
   "source": [
    "test_features_new.columns = test_features.columns\n",
    "test_features_new"
   ]
  },
  {
   "cell_type": "markdown",
   "metadata": {},
   "source": [
    "**Модель для предсказания значений и метрика `R2` c измененными признаками**"
   ]
  },
  {
   "cell_type": "code",
   "execution_count": 22,
   "metadata": {},
   "outputs": [],
   "source": [
    "model_new = LinRegression()\n",
    "model_new.fit(train_features_new, train_target)\n",
    "predict_new = model_new.predict(test_features_new)\n",
    "\n",
    "score_r2_new = round(r2_score(test_target, predict_new), 6)"
   ]
  },
  {
   "cell_type": "code",
   "execution_count": 23,
   "metadata": {},
   "outputs": [
    {
     "name": "stdout",
     "output_type": "stream",
     "text": [
      "\u001b[31m\u001b[1mМетрика R2 для самостоятельно построенной модели с изменёнными признаками: \u001b[34m\u001b[1m0.42494\u001b[0m\n"
     ]
    }
   ],
   "source": [
    "print(\n",
    "    f\"{Fore.RED}{Style.BRIGHT}Метрика R2 для самостоятельно построенной модели с изменёнными признаками: {Fore.BLUE}{Style.BRIGHT}{score_r2_new}{Style.RESET_ALL}\"\n",
    ")"
   ]
  },
  {
   "cell_type": "markdown",
   "metadata": {},
   "source": [
    "**Модель и метрика `R2` для линейной регрессии из `sklearn`с изменёнными признаками.**"
   ]
  },
  {
   "cell_type": "code",
   "execution_count": 24,
   "metadata": {},
   "outputs": [],
   "source": [
    "model_skl_new = LinearRegression()\n",
    "model_skl_new.fit(train_features_new, train_target)\n",
    "predict_skl_new = model_skl_new.predict(test_features_new)\n",
    "\n",
    "score_r2_skl_new = round(r2_score(test_target, predict_skl_new), 6)"
   ]
  },
  {
   "cell_type": "code",
   "execution_count": 25,
   "metadata": {},
   "outputs": [
    {
     "name": "stdout",
     "output_type": "stream",
     "text": [
      "\u001b[31m\u001b[1mМетрика R2 для модели из sklearn с изменёнными признаками: \u001b[32m\u001b[1m0.424962\u001b[0m\n"
     ]
    }
   ],
   "source": [
    "print(\n",
    "    f\"{Fore.RED}{Style.BRIGHT}Метрика R2 для модели из sklearn с изменёнными признаками: {Fore.GREEN}{Style.BRIGHT}{score_r2_skl_new}{Style.RESET_ALL}\"\n",
    ")"
   ]
  },
  {
   "cell_type": "markdown",
   "metadata": {},
   "source": [
    "**Результы сведённые в единую таблицу**"
   ]
  },
  {
   "cell_type": "code",
   "execution_count": 26,
   "metadata": {},
   "outputs": [],
   "source": [
    "data_result = pd.DataFrame({\n",
    "    'Модель': [\n",
    "        'Собственная модель', 'Модель из sklearn',\n",
    "        'Собственная модель с изменёнными признаками',\n",
    "        'Модель из sklearn с изменёнными признаками'\n",
    "    ],\n",
    "    'Значение метрики R2':\n",
    "    [score_r2, score_r2_skl, score_r2_new, score_r2_skl_new],\n",
    "})"
   ]
  },
  {
   "cell_type": "code",
   "execution_count": 27,
   "metadata": {},
   "outputs": [],
   "source": [
    "def color_dataframe(df):\n",
    "    n = data_result.shape[1]\n",
    "    if 'Собственная' in df[\"Модель\"]:\n",
    "        return ['background-color: yellow'] * n\n",
    "    else:\n",
    "        return ['background-color: cyan'] * n"
   ]
  },
  {
   "cell_type": "code",
   "execution_count": 28,
   "metadata": {},
   "outputs": [
    {
     "data": {
      "text/html": [
       "<style type=\"text/css\">\n",
       "#T_9a2c8_row0_col0, #T_9a2c8_row0_col1, #T_9a2c8_row2_col0, #T_9a2c8_row2_col1 {\n",
       "  background-color: yellow;\n",
       "}\n",
       "#T_9a2c8_row1_col0, #T_9a2c8_row1_col1, #T_9a2c8_row3_col0, #T_9a2c8_row3_col1 {\n",
       "  background-color: cyan;\n",
       "}\n",
       "</style>\n",
       "<table id=\"T_9a2c8\">\n",
       "  <thead>\n",
       "    <tr>\n",
       "      <th class=\"blank level0\" >&nbsp;</th>\n",
       "      <th id=\"T_9a2c8_level0_col0\" class=\"col_heading level0 col0\" >Модель</th>\n",
       "      <th id=\"T_9a2c8_level0_col1\" class=\"col_heading level0 col1\" >Значение метрики R2</th>\n",
       "    </tr>\n",
       "  </thead>\n",
       "  <tbody>\n",
       "    <tr>\n",
       "      <th id=\"T_9a2c8_level0_row0\" class=\"row_heading level0 row0\" >0</th>\n",
       "      <td id=\"T_9a2c8_row0_col0\" class=\"data row0 col0\" >Собственная модель</td>\n",
       "      <td id=\"T_9a2c8_row0_col1\" class=\"data row0 col1\" >0.424962</td>\n",
       "    </tr>\n",
       "    <tr>\n",
       "      <th id=\"T_9a2c8_level0_row1\" class=\"row_heading level0 row1\" >1</th>\n",
       "      <td id=\"T_9a2c8_row1_col0\" class=\"data row1 col0\" >Модель из sklearn</td>\n",
       "      <td id=\"T_9a2c8_row1_col1\" class=\"data row1 col1\" >0.424962</td>\n",
       "    </tr>\n",
       "    <tr>\n",
       "      <th id=\"T_9a2c8_level0_row2\" class=\"row_heading level0 row2\" >2</th>\n",
       "      <td id=\"T_9a2c8_row2_col0\" class=\"data row2 col0\" >Собственная модель с изменёнными признаками</td>\n",
       "      <td id=\"T_9a2c8_row2_col1\" class=\"data row2 col1\" >0.424940</td>\n",
       "    </tr>\n",
       "    <tr>\n",
       "      <th id=\"T_9a2c8_level0_row3\" class=\"row_heading level0 row3\" >3</th>\n",
       "      <td id=\"T_9a2c8_row3_col0\" class=\"data row3 col0\" >Модель из sklearn с изменёнными признаками</td>\n",
       "      <td id=\"T_9a2c8_row3_col1\" class=\"data row3 col1\" >0.424962</td>\n",
       "    </tr>\n",
       "  </tbody>\n",
       "</table>\n"
      ],
      "text/plain": [
       "<pandas.io.formats.style.Styler at 0x7f3d5457e410>"
      ]
     },
     "execution_count": 28,
     "metadata": {},
     "output_type": "execute_result"
    }
   ],
   "source": [
    "data_result.style.apply(color_dataframe, axis=1)"
   ]
  },
  {
   "cell_type": "markdown",
   "metadata": {},
   "source": [
    "**Все показатели без изменений**"
   ]
  },
  {
   "cell_type": "markdown",
   "metadata": {},
   "source": [
    "## Вывод"
   ]
  },
  {
   "cell_type": "markdown",
   "metadata": {},
   "source": [
    "**В результате исследования было доказано что можно зашифровать данные клиентов при умножении исходной матрицы признаков на обратимую матрицу.**\n",
    "\n",
    "**Качество линейной регресии не изменилось от использования исxодных данных и данных, умноженных на обратимую матрицу.**"
   ]
  }
 ],
 "metadata": {
  "ExecuteTimeLog": [
   {
    "duration": 1217,
    "start_time": "2023-03-03T07:19:19.610Z"
   },
   {
    "duration": 2799,
    "start_time": "2023-03-03T07:19:47.943Z"
   },
   {
    "duration": 9,
    "start_time": "2023-03-03T07:20:27.645Z"
   },
   {
    "duration": 77,
    "start_time": "2023-03-03T07:20:58.618Z"
   },
   {
    "duration": 1090,
    "start_time": "2023-03-03T07:21:11.300Z"
   },
   {
    "duration": 29,
    "start_time": "2023-03-03T07:21:13.690Z"
   },
   {
    "duration": 14,
    "start_time": "2023-03-03T07:21:40.974Z"
   },
   {
    "duration": 6,
    "start_time": "2023-03-03T07:22:13.928Z"
   },
   {
    "duration": 10,
    "start_time": "2023-03-03T07:22:41.245Z"
   },
   {
    "duration": 7,
    "start_time": "2023-03-03T07:23:30.076Z"
   },
   {
    "duration": 7,
    "start_time": "2023-03-03T07:23:57.418Z"
   },
   {
    "duration": 11,
    "start_time": "2023-03-03T07:24:06.021Z"
   },
   {
    "duration": 4,
    "start_time": "2023-03-03T07:25:32.741Z"
   },
   {
    "duration": 5,
    "start_time": "2023-03-03T07:25:58.591Z"
   },
   {
    "duration": 4,
    "start_time": "2023-03-03T07:26:23.851Z"
   },
   {
    "duration": 9,
    "start_time": "2023-03-03T07:26:37.475Z"
   },
   {
    "duration": 4,
    "start_time": "2023-03-03T07:26:46.382Z"
   },
   {
    "duration": 8,
    "start_time": "2023-03-03T07:27:09.474Z"
   },
   {
    "duration": 3,
    "start_time": "2023-03-03T07:27:21.762Z"
   },
   {
    "duration": 4,
    "start_time": "2023-03-03T07:29:34.458Z"
   },
   {
    "duration": 4,
    "start_time": "2023-03-03T07:30:10.038Z"
   },
   {
    "duration": 4,
    "start_time": "2023-03-03T07:30:33.957Z"
   },
   {
    "duration": 4,
    "start_time": "2023-03-03T07:31:23.718Z"
   },
   {
    "duration": 11,
    "start_time": "2023-03-03T07:31:42.724Z"
   },
   {
    "duration": 11,
    "start_time": "2023-03-03T07:31:52.530Z"
   },
   {
    "duration": 96,
    "start_time": "2023-03-03T07:32:07.959Z"
   },
   {
    "duration": 7,
    "start_time": "2023-03-03T07:32:22.487Z"
   },
   {
    "duration": 3,
    "start_time": "2023-03-03T07:32:32.545Z"
   },
   {
    "duration": 9,
    "start_time": "2023-03-03T07:33:02.701Z"
   },
   {
    "duration": 3,
    "start_time": "2023-03-03T07:33:12.200Z"
   },
   {
    "duration": 4,
    "start_time": "2023-03-03T07:33:42.352Z"
   },
   {
    "duration": 4,
    "start_time": "2023-03-03T07:33:50.258Z"
   },
   {
    "duration": 433,
    "start_time": "2023-03-03T07:33:58.415Z"
   },
   {
    "duration": 1058,
    "start_time": "2023-03-03T07:35:28.705Z"
   },
   {
    "duration": 29,
    "start_time": "2023-03-03T07:35:30.289Z"
   },
   {
    "duration": 16,
    "start_time": "2023-03-03T07:35:31.487Z"
   },
   {
    "duration": 6,
    "start_time": "2023-03-03T07:35:32.588Z"
   },
   {
    "duration": 11,
    "start_time": "2023-03-03T07:35:33.688Z"
   },
   {
    "duration": 7,
    "start_time": "2023-03-03T07:35:34.748Z"
   },
   {
    "duration": 9,
    "start_time": "2023-03-03T07:35:35.995Z"
   },
   {
    "duration": 15,
    "start_time": "2023-03-03T07:35:36.664Z"
   },
   {
    "duration": 4,
    "start_time": "2023-03-03T07:35:40.709Z"
   },
   {
    "duration": 4,
    "start_time": "2023-03-03T07:35:41.802Z"
   },
   {
    "duration": 4,
    "start_time": "2023-03-03T07:35:42.843Z"
   },
   {
    "duration": 6,
    "start_time": "2023-03-03T07:35:43.536Z"
   },
   {
    "duration": 4,
    "start_time": "2023-03-03T07:35:44.037Z"
   },
   {
    "duration": 8,
    "start_time": "2023-03-03T07:35:46.146Z"
   },
   {
    "duration": 4,
    "start_time": "2023-03-03T07:35:46.654Z"
   },
   {
    "duration": 4,
    "start_time": "2023-03-03T07:35:50.409Z"
   },
   {
    "duration": 4,
    "start_time": "2023-03-03T07:35:51.472Z"
   },
   {
    "duration": 5,
    "start_time": "2023-03-03T07:35:52.444Z"
   },
   {
    "duration": 4,
    "start_time": "2023-03-03T07:35:56.141Z"
   },
   {
    "duration": 14,
    "start_time": "2023-03-03T07:35:57.485Z"
   },
   {
    "duration": 12,
    "start_time": "2023-03-03T07:35:58.073Z"
   },
   {
    "duration": 6,
    "start_time": "2023-03-03T07:35:59.638Z"
   },
   {
    "duration": 4,
    "start_time": "2023-03-03T07:36:00.173Z"
   },
   {
    "duration": 9,
    "start_time": "2023-03-03T07:36:01.503Z"
   },
   {
    "duration": 3,
    "start_time": "2023-03-03T07:36:02.189Z"
   },
   {
    "duration": 4,
    "start_time": "2023-03-03T07:36:04.027Z"
   },
   {
    "duration": 3,
    "start_time": "2023-03-03T07:36:04.568Z"
   },
   {
    "duration": 291,
    "start_time": "2023-03-03T07:36:05.198Z"
   },
   {
    "duration": 218,
    "start_time": "2023-03-03T09:27:51.486Z"
   },
   {
    "duration": 1388,
    "start_time": "2023-03-03T09:33:54.984Z"
   },
   {
    "duration": 3570,
    "start_time": "2023-03-03T09:34:41.553Z"
   },
   {
    "duration": 1392,
    "start_time": "2023-03-03T09:35:00.907Z"
   },
   {
    "duration": 88,
    "start_time": "2023-03-03T09:35:03.801Z"
   },
   {
    "duration": 19,
    "start_time": "2023-03-03T09:35:05.188Z"
   },
   {
    "duration": 10,
    "start_time": "2023-03-03T09:35:06.385Z"
   },
   {
    "duration": 13,
    "start_time": "2023-03-03T09:35:07.576Z"
   },
   {
    "duration": 9,
    "start_time": "2023-03-03T09:35:08.757Z"
   },
   {
    "duration": 7,
    "start_time": "2023-03-03T09:35:09.684Z"
   },
   {
    "duration": 20,
    "start_time": "2023-03-03T09:35:10.336Z"
   },
   {
    "duration": 5,
    "start_time": "2023-03-03T09:35:17.259Z"
   },
   {
    "duration": 6,
    "start_time": "2023-03-03T09:35:18.178Z"
   },
   {
    "duration": 4,
    "start_time": "2023-03-03T09:35:19.109Z"
   },
   {
    "duration": 22,
    "start_time": "2023-03-03T09:35:19.738Z"
   },
   {
    "duration": 3,
    "start_time": "2023-03-03T09:35:20.313Z"
   },
   {
    "duration": 10,
    "start_time": "2023-03-03T09:35:21.526Z"
   },
   {
    "duration": 4,
    "start_time": "2023-03-03T09:35:22.009Z"
   },
   {
    "duration": 5,
    "start_time": "2023-03-03T09:35:27.103Z"
   },
   {
    "duration": 4,
    "start_time": "2023-03-03T09:35:28.029Z"
   },
   {
    "duration": 5,
    "start_time": "2023-03-03T09:35:29.088Z"
   },
   {
    "duration": 4,
    "start_time": "2023-03-03T09:35:30.826Z"
   },
   {
    "duration": 13,
    "start_time": "2023-03-03T09:35:32.050Z"
   },
   {
    "duration": 13,
    "start_time": "2023-03-03T09:35:32.619Z"
   },
   {
    "duration": 6,
    "start_time": "2023-03-03T09:35:33.954Z"
   },
   {
    "duration": 4,
    "start_time": "2023-03-03T09:35:34.453Z"
   },
   {
    "duration": 9,
    "start_time": "2023-03-03T09:35:35.491Z"
   },
   {
    "duration": 3,
    "start_time": "2023-03-03T09:35:36.072Z"
   },
   {
    "duration": 5,
    "start_time": "2023-03-03T09:35:37.260Z"
   },
   {
    "duration": 3,
    "start_time": "2023-03-03T09:35:37.680Z"
   },
   {
    "duration": 549,
    "start_time": "2023-03-03T09:35:38.437Z"
   }
  ],
  "kernelspec": {
   "display_name": "Python 3 (ipykernel)",
   "language": "python",
   "name": "python3"
  },
  "language_info": {
   "codemirror_mode": {
    "name": "ipython",
    "version": 3
   },
   "file_extension": ".py",
   "mimetype": "text/x-python",
   "name": "python",
   "nbconvert_exporter": "python",
   "pygments_lexer": "ipython3",
   "version": "3.10.9"
  },
  "latex_envs": {
   "LaTeX_envs_menu_present": true,
   "autoclose": false,
   "autocomplete": true,
   "bibliofile": "biblio.bib",
   "cite_by": "apalike",
   "current_citInitial": 1,
   "eqLabelWithNumbers": true,
   "eqNumInitial": 1,
   "hotkeys": {
    "equation": "Ctrl-E",
    "itemize": "Ctrl-I"
   },
   "labels_anchors": false,
   "latex_user_defs": false,
   "report_style_numbering": false,
   "user_envs_cfg": false
  },
  "toc": {
   "base_numbering": 1,
   "nav_menu": {},
   "number_sections": true,
   "sideBar": true,
   "skip_h1_title": true,
   "title_cell": "Содержание",
   "title_sidebar": "Contents",
   "toc_cell": false,
   "toc_position": {
    "height": "calc(100% - 180px)",
    "left": "10px",
    "top": "150px",
    "width": "384px"
   },
   "toc_section_display": true,
   "toc_window_display": false
  },
  "varInspector": {
   "cols": {
    "lenName": 16,
    "lenType": 16,
    "lenVar": 40
   },
   "kernels_config": {
    "python": {
     "delete_cmd_postfix": "",
     "delete_cmd_prefix": "del ",
     "library": "var_list.py",
     "varRefreshCmd": "print(var_dic_list())"
    },
    "r": {
     "delete_cmd_postfix": ") ",
     "delete_cmd_prefix": "rm(",
     "library": "var_list.r",
     "varRefreshCmd": "cat(var_dic_list()) "
    }
   },
   "types_to_exclude": [
    "module",
    "function",
    "builtin_function_or_method",
    "instance",
    "_Feature"
   ],
   "window_display": false
  }
 },
 "nbformat": 4,
 "nbformat_minor": 4
}
