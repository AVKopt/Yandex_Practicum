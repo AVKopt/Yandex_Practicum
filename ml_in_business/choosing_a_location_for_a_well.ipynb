{
 "cells": [
  {
   "cell_type": "markdown",
   "metadata": {},
   "source": [
    "# Выбор локации для скважины"
   ]
  },
  {
   "cell_type": "markdown",
   "metadata": {},
   "source": [
    "## Описание проекта"
   ]
  },
  {
   "cell_type": "markdown",
   "metadata": {},
   "source": [
    "Добывающей компании «ГлавРосГосНефть» нужно решить, где бурить новую скважину.\n",
    "\n",
    "Имеются пробы нефти в трёх регионах: в каждом 10 000 месторождений, где измерили качество нефти и объём её запасов. Нужно построить модель машинного обучения, которая поможет определить регион, где добыча принесёт наибольшую прибыль. Проанализировать возможную прибыль и риски техникой *Bootstrap.*\n",
    "\n",
    "Шаги для выбора локации:\n",
    "\n",
    "- В избранном регионе ищут месторождения, для каждого определяют значения признаков;\n",
    "- Строят модель и оценивают объём запасов;\n",
    "- Выбирают месторождения с самым высокими оценками значений. Количество месторождений зависит от бюджета компании и стоимости разработки одной скважины;\n",
    "- Прибыль равна суммарной прибыли отобранных месторождений."
   ]
  },
  {
   "cell_type": "markdown",
   "metadata": {},
   "source": [
    "### Описание данных\n",
    "\n",
    "Данные геологоразведки трёх регионов находятся в файлах:\n",
    "\n",
    "- `/datasets/geo_data_0.csv`.\n",
    "- `/datasets/geo_data_1.csv`. \n",
    "- `/datasets/geo_data_2.csv`. \n",
    "- `id` — уникальный идентификатор скважины;\n",
    "- `f0`, `f1`, `f2` — три признака точек (неважно, что они означают, но сами признаки значимы);\n",
    "- `product` — объём запасов в скважине (тыс. баррелей)."
   ]
  },
  {
   "cell_type": "markdown",
   "metadata": {},
   "source": [
    "### План исследования\n",
    "\n",
    "1. Загрузить и подготовить данные.\n",
    "2. Обучить и проверить модели для каждого региона:\n",
    "   Для этого необходимо:  \n",
    "   - Разбить данные на обучающую и валидационную выборки в соотношении 75:25.\n",
    "   - Обучить модель и сделать предсказания на валидационной выборке.\n",
    "   - Сохранить предсказания и правильные ответы на валидационной выборке.\n",
    "   - Вывести на экран средний запас предсказанного сырья и RMSE модели.\n",
    "   - Анализ результатов.\n",
    "3. Подготовить расчёт прибыли:\n",
    "   Для этого необходимо:\n",
    "   - Все ключевые значения для расчётов сохранить в отдельных переменных.\n",
    "   - Рассчитать достаточный объём сырья для безубыточной разработки новой скважины. Сравнить полученный объём сырья со средним запасом в каждом регионе.\n",
    "   - Сделать выводы по этапу подготовки расчёта прибыли.\n",
    "4. Написать функцию для расчёта прибыли по выбранным скважинам и предсказаниям модели:\n",
    "   Для этого необходимо:\n",
    "   - Выбрать скважины с максимальными значениями предсказаний.\n",
    "   - Просуммировать целевое значение объёма сырья, соответствующее этим предсказаниям.\n",
    "   - Рассчитать прибыль для полученного объёма сырья.\n",
    "   \n",
    "   Посчитать риски и прибыль для каждого региона:\n",
    "   Для этого необходимо:\n",
    "   - Применить технику Bootstrap с 1000 выборок, чтобы найти распределение прибыли.\n",
    "   - Найти среднюю прибыль, 95%-й доверительный интервал и риск убытков. Убыток — это отрицательная прибыль.\n",
    "   - Сделать выводы: предложить регион для разработки скважин и обосновать выбор."
   ]
  },
  {
   "cell_type": "markdown",
   "metadata": {},
   "source": [
    "### Дополнительные условия\n",
    "\n",
    "- Для обучения модели подходит только линейная регрессия (остальные — недостаточно предсказуемые).\n",
    "- При разведке региона исследуют 500 точек, из которых с помощью машинного обучения выбирают 200 лучших для разработки.\n",
    "- Бюджет на разработку скважин в регионе — 10 млрд рублей.\n",
    "- При нынешних ценах один баррель сырья приносит 450 рублей дохода. Доход с каждой единицы продукта составляет 450 тыс. рублей, поскольку объём указан в тысячах баррелей.\n",
    "- После оценки рисков нужно оставить лишь те регионы, в которых вероятность убытков меньше 2.5%. Среди них выбирают регион с наибольшей средней прибылью."
   ]
  },
  {
   "cell_type": "markdown",
   "metadata": {},
   "source": [
    "## Загрузка и подготовка данных"
   ]
  },
  {
   "cell_type": "markdown",
   "metadata": {},
   "source": [
    "### Импорт необходимыx библиотек для работы"
   ]
  },
  {
   "cell_type": "code",
   "execution_count": 1,
   "metadata": {},
   "outputs": [],
   "source": [
    "import pandas as pd\n",
    "import matplotlib.pyplot as plt\n",
    "import numpy as np\n",
    "\n",
    "from numpy.random import RandomState\n",
    "from sklearn.model_selection import train_test_split\n",
    "from sklearn.preprocessing import StandardScaler\n",
    "from sklearn.linear_model import LinearRegression\n",
    "from sklearn.metrics import mean_squared_error\n",
    "from sklearn.model_selection import GridSearchCV\n",
    "\n",
    "import warnings\n",
    "\n",
    "warnings.filterwarnings('ignore')\n",
    "\n",
    "RANDOM = 12345  # значение random_state для моделирования"
   ]
  },
  {
   "cell_type": "markdown",
   "metadata": {},
   "source": [
    "### Загрузка данных из файлов `geo_data_0.csv`,  `geo_data_1.csv` и `geo_data_2 .csv` в датафреймы `data_0`, `data_1` и `data_2` соответственно."
   ]
  },
  {
   "cell_type": "code",
   "execution_count": 2,
   "metadata": {},
   "outputs": [],
   "source": [
    "try:\n",
    "    data_0 = pd.read_csv(\"/datasets/geo_data_0.csv\")  # датасет для Региона 1\n",
    "    data_1 = pd.read_csv(\"/datasets/geo_data_1.csv\")  # датасет для Региона 2\n",
    "    data_2 = pd.read_csv(\"/datasets/geo_data_2.csv\")  # датасет для Региона 3\n",
    "except FileNotFoundError:\n",
    "    data_0 = pd.read_csv(\"https://code.s3.yandex.net/datasets/geo_data_0.csv\")\n",
    "    data_1 = pd.read_csv(\"https://code.s3.yandex.net/datasets/geo_data_1.csv\")\n",
    "    data_2 = pd.read_csv(\"https://code.s3.yandex.net/datasets/geo_data_2.csv\")"
   ]
  },
  {
   "cell_type": "markdown",
   "metadata": {},
   "source": [
    "### Посмотрим правильность загрузки данных методом `head()` и информацию по дарафреймам методом `info()`"
   ]
  },
  {
   "cell_type": "code",
   "execution_count": 3,
   "metadata": {},
   "outputs": [
    {
     "name": "stdout",
     "output_type": "stream",
     "text": [
      "<class 'pandas.core.frame.DataFrame'>\n",
      "RangeIndex: 100000 entries, 0 to 99999\n",
      "Data columns (total 5 columns):\n",
      " #   Column   Non-Null Count   Dtype  \n",
      "---  ------   --------------   -----  \n",
      " 0   id       100000 non-null  object \n",
      " 1   f0       100000 non-null  float64\n",
      " 2   f1       100000 non-null  float64\n",
      " 3   f2       100000 non-null  float64\n",
      " 4   product  100000 non-null  float64\n",
      "dtypes: float64(4), object(1)\n",
      "memory usage: 3.8+ MB\n"
     ]
    }
   ],
   "source": [
    "data_0.info()"
   ]
  },
  {
   "cell_type": "code",
   "execution_count": 4,
   "metadata": {},
   "outputs": [
    {
     "data": {
      "text/html": [
       "<div>\n",
       "<style scoped>\n",
       "    .dataframe tbody tr th:only-of-type {\n",
       "        vertical-align: middle;\n",
       "    }\n",
       "\n",
       "    .dataframe tbody tr th {\n",
       "        vertical-align: top;\n",
       "    }\n",
       "\n",
       "    .dataframe thead th {\n",
       "        text-align: right;\n",
       "    }\n",
       "</style>\n",
       "<table border=\"1\" class=\"dataframe\">\n",
       "  <thead>\n",
       "    <tr style=\"text-align: right;\">\n",
       "      <th></th>\n",
       "      <th>id</th>\n",
       "      <th>f0</th>\n",
       "      <th>f1</th>\n",
       "      <th>f2</th>\n",
       "      <th>product</th>\n",
       "    </tr>\n",
       "  </thead>\n",
       "  <tbody>\n",
       "    <tr>\n",
       "      <th>0</th>\n",
       "      <td>txEyH</td>\n",
       "      <td>0.705745</td>\n",
       "      <td>-0.497823</td>\n",
       "      <td>1.221170</td>\n",
       "      <td>105.280062</td>\n",
       "    </tr>\n",
       "    <tr>\n",
       "      <th>1</th>\n",
       "      <td>2acmU</td>\n",
       "      <td>1.334711</td>\n",
       "      <td>-0.340164</td>\n",
       "      <td>4.365080</td>\n",
       "      <td>73.037750</td>\n",
       "    </tr>\n",
       "    <tr>\n",
       "      <th>2</th>\n",
       "      <td>409Wp</td>\n",
       "      <td>1.022732</td>\n",
       "      <td>0.151990</td>\n",
       "      <td>1.419926</td>\n",
       "      <td>85.265647</td>\n",
       "    </tr>\n",
       "    <tr>\n",
       "      <th>3</th>\n",
       "      <td>iJLyR</td>\n",
       "      <td>-0.032172</td>\n",
       "      <td>0.139033</td>\n",
       "      <td>2.978566</td>\n",
       "      <td>168.620776</td>\n",
       "    </tr>\n",
       "    <tr>\n",
       "      <th>4</th>\n",
       "      <td>Xdl7t</td>\n",
       "      <td>1.988431</td>\n",
       "      <td>0.155413</td>\n",
       "      <td>4.751769</td>\n",
       "      <td>154.036647</td>\n",
       "    </tr>\n",
       "  </tbody>\n",
       "</table>\n",
       "</div>"
      ],
      "text/plain": [
       "      id        f0        f1        f2     product\n",
       "0  txEyH  0.705745 -0.497823  1.221170  105.280062\n",
       "1  2acmU  1.334711 -0.340164  4.365080   73.037750\n",
       "2  409Wp  1.022732  0.151990  1.419926   85.265647\n",
       "3  iJLyR -0.032172  0.139033  2.978566  168.620776\n",
       "4  Xdl7t  1.988431  0.155413  4.751769  154.036647"
      ]
     },
     "execution_count": 4,
     "metadata": {},
     "output_type": "execute_result"
    }
   ],
   "source": [
    "data_0.head()"
   ]
  },
  {
   "cell_type": "code",
   "execution_count": 5,
   "metadata": {},
   "outputs": [
    {
     "name": "stdout",
     "output_type": "stream",
     "text": [
      "<class 'pandas.core.frame.DataFrame'>\n",
      "RangeIndex: 100000 entries, 0 to 99999\n",
      "Data columns (total 5 columns):\n",
      " #   Column   Non-Null Count   Dtype  \n",
      "---  ------   --------------   -----  \n",
      " 0   id       100000 non-null  object \n",
      " 1   f0       100000 non-null  float64\n",
      " 2   f1       100000 non-null  float64\n",
      " 3   f2       100000 non-null  float64\n",
      " 4   product  100000 non-null  float64\n",
      "dtypes: float64(4), object(1)\n",
      "memory usage: 3.8+ MB\n"
     ]
    }
   ],
   "source": [
    "data_1.info()"
   ]
  },
  {
   "cell_type": "code",
   "execution_count": 6,
   "metadata": {},
   "outputs": [
    {
     "data": {
      "text/html": [
       "<div>\n",
       "<style scoped>\n",
       "    .dataframe tbody tr th:only-of-type {\n",
       "        vertical-align: middle;\n",
       "    }\n",
       "\n",
       "    .dataframe tbody tr th {\n",
       "        vertical-align: top;\n",
       "    }\n",
       "\n",
       "    .dataframe thead th {\n",
       "        text-align: right;\n",
       "    }\n",
       "</style>\n",
       "<table border=\"1\" class=\"dataframe\">\n",
       "  <thead>\n",
       "    <tr style=\"text-align: right;\">\n",
       "      <th></th>\n",
       "      <th>id</th>\n",
       "      <th>f0</th>\n",
       "      <th>f1</th>\n",
       "      <th>f2</th>\n",
       "      <th>product</th>\n",
       "    </tr>\n",
       "  </thead>\n",
       "  <tbody>\n",
       "    <tr>\n",
       "      <th>0</th>\n",
       "      <td>kBEdx</td>\n",
       "      <td>-15.001348</td>\n",
       "      <td>-8.276000</td>\n",
       "      <td>-0.005876</td>\n",
       "      <td>3.179103</td>\n",
       "    </tr>\n",
       "    <tr>\n",
       "      <th>1</th>\n",
       "      <td>62mP7</td>\n",
       "      <td>14.272088</td>\n",
       "      <td>-3.475083</td>\n",
       "      <td>0.999183</td>\n",
       "      <td>26.953261</td>\n",
       "    </tr>\n",
       "    <tr>\n",
       "      <th>2</th>\n",
       "      <td>vyE1P</td>\n",
       "      <td>6.263187</td>\n",
       "      <td>-5.948386</td>\n",
       "      <td>5.001160</td>\n",
       "      <td>134.766305</td>\n",
       "    </tr>\n",
       "    <tr>\n",
       "      <th>3</th>\n",
       "      <td>KcrkZ</td>\n",
       "      <td>-13.081196</td>\n",
       "      <td>-11.506057</td>\n",
       "      <td>4.999415</td>\n",
       "      <td>137.945408</td>\n",
       "    </tr>\n",
       "    <tr>\n",
       "      <th>4</th>\n",
       "      <td>AHL4O</td>\n",
       "      <td>12.702195</td>\n",
       "      <td>-8.147433</td>\n",
       "      <td>5.004363</td>\n",
       "      <td>134.766305</td>\n",
       "    </tr>\n",
       "  </tbody>\n",
       "</table>\n",
       "</div>"
      ],
      "text/plain": [
       "      id         f0         f1        f2     product\n",
       "0  kBEdx -15.001348  -8.276000 -0.005876    3.179103\n",
       "1  62mP7  14.272088  -3.475083  0.999183   26.953261\n",
       "2  vyE1P   6.263187  -5.948386  5.001160  134.766305\n",
       "3  KcrkZ -13.081196 -11.506057  4.999415  137.945408\n",
       "4  AHL4O  12.702195  -8.147433  5.004363  134.766305"
      ]
     },
     "execution_count": 6,
     "metadata": {},
     "output_type": "execute_result"
    }
   ],
   "source": [
    "data_1.head()"
   ]
  },
  {
   "cell_type": "code",
   "execution_count": 7,
   "metadata": {},
   "outputs": [
    {
     "name": "stdout",
     "output_type": "stream",
     "text": [
      "<class 'pandas.core.frame.DataFrame'>\n",
      "RangeIndex: 100000 entries, 0 to 99999\n",
      "Data columns (total 5 columns):\n",
      " #   Column   Non-Null Count   Dtype  \n",
      "---  ------   --------------   -----  \n",
      " 0   id       100000 non-null  object \n",
      " 1   f0       100000 non-null  float64\n",
      " 2   f1       100000 non-null  float64\n",
      " 3   f2       100000 non-null  float64\n",
      " 4   product  100000 non-null  float64\n",
      "dtypes: float64(4), object(1)\n",
      "memory usage: 3.8+ MB\n"
     ]
    }
   ],
   "source": [
    "data_2.info()"
   ]
  },
  {
   "cell_type": "code",
   "execution_count": 8,
   "metadata": {},
   "outputs": [
    {
     "data": {
      "text/html": [
       "<div>\n",
       "<style scoped>\n",
       "    .dataframe tbody tr th:only-of-type {\n",
       "        vertical-align: middle;\n",
       "    }\n",
       "\n",
       "    .dataframe tbody tr th {\n",
       "        vertical-align: top;\n",
       "    }\n",
       "\n",
       "    .dataframe thead th {\n",
       "        text-align: right;\n",
       "    }\n",
       "</style>\n",
       "<table border=\"1\" class=\"dataframe\">\n",
       "  <thead>\n",
       "    <tr style=\"text-align: right;\">\n",
       "      <th></th>\n",
       "      <th>id</th>\n",
       "      <th>f0</th>\n",
       "      <th>f1</th>\n",
       "      <th>f2</th>\n",
       "      <th>product</th>\n",
       "    </tr>\n",
       "  </thead>\n",
       "  <tbody>\n",
       "    <tr>\n",
       "      <th>0</th>\n",
       "      <td>fwXo0</td>\n",
       "      <td>-1.146987</td>\n",
       "      <td>0.963328</td>\n",
       "      <td>-0.828965</td>\n",
       "      <td>27.758673</td>\n",
       "    </tr>\n",
       "    <tr>\n",
       "      <th>1</th>\n",
       "      <td>WJtFt</td>\n",
       "      <td>0.262778</td>\n",
       "      <td>0.269839</td>\n",
       "      <td>-2.530187</td>\n",
       "      <td>56.069697</td>\n",
       "    </tr>\n",
       "    <tr>\n",
       "      <th>2</th>\n",
       "      <td>ovLUW</td>\n",
       "      <td>0.194587</td>\n",
       "      <td>0.289035</td>\n",
       "      <td>-5.586433</td>\n",
       "      <td>62.871910</td>\n",
       "    </tr>\n",
       "    <tr>\n",
       "      <th>3</th>\n",
       "      <td>q6cA6</td>\n",
       "      <td>2.236060</td>\n",
       "      <td>-0.553760</td>\n",
       "      <td>0.930038</td>\n",
       "      <td>114.572842</td>\n",
       "    </tr>\n",
       "    <tr>\n",
       "      <th>4</th>\n",
       "      <td>WPMUX</td>\n",
       "      <td>-0.515993</td>\n",
       "      <td>1.716266</td>\n",
       "      <td>5.899011</td>\n",
       "      <td>149.600746</td>\n",
       "    </tr>\n",
       "  </tbody>\n",
       "</table>\n",
       "</div>"
      ],
      "text/plain": [
       "      id        f0        f1        f2     product\n",
       "0  fwXo0 -1.146987  0.963328 -0.828965   27.758673\n",
       "1  WJtFt  0.262778  0.269839 -2.530187   56.069697\n",
       "2  ovLUW  0.194587  0.289035 -5.586433   62.871910\n",
       "3  q6cA6  2.236060 -0.553760  0.930038  114.572842\n",
       "4  WPMUX -0.515993  1.716266  5.899011  149.600746"
      ]
     },
     "execution_count": 8,
     "metadata": {},
     "output_type": "execute_result"
    }
   ],
   "source": [
    "data_2.head()"
   ]
  },
  {
   "cell_type": "markdown",
   "metadata": {},
   "source": [
    "### Проверка на наличие пропущенных значений"
   ]
  },
  {
   "cell_type": "code",
   "execution_count": 9,
   "metadata": {},
   "outputs": [
    {
     "name": "stdout",
     "output_type": "stream",
     "text": [
      "Пропущенных значений в датафрейме data_0:\n",
      " id         0\n",
      "f0         0\n",
      "f1         0\n",
      "f2         0\n",
      "product    0\n",
      "dtype: int64\n",
      "\n",
      "Пропущенных значений в датафрейме data_1:\n",
      " id         0\n",
      "f0         0\n",
      "f1         0\n",
      "f2         0\n",
      "product    0\n",
      "dtype: int64\n",
      "\n",
      "Пропущенных значений в датафрейме data_2:\n",
      " id         0\n",
      "f0         0\n",
      "f1         0\n",
      "f2         0\n",
      "product    0\n",
      "dtype: int64\n",
      "\n"
     ]
    }
   ],
   "source": [
    "data = [data_0, data_1, data_2]\n",
    "for i in range(3):\n",
    "    print(\n",
    "        f\"Пропущенных значений в датафрейме data_{i}:\\n {data[i].isnull().sum()}\\n\"\n",
    "    )"
   ]
  },
  {
   "cell_type": "markdown",
   "metadata": {},
   "source": [
    "**Пропущенные значения отсутствуют.**"
   ]
  },
  {
   "cell_type": "markdown",
   "metadata": {},
   "source": [
    "### Проверка на наличие дубликатов"
   ]
  },
  {
   "cell_type": "code",
   "execution_count": 10,
   "metadata": {},
   "outputs": [
    {
     "name": "stdout",
     "output_type": "stream",
     "text": [
      "Пропущенных значений в датафрейме data_0: 0\n",
      "\n",
      "Пропущенных значений в датафрейме data_1: 0\n",
      "\n",
      "Пропущенных значений в датафрейме data_2: 0\n",
      "\n"
     ]
    }
   ],
   "source": [
    "for i in range(3):\n",
    "    print(\n",
    "        f\"Пропущенных значений в датафрейме data_{i}: {data[i].duplicated().sum()}\\n\"\n",
    "    )"
   ]
  },
  {
   "cell_type": "markdown",
   "metadata": {},
   "source": [
    "**Дубликаты отсутствуют.**"
   ]
  },
  {
   "cell_type": "markdown",
   "metadata": {},
   "source": [
    "### Проверка на уникальные значения"
   ]
  },
  {
   "cell_type": "code",
   "execution_count": 11,
   "metadata": {},
   "outputs": [
    {
     "name": "stdout",
     "output_type": "stream",
     "text": [
      "Уникальные начения в датафрейме data_0:\n",
      " id          99990\n",
      "f0         100000\n",
      "f1         100000\n",
      "f2         100000\n",
      "product    100000\n",
      "dtype: int64\n",
      "\n",
      "Уникальные начения в датафрейме data_1:\n",
      " id          99996\n",
      "f0         100000\n",
      "f1         100000\n",
      "f2         100000\n",
      "product        12\n",
      "dtype: int64\n",
      "\n",
      "Уникальные начения в датафрейме data_2:\n",
      " id          99996\n",
      "f0         100000\n",
      "f1         100000\n",
      "f2         100000\n",
      "product    100000\n",
      "dtype: int64\n",
      "\n"
     ]
    }
   ],
   "source": [
    "for i in range(3):\n",
    "    print(f\"Уникальные начения в датафрейме data_{i}:\\n {data[i].nunique()}\\n\")"
   ]
  },
  {
   "cell_type": "markdown",
   "metadata": {},
   "source": [
    "Видно что, `id` повторяется в датафреймах. И странное значение `product` в одном из датафреймов."
   ]
  },
  {
   "cell_type": "code",
   "execution_count": 12,
   "metadata": {},
   "outputs": [
    {
     "data": {
      "text/plain": [
       "fiKDv    2\n",
       "QcMuo    2\n",
       "AGS9W    2\n",
       "Tdehs    2\n",
       "74z30    2\n",
       "        ..\n",
       "x8osI    1\n",
       "gZ7tR    1\n",
       "Zw8hj    1\n",
       "zcrQO    1\n",
       "1CWhH    1\n",
       "Name: id, Length: 99990, dtype: int64"
      ]
     },
     "execution_count": 12,
     "metadata": {},
     "output_type": "execute_result"
    }
   ],
   "source": [
    "data_0['id'].value_counts()"
   ]
  },
  {
   "cell_type": "code",
   "execution_count": 13,
   "metadata": {},
   "outputs": [
    {
     "data": {
      "text/plain": [
       "wt4Uk    2\n",
       "LHZR0    2\n",
       "5ltQ6    2\n",
       "bfPNe    2\n",
       "kBEdx    1\n",
       "        ..\n",
       "eup2F    1\n",
       "5Z8yO    1\n",
       "HwvM0    1\n",
       "MZgPf    1\n",
       "relB0    1\n",
       "Name: id, Length: 99996, dtype: int64"
      ]
     },
     "execution_count": 13,
     "metadata": {},
     "output_type": "execute_result"
    }
   ],
   "source": [
    "data_1['id'].value_counts()"
   ]
  },
  {
   "cell_type": "code",
   "execution_count": 14,
   "metadata": {},
   "outputs": [
    {
     "data": {
      "text/plain": [
       "VF7Jo    2\n",
       "KUPhW    2\n",
       "xCHr8    2\n",
       "Vcm5J    2\n",
       "fwXo0    1\n",
       "        ..\n",
       "bdHH6    1\n",
       "copuS    1\n",
       "hZYbu    1\n",
       "7K1cP    1\n",
       "V9kWn    1\n",
       "Name: id, Length: 99996, dtype: int64"
      ]
     },
     "execution_count": 14,
     "metadata": {},
     "output_type": "execute_result"
    }
   ],
   "source": [
    "data_2['id'].value_counts()"
   ]
  },
  {
   "cell_type": "markdown",
   "metadata": {},
   "source": [
    "Проверка дублированных `id` в каждом из датафреймов"
   ]
  },
  {
   "cell_type": "code",
   "execution_count": 15,
   "metadata": {},
   "outputs": [
    {
     "data": {
      "text/html": [
       "<div>\n",
       "<style scoped>\n",
       "    .dataframe tbody tr th:only-of-type {\n",
       "        vertical-align: middle;\n",
       "    }\n",
       "\n",
       "    .dataframe tbody tr th {\n",
       "        vertical-align: top;\n",
       "    }\n",
       "\n",
       "    .dataframe thead th {\n",
       "        text-align: right;\n",
       "    }\n",
       "</style>\n",
       "<table border=\"1\" class=\"dataframe\">\n",
       "  <thead>\n",
       "    <tr style=\"text-align: right;\">\n",
       "      <th></th>\n",
       "      <th>id</th>\n",
       "      <th>f0</th>\n",
       "      <th>f1</th>\n",
       "      <th>f2</th>\n",
       "      <th>product</th>\n",
       "    </tr>\n",
       "  </thead>\n",
       "  <tbody>\n",
       "    <tr>\n",
       "      <th>16633</th>\n",
       "      <td>fiKDv</td>\n",
       "      <td>0.157341</td>\n",
       "      <td>1.028359</td>\n",
       "      <td>5.585586</td>\n",
       "      <td>95.817889</td>\n",
       "    </tr>\n",
       "    <tr>\n",
       "      <th>90815</th>\n",
       "      <td>fiKDv</td>\n",
       "      <td>0.049883</td>\n",
       "      <td>0.841313</td>\n",
       "      <td>6.394613</td>\n",
       "      <td>137.346586</td>\n",
       "    </tr>\n",
       "  </tbody>\n",
       "</table>\n",
       "</div>"
      ],
      "text/plain": [
       "          id        f0        f1        f2     product\n",
       "16633  fiKDv  0.157341  1.028359  5.585586   95.817889\n",
       "90815  fiKDv  0.049883  0.841313  6.394613  137.346586"
      ]
     },
     "execution_count": 15,
     "metadata": {},
     "output_type": "execute_result"
    }
   ],
   "source": [
    "data_0[data_0['id'] == 'fiKDv']"
   ]
  },
  {
   "cell_type": "code",
   "execution_count": 16,
   "metadata": {},
   "outputs": [
    {
     "data": {
      "text/html": [
       "<div>\n",
       "<style scoped>\n",
       "    .dataframe tbody tr th:only-of-type {\n",
       "        vertical-align: middle;\n",
       "    }\n",
       "\n",
       "    .dataframe tbody tr th {\n",
       "        vertical-align: top;\n",
       "    }\n",
       "\n",
       "    .dataframe thead th {\n",
       "        text-align: right;\n",
       "    }\n",
       "</style>\n",
       "<table border=\"1\" class=\"dataframe\">\n",
       "  <thead>\n",
       "    <tr style=\"text-align: right;\">\n",
       "      <th></th>\n",
       "      <th>id</th>\n",
       "      <th>f0</th>\n",
       "      <th>f1</th>\n",
       "      <th>f2</th>\n",
       "      <th>product</th>\n",
       "    </tr>\n",
       "  </thead>\n",
       "  <tbody>\n",
       "    <tr>\n",
       "      <th>47591</th>\n",
       "      <td>wt4Uk</td>\n",
       "      <td>-9.091098</td>\n",
       "      <td>-8.109279</td>\n",
       "      <td>-0.002314</td>\n",
       "      <td>3.179103</td>\n",
       "    </tr>\n",
       "    <tr>\n",
       "      <th>82873</th>\n",
       "      <td>wt4Uk</td>\n",
       "      <td>10.259972</td>\n",
       "      <td>-9.376355</td>\n",
       "      <td>4.994297</td>\n",
       "      <td>134.766305</td>\n",
       "    </tr>\n",
       "  </tbody>\n",
       "</table>\n",
       "</div>"
      ],
      "text/plain": [
       "          id         f0        f1        f2     product\n",
       "47591  wt4Uk  -9.091098 -8.109279 -0.002314    3.179103\n",
       "82873  wt4Uk  10.259972 -9.376355  4.994297  134.766305"
      ]
     },
     "execution_count": 16,
     "metadata": {},
     "output_type": "execute_result"
    }
   ],
   "source": [
    "data_1[data_1['id'] == 'wt4Uk']"
   ]
  },
  {
   "cell_type": "code",
   "execution_count": 17,
   "metadata": {},
   "outputs": [
    {
     "data": {
      "text/html": [
       "<div>\n",
       "<style scoped>\n",
       "    .dataframe tbody tr th:only-of-type {\n",
       "        vertical-align: middle;\n",
       "    }\n",
       "\n",
       "    .dataframe tbody tr th {\n",
       "        vertical-align: top;\n",
       "    }\n",
       "\n",
       "    .dataframe thead th {\n",
       "        text-align: right;\n",
       "    }\n",
       "</style>\n",
       "<table border=\"1\" class=\"dataframe\">\n",
       "  <thead>\n",
       "    <tr style=\"text-align: right;\">\n",
       "      <th></th>\n",
       "      <th>id</th>\n",
       "      <th>f0</th>\n",
       "      <th>f1</th>\n",
       "      <th>f2</th>\n",
       "      <th>product</th>\n",
       "    </tr>\n",
       "  </thead>\n",
       "  <tbody>\n",
       "    <tr>\n",
       "      <th>11449</th>\n",
       "      <td>VF7Jo</td>\n",
       "      <td>2.122656</td>\n",
       "      <td>-0.858275</td>\n",
       "      <td>5.746001</td>\n",
       "      <td>181.716817</td>\n",
       "    </tr>\n",
       "    <tr>\n",
       "      <th>49564</th>\n",
       "      <td>VF7Jo</td>\n",
       "      <td>-0.883115</td>\n",
       "      <td>0.560537</td>\n",
       "      <td>0.723601</td>\n",
       "      <td>136.233420</td>\n",
       "    </tr>\n",
       "  </tbody>\n",
       "</table>\n",
       "</div>"
      ],
      "text/plain": [
       "          id        f0        f1        f2     product\n",
       "11449  VF7Jo  2.122656 -0.858275  5.746001  181.716817\n",
       "49564  VF7Jo -0.883115  0.560537  0.723601  136.233420"
      ]
     },
     "execution_count": 17,
     "metadata": {},
     "output_type": "execute_result"
    }
   ],
   "source": [
    "data_2[data_2['id'] == 'VF7Jo']"
   ]
  },
  {
   "cell_type": "markdown",
   "metadata": {},
   "source": [
    "Видно, что при одинаковых `id` все остальные данные разные. Возможно это ошибки  `id`. Но удалять строки будет не корретно. Оставим как есть.\n",
    "\n",
    "Странные значения `product` рассмотрем наглядно на гистограмме"
   ]
  },
  {
   "cell_type": "markdown",
   "metadata": {},
   "source": [
    "### Гистограмма распределения по объему скважин"
   ]
  },
  {
   "cell_type": "code",
   "execution_count": 18,
   "metadata": {},
   "outputs": [
    {
     "data": {
      "image/png": "[encoded data removed]",
      "text/plain": [
       "<Figure size 900x600 with 1 Axes>"
      ]
     },
     "metadata": {},
     "output_type": "display_data"
    },
    {
     "data": {
      "image/png": "[encoded data removed]",
      "text/plain": [
       "<Figure size 900x600 with 1 Axes>"
      ]
     },
     "metadata": {},
     "output_type": "display_data"
    },
    {
     "data": {
      "image/png": "[encoded data removed]",
      "text/plain": [
       "<Figure size 900x600 with 1 Axes>"
      ]
     },
     "metadata": {},
     "output_type": "display_data"
    }
   ],
   "source": [
    "for i in range(3):\n",
    "    plt.figure(figsize=[9, 6])\n",
    "    plt.hist(data[i]['product'], bins=200)\n",
    "    plt.xlim([0, 200])\n",
    "    plt.ylim([0, 1000])\n",
    "    plt.xlabel(\"Объем нефти на скважину, тыс. барелей\")\n",
    "    plt.ylabel(\"Количество скважин\")\n",
    "    plt.title(\"Гистограмма распределения по объему скважин\")\n",
    "    plt.show()"
   ]
  },
  {
   "cell_type": "markdown",
   "metadata": {},
   "source": [
    "У первого и третьего датасета распределение скважин близкое к нормальному. Во втором датасете данные имеют странное распределение: с шагом по 20 -30  распределены все 10000 значений. Вполне возможно, что часть нулевых скважин просто еще не имеют разведданных"
   ]
  },
  {
   "cell_type": "markdown",
   "metadata": {},
   "source": [
    "### Удаление лишнего столбца `id`\n",
    "\n",
    "Столбец `id` c с тектстовыми идентификаторами скважин можно удалить, т.к. данные в ней будут мешать обучению моделей"
   ]
  },
  {
   "cell_type": "code",
   "execution_count": 19,
   "metadata": {},
   "outputs": [],
   "source": [
    "data_0 = data_0.drop(['id'], axis=1)\n",
    "data_1 = data_1.drop(['id'], axis=1)\n",
    "data_2 = data_2.drop(['id'], axis=1)"
   ]
  },
  {
   "cell_type": "markdown",
   "metadata": {},
   "source": [
    "### Вывод\n",
    "\n",
    "Данные подготовлены к дальнейшему исследованию:\n",
    "\n",
    "- созданы датафрейма `data_0`, `data_1` и `data_2`\n",
    "- удален столбец `id` из каждого из датафреймов"
   ]
  },
  {
   "cell_type": "markdown",
   "metadata": {},
   "source": [
    "## Обучение и проверка модели"
   ]
  },
  {
   "cell_type": "markdown",
   "metadata": {},
   "source": [
    "### Разбиение данных на обучающую и валидационную выборки в соотношении 75:25.\n",
    "\n",
    "Для разбиения напишем функцию `split_scaler`, которая формирует датасеты для признаков и целевого признака, разбивает выборку на обучающую и валидационную выборки в соотношении 75:25 и стандартизирует численные признаки методом StandardScaler(), а так же выводит на экран информацию о  разбиении датасета."
   ]
  },
  {
   "cell_type": "code",
   "execution_count": 20,
   "metadata": {},
   "outputs": [],
   "source": [
    "# в качестве аргументов подается датасет, список численных признаков и название целевого признака\n",
    "def split_scaler(data, numeric, target):\n",
    "\n",
    "    features = data.drop([target], axis=1)\n",
    "    target = data[target]\n",
    "\n",
    "    features_train, features_valid, target_train, target_valid = train_test_split(\n",
    "        features, target, test_size=0.25, random_state=RANDOM)\n",
    "\n",
    "    scaler = StandardScaler()\n",
    "    scaler.fit(features_train[numeric])\n",
    "    features_train[numeric] = scaler.transform(features_train[numeric])\n",
    "    features_valid[numeric] = scaler.transform(features_valid[numeric])\n",
    "    print(f\"Размер выборки после разбиения.\\n\")\n",
    "    print(\n",
    "        f\"Обучающая выборка: признаки - {features_train.shape}, целевой признак - {target_train.shape}\\n\"\n",
    "    )\n",
    "    print(\n",
    "        f\"Валидационная выборка: признаки - {features_valid.shape}, целевой признак - {target_valid.shape}\"\n",
    "    )\n",
    "\n",
    "    return (features_train, features_valid, target_train, target_valid)"
   ]
  },
  {
   "cell_type": "markdown",
   "metadata": {},
   "source": [
    "Применим функцию `split_scaler` к датасетам `data_0`, `data_1` и `data_2`."
   ]
  },
  {
   "cell_type": "code",
   "execution_count": 21,
   "metadata": {},
   "outputs": [
    {
     "name": "stdout",
     "output_type": "stream",
     "text": [
      "Размер выборки после разбиения.\n",
      "\n",
      "Обучающая выборка: признаки - (75000, 3), целевой признак - (75000,)\n",
      "\n",
      "Валидационная выборка: признаки - (25000, 3), целевой признак - (25000,)\n"
     ]
    }
   ],
   "source": [
    "features_train_0, features_valid_0, target_train_0, target_valid_0 = split_scaler(\n",
    "    data_0, ['f0', 'f1', 'f2'], 'product')"
   ]
  },
  {
   "cell_type": "code",
   "execution_count": 22,
   "metadata": {},
   "outputs": [
    {
     "name": "stdout",
     "output_type": "stream",
     "text": [
      "Размер выборки после разбиения.\n",
      "\n",
      "Обучающая выборка: признаки - (75000, 3), целевой признак - (75000,)\n",
      "\n",
      "Валидационная выборка: признаки - (25000, 3), целевой признак - (25000,)\n"
     ]
    }
   ],
   "source": [
    "features_train_1, features_valid_1, target_train_1, target_valid_1 = split_scaler(\n",
    "    data_1, ['f0', 'f1', 'f2'], 'product')"
   ]
  },
  {
   "cell_type": "code",
   "execution_count": 23,
   "metadata": {},
   "outputs": [
    {
     "name": "stdout",
     "output_type": "stream",
     "text": [
      "Размер выборки после разбиения.\n",
      "\n",
      "Обучающая выборка: признаки - (75000, 3), целевой признак - (75000,)\n",
      "\n",
      "Валидационная выборка: признаки - (25000, 3), целевой признак - (25000,)\n"
     ]
    }
   ],
   "source": [
    "features_train_2, features_valid_2, target_train_2, target_valid_2 = split_scaler(\n",
    "    data_2, ['f0', 'f1', 'f2'], 'product')"
   ]
  },
  {
   "cell_type": "markdown",
   "metadata": {},
   "source": [
    "**Исходные датасеты разделены правильно**"
   ]
  },
  {
   "cell_type": "markdown",
   "metadata": {},
   "source": [
    "### Обучение модели и предсказания на валидационной выборке и сохранение предсказаний на валидационной выборке"
   ]
  },
  {
   "cell_type": "markdown",
   "metadata": {},
   "source": [
    "Подбор наилучших гиперпараметов для каждого из разделенных датасетов при помощи `GridSearchCV`"
   ]
  },
  {
   "cell_type": "code",
   "execution_count": 24,
   "metadata": {},
   "outputs": [],
   "source": [
    "def grid_best_param(features_train, target_train):\n",
    "    model_grid = LinearRegression()\n",
    "    parameters = {\n",
    "        'fit_intercept': [True, False],\n",
    "        'copy_X': [True, False]\n",
    "    }\n",
    "    grid = GridSearchCV(model_grid, parameters)\n",
    "    grid.fit(features_train, target_train)\n",
    "    return grid.best_params_"
   ]
  },
  {
   "cell_type": "code",
   "execution_count": 25,
   "metadata": {},
   "outputs": [
    {
     "name": "stdout",
     "output_type": "stream",
     "text": [
      "Лучшие гиперпараметры линейной регрессии для разделенного на выборки датасета data_0:\n",
      " {'copy_X': True, 'fit_intercept': True}\n"
     ]
    }
   ],
   "source": [
    "print(\n",
    "    'Лучшие гиперпараметры линейной регрессии для разделенного на выборки датасета data_0:\\n',\n",
    "    grid_best_param(features_train_0, target_train_0))"
   ]
  },
  {
   "cell_type": "code",
   "execution_count": 26,
   "metadata": {},
   "outputs": [
    {
     "name": "stdout",
     "output_type": "stream",
     "text": [
      "Лучшие гиперпараметры линейной регрессии для разделенного на выборки датасета data_1:\n",
      " {'copy_X': True, 'fit_intercept': True}\n"
     ]
    }
   ],
   "source": [
    "print(\n",
    "    'Лучшие гиперпараметры линейной регрессии для разделенного на выборки датасета data_1:\\n',\n",
    "    grid_best_param(features_train_1, target_train_1))"
   ]
  },
  {
   "cell_type": "code",
   "execution_count": 27,
   "metadata": {},
   "outputs": [
    {
     "name": "stdout",
     "output_type": "stream",
     "text": [
      "Лучшие гиперпараметры линейной регрессии для разделенного на выборки датасета data_2:\n",
      " {'copy_X': True, 'fit_intercept': True}\n"
     ]
    }
   ],
   "source": [
    "print(\n",
    "    'Лучшие гиперпараметры линейной регрессии для разделенного на выборки датасета data_2:\\n',\n",
    "    grid_best_param(features_train_2, target_train_2))"
   ]
  },
  {
   "cell_type": "markdown",
   "metadata": {},
   "source": [
    "**Обучение, предсаказание и сохранение результатов.**"
   ]
  },
  {
   "cell_type": "code",
   "execution_count": 28,
   "metadata": {},
   "outputs": [],
   "source": [
    "model_regression_0 = LinearRegression(copy_X=True,\n",
    "                                      fit_intercept=True)\n",
    "model_regression_0.fit(features_train_0, target_train_0)\n",
    "predictions_model_regression_0 = model_regression_0.predict(features_valid_0)\n",
    "rmse_0 = round(\n",
    "    mean_squared_error(target_valid_0, predictions_model_regression_0)**0.5, 3)\n",
    "# средняя предсказанного сырья\n",
    "mean_predict_valid_0 = round(predictions_model_regression_0.mean(), 3)"
   ]
  },
  {
   "cell_type": "code",
   "execution_count": 29,
   "metadata": {},
   "outputs": [],
   "source": [
    "model_regression_1 = LinearRegression(copy_X=True,\n",
    "                                      fit_intercept=True)\n",
    "model_regression_1.fit(features_train_1, target_train_1)\n",
    "predictions_model_regression_1 = model_regression_1.predict(features_valid_1)\n",
    "rmse_1 = round(\n",
    "    mean_squared_error(target_valid_1, predictions_model_regression_1)**0.5, 3)\n",
    "# средняя предсказанного сырья\n",
    "mean_predict_valid_1 = round(predictions_model_regression_1.mean(), 3)"
   ]
  },
  {
   "cell_type": "code",
   "execution_count": 30,
   "metadata": {},
   "outputs": [],
   "source": [
    "model_regression_2 = LinearRegression(\n",
    "    copy_X=True, fit_intercept=True)\n",
    "model_regression_2.fit(features_train_2, target_train_2)\n",
    "predictions_model_regression_2 = model_regression_2.predict(features_valid_2)\n",
    "rmse_2 = round(mean_squared_error(\n",
    "    target_valid_2, predictions_model_regression_2)**0.5, 3)\n",
    "# средняя предсказанного сырья\n",
    "mean_predict_valid_2 = round(predictions_model_regression_2.mean(), 3)"
   ]
  },
  {
   "cell_type": "markdown",
   "metadata": {},
   "source": [
    "### Полученные результаты среднего запаса предсказанного сырья и RMSE модели"
   ]
  },
  {
   "cell_type": "code",
   "execution_count": 31,
   "metadata": {},
   "outputs": [
    {
     "name": "stdout",
     "output_type": "stream",
     "text": [
      "Средний запас предсказанного сырья в регионе 1: 92.593 тыс. баррелей, RMSE: 37.579\n",
      "Средний запас предсказанного сырья в регионе 2: 68.729 тыс. баррелей, RMSE: 0.893\n",
      "Средний запас предсказанного сырья в регионе 3: 94.965 тыс. баррелей, RMSE: 40.03\n"
     ]
    }
   ],
   "source": [
    "print('Средний запас предсказанного сырья в регионе 1:',\n",
    "      mean_predict_valid_0, 'тыс. баррелей, RMSE:', rmse_0)\n",
    "print('Средний запас предсказанного сырья в регионе 2:',\n",
    "      mean_predict_valid_1, 'тыс. баррелей, RMSE:', rmse_1)\n",
    "print('Средний запас предсказанного сырья в регионе 3:',\n",
    "      mean_predict_valid_2, 'тыс. баррелей, RMSE:', rmse_2)"
   ]
  },
  {
   "cell_type": "markdown",
   "metadata": {},
   "source": [
    "### Вывод\n",
    "\n",
    "**Самый большой регион по срезнему предсказанному запасу сырья это Регион 3 - 94.965 тыс. баррелей, но у него так же самая большое значение ошибки предсказания RMSE: 40.03.**\n",
    "\n",
    "**Самый лучший регион по RMSE это Регион 2.**"
   ]
  },
  {
   "cell_type": "markdown",
   "metadata": {},
   "source": [
    "## Подготовка к расчёту прибыли"
   ]
  },
  {
   "cell_type": "markdown",
   "metadata": {},
   "source": [
    "### Сохранение ключевыx значений для расчётов в отдельных переменных"
   ]
  },
  {
   "cell_type": "code",
   "execution_count": 32,
   "metadata": {},
   "outputs": [],
   "source": [
    "BUDGET = 10_000_000_000  # общий бюджет\n",
    "POINTS = 500  # исследуемые 500 точек\n",
    "BEST_POINTS = 200  # 200 лучших точек\n",
    "PRICE_PER_BARREL = 450_000  # цена за 1000 баррелей"
   ]
  },
  {
   "cell_type": "markdown",
   "metadata": {},
   "source": [
    "### Рассчёт достаточного объёма сырья для безубыточной разработки новой скважины и сравнение полученного объёма сырья со средним запасом в каждом регионе."
   ]
  },
  {
   "cell_type": "markdown",
   "metadata": {},
   "source": [
    "Средний реальный запас сырья в каждом регионе."
   ]
  },
  {
   "cell_type": "code",
   "execution_count": 33,
   "metadata": {},
   "outputs": [
    {
     "name": "stdout",
     "output_type": "stream",
     "text": [
      "Средний реальный запас сырья в регионе 1: 92.5 тыс. баррелей\n",
      "Средний реальный запас сырья в регионе 2: 68.825 тыс. баррелей\n",
      "Средний реальный запас сырья в регионе 3: 95.0 тыс. баррелей\n"
     ]
    }
   ],
   "source": [
    "real_mean_0 = round(data_0['product'].mean(), 3)\n",
    "print('Средний реальный запас сырья в регионе 1:', real_mean_0, 'тыс. баррелей')\n",
    "real_mean_1 = round(data_1['product'].mean(), 3)\n",
    "print('Средний реальный запас сырья в регионе 2:', real_mean_1, 'тыс. баррелей')\n",
    "real_mean_2 = round(data_2['product'].mean(), 3)\n",
    "print('Средний реальный запас сырья в регионе 3:', real_mean_2, 'тыс. баррелей')"
   ]
  },
  {
   "cell_type": "markdown",
   "metadata": {},
   "source": [
    "Общий итог по реальному среднему запасу и предсказанному"
   ]
  },
  {
   "cell_type": "code",
   "execution_count": 34,
   "metadata": {},
   "outputs": [
    {
     "data": {
      "text/html": [
       "<div>\n",
       "<style scoped>\n",
       "    .dataframe tbody tr th:only-of-type {\n",
       "        vertical-align: middle;\n",
       "    }\n",
       "\n",
       "    .dataframe tbody tr th {\n",
       "        vertical-align: top;\n",
       "    }\n",
       "\n",
       "    .dataframe thead th {\n",
       "        text-align: right;\n",
       "    }\n",
       "</style>\n",
       "<table border=\"1\" class=\"dataframe\">\n",
       "  <thead>\n",
       "    <tr style=\"text-align: right;\">\n",
       "      <th></th>\n",
       "      <th>Средний реальный запас сырья</th>\n",
       "      <th>Средний запас предсказанного сырья</th>\n",
       "      <th>RMSE</th>\n",
       "    </tr>\n",
       "  </thead>\n",
       "  <tbody>\n",
       "    <tr>\n",
       "      <th>Регион 1 (data_0)</th>\n",
       "      <td>92.500</td>\n",
       "      <td>92.593</td>\n",
       "      <td>37.579</td>\n",
       "    </tr>\n",
       "    <tr>\n",
       "      <th>Регион 2 (data_1)</th>\n",
       "      <td>68.825</td>\n",
       "      <td>68.729</td>\n",
       "      <td>0.893</td>\n",
       "    </tr>\n",
       "    <tr>\n",
       "      <th>Регион 3 (data_2)</th>\n",
       "      <td>95.000</td>\n",
       "      <td>94.965</td>\n",
       "      <td>40.030</td>\n",
       "    </tr>\n",
       "  </tbody>\n",
       "</table>\n",
       "</div>"
      ],
      "text/plain": [
       "                   Средний реальный запас сырья  \\\n",
       "Регион 1 (data_0)                        92.500   \n",
       "Регион 2 (data_1)                        68.825   \n",
       "Регион 3 (data_2)                        95.000   \n",
       "\n",
       "                   Средний запас предсказанного сырья    RMSE  \n",
       "Регион 1 (data_0)                              92.593  37.579  \n",
       "Регион 2 (data_1)                              68.729   0.893  \n",
       "Регион 3 (data_2)                              94.965  40.030  "
      ]
     },
     "execution_count": 34,
     "metadata": {},
     "output_type": "execute_result"
    }
   ],
   "source": [
    "data_rmse = {\n",
    "    'Средний реальный запас сырья': [real_mean_0, real_mean_1, real_mean_2],\n",
    "    'Средний запас предсказанного сырья':\n",
    "    [mean_predict_valid_0, mean_predict_valid_1, mean_predict_valid_2],\n",
    "    'RMSE': [rmse_0, rmse_1, rmse_2]\n",
    "}\n",
    "\n",
    "data_result = pd.DataFrame(\n",
    "    data_rmse,\n",
    "    index=['Регион 1 (data_0)', 'Регион 2 (data_1)', 'Регион 3 (data_2)'])\n",
    "data_result"
   ]
  },
  {
   "cell_type": "markdown",
   "metadata": {},
   "source": [
    "Количество тыс. баррелей в сутки необходимое для выхода в 0 (точка безубыточности)"
   ]
  },
  {
   "cell_type": "code",
   "execution_count": 35,
   "metadata": {},
   "outputs": [
    {
     "name": "stdout",
     "output_type": "stream",
     "text": [
      "Точка безубыточности: 22222.222 тыс. баррелей сутки\n"
     ]
    }
   ],
   "source": [
    "zero_point = round(BUDGET / PRICE_PER_BARREL, 3)\n",
    "print('Точка безубыточности:', zero_point, 'тыс. баррелей сутки')"
   ]
  },
  {
   "cell_type": "markdown",
   "metadata": {},
   "source": [
    "Средний запас сырья для безубыточного функционирования на 200 лучших точек."
   ]
  },
  {
   "cell_type": "code",
   "execution_count": 36,
   "metadata": {},
   "outputs": [
    {
     "name": "stdout",
     "output_type": "stream",
     "text": [
      "Средний запас сырья для безубыточного функционирования: 111.111 тыс. баррелей сутки\n"
     ]
    }
   ],
   "source": [
    "avg_best = round(zero_point / BEST_POINTS, 3)\n",
    "print('Средний запас сырья для безубыточного функционирования:',\n",
    "      avg_best, 'тыс. баррелей сутки')"
   ]
  },
  {
   "cell_type": "markdown",
   "metadata": {},
   "source": [
    "### Вывод\n",
    "\n",
    "**Реальные и предсказанные средние объемы сырья меньше среднего запаса для безубытка...**"
   ]
  },
  {
   "cell_type": "markdown",
   "metadata": {},
   "source": [
    "## Расчёт прибыли и рисков "
   ]
  },
  {
   "cell_type": "markdown",
   "metadata": {},
   "source": [
    "### Функция `profit` для расчёта прибыли по выбранным скважинам и предсказаниям модели"
   ]
  },
  {
   "cell_type": "code",
   "execution_count": 37,
   "metadata": {},
   "outputs": [],
   "source": [
    "def profit(target, probabilities):\n",
    "    target = pd.Series(target).reset_index(drop=True)\n",
    "    probabilities = pd.Series(probabilities).reset_index(drop=True)\n",
    "    probs_sorted = probabilities.sort_values(ascending=False)\n",
    "    selected = target[probs_sorted.index][:BEST_POINTS]\n",
    "    return round(\n",
    "        ((PRICE_PER_BARREL * selected.sum()) - BUDGET) / 1_000_000_000, 3)"
   ]
  },
  {
   "cell_type": "markdown",
   "metadata": {},
   "source": [
    "Вывод данных на экран"
   ]
  },
  {
   "cell_type": "code",
   "execution_count": 38,
   "metadata": {},
   "outputs": [
    {
     "name": "stdout",
     "output_type": "stream",
     "text": [
      "Прибыль для 200 лучших скважин на основании реальных и предсказанных данных для Региона 1 (data_0) 3.321 млрд. рублей.\n",
      "Прибыль для 200 лучших скважин на основании реальных и предсказанных данных для Региона 2 (data_1) 2.415 млрд. рублей.\n",
      "Прибыль для 200 лучших скважин на основании реальных и предсказанных данных для Региона 3 (data_2) 2.71 млрд. рублей.\n"
     ]
    }
   ],
   "source": [
    "print(\n",
    "    'Прибыль для 200 лучших скважин на основании реальных и предсказанных данных для Региона 1 (data_0)',\n",
    "    profit(target_valid_0, predictions_model_regression_0), 'млрд. рублей.')\n",
    "print(\n",
    "    'Прибыль для 200 лучших скважин на основании реальных и предсказанных данных для Региона 2 (data_1)',\n",
    "    profit(target_valid_1, predictions_model_regression_1), 'млрд. рублей.')\n",
    "print(\n",
    "    'Прибыль для 200 лучших скважин на основании реальных и предсказанных данных для Региона 3 (data_2)',\n",
    "    profit(target_valid_2, predictions_model_regression_2), 'млрд. рублей.')"
   ]
  },
  {
   "cell_type": "markdown",
   "metadata": {},
   "source": [
    "**Самый прибыльный регион - Регион 1, может принести прибыль в 3.321 млрд. рублей**\n",
    "\n",
    "**Наименьшая прибыль у Региона 2 - 2.415 млрд. рублей** "
   ]
  },
  {
   "cell_type": "markdown",
   "metadata": {},
   "source": [
    "### Расчет рисков и прибыли для каждого региона с помощью техники `Bootstrap`."
   ]
  },
  {
   "cell_type": "code",
   "execution_count": 39,
   "metadata": {},
   "outputs": [],
   "source": [
    "state = np.random.RandomState(12345)\n",
    "\n",
    "\n",
    "def bootstrap(target, probabilities):\n",
    "    risk_default = 0.025\n",
    "    values = []\n",
    "    for i in range(1000):\n",
    "        target_subsample = pd.Series(target).reset_index(drop=True).sample(\n",
    "            n=POINTS, replace=True, random_state=state)\n",
    "        probs_subsample = pd.Series(probabilities).reset_index(\n",
    "            drop=True)[target_subsample.index]\n",
    "        income = profit(target_subsample, probs_subsample)\n",
    "        values.append(income)\n",
    "\n",
    "    values = pd.Series(values)\n",
    "    lower = round(values.quantile(0.025), 3)\n",
    "    upper = round(values.quantile(0.975), 3)\n",
    "    average = round(values.mean(), 3)\n",
    "    risk = round((values < 0).mean(), 3)\n",
    "    print(f\"Средняя прибыль: {average} млрд. рублей \\n\")\n",
    "    print(\n",
    "        f\"95% доверительный интервал от {lower}(0.025 квантиль) до {upper}(0.975 квантиль) млрд. рублей \\n\"\n",
    "    )\n",
    "    print(f\"Риск убытков: {risk}  \\n\")\n",
    "    print(\n",
    "        f\"Вероятность убытков в отдельно взятом регионе должна быть меньше 2.5 %  \\n\"\n",
    "    )\n",
    "    if risk < risk_default:\n",
    "        print(\"Данный регион прибыльный\")\n",
    "    else:\n",
    "        print(\"Данный регион убыточный\")"
   ]
  },
  {
   "cell_type": "markdown",
   "metadata": {},
   "source": [
    "#### Регион 1"
   ]
  },
  {
   "cell_type": "code",
   "execution_count": 40,
   "metadata": {},
   "outputs": [
    {
     "name": "stdout",
     "output_type": "stream",
     "text": [
      "Средняя прибыль: 0.396 млрд. рублей \n",
      "\n",
      "95% доверительный интервал от -0.111(0.025 квантиль) до 0.91(0.975 квантиль) млрд. рублей \n",
      "\n",
      "Риск убытков: 0.069  \n",
      "\n",
      "Вероятность убытков в отдельно взятом регионе должна быть меньше 2.5 %  \n",
      "\n",
      "Данный регион убыточный\n"
     ]
    }
   ],
   "source": [
    "bootstrap(target_valid_0, predictions_model_regression_0)"
   ]
  },
  {
   "cell_type": "markdown",
   "metadata": {},
   "source": [
    "#### Регион 2"
   ]
  },
  {
   "cell_type": "code",
   "execution_count": 41,
   "metadata": {},
   "outputs": [
    {
     "name": "stdout",
     "output_type": "stream",
     "text": [
      "Средняя прибыль: 0.461 млрд. рублей \n",
      "\n",
      "95% доверительный интервал от 0.078(0.025 квантиль) до 0.863(0.975 квантиль) млрд. рублей \n",
      "\n",
      "Риск убытков: 0.007  \n",
      "\n",
      "Вероятность убытков в отдельно взятом регионе должна быть меньше 2.5 %  \n",
      "\n",
      "Данный регион прибыльный\n"
     ]
    }
   ],
   "source": [
    "bootstrap(target_valid_1, predictions_model_regression_1)"
   ]
  },
  {
   "cell_type": "markdown",
   "metadata": {},
   "source": [
    "#### Регион 3"
   ]
  },
  {
   "cell_type": "code",
   "execution_count": 42,
   "metadata": {},
   "outputs": [
    {
     "name": "stdout",
     "output_type": "stream",
     "text": [
      "Средняя прибыль: 0.393 млрд. рублей \n",
      "\n",
      "95% доверительный интервал от -0.112(0.025 квантиль) до 0.934(0.975 квантиль) млрд. рублей \n",
      "\n",
      "Риск убытков: 0.065  \n",
      "\n",
      "Вероятность убытков в отдельно взятом регионе должна быть меньше 2.5 %  \n",
      "\n",
      "Данный регион убыточный\n"
     ]
    }
   ],
   "source": [
    "bootstrap(target_valid_2, predictions_model_regression_2)"
   ]
  },
  {
   "cell_type": "markdown",
   "metadata": {},
   "source": [
    "### Вывод\n",
    "\n",
    "**В результате расчета средней прибыли, доверительных интервалов в зависимости от допустимого риска 2.5% для рабработки можно предлодить Регион 2.**"
   ]
  },
  {
   "cell_type": "markdown",
   "metadata": {},
   "source": [
    "## Общий вывод\n",
    "\n",
    "1. Проведена предобработка датасетов;\n",
    "    - удален стоблец `id`, который мешал дальнейшему анализу.\n",
    "\n",
    "2. Обучена модель линейной регрессии. На основании предсказаниий были получены следующие значения:\n",
    "\n",
    "   - Средний запас предсказанного сырья в регионе 1: 92.593 тыс. баррелей, RMSE: 37.579\n",
    "   - Средний запас предсказанного сырья в регионе 2: 68.729 тыс. баррелей, RMSE: 0.893\n",
    "   - Средний запас предсказанного сырья в регионе 3: 94.965 тыс. баррелей, RMSE: 40.03\n",
    "   \n",
    "   Самый большой регион по срезнему предсказанному запасу сырья это Регион 3 - 94.965 тыс. баррелей, но у него так же самая большое значение ошибки предсказания RMSE: 40.03.\n",
    "\n",
    "   Самый лучший регион по RMSE это Регион 2.\n",
    "  \n",
    "3. Рассчитан средний запас сырья для безубыточного функционирования скважины: 111.111 тыс. баррелей сутки \n",
    "\n",
    "   Реальные и предсказанные средние объемы сырья меньше среднего запаса для безубытка...\n",
    "   \n",
    "   - Прибыль для 200 лучших скважин на основании реальных и предсказанных данных для Региона 1 (data_0) 3.321 млрд. рублей.\n",
    "   - Прибыль для 200 лучших скважин на основании реальных и предсказанных данных для Региона 2 (data_1) 2.415 млрд. рублей.\n",
    "   - Прибыль для 200 лучших скважин на основании реальных и предсказанных данных для Региона 3 (data_2) 2.71 млрд. рублей.\n",
    "\n",
    "   Самый прибыльный регион - Регион 1, может принести прибыль в 3.321 млрд. рублей\n",
    "\n",
    "   Наименьшая прибыль у Региона 2 - 2.415 млрд. рублей\n",
    "\n",
    "   \n",
    "4. По прогнозам сделанным с помощью техники Bootstrap: \n",
    " \n",
    "   - Основной критерий - вероятность убытков - 2.5 %. Регион  2 имеет самую низкую вероятность убытков, всего 0.7%. И более узкий доверительный интервал, и соответственно более высокую среднюю прибыль;\n",
    "\n",
    "   - Остальные регионы имеют риск, превышающий основной критерий, поэтому рассмотрены быть не могут.\n",
    "   \n",
    "**Для разработки рекомендован Регион 2**"
   ]
  },
  {
   "cell_type": "markdown",
   "metadata": {},
   "source": [
    "## Чек-лист готовности проекта"
   ]
  },
  {
   "cell_type": "markdown",
   "metadata": {},
   "source": [
    "- [x]  Jupyter Notebook открыт\n",
    "- [x]  Весь код выполняется без ошибок\n",
    "- [x]  Ячейки с кодом расположены в порядке исполнения\n",
    "- [x]  Выполнен шаг 1: данные подготовлены\n",
    "- [x]  Выполнен шаг 2: модели обучены и проверены\n",
    "    - [x]  Данные корректно разбиты на обучающую и валидационную выборки\n",
    "    - [x]  Модели обучены, предсказания сделаны\n",
    "    - [x]  Предсказания и правильные ответы на валидационной выборке сохранены\n",
    "    - [x]  На экране напечатаны результаты\n",
    "    - [x]  Сделаны выводы\n",
    "- [x]  Выполнен шаг 3: проведена подготовка к расчёту прибыли\n",
    "    - [x]  Для всех ключевых значений созданы константы Python\n",
    "    - [x]  Посчитано минимальное среднее количество продукта в месторождениях региона, достаточное для разработки\n",
    "    - [x]  По предыдущему пункту сделаны выводы\n",
    "    - [x]  Написана функция расчёта прибыли\n",
    "- [x]  Выполнен шаг 4: посчитаны риски и прибыль\n",
    "    - [x]  Проведена процедура *Bootstrap*\n",
    "    - [x]  Все параметры бутстрепа соответствуют условию\n",
    "    - [x]  Найдены все нужные величины\n",
    "    - [x]  Предложен регион для разработки месторождения\n",
    "    - [x]  Выбор региона обоснован"
   ]
  }
 ],
 "metadata": {
  "ExecuteTimeLog": [
   {
    "duration": 1563,
    "start_time": "2022-11-07T07:41:29.539Z"
   },
   {
    "duration": 666,
    "start_time": "2022-11-07T07:42:08.836Z"
   },
   {
    "duration": 17,
    "start_time": "2022-11-07T07:43:11.043Z"
   },
   {
    "duration": 16,
    "start_time": "2022-11-07T07:43:31.606Z"
   },
   {
    "duration": 11,
    "start_time": "2022-11-07T07:44:19.558Z"
   },
   {
    "duration": 21,
    "start_time": "2022-11-07T07:44:26.169Z"
   },
   {
    "duration": 1375,
    "start_time": "2022-11-07T07:44:40.796Z"
   },
   {
    "duration": 414,
    "start_time": "2022-11-07T07:44:42.174Z"
   },
   {
    "duration": 17,
    "start_time": "2022-11-07T07:44:42.714Z"
   },
   {
    "duration": 18,
    "start_time": "2022-11-07T07:44:43.217Z"
   },
   {
    "duration": 21,
    "start_time": "2022-11-07T07:44:43.897Z"
   },
   {
    "duration": 9,
    "start_time": "2022-11-07T07:44:46.526Z"
   },
   {
    "duration": 16,
    "start_time": "2022-11-07T07:44:59.435Z"
   },
   {
    "duration": 10,
    "start_time": "2022-11-07T07:45:12.422Z"
   },
   {
    "duration": 22,
    "start_time": "2022-11-07T07:45:36.880Z"
   },
   {
    "duration": 130,
    "start_time": "2022-11-07T07:49:23.321Z"
   },
   {
    "duration": 139,
    "start_time": "2022-11-07T07:51:23.010Z"
   },
   {
    "duration": 69,
    "start_time": "2022-11-07T07:51:51.797Z"
   },
   {
    "duration": 75,
    "start_time": "2022-11-07T07:51:58.944Z"
   },
   {
    "duration": 75,
    "start_time": "2022-11-07T07:52:10.158Z"
   },
   {
    "duration": 18,
    "start_time": "2022-11-07T07:52:30.825Z"
   },
   {
    "duration": 14,
    "start_time": "2022-11-07T07:52:37.119Z"
   },
   {
    "duration": 15,
    "start_time": "2022-11-07T07:52:45.425Z"
   },
   {
    "duration": 1300,
    "start_time": "2022-11-07T07:53:11.553Z"
   },
   {
    "duration": 13,
    "start_time": "2022-11-07T07:53:50.033Z"
   },
   {
    "duration": 5,
    "start_time": "2022-11-07T07:57:57.523Z"
   },
   {
    "duration": 44,
    "start_time": "2022-11-07T07:58:48.436Z"
   },
   {
    "duration": 31,
    "start_time": "2022-11-07T07:58:49.186Z"
   },
   {
    "duration": 35,
    "start_time": "2022-11-07T07:58:49.723Z"
   },
   {
    "duration": 4,
    "start_time": "2022-11-07T07:59:28.227Z"
   },
   {
    "duration": 4009,
    "start_time": "2022-11-07T07:59:41.626Z"
   },
   {
    "duration": 3895,
    "start_time": "2022-11-07T07:59:55.840Z"
   },
   {
    "duration": 3689,
    "start_time": "2022-11-07T08:00:04.655Z"
   },
   {
    "duration": 19,
    "start_time": "2022-11-07T08:00:43.904Z"
   },
   {
    "duration": 15,
    "start_time": "2022-11-07T08:00:56.613Z"
   },
   {
    "duration": 14,
    "start_time": "2022-11-07T08:01:06.937Z"
   },
   {
    "duration": 15,
    "start_time": "2022-11-07T08:01:30.078Z"
   },
   {
    "duration": 5,
    "start_time": "2022-11-07T08:01:40.527Z"
   },
   {
    "duration": 1337,
    "start_time": "2022-11-07T08:02:06.502Z"
   },
   {
    "duration": 410,
    "start_time": "2022-11-07T08:02:07.841Z"
   },
   {
    "duration": 16,
    "start_time": "2022-11-07T08:02:08.275Z"
   },
   {
    "duration": 16,
    "start_time": "2022-11-07T08:02:08.740Z"
   },
   {
    "duration": 15,
    "start_time": "2022-11-07T08:02:09.278Z"
   },
   {
    "duration": 10,
    "start_time": "2022-11-07T08:02:09.842Z"
   },
   {
    "duration": 16,
    "start_time": "2022-11-07T08:02:10.268Z"
   },
   {
    "duration": 10,
    "start_time": "2022-11-07T08:02:10.779Z"
   },
   {
    "duration": 25,
    "start_time": "2022-11-07T08:02:11.747Z"
   },
   {
    "duration": 139,
    "start_time": "2022-11-07T08:02:13.096Z"
   },
   {
    "duration": 124,
    "start_time": "2022-11-07T08:02:14.521Z"
   },
   {
    "duration": 82,
    "start_time": "2022-11-07T08:02:15.414Z"
   },
   {
    "duration": 73,
    "start_time": "2022-11-07T08:02:15.892Z"
   },
   {
    "duration": 124,
    "start_time": "2022-11-07T08:02:16.369Z"
   },
   {
    "duration": 22,
    "start_time": "2022-11-07T08:02:17.390Z"
   },
   {
    "duration": 21,
    "start_time": "2022-11-07T08:02:17.865Z"
   },
   {
    "duration": 21,
    "start_time": "2022-11-07T08:02:18.370Z"
   },
   {
    "duration": 1298,
    "start_time": "2022-11-07T08:02:20.135Z"
   },
   {
    "duration": 13,
    "start_time": "2022-11-07T08:02:21.621Z"
   },
   {
    "duration": 6,
    "start_time": "2022-11-07T08:02:23.853Z"
   },
   {
    "duration": 33,
    "start_time": "2022-11-07T08:02:25.057Z"
   },
   {
    "duration": 38,
    "start_time": "2022-11-07T08:02:25.651Z"
   },
   {
    "duration": 36,
    "start_time": "2022-11-07T08:02:26.205Z"
   },
   {
    "duration": 5,
    "start_time": "2022-11-07T08:02:28.170Z"
   },
   {
    "duration": 4172,
    "start_time": "2022-11-07T08:02:28.662Z"
   },
   {
    "duration": 4103,
    "start_time": "2022-11-07T08:02:32.837Z"
   },
   {
    "duration": 3996,
    "start_time": "2022-11-07T08:02:36.942Z"
   },
   {
    "duration": 14,
    "start_time": "2022-11-07T08:02:45.542Z"
   },
   {
    "duration": 16,
    "start_time": "2022-11-07T08:02:45.938Z"
   },
   {
    "duration": 21,
    "start_time": "2022-11-07T08:02:46.413Z"
   },
   {
    "duration": 6,
    "start_time": "2022-11-07T08:02:56.747Z"
   },
   {
    "duration": 3,
    "start_time": "2022-11-07T08:04:07.372Z"
   },
   {
    "duration": 8,
    "start_time": "2022-11-07T08:04:43.421Z"
   },
   {
    "duration": 10,
    "start_time": "2022-11-07T08:05:18.681Z"
   },
   {
    "duration": 4,
    "start_time": "2022-11-07T08:05:43.005Z"
   },
   {
    "duration": 5,
    "start_time": "2022-11-07T08:06:04.046Z"
   },
   {
    "duration": 4,
    "start_time": "2022-11-07T08:06:56.785Z"
   },
   {
    "duration": 155,
    "start_time": "2022-11-07T08:07:05.996Z"
   },
   {
    "duration": 26,
    "start_time": "2022-11-07T08:07:26.390Z"
   },
   {
    "duration": 121,
    "start_time": "2022-11-07T08:08:53.467Z"
   },
   {
    "duration": 5,
    "start_time": "2022-11-07T08:09:54.928Z"
   },
   {
    "duration": 6,
    "start_time": "2022-11-07T08:10:02.598Z"
   },
   {
    "duration": 1711,
    "start_time": "2022-11-07T08:10:46.010Z"
   },
   {
    "duration": 1607,
    "start_time": "2022-11-07T08:11:21.686Z"
   },
   {
    "duration": 1650,
    "start_time": "2022-11-07T08:11:34.994Z"
   },
   {
    "duration": 1399,
    "start_time": "2022-11-07T08:13:08.241Z"
   },
   {
    "duration": 400,
    "start_time": "2022-11-07T08:13:10.077Z"
   },
   {
    "duration": 20,
    "start_time": "2022-11-07T08:13:11.039Z"
   },
   {
    "duration": 17,
    "start_time": "2022-11-07T08:13:11.478Z"
   },
   {
    "duration": 16,
    "start_time": "2022-11-07T08:13:11.916Z"
   },
   {
    "duration": 10,
    "start_time": "2022-11-07T08:13:12.354Z"
   },
   {
    "duration": 21,
    "start_time": "2022-11-07T08:13:12.809Z"
   },
   {
    "duration": 12,
    "start_time": "2022-11-07T08:13:13.267Z"
   },
   {
    "duration": 35,
    "start_time": "2022-11-07T08:13:14.208Z"
   },
   {
    "duration": 160,
    "start_time": "2022-11-07T08:13:15.491Z"
   },
   {
    "duration": 161,
    "start_time": "2022-11-07T08:13:16.788Z"
   },
   {
    "duration": 73,
    "start_time": "2022-11-07T08:13:17.655Z"
   },
   {
    "duration": 77,
    "start_time": "2022-11-07T08:13:18.187Z"
   },
   {
    "duration": 84,
    "start_time": "2022-11-07T08:13:18.745Z"
   },
   {
    "duration": 18,
    "start_time": "2022-11-07T08:13:19.749Z"
   },
   {
    "duration": 15,
    "start_time": "2022-11-07T08:13:20.213Z"
   },
   {
    "duration": 22,
    "start_time": "2022-11-07T08:13:20.686Z"
   },
   {
    "duration": 1307,
    "start_time": "2022-11-07T08:13:22.095Z"
   },
   {
    "duration": 13,
    "start_time": "2022-11-07T08:13:23.404Z"
   },
   {
    "duration": 5,
    "start_time": "2022-11-07T08:13:25.184Z"
   },
   {
    "duration": 35,
    "start_time": "2022-11-07T08:13:26.106Z"
   },
   {
    "duration": 30,
    "start_time": "2022-11-07T08:13:26.558Z"
   },
   {
    "duration": 34,
    "start_time": "2022-11-07T08:13:27.028Z"
   },
   {
    "duration": 4,
    "start_time": "2022-11-07T08:13:28.873Z"
   },
   {
    "duration": 3454,
    "start_time": "2022-11-07T08:13:29.379Z"
   },
   {
    "duration": 4905,
    "start_time": "2022-11-07T08:13:32.836Z"
   },
   {
    "duration": 5494,
    "start_time": "2022-11-07T08:13:37.743Z"
   },
   {
    "duration": 18,
    "start_time": "2022-11-07T08:13:43.240Z"
   },
   {
    "duration": 78,
    "start_time": "2022-11-07T08:13:43.260Z"
   },
   {
    "duration": 98,
    "start_time": "2022-11-07T08:13:43.340Z"
   },
   {
    "duration": 6,
    "start_time": "2022-11-07T08:13:46.873Z"
   },
   {
    "duration": 3,
    "start_time": "2022-11-07T08:13:48.855Z"
   },
   {
    "duration": 8,
    "start_time": "2022-11-07T08:13:50.272Z"
   },
   {
    "duration": 10,
    "start_time": "2022-11-07T08:13:51.267Z"
   },
   {
    "duration": 4,
    "start_time": "2022-11-07T08:13:56.993Z"
   },
   {
    "duration": 4,
    "start_time": "2022-11-07T08:13:58.842Z"
   },
   {
    "duration": 5,
    "start_time": "2022-11-07T08:14:00.876Z"
   },
   {
    "duration": 21,
    "start_time": "2022-11-07T08:14:02.009Z"
   },
   {
    "duration": 7,
    "start_time": "2022-11-07T08:14:03.769Z"
   },
   {
    "duration": 1742,
    "start_time": "2022-11-07T08:14:04.780Z"
   },
   {
    "duration": 1635,
    "start_time": "2022-11-07T08:14:06.525Z"
   },
   {
    "duration": 1646,
    "start_time": "2022-11-07T08:14:08.163Z"
   },
   {
    "duration": 59,
    "start_time": "2022-11-08T06:27:44.591Z"
   },
   {
    "duration": 1410,
    "start_time": "2022-11-08T06:31:55.618Z"
   },
   {
    "duration": 1423,
    "start_time": "2022-11-08T06:31:57.126Z"
   },
   {
    "duration": 21,
    "start_time": "2022-11-08T06:31:58.551Z"
   },
   {
    "duration": 19,
    "start_time": "2022-11-08T06:31:58.622Z"
   },
   {
    "duration": 21,
    "start_time": "2022-11-08T06:31:59.105Z"
   },
   {
    "duration": 12,
    "start_time": "2022-11-08T06:31:59.626Z"
   },
   {
    "duration": 20,
    "start_time": "2022-11-08T06:32:00.152Z"
   },
   {
    "duration": 12,
    "start_time": "2022-11-08T06:32:00.683Z"
   },
   {
    "duration": 18,
    "start_time": "2022-11-08T06:32:01.755Z"
   },
   {
    "duration": 108,
    "start_time": "2022-11-08T06:32:03.799Z"
   },
   {
    "duration": 117,
    "start_time": "2022-11-08T06:32:08.190Z"
   },
   {
    "duration": 60,
    "start_time": "2022-11-08T06:32:09.584Z"
   },
   {
    "duration": 53,
    "start_time": "2022-11-08T06:32:10.222Z"
   },
   {
    "duration": 76,
    "start_time": "2022-11-08T06:32:10.837Z"
   },
   {
    "duration": 15,
    "start_time": "2022-11-08T06:32:12.060Z"
   },
   {
    "duration": 15,
    "start_time": "2022-11-08T06:32:12.660Z"
   },
   {
    "duration": 14,
    "start_time": "2022-11-08T06:32:13.281Z"
   },
   {
    "duration": 1401,
    "start_time": "2022-11-08T06:32:15.243Z"
   },
   {
    "duration": 12,
    "start_time": "2022-11-08T06:32:17.093Z"
   },
   {
    "duration": 5,
    "start_time": "2022-11-08T06:32:20.865Z"
   },
   {
    "duration": 36,
    "start_time": "2022-11-08T06:32:23.142Z"
   },
   {
    "duration": 32,
    "start_time": "2022-11-08T06:32:23.752Z"
   },
   {
    "duration": 26,
    "start_time": "2022-11-08T06:32:24.402Z"
   },
   {
    "duration": 4,
    "start_time": "2022-11-08T06:32:27.882Z"
   },
   {
    "duration": 3620,
    "start_time": "2022-11-08T06:32:28.549Z"
   },
   {
    "duration": 3506,
    "start_time": "2022-11-08T06:32:32.170Z"
   },
   {
    "duration": 4701,
    "start_time": "2022-11-08T06:32:35.679Z"
   },
   {
    "duration": 96,
    "start_time": "2022-11-08T06:32:40.382Z"
   },
   {
    "duration": 90,
    "start_time": "2022-11-08T06:32:40.480Z"
   },
   {
    "duration": 108,
    "start_time": "2022-11-08T06:32:40.572Z"
   },
   {
    "duration": 94,
    "start_time": "2022-11-08T06:32:40.684Z"
   },
   {
    "duration": 3,
    "start_time": "2022-11-08T06:32:47.080Z"
   },
   {
    "duration": 9,
    "start_time": "2022-11-08T06:32:50.068Z"
   },
   {
    "duration": 13,
    "start_time": "2022-11-08T06:32:51.813Z"
   },
   {
    "duration": 5,
    "start_time": "2022-11-08T06:32:54.787Z"
   },
   {
    "duration": 4,
    "start_time": "2022-11-08T06:32:56.328Z"
   },
   {
    "duration": 5,
    "start_time": "2022-11-08T06:33:02.457Z"
   },
   {
    "duration": 26,
    "start_time": "2022-11-08T06:33:06.341Z"
   },
   {
    "duration": 7,
    "start_time": "2022-11-08T06:36:01.454Z"
   },
   {
    "duration": 99,
    "start_time": "2022-11-08T06:36:24.779Z"
   },
   {
    "duration": 6,
    "start_time": "2022-11-08T06:37:32.967Z"
   },
   {
    "duration": 10,
    "start_time": "2022-11-08T06:37:59.092Z"
   },
   {
    "duration": 7,
    "start_time": "2022-11-08T06:38:21.261Z"
   },
   {
    "duration": 12,
    "start_time": "2022-11-08T06:38:23.291Z"
   },
   {
    "duration": 7,
    "start_time": "2022-11-08T06:38:36.882Z"
   },
   {
    "duration": 12,
    "start_time": "2022-11-08T06:38:40.113Z"
   },
   {
    "duration": 7,
    "start_time": "2022-11-08T06:39:50.939Z"
   },
   {
    "duration": 17,
    "start_time": "2022-11-08T06:39:53.361Z"
   },
   {
    "duration": 7,
    "start_time": "2022-11-08T06:40:03.166Z"
   },
   {
    "duration": 1606,
    "start_time": "2022-11-08T06:40:05.805Z"
   },
   {
    "duration": 7,
    "start_time": "2022-11-08T06:42:07.191Z"
   },
   {
    "duration": 1447,
    "start_time": "2022-11-08T06:42:09.063Z"
   },
   {
    "duration": 6,
    "start_time": "2022-11-08T06:42:37.246Z"
   },
   {
    "duration": 1463,
    "start_time": "2022-11-08T06:42:38.489Z"
   },
   {
    "duration": 51,
    "start_time": "2022-11-08T06:43:05.478Z"
   },
   {
    "duration": 1241,
    "start_time": "2022-11-08T06:43:33.508Z"
   },
   {
    "duration": 425,
    "start_time": "2022-11-08T06:43:35.384Z"
   },
   {
    "duration": 19,
    "start_time": "2022-11-08T06:43:36.373Z"
   },
   {
    "duration": 18,
    "start_time": "2022-11-08T06:43:36.884Z"
   },
   {
    "duration": 18,
    "start_time": "2022-11-08T06:43:37.564Z"
   },
   {
    "duration": 13,
    "start_time": "2022-11-08T06:43:38.092Z"
   },
   {
    "duration": 13,
    "start_time": "2022-11-08T06:43:38.603Z"
   },
   {
    "duration": 12,
    "start_time": "2022-11-08T06:43:39.093Z"
   },
   {
    "duration": 18,
    "start_time": "2022-11-08T06:43:40.070Z"
   },
   {
    "duration": 107,
    "start_time": "2022-11-08T06:43:41.483Z"
   },
   {
    "duration": 110,
    "start_time": "2022-11-08T06:43:42.925Z"
   },
   {
    "duration": 90,
    "start_time": "2022-11-08T06:43:43.793Z"
   },
   {
    "duration": 69,
    "start_time": "2022-11-08T06:43:44.236Z"
   },
   {
    "duration": 78,
    "start_time": "2022-11-08T06:43:44.701Z"
   },
   {
    "duration": 15,
    "start_time": "2022-11-08T06:43:45.655Z"
   },
   {
    "duration": 15,
    "start_time": "2022-11-08T06:43:46.130Z"
   },
   {
    "duration": 15,
    "start_time": "2022-11-08T06:43:46.617Z"
   },
   {
    "duration": 1182,
    "start_time": "2022-11-08T06:43:48.605Z"
   },
   {
    "duration": 11,
    "start_time": "2022-11-08T06:43:50.000Z"
   },
   {
    "duration": 6,
    "start_time": "2022-11-08T06:43:52.489Z"
   },
   {
    "duration": 38,
    "start_time": "2022-11-08T06:43:53.946Z"
   },
   {
    "duration": 36,
    "start_time": "2022-11-08T06:43:54.427Z"
   },
   {
    "duration": 32,
    "start_time": "2022-11-08T06:43:54.981Z"
   },
   {
    "duration": 4,
    "start_time": "2022-11-08T06:43:57.418Z"
   },
   {
    "duration": 3501,
    "start_time": "2022-11-08T06:43:59.077Z"
   },
   {
    "duration": 2893,
    "start_time": "2022-11-08T06:44:02.582Z"
   },
   {
    "duration": 3806,
    "start_time": "2022-11-08T06:44:05.477Z"
   },
   {
    "duration": 88,
    "start_time": "2022-11-08T06:44:09.286Z"
   },
   {
    "duration": 194,
    "start_time": "2022-11-08T06:44:09.376Z"
   },
   {
    "duration": 107,
    "start_time": "2022-11-08T06:44:09.573Z"
   },
   {
    "duration": 87,
    "start_time": "2022-11-08T06:44:09.685Z"
   },
   {
    "duration": 3,
    "start_time": "2022-11-08T06:44:18.152Z"
   },
   {
    "duration": 6,
    "start_time": "2022-11-08T06:44:20.643Z"
   },
   {
    "duration": 9,
    "start_time": "2022-11-08T06:44:21.969Z"
   },
   {
    "duration": 3,
    "start_time": "2022-11-08T06:44:23.103Z"
   },
   {
    "duration": 4,
    "start_time": "2022-11-08T06:44:24.770Z"
   },
   {
    "duration": 3,
    "start_time": "2022-11-08T06:44:27.844Z"
   },
   {
    "duration": 19,
    "start_time": "2022-11-08T06:44:30.171Z"
   },
   {
    "duration": 8,
    "start_time": "2022-11-08T06:44:31.780Z"
   },
   {
    "duration": 1652,
    "start_time": "2022-11-08T06:44:33.155Z"
   },
   {
    "duration": 1498,
    "start_time": "2022-11-08T06:44:39.830Z"
   },
   {
    "duration": 1542,
    "start_time": "2022-11-08T06:44:43.743Z"
   },
   {
    "duration": 1560,
    "start_time": "2022-11-08T06:45:05.673Z"
   },
   {
    "duration": 1681,
    "start_time": "2022-11-08T06:45:12.055Z"
   },
   {
    "duration": 1311,
    "start_time": "2022-11-08T06:46:33.687Z"
   },
   {
    "duration": 340,
    "start_time": "2022-11-08T06:46:35.254Z"
   },
   {
    "duration": 18,
    "start_time": "2022-11-08T06:46:36.379Z"
   },
   {
    "duration": 13,
    "start_time": "2022-11-08T06:46:36.821Z"
   },
   {
    "duration": 13,
    "start_time": "2022-11-08T06:46:37.301Z"
   },
   {
    "duration": 9,
    "start_time": "2022-11-08T06:46:37.751Z"
   },
   {
    "duration": 12,
    "start_time": "2022-11-08T06:46:38.216Z"
   },
   {
    "duration": 9,
    "start_time": "2022-11-08T06:46:38.696Z"
   },
   {
    "duration": 18,
    "start_time": "2022-11-08T06:46:39.632Z"
   },
   {
    "duration": 126,
    "start_time": "2022-11-08T06:46:40.992Z"
   },
   {
    "duration": 125,
    "start_time": "2022-11-08T06:46:42.329Z"
   },
   {
    "duration": 67,
    "start_time": "2022-11-08T06:46:43.275Z"
   },
   {
    "duration": 80,
    "start_time": "2022-11-08T06:46:43.749Z"
   },
   {
    "duration": 70,
    "start_time": "2022-11-08T06:46:44.256Z"
   },
   {
    "duration": 19,
    "start_time": "2022-11-08T06:46:45.261Z"
   },
   {
    "duration": 14,
    "start_time": "2022-11-08T06:46:45.783Z"
   },
   {
    "duration": 17,
    "start_time": "2022-11-08T06:46:46.286Z"
   },
   {
    "duration": 1378,
    "start_time": "2022-11-08T06:46:47.842Z"
   },
   {
    "duration": 11,
    "start_time": "2022-11-08T06:46:49.316Z"
   },
   {
    "duration": 5,
    "start_time": "2022-11-08T06:46:51.717Z"
   },
   {
    "duration": 27,
    "start_time": "2022-11-08T06:46:53.212Z"
   },
   {
    "duration": 30,
    "start_time": "2022-11-08T06:46:53.789Z"
   },
   {
    "duration": 24,
    "start_time": "2022-11-08T06:46:54.416Z"
   },
   {
    "duration": 5,
    "start_time": "2022-11-08T06:46:56.670Z"
   },
   {
    "duration": 3659,
    "start_time": "2022-11-08T06:46:57.313Z"
   },
   {
    "duration": 3601,
    "start_time": "2022-11-08T06:47:00.975Z"
   },
   {
    "duration": 3681,
    "start_time": "2022-11-08T06:47:04.587Z"
   },
   {
    "duration": 13,
    "start_time": "2022-11-08T06:47:11.708Z"
   },
   {
    "duration": 12,
    "start_time": "2022-11-08T06:47:12.120Z"
   },
   {
    "duration": 15,
    "start_time": "2022-11-08T06:47:12.689Z"
   },
   {
    "duration": 9,
    "start_time": "2022-11-08T06:47:14.582Z"
   },
   {
    "duration": 3,
    "start_time": "2022-11-08T06:47:50.642Z"
   },
   {
    "duration": 7,
    "start_time": "2022-11-08T06:47:54.984Z"
   },
   {
    "duration": 11,
    "start_time": "2022-11-08T06:47:56.109Z"
   },
   {
    "duration": 4,
    "start_time": "2022-11-08T06:47:57.094Z"
   },
   {
    "duration": 4,
    "start_time": "2022-11-08T06:47:58.201Z"
   },
   {
    "duration": 3,
    "start_time": "2022-11-08T06:48:01.751Z"
   },
   {
    "duration": 20,
    "start_time": "2022-11-08T06:48:04.022Z"
   },
   {
    "duration": 7,
    "start_time": "2022-11-08T06:48:05.760Z"
   },
   {
    "duration": 1481,
    "start_time": "2022-11-08T06:48:07.017Z"
   },
   {
    "duration": 1511,
    "start_time": "2022-11-08T06:48:13.692Z"
   },
   {
    "duration": 6,
    "start_time": "2022-11-08T06:48:58.955Z"
   },
   {
    "duration": 1548,
    "start_time": "2022-11-08T06:49:01.422Z"
   },
   {
    "duration": 1536,
    "start_time": "2022-11-08T06:49:09.618Z"
   },
   {
    "duration": 6,
    "start_time": "2022-11-08T06:49:34.938Z"
   },
   {
    "duration": 1451,
    "start_time": "2022-11-08T06:49:36.367Z"
   },
   {
    "duration": 1407,
    "start_time": "2022-11-08T06:49:43.939Z"
   },
   {
    "duration": 1476,
    "start_time": "2022-11-08T06:49:50.932Z"
   },
   {
    "duration": 1457,
    "start_time": "2022-11-08T06:49:56.118Z"
   },
   {
    "duration": 1462,
    "start_time": "2022-11-08T06:50:03.705Z"
   },
   {
    "duration": 6,
    "start_time": "2022-11-08T06:50:36.156Z"
   },
   {
    "duration": 1551,
    "start_time": "2022-11-08T06:50:38.601Z"
   },
   {
    "duration": 1557,
    "start_time": "2022-11-08T06:50:44.085Z"
   },
   {
    "duration": 1585,
    "start_time": "2022-11-08T06:50:54.724Z"
   },
   {
    "duration": 1474,
    "start_time": "2022-11-08T06:51:46.260Z"
   },
   {
    "duration": 1447,
    "start_time": "2022-11-08T06:51:53.180Z"
   },
   {
    "duration": 5,
    "start_time": "2022-11-08T06:52:40.870Z"
   },
   {
    "duration": 1389,
    "start_time": "2022-11-08T06:52:41.857Z"
   },
   {
    "duration": 1454,
    "start_time": "2022-11-08T06:52:48.766Z"
   },
   {
    "duration": 1477,
    "start_time": "2022-11-08T06:52:51.451Z"
   },
   {
    "duration": 7,
    "start_time": "2022-11-08T06:56:52.503Z"
   },
   {
    "duration": 1520,
    "start_time": "2022-11-08T06:56:53.725Z"
   },
   {
    "duration": 1431,
    "start_time": "2022-11-08T06:56:58.517Z"
   },
   {
    "duration": 1447,
    "start_time": "2022-11-08T06:57:08.225Z"
   },
   {
    "duration": 1455,
    "start_time": "2022-11-08T06:57:10.817Z"
   },
   {
    "duration": 1559,
    "start_time": "2022-11-08T06:57:13.413Z"
   },
   {
    "duration": 1461,
    "start_time": "2022-11-08T06:57:17.445Z"
   },
   {
    "duration": 1234,
    "start_time": "2022-11-08T06:58:21.339Z"
   },
   {
    "duration": 337,
    "start_time": "2022-11-08T06:58:22.575Z"
   },
   {
    "duration": 14,
    "start_time": "2022-11-08T06:58:22.913Z"
   },
   {
    "duration": 29,
    "start_time": "2022-11-08T06:58:22.929Z"
   },
   {
    "duration": 23,
    "start_time": "2022-11-08T06:58:22.960Z"
   },
   {
    "duration": 13,
    "start_time": "2022-11-08T06:58:22.985Z"
   },
   {
    "duration": 13,
    "start_time": "2022-11-08T06:58:23.135Z"
   },
   {
    "duration": 9,
    "start_time": "2022-11-08T06:58:23.323Z"
   },
   {
    "duration": 20,
    "start_time": "2022-11-08T06:58:23.678Z"
   },
   {
    "duration": 106,
    "start_time": "2022-11-08T06:58:24.239Z"
   },
   {
    "duration": 106,
    "start_time": "2022-11-08T06:58:24.796Z"
   },
   {
    "duration": 53,
    "start_time": "2022-11-08T06:58:25.167Z"
   },
   {
    "duration": 52,
    "start_time": "2022-11-08T06:58:25.373Z"
   },
   {
    "duration": 51,
    "start_time": "2022-11-08T06:58:25.570Z"
   },
   {
    "duration": 18,
    "start_time": "2022-11-08T06:58:25.990Z"
   },
   {
    "duration": 14,
    "start_time": "2022-11-08T06:58:26.209Z"
   },
   {
    "duration": 13,
    "start_time": "2022-11-08T06:58:26.396Z"
   },
   {
    "duration": 1200,
    "start_time": "2022-11-08T06:58:27.009Z"
   },
   {
    "duration": 10,
    "start_time": "2022-11-08T06:58:28.211Z"
   },
   {
    "duration": 5,
    "start_time": "2022-11-08T06:58:28.713Z"
   },
   {
    "duration": 29,
    "start_time": "2022-11-08T06:58:29.398Z"
   },
   {
    "duration": 27,
    "start_time": "2022-11-08T06:58:29.614Z"
   },
   {
    "duration": 25,
    "start_time": "2022-11-08T06:58:29.834Z"
   },
   {
    "duration": 3,
    "start_time": "2022-11-08T06:58:30.730Z"
   },
   {
    "duration": 3843,
    "start_time": "2022-11-08T06:58:30.926Z"
   },
   {
    "duration": 4098,
    "start_time": "2022-11-08T06:58:34.771Z"
   },
   {
    "duration": 3998,
    "start_time": "2022-11-08T06:58:38.871Z"
   },
   {
    "duration": 100,
    "start_time": "2022-11-08T06:58:42.871Z"
   },
   {
    "duration": 103,
    "start_time": "2022-11-08T06:58:42.977Z"
   },
   {
    "duration": 187,
    "start_time": "2022-11-08T06:58:43.082Z"
   },
   {
    "duration": 122,
    "start_time": "2022-11-08T06:58:43.271Z"
   },
   {
    "duration": 41,
    "start_time": "2022-11-08T06:58:43.395Z"
   },
   {
    "duration": 47,
    "start_time": "2022-11-08T06:58:43.437Z"
   },
   {
    "duration": 50,
    "start_time": "2022-11-08T06:58:43.486Z"
   },
   {
    "duration": 53,
    "start_time": "2022-11-08T06:58:43.537Z"
   },
   {
    "duration": 48,
    "start_time": "2022-11-08T06:58:43.592Z"
   },
   {
    "duration": 27,
    "start_time": "2022-11-08T06:58:43.641Z"
   },
   {
    "duration": 64,
    "start_time": "2022-11-08T06:58:43.669Z"
   },
   {
    "duration": 11,
    "start_time": "2022-11-08T06:58:43.734Z"
   },
   {
    "duration": 1510,
    "start_time": "2022-11-08T06:58:44.833Z"
   },
   {
    "duration": 1450,
    "start_time": "2022-11-08T06:58:49.789Z"
   },
   {
    "duration": 1533,
    "start_time": "2022-11-08T06:58:55.103Z"
   }
  ],
  "kernelspec": {
   "display_name": "Python 3 (ipykernel)",
   "language": "python",
   "name": "python3"
  },
  "language_info": {
   "codemirror_mode": {
    "name": "ipython",
    "version": 3
   },
   "file_extension": ".py",
   "mimetype": "text/x-python",
   "name": "python",
   "nbconvert_exporter": "python",
   "pygments_lexer": "ipython3",
   "version": "3.10.9"
  },
  "latex_envs": {
   "LaTeX_envs_menu_present": true,
   "autoclose": false,
   "autocomplete": true,
   "bibliofile": "biblio.bib",
   "cite_by": "apalike",
   "current_citInitial": 1,
   "eqLabelWithNumbers": true,
   "eqNumInitial": 1,
   "hotkeys": {
    "equation": "Ctrl-E",
    "itemize": "Ctrl-I"
   },
   "labels_anchors": false,
   "latex_user_defs": false,
   "report_style_numbering": false,
   "user_envs_cfg": false
  },
  "toc": {
   "base_numbering": 1,
   "nav_menu": {},
   "number_sections": true,
   "sideBar": true,
   "skip_h1_title": true,
   "title_cell": "Table of Contents",
   "title_sidebar": "Содержание",
   "toc_cell": false,
   "toc_position": {
    "height": "calc(100% - 180px)",
    "left": "10px",
    "top": "150px",
    "width": "198.917px"
   },
   "toc_section_display": true,
   "toc_window_display": false
  },
  "varInspector": {
   "cols": {
    "lenName": 16,
    "lenType": 16,
    "lenVar": 40
   },
   "kernels_config": {
    "python": {
     "delete_cmd_postfix": "",
     "delete_cmd_prefix": "del ",
     "library": "var_list.py",
     "varRefreshCmd": "print(var_dic_list())"
    },
    "r": {
     "delete_cmd_postfix": ") ",
     "delete_cmd_prefix": "rm(",
     "library": "var_list.r",
     "varRefreshCmd": "cat(var_dic_list()) "
    }
   },
   "types_to_exclude": [
    "module",
    "function",
    "builtin_function_or_method",
    "instance",
    "_Feature"
   ],
   "window_display": false
  }
 },
 "nbformat": 4,
 "nbformat_minor": 2
}
