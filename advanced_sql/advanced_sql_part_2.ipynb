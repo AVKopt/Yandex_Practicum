{
 "cells": [
  {
   "cell_type": "markdown",
   "metadata": {
    "id": "sRW85nPMDWKb"
   },
   "source": [
    "В этой части проекта вам нужно написать несколько SQL-запросов в Jupyter Notebook. Эти задания проверят вручную, и вы получите комментарии к составленным запросам. \n",
    "\n",
    "Необходимые данные находятся в таблицах схемы `stackoverflow`. Не забудьте подключиться к базе с помощью SQLAlchemy. Вспомните инструкцию из урока 11 «Когортный анализ. Представление результатов» в теме 2 «Установка и настройка базы данных и клиента базы данных».. Пример кода для подключения к базе и выгрузки результатов вы найдёте и в этой тетрадке. \n",
    "\n",
    "Некоторые задания включают дополнительные вопросы — не пропустите их. На часть вопросов можно ответить текстом, а для некоторых понадобится визуализация. Помните, что результат запроса можно выгрузить в датафрейм. \n",
    "\n",
    "Чтобы ожидаемый результат было легче представить, мы добавили к каждому заданию небольшой фрагмент итоговой таблицы. В запросах вы можете использовать любые подходящие названия полей."
   ]
  },
  {
   "cell_type": "code",
   "execution_count": 1,
   "metadata": {
    "id": "nlZBlglMDWKe"
   },
   "outputs": [],
   "source": [
    "import pandas as pd\n",
    "import random\n",
    "\n",
    "import matplotlib.pyplot as plt\n",
    "import seaborn as sns\n",
    "\n",
    "from sqlalchemy import create_engine \n",
    "\n",
    "pd.options.display.float_format = '{:,.2f}'.format"
   ]
  },
  {
   "cell_type": "markdown",
   "metadata": {
    "id": "XnOE3n28DWKg"
   },
   "source": [
    "### Конфигурация для подключения к базе данных `data-analyst-advanced-sql`\n",
    "Эта база данных содержит схему `stackoverflow`, с которой вы будете работать в проекте"
   ]
  },
  {
   "cell_type": "code",
   "execution_count": 2,
   "metadata": {
    "id": "6p-yGp7qDWKg"
   },
   "outputs": [],
   "source": [
    "db_config = {\n",
    "    'user': 'praktikum_student', # имя пользователя\n",
    "    'pwd': 'Sdf4$2;d-d30pp', # пароль\n",
    "    'host': 'rc1b-wcoijxj3yxfsf3fs.mdb.yandexcloud.net',\n",
    "    'port': 6432, # порт подключения\n",
    "    'db': 'data-analyst-advanced-sql' # название базы данных\n",
    "}  \n",
    "\n",
    "connection_string = 'postgresql://{}:{}@{}:{}/{}'.format(\n",
    "    db_config['user'],\n",
    "    db_config['pwd'],\n",
    "    db_config['host'],\n",
    "    db_config['port'],\n",
    "    db_config['db'],\n",
    ")"
   ]
  },
  {
   "cell_type": "markdown",
   "metadata": {
    "id": "2Rg8ZpS0DWKh"
   },
   "source": [
    "Создание подключения"
   ]
  },
  {
   "cell_type": "code",
   "execution_count": 3,
   "metadata": {
    "id": "DamCUTR6DWKi"
   },
   "outputs": [],
   "source": [
    "engine = create_engine(connection_string) "
   ]
  },
  {
   "cell_type": "markdown",
   "metadata": {
    "id": "bel8XeSlDWKj"
   },
   "source": [
    "Пример запроса к базе данных\n",
    "\n",
    "`sample_df` является pandas-датафреймом."
   ]
  },
  {
   "cell_type": "code",
   "execution_count": 4,
   "metadata": {
    "id": "6Z_fw0yLDWKk"
   },
   "outputs": [],
   "source": [
    "query = '''\n",
    "SELECT *\n",
    "FROM stackoverflow.users\n",
    "LIMIT 10;\n",
    "'''\n",
    "\n",
    "sample_df = pd.read_sql_query(query, con=engine) "
   ]
  },
  {
   "cell_type": "code",
   "execution_count": 5,
   "metadata": {
    "id": "ZpuZ290oDWKk",
    "outputId": "22785a0a-e2bc-4559-ec3c-4879c4b377eb"
   },
   "outputs": [
    {
     "data": {
      "text/html": [
       "<div>\n",
       "<style scoped>\n",
       "    .dataframe tbody tr th:only-of-type {\n",
       "        vertical-align: middle;\n",
       "    }\n",
       "\n",
       "    .dataframe tbody tr th {\n",
       "        vertical-align: top;\n",
       "    }\n",
       "\n",
       "    .dataframe thead th {\n",
       "        text-align: right;\n",
       "    }\n",
       "</style>\n",
       "<table border=\"1\" class=\"dataframe\">\n",
       "  <thead>\n",
       "    <tr style=\"text-align: right;\">\n",
       "      <th></th>\n",
       "      <th>id</th>\n",
       "      <th>creation_date</th>\n",
       "      <th>display_name</th>\n",
       "      <th>last_access_date</th>\n",
       "      <th>location</th>\n",
       "      <th>reputation</th>\n",
       "      <th>views</th>\n",
       "    </tr>\n",
       "  </thead>\n",
       "  <tbody>\n",
       "    <tr>\n",
       "      <th>0</th>\n",
       "      <td>1</td>\n",
       "      <td>2008-07-31 14:22:31</td>\n",
       "      <td>Jeff Atwood</td>\n",
       "      <td>2018-08-29 02:34:23</td>\n",
       "      <td>El Cerrito, CA</td>\n",
       "      <td>44300</td>\n",
       "      <td>408587</td>\n",
       "    </tr>\n",
       "    <tr>\n",
       "      <th>1</th>\n",
       "      <td>2</td>\n",
       "      <td>2008-07-31 14:22:31</td>\n",
       "      <td>Geoff Dalgas</td>\n",
       "      <td>2018-08-23 17:31:56</td>\n",
       "      <td>Corvallis, OR</td>\n",
       "      <td>3491</td>\n",
       "      <td>23966</td>\n",
       "    </tr>\n",
       "    <tr>\n",
       "      <th>2</th>\n",
       "      <td>3</td>\n",
       "      <td>2008-07-31 14:22:31</td>\n",
       "      <td>Jarrod Dixon</td>\n",
       "      <td>2018-08-30 20:56:24</td>\n",
       "      <td>Raleigh, NC, United States</td>\n",
       "      <td>13418</td>\n",
       "      <td>24396</td>\n",
       "    </tr>\n",
       "    <tr>\n",
       "      <th>3</th>\n",
       "      <td>4</td>\n",
       "      <td>2008-07-31 14:22:31</td>\n",
       "      <td>Joel Spolsky</td>\n",
       "      <td>2018-08-14 22:18:15</td>\n",
       "      <td>New York, NY</td>\n",
       "      <td>28768</td>\n",
       "      <td>73755</td>\n",
       "    </tr>\n",
       "    <tr>\n",
       "      <th>4</th>\n",
       "      <td>5</td>\n",
       "      <td>2008-07-31 14:22:31</td>\n",
       "      <td>Jon Galloway</td>\n",
       "      <td>2018-08-29 16:48:36</td>\n",
       "      <td>San Diego, CA</td>\n",
       "      <td>39172</td>\n",
       "      <td>11700</td>\n",
       "    </tr>\n",
       "    <tr>\n",
       "      <th>5</th>\n",
       "      <td>8</td>\n",
       "      <td>2008-07-31 21:33:24</td>\n",
       "      <td>Eggs McLaren</td>\n",
       "      <td>2018-04-09 02:04:56</td>\n",
       "      <td>None</td>\n",
       "      <td>942</td>\n",
       "      <td>6372</td>\n",
       "    </tr>\n",
       "    <tr>\n",
       "      <th>6</th>\n",
       "      <td>9</td>\n",
       "      <td>2008-07-31 21:35:27</td>\n",
       "      <td>Kevin Dente</td>\n",
       "      <td>2018-08-30 18:18:03</td>\n",
       "      <td>Oakland, CA</td>\n",
       "      <td>14337</td>\n",
       "      <td>4949</td>\n",
       "    </tr>\n",
       "    <tr>\n",
       "      <th>7</th>\n",
       "      <td>11</td>\n",
       "      <td>2008-08-01 00:59:11</td>\n",
       "      <td>Anonymous User</td>\n",
       "      <td>2008-08-01 00:59:11</td>\n",
       "      <td>None</td>\n",
       "      <td>1890</td>\n",
       "      <td>2123</td>\n",
       "    </tr>\n",
       "    <tr>\n",
       "      <th>8</th>\n",
       "      <td>13</td>\n",
       "      <td>2008-08-01 04:18:05</td>\n",
       "      <td>Chris Jester-Young</td>\n",
       "      <td>2018-08-30 02:47:23</td>\n",
       "      <td>Raleigh, NC, United States</td>\n",
       "      <td>177138</td>\n",
       "      <td>35414</td>\n",
       "    </tr>\n",
       "    <tr>\n",
       "      <th>9</th>\n",
       "      <td>17</td>\n",
       "      <td>2008-08-01 12:02:22</td>\n",
       "      <td>Nick Berardi</td>\n",
       "      <td>2018-01-22 01:35:38</td>\n",
       "      <td>Issaquah, WA</td>\n",
       "      <td>44443</td>\n",
       "      <td>4786</td>\n",
       "    </tr>\n",
       "  </tbody>\n",
       "</table>\n",
       "</div>"
      ],
      "text/plain": [
       "   id       creation_date        display_name    last_access_date  \\\n",
       "0   1 2008-07-31 14:22:31         Jeff Atwood 2018-08-29 02:34:23   \n",
       "1   2 2008-07-31 14:22:31        Geoff Dalgas 2018-08-23 17:31:56   \n",
       "2   3 2008-07-31 14:22:31        Jarrod Dixon 2018-08-30 20:56:24   \n",
       "3   4 2008-07-31 14:22:31        Joel Spolsky 2018-08-14 22:18:15   \n",
       "4   5 2008-07-31 14:22:31        Jon Galloway 2018-08-29 16:48:36   \n",
       "5   8 2008-07-31 21:33:24        Eggs McLaren 2018-04-09 02:04:56   \n",
       "6   9 2008-07-31 21:35:27         Kevin Dente 2018-08-30 18:18:03   \n",
       "7  11 2008-08-01 00:59:11      Anonymous User 2008-08-01 00:59:11   \n",
       "8  13 2008-08-01 04:18:05  Chris Jester-Young 2018-08-30 02:47:23   \n",
       "9  17 2008-08-01 12:02:22        Nick Berardi 2018-01-22 01:35:38   \n",
       "\n",
       "                     location  reputation   views  \n",
       "0              El Cerrito, CA       44300  408587  \n",
       "1               Corvallis, OR        3491   23966  \n",
       "2  Raleigh, NC, United States       13418   24396  \n",
       "3                New York, NY       28768   73755  \n",
       "4               San Diego, CA       39172   11700  \n",
       "5                        None         942    6372  \n",
       "6                 Oakland, CA       14337    4949  \n",
       "7                        None        1890    2123  \n",
       "8  Raleigh, NC, United States      177138   35414  \n",
       "9                Issaquah, WA       44443    4786  "
      ]
     },
     "execution_count": 5,
     "metadata": {},
     "output_type": "execute_result"
    }
   ],
   "source": [
    "sample_df"
   ]
  },
  {
   "cell_type": "markdown",
   "metadata": {
    "id": "gnBMXkDBDWKm"
   },
   "source": [
    "# Задание 1"
   ]
  },
  {
   "cell_type": "markdown",
   "metadata": {
    "id": "vHsfOrrNDWKn"
   },
   "source": [
    "Выведите общую сумму просмотров постов за каждый месяц 2008 года. Если данных за какой-либо месяц в базе нет, такой месяц можно пропустить. Результат отсортируйте по убыванию общего количества просмотров."
   ]
  },
  {
   "cell_type": "markdown",
   "metadata": {
    "id": "N5rTgGNmDWKn"
   },
   "source": [
    "| month_date  | total_views |\n",
    "| ------------- | ------------- |\n",
    "| 2008-09-01  | 452928568  |\n",
    "| 2008-10-01  | 365400138  |\n",
    "| ...         | ... |"
   ]
  },
  {
   "cell_type": "markdown",
   "metadata": {
    "id": "XMr_UeU6DWKo"
   },
   "source": [
    "<details>\n",
    "\n",
    "<summary>Подсказка</summary>\n",
    "Используйте функцию для усечения даты, а затем сгруппируйте и отсортируйте данные.\n",
    "</details>"
   ]
  },
  {
   "cell_type": "code",
   "execution_count": 6,
   "metadata": {
    "id": "eWvykcXTDWKo"
   },
   "outputs": [],
   "source": [
    "# напишите запрос\n",
    "query_1 = '''\n",
    "SELECT DATE_TRUNC('month', creation_date)::date AS month_date,\n",
    "       SUM(views_count) AS total_views\n",
    "FROM stackoverflow.posts\n",
    "WHERE EXTRACT(YEAR FROM creation_date) = '2008'\n",
    "GROUP BY month_date\n",
    "ORDER BY total_views DESC;\n",
    "'''\n",
    "\n",
    "# выполните запрос\n",
    "sample_df_1 = pd.read_sql_query(query_1, con=engine)"
   ]
  },
  {
   "cell_type": "code",
   "execution_count": 7,
   "metadata": {},
   "outputs": [
    {
     "data": {
      "text/html": [
       "<div>\n",
       "<style scoped>\n",
       "    .dataframe tbody tr th:only-of-type {\n",
       "        vertical-align: middle;\n",
       "    }\n",
       "\n",
       "    .dataframe tbody tr th {\n",
       "        vertical-align: top;\n",
       "    }\n",
       "\n",
       "    .dataframe thead th {\n",
       "        text-align: right;\n",
       "    }\n",
       "</style>\n",
       "<table border=\"1\" class=\"dataframe\">\n",
       "  <thead>\n",
       "    <tr style=\"text-align: right;\">\n",
       "      <th></th>\n",
       "      <th>month_date</th>\n",
       "      <th>total_views</th>\n",
       "    </tr>\n",
       "  </thead>\n",
       "  <tbody>\n",
       "    <tr>\n",
       "      <th>0</th>\n",
       "      <td>2008-09-01</td>\n",
       "      <td>452928568</td>\n",
       "    </tr>\n",
       "    <tr>\n",
       "      <th>1</th>\n",
       "      <td>2008-10-01</td>\n",
       "      <td>365400138</td>\n",
       "    </tr>\n",
       "    <tr>\n",
       "      <th>2</th>\n",
       "      <td>2008-11-01</td>\n",
       "      <td>221759651</td>\n",
       "    </tr>\n",
       "    <tr>\n",
       "      <th>3</th>\n",
       "      <td>2008-12-01</td>\n",
       "      <td>197792841</td>\n",
       "    </tr>\n",
       "    <tr>\n",
       "      <th>4</th>\n",
       "      <td>2008-08-01</td>\n",
       "      <td>131367083</td>\n",
       "    </tr>\n",
       "    <tr>\n",
       "      <th>5</th>\n",
       "      <td>2008-07-01</td>\n",
       "      <td>669895</td>\n",
       "    </tr>\n",
       "  </tbody>\n",
       "</table>\n",
       "</div>"
      ],
      "text/plain": [
       "   month_date  total_views\n",
       "0  2008-09-01    452928568\n",
       "1  2008-10-01    365400138\n",
       "2  2008-11-01    221759651\n",
       "3  2008-12-01    197792841\n",
       "4  2008-08-01    131367083\n",
       "5  2008-07-01       669895"
      ]
     },
     "execution_count": 7,
     "metadata": {},
     "output_type": "execute_result"
    }
   ],
   "source": [
    "# вывод результатов\n",
    "sample_df_1"
   ]
  },
  {
   "cell_type": "markdown",
   "metadata": {
    "id": "I_ZvhOxkDWKp"
   },
   "source": [
    "Проанализируйте итоговую таблицу. Отличаются ли данные за разные месяцы? С чем могут быть связаны отличия?"
   ]
  },
  {
   "cell_type": "code",
   "execution_count": 8,
   "metadata": {
    "id": "luxSj17oDWKq"
   },
   "outputs": [
    {
     "data": {
      "image/png": "[encoded data removed]",
      "text/plain": [
       "<Figure size 1500x1000 with 1 Axes>"
      ]
     },
     "metadata": {},
     "output_type": "display_data"
    }
   ],
   "source": [
    "sample_df_1 = sample_df_1.sort_values('month_date')\n",
    "\n",
    "        \n",
    "fig = plt.subplots(figsize=(15, 10))\n",
    "ax = sns.barplot(x=sample_df_1['month_date'], y=sample_df_1['total_views'])\n",
    "ax.set_xticklabels(\n",
    "    labels=sample_df_1['month_date'], rotation=45, ha='right', fontsize=12)\n",
    "\n",
    "#ax.bar_label(ax.containers[0], labels=sample_df_1['total_views'].apply(\n",
    "#    '{:.0f}'.format), fontsize=12)\n",
    "\n",
    "for bar in ax.patches:\n",
    "    ax.annotate(format(bar.get_height(), '.0f'),\n",
    "                   (bar.get_x() + bar.get_width() / 2,\n",
    "                    bar.get_height()), ha='center', va='center',\n",
    "                   size=15, xytext=(0, 8),\n",
    "                   textcoords='offset points')\n",
    "\n",
    "ax.set_title(\"Просмотр постов по месяцам\", fontsize=24)\n",
    "ax.set_xlabel(\"Месяц просмотра\", fontsize=20)\n",
    "ax.set_ylabel(\"Сумма просмотра постов по месяцам\", fontsize=20)\n",
    "plt.show()"
   ]
  },
  {
   "cell_type": "markdown",
   "metadata": {},
   "source": [
    "**Ответ**\n",
    "\n",
    "Нсколько я понимаю stackoverflow стартовал в июле 2008, хотя по википедии написан август..\n",
    "\n",
    "Поначалу шел есттественный рост.\n",
    "\n",
    "С октября пошёл спад.\n",
    "\n",
    "Причины могут быть разные: растет база ответов, неудобный интерфейс, технические проблемы.."
   ]
  },
  {
   "cell_type": "markdown",
   "metadata": {
    "id": "FziIXkn5DWKr"
   },
   "source": [
    "# Задание 2"
   ]
  },
  {
   "cell_type": "markdown",
   "metadata": {
    "id": "fTGESZvYDWKr"
   },
   "source": [
    "Выведите имена самых активных пользователей, которые в первый месяц после регистрации (включая день регистрации) дали больше 100 ответов. Вопросы, которые задавали пользователи, не учитывайте. Для каждого имени пользователя выведите количество уникальных значений `user_id`. Отсортируйте результат по полю с именами в лексикографическом порядке."
   ]
  },
  {
   "cell_type": "markdown",
   "metadata": {
    "id": "W5-tv6Y3DWKs"
   },
   "source": [
    "| display_name | count |\n",
    "| ------------ | ----- |\n",
    "| 1800 INFORMATION | 1 |\n",
    "| Adam Bellaire | 1 |\n",
    "| Adam Davis | 1 |\n",
    "| ... | ... |"
   ]
  },
  {
   "cell_type": "markdown",
   "metadata": {
    "id": "YIqqc-7HDWKt"
   },
   "source": [
    "<details>\n",
    "\n",
    "<summary>Подсказка</summary>\n",
    "Вам нужно присоединить несколько таблиц — изучите внимательнее описание базы. Чтобы добавить промежуток времени к дате, используйте ключевое слово INTERVAL, например, так: <дата> + INTERVAL '1 year 2 months 3 days'\n",
    ".</details>"
   ]
  },
  {
   "cell_type": "code",
   "execution_count": 9,
   "metadata": {
    "id": "fIO-y-YjDWKt"
   },
   "outputs": [],
   "source": [
    "# напишите запрос\n",
    "query_2 = '''\n",
    "SELECT u.display_name,\n",
    "       COUNT(DISTINCT u.id)\n",
    "FROM stackoverflow.users AS u\n",
    "JOIN stackoverflow.posts AS p ON p.user_id = u.id\n",
    "JOIN stackoverflow.post_types AS pt ON pt.id = p.post_type_id\n",
    "WHERE p.creation_date::date BETWEEN u.creation_date::date AND u.creation_date::date + INTERVAL '1 month' \n",
    "      AND pt.type = 'Answer'\n",
    "GROUP BY u.display_name\n",
    "HAVING COUNT(DISTINCT p.id) > 100\n",
    "ORDER by u.display_name;\n",
    "'''\n",
    "# выполните запрос\n",
    "sample_df_2 = pd.read_sql_query(query_2, con=engine)"
   ]
  },
  {
   "cell_type": "code",
   "execution_count": 10,
   "metadata": {},
   "outputs": [
    {
     "data": {
      "text/html": [
       "<div>\n",
       "<style scoped>\n",
       "    .dataframe tbody tr th:only-of-type {\n",
       "        vertical-align: middle;\n",
       "    }\n",
       "\n",
       "    .dataframe tbody tr th {\n",
       "        vertical-align: top;\n",
       "    }\n",
       "\n",
       "    .dataframe thead th {\n",
       "        text-align: right;\n",
       "    }\n",
       "</style>\n",
       "<table border=\"1\" class=\"dataframe\">\n",
       "  <thead>\n",
       "    <tr style=\"text-align: right;\">\n",
       "      <th></th>\n",
       "      <th>display_name</th>\n",
       "      <th>count</th>\n",
       "    </tr>\n",
       "  </thead>\n",
       "  <tbody>\n",
       "    <tr>\n",
       "      <th>0</th>\n",
       "      <td>1800 INFORMATION</td>\n",
       "      <td>1</td>\n",
       "    </tr>\n",
       "    <tr>\n",
       "      <th>1</th>\n",
       "      <td>Adam Bellaire</td>\n",
       "      <td>1</td>\n",
       "    </tr>\n",
       "    <tr>\n",
       "      <th>2</th>\n",
       "      <td>Adam Davis</td>\n",
       "      <td>1</td>\n",
       "    </tr>\n",
       "    <tr>\n",
       "      <th>3</th>\n",
       "      <td>Adam Liss</td>\n",
       "      <td>1</td>\n",
       "    </tr>\n",
       "    <tr>\n",
       "      <th>4</th>\n",
       "      <td>Alan</td>\n",
       "      <td>8</td>\n",
       "    </tr>\n",
       "    <tr>\n",
       "      <th>...</th>\n",
       "      <td>...</td>\n",
       "      <td>...</td>\n",
       "    </tr>\n",
       "    <tr>\n",
       "      <th>74</th>\n",
       "      <td>lomaxx</td>\n",
       "      <td>1</td>\n",
       "    </tr>\n",
       "    <tr>\n",
       "      <th>75</th>\n",
       "      <td>mattlant</td>\n",
       "      <td>1</td>\n",
       "    </tr>\n",
       "    <tr>\n",
       "      <th>76</th>\n",
       "      <td>paxdiablo</td>\n",
       "      <td>1</td>\n",
       "    </tr>\n",
       "    <tr>\n",
       "      <th>77</th>\n",
       "      <td>tvanfosson</td>\n",
       "      <td>1</td>\n",
       "    </tr>\n",
       "    <tr>\n",
       "      <th>78</th>\n",
       "      <td>tzot</td>\n",
       "      <td>1</td>\n",
       "    </tr>\n",
       "  </tbody>\n",
       "</table>\n",
       "<p>79 rows × 2 columns</p>\n",
       "</div>"
      ],
      "text/plain": [
       "        display_name  count\n",
       "0   1800 INFORMATION      1\n",
       "1      Adam Bellaire      1\n",
       "2         Adam Davis      1\n",
       "3          Adam Liss      1\n",
       "4               Alan      8\n",
       "..               ...    ...\n",
       "74            lomaxx      1\n",
       "75          mattlant      1\n",
       "76         paxdiablo      1\n",
       "77        tvanfosson      1\n",
       "78              tzot      1\n",
       "\n",
       "[79 rows x 2 columns]"
      ]
     },
     "execution_count": 10,
     "metadata": {},
     "output_type": "execute_result"
    }
   ],
   "source": [
    "# вывод результатов\n",
    "sample_df_2"
   ]
  },
  {
   "cell_type": "markdown",
   "metadata": {
    "id": "I3Wr82TplKpI"
   },
   "source": [
    "Какие аномалии наблюдаются в данных? О чём они говорят?"
   ]
  },
  {
   "cell_type": "markdown",
   "metadata": {
    "id": "CEIGGQ6ODWKy"
   },
   "source": [
    "**Ответ** \n",
    "\n",
    "Значения больше единицы могут говорить о том, что в результате группировки по имени могут быть значения count разные, так активность мы смотрим конкретно по имени, а не по имени и его когнретному id."
   ]
  },
  {
   "cell_type": "code",
   "execution_count": 11,
   "metadata": {},
   "outputs": [
    {
     "data": {
      "text/plain": [
       "array([ 1,  8, 15, 29, 10, 21, 12,  7,  9, 16,  5, 11, 17,  3, 19])"
      ]
     },
     "execution_count": 11,
     "metadata": {},
     "output_type": "execute_result"
    }
   ],
   "source": [
    "sample_df_2['count'].unique()"
   ]
  },
  {
   "cell_type": "markdown",
   "metadata": {
    "id": "JhM2xXj5DWKu"
   },
   "source": [
    "# Задание 3"
   ]
  },
  {
   "cell_type": "markdown",
   "metadata": {
    "id": "IS6xPqyyDWKu"
   },
   "source": [
    "Выведите количество постов за 2008 год по месяцам. Отберите посты от пользователей, которые зарегистрировались в сентябре 2008 года и сделали хотя бы один пост в декабре того же года. Отсортируйте таблицу по значению месяца по убыванию."
   ]
  },
  {
   "cell_type": "markdown",
   "metadata": {
    "id": "WmjhjV2xDWKv"
   },
   "source": [
    "| month | count |\n",
    "| ------|------ |\n",
    "| 2008-12-01 | 17641 |\n",
    "| 2008-11-01 | 18294 |\n",
    "| ... | ... |"
   ]
  },
  {
   "cell_type": "markdown",
   "metadata": {
    "id": "nWf0JsTMDWKx"
   },
   "source": [
    "<details>\n",
    "\n",
    "<summary>Подсказка</summary>\n",
    "Сначала найдите идентификаторы пользователей, которые зарегистрировались в сентябре 2008 года и оставили хотя бы один пост в декабре. Затем используйте результат для среза и посчитайте посты по месяцам.</details>"
   ]
  },
  {
   "cell_type": "code",
   "execution_count": 12,
   "metadata": {
    "id": "kVu0FB8WDWKv"
   },
   "outputs": [],
   "source": [
    "# напишите запрос\n",
    "query_3 = '''\n",
    "WITH tab AS\n",
    "     (SELECT DISTINCT u.id\n",
    "      FROM stackoverflow.users AS u                \n",
    "      JOIN stackoverflow.posts AS p ON p.user_id = u.id\n",
    "      WHERE u.creation_date::date BETWEEN '2008-09-01' AND '2008-09-30' \n",
    "        AND p.creation_date::date BETWEEN '2008-12-01' AND '2008-12-31')\n",
    "SELECT CAST(DATE_TRUNC('month', p.creation_date) AS date) AS month, \n",
    "       COUNT(DISTINCT p.id) AS count\n",
    "FROM stackoverflow.posts AS p \n",
    "WHERE p.user_id IN (SELECT * FROM tab)\n",
    "  AND p.creation_date::date BETWEEN '2008-01-01' AND '2008-12-31'\n",
    "GROUP BY month\n",
    "ORDER BY month DESC;\n",
    "'''\n",
    "# выполните запрос\n",
    "sample_df_3 = pd.read_sql_query(query_3, con=engine)"
   ]
  },
  {
   "cell_type": "code",
   "execution_count": 13,
   "metadata": {},
   "outputs": [
    {
     "data": {
      "text/html": [
       "<div>\n",
       "<style scoped>\n",
       "    .dataframe tbody tr th:only-of-type {\n",
       "        vertical-align: middle;\n",
       "    }\n",
       "\n",
       "    .dataframe tbody tr th {\n",
       "        vertical-align: top;\n",
       "    }\n",
       "\n",
       "    .dataframe thead th {\n",
       "        text-align: right;\n",
       "    }\n",
       "</style>\n",
       "<table border=\"1\" class=\"dataframe\">\n",
       "  <thead>\n",
       "    <tr style=\"text-align: right;\">\n",
       "      <th></th>\n",
       "      <th>month</th>\n",
       "      <th>count</th>\n",
       "    </tr>\n",
       "  </thead>\n",
       "  <tbody>\n",
       "    <tr>\n",
       "      <th>0</th>\n",
       "      <td>2008-12-01</td>\n",
       "      <td>17641</td>\n",
       "    </tr>\n",
       "    <tr>\n",
       "      <th>1</th>\n",
       "      <td>2008-11-01</td>\n",
       "      <td>18294</td>\n",
       "    </tr>\n",
       "    <tr>\n",
       "      <th>2</th>\n",
       "      <td>2008-10-01</td>\n",
       "      <td>27171</td>\n",
       "    </tr>\n",
       "    <tr>\n",
       "      <th>3</th>\n",
       "      <td>2008-09-01</td>\n",
       "      <td>24870</td>\n",
       "    </tr>\n",
       "    <tr>\n",
       "      <th>4</th>\n",
       "      <td>2008-08-01</td>\n",
       "      <td>32</td>\n",
       "    </tr>\n",
       "  </tbody>\n",
       "</table>\n",
       "</div>"
      ],
      "text/plain": [
       "        month  count\n",
       "0  2008-12-01  17641\n",
       "1  2008-11-01  18294\n",
       "2  2008-10-01  27171\n",
       "3  2008-09-01  24870\n",
       "4  2008-08-01     32"
      ]
     },
     "execution_count": 13,
     "metadata": {},
     "output_type": "execute_result"
    }
   ],
   "source": [
    "# вывод результатов\n",
    "sample_df_3"
   ]
  },
  {
   "cell_type": "markdown",
   "metadata": {
    "id": "Vnxn9DVHDWKx"
   },
   "source": [
    "Изучите данные: есть ли в них аномалии? Предположите, почему могли появиться аномальные значения."
   ]
  },
  {
   "cell_type": "code",
   "execution_count": 14,
   "metadata": {},
   "outputs": [],
   "source": [
    "# тестовый запрос на проверку августа, которого не должно быть\n",
    "query_test = '''\n",
    "WITH tab AS\n",
    "     (SELECT DISTINCT u.id\n",
    "      FROM stackoverflow.users AS u                \n",
    "      JOIN stackoverflow.posts AS p ON p.user_id = u.id\n",
    "      WHERE u.creation_date::date BETWEEN '2008-09-01' AND '2008-09-30' \n",
    "        AND p.creation_date::date BETWEEN '2008-12-01' AND '2008-12-31')\n",
    "SELECT p.user_id, \n",
    "       u.creation_date AS user_creation,\n",
    "       p.creation_date AS post_creation,\n",
    "       CAST(DATE_TRUNC('month', p.creation_date) AS date) AS month\n",
    "FROM stackoverflow.posts AS p\n",
    "JOIN stackoverflow.users AS u ON p.user_id = u.id\n",
    "WHERE p.user_id IN (SELECT * FROM tab)\n",
    "  AND p.creation_date::date BETWEEN '2008-08-01' AND '2008-08-31'\n",
    "GROUP BY p.user_id, u.creation_date, p.creation_date, month\n",
    "ORDER BY month DESC;\n",
    "'''\n",
    "\n",
    "sample_df_test = pd.read_sql_query(query_test, con=engine)"
   ]
  },
  {
   "cell_type": "code",
   "execution_count": 15,
   "metadata": {},
   "outputs": [
    {
     "data": {
      "text/html": [
       "<div>\n",
       "<style scoped>\n",
       "    .dataframe tbody tr th:only-of-type {\n",
       "        vertical-align: middle;\n",
       "    }\n",
       "\n",
       "    .dataframe tbody tr th {\n",
       "        vertical-align: top;\n",
       "    }\n",
       "\n",
       "    .dataframe thead th {\n",
       "        text-align: right;\n",
       "    }\n",
       "</style>\n",
       "<table border=\"1\" class=\"dataframe\">\n",
       "  <thead>\n",
       "    <tr style=\"text-align: right;\">\n",
       "      <th></th>\n",
       "      <th>user_id</th>\n",
       "      <th>user_creation</th>\n",
       "      <th>post_creation</th>\n",
       "      <th>month</th>\n",
       "    </tr>\n",
       "  </thead>\n",
       "  <tbody>\n",
       "    <tr>\n",
       "      <th>0</th>\n",
       "      <td>4381</td>\n",
       "      <td>2008-09-03 10:48:17</td>\n",
       "      <td>2008-08-30 15:20:15</td>\n",
       "      <td>2008-08-01</td>\n",
       "    </tr>\n",
       "    <tr>\n",
       "      <th>1</th>\n",
       "      <td>4381</td>\n",
       "      <td>2008-09-03 10:48:17</td>\n",
       "      <td>2008-08-30 15:27:35</td>\n",
       "      <td>2008-08-01</td>\n",
       "    </tr>\n",
       "    <tr>\n",
       "      <th>2</th>\n",
       "      <td>31505</td>\n",
       "      <td>2008-09-01 00:00:00</td>\n",
       "      <td>2008-08-12 13:15:47</td>\n",
       "      <td>2008-08-01</td>\n",
       "    </tr>\n",
       "    <tr>\n",
       "      <th>3</th>\n",
       "      <td>31505</td>\n",
       "      <td>2008-09-01 00:00:00</td>\n",
       "      <td>2008-08-12 14:16:42</td>\n",
       "      <td>2008-08-01</td>\n",
       "    </tr>\n",
       "    <tr>\n",
       "      <th>4</th>\n",
       "      <td>31505</td>\n",
       "      <td>2008-09-01 00:00:00</td>\n",
       "      <td>2008-08-12 14:39:20</td>\n",
       "      <td>2008-08-01</td>\n",
       "    </tr>\n",
       "    <tr>\n",
       "      <th>5</th>\n",
       "      <td>31505</td>\n",
       "      <td>2008-09-01 00:00:00</td>\n",
       "      <td>2008-08-12 16:32:25</td>\n",
       "      <td>2008-08-01</td>\n",
       "    </tr>\n",
       "    <tr>\n",
       "      <th>6</th>\n",
       "      <td>31505</td>\n",
       "      <td>2008-09-01 00:00:00</td>\n",
       "      <td>2008-08-12 17:00:35</td>\n",
       "      <td>2008-08-01</td>\n",
       "    </tr>\n",
       "    <tr>\n",
       "      <th>7</th>\n",
       "      <td>31505</td>\n",
       "      <td>2008-09-01 00:00:00</td>\n",
       "      <td>2008-08-13 14:03:39</td>\n",
       "      <td>2008-08-01</td>\n",
       "    </tr>\n",
       "    <tr>\n",
       "      <th>8</th>\n",
       "      <td>31505</td>\n",
       "      <td>2008-09-01 00:00:00</td>\n",
       "      <td>2008-08-13 21:10:42</td>\n",
       "      <td>2008-08-01</td>\n",
       "    </tr>\n",
       "    <tr>\n",
       "      <th>9</th>\n",
       "      <td>31505</td>\n",
       "      <td>2008-09-01 00:00:00</td>\n",
       "      <td>2008-08-14 10:28:43</td>\n",
       "      <td>2008-08-01</td>\n",
       "    </tr>\n",
       "    <tr>\n",
       "      <th>10</th>\n",
       "      <td>31505</td>\n",
       "      <td>2008-09-01 00:00:00</td>\n",
       "      <td>2008-08-14 10:36:04</td>\n",
       "      <td>2008-08-01</td>\n",
       "    </tr>\n",
       "    <tr>\n",
       "      <th>11</th>\n",
       "      <td>31505</td>\n",
       "      <td>2008-09-01 00:00:00</td>\n",
       "      <td>2008-08-14 11:07:01</td>\n",
       "      <td>2008-08-01</td>\n",
       "    </tr>\n",
       "    <tr>\n",
       "      <th>12</th>\n",
       "      <td>31505</td>\n",
       "      <td>2008-09-01 00:00:00</td>\n",
       "      <td>2008-08-19 16:00:47</td>\n",
       "      <td>2008-08-01</td>\n",
       "    </tr>\n",
       "    <tr>\n",
       "      <th>13</th>\n",
       "      <td>31505</td>\n",
       "      <td>2008-09-01 00:00:00</td>\n",
       "      <td>2008-08-19 16:19:51</td>\n",
       "      <td>2008-08-01</td>\n",
       "    </tr>\n",
       "    <tr>\n",
       "      <th>14</th>\n",
       "      <td>31505</td>\n",
       "      <td>2008-09-01 00:00:00</td>\n",
       "      <td>2008-08-19 16:28:42</td>\n",
       "      <td>2008-08-01</td>\n",
       "    </tr>\n",
       "    <tr>\n",
       "      <th>15</th>\n",
       "      <td>31505</td>\n",
       "      <td>2008-09-01 00:00:00</td>\n",
       "      <td>2008-08-20 20:42:05</td>\n",
       "      <td>2008-08-01</td>\n",
       "    </tr>\n",
       "    <tr>\n",
       "      <th>16</th>\n",
       "      <td>31505</td>\n",
       "      <td>2008-09-01 00:00:00</td>\n",
       "      <td>2008-08-21 13:05:57</td>\n",
       "      <td>2008-08-01</td>\n",
       "    </tr>\n",
       "    <tr>\n",
       "      <th>17</th>\n",
       "      <td>31505</td>\n",
       "      <td>2008-09-01 00:00:00</td>\n",
       "      <td>2008-08-22 16:38:49</td>\n",
       "      <td>2008-08-01</td>\n",
       "    </tr>\n",
       "    <tr>\n",
       "      <th>18</th>\n",
       "      <td>31505</td>\n",
       "      <td>2008-09-01 00:00:00</td>\n",
       "      <td>2008-08-24 12:11:01</td>\n",
       "      <td>2008-08-01</td>\n",
       "    </tr>\n",
       "    <tr>\n",
       "      <th>19</th>\n",
       "      <td>31505</td>\n",
       "      <td>2008-09-01 00:00:00</td>\n",
       "      <td>2008-08-25 08:02:43</td>\n",
       "      <td>2008-08-01</td>\n",
       "    </tr>\n",
       "    <tr>\n",
       "      <th>20</th>\n",
       "      <td>31505</td>\n",
       "      <td>2008-09-01 00:00:00</td>\n",
       "      <td>2008-08-25 15:16:03</td>\n",
       "      <td>2008-08-01</td>\n",
       "    </tr>\n",
       "    <tr>\n",
       "      <th>21</th>\n",
       "      <td>31505</td>\n",
       "      <td>2008-09-01 00:00:00</td>\n",
       "      <td>2008-08-25 20:16:27</td>\n",
       "      <td>2008-08-01</td>\n",
       "    </tr>\n",
       "    <tr>\n",
       "      <th>22</th>\n",
       "      <td>31505</td>\n",
       "      <td>2008-09-01 00:00:00</td>\n",
       "      <td>2008-08-27 14:31:58</td>\n",
       "      <td>2008-08-01</td>\n",
       "    </tr>\n",
       "    <tr>\n",
       "      <th>23</th>\n",
       "      <td>31505</td>\n",
       "      <td>2008-09-01 00:00:00</td>\n",
       "      <td>2008-08-27 14:49:01</td>\n",
       "      <td>2008-08-01</td>\n",
       "    </tr>\n",
       "    <tr>\n",
       "      <th>24</th>\n",
       "      <td>31505</td>\n",
       "      <td>2008-09-01 00:00:00</td>\n",
       "      <td>2008-08-28 19:32:43</td>\n",
       "      <td>2008-08-01</td>\n",
       "    </tr>\n",
       "    <tr>\n",
       "      <th>25</th>\n",
       "      <td>31505</td>\n",
       "      <td>2008-09-01 00:00:00</td>\n",
       "      <td>2008-08-29 11:37:55</td>\n",
       "      <td>2008-08-01</td>\n",
       "    </tr>\n",
       "    <tr>\n",
       "      <th>26</th>\n",
       "      <td>31505</td>\n",
       "      <td>2008-09-01 00:00:00</td>\n",
       "      <td>2008-08-29 16:47:46</td>\n",
       "      <td>2008-08-01</td>\n",
       "    </tr>\n",
       "    <tr>\n",
       "      <th>27</th>\n",
       "      <td>31505</td>\n",
       "      <td>2008-09-01 00:00:00</td>\n",
       "      <td>2008-08-29 17:20:35</td>\n",
       "      <td>2008-08-01</td>\n",
       "    </tr>\n",
       "    <tr>\n",
       "      <th>28</th>\n",
       "      <td>31505</td>\n",
       "      <td>2008-09-01 00:00:00</td>\n",
       "      <td>2008-08-29 19:06:19</td>\n",
       "      <td>2008-08-01</td>\n",
       "    </tr>\n",
       "    <tr>\n",
       "      <th>29</th>\n",
       "      <td>31505</td>\n",
       "      <td>2008-09-01 00:00:00</td>\n",
       "      <td>2008-08-29 20:16:51</td>\n",
       "      <td>2008-08-01</td>\n",
       "    </tr>\n",
       "    <tr>\n",
       "      <th>30</th>\n",
       "      <td>31505</td>\n",
       "      <td>2008-09-01 00:00:00</td>\n",
       "      <td>2008-08-30 21:22:06</td>\n",
       "      <td>2008-08-01</td>\n",
       "    </tr>\n",
       "    <tr>\n",
       "      <th>31</th>\n",
       "      <td>31505</td>\n",
       "      <td>2008-09-01 00:00:00</td>\n",
       "      <td>2008-08-31 14:27:32</td>\n",
       "      <td>2008-08-01</td>\n",
       "    </tr>\n",
       "  </tbody>\n",
       "</table>\n",
       "</div>"
      ],
      "text/plain": [
       "    user_id       user_creation       post_creation       month\n",
       "0      4381 2008-09-03 10:48:17 2008-08-30 15:20:15  2008-08-01\n",
       "1      4381 2008-09-03 10:48:17 2008-08-30 15:27:35  2008-08-01\n",
       "2     31505 2008-09-01 00:00:00 2008-08-12 13:15:47  2008-08-01\n",
       "3     31505 2008-09-01 00:00:00 2008-08-12 14:16:42  2008-08-01\n",
       "4     31505 2008-09-01 00:00:00 2008-08-12 14:39:20  2008-08-01\n",
       "5     31505 2008-09-01 00:00:00 2008-08-12 16:32:25  2008-08-01\n",
       "6     31505 2008-09-01 00:00:00 2008-08-12 17:00:35  2008-08-01\n",
       "7     31505 2008-09-01 00:00:00 2008-08-13 14:03:39  2008-08-01\n",
       "8     31505 2008-09-01 00:00:00 2008-08-13 21:10:42  2008-08-01\n",
       "9     31505 2008-09-01 00:00:00 2008-08-14 10:28:43  2008-08-01\n",
       "10    31505 2008-09-01 00:00:00 2008-08-14 10:36:04  2008-08-01\n",
       "11    31505 2008-09-01 00:00:00 2008-08-14 11:07:01  2008-08-01\n",
       "12    31505 2008-09-01 00:00:00 2008-08-19 16:00:47  2008-08-01\n",
       "13    31505 2008-09-01 00:00:00 2008-08-19 16:19:51  2008-08-01\n",
       "14    31505 2008-09-01 00:00:00 2008-08-19 16:28:42  2008-08-01\n",
       "15    31505 2008-09-01 00:00:00 2008-08-20 20:42:05  2008-08-01\n",
       "16    31505 2008-09-01 00:00:00 2008-08-21 13:05:57  2008-08-01\n",
       "17    31505 2008-09-01 00:00:00 2008-08-22 16:38:49  2008-08-01\n",
       "18    31505 2008-09-01 00:00:00 2008-08-24 12:11:01  2008-08-01\n",
       "19    31505 2008-09-01 00:00:00 2008-08-25 08:02:43  2008-08-01\n",
       "20    31505 2008-09-01 00:00:00 2008-08-25 15:16:03  2008-08-01\n",
       "21    31505 2008-09-01 00:00:00 2008-08-25 20:16:27  2008-08-01\n",
       "22    31505 2008-09-01 00:00:00 2008-08-27 14:31:58  2008-08-01\n",
       "23    31505 2008-09-01 00:00:00 2008-08-27 14:49:01  2008-08-01\n",
       "24    31505 2008-09-01 00:00:00 2008-08-28 19:32:43  2008-08-01\n",
       "25    31505 2008-09-01 00:00:00 2008-08-29 11:37:55  2008-08-01\n",
       "26    31505 2008-09-01 00:00:00 2008-08-29 16:47:46  2008-08-01\n",
       "27    31505 2008-09-01 00:00:00 2008-08-29 17:20:35  2008-08-01\n",
       "28    31505 2008-09-01 00:00:00 2008-08-29 19:06:19  2008-08-01\n",
       "29    31505 2008-09-01 00:00:00 2008-08-29 20:16:51  2008-08-01\n",
       "30    31505 2008-09-01 00:00:00 2008-08-30 21:22:06  2008-08-01\n",
       "31    31505 2008-09-01 00:00:00 2008-08-31 14:27:32  2008-08-01"
      ]
     },
     "execution_count": 15,
     "metadata": {},
     "output_type": "execute_result"
    }
   ],
   "source": [
    "# вывод результатов\n",
    "sample_df_test"
   ]
  },
  {
   "cell_type": "markdown",
   "metadata": {
    "id": "MMVIz4yMlKpN"
   },
   "source": [
    "**Ответ**\n",
    "\n",
    "Аномалия тут одна: присутствует август месяц, а его не должно быть..\n",
    "Тут скорее всего техническая ошибка при фиксации времени создания поста в в БД: \n",
    "- по user_id: 4381 - возможно он писал на месяц позже, а время по БД сдвинулось на месяц;\n",
    "- по user_id: 31505 - тут явно кто-то изменил дату регистрации.\n",
    "\n",
    "Ну и по началу видимо в БД отсутсвовала проверка разницы во времени..."
   ]
  },
  {
   "cell_type": "markdown",
   "metadata": {
    "id": "5Pcizm0DDWKz"
   },
   "source": [
    "# Задание 4"
   ]
  },
  {
   "cell_type": "markdown",
   "metadata": {
    "id": "KUZPF6vHDWKz"
   },
   "source": [
    "Используя данные о постах, выведите несколько полей:\n",
    "\n",
    "- идентификатор пользователя, который написал пост;\n",
    "- дата создания поста;\n",
    "- количество просмотров у текущего поста;\n",
    "- сумму просмотров постов автора с накоплением.\n",
    "\n",
    "Данные в таблице должны быть отсортированы по возрастанию идентификаторов пользователей, а данные об одном и том же пользователе — по возрастанию даты создания поста."
   ]
  },
  {
   "cell_type": "markdown",
   "metadata": {
    "id": "ZpsTUVDYDWK0"
   },
   "source": [
    "| user_id | creation_date | views_count | cumulative_count |\n",
    "| ------ | -------------- | ----------- | ---------------- |\n",
    "| 1 | 2008-07-31 23:41:00  | 480476   | 480476  |\n",
    "| 1 | 2008-07-31 23:55:38  | 136033 | 616509  | \n",
    "| 1 | 2008-07-31 23:56:41  | 0 |  616509  |\n",
    "| ... | ... | ... | ... |\n",
    "| 2 | 2008-07-31 23:56:41 | 79087  | 79087 |\n",
    "| 2 | 2008-08-01 05:09:56 | 65443 | 144530 |\n",
    "| ... | ...  | ...  | ...  |"
   ]
  },
  {
   "cell_type": "markdown",
   "metadata": {
    "id": "toidOivXDWK1"
   },
   "source": [
    "<details>\n",
    "\n",
    "<summary>Подсказка</summary>\n",
    "Для подсчёта суммы с накоплением используйте оконную функцию.\n",
    "</details>"
   ]
  },
  {
   "cell_type": "code",
   "execution_count": 16,
   "metadata": {
    "id": "hDoJhMzfDWK0"
   },
   "outputs": [],
   "source": [
    "# напишите запрос\n",
    "query_4 = '''\n",
    "SELECT user_id,\n",
    "       creation_date,\n",
    "       views_count,\n",
    "       SUM(views_count) OVER (PARTITION BY user_id ORDER BY creation_date) AS cumulative_count\n",
    "FROM stackoverflow.posts\n",
    "ORDER BY user_id;\n",
    "'''\n",
    "# выполните запрос\n",
    "sample_df_4 = pd.read_sql_query(query_4, con=engine)"
   ]
  },
  {
   "cell_type": "code",
   "execution_count": 17,
   "metadata": {},
   "outputs": [
    {
     "data": {
      "text/html": [
       "<div>\n",
       "<style scoped>\n",
       "    .dataframe tbody tr th:only-of-type {\n",
       "        vertical-align: middle;\n",
       "    }\n",
       "\n",
       "    .dataframe tbody tr th {\n",
       "        vertical-align: top;\n",
       "    }\n",
       "\n",
       "    .dataframe thead th {\n",
       "        text-align: right;\n",
       "    }\n",
       "</style>\n",
       "<table border=\"1\" class=\"dataframe\">\n",
       "  <thead>\n",
       "    <tr style=\"text-align: right;\">\n",
       "      <th></th>\n",
       "      <th>user_id</th>\n",
       "      <th>creation_date</th>\n",
       "      <th>views_count</th>\n",
       "      <th>cumulative_count</th>\n",
       "    </tr>\n",
       "  </thead>\n",
       "  <tbody>\n",
       "    <tr>\n",
       "      <th>0</th>\n",
       "      <td>1</td>\n",
       "      <td>2008-07-31 23:41:00</td>\n",
       "      <td>480476</td>\n",
       "      <td>480476</td>\n",
       "    </tr>\n",
       "    <tr>\n",
       "      <th>1</th>\n",
       "      <td>1</td>\n",
       "      <td>2008-07-31 23:55:38</td>\n",
       "      <td>136033</td>\n",
       "      <td>616509</td>\n",
       "    </tr>\n",
       "    <tr>\n",
       "      <th>2</th>\n",
       "      <td>1</td>\n",
       "      <td>2008-07-31 23:56:41</td>\n",
       "      <td>0</td>\n",
       "      <td>616509</td>\n",
       "    </tr>\n",
       "    <tr>\n",
       "      <th>3</th>\n",
       "      <td>1</td>\n",
       "      <td>2008-08-04 02:45:08</td>\n",
       "      <td>0</td>\n",
       "      <td>616509</td>\n",
       "    </tr>\n",
       "    <tr>\n",
       "      <th>4</th>\n",
       "      <td>1</td>\n",
       "      <td>2008-08-04 04:31:03</td>\n",
       "      <td>0</td>\n",
       "      <td>616509</td>\n",
       "    </tr>\n",
       "    <tr>\n",
       "      <th>...</th>\n",
       "      <td>...</td>\n",
       "      <td>...</td>\n",
       "      <td>...</td>\n",
       "      <td>...</td>\n",
       "    </tr>\n",
       "    <tr>\n",
       "      <th>243791</th>\n",
       "      <td>5696608</td>\n",
       "      <td>2008-12-23 16:00:37</td>\n",
       "      <td>0</td>\n",
       "      <td>2804</td>\n",
       "    </tr>\n",
       "    <tr>\n",
       "      <th>243792</th>\n",
       "      <td>5696608</td>\n",
       "      <td>2008-12-23 17:35:09</td>\n",
       "      <td>0</td>\n",
       "      <td>2804</td>\n",
       "    </tr>\n",
       "    <tr>\n",
       "      <th>243793</th>\n",
       "      <td>5696608</td>\n",
       "      <td>2008-12-24 01:02:48</td>\n",
       "      <td>0</td>\n",
       "      <td>2804</td>\n",
       "    </tr>\n",
       "    <tr>\n",
       "      <th>243794</th>\n",
       "      <td>5696608</td>\n",
       "      <td>2008-12-30 14:34:45</td>\n",
       "      <td>0</td>\n",
       "      <td>2804</td>\n",
       "    </tr>\n",
       "    <tr>\n",
       "      <th>243795</th>\n",
       "      <td>5696608</td>\n",
       "      <td>2008-12-30 16:32:12</td>\n",
       "      <td>0</td>\n",
       "      <td>2804</td>\n",
       "    </tr>\n",
       "  </tbody>\n",
       "</table>\n",
       "<p>243796 rows × 4 columns</p>\n",
       "</div>"
      ],
      "text/plain": [
       "        user_id       creation_date  views_count  cumulative_count\n",
       "0             1 2008-07-31 23:41:00       480476            480476\n",
       "1             1 2008-07-31 23:55:38       136033            616509\n",
       "2             1 2008-07-31 23:56:41            0            616509\n",
       "3             1 2008-08-04 02:45:08            0            616509\n",
       "4             1 2008-08-04 04:31:03            0            616509\n",
       "...         ...                 ...          ...               ...\n",
       "243791  5696608 2008-12-23 16:00:37            0              2804\n",
       "243792  5696608 2008-12-23 17:35:09            0              2804\n",
       "243793  5696608 2008-12-24 01:02:48            0              2804\n",
       "243794  5696608 2008-12-30 14:34:45            0              2804\n",
       "243795  5696608 2008-12-30 16:32:12            0              2804\n",
       "\n",
       "[243796 rows x 4 columns]"
      ]
     },
     "execution_count": 17,
     "metadata": {},
     "output_type": "execute_result"
    }
   ],
   "source": [
    "# вывод результатов\n",
    "sample_df_4"
   ]
  },
  {
   "cell_type": "markdown",
   "metadata": {
    "id": "N0kHRHvIDWK2"
   },
   "source": [
    "# Задание 5"
   ]
  },
  {
   "cell_type": "markdown",
   "metadata": {
    "id": "gBgvmPtODWK2"
   },
   "source": [
    "Найдите среднее количество постов пользователей в день за август 2008 года. Отберите данные о пользователях, которые опубликовали больше 120 постов за август. Дни без публикаций не учитывайте. \n",
    "\n",
    "Отсортируйте результат по возрастанию среднего количества постов. Значения можно не округлять."
   ]
  },
  {
   "cell_type": "markdown",
   "metadata": {
    "id": "nfzR08BODWK3"
   },
   "source": [
    "| user_id | avg_daily |\n",
    "| ------- | --------- |\n",
    "| 116     | 4.777778  |\n",
    "| 234     | 5.208333  |\n",
    "| ...     | ... |"
   ]
  },
  {
   "cell_type": "markdown",
   "metadata": {
    "id": "5Gs8kiJvDWK4"
   },
   "source": [
    "<details>\n",
    "\n",
    "<summary>Подсказка</summary>\n",
    "Сначала найдите идентификаторы пользователей, которые написали более 120 постов за август. Используя этот запрос в качестве подзапроса для среза, найдите и сохраните во временную таблицу идентификаторы нужных пользователей, дни августа и количество постов в день. В основном запросе сгруппируйте данные по пользователям и найдите для каждого из них среднее количество постов.\n",
    "</details>"
   ]
  },
  {
   "cell_type": "code",
   "execution_count": 18,
   "metadata": {
    "id": "YFyPNz5GDWK3"
   },
   "outputs": [],
   "source": [
    "# напишите запрос\n",
    "query_5 = '''\n",
    "WITH usr AS\n",
    "        (SELECT user_id\n",
    "         FROM stackoverflow.posts\n",
    "         WHERE creation_date::date BETWEEN '2008-08-01' AND '2008-08-31'\n",
    "         GROUP BY user_id\n",
    "         HAVING COUNT(id) > 120),\n",
    "     tab AS\n",
    "        (SELECT user_id,\n",
    "                DATE_TRUNC('day', creation_date)::date AS day,\n",
    "                COUNT(id)\n",
    "         FROM stackoverflow.posts\n",
    "         WHERE user_id IN (SELECT * FROM usr)\n",
    "         GROUP BY user_id, DATE_TRUNC('day', creation_date)::date)\n",
    "SELECT t.user_id,\n",
    "       AVG(t.count) AS count\n",
    "FROM tab AS t\n",
    "WHERE t.day BETWEEN '2008-08-01' AND '2008-08-31'\n",
    "GROUP BY t.user_id\n",
    "ORDER BY count;\n",
    "'''\n",
    "# выполните запрос\n",
    "sample_df_5 = pd.read_sql_query(query_5, con=engine)"
   ]
  },
  {
   "cell_type": "code",
   "execution_count": 19,
   "metadata": {},
   "outputs": [
    {
     "data": {
      "text/html": [
       "<div>\n",
       "<style scoped>\n",
       "    .dataframe tbody tr th:only-of-type {\n",
       "        vertical-align: middle;\n",
       "    }\n",
       "\n",
       "    .dataframe tbody tr th {\n",
       "        vertical-align: top;\n",
       "    }\n",
       "\n",
       "    .dataframe thead th {\n",
       "        text-align: right;\n",
       "    }\n",
       "</style>\n",
       "<table border=\"1\" class=\"dataframe\">\n",
       "  <thead>\n",
       "    <tr style=\"text-align: right;\">\n",
       "      <th></th>\n",
       "      <th>user_id</th>\n",
       "      <th>count</th>\n",
       "    </tr>\n",
       "  </thead>\n",
       "  <tbody>\n",
       "    <tr>\n",
       "      <th>0</th>\n",
       "      <td>116</td>\n",
       "      <td>4.78</td>\n",
       "    </tr>\n",
       "    <tr>\n",
       "      <th>1</th>\n",
       "      <td>234</td>\n",
       "      <td>5.21</td>\n",
       "    </tr>\n",
       "    <tr>\n",
       "      <th>2</th>\n",
       "      <td>91</td>\n",
       "      <td>5.68</td>\n",
       "    </tr>\n",
       "    <tr>\n",
       "      <th>3</th>\n",
       "      <td>905</td>\n",
       "      <td>7.00</td>\n",
       "    </tr>\n",
       "    <tr>\n",
       "      <th>4</th>\n",
       "      <td>383</td>\n",
       "      <td>7.28</td>\n",
       "    </tr>\n",
       "  </tbody>\n",
       "</table>\n",
       "</div>"
      ],
      "text/plain": [
       "   user_id  count\n",
       "0      116   4.78\n",
       "1      234   5.21\n",
       "2       91   5.68\n",
       "3      905   7.00\n",
       "4      383   7.28"
      ]
     },
     "execution_count": 19,
     "metadata": {},
     "output_type": "execute_result"
    }
   ],
   "source": [
    "# вывод результатов\n",
    "sample_df_5"
   ]
  },
  {
   "cell_type": "markdown",
   "metadata": {
    "id": "EQ0dcFH4DWK5"
   },
   "source": [
    "# Задание 6"
   ]
  },
  {
   "cell_type": "markdown",
   "metadata": {
    "id": "c7flfg_hDWK5"
   },
   "source": [
    "Сколько в среднем дней в период с 1 по 7 декабря 2008 года пользователи взаимодействовали с платформой? Для каждого пользователя отберите дни, в которые он или она опубликовали хотя бы один пост. Нужно получить одно целое число — не забудьте округлить результат. "
   ]
  },
  {
   "cell_type": "markdown",
   "metadata": {
    "id": "RC1Ibzm9DWK6"
   },
   "source": [
    "| result |\n",
    "| -----  |\n",
    "| <целое число> |"
   ]
  },
  {
   "cell_type": "markdown",
   "metadata": {
    "id": "2K5G3xuBDWK7"
   },
   "source": [
    "<details>\n",
    "\n",
    "<summary>Подсказка</summary>\n",
    "Посчитайте, сколько активных дней было у каждого пользователя. Добавьте данные во временную таблицу и используйте в основном запросе.\n",
    "</details>"
   ]
  },
  {
   "cell_type": "code",
   "execution_count": 20,
   "metadata": {
    "id": "kZ7LXTr6DWK6"
   },
   "outputs": [],
   "source": [
    "# напишите запрос\n",
    "query_6 = '''\n",
    "WITH res AS \n",
    "       (SELECT user_id,\n",
    "               COUNT(DISTINCT creation_date::date) AS count_post\n",
    "        FROM stackoverflow.posts\n",
    "        WHERE creation_date::date BETWEEN '2008-12-01' AND '2008-12-07' \n",
    "        GROUP BY user_id)\n",
    "SELECT AVG(count_post)::int AS result\n",
    "FROM res;\n",
    "'''\n",
    "# выполните запрос\n",
    "sample_df_6 = pd.read_sql_query(query_6, con=engine)"
   ]
  },
  {
   "cell_type": "code",
   "execution_count": 21,
   "metadata": {},
   "outputs": [
    {
     "data": {
      "text/html": [
       "<div>\n",
       "<style scoped>\n",
       "    .dataframe tbody tr th:only-of-type {\n",
       "        vertical-align: middle;\n",
       "    }\n",
       "\n",
       "    .dataframe tbody tr th {\n",
       "        vertical-align: top;\n",
       "    }\n",
       "\n",
       "    .dataframe thead th {\n",
       "        text-align: right;\n",
       "    }\n",
       "</style>\n",
       "<table border=\"1\" class=\"dataframe\">\n",
       "  <thead>\n",
       "    <tr style=\"text-align: right;\">\n",
       "      <th></th>\n",
       "      <th>result</th>\n",
       "    </tr>\n",
       "  </thead>\n",
       "  <tbody>\n",
       "    <tr>\n",
       "      <th>0</th>\n",
       "      <td>2</td>\n",
       "    </tr>\n",
       "  </tbody>\n",
       "</table>\n",
       "</div>"
      ],
      "text/plain": [
       "   result\n",
       "0       2"
      ]
     },
     "execution_count": 21,
     "metadata": {},
     "output_type": "execute_result"
    }
   ],
   "source": [
    "# вывод результатов\n",
    "sample_df_6"
   ]
  },
  {
   "cell_type": "markdown",
   "metadata": {
    "id": "UJFtNNggDWK7"
   },
   "source": [
    "Проанализируйте итоговую таблицу — какие выводы можно сделать?"
   ]
  },
  {
   "cell_type": "markdown",
   "metadata": {
    "id": "LfUuYz-1DWK8"
   },
   "source": [
    "**Ответ**\n",
    "\n",
    "В течение недели с 1 по 7 декабря 2008 года среднее время нахождения на платформе: 2 дня."
   ]
  },
  {
   "cell_type": "markdown",
   "metadata": {
    "id": "wfOmqmfLDWK8"
   },
   "source": [
    "# Задание 7"
   ]
  },
  {
   "cell_type": "markdown",
   "metadata": {
    "id": "X4ARQimADWK9"
   },
   "source": [
    "Выведите историю активности каждого пользователя в таком виде: идентификатор пользователя, дата публикации поста. Отсортируйте вывод по возрастанию идентификаторов пользователей, а для каждого пользователя — по возрастанию даты публикации.\n",
    "\n",
    "Добавьте в таблицу новое поле: для каждого поста в нём будет указано название месяца предпоследней публикации пользователя относительно текущей. Если такой публикации нет, укажите `NULL`.  Python автоматически поменяет `NULL` на `None`, но дополнительно преобразовывать значения `None` вам не нужно.\n",
    "\n",
    "Посмотрите внимательно на образец таблицы: для первых двух постов предпоследней публикации нет, но, начиная с третьего поста, в новое поле входит нужный месяц. Для следующего пользователя в первые две записи поля `second_last_month` тоже войдёт `NULL`."
   ]
  },
  {
   "cell_type": "markdown",
   "metadata": {
    "id": "IGPjRP01DWK9"
   },
   "source": [
    "| user_id | creation_date | second_last_month |\n",
    "| ------- | ------------- | ----------------- |\n",
    "| 1       | 2008-07-31 23:41:00 | None |\n",
    "| 1       | 2008-07-31 23:55:38 | None |\n",
    "| 1       | 2008-07-31 23:56:41 | July |\n",
    "| 1       | 2008-08-04 02:45:08 | July |\n",
    "| 1       | 2008-08-04 04:31:03 | July |\n",
    "| 1       | 2008-08-04 08:04:42 | August |\n",
    "| ... | ... | ... |"
   ]
  },
  {
   "cell_type": "markdown",
   "metadata": {
    "id": "7dqoKkncDWK_"
   },
   "source": [
    "<details>\n",
    "\n",
    "<summary>Подсказка</summary>\n",
    "Преобразовать результат оконной функции в нужное значение вам поможет аналог условного оператора в SQL: CASE <поле> WHEN <старое значение> THEN <новое значение> END.\n",
    "</details>"
   ]
  },
  {
   "cell_type": "code",
   "execution_count": 22,
   "metadata": {
    "id": "HzI1vhaMDWK-"
   },
   "outputs": [],
   "source": [
    "# напишите запрос\n",
    "query_7 = '''\n",
    "WITH lags AS\n",
    "         (SELECT user_id,\n",
    "                 creation_date, \n",
    "                 LAG(creation_date, 2, NULL) OVER(PARTITION BY user_id ORDER BY creation_date)::date\n",
    "          FROM stackoverflow.posts)\n",
    "SELECT user_id,\n",
    "       creation_date,\n",
    "       CASE\n",
    "           WHEN EXTRACT(MONTH FROM lag) = 1 THEN 'January'\n",
    "           WHEN EXTRACT(MONTH FROM lag) = 2 THEN 'February'\n",
    "           WHEN EXTRACT(MONTH FROM lag) = 3 THEN 'March'\n",
    "           WHEN EXTRACT(MONTH FROM lag) = 4 THEN 'April'\n",
    "           WHEN EXTRACT(MONTH FROM lag) = 5 THEN 'May'\n",
    "           WHEN EXTRACT(MONTH FROM lag) = 6 THEN 'June'\n",
    "           WHEN EXTRACT(MONTH FROM lag) = 7 THEN 'July'\n",
    "           WHEN EXTRACT(MONTH FROM lag) = 8 THEN 'August'\n",
    "           WHEN EXTRACT(MONTH FROM lag) = 9 THEN 'September'\n",
    "           WHEN EXTRACT(MONTH FROM lag) = 10 THEN 'October'\n",
    "           WHEN EXTRACT(MONTH FROM lag) = 11 THEN 'November'\n",
    "           WHEN EXTRACT(MONTH FROM lag) = 12 THEN 'December'\n",
    "       END AS second_last_month   \n",
    "FROM lags;\n",
    "'''\n",
    "# выполните запрос\n",
    "sample_df_7 = pd.read_sql_query(query_7, con=engine)"
   ]
  },
  {
   "cell_type": "code",
   "execution_count": 23,
   "metadata": {},
   "outputs": [
    {
     "data": {
      "text/html": [
       "<div>\n",
       "<style scoped>\n",
       "    .dataframe tbody tr th:only-of-type {\n",
       "        vertical-align: middle;\n",
       "    }\n",
       "\n",
       "    .dataframe tbody tr th {\n",
       "        vertical-align: top;\n",
       "    }\n",
       "\n",
       "    .dataframe thead th {\n",
       "        text-align: right;\n",
       "    }\n",
       "</style>\n",
       "<table border=\"1\" class=\"dataframe\">\n",
       "  <thead>\n",
       "    <tr style=\"text-align: right;\">\n",
       "      <th></th>\n",
       "      <th>user_id</th>\n",
       "      <th>creation_date</th>\n",
       "      <th>second_last_month</th>\n",
       "    </tr>\n",
       "  </thead>\n",
       "  <tbody>\n",
       "    <tr>\n",
       "      <th>0</th>\n",
       "      <td>1</td>\n",
       "      <td>2008-07-31 23:41:00</td>\n",
       "      <td>None</td>\n",
       "    </tr>\n",
       "    <tr>\n",
       "      <th>1</th>\n",
       "      <td>1</td>\n",
       "      <td>2008-07-31 23:55:38</td>\n",
       "      <td>None</td>\n",
       "    </tr>\n",
       "    <tr>\n",
       "      <th>2</th>\n",
       "      <td>1</td>\n",
       "      <td>2008-07-31 23:56:41</td>\n",
       "      <td>July</td>\n",
       "    </tr>\n",
       "    <tr>\n",
       "      <th>3</th>\n",
       "      <td>1</td>\n",
       "      <td>2008-08-04 02:45:08</td>\n",
       "      <td>July</td>\n",
       "    </tr>\n",
       "    <tr>\n",
       "      <th>4</th>\n",
       "      <td>1</td>\n",
       "      <td>2008-08-04 04:31:03</td>\n",
       "      <td>July</td>\n",
       "    </tr>\n",
       "    <tr>\n",
       "      <th>...</th>\n",
       "      <td>...</td>\n",
       "      <td>...</td>\n",
       "      <td>...</td>\n",
       "    </tr>\n",
       "    <tr>\n",
       "      <th>243791</th>\n",
       "      <td>5696608</td>\n",
       "      <td>2008-12-23 16:00:37</td>\n",
       "      <td>December</td>\n",
       "    </tr>\n",
       "    <tr>\n",
       "      <th>243792</th>\n",
       "      <td>5696608</td>\n",
       "      <td>2008-12-23 17:35:09</td>\n",
       "      <td>December</td>\n",
       "    </tr>\n",
       "    <tr>\n",
       "      <th>243793</th>\n",
       "      <td>5696608</td>\n",
       "      <td>2008-12-24 01:02:48</td>\n",
       "      <td>December</td>\n",
       "    </tr>\n",
       "    <tr>\n",
       "      <th>243794</th>\n",
       "      <td>5696608</td>\n",
       "      <td>2008-12-30 14:34:45</td>\n",
       "      <td>December</td>\n",
       "    </tr>\n",
       "    <tr>\n",
       "      <th>243795</th>\n",
       "      <td>5696608</td>\n",
       "      <td>2008-12-30 16:32:12</td>\n",
       "      <td>December</td>\n",
       "    </tr>\n",
       "  </tbody>\n",
       "</table>\n",
       "<p>243796 rows × 3 columns</p>\n",
       "</div>"
      ],
      "text/plain": [
       "        user_id       creation_date second_last_month\n",
       "0             1 2008-07-31 23:41:00              None\n",
       "1             1 2008-07-31 23:55:38              None\n",
       "2             1 2008-07-31 23:56:41              July\n",
       "3             1 2008-08-04 02:45:08              July\n",
       "4             1 2008-08-04 04:31:03              July\n",
       "...         ...                 ...               ...\n",
       "243791  5696608 2008-12-23 16:00:37          December\n",
       "243792  5696608 2008-12-23 17:35:09          December\n",
       "243793  5696608 2008-12-24 01:02:48          December\n",
       "243794  5696608 2008-12-30 14:34:45          December\n",
       "243795  5696608 2008-12-30 16:32:12          December\n",
       "\n",
       "[243796 rows x 3 columns]"
      ]
     },
     "execution_count": 23,
     "metadata": {},
     "output_type": "execute_result"
    }
   ],
   "source": [
    "sample_df_7"
   ]
  },
  {
   "cell_type": "markdown",
   "metadata": {
    "id": "tf9qq2yzDWK_"
   },
   "source": [
    "# Задание 8"
   ]
  },
  {
   "cell_type": "markdown",
   "metadata": {
    "id": "gfwLVXBYDWLA"
   },
   "source": [
    "Рассчитайте аналог Retention Rate по месяцам для пользователей StackOverflow. Объедините пользователей в когорты по месяцу их первого поста. Возвращение определяйте по наличию поста в текущем месяце. "
   ]
  },
  {
   "cell_type": "markdown",
   "metadata": {
    "id": "kN2ic39WlKpl"
   },
   "source": [
    "| cohort_dt | session_date | users_cnt | cohort_users_cnt | retention_rate |\n",
    "| --- | --- | --- | --- | --- |\n",
    "| 2008-07-01 00:00:00 | 2008-07-01 00:00:00 | 3 | 3 | 100 |\n",
    "| 2008-07-01 00:00:00 | 2008-08-01 00:00:00 | 2 | 3 | 66,67 |\n",
    "| 2008-07-01 00:00:00 | 2008-09-01 00:00:00 | 1 | 3 | 33,33 |\n",
    "| 2008-07-01 00:00:00 | 2008-10-01 00:00:00 | 2 | 3 | 66,67 |\n",
    "| 2008-07-01 00:00:00 | 2008-11-01 00:00:00 | 1 | 3 | 33,33 |\n",
    "| 2008-07-01 00:00:00 | 2008-12-01 00:00:00 | 2 | 3 | 66,67 |\n",
    "| 2008-08-01 00:00:00 | 2008-08-01 00:00:00 | 2151 | 2151 | 100 |\n",
    "| ... | ... | ... | ... | ... |"
   ]
  },
  {
   "cell_type": "markdown",
   "metadata": {
    "id": "Yavb5o9JDWLB"
   },
   "source": [
    "<details>\n",
    "\n",
    "<summary>Подсказка</summary>\n",
    "Вспомните, как выглядел запрос для расчёта Retention Rate в теории. Создайте две временные таблицы: `profile` и `sessions` (в ней будет информация о публикациях), а затем используйте их в основном запросе.\n",
    "\n",
    "Во временной таблице `profile` вам понадобятся три поля:\n",
    "\n",
    "- идентификатор пользователя;\n",
    "- дата первого поста пользователя, усечённая до месяца (признак начала когорты);\n",
    "- количество пользователей этой когорты.\n",
    "</details>"
   ]
  },
  {
   "cell_type": "code",
   "execution_count": 24,
   "metadata": {
    "id": "LUgFmwmTDWLB"
   },
   "outputs": [],
   "source": [
    "# напишите запрос\n",
    "query_8 = '''\n",
    "WITH cohort AS\n",
    "           (SELECT DISTINCT user_id,\n",
    "            FIRST_VALUE(DATE_TRUNC('month', creation_date)) \n",
    "                       OVER (PARTITION BY user_id ORDER BY DATE_TRUNC('month', creation_date)) AS cohort_dt\n",
    "            FROM stackoverflow.posts),\n",
    "      users AS\n",
    "           (SELECT *,\n",
    "                   COUNT(user_id) OVER(PARTITION BY cohort_dt) AS cohort_users_cnt\n",
    "            FROM cohort),\n",
    "     session AS \n",
    "           (SELECT user_id,\n",
    "                   DATE_TRUNC('month', creation_date) AS session_date\n",
    "                   FROM stackoverflow.posts\n",
    "                   GROUP BY user_id, session_date)\n",
    "SELECT u.cohort_dt,\n",
    "       s.session_date,\n",
    "       COUNT(u.user_id) AS users_cnt,\n",
    "       u.cohort_users_cnt,\n",
    "       ROUND(COUNT(u.user_id) * 100.00 / u.cohort_users_cnt, 2) AS retention_rate\n",
    "FROM users AS u \n",
    "JOIN session AS s ON u.user_id=s.user_id\n",
    "GROUP BY u.cohort_dt, s.session_date, u.cohort_users_cnt;\n",
    "\n",
    "'''\n",
    "# выполните запрос\n",
    "sample_df_8 = pd.read_sql_query(query_8, con=engine)"
   ]
  },
  {
   "cell_type": "code",
   "execution_count": 25,
   "metadata": {},
   "outputs": [
    {
     "data": {
      "text/html": [
       "<div>\n",
       "<style scoped>\n",
       "    .dataframe tbody tr th:only-of-type {\n",
       "        vertical-align: middle;\n",
       "    }\n",
       "\n",
       "    .dataframe tbody tr th {\n",
       "        vertical-align: top;\n",
       "    }\n",
       "\n",
       "    .dataframe thead th {\n",
       "        text-align: right;\n",
       "    }\n",
       "</style>\n",
       "<table border=\"1\" class=\"dataframe\">\n",
       "  <thead>\n",
       "    <tr style=\"text-align: right;\">\n",
       "      <th></th>\n",
       "      <th>cohort_dt</th>\n",
       "      <th>session_date</th>\n",
       "      <th>users_cnt</th>\n",
       "      <th>cohort_users_cnt</th>\n",
       "      <th>retention_rate</th>\n",
       "    </tr>\n",
       "  </thead>\n",
       "  <tbody>\n",
       "    <tr>\n",
       "      <th>0</th>\n",
       "      <td>2008-07-01</td>\n",
       "      <td>2008-07-01</td>\n",
       "      <td>3</td>\n",
       "      <td>3</td>\n",
       "      <td>100.00</td>\n",
       "    </tr>\n",
       "    <tr>\n",
       "      <th>1</th>\n",
       "      <td>2008-07-01</td>\n",
       "      <td>2008-08-01</td>\n",
       "      <td>2</td>\n",
       "      <td>3</td>\n",
       "      <td>66.67</td>\n",
       "    </tr>\n",
       "    <tr>\n",
       "      <th>2</th>\n",
       "      <td>2008-07-01</td>\n",
       "      <td>2008-09-01</td>\n",
       "      <td>1</td>\n",
       "      <td>3</td>\n",
       "      <td>33.33</td>\n",
       "    </tr>\n",
       "    <tr>\n",
       "      <th>3</th>\n",
       "      <td>2008-07-01</td>\n",
       "      <td>2008-10-01</td>\n",
       "      <td>2</td>\n",
       "      <td>3</td>\n",
       "      <td>66.67</td>\n",
       "    </tr>\n",
       "    <tr>\n",
       "      <th>4</th>\n",
       "      <td>2008-07-01</td>\n",
       "      <td>2008-11-01</td>\n",
       "      <td>1</td>\n",
       "      <td>3</td>\n",
       "      <td>33.33</td>\n",
       "    </tr>\n",
       "    <tr>\n",
       "      <th>5</th>\n",
       "      <td>2008-07-01</td>\n",
       "      <td>2008-12-01</td>\n",
       "      <td>2</td>\n",
       "      <td>3</td>\n",
       "      <td>66.67</td>\n",
       "    </tr>\n",
       "    <tr>\n",
       "      <th>6</th>\n",
       "      <td>2008-08-01</td>\n",
       "      <td>2008-08-01</td>\n",
       "      <td>2151</td>\n",
       "      <td>2151</td>\n",
       "      <td>100.00</td>\n",
       "    </tr>\n",
       "    <tr>\n",
       "      <th>7</th>\n",
       "      <td>2008-08-01</td>\n",
       "      <td>2008-09-01</td>\n",
       "      <td>1571</td>\n",
       "      <td>2151</td>\n",
       "      <td>73.04</td>\n",
       "    </tr>\n",
       "    <tr>\n",
       "      <th>8</th>\n",
       "      <td>2008-08-01</td>\n",
       "      <td>2008-10-01</td>\n",
       "      <td>1275</td>\n",
       "      <td>2151</td>\n",
       "      <td>59.27</td>\n",
       "    </tr>\n",
       "    <tr>\n",
       "      <th>9</th>\n",
       "      <td>2008-08-01</td>\n",
       "      <td>2008-11-01</td>\n",
       "      <td>1050</td>\n",
       "      <td>2151</td>\n",
       "      <td>48.81</td>\n",
       "    </tr>\n",
       "    <tr>\n",
       "      <th>10</th>\n",
       "      <td>2008-08-01</td>\n",
       "      <td>2008-12-01</td>\n",
       "      <td>894</td>\n",
       "      <td>2151</td>\n",
       "      <td>41.56</td>\n",
       "    </tr>\n",
       "    <tr>\n",
       "      <th>11</th>\n",
       "      <td>2008-09-01</td>\n",
       "      <td>2008-09-01</td>\n",
       "      <td>7678</td>\n",
       "      <td>7678</td>\n",
       "      <td>100.00</td>\n",
       "    </tr>\n",
       "    <tr>\n",
       "      <th>12</th>\n",
       "      <td>2008-09-01</td>\n",
       "      <td>2008-10-01</td>\n",
       "      <td>4132</td>\n",
       "      <td>7678</td>\n",
       "      <td>53.82</td>\n",
       "    </tr>\n",
       "    <tr>\n",
       "      <th>13</th>\n",
       "      <td>2008-09-01</td>\n",
       "      <td>2008-11-01</td>\n",
       "      <td>2966</td>\n",
       "      <td>7678</td>\n",
       "      <td>38.63</td>\n",
       "    </tr>\n",
       "    <tr>\n",
       "      <th>14</th>\n",
       "      <td>2008-09-01</td>\n",
       "      <td>2008-12-01</td>\n",
       "      <td>2500</td>\n",
       "      <td>7678</td>\n",
       "      <td>32.56</td>\n",
       "    </tr>\n",
       "    <tr>\n",
       "      <th>15</th>\n",
       "      <td>2008-10-01</td>\n",
       "      <td>2008-10-01</td>\n",
       "      <td>3629</td>\n",
       "      <td>3629</td>\n",
       "      <td>100.00</td>\n",
       "    </tr>\n",
       "    <tr>\n",
       "      <th>16</th>\n",
       "      <td>2008-10-01</td>\n",
       "      <td>2008-11-01</td>\n",
       "      <td>1640</td>\n",
       "      <td>3629</td>\n",
       "      <td>45.19</td>\n",
       "    </tr>\n",
       "    <tr>\n",
       "      <th>17</th>\n",
       "      <td>2008-10-01</td>\n",
       "      <td>2008-12-01</td>\n",
       "      <td>1221</td>\n",
       "      <td>3629</td>\n",
       "      <td>33.65</td>\n",
       "    </tr>\n",
       "    <tr>\n",
       "      <th>18</th>\n",
       "      <td>2008-11-01</td>\n",
       "      <td>2008-11-01</td>\n",
       "      <td>2852</td>\n",
       "      <td>2852</td>\n",
       "      <td>100.00</td>\n",
       "    </tr>\n",
       "    <tr>\n",
       "      <th>19</th>\n",
       "      <td>2008-11-01</td>\n",
       "      <td>2008-12-01</td>\n",
       "      <td>1151</td>\n",
       "      <td>2852</td>\n",
       "      <td>40.36</td>\n",
       "    </tr>\n",
       "    <tr>\n",
       "      <th>20</th>\n",
       "      <td>2008-12-01</td>\n",
       "      <td>2008-12-01</td>\n",
       "      <td>2536</td>\n",
       "      <td>2536</td>\n",
       "      <td>100.00</td>\n",
       "    </tr>\n",
       "  </tbody>\n",
       "</table>\n",
       "</div>"
      ],
      "text/plain": [
       "    cohort_dt session_date  users_cnt  cohort_users_cnt  retention_rate\n",
       "0  2008-07-01   2008-07-01          3                 3          100.00\n",
       "1  2008-07-01   2008-08-01          2                 3           66.67\n",
       "2  2008-07-01   2008-09-01          1                 3           33.33\n",
       "3  2008-07-01   2008-10-01          2                 3           66.67\n",
       "4  2008-07-01   2008-11-01          1                 3           33.33\n",
       "5  2008-07-01   2008-12-01          2                 3           66.67\n",
       "6  2008-08-01   2008-08-01       2151              2151          100.00\n",
       "7  2008-08-01   2008-09-01       1571              2151           73.04\n",
       "8  2008-08-01   2008-10-01       1275              2151           59.27\n",
       "9  2008-08-01   2008-11-01       1050              2151           48.81\n",
       "10 2008-08-01   2008-12-01        894              2151           41.56\n",
       "11 2008-09-01   2008-09-01       7678              7678          100.00\n",
       "12 2008-09-01   2008-10-01       4132              7678           53.82\n",
       "13 2008-09-01   2008-11-01       2966              7678           38.63\n",
       "14 2008-09-01   2008-12-01       2500              7678           32.56\n",
       "15 2008-10-01   2008-10-01       3629              3629          100.00\n",
       "16 2008-10-01   2008-11-01       1640              3629           45.19\n",
       "17 2008-10-01   2008-12-01       1221              3629           33.65\n",
       "18 2008-11-01   2008-11-01       2852              2852          100.00\n",
       "19 2008-11-01   2008-12-01       1151              2852           40.36\n",
       "20 2008-12-01   2008-12-01       2536              2536          100.00"
      ]
     },
     "execution_count": 25,
     "metadata": {},
     "output_type": "execute_result"
    }
   ],
   "source": [
    "# вывод результатов\n",
    "sample_df_8"
   ]
  },
  {
   "cell_type": "markdown",
   "metadata": {
    "id": "_msBtnb2DWLC"
   },
   "source": [
    "Постройте тепловую карту Retention Rate. Какие аномалии или другие необычные явления удалось выявить? Сформулируйте гипотезы о возможных причинах."
   ]
  },
  {
   "cell_type": "code",
   "execution_count": 26,
   "metadata": {
    "id": "qAEJc8H1DWLC"
   },
   "outputs": [
    {
     "data": {
      "image/png": "[encoded data removed]",
      "text/plain": [
       "<Figure size 1600x1600 with 2 Axes>"
      ]
     },
     "metadata": {},
     "output_type": "display_data"
    }
   ],
   "source": [
    "# постройте тепловую карту Retention Rate\n",
    "retention = sample_df_8.pivot(index='cohort_dt', columns='session_date', values='retention_rate')\n",
    "retention.index = [str(x)[0:10] for x in retention.index]\n",
    "retention.columns = [str(x)[0:10] for x in retention.columns]\n",
    "\n",
    "# строим хитмэп\n",
    "plt.figure(figsize=(16, 16)) # задаём размер графика\n",
    "sns.heatmap(retention, # датафрейм с данными\n",
    "            annot=True, # добавляем подписи\n",
    "            fmt='') # задаём исходный формат\n",
    "plt.title('Тепловая карта', fontsize=22) # название графика\n",
    "plt.show()"
   ]
  },
  {
   "cell_type": "markdown",
   "metadata": {
    "id": "EgOfIsI4DWLC"
   },
   "source": [
    "**Ответ**\n",
    "\n",
    "Первая когорта самая маленькая - это видимо тестировщики..\n",
    "\n",
    "А далее по все когортам процент удержания снижается.\n",
    "\n",
    "Тут возможны варианты:\n",
    "- постепенное заполнение базы 'Вопрос-Ответ', и соответтсвенно уже не нужно больше задавать вопросы.\n",
    "- система рейтингов отпугивающая пользователя: нужно набирать рейтинг, чтобы писать комменты в чужих темах и т.д. и т.п."
   ]
  },
  {
   "cell_type": "markdown",
   "metadata": {
    "id": "1k7oPWt5DWLK"
   },
   "source": [
    "# Задание 9\n"
   ]
  },
  {
   "cell_type": "markdown",
   "metadata": {
    "id": "ALsYVSyRDWLM"
   },
   "source": [
    "На сколько процентов менялось количество постов ежемесячно с 1 сентября по 31 декабря 2008 года? Отобразите таблицу со следующими полями:\n",
    "\n",
    "- номер месяца;\n",
    "- количество постов за месяц;\n",
    "- процент, который показывает, насколько изменилось количество постов в текущем месяце по сравнению с предыдущим.\n",
    "\n",
    "Если постов стало меньше, значение процента должно быть отрицательным, если больше — положительным. Округлите значение процента до двух знаков после запятой.\n",
    "\n",
    "Напомним, что при делении одного целого числа на другое в PostgreSQL в результате получится целое число, округлённое до ближайшего целого вниз. Чтобы этого избежать, переведите делимое в тип `numeric`."
   ]
  },
  {
   "cell_type": "markdown",
   "metadata": {
    "id": "u4E2zF8DDWLM"
   },
   "source": [
    "| creation_month | posts_count | percentage |\n",
    "| -------------- | ----------- | ---------- |\n",
    "| 9 | 70731 | Nan |\n",
    "| 10 | 63102 | -10.33 |\n",
    "| ... | ... | ... |"
   ]
  },
  {
   "cell_type": "markdown",
   "metadata": {
    "id": "G0VSDL4HDWLO"
   },
   "source": [
    "<details>\n",
    "\n",
    "<summary>Подсказка</summary>\n",
    "Эту задачу стоит декомпозировать. Сформируйте запрос, который отобразит номер месяца и количество постов. Затем можно использовать оконную функцию, которая вернёт значение за предыдущий месяц, и посчитать процент.\n",
    "</details>"
   ]
  },
  {
   "cell_type": "code",
   "execution_count": 27,
   "metadata": {
    "id": "Mb5pShStDWLN"
   },
   "outputs": [],
   "source": [
    "# напишите запрос\n",
    "query_9 = '''\n",
    "WITH mnt AS \n",
    "         (SELECT EXTRACT(MONTH from creation_date::date)::int AS creation_month,\n",
    "                 COUNT(DISTINCT id) AS posts_count   \n",
    "          FROM stackoverflow.posts\n",
    "          WHERE creation_date::date BETWEEN '2008-09-01' AND '2008-12-31'\n",
    "          GROUP BY creation_month)\n",
    "SELECT *,\n",
    "       ROUND((posts_count::numeric / LAG(posts_count) OVER() -1) * 100 , 2) AS percentage\n",
    "FROM mnt;\n",
    "'''\n",
    "# выполните запрос\n",
    "sample_df_9 = pd.read_sql_query(query_9, con=engine)"
   ]
  },
  {
   "cell_type": "code",
   "execution_count": 28,
   "metadata": {},
   "outputs": [
    {
     "data": {
      "text/html": [
       "<div>\n",
       "<style scoped>\n",
       "    .dataframe tbody tr th:only-of-type {\n",
       "        vertical-align: middle;\n",
       "    }\n",
       "\n",
       "    .dataframe tbody tr th {\n",
       "        vertical-align: top;\n",
       "    }\n",
       "\n",
       "    .dataframe thead th {\n",
       "        text-align: right;\n",
       "    }\n",
       "</style>\n",
       "<table border=\"1\" class=\"dataframe\">\n",
       "  <thead>\n",
       "    <tr style=\"text-align: right;\">\n",
       "      <th></th>\n",
       "      <th>creation_month</th>\n",
       "      <th>posts_count</th>\n",
       "      <th>percentage</th>\n",
       "    </tr>\n",
       "  </thead>\n",
       "  <tbody>\n",
       "    <tr>\n",
       "      <th>0</th>\n",
       "      <td>9</td>\n",
       "      <td>70371</td>\n",
       "      <td>NaN</td>\n",
       "    </tr>\n",
       "    <tr>\n",
       "      <th>1</th>\n",
       "      <td>10</td>\n",
       "      <td>63102</td>\n",
       "      <td>-10.33</td>\n",
       "    </tr>\n",
       "    <tr>\n",
       "      <th>2</th>\n",
       "      <td>11</td>\n",
       "      <td>46975</td>\n",
       "      <td>-25.56</td>\n",
       "    </tr>\n",
       "    <tr>\n",
       "      <th>3</th>\n",
       "      <td>12</td>\n",
       "      <td>44592</td>\n",
       "      <td>-5.07</td>\n",
       "    </tr>\n",
       "  </tbody>\n",
       "</table>\n",
       "</div>"
      ],
      "text/plain": [
       "   creation_month  posts_count  percentage\n",
       "0               9        70371         NaN\n",
       "1              10        63102      -10.33\n",
       "2              11        46975      -25.56\n",
       "3              12        44592       -5.07"
      ]
     },
     "execution_count": 28,
     "metadata": {},
     "output_type": "execute_result"
    }
   ],
   "source": [
    "# вывод результатов\n",
    "sample_df_9"
   ]
  },
  {
   "cell_type": "markdown",
   "metadata": {
    "id": "9NQE2y_MDWLP"
   },
   "source": [
    "Постройте круговую диаграмму с количеством постов по месяцам."
   ]
  },
  {
   "cell_type": "code",
   "execution_count": 29,
   "metadata": {
    "id": "377ABjiVDWLP"
   },
   "outputs": [],
   "source": [
    "# Создаем словать для перекодировки месяцев в текстовое значение\n",
    "labels_dict = { 1: 'January', 2: 'February', 3: 'March', 4: 'April', 5: 'May', 6: 'June',\n",
    "                7: 'July', 8: 'August', 9: 'September', 10: 'October', 11: 'November', 12: 'December'}\n",
    "# Возвращаем месяцам текстовое значение\n",
    "sample_df_9['creation_month'] = sample_df_9['creation_month'].map(labels_dict)"
   ]
  },
  {
   "cell_type": "code",
   "execution_count": 30,
   "metadata": {},
   "outputs": [],
   "source": [
    "# Список значений posts_count для диаграммы\n",
    "pie_list = sample_df_9['posts_count']\n",
    "\n",
    "# Список месяцев для диаграммы\n",
    "labels_list = sample_df_9['creation_month'].tolist()\n",
    "\n",
    "# Генерация значений отрыва кусков диаграммы в зависимости от количества значений\n",
    "explode = tuple(random.choices([0.0, 0.1], k=len(pie_list)))\n",
    "\n",
    "# Цвета\n",
    "colors = (\"orange\", \"cyan\", \"brown\", \"yellow\")\n",
    "\n",
    "# Окантовка кусков диаграммы\n",
    "wp = {'linewidth': 2, 'edgecolor': \"black\"}"
   ]
  },
  {
   "cell_type": "code",
   "execution_count": 31,
   "metadata": {},
   "outputs": [
    {
     "data": {
      "image/png": "[encoded data removed]",
      "text/plain": [
       "<Figure size 2000x1500 with 1 Axes>"
      ]
     },
     "metadata": {},
     "output_type": "display_data"
    }
   ],
   "source": [
    "sns.set (font_scale=2)\n",
    "\n",
    "fig, ax = plt.subplots(figsize=(20, 15))\n",
    "\n",
    "wedges, texts, autotexts = ax.pie(pie_list,\n",
    "                                  autopct=lambda p : '{:.2f}% \\n {:.0f}'.format(p,p * sum(pie_list)/100),\n",
    "                                  explode=explode,\n",
    "                                  labels=labels_list,\n",
    "                                  shadow=True,\n",
    "                                  colors=colors,\n",
    "                                  startangle=90,\n",
    "                                  wedgeprops=wp,\n",
    "                                  textprops=dict(color=\"black\"))\n",
    "\n",
    "\n",
    "ax.legend(wedges,\n",
    "          labels_list,\n",
    "          title=\"Месяцы\",\n",
    "          loc=\"center left\",\n",
    "          fontsize=20,\n",
    "          bbox_to_anchor=(1.2, 0, 0, 1.2))\n",
    "\n",
    "plt.setp(autotexts, size=20, weight=\"bold\")\n",
    "\n",
    "ax.set_title(\"Количество постов по месяцам\", fontsize=30)\n",
    "\n",
    "plt.show()"
   ]
  },
  {
   "cell_type": "markdown",
   "metadata": {
    "id": "uw7qMtafDWLP"
   },
   "source": [
    "# Задание 10"
   ]
  },
  {
   "cell_type": "markdown",
   "metadata": {
    "id": "oRBpWKx3DWLQ"
   },
   "source": [
    "Выгрузите данные активности пользователя, который опубликовал больше всего постов за всё время. Выведите данные за октябрь 2008 года в таком виде:\n",
    "\n",
    "- номер недели;\n",
    "- дата и время последнего поста, опубликованного на этой неделе."
   ]
  },
  {
   "cell_type": "markdown",
   "metadata": {
    "id": "XjAWSn_3DWLQ"
   },
   "source": [
    "| week_creation | creation_date |\n",
    "| ------------- | ------------- |\n",
    "| 40 | 2008-10-05 09:00:58 |\n",
    "| 41 | 2008-10-12 21:22:23 |\n",
    "| ... | ... |"
   ]
  },
  {
   "cell_type": "markdown",
   "metadata": {
    "id": "KAcmxvLgDWLR"
   },
   "source": [
    "<details>\n",
    "\n",
    "<summary>Подсказка</summary>\n",
    "Декомпозируйте задачу:\n",
    "1) Найдите пользователя, который опубликовал больше всего постов. 2) Найдите дату и время создания каждого поста этого пользователя и номер недели. \n",
    "3) Отобразите данные только о последних постах пользователя. Для этого можно использовать оконную функцию.\n",
    "</details>"
   ]
  },
  {
   "cell_type": "code",
   "execution_count": 32,
   "metadata": {
    "id": "r5F5fSkwDWLQ"
   },
   "outputs": [],
   "source": [
    "# напишите запрос\n",
    "query_10 = '''\n",
    "WITH usr AS\n",
    "         (SELECT user_id,\n",
    "                 COUNT(DISTINCT id) AS count\n",
    "          FROM stackoverflow.posts\n",
    "          GROUP BY user_id\n",
    "          ORDER BY count DESC\n",
    "          LIMIT 1),\n",
    "      week AS\n",
    "         (SELECT p.user_id,\n",
    "                 p.creation_date,\n",
    "                 EXTRACT('week' from p.creation_date)::int AS week_number\n",
    "          FROM stackoverflow.posts AS p\n",
    "          JOIN usr ON usr.user_id = p.user_id \n",
    "          WHERE p.creation_date::date BETWEEN '2008-10-01' AND '2008-10-31')\n",
    "SELECT DISTINCT week_number::int AS week_creation,\n",
    "       MAX(creation_date) OVER (PARTITION BY week_number) AS creation_date\n",
    "FROM week\n",
    "ORDER BY week_creation;\n",
    "'''\n",
    "# выполните запрос\n",
    "sample_df_10 = pd.read_sql_query(query_10, con=engine)"
   ]
  },
  {
   "cell_type": "code",
   "execution_count": 33,
   "metadata": {},
   "outputs": [
    {
     "data": {
      "text/html": [
       "<div>\n",
       "<style scoped>\n",
       "    .dataframe tbody tr th:only-of-type {\n",
       "        vertical-align: middle;\n",
       "    }\n",
       "\n",
       "    .dataframe tbody tr th {\n",
       "        vertical-align: top;\n",
       "    }\n",
       "\n",
       "    .dataframe thead th {\n",
       "        text-align: right;\n",
       "    }\n",
       "</style>\n",
       "<table border=\"1\" class=\"dataframe\">\n",
       "  <thead>\n",
       "    <tr style=\"text-align: right;\">\n",
       "      <th></th>\n",
       "      <th>week_creation</th>\n",
       "      <th>creation_date</th>\n",
       "    </tr>\n",
       "  </thead>\n",
       "  <tbody>\n",
       "    <tr>\n",
       "      <th>0</th>\n",
       "      <td>40</td>\n",
       "      <td>2008-10-05 09:00:58</td>\n",
       "    </tr>\n",
       "    <tr>\n",
       "      <th>1</th>\n",
       "      <td>41</td>\n",
       "      <td>2008-10-12 21:22:23</td>\n",
       "    </tr>\n",
       "    <tr>\n",
       "      <th>2</th>\n",
       "      <td>42</td>\n",
       "      <td>2008-10-19 06:49:30</td>\n",
       "    </tr>\n",
       "    <tr>\n",
       "      <th>3</th>\n",
       "      <td>43</td>\n",
       "      <td>2008-10-26 21:44:36</td>\n",
       "    </tr>\n",
       "    <tr>\n",
       "      <th>4</th>\n",
       "      <td>44</td>\n",
       "      <td>2008-10-31 22:16:01</td>\n",
       "    </tr>\n",
       "  </tbody>\n",
       "</table>\n",
       "</div>"
      ],
      "text/plain": [
       "   week_creation       creation_date\n",
       "0             40 2008-10-05 09:00:58\n",
       "1             41 2008-10-12 21:22:23\n",
       "2             42 2008-10-19 06:49:30\n",
       "3             43 2008-10-26 21:44:36\n",
       "4             44 2008-10-31 22:16:01"
      ]
     },
     "execution_count": 33,
     "metadata": {},
     "output_type": "execute_result"
    }
   ],
   "source": [
    "# вывод результатов\n",
    "sample_df_10"
   ]
  }
 ],
 "metadata": {
  "ExecuteTimeLog": [
   {
    "duration": 54,
    "start_time": "2023-04-13T07:25:46.202Z"
   },
   {
    "duration": 1370,
    "start_time": "2023-04-14T07:48:03.179Z"
   },
   {
    "duration": 1480,
    "start_time": "2023-04-14T07:51:29.388Z"
   },
   {
    "duration": 10131,
    "start_time": "2023-04-14T07:51:35.859Z"
   },
   {
    "duration": 5,
    "start_time": "2023-04-14T07:52:04.648Z"
   },
   {
    "duration": 20809,
    "start_time": "2023-04-14T07:52:06.185Z"
   },
   {
    "duration": 219,
    "start_time": "2023-04-14T07:53:39.743Z"
   },
   {
    "duration": 13,
    "start_time": "2023-04-14T07:53:40.683Z"
   },
   {
    "duration": 105,
    "start_time": "2023-04-14T07:53:44.957Z"
   },
   {
    "duration": 6,
    "start_time": "2023-04-14T07:53:47.540Z"
   },
   {
    "duration": 301,
    "start_time": "2023-04-14T07:53:51.225Z"
   },
   {
    "duration": 1259,
    "start_time": "2023-04-14T07:54:42.950Z"
   },
   {
    "duration": 3,
    "start_time": "2023-04-14T07:55:00.887Z"
   },
   {
    "duration": 18164,
    "start_time": "2023-04-14T07:55:03.199Z"
   },
   {
    "duration": 219,
    "start_time": "2023-04-14T07:55:24.015Z"
   },
   {
    "duration": 21,
    "start_time": "2023-04-14T07:55:24.548Z"
   },
   {
    "duration": 97,
    "start_time": "2023-04-14T07:55:27.185Z"
   },
   {
    "duration": 6,
    "start_time": "2023-04-14T07:55:28.212Z"
   },
   {
    "duration": 349,
    "start_time": "2023-04-14T07:55:29.501Z"
   },
   {
    "duration": 174,
    "start_time": "2023-04-14T07:57:05.498Z"
   },
   {
    "duration": 10,
    "start_time": "2023-04-14T07:57:15.388Z"
   },
   {
    "duration": 4,
    "start_time": "2023-04-14T07:57:48.689Z"
   },
   {
    "duration": 148,
    "start_time": "2023-04-14T07:59:42.327Z"
   },
   {
    "duration": 6,
    "start_time": "2023-04-14T07:59:45.704Z"
   },
   {
    "duration": 95,
    "start_time": "2023-04-14T08:00:28.232Z"
   },
   {
    "duration": 11,
    "start_time": "2023-04-14T08:00:29.248Z"
   },
   {
    "duration": 1174,
    "start_time": "2023-04-14T08:02:40.529Z"
   },
   {
    "duration": 9,
    "start_time": "2023-04-14T08:02:42.705Z"
   },
   {
    "duration": 9,
    "start_time": "2023-04-14T08:03:07.745Z"
   },
   {
    "duration": 14,
    "start_time": "2023-04-14T08:03:16.405Z"
   },
   {
    "duration": 90,
    "start_time": "2023-04-14T08:04:12.837Z"
   },
   {
    "duration": 6,
    "start_time": "2023-04-14T08:04:13.839Z"
   },
   {
    "duration": 58,
    "start_time": "2023-04-14T08:05:10.791Z"
   },
   {
    "duration": 6,
    "start_time": "2023-04-14T08:05:11.531Z"
   },
   {
    "duration": 1289,
    "start_time": "2023-04-14T08:06:12.223Z"
   },
   {
    "duration": 7,
    "start_time": "2023-04-14T08:06:13.854Z"
   },
   {
    "duration": 526,
    "start_time": "2023-04-14T08:07:32.521Z"
   },
   {
    "duration": 10,
    "start_time": "2023-04-14T08:07:34.459Z"
   },
   {
    "duration": 427,
    "start_time": "2023-04-14T08:07:50.188Z"
   },
   {
    "duration": 152,
    "start_time": "2023-04-14T08:08:43.199Z"
   },
   {
    "duration": 6,
    "start_time": "2023-04-14T08:08:43.991Z"
   },
   {
    "duration": 7,
    "start_time": "2023-04-14T08:10:15.323Z"
   },
   {
    "duration": 4,
    "start_time": "2023-04-14T08:10:15.919Z"
   },
   {
    "duration": 291,
    "start_time": "2023-04-14T08:10:16.562Z"
   },
   {
    "duration": 347,
    "start_time": "2023-04-14T08:10:32.212Z"
   },
   {
    "duration": 324,
    "start_time": "2023-04-14T08:10:44.090Z"
   },
   {
    "duration": 4,
    "start_time": "2023-04-14T08:11:23.313Z"
   },
   {
    "duration": 393,
    "start_time": "2023-04-14T08:11:24.587Z"
   },
   {
    "duration": 332,
    "start_time": "2023-04-14T08:11:39.988Z"
   },
   {
    "duration": 381,
    "start_time": "2023-04-14T08:11:50.914Z"
   },
   {
    "duration": 321,
    "start_time": "2023-04-14T08:13:06.597Z"
   },
   {
    "duration": 347,
    "start_time": "2023-04-14T08:13:13.988Z"
   },
   {
    "duration": 564,
    "start_time": "2023-04-14T08:13:42.049Z"
   },
   {
    "duration": 488,
    "start_time": "2023-04-14T08:13:49.088Z"
   },
   {
    "duration": 406,
    "start_time": "2023-04-14T08:13:57.291Z"
   },
   {
    "duration": 160,
    "start_time": "2023-04-14T08:14:14.990Z"
   },
   {
    "duration": 394,
    "start_time": "2023-04-14T08:14:19.814Z"
   },
   {
    "duration": 337,
    "start_time": "2023-04-14T08:15:12.001Z"
   },
   {
    "duration": 348,
    "start_time": "2023-04-14T08:15:31.903Z"
   },
   {
    "duration": 206,
    "start_time": "2023-04-14T08:21:15.495Z"
   },
   {
    "duration": 7,
    "start_time": "2023-04-14T08:21:16.895Z"
   },
   {
    "duration": 2,
    "start_time": "2023-04-14T08:21:31.693Z"
   },
   {
    "duration": 420,
    "start_time": "2023-04-14T08:23:26.733Z"
   },
   {
    "duration": 374,
    "start_time": "2023-04-14T08:23:49.116Z"
   },
   {
    "duration": 1358,
    "start_time": "2023-04-14T08:25:16.455Z"
   },
   {
    "duration": 3,
    "start_time": "2023-04-14T08:25:19.993Z"
   },
   {
    "duration": 14104,
    "start_time": "2023-04-14T08:25:21.051Z"
   },
   {
    "duration": 228,
    "start_time": "2023-04-14T08:25:41.396Z"
   },
   {
    "duration": 16,
    "start_time": "2023-04-14T08:25:42.311Z"
   },
   {
    "duration": 95,
    "start_time": "2023-04-14T08:25:44.746Z"
   },
   {
    "duration": 6,
    "start_time": "2023-04-14T08:25:45.888Z"
   },
   {
    "duration": 310,
    "start_time": "2023-04-14T08:25:47.149Z"
   },
   {
    "duration": 177,
    "start_time": "2023-04-14T08:25:50.792Z"
   },
   {
    "duration": 9,
    "start_time": "2023-04-14T08:25:52.156Z"
   },
   {
    "duration": 4,
    "start_time": "2023-04-14T08:25:53.835Z"
   },
   {
    "duration": 149,
    "start_time": "2023-04-14T08:25:56.596Z"
   },
   {
    "duration": 7,
    "start_time": "2023-04-14T08:25:57.290Z"
   },
   {
    "duration": 92,
    "start_time": "2023-04-14T08:25:58.492Z"
   },
   {
    "duration": 11,
    "start_time": "2023-04-14T08:25:59.144Z"
   },
   {
    "duration": 1249,
    "start_time": "2023-04-14T08:26:02.492Z"
   },
   {
    "duration": 10,
    "start_time": "2023-04-14T08:26:03.743Z"
   },
   {
    "duration": 90,
    "start_time": "2023-04-14T08:26:06.815Z"
   },
   {
    "duration": 6,
    "start_time": "2023-04-14T08:26:08.228Z"
   },
   {
    "duration": 58,
    "start_time": "2023-04-14T08:26:11.441Z"
   },
   {
    "duration": 5,
    "start_time": "2023-04-14T08:26:12.219Z"
   },
   {
    "duration": 1328,
    "start_time": "2023-04-14T08:26:16.425Z"
   },
   {
    "duration": 8,
    "start_time": "2023-04-14T08:26:17.755Z"
   },
   {
    "duration": 515,
    "start_time": "2023-04-14T08:26:20.556Z"
   },
   {
    "duration": 9,
    "start_time": "2023-04-14T08:26:22.994Z"
   },
   {
    "duration": 482,
    "start_time": "2023-04-14T08:26:24.492Z"
   },
   {
    "duration": 150,
    "start_time": "2023-04-14T08:26:37.085Z"
   },
   {
    "duration": 6,
    "start_time": "2023-04-14T08:26:37.647Z"
   },
   {
    "duration": 6,
    "start_time": "2023-04-14T08:26:40.253Z"
   },
   {
    "duration": 4,
    "start_time": "2023-04-14T08:26:41.527Z"
   },
   {
    "duration": 419,
    "start_time": "2023-04-14T08:26:43.412Z"
   },
   {
    "duration": 200,
    "start_time": "2023-04-14T08:26:47.384Z"
   },
   {
    "duration": 7,
    "start_time": "2023-04-14T08:26:48.598Z"
   },
   {
    "duration": 4,
    "start_time": "2023-04-14T08:34:40.991Z"
   },
   {
    "duration": 364,
    "start_time": "2023-04-14T08:34:41.714Z"
   },
   {
    "duration": 3,
    "start_time": "2023-04-14T08:35:03.651Z"
   },
   {
    "duration": 363,
    "start_time": "2023-04-14T08:35:04.283Z"
   },
   {
    "duration": 1301,
    "start_time": "2023-04-14T08:36:20.977Z"
   },
   {
    "duration": 3,
    "start_time": "2023-04-14T08:36:26.373Z"
   },
   {
    "duration": 11329,
    "start_time": "2023-04-14T08:36:27.570Z"
   },
   {
    "duration": 211,
    "start_time": "2023-04-14T08:36:42.082Z"
   },
   {
    "duration": 14,
    "start_time": "2023-04-14T08:36:42.806Z"
   },
   {
    "duration": 99,
    "start_time": "2023-04-14T08:36:45.642Z"
   },
   {
    "duration": 6,
    "start_time": "2023-04-14T08:36:46.342Z"
   },
   {
    "duration": 358,
    "start_time": "2023-04-14T08:36:47.798Z"
   },
   {
    "duration": 183,
    "start_time": "2023-04-14T08:36:51.678Z"
   },
   {
    "duration": 8,
    "start_time": "2023-04-14T08:36:52.449Z"
   },
   {
    "duration": 5,
    "start_time": "2023-04-14T08:36:54.094Z"
   },
   {
    "duration": 147,
    "start_time": "2023-04-14T08:36:56.693Z"
   },
   {
    "duration": 7,
    "start_time": "2023-04-14T08:36:57.839Z"
   },
   {
    "duration": 91,
    "start_time": "2023-04-14T08:36:59.214Z"
   },
   {
    "duration": 13,
    "start_time": "2023-04-14T08:37:00.149Z"
   },
   {
    "duration": 1166,
    "start_time": "2023-04-14T08:37:03.465Z"
   },
   {
    "duration": 11,
    "start_time": "2023-04-14T08:37:05.152Z"
   },
   {
    "duration": 88,
    "start_time": "2023-04-14T08:37:07.881Z"
   },
   {
    "duration": 7,
    "start_time": "2023-04-14T08:37:09.487Z"
   },
   {
    "duration": 59,
    "start_time": "2023-04-14T08:37:12.131Z"
   },
   {
    "duration": 5,
    "start_time": "2023-04-14T08:37:13.003Z"
   },
   {
    "duration": 1396,
    "start_time": "2023-04-14T08:37:17.215Z"
   },
   {
    "duration": 9,
    "start_time": "2023-04-14T08:37:18.612Z"
   },
   {
    "duration": 522,
    "start_time": "2023-04-14T08:37:22.047Z"
   },
   {
    "duration": 9,
    "start_time": "2023-04-14T08:37:25.529Z"
   },
   {
    "duration": 483,
    "start_time": "2023-04-14T08:37:27.788Z"
   },
   {
    "duration": 150,
    "start_time": "2023-04-14T08:37:32.053Z"
   },
   {
    "duration": 9,
    "start_time": "2023-04-14T08:37:32.978Z"
   },
   {
    "duration": 5,
    "start_time": "2023-04-14T08:37:34.538Z"
   },
   {
    "duration": 4,
    "start_time": "2023-04-14T08:37:36.377Z"
   },
   {
    "duration": 447,
    "start_time": "2023-04-14T08:37:37.533Z"
   },
   {
    "duration": 198,
    "start_time": "2023-04-14T08:37:56.780Z"
   },
   {
    "duration": 7,
    "start_time": "2023-04-14T08:37:58.103Z"
   },
   {
    "duration": 47,
    "start_time": "2023-04-14T09:41:17.504Z"
   },
   {
    "duration": 1498,
    "start_time": "2023-04-14T09:41:23.421Z"
   },
   {
    "duration": 3,
    "start_time": "2023-04-14T09:41:24.921Z"
   },
   {
    "duration": 12,
    "start_time": "2023-04-14T09:41:24.925Z"
   },
   {
    "duration": 12090,
    "start_time": "2023-04-14T09:41:24.939Z"
   },
   {
    "duration": 72,
    "start_time": "2023-04-14T09:41:37.030Z"
   },
   {
    "duration": 18,
    "start_time": "2023-04-14T09:41:37.104Z"
   },
   {
    "duration": 72,
    "start_time": "2023-04-14T09:41:37.124Z"
   },
   {
    "duration": 7,
    "start_time": "2023-04-14T09:41:37.199Z"
   },
   {
    "duration": 328,
    "start_time": "2023-04-14T09:41:37.209Z"
   },
   {
    "duration": 0,
    "start_time": "2023-04-14T09:41:37.540Z"
   },
   {
    "duration": 0,
    "start_time": "2023-04-14T09:41:37.541Z"
   },
   {
    "duration": 0,
    "start_time": "2023-04-14T09:41:37.543Z"
   },
   {
    "duration": 0,
    "start_time": "2023-04-14T09:41:37.544Z"
   },
   {
    "duration": 0,
    "start_time": "2023-04-14T09:41:37.545Z"
   },
   {
    "duration": 0,
    "start_time": "2023-04-14T09:41:37.546Z"
   },
   {
    "duration": 0,
    "start_time": "2023-04-14T09:41:37.547Z"
   },
   {
    "duration": 0,
    "start_time": "2023-04-14T09:41:37.547Z"
   },
   {
    "duration": 0,
    "start_time": "2023-04-14T09:41:37.548Z"
   },
   {
    "duration": 0,
    "start_time": "2023-04-14T09:41:37.550Z"
   },
   {
    "duration": 0,
    "start_time": "2023-04-14T09:41:37.551Z"
   },
   {
    "duration": 0,
    "start_time": "2023-04-14T09:41:37.552Z"
   },
   {
    "duration": 0,
    "start_time": "2023-04-14T09:41:37.553Z"
   },
   {
    "duration": 0,
    "start_time": "2023-04-14T09:41:37.554Z"
   },
   {
    "duration": 1,
    "start_time": "2023-04-14T09:41:37.554Z"
   },
   {
    "duration": 0,
    "start_time": "2023-04-14T09:41:37.556Z"
   },
   {
    "duration": 0,
    "start_time": "2023-04-14T09:41:37.557Z"
   },
   {
    "duration": 0,
    "start_time": "2023-04-14T09:41:37.558Z"
   },
   {
    "duration": 0,
    "start_time": "2023-04-14T09:41:37.559Z"
   },
   {
    "duration": 0,
    "start_time": "2023-04-14T09:41:37.560Z"
   },
   {
    "duration": 0,
    "start_time": "2023-04-14T09:41:37.561Z"
   },
   {
    "duration": 0,
    "start_time": "2023-04-14T09:41:37.589Z"
   },
   {
    "duration": 0,
    "start_time": "2023-04-14T09:41:37.591Z"
   },
   {
    "duration": 0,
    "start_time": "2023-04-14T09:41:37.592Z"
   },
   {
    "duration": 0,
    "start_time": "2023-04-14T09:41:37.594Z"
   },
   {
    "duration": 155,
    "start_time": "2023-04-14T09:42:28.312Z"
   },
   {
    "duration": 11,
    "start_time": "2023-04-14T09:42:28.469Z"
   },
   {
    "duration": 12,
    "start_time": "2023-04-14T09:42:28.482Z"
   },
   {
    "duration": 127,
    "start_time": "2023-04-14T09:42:28.496Z"
   },
   {
    "duration": 7,
    "start_time": "2023-04-14T09:42:28.626Z"
   },
   {
    "duration": 65,
    "start_time": "2023-04-14T09:42:28.635Z"
   },
   {
    "duration": 12,
    "start_time": "2023-04-14T09:42:28.702Z"
   },
   {
    "duration": 1286,
    "start_time": "2023-04-14T09:42:28.715Z"
   },
   {
    "duration": 12,
    "start_time": "2023-04-14T09:42:30.003Z"
   },
   {
    "duration": 79,
    "start_time": "2023-04-14T09:42:30.017Z"
   },
   {
    "duration": 7,
    "start_time": "2023-04-14T09:42:30.098Z"
   },
   {
    "duration": 86,
    "start_time": "2023-04-14T09:42:30.107Z"
   },
   {
    "duration": 9,
    "start_time": "2023-04-14T09:42:30.194Z"
   },
   {
    "duration": 1273,
    "start_time": "2023-04-14T09:42:30.206Z"
   },
   {
    "duration": 9,
    "start_time": "2023-04-14T09:42:31.481Z"
   },
   {
    "duration": 497,
    "start_time": "2023-04-14T09:42:31.492Z"
   },
   {
    "duration": 9,
    "start_time": "2023-04-14T09:42:31.991Z"
   },
   {
    "duration": 508,
    "start_time": "2023-04-14T09:42:32.002Z"
   },
   {
    "duration": 121,
    "start_time": "2023-04-14T09:42:32.512Z"
   },
   {
    "duration": 10,
    "start_time": "2023-04-14T09:42:32.635Z"
   },
   {
    "duration": 21,
    "start_time": "2023-04-14T09:42:32.647Z"
   },
   {
    "duration": 33,
    "start_time": "2023-04-14T09:42:32.670Z"
   },
   {
    "duration": 380,
    "start_time": "2023-04-14T09:42:32.705Z"
   },
   {
    "duration": 169,
    "start_time": "2023-04-14T09:42:33.087Z"
   },
   {
    "duration": 7,
    "start_time": "2023-04-14T09:42:33.258Z"
   },
   {
    "duration": 139,
    "start_time": "2023-04-14T09:42:41.089Z"
   },
   {
    "duration": 10,
    "start_time": "2023-04-14T09:42:42.089Z"
   },
   {
    "duration": 29,
    "start_time": "2023-04-14T09:46:15.405Z"
   },
   {
    "duration": 7,
    "start_time": "2023-04-14T09:46:16.555Z"
   },
   {
    "duration": 11,
    "start_time": "2023-04-14T09:47:22.116Z"
   },
   {
    "duration": 11,
    "start_time": "2023-04-14T09:48:51.762Z"
   },
   {
    "duration": 167,
    "start_time": "2023-04-14T09:50:33.908Z"
   },
   {
    "duration": 6,
    "start_time": "2023-04-14T09:50:35.340Z"
   },
   {
    "duration": 170,
    "start_time": "2023-04-14T09:50:35.963Z"
   },
   {
    "duration": 8,
    "start_time": "2023-04-14T09:50:36.541Z"
   },
   {
    "duration": 1292,
    "start_time": "2023-04-14T09:51:04.622Z"
   },
   {
    "duration": 3,
    "start_time": "2023-04-14T09:51:05.916Z"
   },
   {
    "duration": 6,
    "start_time": "2023-04-14T09:51:05.921Z"
   },
   {
    "duration": 12242,
    "start_time": "2023-04-14T09:51:05.929Z"
   },
   {
    "duration": 38,
    "start_time": "2023-04-14T09:51:18.173Z"
   },
   {
    "duration": 14,
    "start_time": "2023-04-14T09:51:18.213Z"
   },
   {
    "duration": 62,
    "start_time": "2023-04-14T09:51:18.229Z"
   },
   {
    "duration": 6,
    "start_time": "2023-04-14T09:51:18.293Z"
   },
   {
    "duration": 307,
    "start_time": "2023-04-14T09:51:18.301Z"
   },
   {
    "duration": 0,
    "start_time": "2023-04-14T09:51:18.610Z"
   },
   {
    "duration": 0,
    "start_time": "2023-04-14T09:51:18.612Z"
   },
   {
    "duration": 0,
    "start_time": "2023-04-14T09:51:18.614Z"
   },
   {
    "duration": 0,
    "start_time": "2023-04-14T09:51:18.615Z"
   },
   {
    "duration": 0,
    "start_time": "2023-04-14T09:51:18.617Z"
   },
   {
    "duration": 0,
    "start_time": "2023-04-14T09:51:18.618Z"
   },
   {
    "duration": 0,
    "start_time": "2023-04-14T09:51:18.620Z"
   },
   {
    "duration": 0,
    "start_time": "2023-04-14T09:51:18.622Z"
   },
   {
    "duration": 0,
    "start_time": "2023-04-14T09:51:18.623Z"
   },
   {
    "duration": 0,
    "start_time": "2023-04-14T09:51:18.625Z"
   },
   {
    "duration": 0,
    "start_time": "2023-04-14T09:51:18.626Z"
   },
   {
    "duration": 0,
    "start_time": "2023-04-14T09:51:18.628Z"
   },
   {
    "duration": 0,
    "start_time": "2023-04-14T09:51:18.629Z"
   },
   {
    "duration": 0,
    "start_time": "2023-04-14T09:51:18.631Z"
   },
   {
    "duration": 0,
    "start_time": "2023-04-14T09:51:18.632Z"
   },
   {
    "duration": 0,
    "start_time": "2023-04-14T09:51:18.634Z"
   },
   {
    "duration": 0,
    "start_time": "2023-04-14T09:51:18.635Z"
   },
   {
    "duration": 0,
    "start_time": "2023-04-14T09:51:18.636Z"
   },
   {
    "duration": 0,
    "start_time": "2023-04-14T09:51:18.637Z"
   },
   {
    "duration": 0,
    "start_time": "2023-04-14T09:51:18.639Z"
   },
   {
    "duration": 0,
    "start_time": "2023-04-14T09:51:18.689Z"
   },
   {
    "duration": 0,
    "start_time": "2023-04-14T09:51:18.690Z"
   },
   {
    "duration": 0,
    "start_time": "2023-04-14T09:51:18.691Z"
   },
   {
    "duration": 0,
    "start_time": "2023-04-14T09:51:18.693Z"
   },
   {
    "duration": 0,
    "start_time": "2023-04-14T09:51:18.694Z"
   },
   {
    "duration": 146,
    "start_time": "2023-04-14T09:51:40.059Z"
   },
   {
    "duration": 10,
    "start_time": "2023-04-14T09:51:40.207Z"
   },
   {
    "duration": 13,
    "start_time": "2023-04-14T09:51:40.219Z"
   },
   {
    "duration": 129,
    "start_time": "2023-04-14T09:51:40.235Z"
   },
   {
    "duration": 8,
    "start_time": "2023-04-14T09:51:40.367Z"
   },
   {
    "duration": 179,
    "start_time": "2023-04-14T09:51:40.377Z"
   },
   {
    "duration": 12,
    "start_time": "2023-04-14T09:51:40.558Z"
   },
   {
    "duration": 1296,
    "start_time": "2023-04-14T09:51:40.571Z"
   },
   {
    "duration": 12,
    "start_time": "2023-04-14T09:51:41.869Z"
   },
   {
    "duration": 67,
    "start_time": "2023-04-14T09:51:41.888Z"
   },
   {
    "duration": 6,
    "start_time": "2023-04-14T09:51:41.957Z"
   },
   {
    "duration": 35,
    "start_time": "2023-04-14T09:51:41.965Z"
   },
   {
    "duration": 6,
    "start_time": "2023-04-14T09:51:42.002Z"
   },
   {
    "duration": 1194,
    "start_time": "2023-04-14T09:51:42.009Z"
   },
   {
    "duration": 9,
    "start_time": "2023-04-14T09:51:43.205Z"
   },
   {
    "duration": 500,
    "start_time": "2023-04-14T09:51:43.215Z"
   },
   {
    "duration": 11,
    "start_time": "2023-04-14T09:51:43.717Z"
   },
   {
    "duration": 436,
    "start_time": "2023-04-14T09:51:43.729Z"
   },
   {
    "duration": 136,
    "start_time": "2023-04-14T09:51:44.166Z"
   },
   {
    "duration": 7,
    "start_time": "2023-04-14T09:51:44.304Z"
   },
   {
    "duration": 26,
    "start_time": "2023-04-14T09:51:44.313Z"
   },
   {
    "duration": 20,
    "start_time": "2023-04-14T09:51:44.341Z"
   },
   {
    "duration": 302,
    "start_time": "2023-04-14T09:51:44.363Z"
   },
   {
    "duration": 166,
    "start_time": "2023-04-14T09:51:44.667Z"
   },
   {
    "duration": 7,
    "start_time": "2023-04-14T09:51:44.835Z"
   },
   {
    "duration": 1228,
    "start_time": "2023-04-14T10:06:16.601Z"
   },
   {
    "duration": 3,
    "start_time": "2023-04-14T10:06:20.030Z"
   },
   {
    "duration": 4747,
    "start_time": "2023-04-14T10:06:22.294Z"
   },
   {
    "duration": 40,
    "start_time": "2023-04-14T10:06:28.030Z"
   },
   {
    "duration": 13,
    "start_time": "2023-04-14T10:06:29.876Z"
   },
   {
    "duration": 66,
    "start_time": "2023-04-14T10:06:34.887Z"
   },
   {
    "duration": 6,
    "start_time": "2023-04-14T10:06:35.987Z"
   },
   {
    "duration": 252,
    "start_time": "2023-04-14T10:07:28.629Z"
   },
   {
    "duration": 157,
    "start_time": "2023-04-14T10:07:34.494Z"
   },
   {
    "duration": 172,
    "start_time": "2023-04-14T10:09:41.096Z"
   },
   {
    "duration": 177,
    "start_time": "2023-04-14T10:09:54.931Z"
   },
   {
    "duration": 171,
    "start_time": "2023-04-14T10:10:20.828Z"
   },
   {
    "duration": 229,
    "start_time": "2023-04-14T10:11:37.402Z"
   },
   {
    "duration": 167,
    "start_time": "2023-04-14T10:12:08.082Z"
   },
   {
    "duration": 188,
    "start_time": "2023-04-14T10:12:22.784Z"
   },
   {
    "duration": 174,
    "start_time": "2023-04-14T10:15:20.749Z"
   },
   {
    "duration": 170,
    "start_time": "2023-04-14T10:15:35.989Z"
   },
   {
    "duration": 179,
    "start_time": "2023-04-14T10:20:43.122Z"
   },
   {
    "duration": 191,
    "start_time": "2023-04-14T10:21:04.580Z"
   },
   {
    "duration": 48,
    "start_time": "2023-04-14T10:24:50.222Z"
   },
   {
    "duration": 144,
    "start_time": "2023-04-14T10:32:07.399Z"
   },
   {
    "duration": 8,
    "start_time": "2023-04-14T10:32:08.184Z"
   },
   {
    "duration": 8,
    "start_time": "2023-04-14T10:32:26.633Z"
   },
   {
    "duration": 5,
    "start_time": "2023-04-14T11:00:58.591Z"
   },
   {
    "duration": 59,
    "start_time": "2023-04-14T11:02:08.097Z"
   },
   {
    "duration": 145,
    "start_time": "2023-04-14T11:08:01.587Z"
   },
   {
    "duration": 8,
    "start_time": "2023-04-14T11:08:02.980Z"
   },
   {
    "duration": 1157,
    "start_time": "2023-04-14T11:10:14.230Z"
   },
   {
    "duration": 2,
    "start_time": "2023-04-14T11:10:15.389Z"
   },
   {
    "duration": 5,
    "start_time": "2023-04-14T11:10:15.393Z"
   },
   {
    "duration": 5200,
    "start_time": "2023-04-14T11:10:15.399Z"
   },
   {
    "duration": 42,
    "start_time": "2023-04-14T11:10:20.602Z"
   },
   {
    "duration": 18,
    "start_time": "2023-04-14T11:10:20.646Z"
   },
   {
    "duration": 96,
    "start_time": "2023-04-14T11:10:20.665Z"
   },
   {
    "duration": 7,
    "start_time": "2023-04-14T11:10:20.763Z"
   },
   {
    "duration": 231,
    "start_time": "2023-04-14T11:10:20.772Z"
   },
   {
    "duration": 143,
    "start_time": "2023-04-14T11:10:21.004Z"
   },
   {
    "duration": 8,
    "start_time": "2023-04-14T11:10:21.149Z"
   },
   {
    "duration": 10,
    "start_time": "2023-04-14T11:10:21.158Z"
   },
   {
    "duration": 126,
    "start_time": "2023-04-14T11:10:21.170Z"
   },
   {
    "duration": 6,
    "start_time": "2023-04-14T11:10:21.299Z"
   },
   {
    "duration": 67,
    "start_time": "2023-04-14T11:10:21.306Z"
   },
   {
    "duration": 9,
    "start_time": "2023-04-14T11:10:21.374Z"
   },
   {
    "duration": 1283,
    "start_time": "2023-04-14T11:10:21.385Z"
   },
   {
    "duration": 13,
    "start_time": "2023-04-14T11:10:22.670Z"
   },
   {
    "duration": 63,
    "start_time": "2023-04-14T11:10:22.685Z"
   },
   {
    "duration": 6,
    "start_time": "2023-04-14T11:10:22.750Z"
   },
   {
    "duration": 29,
    "start_time": "2023-04-14T11:10:22.757Z"
   },
   {
    "duration": 5,
    "start_time": "2023-04-14T11:10:22.788Z"
   },
   {
    "duration": 1174,
    "start_time": "2023-04-14T11:10:22.795Z"
   },
   {
    "duration": 8,
    "start_time": "2023-04-14T11:10:23.971Z"
   },
   {
    "duration": 503,
    "start_time": "2023-04-14T11:10:23.980Z"
   },
   {
    "duration": 11,
    "start_time": "2023-04-14T11:10:24.485Z"
   },
   {
    "duration": 462,
    "start_time": "2023-04-14T11:10:24.498Z"
   },
   {
    "duration": 123,
    "start_time": "2023-04-14T11:10:24.962Z"
   },
   {
    "duration": 7,
    "start_time": "2023-04-14T11:10:25.086Z"
   },
   {
    "duration": 17,
    "start_time": "2023-04-14T11:10:25.094Z"
   },
   {
    "duration": 13,
    "start_time": "2023-04-14T11:10:25.112Z"
   },
   {
    "duration": 328,
    "start_time": "2023-04-14T11:10:25.127Z"
   },
   {
    "duration": 167,
    "start_time": "2023-04-14T11:10:25.457Z"
   },
   {
    "duration": 7,
    "start_time": "2023-04-14T11:10:25.626Z"
   },
   {
    "duration": 12,
    "start_time": "2023-04-14T11:14:29.214Z"
   },
   {
    "duration": 1125,
    "start_time": "2023-04-14T11:15:43.448Z"
   },
   {
    "duration": 2,
    "start_time": "2023-04-14T11:15:44.575Z"
   },
   {
    "duration": 22,
    "start_time": "2023-04-14T11:15:44.579Z"
   },
   {
    "duration": 4922,
    "start_time": "2023-04-14T11:15:44.603Z"
   },
   {
    "duration": 40,
    "start_time": "2023-04-14T11:15:49.527Z"
   },
   {
    "duration": 13,
    "start_time": "2023-04-14T11:15:49.568Z"
   },
   {
    "duration": 82,
    "start_time": "2023-04-14T11:15:49.583Z"
   },
   {
    "duration": 5,
    "start_time": "2023-04-14T11:15:49.667Z"
   },
   {
    "duration": 200,
    "start_time": "2023-04-14T11:15:49.674Z"
   },
   {
    "duration": 151,
    "start_time": "2023-04-14T11:15:49.876Z"
   },
   {
    "duration": 10,
    "start_time": "2023-04-14T11:15:50.028Z"
   },
   {
    "duration": 20,
    "start_time": "2023-04-14T11:15:50.039Z"
   },
   {
    "duration": 152,
    "start_time": "2023-04-14T11:15:50.061Z"
   },
   {
    "duration": 5,
    "start_time": "2023-04-14T11:15:50.215Z"
   },
   {
    "duration": 106,
    "start_time": "2023-04-14T11:15:50.222Z"
   },
   {
    "duration": 9,
    "start_time": "2023-04-14T11:15:50.330Z"
   },
   {
    "duration": 1161,
    "start_time": "2023-04-14T11:15:50.340Z"
   },
   {
    "duration": 10,
    "start_time": "2023-04-14T11:15:51.503Z"
   },
   {
    "duration": 62,
    "start_time": "2023-04-14T11:15:51.514Z"
   },
   {
    "duration": 6,
    "start_time": "2023-04-14T11:15:51.578Z"
   },
   {
    "duration": 55,
    "start_time": "2023-04-14T11:15:51.585Z"
   },
   {
    "duration": 4,
    "start_time": "2023-04-14T11:15:51.642Z"
   },
   {
    "duration": 1168,
    "start_time": "2023-04-14T11:15:51.648Z"
   },
   {
    "duration": 10,
    "start_time": "2023-04-14T11:15:52.817Z"
   },
   {
    "duration": 502,
    "start_time": "2023-04-14T11:15:52.828Z"
   },
   {
    "duration": 9,
    "start_time": "2023-04-14T11:15:53.331Z"
   },
   {
    "duration": 398,
    "start_time": "2023-04-14T11:15:53.341Z"
   },
   {
    "duration": 120,
    "start_time": "2023-04-14T11:15:53.741Z"
   },
   {
    "duration": 6,
    "start_time": "2023-04-14T11:15:53.863Z"
   },
   {
    "duration": 9,
    "start_time": "2023-04-14T11:15:53.871Z"
   },
   {
    "duration": 9,
    "start_time": "2023-04-14T11:15:53.881Z"
   },
   {
    "duration": 259,
    "start_time": "2023-04-14T11:15:53.892Z"
   },
   {
    "duration": 169,
    "start_time": "2023-04-14T11:15:54.153Z"
   },
   {
    "duration": 7,
    "start_time": "2023-04-14T11:15:54.324Z"
   },
   {
    "duration": 1252,
    "start_time": "2023-04-14T18:03:09.415Z"
   },
   {
    "duration": 2,
    "start_time": "2023-04-14T18:03:10.669Z"
   },
   {
    "duration": 7,
    "start_time": "2023-04-14T18:03:10.672Z"
   },
   {
    "duration": 12592,
    "start_time": "2023-04-14T18:03:10.680Z"
   },
   {
    "duration": 46,
    "start_time": "2023-04-14T18:03:23.274Z"
   },
   {
    "duration": 25,
    "start_time": "2023-04-14T18:03:23.322Z"
   },
   {
    "duration": 67,
    "start_time": "2023-04-14T18:03:23.354Z"
   },
   {
    "duration": 6,
    "start_time": "2023-04-14T18:03:23.423Z"
   },
   {
    "duration": 211,
    "start_time": "2023-04-14T18:03:23.431Z"
   },
   {
    "duration": 139,
    "start_time": "2023-04-14T18:03:23.650Z"
   },
   {
    "duration": 9,
    "start_time": "2023-04-14T18:03:23.790Z"
   },
   {
    "duration": 8,
    "start_time": "2023-04-14T18:03:23.800Z"
   },
   {
    "duration": 123,
    "start_time": "2023-04-14T18:03:23.809Z"
   },
   {
    "duration": 8,
    "start_time": "2023-04-14T18:03:23.937Z"
   },
   {
    "duration": 65,
    "start_time": "2023-04-14T18:03:23.949Z"
   },
   {
    "duration": 9,
    "start_time": "2023-04-14T18:03:24.016Z"
   },
   {
    "duration": 1205,
    "start_time": "2023-04-14T18:03:24.026Z"
   },
   {
    "duration": 22,
    "start_time": "2023-04-14T18:03:25.232Z"
   },
   {
    "duration": 60,
    "start_time": "2023-04-14T18:03:25.256Z"
   },
   {
    "duration": 7,
    "start_time": "2023-04-14T18:03:25.318Z"
   },
   {
    "duration": 32,
    "start_time": "2023-04-14T18:03:25.329Z"
   },
   {
    "duration": 5,
    "start_time": "2023-04-14T18:03:25.362Z"
   },
   {
    "duration": 1155,
    "start_time": "2023-04-14T18:03:25.368Z"
   },
   {
    "duration": 26,
    "start_time": "2023-04-14T18:03:26.525Z"
   },
   {
    "duration": 496,
    "start_time": "2023-04-14T18:03:26.553Z"
   },
   {
    "duration": 10,
    "start_time": "2023-04-14T18:03:27.050Z"
   },
   {
    "duration": 407,
    "start_time": "2023-04-14T18:03:27.061Z"
   },
   {
    "duration": 120,
    "start_time": "2023-04-14T18:03:27.469Z"
   },
   {
    "duration": 6,
    "start_time": "2023-04-14T18:03:27.590Z"
   },
   {
    "duration": 18,
    "start_time": "2023-04-14T18:03:27.597Z"
   },
   {
    "duration": 10,
    "start_time": "2023-04-14T18:03:27.617Z"
   },
   {
    "duration": 322,
    "start_time": "2023-04-14T18:03:27.629Z"
   },
   {
    "duration": 167,
    "start_time": "2023-04-14T18:03:27.953Z"
   },
   {
    "duration": 7,
    "start_time": "2023-04-14T18:03:28.122Z"
   },
   {
    "duration": 107,
    "start_time": "2023-04-14T18:07:59.603Z"
   },
   {
    "duration": 110,
    "start_time": "2023-04-14T18:08:51.673Z"
   },
   {
    "duration": 120,
    "start_time": "2023-04-14T18:08:54.133Z"
   },
   {
    "duration": 150,
    "start_time": "2023-04-14T18:09:03.462Z"
   },
   {
    "duration": 34,
    "start_time": "2023-04-14T18:09:21.285Z"
   },
   {
    "duration": 48,
    "start_time": "2023-04-14T18:09:37.414Z"
   },
   {
    "duration": 281,
    "start_time": "2023-04-14T18:09:43.615Z"
   },
   {
    "duration": 132,
    "start_time": "2023-04-14T18:09:52.197Z"
   },
   {
    "duration": 46,
    "start_time": "2023-04-14T18:09:57.830Z"
   },
   {
    "duration": 43,
    "start_time": "2023-04-14T18:10:55.663Z"
   },
   {
    "duration": 158,
    "start_time": "2023-04-14T18:11:13.070Z"
   },
   {
    "duration": 55,
    "start_time": "2023-04-14T18:11:24.716Z"
   },
   {
    "duration": 37,
    "start_time": "2023-04-14T18:11:43.556Z"
   },
   {
    "duration": 140,
    "start_time": "2023-04-14T18:13:26.085Z"
   },
   {
    "duration": 38,
    "start_time": "2023-04-14T18:13:29.070Z"
   },
   {
    "duration": 140,
    "start_time": "2023-04-14T18:13:38.258Z"
   },
   {
    "duration": 38,
    "start_time": "2023-04-14T18:13:41.189Z"
   },
   {
    "duration": 27,
    "start_time": "2023-04-14T18:13:47.692Z"
   },
   {
    "duration": 57,
    "start_time": "2023-04-14T18:13:57.614Z"
   },
   {
    "duration": 39,
    "start_time": "2023-04-14T18:16:47.251Z"
   },
   {
    "duration": 1149,
    "start_time": "2023-04-14T18:20:48.188Z"
   },
   {
    "duration": 9,
    "start_time": "2023-04-14T18:20:49.344Z"
   },
   {
    "duration": 19,
    "start_time": "2023-04-14T18:20:49.357Z"
   },
   {
    "duration": 12431,
    "start_time": "2023-04-14T18:20:49.378Z"
   },
   {
    "duration": 53,
    "start_time": "2023-04-14T18:21:01.811Z"
   },
   {
    "duration": 17,
    "start_time": "2023-04-14T18:21:01.865Z"
   },
   {
    "duration": 91,
    "start_time": "2023-04-14T18:21:01.884Z"
   },
   {
    "duration": 9,
    "start_time": "2023-04-14T18:21:01.978Z"
   },
   {
    "duration": 277,
    "start_time": "2023-04-14T18:21:01.991Z"
   },
   {
    "duration": 138,
    "start_time": "2023-04-14T18:21:02.270Z"
   },
   {
    "duration": 11,
    "start_time": "2023-04-14T18:21:02.410Z"
   },
   {
    "duration": 7,
    "start_time": "2023-04-14T18:21:02.423Z"
   },
   {
    "duration": 136,
    "start_time": "2023-04-14T18:21:02.431Z"
   },
   {
    "duration": 8,
    "start_time": "2023-04-14T18:21:02.568Z"
   },
   {
    "duration": 78,
    "start_time": "2023-04-14T18:21:02.578Z"
   },
   {
    "duration": 11,
    "start_time": "2023-04-14T18:21:02.660Z"
   },
   {
    "duration": 1247,
    "start_time": "2023-04-14T18:21:02.673Z"
   },
   {
    "duration": 10,
    "start_time": "2023-04-14T18:21:03.922Z"
   },
   {
    "duration": 69,
    "start_time": "2023-04-14T18:21:03.936Z"
   },
   {
    "duration": 6,
    "start_time": "2023-04-14T18:21:04.007Z"
   },
   {
    "duration": 39,
    "start_time": "2023-04-14T18:21:04.014Z"
   },
   {
    "duration": 5,
    "start_time": "2023-04-14T18:21:04.055Z"
   },
   {
    "duration": 1199,
    "start_time": "2023-04-14T18:21:04.062Z"
   },
   {
    "duration": 12,
    "start_time": "2023-04-14T18:21:05.262Z"
   },
   {
    "duration": 479,
    "start_time": "2023-04-14T18:21:05.275Z"
   },
   {
    "duration": 9,
    "start_time": "2023-04-14T18:21:05.756Z"
   },
   {
    "duration": 388,
    "start_time": "2023-04-14T18:21:05.769Z"
   },
   {
    "duration": 120,
    "start_time": "2023-04-14T18:21:06.159Z"
   },
   {
    "duration": 7,
    "start_time": "2023-04-14T18:21:06.280Z"
   },
   {
    "duration": 5,
    "start_time": "2023-04-14T18:21:06.289Z"
   },
   {
    "duration": 13,
    "start_time": "2023-04-14T18:21:06.296Z"
   },
   {
    "duration": 309,
    "start_time": "2023-04-14T18:21:06.310Z"
   },
   {
    "duration": 172,
    "start_time": "2023-04-14T18:21:06.621Z"
   },
   {
    "duration": 7,
    "start_time": "2023-04-14T18:21:06.795Z"
   }
  ],
  "colab": {
   "provenance": []
  },
  "kernelspec": {
   "display_name": "Python 3 (ipykernel)",
   "language": "python",
   "name": "python3"
  },
  "language_info": {
   "codemirror_mode": {
    "name": "ipython",
    "version": 3
   },
   "file_extension": ".py",
   "mimetype": "text/x-python",
   "name": "python",
   "nbconvert_exporter": "python",
   "pygments_lexer": "ipython3",
   "version": "3.10.9"
  },
  "latex_envs": {
   "LaTeX_envs_menu_present": true,
   "autoclose": false,
   "autocomplete": true,
   "bibliofile": "biblio.bib",
   "cite_by": "apalike",
   "current_citInitial": 1,
   "eqLabelWithNumbers": true,
   "eqNumInitial": 1,
   "hotkeys": {
    "equation": "Ctrl-E",
    "itemize": "Ctrl-I"
   },
   "labels_anchors": false,
   "latex_user_defs": false,
   "report_style_numbering": false,
   "user_envs_cfg": false
  },
  "toc": {
   "base_numbering": 1,
   "nav_menu": {},
   "number_sections": true,
   "sideBar": true,
   "skip_h1_title": true,
   "title_cell": "Table of Contents",
   "title_sidebar": "Contents",
   "toc_cell": false,
   "toc_position": {},
   "toc_section_display": true,
   "toc_window_display": false
  },
  "varInspector": {
   "cols": {
    "lenName": 16,
    "lenType": 16,
    "lenVar": 40
   },
   "kernels_config": {
    "python": {
     "delete_cmd_postfix": "",
     "delete_cmd_prefix": "del ",
     "library": "var_list.py",
     "varRefreshCmd": "print(var_dic_list())"
    },
    "r": {
     "delete_cmd_postfix": ") ",
     "delete_cmd_prefix": "rm(",
     "library": "var_list.r",
     "varRefreshCmd": "cat(var_dic_list()) "
    }
   },
   "types_to_exclude": [
    "module",
    "function",
    "builtin_function_or_method",
    "instance",
    "_Feature"
   ],
   "window_display": false
  }
 },
 "nbformat": 4,
 "nbformat_minor": 1
}
