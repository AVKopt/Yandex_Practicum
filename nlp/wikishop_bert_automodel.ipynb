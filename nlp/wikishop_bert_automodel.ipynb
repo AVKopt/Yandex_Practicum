{
 "cells": [
  {
   "cell_type": "markdown",
   "metadata": {
    "id": "s3U71RYBg6t7"
   },
   "source": [
    "# Проект для «Викишоп» с BERT"
   ]
  },
  {
   "cell_type": "markdown",
   "metadata": {
    "id": "OpNAD4NPg6t-"
   },
   "source": [
    "Интернет-магазин «Викишоп» запускает новый сервис. Теперь пользователи могут редактировать и дополнять описания товаров, как в вики-сообществах. То есть клиенты предлагают свои правки и комментируют изменения других. Магазину нужен инструмент, который будет искать токсичные комментарии и отправлять их на модерацию.\n",
    "\n",
    "Необходимо обучить модель, классифицировать комментарии на позитивные и негативные. В вашем распоряжении набор данных с разметкой о токсичности правок.\n",
    "\n",
    "Построить модель со значением метрики качества *F1* не меньше 0.75.\n",
    "\n",
    "**Описание данных**\n",
    "\n",
    "Данные находятся в файле `toxic_comments.csv`. Столбец *text* в нём содержится текст комментария, а *toxic* — целевой признак."
   ]
  },
  {
   "cell_type": "markdown",
   "metadata": {
    "id": "v7qtY0Fig6t_"
   },
   "source": [
    "**План работы:**\n",
    "\n",
    "- Подготовка данных.\n",
    "    - Обработка датасета: удаление ненужных столбцов, оптимизация типов данных;\n",
    "    - Очистка текста: токкенизация, лемматизация, удаление стоп-слов и символов пунктуации;\n",
    "- Обучение моделей.\n",
    "  Будут использованы следующие модели для классификации:\n",
    "    - LogisticRegression;\n",
    "    - SGDClassifier;\n",
    "    - LGBMClassifier.\n",
    "- Обучаться модели будут двумя вариантами:\n",
    "    - при помощи `TF-IDF` (`TfidfVectorizer`);\n",
    "    - при помощи эмбеддингов `BERT`.\n",
    "- Тестирование.\n",
    "    - Предсказания и получение метрики для лучшей модели;\n",
    "    - Матрица ошибок.\n",
    "- Выводы.\n"
   ]
  },
  {
   "cell_type": "markdown",
   "metadata": {
    "id": "fduL80hbg6t_"
   },
   "source": [
    "## Подготовка данных"
   ]
  },
  {
   "cell_type": "markdown",
   "metadata": {
    "id": "_xJBZehbg6uA"
   },
   "source": [
    "**Импорт необходимых библиотек.**"
   ]
  },
  {
   "cell_type": "code",
   "execution_count": 1,
   "metadata": {
    "id": "l3cXhM9_g6uA",
    "tags": []
   },
   "outputs": [],
   "source": [
    "import pandas as pd\n",
    "import matplotlib.pyplot as plt\n",
    "import seaborn as sns\n",
    "import numpy as np\n",
    "import copy\n",
    "import re\n",
    "import string\n",
    "import os\n",
    "\n",
    "import spacy\n",
    "import spacy.lang.en\n",
    "from spacy.lang.en import English\n",
    "from sklearn.feature_extraction.text import ENGLISH_STOP_WORDS as sklearn_stop_words\n",
    "import nltk\n",
    "from nltk.sentiment.vader import SentimentIntensityAnalyzer\n",
    "\n",
    "from sklearn.model_selection import train_test_split, GridSearchCV, StratifiedKFold\n",
    "from sklearn.pipeline import Pipeline\n",
    "from sklearn.feature_extraction.text import TfidfVectorizer\n",
    "from sklearn.preprocessing import StandardScaler\n",
    "from sklearn.compose import ColumnTransformer\n",
    "\n",
    "from sklearn.linear_model import LogisticRegression, SGDClassifier\n",
    "from lightgbm import LGBMClassifier\n",
    "from sklearn.metrics import confusion_matrix, f1_score, precision_recall_curve\n",
    "\n",
    "import torch\n",
    "import transformers\n",
    "from transformers import AutoModel, AutoTokenizer\n",
    "from tqdm import notebook, tqdm\n",
    "from pandarallel import pandarallel\n",
    "\n",
    "from wordcloud import WordCloud\n",
    "# from PIL import Image\n",
    "\n",
    "import warnings\n",
    "\n",
    "warnings.filterwarnings('ignore')\n",
    "warnings.simplefilter('ignore')\n",
    "\n",
    "RANDOM = 42"
   ]
  },
  {
   "cell_type": "markdown",
   "metadata": {
    "id": "tu2maiIzg6uC"
   },
   "source": [
    "**Загрузка датасета**"
   ]
  },
  {
   "cell_type": "code",
   "execution_count": 2,
   "metadata": {
    "id": "cMJnmvVLg6uC",
    "tags": []
   },
   "outputs": [],
   "source": [
    "try:\n",
    "    data = pd.read_csv(\"/datasets/toxic_comments.csv\")\n",
    "except FileNotFoundError:\n",
    "    data = pd.read_csv(\n",
    "        \"https://code.s3.yandex.net/datasets/toxic_comments.csv\")"
   ]
  },
  {
   "cell_type": "markdown",
   "metadata": {
    "id": "T2T4G_V5g6uC"
   },
   "source": [
    "**Информация по датасету.**"
   ]
  },
  {
   "cell_type": "code",
   "execution_count": 3,
   "metadata": {
    "colab": {
     "base_uri": "https://localhost:8080/",
     "height": 206
    },
    "id": "fpw1HMIyg6uD",
    "outputId": "49851f18-3a68-44c1-ab34-e0548a9f83bc",
    "tags": []
   },
   "outputs": [
    {
     "data": {
      "text/html": [
       "\n",
       "\n",
       "  <div id=\"df-8cc1664f-06b8-433c-9d90-f6ef87769aab\">\n",
       "    <div class=\"colab-df-container\">\n",
       "      <div>\n",
       "<style scoped>\n",
       "    .dataframe tbody tr th:only-of-type {\n",
       "        vertical-align: middle;\n",
       "    }\n",
       "\n",
       "    .dataframe tbody tr th {\n",
       "        vertical-align: top;\n",
       "    }\n",
       "\n",
       "    .dataframe thead th {\n",
       "        text-align: right;\n",
       "    }\n",
       "</style>\n",
       "<table border=\"1\" class=\"dataframe\">\n",
       "  <thead>\n",
       "    <tr style=\"text-align: right;\">\n",
       "      <th></th>\n",
       "      <th>Unnamed: 0</th>\n",
       "      <th>text</th>\n",
       "      <th>toxic</th>\n",
       "    </tr>\n",
       "  </thead>\n",
       "  <tbody>\n",
       "    <tr>\n",
       "      <th>0</th>\n",
       "      <td>0</td>\n",
       "      <td>Explanation\\nWhy the edits made under my usern...</td>\n",
       "      <td>0</td>\n",
       "    </tr>\n",
       "    <tr>\n",
       "      <th>1</th>\n",
       "      <td>1</td>\n",
       "      <td>D'aww! He matches this background colour I'm s...</td>\n",
       "      <td>0</td>\n",
       "    </tr>\n",
       "    <tr>\n",
       "      <th>2</th>\n",
       "      <td>2</td>\n",
       "      <td>Hey man, I'm really not trying to edit war. It...</td>\n",
       "      <td>0</td>\n",
       "    </tr>\n",
       "    <tr>\n",
       "      <th>3</th>\n",
       "      <td>3</td>\n",
       "      <td>\"\\nMore\\nI can't make any real suggestions on ...</td>\n",
       "      <td>0</td>\n",
       "    </tr>\n",
       "    <tr>\n",
       "      <th>4</th>\n",
       "      <td>4</td>\n",
       "      <td>You, sir, are my hero. Any chance you remember...</td>\n",
       "      <td>0</td>\n",
       "    </tr>\n",
       "  </tbody>\n",
       "</table>\n",
       "</div>\n",
       "      <button class=\"colab-df-convert\" onclick=\"convertToInteractive('df-8cc1664f-06b8-433c-9d90-f6ef87769aab')\"\n",
       "              title=\"Convert this dataframe to an interactive table.\"\n",
       "              style=\"display:none;\">\n",
       "\n",
       "  <svg xmlns=\"http://www.w3.org/2000/svg\" height=\"24px\"viewBox=\"0 0 24 24\"\n",
       "       width=\"24px\">\n",
       "    <path d=\"M0 0h24v24H0V0z\" fill=\"none\"/>\n",
       "    <path d=\"M18.56 5.44l.94 2.06.94-2.06 2.06-.94-2.06-.94-.94-2.06-.94 2.06-2.06.94zm-11 1L8.5 8.5l.94-2.06 2.06-.94-2.06-.94L8.5 2.5l-.94 2.06-2.06.94zm10 10l.94 2.06.94-2.06 2.06-.94-2.06-.94-.94-2.06-.94 2.06-2.06.94z\"/><path d=\"M17.41 7.96l-1.37-1.37c-.4-.4-.92-.59-1.43-.59-.52 0-1.04.2-1.43.59L10.3 9.45l-7.72 7.72c-.78.78-.78 2.05 0 2.83L4 21.41c.39.39.9.59 1.41.59.51 0 1.02-.2 1.41-.59l7.78-7.78 2.81-2.81c.8-.78.8-2.07 0-2.86zM5.41 20L4 18.59l7.72-7.72 1.47 1.35L5.41 20z\"/>\n",
       "  </svg>\n",
       "      </button>\n",
       "\n",
       "\n",
       "\n",
       "    <div id=\"df-d6a246ef-191b-48aa-8a26-096c542ea2e3\">\n",
       "      <button class=\"colab-df-quickchart\" onclick=\"quickchart('df-d6a246ef-191b-48aa-8a26-096c542ea2e3')\"\n",
       "              title=\"Suggest charts.\"\n",
       "              style=\"display:none;\">\n",
       "\n",
       "<svg xmlns=\"http://www.w3.org/2000/svg\" height=\"24px\"viewBox=\"0 0 24 24\"\n",
       "     width=\"24px\">\n",
       "    <g>\n",
       "        <path d=\"M19 3H5c-1.1 0-2 .9-2 2v14c0 1.1.9 2 2 2h14c1.1 0 2-.9 2-2V5c0-1.1-.9-2-2-2zM9 17H7v-7h2v7zm4 0h-2V7h2v10zm4 0h-2v-4h2v4z\"/>\n",
       "    </g>\n",
       "</svg>\n",
       "      </button>\n",
       "    </div>\n",
       "\n",
       "<style>\n",
       "  .colab-df-quickchart {\n",
       "    background-color: #E8F0FE;\n",
       "    border: none;\n",
       "    border-radius: 50%;\n",
       "    cursor: pointer;\n",
       "    display: none;\n",
       "    fill: #1967D2;\n",
       "    height: 32px;\n",
       "    padding: 0 0 0 0;\n",
       "    width: 32px;\n",
       "  }\n",
       "\n",
       "  .colab-df-quickchart:hover {\n",
       "    background-color: #E2EBFA;\n",
       "    box-shadow: 0px 1px 2px rgba(60, 64, 67, 0.3), 0px 1px 3px 1px rgba(60, 64, 67, 0.15);\n",
       "    fill: #174EA6;\n",
       "  }\n",
       "\n",
       "  [theme=dark] .colab-df-quickchart {\n",
       "    background-color: #3B4455;\n",
       "    fill: #D2E3FC;\n",
       "  }\n",
       "\n",
       "  [theme=dark] .colab-df-quickchart:hover {\n",
       "    background-color: #434B5C;\n",
       "    box-shadow: 0px 1px 3px 1px rgba(0, 0, 0, 0.15);\n",
       "    filter: drop-shadow(0px 1px 2px rgba(0, 0, 0, 0.3));\n",
       "    fill: #FFFFFF;\n",
       "  }\n",
       "</style>\n",
       "\n",
       "    <script>\n",
       "      async function quickchart(key) {\n",
       "        const containerElement = document.querySelector('#' + key);\n",
       "        const charts = await google.colab.kernel.invokeFunction(\n",
       "            'suggestCharts', [key], {});\n",
       "      }\n",
       "    </script>\n",
       "\n",
       "      <script>\n",
       "\n",
       "function displayQuickchartButton(domScope) {\n",
       "  let quickchartButtonEl =\n",
       "    domScope.querySelector('#df-d6a246ef-191b-48aa-8a26-096c542ea2e3 button.colab-df-quickchart');\n",
       "  quickchartButtonEl.style.display =\n",
       "    google.colab.kernel.accessAllowed ? 'block' : 'none';\n",
       "}\n",
       "\n",
       "        displayQuickchartButton(document);\n",
       "      </script>\n",
       "      <style>\n",
       "    .colab-df-container {\n",
       "      display:flex;\n",
       "      flex-wrap:wrap;\n",
       "      gap: 12px;\n",
       "    }\n",
       "\n",
       "    .colab-df-convert {\n",
       "      background-color: #E8F0FE;\n",
       "      border: none;\n",
       "      border-radius: 50%;\n",
       "      cursor: pointer;\n",
       "      display: none;\n",
       "      fill: #1967D2;\n",
       "      height: 32px;\n",
       "      padding: 0 0 0 0;\n",
       "      width: 32px;\n",
       "    }\n",
       "\n",
       "    .colab-df-convert:hover {\n",
       "      background-color: #E2EBFA;\n",
       "      box-shadow: 0px 1px 2px rgba(60, 64, 67, 0.3), 0px 1px 3px 1px rgba(60, 64, 67, 0.15);\n",
       "      fill: #174EA6;\n",
       "    }\n",
       "\n",
       "    [theme=dark] .colab-df-convert {\n",
       "      background-color: #3B4455;\n",
       "      fill: #D2E3FC;\n",
       "    }\n",
       "\n",
       "    [theme=dark] .colab-df-convert:hover {\n",
       "      background-color: #434B5C;\n",
       "      box-shadow: 0px 1px 3px 1px rgba(0, 0, 0, 0.15);\n",
       "      filter: drop-shadow(0px 1px 2px rgba(0, 0, 0, 0.3));\n",
       "      fill: #FFFFFF;\n",
       "    }\n",
       "  </style>\n",
       "\n",
       "      <script>\n",
       "        const buttonEl =\n",
       "          document.querySelector('#df-8cc1664f-06b8-433c-9d90-f6ef87769aab button.colab-df-convert');\n",
       "        buttonEl.style.display =\n",
       "          google.colab.kernel.accessAllowed ? 'block' : 'none';\n",
       "\n",
       "        async function convertToInteractive(key) {\n",
       "          const element = document.querySelector('#df-8cc1664f-06b8-433c-9d90-f6ef87769aab');\n",
       "          const dataTable =\n",
       "            await google.colab.kernel.invokeFunction('convertToInteractive',\n",
       "                                                     [key], {});\n",
       "          if (!dataTable) return;\n",
       "\n",
       "          const docLinkHtml = 'Like what you see? Visit the ' +\n",
       "            '<a target=\"_blank\" href=https://colab.research.google.com/notebooks/data_table.ipynb>data table notebook</a>'\n",
       "            + ' to learn more about interactive tables.';\n",
       "          element.innerHTML = '';\n",
       "          dataTable['output_type'] = 'display_data';\n",
       "          await google.colab.output.renderOutput(dataTable, element);\n",
       "          const docLink = document.createElement('div');\n",
       "          docLink.innerHTML = docLinkHtml;\n",
       "          element.appendChild(docLink);\n",
       "        }\n",
       "      </script>\n",
       "    </div>\n",
       "  </div>\n"
      ],
      "text/plain": [
       "   Unnamed: 0                                               text  toxic\n",
       "0           0  Explanation\\nWhy the edits made under my usern...      0\n",
       "1           1  D'aww! He matches this background colour I'm s...      0\n",
       "2           2  Hey man, I'm really not trying to edit war. It...      0\n",
       "3           3  \"\\nMore\\nI can't make any real suggestions on ...      0\n",
       "4           4  You, sir, are my hero. Any chance you remember...      0"
      ]
     },
     "execution_count": 3,
     "metadata": {},
     "output_type": "execute_result"
    }
   ],
   "source": [
    "data.head()"
   ]
  },
  {
   "cell_type": "code",
   "execution_count": 4,
   "metadata": {
    "colab": {
     "base_uri": "https://localhost:8080/"
    },
    "id": "ZUxWic-ng6uE",
    "outputId": "b94171a7-17c2-450e-e919-4132e17e2ecc",
    "tags": []
   },
   "outputs": [
    {
     "name": "stdout",
     "output_type": "stream",
     "text": [
      "<class 'pandas.core.frame.DataFrame'>\n",
      "RangeIndex: 159292 entries, 0 to 159291\n",
      "Data columns (total 3 columns):\n",
      " #   Column      Non-Null Count   Dtype \n",
      "---  ------      --------------   ----- \n",
      " 0   Unnamed: 0  159292 non-null  int64 \n",
      " 1   text        159292 non-null  object\n",
      " 2   toxic       159292 non-null  int64 \n",
      "dtypes: int64(2), object(1)\n",
      "memory usage: 3.6+ MB\n"
     ]
    }
   ],
   "source": [
    "data.info()"
   ]
  },
  {
   "cell_type": "markdown",
   "metadata": {
    "id": "bg8VeVReg6uE"
   },
   "source": [
    "Удаление столбца `Unnamed: 0`."
   ]
  },
  {
   "cell_type": "code",
   "execution_count": 5,
   "metadata": {
    "id": "27sdC1Ggg6uF",
    "tags": []
   },
   "outputs": [],
   "source": [
    "data = data.drop(['Unnamed: 0'], axis=1)"
   ]
  },
  {
   "cell_type": "markdown",
   "metadata": {
    "id": "NzFFKslbg6uF"
   },
   "source": [
    "Функция для визуализации соотношения классов 0 и 1 в целевом столбце `toxic`."
   ]
  },
  {
   "cell_type": "code",
   "execution_count": 6,
   "metadata": {
    "id": "VowDlUWOg6uF",
    "tags": []
   },
   "outputs": [],
   "source": [
    "def drow_target(column=None):\n",
    "    '''\n",
    "    Функция для визуализации соотношения классов 0 и 1 в целевом столбце toxic.\n",
    "\n",
    "    Параметр:\n",
    "\n",
    "     column: столбец с целевой переменной (пример: data['toxic']), по умолчанию None\n",
    "\n",
    "    '''\n",
    "\n",
    "    plt.figure(figsize=(12, 7))\n",
    "    plt.title(\"Целевой признак\", fontsize=18)\n",
    "\n",
    "    ax = sns.barplot(x=column.unique(),\n",
    "                     y=column.value_counts(normalize=True),\n",
    "                     palette=['green', 'red'])\n",
    "\n",
    "    for bar in ax.patches:\n",
    "        ax.annotate(format(bar.get_height(), '.2f'),\n",
    "                    (bar.get_x() + bar.get_width() / 2, bar.get_height()),\n",
    "                    ha='center',\n",
    "                    va='center',\n",
    "                    size=16,\n",
    "                    xytext=(0, 8),\n",
    "                    textcoords='offset points',\n",
    "                    rotation=0)\n",
    "\n",
    "    plt.xlabel(\"Комментарии\", fontsize=15)\n",
    "    plt.ylabel(\"Процент токсичности\", fontsize=15)\n",
    "    plt.xticks(ticks=[0, 1], labels=['Нормальный', 'Токсичный'])\n",
    "\n",
    "    plt.show()"
   ]
  },
  {
   "cell_type": "markdown",
   "metadata": {
    "id": "lJSMD0-dg6uF"
   },
   "source": [
    "Визуализация."
   ]
  },
  {
   "cell_type": "code",
   "execution_count": 7,
   "metadata": {
    "colab": {
     "base_uri": "https://localhost:8080/",
     "height": 652
    },
    "id": "7-kqNDp7g6uG",
    "outputId": "676ae35e-6fc5-4f91-f233-4f87a917f82a",
    "tags": []
   },
   "outputs": [
    {
     "data": {
      "image/png": "[encoded data removed]",
      "text/plain": [
       "<Figure size 1200x700 with 1 Axes>"
      ]
     },
     "metadata": {},
     "output_type": "display_data"
    }
   ],
   "source": [
    "drow_target(column=data['toxic'])"
   ]
  },
  {
   "cell_type": "markdown",
   "metadata": {
    "id": "uxXNl-YEg6uG"
   },
   "source": [
    "Виден явный дисбаланс в сторону положительных комментариев 90% на 10%."
   ]
  },
  {
   "cell_type": "markdown",
   "metadata": {
    "id": "Ziz1PxQ_g6uG"
   },
   "source": [
    "Т.к. исходный датасет достаточно большой и на локальной машине может может не хватить ресурсов придется его несколько сократить."
   ]
  },
  {
   "cell_type": "code",
   "execution_count": 8,
   "metadata": {
    "colab": {
     "base_uri": "https://localhost:8080/"
    },
    "id": "ZJ9-nUh-g6uG",
    "outputId": "22a1a8fc-d8ee-46e2-a84c-1e66b6ec831a",
    "tags": []
   },
   "outputs": [
    {
     "name": "stdout",
     "output_type": "stream",
     "text": [
      "Cоотношение классов в датасете:\n",
      " 0    89.92875\n",
      "1    10.07125\n",
      "Name: toxic, dtype: float64\n"
     ]
    }
   ],
   "source": [
    "# количество строк в новом датасете\n",
    "sample_size = 80000\n",
    "# создание нового датасета\n",
    "data_sample = data.sample(n=sample_size,\n",
    "                          random_state=RANDOM).reset_index(drop=True)\n",
    "\n",
    "print('Cоотношение классов в датасете:\\n',\n",
    "      data_sample['toxic'].value_counts() / data_sample.shape[0] * 100)"
   ]
  },
  {
   "cell_type": "code",
   "execution_count": 9,
   "metadata": {
    "colab": {
     "base_uri": "https://localhost:8080/",
     "height": 652
    },
    "id": "edSN4LwLg6uH",
    "outputId": "008b3270-4886-4830-846b-fbab87c63791",
    "tags": []
   },
   "outputs": [
    {
     "data": {
      "image/png": "[encoded data removed]",
      "text/plain": [
       "<Figure size 1200x700 with 1 Axes>"
      ]
     },
     "metadata": {},
     "output_type": "display_data"
    }
   ],
   "source": [
    "# визуализация соотношения классов 0 и 1 в новом датасете.\n",
    "drow_target(column=data_sample['toxic'])"
   ]
  },
  {
   "cell_type": "markdown",
   "metadata": {
    "id": "C6JFlrMqg6uH"
   },
   "source": [
    "Целевой признак остался в том же соотношении: дисбаланс в сторону положительных комментариев 90% на 10%."
   ]
  },
  {
   "cell_type": "markdown",
   "metadata": {
    "id": "_L0ZiprKg6uI"
   },
   "source": [
    "**Преобразование типов данных.**"
   ]
  },
  {
   "cell_type": "code",
   "execution_count": 10,
   "metadata": {
    "id": "lrT36TGAg6uI",
    "tags": []
   },
   "outputs": [],
   "source": [
    "# приведение столбца к более оптимальному типу int8, т.к. значений всего 2: 0 и 1\n",
    "data_sample['toxic'] = data_sample['toxic'].astype('int8')\n",
    "# перевод текстов в стандартный для Python формат: кодировку Unicode\n",
    "data_sample['text'] = data_sample['text'].values.astype('U')"
   ]
  },
  {
   "cell_type": "code",
   "execution_count": 11,
   "metadata": {
    "colab": {
     "base_uri": "https://localhost:8080/"
    },
    "id": "6YesVlISg6uI",
    "outputId": "a36b9e0b-59b5-4f58-d065-6e0fd9b3d461",
    "tags": []
   },
   "outputs": [
    {
     "name": "stdout",
     "output_type": "stream",
     "text": [
      "<class 'pandas.core.frame.DataFrame'>\n",
      "RangeIndex: 80000 entries, 0 to 79999\n",
      "Data columns (total 2 columns):\n",
      " #   Column  Non-Null Count  Dtype \n",
      "---  ------  --------------  ----- \n",
      " 0   text    80000 non-null  object\n",
      " 1   toxic   80000 non-null  int8  \n",
      "dtypes: int8(1), object(1)\n",
      "memory usage: 703.2+ KB\n"
     ]
    }
   ],
   "source": [
    "data_sample.info()"
   ]
  },
  {
   "cell_type": "markdown",
   "metadata": {
    "id": "x55oPQ4tg6uI"
   },
   "source": [
    "Типы данных оптимизированы."
   ]
  },
  {
   "cell_type": "markdown",
   "metadata": {
    "id": "lfyVqfJlg6uI"
   },
   "source": [
    "**Spacy.**\n",
    "\n",
    "Для токкенизации, лемматизации и удаления стоп-слов будет использована библиотека `Spacy`."
   ]
  },
  {
   "cell_type": "markdown",
   "metadata": {
    "id": "N2-PSKq8g6uJ"
   },
   "source": [
    "**Загрузка языковой модели `en_core_web_sm`.**"
   ]
  },
  {
   "cell_type": "code",
   "execution_count": 12,
   "metadata": {
    "id": "rk9dYvAeg6uJ"
   },
   "outputs": [],
   "source": [
    "nlp = spacy.load(\"en_core_web_sm\")"
   ]
  },
  {
   "cell_type": "markdown",
   "metadata": {
    "id": "bX5dUv8Hg6uJ"
   },
   "source": [
    "**Загрузка стопслов spacy**"
   ]
  },
  {
   "cell_type": "code",
   "execution_count": 13,
   "metadata": {
    "id": "_Nh__oIeg6uJ"
   },
   "outputs": [],
   "source": [
    "stopwords = list(spacy.lang.en.stop_words.STOP_WORDS)"
   ]
  },
  {
   "cell_type": "markdown",
   "metadata": {
    "id": "TKkaxuHlg6uJ"
   },
   "source": [
    "**Добавление стоп-слов из `sklearn`.**"
   ]
  },
  {
   "cell_type": "code",
   "execution_count": 14,
   "metadata": {
    "id": "WKlxaSz_g6uK"
   },
   "outputs": [],
   "source": [
    "STOPLIST = set(stopwords + list(sklearn_stop_words))"
   ]
  },
  {
   "cell_type": "markdown",
   "metadata": {
    "id": "ld4KiedIg6uK"
   },
   "source": [
    "**Расширенный список пунктуационных символов для очистки текста при лемматизации.**"
   ]
  },
  {
   "cell_type": "code",
   "execution_count": 15,
   "metadata": {
    "id": "aHZ_3Rirg6uK"
   },
   "outputs": [],
   "source": [
    "SYMBOLS = \" \".join(string.punctuation).split(\" \") + [\n",
    "    \"-\", \"...\", \"..\", \"”\", \"”\", \". .\", \". . .\", \". . . .\"\n",
    "]"
   ]
  },
  {
   "cell_type": "markdown",
   "metadata": {
    "id": "YwmU-hcEg6uK"
   },
   "source": [
    "**Функция для очистки текста.**"
   ]
  },
  {
   "cell_type": "code",
   "execution_count": 16,
   "metadata": {
    "id": "dsXMFVwvg6uL",
    "tags": []
   },
   "outputs": [],
   "source": [
    "def clear_text(text):\n",
    "    '''\n",
    "    Функция для очистки текста.\n",
    "\n",
    "    Параметр:\n",
    "\n",
    "     text: исходный текст для очистки.\n",
    "\n",
    "    Вовращаемое значение:\n",
    "\n",
    "     phrase: очищенный текст.\n",
    "\n",
    "    '''\n",
    "\n",
    "    # преобразование сокращений\n",
    "    phrase = re.sub(r\"’\", \"'\", text)\n",
    "    phrase = re.sub(r\"\\n\", \" \", phrase)\n",
    "    phrase = re.sub(r\"\\t\", \" \", phrase)\n",
    "    phrase = re.sub(r\"\\\\\", \"\", phrase)\n",
    "    phrase = re.sub(r\"won't\", \"will not\", phrase)\n",
    "    phrase = re.sub(r\"can't\", \"can not\", phrase)\n",
    "    phrase = re.sub(r\"n't\", \" not\", phrase)\n",
    "    phrase = re.sub(r\"'re\", \" are\", phrase)\n",
    "    phrase = re.sub(r\"'s\", \" is\", phrase)\n",
    "    phrase = re.sub(r\"'d\", \" would\", phrase)\n",
    "    phrase = re.sub(r\"'ll\", \" will\", phrase)\n",
    "    phrase = re.sub(r\"'ve\", \" have\", phrase)\n",
    "    phrase = re.sub(r\"'m\", \" am\", phrase)\n",
    "    phrase = re.sub(r\"ar\", \"are\", phrase)\n",
    "\n",
    "    # оставляем только символы и пунктуацию\n",
    "    phrase = re.sub(r'[^a-zA-Z?.,!]', ' ', phrase)\n",
    "    phrase = re.sub(r'[a-z]*[:.]+\\S+', ' ', phrase)  # убираем ссылки\n",
    "    # заменяем несколько пробелов на 1 пробел\n",
    "    phrase = re.sub(r'([ ])\\1+', ' ', phrase)\n",
    "    phrase = phrase.lower()\n",
    "\n",
    "    return phrase.strip()"
   ]
  },
  {
   "cell_type": "markdown",
   "metadata": {
    "id": "tBlGG3ALg6uL"
   },
   "source": [
    "**Функция для токкенизации, лемматизации, удаления стоп-слов и символов пунктуации.**"
   ]
  },
  {
   "cell_type": "code",
   "execution_count": 17,
   "metadata": {
    "id": "6M_DcIeIg6uL"
   },
   "outputs": [],
   "source": [
    "def lemm_stopwords(text):\n",
    "    '''\n",
    "    Функция для токкенизации, лемматизации, удаления стоп-слов и символов пунктуации.\n",
    "\n",
    "    Параметр:\n",
    "\n",
    "     text: очищенный текст.\n",
    "\n",
    "    Вовращаемое значение:\n",
    "\n",
    "     mytokens: леммы без стоп-слов и пунктуации в нижнем регистре.\n",
    "\n",
    "    '''\n",
    "\n",
    "    # создание токкенов\n",
    "    mytokens = nlp(text)\n",
    "\n",
    "    # лемматизачия токкена и перевод в нижний регистр\n",
    "    mytokens = [\n",
    "        word.lemma_.lower().strip() if word.lemma_ != \"-PRON-\" else word.lower_\n",
    "        for word in mytokens\n",
    "    ]\n",
    "\n",
    "    # удаление стоп-слов, знаков пунктуации и возможных оставшихся цифр\n",
    "    mytokens = \" \".join([\n",
    "        word for word in mytokens\n",
    "        if word not in STOPLIST and word not in SYMBOLS and not word.isdigit()\n",
    "    ])\n",
    "\n",
    "    return mytokens.strip()"
   ]
  },
  {
   "cell_type": "markdown",
   "metadata": {
    "id": "HvvLna2Ng6uf"
   },
   "source": [
    "**Очистка текста.**"
   ]
  },
  {
   "cell_type": "code",
   "execution_count": 18,
   "metadata": {
    "colab": {
     "base_uri": "https://localhost:8080/"
    },
    "id": "n0gHUzjCg6uf",
    "outputId": "ffdec890-1ea3-4865-b146-f8b6e96eda28"
   },
   "outputs": [
    {
     "name": "stderr",
     "output_type": "stream",
     "text": [
      "Очистка текста: 100%|██████████| 80000/80000 [00:10<00:00, 7306.11it/s] \n"
     ]
    }
   ],
   "source": [
    "tqdm.pandas(desc=\"Очистка текста\")\n",
    "data_sample['clear_text'] = data_sample['text'].progress_apply(clear_text)"
   ]
  },
  {
   "cell_type": "markdown",
   "metadata": {
    "id": "mgD-MSmTg6uf"
   },
   "source": [
    "**Токкенизация, лемматизация, удаление стоп-слов и символов пунктуации.**"
   ]
  },
  {
   "cell_type": "code",
   "execution_count": 19,
   "metadata": {
    "colab": {
     "base_uri": "https://localhost:8080/",
     "height": 122,
     "referenced_widgets": [
      "101380017bec4913a5e379dc9ac14f22",
      "eaee91db53b0403ca72275a987844dee",
      "433db860413349a795c0086377f5cb65",
      "b9ffbd184c5e4617b9b15209b91b6f1b",
      "355965de697c4519b1749aab43dd81e7",
      "2bfcdc4f00884034b727bb555ee9c1af",
      "462da257e78c470cacd2ac36135c1159",
      "babe12dc6c39471c8c25cbdbf5158a32",
      "7cd254a2d4b8437a813facf5bcbad629",
      "342a1a1e65a344a98fd768819698b4b1"
     ]
    },
    "id": "G6lEISVjg6ug",
    "outputId": "b6189b7a-14ca-4b65-f5ae-ef0e4889a6a6"
   },
   "outputs": [
    {
     "name": "stdout",
     "output_type": "stream",
     "text": [
      "INFO: Pandarallel will run on 1 workers.\n",
      "INFO: Pandarallel will use Memory file system to transfer data between the main process and workers.\n"
     ]
    },
    {
     "data": {
      "application/vnd.jupyter.widget-view+json": {
       "model_id": "101380017bec4913a5e379dc9ac14f22",
       "version_major": 2,
       "version_minor": 0
      },
      "text/plain": [
       "VBox(children=(HBox(children=(IntProgress(value=0, description='0.00%', max=80000), Label(value='0 / 80000')))…"
      ]
     },
     "metadata": {},
     "output_type": "display_data"
    },
    {
     "name": "stdout",
     "output_type": "stream",
     "text": [
      "CPU times: user 20.2 s, sys: 1.82 s, total: 22 s\n",
      "Wall time: 23min 36s\n"
     ]
    }
   ],
   "source": [
    "%%time\n",
    "pandarallel.initialize(progress_bar=True)\n",
    "data_sample['text_lemm'] = data_sample['clear_text'].parallel_apply(lemm_stopwords)"
   ]
  },
  {
   "cell_type": "markdown",
   "metadata": {
    "id": "B_2bC8KXg6ug"
   },
   "source": [
    "**Вывод результатов на примере одного комментария.**"
   ]
  },
  {
   "cell_type": "code",
   "execution_count": 20,
   "metadata": {
    "colab": {
     "base_uri": "https://localhost:8080/"
    },
    "id": "VllWm8IHg6uh",
    "outputId": "9b2611cf-ccea-4432-b55b-37210145251a"
   },
   "outputs": [
    {
     "name": "stdout",
     "output_type": "stream",
     "text": [
      "Исходный текст (столбец 'text'):\n",
      "Sometime back, I just happened to log on to www.izoom.in with a friend’s reference and I was amazed to see the concept Fresh Ideas Entertainment has come up with. So many deals… all under one roof. This website is very user friendly and easy to use and is fun to be on.\n",
      "You have Gossip, Games, Facts… Another exciting feature to add to it is Face of the Week… Every week, 4 new faces are selected and put up as izoom faces. It’s great to have been selected in four out of a group of millions. \n",
      "This new start up has already got many a deals in its kitty. Few of them being TheFortune Hotel, The Beach… are my personal favorites. izoom.in has a USP of mobile coupons. Coupons are available even when a user cannot access internet. You just need to SMS izoom support to 56767 and you get attended immediately.\n",
      "All I can say is izoom.in is a must visit website for everyone before they go out for shopping or dining or for outing.\n",
      "Cheers!!!\n",
      "\n",
      "Очищенный текст (столбец 'clear_text'):\n",
      "sometime back, i just happened to log on to with a friend is reference and i was amazed to see the concept fresh ideas entertainment has come up with. so many deals all under one roof. this website is very user friendly and easy to use and is fun to be on. you have gossip, games, facts another exciting feature to add to it is face of the week every week, new faces aree selected and put up as izoom faces. it is great to have been selected in four out of a group of millions. this new staret up has already got many a deals in its kitty. few of them being thefortune hotel, the beach aree my personal favorites. has a usp of mobile coupons. coupons aree available even when a user cannot access internet. you just need to sms izoom support to and you get attended immediately. all i can say is is a must visit website for everyone before they go out for shopping or dining or for outing. cheers!!!\n",
      "\n",
      "Лемматизированный текст (столбец 'text_lemm'):\n",
      "happen log friend reference amazed concept fresh idea entertainment come deal roof website user friendly easy use fun gossip game fact exciting feature add face week week new face aree select izoom face great select group million new staret deal kitty thefortune hotel beach aree personal favorite usp mobile coupon coupon aree available user access internet need sms izoom support attend immediately visit website shopping dining outing cheer\n",
      "\n"
     ]
    }
   ],
   "source": [
    "print(f\"Исходный текст (столбец 'text'):\\n{data_sample['text'][0]}\\n\")\n",
    "print(\n",
    "    f\"Очищенный текст (столбец 'clear_text'):\\n{data_sample['clear_text'][0]}\\n\")\n",
    "print(\n",
    "    f\"Лемматизированный текст (столбец 'text_lemm'):\\n{data_sample['text_lemm'][0]}\\n\")"
   ]
  },
  {
   "cell_type": "markdown",
   "metadata": {
    "id": "0IAK2qAag6uh"
   },
   "source": [
    "**Вывод.**\n",
    "\n",
    "Данные подготовлены к обучению моделей."
   ]
  },
  {
   "cell_type": "markdown",
   "metadata": {
    "id": "V7Lu7Uicg6uh"
   },
   "source": [
    "**Облака слов для нормальных и токсичных комментариев.**\n",
    "\n",
    "Выбрал максимум 100 слов для визуализации."
   ]
  },
  {
   "cell_type": "code",
   "execution_count": 21,
   "metadata": {
    "colab": {
     "base_uri": "https://localhost:8080/",
     "height": 597
    },
    "id": "1vPp6jrqg6ui",
    "outputId": "0cda69ba-9f57-473c-b6be-c19b90f833b3"
   },
   "outputs": [
    {
     "data": {
      "image/png": "[encoded data removed]",
      "text/plain": [
       "<Figure size 640x480 with 1 Axes>"
      ]
     },
     "metadata": {},
     "output_type": "display_data"
    },
    {
     "data": {
      "image/png": "[encoded data removed]",
      "text/plain": [
       "<Figure size 640x480 with 1 Axes>"
      ]
     },
     "metadata": {},
     "output_type": "display_data"
    }
   ],
   "source": [
    "for x in data_sample['toxic'].unique():\n",
    "    wc = WordCloud(background_color=\"white\",\n",
    "                   max_words=100,\n",
    "                   max_font_size=40,\n",
    "                   random_state=RANDOM)\n",
    "    wc.generate(\n",
    "        data_sample['text_lemm'].loc[(data_sample['text_lemm'].notnull()) &\n",
    "                                     (data_sample['toxic'] == x)].to_string())\n",
    "    plt.imshow(wc)\n",
    "    if x == 0:\n",
    "        plt.title('Нормальный комментарий')\n",
    "    else:\n",
    "        plt.title('Токсичный комментарий')\n",
    "    plt.axis(\"off\")\n",
    "    plt.show()"
   ]
  },
  {
   "cell_type": "markdown",
   "metadata": {
    "id": "jf_DOkbTg6ui"
   },
   "source": [
    "Среди токсичных есть ненормативная лексика."
   ]
  },
  {
   "cell_type": "markdown",
   "metadata": {},
   "source": [
    "Генерация нескольких доп. признаков в датасет при помощи (`SentimentIntensityAnalyzer`)\n",
    "    \n",
    "Из составных значений `polarity_scores` добавлена 4 столца: `'neg'`, `'neu'`, `'pos'`."
   ]
  },
  {
   "cell_type": "code",
   "execution_count": 22,
   "metadata": {
    "colab": {
     "base_uri": "https://localhost:8080/"
    },
    "id": "WU8CqhPJg6uj",
    "outputId": "16b922b4-e862-4bad-93b2-97504557fc1b"
   },
   "outputs": [
    {
     "name": "stderr",
     "output_type": "stream",
     "text": [
      "[nltk_data] Downloading package vader_lexicon to /root/nltk_data...\n"
     ]
    },
    {
     "data": {
      "text/plain": [
       "True"
      ]
     },
     "execution_count": 22,
     "metadata": {},
     "output_type": "execute_result"
    }
   ],
   "source": [
    "nltk.download('vader_lexicon')"
   ]
  },
  {
   "cell_type": "code",
   "execution_count": 23,
   "metadata": {
    "id": "cxzG5qAxg6uj"
   },
   "outputs": [],
   "source": [
    "sid = SentimentIntensityAnalyzer()"
   ]
  },
  {
   "cell_type": "code",
   "execution_count": 24,
   "metadata": {
    "colab": {
     "base_uri": "https://localhost:8080/",
     "height": 122,
     "referenced_widgets": [
      "2d44575f168d47c8af47dd3501358f1c",
      "3835ba19b8504dbb950ba11876102d0c",
      "d1fd074b553b4ee29bc4c3b1c60cb282",
      "62e81256daf44c60903924f9632bea2f",
      "a0f7a8a44937495498041108246ae066",
      "0aa84367938e40018b78cc74bf725ed5",
      "364893eb947c46c8bca44f6a80824e77",
      "f75844d15d4e4fffb2d4da6af14103b0",
      "e42864b7f02d4447ad3eb0c828a11252",
      "db270f0f8f9c41cf83c30fa2b0d2a002"
     ]
    },
    "id": "8qis_Frxg6uj",
    "outputId": "4edabfbc-3b63-4f1a-e952-a7f07a20b4fd"
   },
   "outputs": [
    {
     "name": "stdout",
     "output_type": "stream",
     "text": [
      "INFO: Pandarallel will run on 1 workers.\n",
      "INFO: Pandarallel will use Memory file system to transfer data between the main process and workers.\n"
     ]
    },
    {
     "data": {
      "application/vnd.jupyter.widget-view+json": {
       "model_id": "2d44575f168d47c8af47dd3501358f1c",
       "version_major": 2,
       "version_minor": 0
      },
      "text/plain": [
       "VBox(children=(HBox(children=(IntProgress(value=0, description='0.00%', max=80000), Label(value='0 / 80000')))…"
      ]
     },
     "metadata": {},
     "output_type": "display_data"
    },
    {
     "name": "stdout",
     "output_type": "stream",
     "text": [
      "CPU times: user 1.04 s, sys: 192 ms, total: 1.23 s\n",
      "Wall time: 1min 4s\n"
     ]
    }
   ],
   "source": [
    "%%time\n",
    "pandarallel.initialize(progress_bar=True)\n",
    "data_sample['scores'] = data_sample['clear_text'].parallel_apply(lambda x: sid.polarity_scores(x))"
   ]
  },
  {
   "cell_type": "code",
   "execution_count": 25,
   "metadata": {
    "id": "1IwBMbR7g6uk"
   },
   "outputs": [],
   "source": [
    "data_sample = data_sample.join(pd.json_normalize(data_sample.pop('scores')))\n",
    "data_sample = data_sample.drop(['compound'], axis=1)"
   ]
  },
  {
   "cell_type": "code",
   "execution_count": 26,
   "metadata": {
    "colab": {
     "base_uri": "https://localhost:8080/",
     "height": 143
    },
    "id": "xXaL91g_g6uk",
    "outputId": "ad92a78d-9686-4523-97b5-ea8d864b8e66"
   },
   "outputs": [
    {
     "data": {
      "text/html": [
       "\n",
       "\n",
       "  <div id=\"df-801291c0-0114-4c58-9073-e9a54835022f\">\n",
       "    <div class=\"colab-df-container\">\n",
       "      <div>\n",
       "<style scoped>\n",
       "    .dataframe tbody tr th:only-of-type {\n",
       "        vertical-align: middle;\n",
       "    }\n",
       "\n",
       "    .dataframe tbody tr th {\n",
       "        vertical-align: top;\n",
       "    }\n",
       "\n",
       "    .dataframe thead th {\n",
       "        text-align: right;\n",
       "    }\n",
       "</style>\n",
       "<table border=\"1\" class=\"dataframe\">\n",
       "  <thead>\n",
       "    <tr style=\"text-align: right;\">\n",
       "      <th></th>\n",
       "      <th>text</th>\n",
       "      <th>toxic</th>\n",
       "      <th>clear_text</th>\n",
       "      <th>text_lemm</th>\n",
       "      <th>neg</th>\n",
       "      <th>neu</th>\n",
       "      <th>pos</th>\n",
       "    </tr>\n",
       "  </thead>\n",
       "  <tbody>\n",
       "    <tr>\n",
       "      <th>69010</th>\n",
       "      <td>I am not sure about the legality of fake copyr...</td>\n",
       "      <td>0</td>\n",
       "      <td>i am not sure about the legality of fake copyr...</td>\n",
       "      <td>sure legality fake copyright tag cleare prank ...</td>\n",
       "      <td>0.103</td>\n",
       "      <td>0.819</td>\n",
       "      <td>0.078</td>\n",
       "    </tr>\n",
       "    <tr>\n",
       "      <th>18287</th>\n",
       "      <td>\"op-eds are worthless sources when they don't ...</td>\n",
       "      <td>0</td>\n",
       "      <td>op eds aree worthless sources when they do not...</td>\n",
       "      <td>op ed aree worthless source work chriso narera...</td>\n",
       "      <td>0.050</td>\n",
       "      <td>0.923</td>\n",
       "      <td>0.027</td>\n",
       "    </tr>\n",
       "    <tr>\n",
       "      <th>4030</th>\n",
       "      <td>\"==Comment==\\nThis article is a very poor adve...</td>\n",
       "      <td>0</td>\n",
       "      <td>comment this areticle is a very poor advertise...</td>\n",
       "      <td>comment areticle poor advertisement technologi...</td>\n",
       "      <td>0.043</td>\n",
       "      <td>0.875</td>\n",
       "      <td>0.082</td>\n",
       "    </tr>\n",
       "  </tbody>\n",
       "</table>\n",
       "</div>\n",
       "      <button class=\"colab-df-convert\" onclick=\"convertToInteractive('df-801291c0-0114-4c58-9073-e9a54835022f')\"\n",
       "              title=\"Convert this dataframe to an interactive table.\"\n",
       "              style=\"display:none;\">\n",
       "\n",
       "  <svg xmlns=\"http://www.w3.org/2000/svg\" height=\"24px\"viewBox=\"0 0 24 24\"\n",
       "       width=\"24px\">\n",
       "    <path d=\"M0 0h24v24H0V0z\" fill=\"none\"/>\n",
       "    <path d=\"M18.56 5.44l.94 2.06.94-2.06 2.06-.94-2.06-.94-.94-2.06-.94 2.06-2.06.94zm-11 1L8.5 8.5l.94-2.06 2.06-.94-2.06-.94L8.5 2.5l-.94 2.06-2.06.94zm10 10l.94 2.06.94-2.06 2.06-.94-2.06-.94-.94-2.06-.94 2.06-2.06.94z\"/><path d=\"M17.41 7.96l-1.37-1.37c-.4-.4-.92-.59-1.43-.59-.52 0-1.04.2-1.43.59L10.3 9.45l-7.72 7.72c-.78.78-.78 2.05 0 2.83L4 21.41c.39.39.9.59 1.41.59.51 0 1.02-.2 1.41-.59l7.78-7.78 2.81-2.81c.8-.78.8-2.07 0-2.86zM5.41 20L4 18.59l7.72-7.72 1.47 1.35L5.41 20z\"/>\n",
       "  </svg>\n",
       "      </button>\n",
       "\n",
       "\n",
       "\n",
       "    <div id=\"df-5eb40ade-08e5-4342-b0bf-7df9a27e9d75\">\n",
       "      <button class=\"colab-df-quickchart\" onclick=\"quickchart('df-5eb40ade-08e5-4342-b0bf-7df9a27e9d75')\"\n",
       "              title=\"Suggest charts.\"\n",
       "              style=\"display:none;\">\n",
       "\n",
       "<svg xmlns=\"http://www.w3.org/2000/svg\" height=\"24px\"viewBox=\"0 0 24 24\"\n",
       "     width=\"24px\">\n",
       "    <g>\n",
       "        <path d=\"M19 3H5c-1.1 0-2 .9-2 2v14c0 1.1.9 2 2 2h14c1.1 0 2-.9 2-2V5c0-1.1-.9-2-2-2zM9 17H7v-7h2v7zm4 0h-2V7h2v10zm4 0h-2v-4h2v4z\"/>\n",
       "    </g>\n",
       "</svg>\n",
       "      </button>\n",
       "    </div>\n",
       "\n",
       "<style>\n",
       "  .colab-df-quickchart {\n",
       "    background-color: #E8F0FE;\n",
       "    border: none;\n",
       "    border-radius: 50%;\n",
       "    cursor: pointer;\n",
       "    display: none;\n",
       "    fill: #1967D2;\n",
       "    height: 32px;\n",
       "    padding: 0 0 0 0;\n",
       "    width: 32px;\n",
       "  }\n",
       "\n",
       "  .colab-df-quickchart:hover {\n",
       "    background-color: #E2EBFA;\n",
       "    box-shadow: 0px 1px 2px rgba(60, 64, 67, 0.3), 0px 1px 3px 1px rgba(60, 64, 67, 0.15);\n",
       "    fill: #174EA6;\n",
       "  }\n",
       "\n",
       "  [theme=dark] .colab-df-quickchart {\n",
       "    background-color: #3B4455;\n",
       "    fill: #D2E3FC;\n",
       "  }\n",
       "\n",
       "  [theme=dark] .colab-df-quickchart:hover {\n",
       "    background-color: #434B5C;\n",
       "    box-shadow: 0px 1px 3px 1px rgba(0, 0, 0, 0.15);\n",
       "    filter: drop-shadow(0px 1px 2px rgba(0, 0, 0, 0.3));\n",
       "    fill: #FFFFFF;\n",
       "  }\n",
       "</style>\n",
       "\n",
       "    <script>\n",
       "      async function quickchart(key) {\n",
       "        const containerElement = document.querySelector('#' + key);\n",
       "        const charts = await google.colab.kernel.invokeFunction(\n",
       "            'suggestCharts', [key], {});\n",
       "      }\n",
       "    </script>\n",
       "\n",
       "      <script>\n",
       "\n",
       "function displayQuickchartButton(domScope) {\n",
       "  let quickchartButtonEl =\n",
       "    domScope.querySelector('#df-5eb40ade-08e5-4342-b0bf-7df9a27e9d75 button.colab-df-quickchart');\n",
       "  quickchartButtonEl.style.display =\n",
       "    google.colab.kernel.accessAllowed ? 'block' : 'none';\n",
       "}\n",
       "\n",
       "        displayQuickchartButton(document);\n",
       "      </script>\n",
       "      <style>\n",
       "    .colab-df-container {\n",
       "      display:flex;\n",
       "      flex-wrap:wrap;\n",
       "      gap: 12px;\n",
       "    }\n",
       "\n",
       "    .colab-df-convert {\n",
       "      background-color: #E8F0FE;\n",
       "      border: none;\n",
       "      border-radius: 50%;\n",
       "      cursor: pointer;\n",
       "      display: none;\n",
       "      fill: #1967D2;\n",
       "      height: 32px;\n",
       "      padding: 0 0 0 0;\n",
       "      width: 32px;\n",
       "    }\n",
       "\n",
       "    .colab-df-convert:hover {\n",
       "      background-color: #E2EBFA;\n",
       "      box-shadow: 0px 1px 2px rgba(60, 64, 67, 0.3), 0px 1px 3px 1px rgba(60, 64, 67, 0.15);\n",
       "      fill: #174EA6;\n",
       "    }\n",
       "\n",
       "    [theme=dark] .colab-df-convert {\n",
       "      background-color: #3B4455;\n",
       "      fill: #D2E3FC;\n",
       "    }\n",
       "\n",
       "    [theme=dark] .colab-df-convert:hover {\n",
       "      background-color: #434B5C;\n",
       "      box-shadow: 0px 1px 3px 1px rgba(0, 0, 0, 0.15);\n",
       "      filter: drop-shadow(0px 1px 2px rgba(0, 0, 0, 0.3));\n",
       "      fill: #FFFFFF;\n",
       "    }\n",
       "  </style>\n",
       "\n",
       "      <script>\n",
       "        const buttonEl =\n",
       "          document.querySelector('#df-801291c0-0114-4c58-9073-e9a54835022f button.colab-df-convert');\n",
       "        buttonEl.style.display =\n",
       "          google.colab.kernel.accessAllowed ? 'block' : 'none';\n",
       "\n",
       "        async function convertToInteractive(key) {\n",
       "          const element = document.querySelector('#df-801291c0-0114-4c58-9073-e9a54835022f');\n",
       "          const dataTable =\n",
       "            await google.colab.kernel.invokeFunction('convertToInteractive',\n",
       "                                                     [key], {});\n",
       "          if (!dataTable) return;\n",
       "\n",
       "          const docLinkHtml = 'Like what you see? Visit the ' +\n",
       "            '<a target=\"_blank\" href=https://colab.research.google.com/notebooks/data_table.ipynb>data table notebook</a>'\n",
       "            + ' to learn more about interactive tables.';\n",
       "          element.innerHTML = '';\n",
       "          dataTable['output_type'] = 'display_data';\n",
       "          await google.colab.output.renderOutput(dataTable, element);\n",
       "          const docLink = document.createElement('div');\n",
       "          docLink.innerHTML = docLinkHtml;\n",
       "          element.appendChild(docLink);\n",
       "        }\n",
       "      </script>\n",
       "    </div>\n",
       "  </div>\n"
      ],
      "text/plain": [
       "                                                    text  toxic  \\\n",
       "69010  I am not sure about the legality of fake copyr...      0   \n",
       "18287  \"op-eds are worthless sources when they don't ...      0   \n",
       "4030   \"==Comment==\\nThis article is a very poor adve...      0   \n",
       "\n",
       "                                              clear_text  \\\n",
       "69010  i am not sure about the legality of fake copyr...   \n",
       "18287  op eds aree worthless sources when they do not...   \n",
       "4030   comment this areticle is a very poor advertise...   \n",
       "\n",
       "                                               text_lemm    neg    neu    pos  \n",
       "69010  sure legality fake copyright tag cleare prank ...  0.103  0.819  0.078  \n",
       "18287  op ed aree worthless source work chriso narera...  0.050  0.923  0.027  \n",
       "4030   comment areticle poor advertisement technologi...  0.043  0.875  0.082  "
      ]
     },
     "execution_count": 26,
     "metadata": {},
     "output_type": "execute_result"
    }
   ],
   "source": [
    "data_sample.sample(3)"
   ]
  },
  {
   "cell_type": "markdown",
   "metadata": {
    "id": "iWpTJqGRg6uk"
   },
   "source": [
    "## Обучение"
   ]
  },
  {
   "cell_type": "markdown",
   "metadata": {
    "id": "mwzHC-_Tg6uk"
   },
   "source": [
    "В обучении будут использованы следующие модели для классификации:\n",
    "\n",
    "- LogisticRegression;\n",
    "- SGDClassifier;\n",
    "- LGBMClassifier.\n",
    "\n",
    "Обучаться модели будут двумя вариантами:\n",
    "\n",
    "- при помощи `TF-IDF` (`TfidfVectorizer`);\n",
    "- при помощи эмбеддингов `BERT`.\n",
    "\n",
    "Будет использован перебор по сетке гиперпараметров при помощи `GridSearchCV` с кроссвалидацией `StratifiedKFold`.\n",
    "\n",
    "Дисбаланс классов будет регулироваться параметром `class_weight='balanced'` для всех моделей.\n",
    "\n",
    "Результы полученной метрики `F1`, будут сведены в единую таблицу и будет выбрана лучшая модель для проверки на тестовой выборке."
   ]
  },
  {
   "cell_type": "markdown",
   "metadata": {
    "id": "Clt5zUwYg6ul"
   },
   "source": [
    "### TF-IDF"
   ]
  },
  {
   "cell_type": "markdown",
   "metadata": {
    "id": "FQ72gp5_g6ul"
   },
   "source": [
    "**Выделение признаков и целевого признака.**\n",
    "\n",
    "Для признаков у нас один столбец с очищенным и лемматизированным текстом `text_lemm`.\n",
    "\n",
    "Целевой признак столбец `toxic`."
   ]
  },
  {
   "cell_type": "code",
   "execution_count": 27,
   "metadata": {
    "id": "fhXZw16Wg6ul"
   },
   "outputs": [],
   "source": [
    "features = data_sample[['text_lemm', 'neg', 'neu', 'pos']]\n",
    "target = data_sample['toxic']"
   ]
  },
  {
   "cell_type": "code",
   "execution_count": 28,
   "metadata": {
    "id": "X0Lrlmfwg6um"
   },
   "outputs": [],
   "source": [
    "# числовые столбцы для StandardScaler()\n",
    "numeric = ['neg', 'neu', 'pos']"
   ]
  },
  {
   "cell_type": "markdown",
   "metadata": {
    "id": "L4il-TXTg6um"
   },
   "source": [
    "**Разбиение датасета на трейн и тест в соотношении 80% на 20%.**"
   ]
  },
  {
   "cell_type": "code",
   "execution_count": 29,
   "metadata": {
    "id": "XyQCHeFqg6um"
   },
   "outputs": [],
   "source": [
    "X_train, X_test, y_train, y_test = train_test_split(\n",
    "    features, target, test_size=0.2, stratify=target, random_state=RANDOM)"
   ]
  },
  {
   "cell_type": "markdown",
   "metadata": {
    "id": "8QBCwtZFg6um"
   },
   "source": [
    "**Параметр для кроссвалидации.**"
   ]
  },
  {
   "cell_type": "code",
   "execution_count": 30,
   "metadata": {
    "id": "m_7MQAk1g6um"
   },
   "outputs": [],
   "source": [
    "cv = StratifiedKFold(n_splits=5, shuffle=True, random_state=RANDOM)"
   ]
  },
  {
   "cell_type": "markdown",
   "metadata": {
    "id": "cozr4hSLg6un"
   },
   "source": [
    "#### Модель LogisticRegression"
   ]
  },
  {
   "cell_type": "markdown",
   "metadata": {
    "id": "A9h3VUG3g6un"
   },
   "source": [
    "**Пайплайн и сетка гиперпараметров.**"
   ]
  },
  {
   "cell_type": "code",
   "execution_count": 31,
   "metadata": {
    "id": "TNcF2wCpg6un"
   },
   "outputs": [],
   "source": [
    "transformer = ColumnTransformer(\n",
    "    [(\"scaler\", StandardScaler(), numeric),\n",
    "     ('tfidf', TfidfVectorizer(\n",
    "         ngram_range=(1, 2), max_df=0.8), 'text_lemm')\n",
    "     ])"
   ]
  },
  {
   "cell_type": "code",
   "execution_count": 32,
   "metadata": {
    "id": "HY9Gsy-Vg6un"
   },
   "outputs": [],
   "source": [
    "log_ppl_clf = Pipeline([('tranformer', transformer),\n",
    "                        ('log_clf',\n",
    "                         LogisticRegression(tol=0.001,\n",
    "                                            max_iter=10000,\n",
    "                                            class_weight='balanced',\n",
    "                                            penalty='l2',\n",
    "                                            random_state=RANDOM))])\n",
    "\n",
    "parameters_log = {\n",
    "    'log_clf__solver': ['lbfgs', 'liblinear'],\n",
    "    'log_clf__C': [1, 10, 100]\n",
    "}"
   ]
  },
  {
   "cell_type": "markdown",
   "metadata": {
    "id": "qEtwKeGVg6uo"
   },
   "source": [
    "**Обучение модели.**"
   ]
  },
  {
   "cell_type": "code",
   "execution_count": 33,
   "metadata": {
    "colab": {
     "base_uri": "https://localhost:8080/"
    },
    "id": "OdaNo24Pg6uo",
    "outputId": "e0e76f3b-4676-47a8-ab6f-ac156f3a89e1"
   },
   "outputs": [
    {
     "name": "stdout",
     "output_type": "stream",
     "text": [
      "Модель обучена!\n"
     ]
    }
   ],
   "source": [
    "model_log = GridSearchCV(log_ppl_clf, parameters_log,\n",
    "                         scoring='f1', cv=cv, n_jobs=-1).fit(X_train, y_train)\n",
    "print('Модель обучена!')"
   ]
  },
  {
   "cell_type": "markdown",
   "metadata": {
    "id": "130td-8Tg6uo"
   },
   "source": [
    "**Результат.**"
   ]
  },
  {
   "cell_type": "code",
   "execution_count": 34,
   "metadata": {
    "colab": {
     "base_uri": "https://localhost:8080/"
    },
    "id": "4QF_0jqTg6uo",
    "outputId": "26734c2f-cf9d-40e3-abb5-878bc0a1f0c0"
   },
   "outputs": [
    {
     "name": "stdout",
     "output_type": "stream",
     "text": [
      "Метрика F1 на трейне с кроссвалидацией и лучшие параметры:\n",
      "\n",
      "F1: 0.7681\n",
      "Лучшие параметры: {'log_clf__C': 100, 'log_clf__solver': 'liblinear'}\n"
     ]
    }
   ],
   "source": [
    "print('Метрика F1 на трейне с кроссвалидацией и лучшие параметры:\\n')\n",
    "print(\n",
    "    f'F1: {model_log.best_score_:.4f}\\nЛучшие параметры: {model_log.best_params_}'\n",
    ")"
   ]
  },
  {
   "cell_type": "markdown",
   "metadata": {
    "id": "UNQLcdkkg6up"
   },
   "source": [
    "#### Модель SGDClassifier"
   ]
  },
  {
   "cell_type": "markdown",
   "metadata": {
    "id": "Y8zb9dNLg6up"
   },
   "source": [
    "**Пайплайн и сетка гиперпараметров.**"
   ]
  },
  {
   "cell_type": "code",
   "execution_count": 35,
   "metadata": {
    "id": "WQUwYiVlg6up"
   },
   "outputs": [],
   "source": [
    "sgd_ppl_clf = Pipeline([('tranformer', transformer),\n",
    "                        ('sgd_clf',\n",
    "                         SGDClassifier(class_weight='balanced',\n",
    "                                       random_state=RANDOM))])\n",
    "\n",
    "parameters_sgd = {\n",
    "    'sgd_clf__loss': ['hinge', 'log_loss'],\n",
    "    'sgd_clf__penalty': ['l2', 'elasticnet']\n",
    "}"
   ]
  },
  {
   "cell_type": "markdown",
   "metadata": {
    "id": "kVE9xYhhg6up"
   },
   "source": [
    "**Обучение модели.**"
   ]
  },
  {
   "cell_type": "code",
   "execution_count": 36,
   "metadata": {
    "colab": {
     "base_uri": "https://localhost:8080/"
    },
    "id": "Tg7u4QVlg6up",
    "outputId": "8e506228-4f54-4181-fd48-6679ce51cc6b"
   },
   "outputs": [
    {
     "name": "stdout",
     "output_type": "stream",
     "text": [
      "Модель обучена!\n"
     ]
    }
   ],
   "source": [
    "model_sgd = GridSearchCV(sgd_ppl_clf,\n",
    "                         parameters_sgd,\n",
    "                         scoring='f1',\n",
    "                         cv=cv,\n",
    "                         n_jobs=-1).fit(X_train, y_train)\n",
    "print('Модель обучена!')"
   ]
  },
  {
   "cell_type": "markdown",
   "metadata": {
    "id": "tnOMOKwNg6uq"
   },
   "source": [
    "**Результат.**"
   ]
  },
  {
   "cell_type": "code",
   "execution_count": 37,
   "metadata": {
    "colab": {
     "base_uri": "https://localhost:8080/"
    },
    "id": "17-C4EQBg6uq",
    "outputId": "08241f5a-2193-453f-d9a4-981c4c8e93f0"
   },
   "outputs": [
    {
     "name": "stdout",
     "output_type": "stream",
     "text": [
      "Метрика F1 на трейне с кроссвалидацией и лучшие параметры:\n",
      "\n",
      "F1: 0.6871\n",
      "Лучшие параметры: {'sgd_clf__loss': 'hinge', 'sgd_clf__penalty': 'l2'}\n"
     ]
    }
   ],
   "source": [
    "print('Метрика F1 на трейне с кроссвалидацией и лучшие параметры:\\n')\n",
    "print(\n",
    "    f'F1: {model_sgd.best_score_:.4f}\\nЛучшие параметры: {model_sgd.best_params_}'\n",
    ")"
   ]
  },
  {
   "cell_type": "markdown",
   "metadata": {
    "id": "1otMC6-jg6uq"
   },
   "source": [
    "#### Модель LGBMClassifier"
   ]
  },
  {
   "cell_type": "markdown",
   "metadata": {
    "id": "VwyTOzspg6ur"
   },
   "source": [
    "**Пайплайн и сетка гиперпараметров.**"
   ]
  },
  {
   "cell_type": "code",
   "execution_count": 38,
   "metadata": {
    "id": "LAY0dT5xg6ur",
    "tags": []
   },
   "outputs": [],
   "source": [
    "lgbm_ppl_clf = Pipeline([('tranformer', transformer),\n",
    "                         ('lgbm_clf',\n",
    "                          LGBMClassifier(objective='',\n",
    "                                         class_weight='balanced',\n",
    "                                         random_state=RANDOM))])\n",
    "\n",
    "parameters_lgbm = {\n",
    "    'lgbm_clf__max_depth': [9, 13, 15],\n",
    "    'lgbm_clf__learning_rate': [0.01, 0.05, 0.1]\n",
    "}"
   ]
  },
  {
   "cell_type": "markdown",
   "metadata": {
    "id": "ZlA6mNobg6ur"
   },
   "source": [
    "**Обучение модели.**"
   ]
  },
  {
   "cell_type": "code",
   "execution_count": 39,
   "metadata": {
    "colab": {
     "base_uri": "https://localhost:8080/"
    },
    "id": "DQ8H4dsGg6ur",
    "outputId": "a26ebec2-6411-4416-a2d3-58ed3268a349",
    "tags": []
   },
   "outputs": [
    {
     "name": "stdout",
     "output_type": "stream",
     "text": [
      "Модель обучена!\n"
     ]
    }
   ],
   "source": [
    "model_lgbm = GridSearchCV(lgbm_ppl_clf,\n",
    "                          parameters_lgbm,\n",
    "                          scoring='f1',\n",
    "                          cv=cv,\n",
    "                          n_jobs=1).fit(X_train, y_train)\n",
    "print('Модель обучена!')"
   ]
  },
  {
   "cell_type": "markdown",
   "metadata": {
    "id": "49iRQbtsg6us"
   },
   "source": [
    "**Результат.**"
   ]
  },
  {
   "cell_type": "code",
   "execution_count": 40,
   "metadata": {
    "colab": {
     "base_uri": "https://localhost:8080/"
    },
    "id": "o7tVK5wcg6us",
    "outputId": "cfe92785-20ac-4a23-8314-40fe47fb5e02",
    "tags": []
   },
   "outputs": [
    {
     "name": "stdout",
     "output_type": "stream",
     "text": [
      "Метрика F1 на трейне с кроссвалидацией и лучшие параметры:\n",
      "\n",
      "F1: 0.6117\n",
      "Лучшие параметры: {'lgbm_clf__learning_rate': 0.1, 'lgbm_clf__max_depth': 15}\n"
     ]
    }
   ],
   "source": [
    "print('Метрика F1 на трейне с кроссвалидацией и лучшие параметры:\\n')\n",
    "print(\n",
    "    f'F1: {model_lgbm.best_score_:.4f}\\nЛучшие параметры: {model_lgbm.best_params_}'\n",
    ")"
   ]
  },
  {
   "cell_type": "markdown",
   "metadata": {
    "id": "CseklMPVg6us"
   },
   "source": [
    "### Bert. AutoModel - `unitary/toxic-bert`"
   ]
  },
  {
   "cell_type": "markdown",
   "metadata": {
    "id": "muZ8hdPlg6us"
   },
   "source": [
    "Вычисления будут производится на GPU."
   ]
  },
  {
   "cell_type": "code",
   "execution_count": 41,
   "metadata": {
    "colab": {
     "base_uri": "https://localhost:8080/"
    },
    "id": "uNPJ_4Y6g6ut",
    "outputId": "689e19c1-d5b5-4510-f18c-7017a9e649a9",
    "tags": []
   },
   "outputs": [
    {
     "data": {
      "text/plain": [
       "device(type='cuda', index=0)"
      ]
     },
     "execution_count": 41,
     "metadata": {},
     "output_type": "execute_result"
    }
   ],
   "source": [
    "device = torch.device(\"cuda:0\") if torch.cuda.is_available() else torch.device(\"cpu\")\n",
    "device"
   ]
  },
  {
   "cell_type": "markdown",
   "metadata": {
    "id": "rtXjjzEVg6ut"
   },
   "source": [
    "**Загрузка предобученной модели AutoModel.**"
   ]
  },
  {
   "cell_type": "code",
   "execution_count": 42,
   "metadata": {
    "id": "VS_0yEC9g6uu",
    "tags": []
   },
   "outputs": [],
   "source": [
    "model_class, tokenizer_class, pretrained_weights = (\n",
    "    AutoModel, AutoTokenizer, 'unitary/toxic-bert')"
   ]
  },
  {
   "cell_type": "markdown",
   "metadata": {
    "id": "QOGJhzcTg6uu"
   },
   "source": [
    "**Инициализируем токенизатор как объект класса `AutoTokenizer()`.**"
   ]
  },
  {
   "cell_type": "code",
   "execution_count": 43,
   "metadata": {
    "colab": {
     "base_uri": "https://localhost:8080/",
     "height": 145,
     "referenced_widgets": [
      "77c29f2833e14b3f8323ef201b393b08",
      "78c50f63a7a74562a8dfdead2f485be5",
      "695f3ced062f4189a1dcb054c84fdf38",
      "3cfef90973b24bc1b403e3965a16a17b",
      "973b363b49474509b99f37b010389fcd",
      "f77d1859f9f64415a67ab97d43b53266",
      "da66e65f3a6d4e1585ead8017f8fef5f",
      "f64f0fb964914231880c487e2a1ed895",
      "1637a929afdf4ef8ab6ccf039a378ec1",
      "02142ab897564b37a2ad4f4b5ef34dcc",
      "cfd59dc4ac6f49069eb8137ee5feb904",
      "6d110eda72984e8685369ec69bb806cb",
      "705d96fde99949d7828ed867db17ab41",
      "529a83e8d6724236a84bce6eba79c60c",
      "1b735cb9813f4ca894625460aefa1f27",
      "3084ff431b0740ee90dbbf988d386353",
      "41c41c0dfe92450c820453fa08ce136d",
      "67d9c9792eef44f981f5c77785d500d2",
      "aa7de4d866c44b74aa3f068dea22f761",
      "61e72e3fcb6845b0a8cbfc23170fa38f",
      "3f43187928a84fb88d2819e450cdefb4",
      "c0a7e6b67e944e84bb9e621eac19975d",
      "f19539b0a546408bb43f2e68dbda10db",
      "56896c329fec4b85b9783370c2e3ecc9",
      "aec5de15d0c2454aa7e5e90949c2a1ed",
      "571e531df3f74811b61ee832097ced11",
      "11256a262b54467790eb19542c0e9e81",
      "48a95e39ff704c77abebfc74a76d4918",
      "5b0e3e5db0d047ac817d083d736be8e0",
      "b0c11ba9d4ff41789a02fc4eec4a49cf",
      "1212e0512ecf4dfbba3b1008ead17c30",
      "5373bbf0d0ce4f6e99c6e2a6f2532692",
      "6e3ef6a51131457db2e7a7d4feff32e7",
      "305d547956b241bbb98e98fa27a5f0d2",
      "d07f9711d67b48808dfd8e293c2a5242",
      "5200d757c354457d903d0156d8b2f99a",
      "1944f0e442cf4b3f87460aaabecd89b9",
      "8c9d03c202794e4489894dcdc25d3c77",
      "2bf1737d0c514195aeec1b1640684338",
      "8fcd99492a1241749b0deb42c24dd172",
      "a0d936a04f3f48b3b3da8f4b2fd69e8e",
      "8d872cf856184bc2a2ab55092441b86a",
      "43318362a2594b8e9ba1a05cd89b0b8a",
      "9c1e0d7b9fe948b498b01fefb3fe2f99"
     ]
    },
    "id": "sL02HuIhg6uu",
    "outputId": "6c690c49-050e-4caa-a32c-99a5f0897ad6",
    "tags": []
   },
   "outputs": [
    {
     "data": {
      "application/vnd.jupyter.widget-view+json": {
       "model_id": "77c29f2833e14b3f8323ef201b393b08",
       "version_major": 2,
       "version_minor": 0
      },
      "text/plain": [
       "Downloading (…)okenizer_config.json:   0%|          | 0.00/174 [00:00<?, ?B/s]"
      ]
     },
     "metadata": {},
     "output_type": "display_data"
    },
    {
     "data": {
      "application/vnd.jupyter.widget-view+json": {
       "model_id": "6d110eda72984e8685369ec69bb806cb",
       "version_major": 2,
       "version_minor": 0
      },
      "text/plain": [
       "Downloading (…)lve/main/config.json:   0%|          | 0.00/811 [00:00<?, ?B/s]"
      ]
     },
     "metadata": {},
     "output_type": "display_data"
    },
    {
     "data": {
      "application/vnd.jupyter.widget-view+json": {
       "model_id": "f19539b0a546408bb43f2e68dbda10db",
       "version_major": 2,
       "version_minor": 0
      },
      "text/plain": [
       "Downloading (…)solve/main/vocab.txt:   0%|          | 0.00/232k [00:00<?, ?B/s]"
      ]
     },
     "metadata": {},
     "output_type": "display_data"
    },
    {
     "data": {
      "application/vnd.jupyter.widget-view+json": {
       "model_id": "305d547956b241bbb98e98fa27a5f0d2",
       "version_major": 2,
       "version_minor": 0
      },
      "text/plain": [
       "Downloading (…)cial_tokens_map.json:   0%|          | 0.00/112 [00:00<?, ?B/s]"
      ]
     },
     "metadata": {},
     "output_type": "display_data"
    }
   ],
   "source": [
    "tokenizer = tokenizer_class.from_pretrained(pretrained_weights)"
   ]
  },
  {
   "cell_type": "markdown",
   "metadata": {
    "id": "ZWZTx5hug6uu"
   },
   "source": [
    "**Инициализируем модель как объект класса `AutoModel()`.**"
   ]
  },
  {
   "cell_type": "code",
   "execution_count": 44,
   "metadata": {
    "colab": {
     "base_uri": "https://localhost:8080/",
     "height": 124,
     "referenced_widgets": [
      "ba761077051745368f738c59328b6bed",
      "44eb60bba81d466889ca54e06d1acaf5",
      "2dfcd02a27b348c59f06524ed969f993",
      "71ad09dcf7654a38985493bbf7f8b020",
      "f7471ec6405a4d6fae50d8d3b2c11104",
      "0d59cf52abe14cae9204e14124bcfd3c",
      "7836f2c3df3744189bfa562293c61ab3",
      "2020ef6deee74239b7d0d3654c5373b2",
      "ac04b74d3f0d44acbb272d890e31ac05",
      "171fee616020461a920e28bc974cba33",
      "f21a6c62a0db431d8b5463b6101c119c"
     ]
    },
    "id": "8T21JC_Vg6uv",
    "outputId": "fec0d7b2-4a9d-465b-b8f6-086a6fe13f7f",
    "tags": []
   },
   "outputs": [
    {
     "data": {
      "application/vnd.jupyter.widget-view+json": {
       "model_id": "ba761077051745368f738c59328b6bed",
       "version_major": 2,
       "version_minor": 0
      },
      "text/plain": [
       "Downloading pytorch_model.bin:   0%|          | 0.00/438M [00:00<?, ?B/s]"
      ]
     },
     "metadata": {},
     "output_type": "display_data"
    },
    {
     "name": "stderr",
     "output_type": "stream",
     "text": [
      "Some weights of the model checkpoint at unitary/toxic-bert were not used when initializing BertModel: ['classifier.bias', 'classifier.weight']\n",
      "- This IS expected if you are initializing BertModel from the checkpoint of a model trained on another task or with another architecture (e.g. initializing a BertForSequenceClassification model from a BertForPreTraining model).\n",
      "- This IS NOT expected if you are initializing BertModel from the checkpoint of a model that you expect to be exactly identical (initializing a BertForSequenceClassification model from a BertForSequenceClassification model).\n"
     ]
    }
   ],
   "source": [
    "model = model_class.from_pretrained(pretrained_weights)"
   ]
  },
  {
   "cell_type": "markdown",
   "metadata": {
    "id": "liccx5G2g6uv"
   },
   "source": [
    "**Преобразование текста в номера токенов из словаря методом `encode()`.**\n",
    "\n",
    "Для корректной работы модели указан аргумент `add_special_tokens`, равный `True`. Это значит, что к любому преобразуемому тексту добавляется токен начала (101) и токен конца текста (102).\n",
    "\n",
    "Также устанавливаем `truncation=True`, чтобы исключить токены, превышающие `max_length`."
   ]
  },
  {
   "cell_type": "code",
   "execution_count": 45,
   "metadata": {
    "colab": {
     "base_uri": "https://localhost:8080/"
    },
    "id": "n89Chsjjg6uv",
    "outputId": "f198c85e-1fef-4fa9-f3d4-76ac8504a767",
    "tags": []
   },
   "outputs": [
    {
     "name": "stderr",
     "output_type": "stream",
     "text": [
      "Токкенизация DistilBert: 100%|██████████| 80000/80000 [00:33<00:00, 2402.40it/s]\n"
     ]
    }
   ],
   "source": [
    "tqdm.pandas(desc=\"Токкенизация DistilBert\")\n",
    "tokenized = data_sample['clear_text'].progress_apply(\n",
    "    lambda x: tokenizer.encode(\n",
    "        x, add_special_tokens=True, max_length=512, truncation=True))"
   ]
  },
  {
   "cell_type": "markdown",
   "metadata": {
    "id": "61_1vvnOg6uv"
   },
   "source": [
    "Применим метод `padding`, чтобы после токенизации длины исходных текстов в корпусе были равными и поясним модели, что нули не несут значимой информации. Это нужно для компоненты модели, которая называется «внимание». Отбросим эти токены и «создадим маску» для действительно важных токенов, то есть укажем нулевые и не нулевые значения"
   ]
  },
  {
   "cell_type": "code",
   "execution_count": 46,
   "metadata": {
    "code_folding": [],
    "id": "SZ-j734Og6uw",
    "tags": []
   },
   "outputs": [],
   "source": [
    "max_len = 0\n",
    "for i in tokenized.values:\n",
    "    if len(i) > max_len:\n",
    "        max_len = len(i)"
   ]
  },
  {
   "cell_type": "code",
   "execution_count": 47,
   "metadata": {
    "id": "bd9yq0yUg6uw",
    "tags": []
   },
   "outputs": [],
   "source": [
    "padded = np.array([i + [0] * (max_len - len(i)) for i in tokenized.values])\n",
    "\n",
    "attention_mask = np.where(padded != 0, 1, 0)"
   ]
  },
  {
   "cell_type": "markdown",
   "metadata": {
    "id": "LVIyIYJOg6uw"
   },
   "source": [
    "**Размер батча.**"
   ]
  },
  {
   "cell_type": "code",
   "execution_count": 48,
   "metadata": {
    "id": "DE0wS71Yg6uw",
    "tags": []
   },
   "outputs": [],
   "source": [
    "batch_size = 100"
   ]
  },
  {
   "cell_type": "markdown",
   "metadata": {
    "id": "G0AM3C0Kg6ux"
   },
   "source": [
    "**Цикл по батчам.**"
   ]
  },
  {
   "cell_type": "code",
   "execution_count": 49,
   "metadata": {
    "colab": {
     "base_uri": "https://localhost:8080/",
     "height": 49,
     "referenced_widgets": [
      "a6d1b20fb54a4b118cdbbb2ac7c99f0c",
      "52ce3195b3c94c0aa2944afb96e87986",
      "f80f157f91374804b37ba9aa2fd52e01",
      "df05ed52416f4acfb783a073d84b84f1",
      "2baa788fe5f142f58c3e7cb6991440df",
      "89633220e08841539d367bbf05c1c045",
      "2f761dba4bc34c098273a783a29fddf3",
      "230ea882beec4282bc637ba48c4bfcab",
      "1297c66ea2504ba9afb4488871a3d60e",
      "e7b569dbce7f4855819f1afffc9af871",
      "16ff63ffcbac4eae8155b270ceff2320"
     ]
    },
    "id": "h9WLfFc7g6ux",
    "outputId": "7aac5a30-aeb7-4f12-d72e-1050f3e07075",
    "tags": []
   },
   "outputs": [
    {
     "data": {
      "application/vnd.jupyter.widget-view+json": {
       "model_id": "a6d1b20fb54a4b118cdbbb2ac7c99f0c",
       "version_major": 2,
       "version_minor": 0
      },
      "text/plain": [
       "  0%|          | 0/800 [00:00<?, ?it/s]"
      ]
     },
     "metadata": {},
     "output_type": "display_data"
    }
   ],
   "source": [
    "embeddings = []\n",
    "\n",
    "model.to(device)\n",
    "\n",
    "for i in notebook.tqdm(range(padded.shape[0] // batch_size)):\n",
    "    batch = torch.LongTensor(padded[batch_size * i:batch_size * (i + 1)])\n",
    "    attention_mask_batch = torch.LongTensor(\n",
    "        attention_mask[batch_size * i:batch_size * (i + 1)])\n",
    "\n",
    "    with torch.no_grad():\n",
    "        batch_embeddings = model(\n",
    "            batch.to(device), attention_mask=attention_mask_batch.to(device))\n",
    "\n",
    "    embeddings.append(batch_embeddings[0][:, 0, :].cpu().numpy())"
   ]
  },
  {
   "cell_type": "markdown",
   "metadata": {
    "id": "sSdiKh1Ag6ux"
   },
   "source": [
    "Время создания эмбеддингов: 45 минут на GPU 16 GB. ✅"
   ]
  },
  {
   "cell_type": "markdown",
   "metadata": {
    "id": "YHzBXWy5g6ux"
   },
   "source": [
    "**Сбор эмбеддингов в матрицу признаков вызовом функции concatenate().**"
   ]
  },
  {
   "cell_type": "code",
   "execution_count": 50,
   "metadata": {
    "id": "LS5oViuOg6uy"
   },
   "outputs": [],
   "source": [
    "features = np.concatenate(embeddings)\n",
    "target = data_sample['toxic']"
   ]
  },
  {
   "cell_type": "markdown",
   "metadata": {
    "id": "kpnip80fg6uy"
   },
   "source": [
    "**Разбиение на трейн и тест в соотношении 80% на 20%.**"
   ]
  },
  {
   "cell_type": "code",
   "execution_count": 51,
   "metadata": {
    "id": "IAujEZdJg6uy"
   },
   "outputs": [],
   "source": [
    "X_train_bert, X_test_bert, y_train_bert, y_test_bert = train_test_split(\n",
    "    features, target, test_size=.2, stratify=target, random_state=RANDOM)"
   ]
  },
  {
   "cell_type": "markdown",
   "metadata": {
    "id": "-5lXOpPzg6uy"
   },
   "source": [
    "#### Модель LogisticRegression"
   ]
  },
  {
   "cell_type": "markdown",
   "metadata": {
    "id": "TS-V7c4Xg6uz"
   },
   "source": [
    "**Инициализация модели.**"
   ]
  },
  {
   "cell_type": "code",
   "execution_count": 52,
   "metadata": {
    "id": "MmlnxZtWg6uz",
    "tags": []
   },
   "outputs": [],
   "source": [
    "model_log_bert = LogisticRegression(tol=0.001,\n",
    "                                    max_iter=10000,\n",
    "                                    class_weight='balanced',\n",
    "                                    penalty='l2',\n",
    "                                    random_state=RANDOM)"
   ]
  },
  {
   "cell_type": "markdown",
   "metadata": {
    "id": "TLlYa8COg6uz"
   },
   "source": [
    "**Сетка гиперпараметров.**"
   ]
  },
  {
   "cell_type": "code",
   "execution_count": 53,
   "metadata": {
    "id": "-yUK5iatg6uz",
    "tags": []
   },
   "outputs": [],
   "source": [
    "parameters_log_bert = {\n",
    "            'solver': ['lbfgs', 'liblinear'],\n",
    "            'C': [1, 10, 1000]\n",
    "}"
   ]
  },
  {
   "cell_type": "markdown",
   "metadata": {
    "id": "MqsVagK8g6uz"
   },
   "source": [
    "**Обучение модели.**"
   ]
  },
  {
   "cell_type": "markdown",
   "metadata": {
    "id": "mWGCNlbcg6u0"
   },
   "source": [
    "При обучении может всплыть вот такое предупреждение:\n",
    "\n",
    "    huggingface/tokenizers: The current process just got forked, after parallelism has already been used. Disabling parallelism to avoid deadlocks...\n",
    "    To disable this warning, you can either:\n",
    "        - Avoid using `tokenizers` before the fork if possible\n",
    "        - Explicitly set the environment variable TOKENIZERS_PARALLELISM=(true | false)\n",
    "        \n",
    "Его можно проигнорировать или убрать след. образом."
   ]
  },
  {
   "cell_type": "code",
   "execution_count": 54,
   "metadata": {
    "id": "hLyLJtbkg6u0"
   },
   "outputs": [],
   "source": [
    "os.environ[\"TOKENIZERS_PARALLELISM\"] = \"false\""
   ]
  },
  {
   "cell_type": "code",
   "execution_count": 55,
   "metadata": {
    "colab": {
     "base_uri": "https://localhost:8080/"
    },
    "id": "Xk4C3Atqg6u0",
    "outputId": "0938110e-8088-4683-efa0-f6b8eb13d509",
    "tags": []
   },
   "outputs": [
    {
     "name": "stdout",
     "output_type": "stream",
     "text": [
      "Модель обучена!\n"
     ]
    }
   ],
   "source": [
    "model_log_bert_final = GridSearchCV(model_log_bert,\n",
    "                                    parameters_log_bert,\n",
    "                                    scoring='f1',\n",
    "                                    cv=cv,\n",
    "                                    n_jobs=-1).fit(X_train_bert, y_train_bert)\n",
    "print('Модель обучена!')"
   ]
  },
  {
   "cell_type": "markdown",
   "metadata": {
    "id": "obOkIsPHg6u1"
   },
   "source": [
    "**Результат.**"
   ]
  },
  {
   "cell_type": "code",
   "execution_count": 56,
   "metadata": {
    "colab": {
     "base_uri": "https://localhost:8080/"
    },
    "id": "oyqdliUWg6u1",
    "outputId": "4233936d-9cab-4cef-fbaa-9e1cb20e0e06",
    "tags": []
   },
   "outputs": [
    {
     "name": "stdout",
     "output_type": "stream",
     "text": [
      "Метрика F1 на трейне с кроссвалидацией и лучшие параметры:\n",
      "\n",
      "F1: 0.8909\n",
      "Лучшие параметры: {'C': 1, 'solver': 'lbfgs'}\n"
     ]
    }
   ],
   "source": [
    "print('Метрика F1 на трейне с кроссвалидацией и лучшие параметры:\\n')\n",
    "print(\n",
    "    f'F1: {model_log_bert_final.best_score_:.4f}\\nЛучшие параметры: {model_log_bert_final.best_params_}'\n",
    ")"
   ]
  },
  {
   "cell_type": "markdown",
   "metadata": {
    "id": "FubdbSujg6u1"
   },
   "source": [
    "#### Модель SGDClassifier"
   ]
  },
  {
   "cell_type": "markdown",
   "metadata": {
    "id": "IHQYOEWzg6u1"
   },
   "source": [
    "**Инициализация модели.**"
   ]
  },
  {
   "cell_type": "code",
   "execution_count": 57,
   "metadata": {
    "id": "_Vit4FpQg6u2",
    "tags": []
   },
   "outputs": [],
   "source": [
    "model_sgd_bert = SGDClassifier(class_weight='balanced', random_state=RANDOM)"
   ]
  },
  {
   "cell_type": "markdown",
   "metadata": {
    "id": "ZT3JlvfVg6u2"
   },
   "source": [
    "**Сетка гиперпараметров.**"
   ]
  },
  {
   "cell_type": "code",
   "execution_count": 58,
   "metadata": {
    "id": "SC4bEKzXg6u2",
    "tags": []
   },
   "outputs": [],
   "source": [
    "parameters_sgd_bert = {\n",
    "    'loss': ['hinge', 'log_loss'],\n",
    "    'penalty': ['l2', 'elasticnet']\n",
    "}"
   ]
  },
  {
   "cell_type": "markdown",
   "metadata": {
    "id": "0-3hcuA0g6u2"
   },
   "source": [
    "**Обучение модели.**"
   ]
  },
  {
   "cell_type": "code",
   "execution_count": 59,
   "metadata": {
    "colab": {
     "base_uri": "https://localhost:8080/"
    },
    "id": "0IVOOE_ng6u2",
    "outputId": "b819b57d-876e-41e4-84b7-7f426b638798",
    "tags": []
   },
   "outputs": [
    {
     "name": "stdout",
     "output_type": "stream",
     "text": [
      "Модель обучена!\n"
     ]
    }
   ],
   "source": [
    "model_sgd_bert_final = GridSearchCV(model_sgd_bert,\n",
    "                                    parameters_sgd_bert,\n",
    "                                    scoring='f1',\n",
    "                                    cv=cv,\n",
    "                                    n_jobs=-1).fit(X_train_bert, y_train_bert)\n",
    "print('Модель обучена!')"
   ]
  },
  {
   "cell_type": "markdown",
   "metadata": {
    "id": "26CpUVuOg6u3"
   },
   "source": [
    "**Результат.**"
   ]
  },
  {
   "cell_type": "code",
   "execution_count": 60,
   "metadata": {
    "colab": {
     "base_uri": "https://localhost:8080/"
    },
    "id": "78RqDpKXg6u3",
    "outputId": "31650965-3776-47da-93f2-62c57d843fc6",
    "tags": []
   },
   "outputs": [
    {
     "name": "stdout",
     "output_type": "stream",
     "text": [
      "Метрика F1 на трейне с кроссвалидацией и лучшие параметры:\n",
      "\n",
      "F1: 0.8869\n",
      "Лучшие параметры: {'loss': 'hinge', 'penalty': 'elasticnet'}\n"
     ]
    }
   ],
   "source": [
    "print('Метрика F1 на трейне с кроссвалидацией и лучшие параметры:\\n')\n",
    "print(\n",
    "    f'F1: {model_sgd_bert_final.best_score_:.4f}\\nЛучшие параметры: {model_sgd_bert_final.best_params_}'\n",
    ")"
   ]
  },
  {
   "cell_type": "markdown",
   "metadata": {
    "id": "AQ9F7b31g6u3"
   },
   "source": [
    "#### Модель LGBMClassifier"
   ]
  },
  {
   "cell_type": "markdown",
   "metadata": {
    "id": "GJBjfxrWg6u4"
   },
   "source": [
    "**Инициализация модели.**"
   ]
  },
  {
   "cell_type": "code",
   "execution_count": 61,
   "metadata": {
    "id": "0UoJc4_tg6u4",
    "tags": []
   },
   "outputs": [],
   "source": [
    "model_lgbm_bert = LGBMClassifier(objective='binary',\n",
    "                                 class_weight='balanced',\n",
    "                                 random_state=RANDOM)"
   ]
  },
  {
   "cell_type": "markdown",
   "metadata": {
    "id": "DlKzVaxJg6u4"
   },
   "source": [
    "**Сетка гиперпараметров.**"
   ]
  },
  {
   "cell_type": "code",
   "execution_count": 62,
   "metadata": {
    "id": "3mtbMNI7g6u4",
    "tags": []
   },
   "outputs": [],
   "source": [
    "parameters_lgbm_bert = {\n",
    "    'max_depth': [9, 13, 15],\n",
    "    'learning_rate': [0.01, 0.05, 0.1]\n",
    "}"
   ]
  },
  {
   "cell_type": "markdown",
   "metadata": {
    "id": "T77IIATQg6u5"
   },
   "source": [
    "**Обучение модели.**"
   ]
  },
  {
   "cell_type": "code",
   "execution_count": 63,
   "metadata": {
    "colab": {
     "base_uri": "https://localhost:8080/"
    },
    "id": "dbT7SZQ_g6u5",
    "outputId": "e1f24581-59be-4566-efc9-ff1c14221428",
    "tags": []
   },
   "outputs": [
    {
     "name": "stdout",
     "output_type": "stream",
     "text": [
      "Модель обучена!\n"
     ]
    }
   ],
   "source": [
    "model_lgbm_bert_final = GridSearchCV(model_lgbm_bert,\n",
    "                                     parameters_lgbm_bert,\n",
    "                                     scoring='f1',\n",
    "                                     cv=cv,\n",
    "                                     n_jobs=1).fit(X_train_bert, y_train_bert)\n",
    "print('Модель обучена!')"
   ]
  },
  {
   "cell_type": "markdown",
   "metadata": {
    "id": "cqXAX_4Qg6u5"
   },
   "source": [
    "**Результат.**"
   ]
  },
  {
   "cell_type": "code",
   "execution_count": 64,
   "metadata": {
    "colab": {
     "base_uri": "https://localhost:8080/"
    },
    "id": "GpmG66eSg6u5",
    "outputId": "058e4ac5-433f-45e1-8379-7183c97db273",
    "tags": []
   },
   "outputs": [
    {
     "name": "stdout",
     "output_type": "stream",
     "text": [
      "Метрика F1 на трейне с кроссвалидацией и лучшие параметры:\n",
      "\n",
      "F1: 0.9143\n",
      "Лучшие параметры: {'learning_rate': 0.1, 'max_depth': 15}\n"
     ]
    }
   ],
   "source": [
    "print('Метрика F1 на трейне с кроссвалидацией и лучшие параметры:\\n')\n",
    "print(\n",
    "    f'F1: {model_lgbm_bert_final.best_score_:.4f}\\nЛучшие параметры: {model_lgbm_bert_final.best_params_}'\n",
    ")"
   ]
  },
  {
   "cell_type": "markdown",
   "metadata": {
    "id": "R9QASnONg6u5"
   },
   "source": [
    "**Результирующая таблица с метриками.**"
   ]
  },
  {
   "cell_type": "code",
   "execution_count": 65,
   "metadata": {
    "colab": {
     "base_uri": "https://localhost:8080/",
     "height": 143
    },
    "id": "pdAB9-RJg6u6",
    "outputId": "a8113d36-3541-4c77-a206-341ac44faac6",
    "tags": []
   },
   "outputs": [
    {
     "data": {
      "text/html": [
       "\n",
       "\n",
       "  <div id=\"df-bd4036b6-7b61-406c-8eee-96cadfb1f33b\">\n",
       "    <div class=\"colab-df-container\">\n",
       "      <div>\n",
       "<style scoped>\n",
       "    .dataframe tbody tr th:only-of-type {\n",
       "        vertical-align: middle;\n",
       "    }\n",
       "\n",
       "    .dataframe tbody tr th {\n",
       "        vertical-align: top;\n",
       "    }\n",
       "\n",
       "    .dataframe thead th {\n",
       "        text-align: right;\n",
       "    }\n",
       "</style>\n",
       "<table border=\"1\" class=\"dataframe\">\n",
       "  <thead>\n",
       "    <tr style=\"text-align: right;\">\n",
       "      <th></th>\n",
       "      <th>F1 после кроссвалидации (TF-IDF)</th>\n",
       "      <th>F1 после кроссвалидации (AutoModel - unitary/toxic-bert)</th>\n",
       "    </tr>\n",
       "  </thead>\n",
       "  <tbody>\n",
       "    <tr>\n",
       "      <th>LogisticRegression</th>\n",
       "      <td>0.7681</td>\n",
       "      <td>0.8909</td>\n",
       "    </tr>\n",
       "    <tr>\n",
       "      <th>SGDClassifier</th>\n",
       "      <td>0.6871</td>\n",
       "      <td>0.8869</td>\n",
       "    </tr>\n",
       "    <tr>\n",
       "      <th>LGBMClassifier</th>\n",
       "      <td>0.6117</td>\n",
       "      <td>0.9143</td>\n",
       "    </tr>\n",
       "  </tbody>\n",
       "</table>\n",
       "</div>\n",
       "      <button class=\"colab-df-convert\" onclick=\"convertToInteractive('df-bd4036b6-7b61-406c-8eee-96cadfb1f33b')\"\n",
       "              title=\"Convert this dataframe to an interactive table.\"\n",
       "              style=\"display:none;\">\n",
       "\n",
       "  <svg xmlns=\"http://www.w3.org/2000/svg\" height=\"24px\"viewBox=\"0 0 24 24\"\n",
       "       width=\"24px\">\n",
       "    <path d=\"M0 0h24v24H0V0z\" fill=\"none\"/>\n",
       "    <path d=\"M18.56 5.44l.94 2.06.94-2.06 2.06-.94-2.06-.94-.94-2.06-.94 2.06-2.06.94zm-11 1L8.5 8.5l.94-2.06 2.06-.94-2.06-.94L8.5 2.5l-.94 2.06-2.06.94zm10 10l.94 2.06.94-2.06 2.06-.94-2.06-.94-.94-2.06-.94 2.06-2.06.94z\"/><path d=\"M17.41 7.96l-1.37-1.37c-.4-.4-.92-.59-1.43-.59-.52 0-1.04.2-1.43.59L10.3 9.45l-7.72 7.72c-.78.78-.78 2.05 0 2.83L4 21.41c.39.39.9.59 1.41.59.51 0 1.02-.2 1.41-.59l7.78-7.78 2.81-2.81c.8-.78.8-2.07 0-2.86zM5.41 20L4 18.59l7.72-7.72 1.47 1.35L5.41 20z\"/>\n",
       "  </svg>\n",
       "      </button>\n",
       "\n",
       "\n",
       "\n",
       "    <div id=\"df-ea8ef926-42a4-40d0-bbee-c5d0a73d23a0\">\n",
       "      <button class=\"colab-df-quickchart\" onclick=\"quickchart('df-ea8ef926-42a4-40d0-bbee-c5d0a73d23a0')\"\n",
       "              title=\"Suggest charts.\"\n",
       "              style=\"display:none;\">\n",
       "\n",
       "<svg xmlns=\"http://www.w3.org/2000/svg\" height=\"24px\"viewBox=\"0 0 24 24\"\n",
       "     width=\"24px\">\n",
       "    <g>\n",
       "        <path d=\"M19 3H5c-1.1 0-2 .9-2 2v14c0 1.1.9 2 2 2h14c1.1 0 2-.9 2-2V5c0-1.1-.9-2-2-2zM9 17H7v-7h2v7zm4 0h-2V7h2v10zm4 0h-2v-4h2v4z\"/>\n",
       "    </g>\n",
       "</svg>\n",
       "      </button>\n",
       "    </div>\n",
       "\n",
       "<style>\n",
       "  .colab-df-quickchart {\n",
       "    background-color: #E8F0FE;\n",
       "    border: none;\n",
       "    border-radius: 50%;\n",
       "    cursor: pointer;\n",
       "    display: none;\n",
       "    fill: #1967D2;\n",
       "    height: 32px;\n",
       "    padding: 0 0 0 0;\n",
       "    width: 32px;\n",
       "  }\n",
       "\n",
       "  .colab-df-quickchart:hover {\n",
       "    background-color: #E2EBFA;\n",
       "    box-shadow: 0px 1px 2px rgba(60, 64, 67, 0.3), 0px 1px 3px 1px rgba(60, 64, 67, 0.15);\n",
       "    fill: #174EA6;\n",
       "  }\n",
       "\n",
       "  [theme=dark] .colab-df-quickchart {\n",
       "    background-color: #3B4455;\n",
       "    fill: #D2E3FC;\n",
       "  }\n",
       "\n",
       "  [theme=dark] .colab-df-quickchart:hover {\n",
       "    background-color: #434B5C;\n",
       "    box-shadow: 0px 1px 3px 1px rgba(0, 0, 0, 0.15);\n",
       "    filter: drop-shadow(0px 1px 2px rgba(0, 0, 0, 0.3));\n",
       "    fill: #FFFFFF;\n",
       "  }\n",
       "</style>\n",
       "\n",
       "    <script>\n",
       "      async function quickchart(key) {\n",
       "        const containerElement = document.querySelector('#' + key);\n",
       "        const charts = await google.colab.kernel.invokeFunction(\n",
       "            'suggestCharts', [key], {});\n",
       "      }\n",
       "    </script>\n",
       "\n",
       "      <script>\n",
       "\n",
       "function displayQuickchartButton(domScope) {\n",
       "  let quickchartButtonEl =\n",
       "    domScope.querySelector('#df-ea8ef926-42a4-40d0-bbee-c5d0a73d23a0 button.colab-df-quickchart');\n",
       "  quickchartButtonEl.style.display =\n",
       "    google.colab.kernel.accessAllowed ? 'block' : 'none';\n",
       "}\n",
       "\n",
       "        displayQuickchartButton(document);\n",
       "      </script>\n",
       "      <style>\n",
       "    .colab-df-container {\n",
       "      display:flex;\n",
       "      flex-wrap:wrap;\n",
       "      gap: 12px;\n",
       "    }\n",
       "\n",
       "    .colab-df-convert {\n",
       "      background-color: #E8F0FE;\n",
       "      border: none;\n",
       "      border-radius: 50%;\n",
       "      cursor: pointer;\n",
       "      display: none;\n",
       "      fill: #1967D2;\n",
       "      height: 32px;\n",
       "      padding: 0 0 0 0;\n",
       "      width: 32px;\n",
       "    }\n",
       "\n",
       "    .colab-df-convert:hover {\n",
       "      background-color: #E2EBFA;\n",
       "      box-shadow: 0px 1px 2px rgba(60, 64, 67, 0.3), 0px 1px 3px 1px rgba(60, 64, 67, 0.15);\n",
       "      fill: #174EA6;\n",
       "    }\n",
       "\n",
       "    [theme=dark] .colab-df-convert {\n",
       "      background-color: #3B4455;\n",
       "      fill: #D2E3FC;\n",
       "    }\n",
       "\n",
       "    [theme=dark] .colab-df-convert:hover {\n",
       "      background-color: #434B5C;\n",
       "      box-shadow: 0px 1px 3px 1px rgba(0, 0, 0, 0.15);\n",
       "      filter: drop-shadow(0px 1px 2px rgba(0, 0, 0, 0.3));\n",
       "      fill: #FFFFFF;\n",
       "    }\n",
       "  </style>\n",
       "\n",
       "      <script>\n",
       "        const buttonEl =\n",
       "          document.querySelector('#df-bd4036b6-7b61-406c-8eee-96cadfb1f33b button.colab-df-convert');\n",
       "        buttonEl.style.display =\n",
       "          google.colab.kernel.accessAllowed ? 'block' : 'none';\n",
       "\n",
       "        async function convertToInteractive(key) {\n",
       "          const element = document.querySelector('#df-bd4036b6-7b61-406c-8eee-96cadfb1f33b');\n",
       "          const dataTable =\n",
       "            await google.colab.kernel.invokeFunction('convertToInteractive',\n",
       "                                                     [key], {});\n",
       "          if (!dataTable) return;\n",
       "\n",
       "          const docLinkHtml = 'Like what you see? Visit the ' +\n",
       "            '<a target=\"_blank\" href=https://colab.research.google.com/notebooks/data_table.ipynb>data table notebook</a>'\n",
       "            + ' to learn more about interactive tables.';\n",
       "          element.innerHTML = '';\n",
       "          dataTable['output_type'] = 'display_data';\n",
       "          await google.colab.output.renderOutput(dataTable, element);\n",
       "          const docLink = document.createElement('div');\n",
       "          docLink.innerHTML = docLinkHtml;\n",
       "          element.appendChild(docLink);\n",
       "        }\n",
       "      </script>\n",
       "    </div>\n",
       "  </div>\n"
      ],
      "text/plain": [
       "                    F1 после кроссвалидации (TF-IDF)  \\\n",
       "LogisticRegression                            0.7681   \n",
       "SGDClassifier                                 0.6871   \n",
       "LGBMClassifier                                0.6117   \n",
       "\n",
       "                    F1 после кроссвалидации (AutoModel - unitary/toxic-bert)  \n",
       "LogisticRegression                                             0.8909         \n",
       "SGDClassifier                                                  0.8869         \n",
       "LGBMClassifier                                                 0.9143         "
      ]
     },
     "execution_count": 65,
     "metadata": {},
     "output_type": "execute_result"
    }
   ],
   "source": [
    "data_f1 = {\n",
    "    'F1 после кроссвалидации (TF-IDF)': [\n",
    "        round(model_log.best_score_, 4),\n",
    "        round(model_sgd.best_score_, 4),\n",
    "        round(model_lgbm.best_score_, 4)\n",
    "    ],\n",
    "    'F1 после кроссвалидации (AutoModel - unitary/toxic-bert)': [\n",
    "        round(model_log_bert_final.best_score_, 4),\n",
    "        round(model_sgd_bert_final.best_score_, 4),\n",
    "        round(model_lgbm_bert_final.best_score_, 4)\n",
    "    ]\n",
    "}\n",
    "\n",
    "data_result = pd.DataFrame(\n",
    "    data_f1, index=['LogisticRegression', 'SGDClassifier', 'LGBMClassifier'])\n",
    "\n",
    "data_result"
   ]
  },
  {
   "cell_type": "markdown",
   "metadata": {
    "id": "nTRBUPz2g6u6"
   },
   "source": [
    "Лучший результат у модели **`LGBMClassifier (BERT)`**.\n",
    "\n",
    "Значение метрики `F1` - **0.9143**."
   ]
  },
  {
   "cell_type": "code",
   "execution_count": 66,
   "metadata": {
    "id": "BpAnmdWZg6u6",
    "tags": []
   },
   "outputs": [],
   "source": [
    "best_model = model_lgbm_bert_final"
   ]
  },
  {
   "cell_type": "markdown",
   "metadata": {
    "id": "-P3PBuUvg6u6"
   },
   "source": [
    "## Тестирование лучшей модели"
   ]
  },
  {
   "cell_type": "markdown",
   "metadata": {
    "id": "YN7b5yjkg6u6"
   },
   "source": [
    "Для тестирования берем модель с лучшим показателем.\n",
    "\n",
    "Это модель - **`LGBMClassifier (BERT)`**."
   ]
  },
  {
   "cell_type": "markdown",
   "metadata": {
    "id": "hchvFGAag6u7"
   },
   "source": [
    "**Получение метрики и предсказанных значений на тестовой выборке.**"
   ]
  },
  {
   "cell_type": "code",
   "execution_count": 67,
   "metadata": {
    "colab": {
     "base_uri": "https://localhost:8080/"
    },
    "id": "HBoKBVuPg6u7",
    "outputId": "ed1d6102-0065-4970-a00c-3b7a0f805d93",
    "tags": []
   },
   "outputs": [
    {
     "name": "stdout",
     "output_type": "stream",
     "text": [
      "Метрика F1 лучшей модели на тестовой выборке: 0.908\n"
     ]
    }
   ],
   "source": [
    "predicted = best_model.best_estimator_.predict(X_test_bert)\n",
    "\n",
    "f1_test = round(f1_score(predicted, y_test_bert), 4)\n",
    "\n",
    "print(f\"Метрика F1 лучшей модели на тестовой выборке: {f1_test}\")"
   ]
  },
  {
   "cell_type": "markdown",
   "metadata": {
    "id": "7oxRTzlpg6u7"
   },
   "source": [
    "**График полноты и точности.**"
   ]
  },
  {
   "cell_type": "code",
   "execution_count": 68,
   "metadata": {
    "colab": {
     "base_uri": "https://localhost:8080/",
     "height": 472
    },
    "id": "49VJcm9_g6u7",
    "outputId": "3463444f-8799-4335-f307-e5c0b761d8d6",
    "tags": []
   },
   "outputs": [
    {
     "data": {
      "image/png": "[encoded data removed]",
      "text/plain": [
       "<Figure size 640x480 with 1 Axes>"
      ]
     },
     "metadata": {},
     "output_type": "display_data"
    }
   ],
   "source": [
    "target_score = best_model.best_estimator_.predict_proba(X_test_bert)[:, 1]\n",
    "\n",
    "precision, recall, thresholds = precision_recall_curve(y_test_bert,\n",
    "                                                       target_score)\n",
    "\n",
    "\n",
    "# create precision recall curve\n",
    "fig, ax = plt.subplots()\n",
    "ax.plot(recall, precision, color='purple')\n",
    "\n",
    "# add axis labels to plot\n",
    "ax.set_title('Precision-Recall Curve')\n",
    "ax.set_ylabel('Precision')\n",
    "ax.set_xlabel('Recall')\n",
    "\n",
    "# display plot\n",
    "plt.show()"
   ]
  },
  {
   "cell_type": "markdown",
   "metadata": {
    "id": "O--4l82Ng6u8"
   },
   "source": [
    "**Матрица ошибок.**"
   ]
  },
  {
   "cell_type": "code",
   "execution_count": 69,
   "metadata": {
    "id": "KSAOrmBcg6u8",
    "tags": []
   },
   "outputs": [],
   "source": [
    "conf_matrix = confusion_matrix(y_test_bert, predicted)"
   ]
  },
  {
   "cell_type": "code",
   "execution_count": 70,
   "metadata": {
    "colab": {
     "base_uri": "https://localhost:8080/",
     "height": 718
    },
    "id": "_KTxPDDzg6u8",
    "outputId": "5d71fd06-7b82-431c-d874-9da3429805a9",
    "tags": []
   },
   "outputs": [
    {
     "data": {
      "image/png": "[encoded data removed]",
      "text/plain": [
       "<Figure size 1200x800 with 2 Axes>"
      ]
     },
     "metadata": {},
     "output_type": "display_data"
    }
   ],
   "source": [
    "plt.figure(figsize=(12, 8))\n",
    "\n",
    "classes = [\n",
    "    \"True Negative\", \"False Positive\", \"False Negative\", \"True Positive\"\n",
    "]\n",
    "\n",
    "values = [\"{0:0.0f}\".format(x) for x in conf_matrix.flatten()]\n",
    "\n",
    "percentages = [\n",
    "    \"{0:.1%}\".format(x) for x in conf_matrix.flatten() / np.sum(conf_matrix)\n",
    "]\n",
    "\n",
    "combined = [f\"{i}\\n{j}\\n{k}\" for i, j, k in zip(classes, values, percentages)]\n",
    "combined = np.asarray(combined).reshape(2, 2)\n",
    "\n",
    "ax = sns.heatmap(conf_matrix, annot=combined, fmt=\"\", cmap='YlGnBu')\n",
    "\n",
    "ax.set(title='Confusion Matrix')\n",
    "ax.set(xlabel='Predicted', ylabel='Actual')\n",
    "\n",
    "plt.show()"
   ]
  },
  {
   "cell_type": "code",
   "execution_count": 71,
   "metadata": {
    "colab": {
     "base_uri": "https://localhost:8080/"
    },
    "id": "H6ub-2_Kg6u8",
    "outputId": "6a992839-96b8-4259-c347-b4f708c218b0",
    "tags": []
   },
   "outputs": [
    {
     "name": "stdout",
     "output_type": "stream",
     "text": [
      "Всего предсказаний: 16000\n",
      "Правильно предсказанные ответы (Accuracy): 0.9806\n",
      "Ошибки в прогнозах: 0.0194\n",
      "Recall: 0.9491\n",
      "Precision: 0.8702\n",
      "F1: 0.9079\n"
     ]
    }
   ],
   "source": [
    "TN = conf_matrix[0][0]\n",
    "FP = conf_matrix[0][1]\n",
    "FN = conf_matrix[1][0]\n",
    "TP = conf_matrix[1][1]\n",
    "\n",
    "total = TN + TP + FP + FN\n",
    "\n",
    "acc = round((TP + TN) / total, 4)\n",
    "recall = round(TP / (TP + FN), 4)\n",
    "precision = round(TP / (TP + FP), 4)\n",
    "\n",
    "print('Всего предсказаний:', total)\n",
    "print(f'Правильно предсказанные ответы (Accuracy): {acc}')\n",
    "print(f'Ошибки в прогнозах: {round(1 - acc, 4)}')\n",
    "print(f'Recall: {recall}')\n",
    "print(f'Precision: {precision}')\n",
    "print(f'F1: {round(2 * (precision * recall) / (precision + recall), 4)}')"
   ]
  },
  {
   "cell_type": "markdown",
   "metadata": {
    "id": "2YG5knsgg6u9"
   },
   "source": [
    "Что в итоге:\n",
    "\n",
    "1. По главной диагонали (от верхнего левого угла) выстроены правильные прогнозы:\n",
    "   \n",
    "   - **TN** в левом верхнем углу. 14161 правильных ответов. Статус нормального комментария соответствует истине.\n",
    "   - **TP** в правом нижнем углу. 1529 правильных ответов. Статус токсичного комментария спрогнозирован верно.\n",
    "\n",
    "2. Вне главной диагонали — ошибочные варианты:\n",
    "\n",
    "   - **FP** в правом верхнем углу. 228 ошибок ошибочных предсказаний первого рода. Был нормальный комментарий - стал токсичный.\n",
    "   - **FN** в левом нижнем углу. 82 ошибочных предсказаний второго рода. Был токсичный комментарий - стал нормальным."
   ]
  },
  {
   "cell_type": "markdown",
   "metadata": {
    "id": "mYjLGat1g6u9"
   },
   "source": [
    "## Выводы"
   ]
  },
  {
   "cell_type": "markdown",
   "metadata": {
    "id": "wmBIvlG-g6u9"
   },
   "source": [
    "В результате исследования были обучены три модели.\n",
    "\n",
    "- LogisticRegression;\n",
    "- SGDClassifier;\n",
    "- LGBMClassifier.\n",
    "\n",
    "Обучение было в двух вариантах:\n",
    "\n",
    "- при помощи `TF-IDF` (`TfidfVectorizer`);\n",
    "- при помощи эмбеддингов `BERT`.\n",
    "\n",
    "Лучший результат у логистической регрессии (**`LGBMClassifier (BERT)`**.).\n",
    "\n",
    "- `F1` на тренировочной выборке с кроссвалидацией : **0.9143**;\n",
    "- `F1` на тестовой выборке : **0.9079**.\n",
    "\n",
    "Метрика заявленная в условии достигнута."
   ]
  }
 ],
 "metadata": {
  "accelerator": "GPU",
  "colab": {
   "gpuType": "T4",
   "provenance": []
  },
  "kernelspec": {
   "display_name": "Python 3 (ipykernel)",
   "language": "python",
   "name": "python3"
  },
  "language_info": {
   "codemirror_mode": {
    "name": "ipython",
    "version": 3
   },
   "file_extension": ".py",
   "mimetype": "text/x-python",
   "name": "python",
   "nbconvert_exporter": "python",
   "pygments_lexer": "ipython3",
   "version": "3.10.9"
  },
  "latex_envs": {
   "LaTeX_envs_menu_present": true,
   "autoclose": false,
   "autocomplete": true,
   "bibliofile": "biblio.bib",
   "cite_by": "apalike",
   "current_citInitial": 1,
   "eqLabelWithNumbers": true,
   "eqNumInitial": 1,
   "hotkeys": {
    "equation": "Ctrl-E",
    "itemize": "Ctrl-I"
   },
   "labels_anchors": false,
   "latex_user_defs": false,
   "report_style_numbering": false,
   "user_envs_cfg": false
  },
  "toc": {
   "base_numbering": 1,
   "nav_menu": {
    "height": "336px",
    "width": "358px"
   },
   "number_sections": true,
   "sideBar": true,
   "skip_h1_title": true,
   "title_cell": "Содержание",
   "title_sidebar": "Содержание",
   "toc_cell": false,
   "toc_position": {
    "height": "calc(100% - 180px)",
    "left": "10px",
    "top": "150px",
    "width": "302.391px"
   },
   "toc_section_display": true,
   "toc_window_display": false
  },
  "varInspector": {
   "cols": {
    "lenName": 16,
    "lenType": 16,
    "lenVar": 40
   },
   "kernels_config": {
    "python": {
     "delete_cmd_postfix": "",
     "delete_cmd_prefix": "del ",
     "library": "var_list.py",
     "varRefreshCmd": "print(var_dic_list())"
    },
    "r": {
     "delete_cmd_postfix": ") ",
     "delete_cmd_prefix": "rm(",
     "library": "var_list.r",
     "varRefreshCmd": "cat(var_dic_list()) "
    }
   },
   "types_to_exclude": [
    "module",
    "function",
    "builtin_function_or_method",
    "instance",
    "_Feature"
   ],
   "window_display": false
  },
  "widgets": {
   "application/vnd.jupyter.widget-state+json": {
    "02142ab897564b37a2ad4f4b5ef34dcc": {
     "model_module": "@jupyter-widgets/base",
     "model_module_version": "1.2.0",
     "model_name": "LayoutModel",
     "state": {
      "_model_module": "@jupyter-widgets/base",
      "_model_module_version": "1.2.0",
      "_model_name": "LayoutModel",
      "_view_count": null,
      "_view_module": "@jupyter-widgets/base",
      "_view_module_version": "1.2.0",
      "_view_name": "LayoutView",
      "align_content": null,
      "align_items": null,
      "align_self": null,
      "border": null,
      "bottom": null,
      "display": null,
      "flex": null,
      "flex_flow": null,
      "grid_area": null,
      "grid_auto_columns": null,
      "grid_auto_flow": null,
      "grid_auto_rows": null,
      "grid_column": null,
      "grid_gap": null,
      "grid_row": null,
      "grid_template_areas": null,
      "grid_template_columns": null,
      "grid_template_rows": null,
      "height": null,
      "justify_content": null,
      "justify_items": null,
      "left": null,
      "margin": null,
      "max_height": null,
      "max_width": null,
      "min_height": null,
      "min_width": null,
      "object_fit": null,
      "object_position": null,
      "order": null,
      "overflow": null,
      "overflow_x": null,
      "overflow_y": null,
      "padding": null,
      "right": null,
      "top": null,
      "visibility": null,
      "width": null
     }
    },
    "0aa84367938e40018b78cc74bf725ed5": {
     "model_module": "@jupyter-widgets/base",
     "model_module_version": "1.2.0",
     "model_name": "LayoutModel",
     "state": {
      "_model_module": "@jupyter-widgets/base",
      "_model_module_version": "1.2.0",
      "_model_name": "LayoutModel",
      "_view_count": null,
      "_view_module": "@jupyter-widgets/base",
      "_view_module_version": "1.2.0",
      "_view_name": "LayoutView",
      "align_content": null,
      "align_items": null,
      "align_self": null,
      "border": null,
      "bottom": null,
      "display": null,
      "flex": null,
      "flex_flow": null,
      "grid_area": null,
      "grid_auto_columns": null,
      "grid_auto_flow": null,
      "grid_auto_rows": null,
      "grid_column": null,
      "grid_gap": null,
      "grid_row": null,
      "grid_template_areas": null,
      "grid_template_columns": null,
      "grid_template_rows": null,
      "height": null,
      "justify_content": null,
      "justify_items": null,
      "left": null,
      "margin": null,
      "max_height": null,
      "max_width": null,
      "min_height": null,
      "min_width": null,
      "object_fit": null,
      "object_position": null,
      "order": null,
      "overflow": null,
      "overflow_x": null,
      "overflow_y": null,
      "padding": null,
      "right": null,
      "top": null,
      "visibility": null,
      "width": null
     }
    },
    "0d59cf52abe14cae9204e14124bcfd3c": {
     "model_module": "@jupyter-widgets/base",
     "model_module_version": "1.2.0",
     "model_name": "LayoutModel",
     "state": {
      "_model_module": "@jupyter-widgets/base",
      "_model_module_version": "1.2.0",
      "_model_name": "LayoutModel",
      "_view_count": null,
      "_view_module": "@jupyter-widgets/base",
      "_view_module_version": "1.2.0",
      "_view_name": "LayoutView",
      "align_content": null,
      "align_items": null,
      "align_self": null,
      "border": null,
      "bottom": null,
      "display": null,
      "flex": null,
      "flex_flow": null,
      "grid_area": null,
      "grid_auto_columns": null,
      "grid_auto_flow": null,
      "grid_auto_rows": null,
      "grid_column": null,
      "grid_gap": null,
      "grid_row": null,
      "grid_template_areas": null,
      "grid_template_columns": null,
      "grid_template_rows": null,
      "height": null,
      "justify_content": null,
      "justify_items": null,
      "left": null,
      "margin": null,
      "max_height": null,
      "max_width": null,
      "min_height": null,
      "min_width": null,
      "object_fit": null,
      "object_position": null,
      "order": null,
      "overflow": null,
      "overflow_x": null,
      "overflow_y": null,
      "padding": null,
      "right": null,
      "top": null,
      "visibility": null,
      "width": null
     }
    },
    "101380017bec4913a5e379dc9ac14f22": {
     "model_module": "@jupyter-widgets/controls",
     "model_module_version": "1.5.0",
     "model_name": "VBoxModel",
     "state": {
      "_dom_classes": [],
      "_model_module": "@jupyter-widgets/controls",
      "_model_module_version": "1.5.0",
      "_model_name": "VBoxModel",
      "_view_count": null,
      "_view_module": "@jupyter-widgets/controls",
      "_view_module_version": "1.5.0",
      "_view_name": "VBoxView",
      "box_style": "",
      "children": [
       "IPY_MODEL_eaee91db53b0403ca72275a987844dee"
      ],
      "layout": "IPY_MODEL_433db860413349a795c0086377f5cb65"
     }
    },
    "11256a262b54467790eb19542c0e9e81": {
     "model_module": "@jupyter-widgets/base",
     "model_module_version": "1.2.0",
     "model_name": "LayoutModel",
     "state": {
      "_model_module": "@jupyter-widgets/base",
      "_model_module_version": "1.2.0",
      "_model_name": "LayoutModel",
      "_view_count": null,
      "_view_module": "@jupyter-widgets/base",
      "_view_module_version": "1.2.0",
      "_view_name": "LayoutView",
      "align_content": null,
      "align_items": null,
      "align_self": null,
      "border": null,
      "bottom": null,
      "display": null,
      "flex": null,
      "flex_flow": null,
      "grid_area": null,
      "grid_auto_columns": null,
      "grid_auto_flow": null,
      "grid_auto_rows": null,
      "grid_column": null,
      "grid_gap": null,
      "grid_row": null,
      "grid_template_areas": null,
      "grid_template_columns": null,
      "grid_template_rows": null,
      "height": null,
      "justify_content": null,
      "justify_items": null,
      "left": null,
      "margin": null,
      "max_height": null,
      "max_width": null,
      "min_height": null,
      "min_width": null,
      "object_fit": null,
      "object_position": null,
      "order": null,
      "overflow": null,
      "overflow_x": null,
      "overflow_y": null,
      "padding": null,
      "right": null,
      "top": null,
      "visibility": null,
      "width": null
     }
    },
    "1212e0512ecf4dfbba3b1008ead17c30": {
     "model_module": "@jupyter-widgets/controls",
     "model_module_version": "1.5.0",
     "model_name": "ProgressStyleModel",
     "state": {
      "_model_module": "@jupyter-widgets/controls",
      "_model_module_version": "1.5.0",
      "_model_name": "ProgressStyleModel",
      "_view_count": null,
      "_view_module": "@jupyter-widgets/base",
      "_view_module_version": "1.2.0",
      "_view_name": "StyleView",
      "bar_color": null,
      "description_width": ""
     }
    },
    "1297c66ea2504ba9afb4488871a3d60e": {
     "model_module": "@jupyter-widgets/controls",
     "model_module_version": "1.5.0",
     "model_name": "ProgressStyleModel",
     "state": {
      "_model_module": "@jupyter-widgets/controls",
      "_model_module_version": "1.5.0",
      "_model_name": "ProgressStyleModel",
      "_view_count": null,
      "_view_module": "@jupyter-widgets/base",
      "_view_module_version": "1.2.0",
      "_view_name": "StyleView",
      "bar_color": null,
      "description_width": ""
     }
    },
    "1637a929afdf4ef8ab6ccf039a378ec1": {
     "model_module": "@jupyter-widgets/controls",
     "model_module_version": "1.5.0",
     "model_name": "ProgressStyleModel",
     "state": {
      "_model_module": "@jupyter-widgets/controls",
      "_model_module_version": "1.5.0",
      "_model_name": "ProgressStyleModel",
      "_view_count": null,
      "_view_module": "@jupyter-widgets/base",
      "_view_module_version": "1.2.0",
      "_view_name": "StyleView",
      "bar_color": null,
      "description_width": ""
     }
    },
    "16ff63ffcbac4eae8155b270ceff2320": {
     "model_module": "@jupyter-widgets/controls",
     "model_module_version": "1.5.0",
     "model_name": "DescriptionStyleModel",
     "state": {
      "_model_module": "@jupyter-widgets/controls",
      "_model_module_version": "1.5.0",
      "_model_name": "DescriptionStyleModel",
      "_view_count": null,
      "_view_module": "@jupyter-widgets/base",
      "_view_module_version": "1.2.0",
      "_view_name": "StyleView",
      "description_width": ""
     }
    },
    "171fee616020461a920e28bc974cba33": {
     "model_module": "@jupyter-widgets/base",
     "model_module_version": "1.2.0",
     "model_name": "LayoutModel",
     "state": {
      "_model_module": "@jupyter-widgets/base",
      "_model_module_version": "1.2.0",
      "_model_name": "LayoutModel",
      "_view_count": null,
      "_view_module": "@jupyter-widgets/base",
      "_view_module_version": "1.2.0",
      "_view_name": "LayoutView",
      "align_content": null,
      "align_items": null,
      "align_self": null,
      "border": null,
      "bottom": null,
      "display": null,
      "flex": null,
      "flex_flow": null,
      "grid_area": null,
      "grid_auto_columns": null,
      "grid_auto_flow": null,
      "grid_auto_rows": null,
      "grid_column": null,
      "grid_gap": null,
      "grid_row": null,
      "grid_template_areas": null,
      "grid_template_columns": null,
      "grid_template_rows": null,
      "height": null,
      "justify_content": null,
      "justify_items": null,
      "left": null,
      "margin": null,
      "max_height": null,
      "max_width": null,
      "min_height": null,
      "min_width": null,
      "object_fit": null,
      "object_position": null,
      "order": null,
      "overflow": null,
      "overflow_x": null,
      "overflow_y": null,
      "padding": null,
      "right": null,
      "top": null,
      "visibility": null,
      "width": null
     }
    },
    "1944f0e442cf4b3f87460aaabecd89b9": {
     "model_module": "@jupyter-widgets/controls",
     "model_module_version": "1.5.0",
     "model_name": "HTMLModel",
     "state": {
      "_dom_classes": [],
      "_model_module": "@jupyter-widgets/controls",
      "_model_module_version": "1.5.0",
      "_model_name": "HTMLModel",
      "_view_count": null,
      "_view_module": "@jupyter-widgets/controls",
      "_view_module_version": "1.5.0",
      "_view_name": "HTMLView",
      "description": "",
      "description_tooltip": null,
      "layout": "IPY_MODEL_43318362a2594b8e9ba1a05cd89b0b8a",
      "placeholder": "​",
      "style": "IPY_MODEL_9c1e0d7b9fe948b498b01fefb3fe2f99",
      "value": " 112/112 [00:00&lt;00:00, 6.59kB/s]"
     }
    },
    "1b735cb9813f4ca894625460aefa1f27": {
     "model_module": "@jupyter-widgets/controls",
     "model_module_version": "1.5.0",
     "model_name": "HTMLModel",
     "state": {
      "_dom_classes": [],
      "_model_module": "@jupyter-widgets/controls",
      "_model_module_version": "1.5.0",
      "_model_name": "HTMLModel",
      "_view_count": null,
      "_view_module": "@jupyter-widgets/controls",
      "_view_module_version": "1.5.0",
      "_view_name": "HTMLView",
      "description": "",
      "description_tooltip": null,
      "layout": "IPY_MODEL_3f43187928a84fb88d2819e450cdefb4",
      "placeholder": "​",
      "style": "IPY_MODEL_c0a7e6b67e944e84bb9e621eac19975d",
      "value": " 811/811 [00:00&lt;00:00, 52.7kB/s]"
     }
    },
    "2020ef6deee74239b7d0d3654c5373b2": {
     "model_module": "@jupyter-widgets/base",
     "model_module_version": "1.2.0",
     "model_name": "LayoutModel",
     "state": {
      "_model_module": "@jupyter-widgets/base",
      "_model_module_version": "1.2.0",
      "_model_name": "LayoutModel",
      "_view_count": null,
      "_view_module": "@jupyter-widgets/base",
      "_view_module_version": "1.2.0",
      "_view_name": "LayoutView",
      "align_content": null,
      "align_items": null,
      "align_self": null,
      "border": null,
      "bottom": null,
      "display": null,
      "flex": null,
      "flex_flow": null,
      "grid_area": null,
      "grid_auto_columns": null,
      "grid_auto_flow": null,
      "grid_auto_rows": null,
      "grid_column": null,
      "grid_gap": null,
      "grid_row": null,
      "grid_template_areas": null,
      "grid_template_columns": null,
      "grid_template_rows": null,
      "height": null,
      "justify_content": null,
      "justify_items": null,
      "left": null,
      "margin": null,
      "max_height": null,
      "max_width": null,
      "min_height": null,
      "min_width": null,
      "object_fit": null,
      "object_position": null,
      "order": null,
      "overflow": null,
      "overflow_x": null,
      "overflow_y": null,
      "padding": null,
      "right": null,
      "top": null,
      "visibility": null,
      "width": null
     }
    },
    "230ea882beec4282bc637ba48c4bfcab": {
     "model_module": "@jupyter-widgets/base",
     "model_module_version": "1.2.0",
     "model_name": "LayoutModel",
     "state": {
      "_model_module": "@jupyter-widgets/base",
      "_model_module_version": "1.2.0",
      "_model_name": "LayoutModel",
      "_view_count": null,
      "_view_module": "@jupyter-widgets/base",
      "_view_module_version": "1.2.0",
      "_view_name": "LayoutView",
      "align_content": null,
      "align_items": null,
      "align_self": null,
      "border": null,
      "bottom": null,
      "display": null,
      "flex": null,
      "flex_flow": null,
      "grid_area": null,
      "grid_auto_columns": null,
      "grid_auto_flow": null,
      "grid_auto_rows": null,
      "grid_column": null,
      "grid_gap": null,
      "grid_row": null,
      "grid_template_areas": null,
      "grid_template_columns": null,
      "grid_template_rows": null,
      "height": null,
      "justify_content": null,
      "justify_items": null,
      "left": null,
      "margin": null,
      "max_height": null,
      "max_width": null,
      "min_height": null,
      "min_width": null,
      "object_fit": null,
      "object_position": null,
      "order": null,
      "overflow": null,
      "overflow_x": null,
      "overflow_y": null,
      "padding": null,
      "right": null,
      "top": null,
      "visibility": null,
      "width": null
     }
    },
    "2baa788fe5f142f58c3e7cb6991440df": {
     "model_module": "@jupyter-widgets/base",
     "model_module_version": "1.2.0",
     "model_name": "LayoutModel",
     "state": {
      "_model_module": "@jupyter-widgets/base",
      "_model_module_version": "1.2.0",
      "_model_name": "LayoutModel",
      "_view_count": null,
      "_view_module": "@jupyter-widgets/base",
      "_view_module_version": "1.2.0",
      "_view_name": "LayoutView",
      "align_content": null,
      "align_items": null,
      "align_self": null,
      "border": null,
      "bottom": null,
      "display": null,
      "flex": null,
      "flex_flow": null,
      "grid_area": null,
      "grid_auto_columns": null,
      "grid_auto_flow": null,
      "grid_auto_rows": null,
      "grid_column": null,
      "grid_gap": null,
      "grid_row": null,
      "grid_template_areas": null,
      "grid_template_columns": null,
      "grid_template_rows": null,
      "height": null,
      "justify_content": null,
      "justify_items": null,
      "left": null,
      "margin": null,
      "max_height": null,
      "max_width": null,
      "min_height": null,
      "min_width": null,
      "object_fit": null,
      "object_position": null,
      "order": null,
      "overflow": null,
      "overflow_x": null,
      "overflow_y": null,
      "padding": null,
      "right": null,
      "top": null,
      "visibility": null,
      "width": null
     }
    },
    "2bf1737d0c514195aeec1b1640684338": {
     "model_module": "@jupyter-widgets/base",
     "model_module_version": "1.2.0",
     "model_name": "LayoutModel",
     "state": {
      "_model_module": "@jupyter-widgets/base",
      "_model_module_version": "1.2.0",
      "_model_name": "LayoutModel",
      "_view_count": null,
      "_view_module": "@jupyter-widgets/base",
      "_view_module_version": "1.2.0",
      "_view_name": "LayoutView",
      "align_content": null,
      "align_items": null,
      "align_self": null,
      "border": null,
      "bottom": null,
      "display": null,
      "flex": null,
      "flex_flow": null,
      "grid_area": null,
      "grid_auto_columns": null,
      "grid_auto_flow": null,
      "grid_auto_rows": null,
      "grid_column": null,
      "grid_gap": null,
      "grid_row": null,
      "grid_template_areas": null,
      "grid_template_columns": null,
      "grid_template_rows": null,
      "height": null,
      "justify_content": null,
      "justify_items": null,
      "left": null,
      "margin": null,
      "max_height": null,
      "max_width": null,
      "min_height": null,
      "min_width": null,
      "object_fit": null,
      "object_position": null,
      "order": null,
      "overflow": null,
      "overflow_x": null,
      "overflow_y": null,
      "padding": null,
      "right": null,
      "top": null,
      "visibility": null,
      "width": null
     }
    },
    "2bfcdc4f00884034b727bb555ee9c1af": {
     "model_module": "@jupyter-widgets/base",
     "model_module_version": "1.2.0",
     "model_name": "LayoutModel",
     "state": {
      "_model_module": "@jupyter-widgets/base",
      "_model_module_version": "1.2.0",
      "_model_name": "LayoutModel",
      "_view_count": null,
      "_view_module": "@jupyter-widgets/base",
      "_view_module_version": "1.2.0",
      "_view_name": "LayoutView",
      "align_content": null,
      "align_items": null,
      "align_self": null,
      "border": null,
      "bottom": null,
      "display": null,
      "flex": null,
      "flex_flow": null,
      "grid_area": null,
      "grid_auto_columns": null,
      "grid_auto_flow": null,
      "grid_auto_rows": null,
      "grid_column": null,
      "grid_gap": null,
      "grid_row": null,
      "grid_template_areas": null,
      "grid_template_columns": null,
      "grid_template_rows": null,
      "height": null,
      "justify_content": null,
      "justify_items": null,
      "left": null,
      "margin": null,
      "max_height": null,
      "max_width": null,
      "min_height": null,
      "min_width": null,
      "object_fit": null,
      "object_position": null,
      "order": null,
      "overflow": null,
      "overflow_x": null,
      "overflow_y": null,
      "padding": null,
      "right": null,
      "top": null,
      "visibility": null,
      "width": null
     }
    },
    "2d44575f168d47c8af47dd3501358f1c": {
     "model_module": "@jupyter-widgets/controls",
     "model_module_version": "1.5.0",
     "model_name": "VBoxModel",
     "state": {
      "_dom_classes": [],
      "_model_module": "@jupyter-widgets/controls",
      "_model_module_version": "1.5.0",
      "_model_name": "VBoxModel",
      "_view_count": null,
      "_view_module": "@jupyter-widgets/controls",
      "_view_module_version": "1.5.0",
      "_view_name": "VBoxView",
      "box_style": "",
      "children": [
       "IPY_MODEL_3835ba19b8504dbb950ba11876102d0c"
      ],
      "layout": "IPY_MODEL_d1fd074b553b4ee29bc4c3b1c60cb282"
     }
    },
    "2dfcd02a27b348c59f06524ed969f993": {
     "model_module": "@jupyter-widgets/controls",
     "model_module_version": "1.5.0",
     "model_name": "FloatProgressModel",
     "state": {
      "_dom_classes": [],
      "_model_module": "@jupyter-widgets/controls",
      "_model_module_version": "1.5.0",
      "_model_name": "FloatProgressModel",
      "_view_count": null,
      "_view_module": "@jupyter-widgets/controls",
      "_view_module_version": "1.5.0",
      "_view_name": "ProgressView",
      "bar_style": "success",
      "description": "",
      "description_tooltip": null,
      "layout": "IPY_MODEL_2020ef6deee74239b7d0d3654c5373b2",
      "max": 438033929,
      "min": 0,
      "orientation": "horizontal",
      "style": "IPY_MODEL_ac04b74d3f0d44acbb272d890e31ac05",
      "value": 438033929
     }
    },
    "2f761dba4bc34c098273a783a29fddf3": {
     "model_module": "@jupyter-widgets/controls",
     "model_module_version": "1.5.0",
     "model_name": "DescriptionStyleModel",
     "state": {
      "_model_module": "@jupyter-widgets/controls",
      "_model_module_version": "1.5.0",
      "_model_name": "DescriptionStyleModel",
      "_view_count": null,
      "_view_module": "@jupyter-widgets/base",
      "_view_module_version": "1.2.0",
      "_view_name": "StyleView",
      "description_width": ""
     }
    },
    "305d547956b241bbb98e98fa27a5f0d2": {
     "model_module": "@jupyter-widgets/controls",
     "model_module_version": "1.5.0",
     "model_name": "HBoxModel",
     "state": {
      "_dom_classes": [],
      "_model_module": "@jupyter-widgets/controls",
      "_model_module_version": "1.5.0",
      "_model_name": "HBoxModel",
      "_view_count": null,
      "_view_module": "@jupyter-widgets/controls",
      "_view_module_version": "1.5.0",
      "_view_name": "HBoxView",
      "box_style": "",
      "children": [
       "IPY_MODEL_d07f9711d67b48808dfd8e293c2a5242",
       "IPY_MODEL_5200d757c354457d903d0156d8b2f99a",
       "IPY_MODEL_1944f0e442cf4b3f87460aaabecd89b9"
      ],
      "layout": "IPY_MODEL_8c9d03c202794e4489894dcdc25d3c77"
     }
    },
    "3084ff431b0740ee90dbbf988d386353": {
     "model_module": "@jupyter-widgets/base",
     "model_module_version": "1.2.0",
     "model_name": "LayoutModel",
     "state": {
      "_model_module": "@jupyter-widgets/base",
      "_model_module_version": "1.2.0",
      "_model_name": "LayoutModel",
      "_view_count": null,
      "_view_module": "@jupyter-widgets/base",
      "_view_module_version": "1.2.0",
      "_view_name": "LayoutView",
      "align_content": null,
      "align_items": null,
      "align_self": null,
      "border": null,
      "bottom": null,
      "display": null,
      "flex": null,
      "flex_flow": null,
      "grid_area": null,
      "grid_auto_columns": null,
      "grid_auto_flow": null,
      "grid_auto_rows": null,
      "grid_column": null,
      "grid_gap": null,
      "grid_row": null,
      "grid_template_areas": null,
      "grid_template_columns": null,
      "grid_template_rows": null,
      "height": null,
      "justify_content": null,
      "justify_items": null,
      "left": null,
      "margin": null,
      "max_height": null,
      "max_width": null,
      "min_height": null,
      "min_width": null,
      "object_fit": null,
      "object_position": null,
      "order": null,
      "overflow": null,
      "overflow_x": null,
      "overflow_y": null,
      "padding": null,
      "right": null,
      "top": null,
      "visibility": null,
      "width": null
     }
    },
    "342a1a1e65a344a98fd768819698b4b1": {
     "model_module": "@jupyter-widgets/controls",
     "model_module_version": "1.5.0",
     "model_name": "DescriptionStyleModel",
     "state": {
      "_model_module": "@jupyter-widgets/controls",
      "_model_module_version": "1.5.0",
      "_model_name": "DescriptionStyleModel",
      "_view_count": null,
      "_view_module": "@jupyter-widgets/base",
      "_view_module_version": "1.2.0",
      "_view_name": "StyleView",
      "description_width": ""
     }
    },
    "355965de697c4519b1749aab43dd81e7": {
     "model_module": "@jupyter-widgets/controls",
     "model_module_version": "1.5.0",
     "model_name": "LabelModel",
     "state": {
      "_dom_classes": [],
      "_model_module": "@jupyter-widgets/controls",
      "_model_module_version": "1.5.0",
      "_model_name": "LabelModel",
      "_view_count": null,
      "_view_module": "@jupyter-widgets/controls",
      "_view_module_version": "1.5.0",
      "_view_name": "LabelView",
      "description": "",
      "description_tooltip": null,
      "layout": "IPY_MODEL_7cd254a2d4b8437a813facf5bcbad629",
      "placeholder": "​",
      "style": "IPY_MODEL_342a1a1e65a344a98fd768819698b4b1",
      "value": "80000 / 80000"
     }
    },
    "364893eb947c46c8bca44f6a80824e77": {
     "model_module": "@jupyter-widgets/base",
     "model_module_version": "1.2.0",
     "model_name": "LayoutModel",
     "state": {
      "_model_module": "@jupyter-widgets/base",
      "_model_module_version": "1.2.0",
      "_model_name": "LayoutModel",
      "_view_count": null,
      "_view_module": "@jupyter-widgets/base",
      "_view_module_version": "1.2.0",
      "_view_name": "LayoutView",
      "align_content": null,
      "align_items": null,
      "align_self": null,
      "border": null,
      "bottom": null,
      "display": null,
      "flex": null,
      "flex_flow": null,
      "grid_area": null,
      "grid_auto_columns": null,
      "grid_auto_flow": null,
      "grid_auto_rows": null,
      "grid_column": null,
      "grid_gap": null,
      "grid_row": null,
      "grid_template_areas": null,
      "grid_template_columns": null,
      "grid_template_rows": null,
      "height": null,
      "justify_content": null,
      "justify_items": null,
      "left": null,
      "margin": null,
      "max_height": null,
      "max_width": null,
      "min_height": null,
      "min_width": null,
      "object_fit": null,
      "object_position": null,
      "order": null,
      "overflow": null,
      "overflow_x": null,
      "overflow_y": null,
      "padding": null,
      "right": null,
      "top": null,
      "visibility": null,
      "width": null
     }
    },
    "3835ba19b8504dbb950ba11876102d0c": {
     "model_module": "@jupyter-widgets/controls",
     "model_module_version": "1.5.0",
     "model_name": "HBoxModel",
     "state": {
      "_dom_classes": [],
      "_model_module": "@jupyter-widgets/controls",
      "_model_module_version": "1.5.0",
      "_model_name": "HBoxModel",
      "_view_count": null,
      "_view_module": "@jupyter-widgets/controls",
      "_view_module_version": "1.5.0",
      "_view_name": "HBoxView",
      "box_style": "",
      "children": [
       "IPY_MODEL_62e81256daf44c60903924f9632bea2f",
       "IPY_MODEL_a0f7a8a44937495498041108246ae066"
      ],
      "layout": "IPY_MODEL_0aa84367938e40018b78cc74bf725ed5"
     }
    },
    "3cfef90973b24bc1b403e3965a16a17b": {
     "model_module": "@jupyter-widgets/controls",
     "model_module_version": "1.5.0",
     "model_name": "HTMLModel",
     "state": {
      "_dom_classes": [],
      "_model_module": "@jupyter-widgets/controls",
      "_model_module_version": "1.5.0",
      "_model_name": "HTMLModel",
      "_view_count": null,
      "_view_module": "@jupyter-widgets/controls",
      "_view_module_version": "1.5.0",
      "_view_name": "HTMLView",
      "description": "",
      "description_tooltip": null,
      "layout": "IPY_MODEL_02142ab897564b37a2ad4f4b5ef34dcc",
      "placeholder": "​",
      "style": "IPY_MODEL_cfd59dc4ac6f49069eb8137ee5feb904",
      "value": " 174/174 [00:00&lt;00:00, 11.7kB/s]"
     }
    },
    "3f43187928a84fb88d2819e450cdefb4": {
     "model_module": "@jupyter-widgets/base",
     "model_module_version": "1.2.0",
     "model_name": "LayoutModel",
     "state": {
      "_model_module": "@jupyter-widgets/base",
      "_model_module_version": "1.2.0",
      "_model_name": "LayoutModel",
      "_view_count": null,
      "_view_module": "@jupyter-widgets/base",
      "_view_module_version": "1.2.0",
      "_view_name": "LayoutView",
      "align_content": null,
      "align_items": null,
      "align_self": null,
      "border": null,
      "bottom": null,
      "display": null,
      "flex": null,
      "flex_flow": null,
      "grid_area": null,
      "grid_auto_columns": null,
      "grid_auto_flow": null,
      "grid_auto_rows": null,
      "grid_column": null,
      "grid_gap": null,
      "grid_row": null,
      "grid_template_areas": null,
      "grid_template_columns": null,
      "grid_template_rows": null,
      "height": null,
      "justify_content": null,
      "justify_items": null,
      "left": null,
      "margin": null,
      "max_height": null,
      "max_width": null,
      "min_height": null,
      "min_width": null,
      "object_fit": null,
      "object_position": null,
      "order": null,
      "overflow": null,
      "overflow_x": null,
      "overflow_y": null,
      "padding": null,
      "right": null,
      "top": null,
      "visibility": null,
      "width": null
     }
    },
    "41c41c0dfe92450c820453fa08ce136d": {
     "model_module": "@jupyter-widgets/base",
     "model_module_version": "1.2.0",
     "model_name": "LayoutModel",
     "state": {
      "_model_module": "@jupyter-widgets/base",
      "_model_module_version": "1.2.0",
      "_model_name": "LayoutModel",
      "_view_count": null,
      "_view_module": "@jupyter-widgets/base",
      "_view_module_version": "1.2.0",
      "_view_name": "LayoutView",
      "align_content": null,
      "align_items": null,
      "align_self": null,
      "border": null,
      "bottom": null,
      "display": null,
      "flex": null,
      "flex_flow": null,
      "grid_area": null,
      "grid_auto_columns": null,
      "grid_auto_flow": null,
      "grid_auto_rows": null,
      "grid_column": null,
      "grid_gap": null,
      "grid_row": null,
      "grid_template_areas": null,
      "grid_template_columns": null,
      "grid_template_rows": null,
      "height": null,
      "justify_content": null,
      "justify_items": null,
      "left": null,
      "margin": null,
      "max_height": null,
      "max_width": null,
      "min_height": null,
      "min_width": null,
      "object_fit": null,
      "object_position": null,
      "order": null,
      "overflow": null,
      "overflow_x": null,
      "overflow_y": null,
      "padding": null,
      "right": null,
      "top": null,
      "visibility": null,
      "width": null
     }
    },
    "43318362a2594b8e9ba1a05cd89b0b8a": {
     "model_module": "@jupyter-widgets/base",
     "model_module_version": "1.2.0",
     "model_name": "LayoutModel",
     "state": {
      "_model_module": "@jupyter-widgets/base",
      "_model_module_version": "1.2.0",
      "_model_name": "LayoutModel",
      "_view_count": null,
      "_view_module": "@jupyter-widgets/base",
      "_view_module_version": "1.2.0",
      "_view_name": "LayoutView",
      "align_content": null,
      "align_items": null,
      "align_self": null,
      "border": null,
      "bottom": null,
      "display": null,
      "flex": null,
      "flex_flow": null,
      "grid_area": null,
      "grid_auto_columns": null,
      "grid_auto_flow": null,
      "grid_auto_rows": null,
      "grid_column": null,
      "grid_gap": null,
      "grid_row": null,
      "grid_template_areas": null,
      "grid_template_columns": null,
      "grid_template_rows": null,
      "height": null,
      "justify_content": null,
      "justify_items": null,
      "left": null,
      "margin": null,
      "max_height": null,
      "max_width": null,
      "min_height": null,
      "min_width": null,
      "object_fit": null,
      "object_position": null,
      "order": null,
      "overflow": null,
      "overflow_x": null,
      "overflow_y": null,
      "padding": null,
      "right": null,
      "top": null,
      "visibility": null,
      "width": null
     }
    },
    "433db860413349a795c0086377f5cb65": {
     "model_module": "@jupyter-widgets/base",
     "model_module_version": "1.2.0",
     "model_name": "LayoutModel",
     "state": {
      "_model_module": "@jupyter-widgets/base",
      "_model_module_version": "1.2.0",
      "_model_name": "LayoutModel",
      "_view_count": null,
      "_view_module": "@jupyter-widgets/base",
      "_view_module_version": "1.2.0",
      "_view_name": "LayoutView",
      "align_content": null,
      "align_items": null,
      "align_self": null,
      "border": null,
      "bottom": null,
      "display": null,
      "flex": null,
      "flex_flow": null,
      "grid_area": null,
      "grid_auto_columns": null,
      "grid_auto_flow": null,
      "grid_auto_rows": null,
      "grid_column": null,
      "grid_gap": null,
      "grid_row": null,
      "grid_template_areas": null,
      "grid_template_columns": null,
      "grid_template_rows": null,
      "height": null,
      "justify_content": null,
      "justify_items": null,
      "left": null,
      "margin": null,
      "max_height": null,
      "max_width": null,
      "min_height": null,
      "min_width": null,
      "object_fit": null,
      "object_position": null,
      "order": null,
      "overflow": null,
      "overflow_x": null,
      "overflow_y": null,
      "padding": null,
      "right": null,
      "top": null,
      "visibility": null,
      "width": null
     }
    },
    "44eb60bba81d466889ca54e06d1acaf5": {
     "model_module": "@jupyter-widgets/controls",
     "model_module_version": "1.5.0",
     "model_name": "HTMLModel",
     "state": {
      "_dom_classes": [],
      "_model_module": "@jupyter-widgets/controls",
      "_model_module_version": "1.5.0",
      "_model_name": "HTMLModel",
      "_view_count": null,
      "_view_module": "@jupyter-widgets/controls",
      "_view_module_version": "1.5.0",
      "_view_name": "HTMLView",
      "description": "",
      "description_tooltip": null,
      "layout": "IPY_MODEL_0d59cf52abe14cae9204e14124bcfd3c",
      "placeholder": "​",
      "style": "IPY_MODEL_7836f2c3df3744189bfa562293c61ab3",
      "value": "Downloading pytorch_model.bin: 100%"
     }
    },
    "462da257e78c470cacd2ac36135c1159": {
     "model_module": "@jupyter-widgets/base",
     "model_module_version": "1.2.0",
     "model_name": "LayoutModel",
     "state": {
      "_model_module": "@jupyter-widgets/base",
      "_model_module_version": "1.2.0",
      "_model_name": "LayoutModel",
      "_view_count": null,
      "_view_module": "@jupyter-widgets/base",
      "_view_module_version": "1.2.0",
      "_view_name": "LayoutView",
      "align_content": null,
      "align_items": null,
      "align_self": null,
      "border": null,
      "bottom": null,
      "display": null,
      "flex": null,
      "flex_flow": null,
      "grid_area": null,
      "grid_auto_columns": null,
      "grid_auto_flow": null,
      "grid_auto_rows": null,
      "grid_column": null,
      "grid_gap": null,
      "grid_row": null,
      "grid_template_areas": null,
      "grid_template_columns": null,
      "grid_template_rows": null,
      "height": null,
      "justify_content": null,
      "justify_items": null,
      "left": null,
      "margin": null,
      "max_height": null,
      "max_width": null,
      "min_height": null,
      "min_width": null,
      "object_fit": null,
      "object_position": null,
      "order": null,
      "overflow": null,
      "overflow_x": null,
      "overflow_y": null,
      "padding": null,
      "right": null,
      "top": null,
      "visibility": null,
      "width": null
     }
    },
    "48a95e39ff704c77abebfc74a76d4918": {
     "model_module": "@jupyter-widgets/base",
     "model_module_version": "1.2.0",
     "model_name": "LayoutModel",
     "state": {
      "_model_module": "@jupyter-widgets/base",
      "_model_module_version": "1.2.0",
      "_model_name": "LayoutModel",
      "_view_count": null,
      "_view_module": "@jupyter-widgets/base",
      "_view_module_version": "1.2.0",
      "_view_name": "LayoutView",
      "align_content": null,
      "align_items": null,
      "align_self": null,
      "border": null,
      "bottom": null,
      "display": null,
      "flex": null,
      "flex_flow": null,
      "grid_area": null,
      "grid_auto_columns": null,
      "grid_auto_flow": null,
      "grid_auto_rows": null,
      "grid_column": null,
      "grid_gap": null,
      "grid_row": null,
      "grid_template_areas": null,
      "grid_template_columns": null,
      "grid_template_rows": null,
      "height": null,
      "justify_content": null,
      "justify_items": null,
      "left": null,
      "margin": null,
      "max_height": null,
      "max_width": null,
      "min_height": null,
      "min_width": null,
      "object_fit": null,
      "object_position": null,
      "order": null,
      "overflow": null,
      "overflow_x": null,
      "overflow_y": null,
      "padding": null,
      "right": null,
      "top": null,
      "visibility": null,
      "width": null
     }
    },
    "5200d757c354457d903d0156d8b2f99a": {
     "model_module": "@jupyter-widgets/controls",
     "model_module_version": "1.5.0",
     "model_name": "FloatProgressModel",
     "state": {
      "_dom_classes": [],
      "_model_module": "@jupyter-widgets/controls",
      "_model_module_version": "1.5.0",
      "_model_name": "FloatProgressModel",
      "_view_count": null,
      "_view_module": "@jupyter-widgets/controls",
      "_view_module_version": "1.5.0",
      "_view_name": "ProgressView",
      "bar_style": "success",
      "description": "",
      "description_tooltip": null,
      "layout": "IPY_MODEL_a0d936a04f3f48b3b3da8f4b2fd69e8e",
      "max": 112,
      "min": 0,
      "orientation": "horizontal",
      "style": "IPY_MODEL_8d872cf856184bc2a2ab55092441b86a",
      "value": 112
     }
    },
    "529a83e8d6724236a84bce6eba79c60c": {
     "model_module": "@jupyter-widgets/controls",
     "model_module_version": "1.5.0",
     "model_name": "FloatProgressModel",
     "state": {
      "_dom_classes": [],
      "_model_module": "@jupyter-widgets/controls",
      "_model_module_version": "1.5.0",
      "_model_name": "FloatProgressModel",
      "_view_count": null,
      "_view_module": "@jupyter-widgets/controls",
      "_view_module_version": "1.5.0",
      "_view_name": "ProgressView",
      "bar_style": "success",
      "description": "",
      "description_tooltip": null,
      "layout": "IPY_MODEL_aa7de4d866c44b74aa3f068dea22f761",
      "max": 811,
      "min": 0,
      "orientation": "horizontal",
      "style": "IPY_MODEL_61e72e3fcb6845b0a8cbfc23170fa38f",
      "value": 811
     }
    },
    "52ce3195b3c94c0aa2944afb96e87986": {
     "model_module": "@jupyter-widgets/controls",
     "model_module_version": "1.5.0",
     "model_name": "HTMLModel",
     "state": {
      "_dom_classes": [],
      "_model_module": "@jupyter-widgets/controls",
      "_model_module_version": "1.5.0",
      "_model_name": "HTMLModel",
      "_view_count": null,
      "_view_module": "@jupyter-widgets/controls",
      "_view_module_version": "1.5.0",
      "_view_name": "HTMLView",
      "description": "",
      "description_tooltip": null,
      "layout": "IPY_MODEL_89633220e08841539d367bbf05c1c045",
      "placeholder": "​",
      "style": "IPY_MODEL_2f761dba4bc34c098273a783a29fddf3",
      "value": "100%"
     }
    },
    "5373bbf0d0ce4f6e99c6e2a6f2532692": {
     "model_module": "@jupyter-widgets/base",
     "model_module_version": "1.2.0",
     "model_name": "LayoutModel",
     "state": {
      "_model_module": "@jupyter-widgets/base",
      "_model_module_version": "1.2.0",
      "_model_name": "LayoutModel",
      "_view_count": null,
      "_view_module": "@jupyter-widgets/base",
      "_view_module_version": "1.2.0",
      "_view_name": "LayoutView",
      "align_content": null,
      "align_items": null,
      "align_self": null,
      "border": null,
      "bottom": null,
      "display": null,
      "flex": null,
      "flex_flow": null,
      "grid_area": null,
      "grid_auto_columns": null,
      "grid_auto_flow": null,
      "grid_auto_rows": null,
      "grid_column": null,
      "grid_gap": null,
      "grid_row": null,
      "grid_template_areas": null,
      "grid_template_columns": null,
      "grid_template_rows": null,
      "height": null,
      "justify_content": null,
      "justify_items": null,
      "left": null,
      "margin": null,
      "max_height": null,
      "max_width": null,
      "min_height": null,
      "min_width": null,
      "object_fit": null,
      "object_position": null,
      "order": null,
      "overflow": null,
      "overflow_x": null,
      "overflow_y": null,
      "padding": null,
      "right": null,
      "top": null,
      "visibility": null,
      "width": null
     }
    },
    "56896c329fec4b85b9783370c2e3ecc9": {
     "model_module": "@jupyter-widgets/controls",
     "model_module_version": "1.5.0",
     "model_name": "HTMLModel",
     "state": {
      "_dom_classes": [],
      "_model_module": "@jupyter-widgets/controls",
      "_model_module_version": "1.5.0",
      "_model_name": "HTMLModel",
      "_view_count": null,
      "_view_module": "@jupyter-widgets/controls",
      "_view_module_version": "1.5.0",
      "_view_name": "HTMLView",
      "description": "",
      "description_tooltip": null,
      "layout": "IPY_MODEL_48a95e39ff704c77abebfc74a76d4918",
      "placeholder": "​",
      "style": "IPY_MODEL_5b0e3e5db0d047ac817d083d736be8e0",
      "value": "Downloading (…)solve/main/vocab.txt: 100%"
     }
    },
    "571e531df3f74811b61ee832097ced11": {
     "model_module": "@jupyter-widgets/controls",
     "model_module_version": "1.5.0",
     "model_name": "HTMLModel",
     "state": {
      "_dom_classes": [],
      "_model_module": "@jupyter-widgets/controls",
      "_model_module_version": "1.5.0",
      "_model_name": "HTMLModel",
      "_view_count": null,
      "_view_module": "@jupyter-widgets/controls",
      "_view_module_version": "1.5.0",
      "_view_name": "HTMLView",
      "description": "",
      "description_tooltip": null,
      "layout": "IPY_MODEL_5373bbf0d0ce4f6e99c6e2a6f2532692",
      "placeholder": "​",
      "style": "IPY_MODEL_6e3ef6a51131457db2e7a7d4feff32e7",
      "value": " 232k/232k [00:00&lt;00:00, 3.06MB/s]"
     }
    },
    "5b0e3e5db0d047ac817d083d736be8e0": {
     "model_module": "@jupyter-widgets/controls",
     "model_module_version": "1.5.0",
     "model_name": "DescriptionStyleModel",
     "state": {
      "_model_module": "@jupyter-widgets/controls",
      "_model_module_version": "1.5.0",
      "_model_name": "DescriptionStyleModel",
      "_view_count": null,
      "_view_module": "@jupyter-widgets/base",
      "_view_module_version": "1.2.0",
      "_view_name": "StyleView",
      "description_width": ""
     }
    },
    "61e72e3fcb6845b0a8cbfc23170fa38f": {
     "model_module": "@jupyter-widgets/controls",
     "model_module_version": "1.5.0",
     "model_name": "ProgressStyleModel",
     "state": {
      "_model_module": "@jupyter-widgets/controls",
      "_model_module_version": "1.5.0",
      "_model_name": "ProgressStyleModel",
      "_view_count": null,
      "_view_module": "@jupyter-widgets/base",
      "_view_module_version": "1.2.0",
      "_view_name": "StyleView",
      "bar_color": null,
      "description_width": ""
     }
    },
    "62e81256daf44c60903924f9632bea2f": {
     "model_module": "@jupyter-widgets/controls",
     "model_module_version": "1.5.0",
     "model_name": "IntProgressModel",
     "state": {
      "_dom_classes": [],
      "_model_module": "@jupyter-widgets/controls",
      "_model_module_version": "1.5.0",
      "_model_name": "IntProgressModel",
      "_view_count": null,
      "_view_module": "@jupyter-widgets/controls",
      "_view_module_version": "1.5.0",
      "_view_name": "ProgressView",
      "bar_style": "success",
      "description": "100.00%",
      "description_tooltip": null,
      "layout": "IPY_MODEL_364893eb947c46c8bca44f6a80824e77",
      "max": 80000,
      "min": 0,
      "orientation": "horizontal",
      "style": "IPY_MODEL_f75844d15d4e4fffb2d4da6af14103b0",
      "value": 80000
     }
    },
    "67d9c9792eef44f981f5c77785d500d2": {
     "model_module": "@jupyter-widgets/controls",
     "model_module_version": "1.5.0",
     "model_name": "DescriptionStyleModel",
     "state": {
      "_model_module": "@jupyter-widgets/controls",
      "_model_module_version": "1.5.0",
      "_model_name": "DescriptionStyleModel",
      "_view_count": null,
      "_view_module": "@jupyter-widgets/base",
      "_view_module_version": "1.2.0",
      "_view_name": "StyleView",
      "description_width": ""
     }
    },
    "695f3ced062f4189a1dcb054c84fdf38": {
     "model_module": "@jupyter-widgets/controls",
     "model_module_version": "1.5.0",
     "model_name": "FloatProgressModel",
     "state": {
      "_dom_classes": [],
      "_model_module": "@jupyter-widgets/controls",
      "_model_module_version": "1.5.0",
      "_model_name": "FloatProgressModel",
      "_view_count": null,
      "_view_module": "@jupyter-widgets/controls",
      "_view_module_version": "1.5.0",
      "_view_name": "ProgressView",
      "bar_style": "success",
      "description": "",
      "description_tooltip": null,
      "layout": "IPY_MODEL_f64f0fb964914231880c487e2a1ed895",
      "max": 174,
      "min": 0,
      "orientation": "horizontal",
      "style": "IPY_MODEL_1637a929afdf4ef8ab6ccf039a378ec1",
      "value": 174
     }
    },
    "6d110eda72984e8685369ec69bb806cb": {
     "model_module": "@jupyter-widgets/controls",
     "model_module_version": "1.5.0",
     "model_name": "HBoxModel",
     "state": {
      "_dom_classes": [],
      "_model_module": "@jupyter-widgets/controls",
      "_model_module_version": "1.5.0",
      "_model_name": "HBoxModel",
      "_view_count": null,
      "_view_module": "@jupyter-widgets/controls",
      "_view_module_version": "1.5.0",
      "_view_name": "HBoxView",
      "box_style": "",
      "children": [
       "IPY_MODEL_705d96fde99949d7828ed867db17ab41",
       "IPY_MODEL_529a83e8d6724236a84bce6eba79c60c",
       "IPY_MODEL_1b735cb9813f4ca894625460aefa1f27"
      ],
      "layout": "IPY_MODEL_3084ff431b0740ee90dbbf988d386353"
     }
    },
    "6e3ef6a51131457db2e7a7d4feff32e7": {
     "model_module": "@jupyter-widgets/controls",
     "model_module_version": "1.5.0",
     "model_name": "DescriptionStyleModel",
     "state": {
      "_model_module": "@jupyter-widgets/controls",
      "_model_module_version": "1.5.0",
      "_model_name": "DescriptionStyleModel",
      "_view_count": null,
      "_view_module": "@jupyter-widgets/base",
      "_view_module_version": "1.2.0",
      "_view_name": "StyleView",
      "description_width": ""
     }
    },
    "705d96fde99949d7828ed867db17ab41": {
     "model_module": "@jupyter-widgets/controls",
     "model_module_version": "1.5.0",
     "model_name": "HTMLModel",
     "state": {
      "_dom_classes": [],
      "_model_module": "@jupyter-widgets/controls",
      "_model_module_version": "1.5.0",
      "_model_name": "HTMLModel",
      "_view_count": null,
      "_view_module": "@jupyter-widgets/controls",
      "_view_module_version": "1.5.0",
      "_view_name": "HTMLView",
      "description": "",
      "description_tooltip": null,
      "layout": "IPY_MODEL_41c41c0dfe92450c820453fa08ce136d",
      "placeholder": "​",
      "style": "IPY_MODEL_67d9c9792eef44f981f5c77785d500d2",
      "value": "Downloading (…)lve/main/config.json: 100%"
     }
    },
    "71ad09dcf7654a38985493bbf7f8b020": {
     "model_module": "@jupyter-widgets/controls",
     "model_module_version": "1.5.0",
     "model_name": "HTMLModel",
     "state": {
      "_dom_classes": [],
      "_model_module": "@jupyter-widgets/controls",
      "_model_module_version": "1.5.0",
      "_model_name": "HTMLModel",
      "_view_count": null,
      "_view_module": "@jupyter-widgets/controls",
      "_view_module_version": "1.5.0",
      "_view_name": "HTMLView",
      "description": "",
      "description_tooltip": null,
      "layout": "IPY_MODEL_171fee616020461a920e28bc974cba33",
      "placeholder": "​",
      "style": "IPY_MODEL_f21a6c62a0db431d8b5463b6101c119c",
      "value": " 438M/438M [00:10&lt;00:00, 42.1MB/s]"
     }
    },
    "77c29f2833e14b3f8323ef201b393b08": {
     "model_module": "@jupyter-widgets/controls",
     "model_module_version": "1.5.0",
     "model_name": "HBoxModel",
     "state": {
      "_dom_classes": [],
      "_model_module": "@jupyter-widgets/controls",
      "_model_module_version": "1.5.0",
      "_model_name": "HBoxModel",
      "_view_count": null,
      "_view_module": "@jupyter-widgets/controls",
      "_view_module_version": "1.5.0",
      "_view_name": "HBoxView",
      "box_style": "",
      "children": [
       "IPY_MODEL_78c50f63a7a74562a8dfdead2f485be5",
       "IPY_MODEL_695f3ced062f4189a1dcb054c84fdf38",
       "IPY_MODEL_3cfef90973b24bc1b403e3965a16a17b"
      ],
      "layout": "IPY_MODEL_973b363b49474509b99f37b010389fcd"
     }
    },
    "7836f2c3df3744189bfa562293c61ab3": {
     "model_module": "@jupyter-widgets/controls",
     "model_module_version": "1.5.0",
     "model_name": "DescriptionStyleModel",
     "state": {
      "_model_module": "@jupyter-widgets/controls",
      "_model_module_version": "1.5.0",
      "_model_name": "DescriptionStyleModel",
      "_view_count": null,
      "_view_module": "@jupyter-widgets/base",
      "_view_module_version": "1.2.0",
      "_view_name": "StyleView",
      "description_width": ""
     }
    },
    "78c50f63a7a74562a8dfdead2f485be5": {
     "model_module": "@jupyter-widgets/controls",
     "model_module_version": "1.5.0",
     "model_name": "HTMLModel",
     "state": {
      "_dom_classes": [],
      "_model_module": "@jupyter-widgets/controls",
      "_model_module_version": "1.5.0",
      "_model_name": "HTMLModel",
      "_view_count": null,
      "_view_module": "@jupyter-widgets/controls",
      "_view_module_version": "1.5.0",
      "_view_name": "HTMLView",
      "description": "",
      "description_tooltip": null,
      "layout": "IPY_MODEL_f77d1859f9f64415a67ab97d43b53266",
      "placeholder": "​",
      "style": "IPY_MODEL_da66e65f3a6d4e1585ead8017f8fef5f",
      "value": "Downloading (…)okenizer_config.json: 100%"
     }
    },
    "7cd254a2d4b8437a813facf5bcbad629": {
     "model_module": "@jupyter-widgets/base",
     "model_module_version": "1.2.0",
     "model_name": "LayoutModel",
     "state": {
      "_model_module": "@jupyter-widgets/base",
      "_model_module_version": "1.2.0",
      "_model_name": "LayoutModel",
      "_view_count": null,
      "_view_module": "@jupyter-widgets/base",
      "_view_module_version": "1.2.0",
      "_view_name": "LayoutView",
      "align_content": null,
      "align_items": null,
      "align_self": null,
      "border": null,
      "bottom": null,
      "display": null,
      "flex": null,
      "flex_flow": null,
      "grid_area": null,
      "grid_auto_columns": null,
      "grid_auto_flow": null,
      "grid_auto_rows": null,
      "grid_column": null,
      "grid_gap": null,
      "grid_row": null,
      "grid_template_areas": null,
      "grid_template_columns": null,
      "grid_template_rows": null,
      "height": null,
      "justify_content": null,
      "justify_items": null,
      "left": null,
      "margin": null,
      "max_height": null,
      "max_width": null,
      "min_height": null,
      "min_width": null,
      "object_fit": null,
      "object_position": null,
      "order": null,
      "overflow": null,
      "overflow_x": null,
      "overflow_y": null,
      "padding": null,
      "right": null,
      "top": null,
      "visibility": null,
      "width": null
     }
    },
    "89633220e08841539d367bbf05c1c045": {
     "model_module": "@jupyter-widgets/base",
     "model_module_version": "1.2.0",
     "model_name": "LayoutModel",
     "state": {
      "_model_module": "@jupyter-widgets/base",
      "_model_module_version": "1.2.0",
      "_model_name": "LayoutModel",
      "_view_count": null,
      "_view_module": "@jupyter-widgets/base",
      "_view_module_version": "1.2.0",
      "_view_name": "LayoutView",
      "align_content": null,
      "align_items": null,
      "align_self": null,
      "border": null,
      "bottom": null,
      "display": null,
      "flex": null,
      "flex_flow": null,
      "grid_area": null,
      "grid_auto_columns": null,
      "grid_auto_flow": null,
      "grid_auto_rows": null,
      "grid_column": null,
      "grid_gap": null,
      "grid_row": null,
      "grid_template_areas": null,
      "grid_template_columns": null,
      "grid_template_rows": null,
      "height": null,
      "justify_content": null,
      "justify_items": null,
      "left": null,
      "margin": null,
      "max_height": null,
      "max_width": null,
      "min_height": null,
      "min_width": null,
      "object_fit": null,
      "object_position": null,
      "order": null,
      "overflow": null,
      "overflow_x": null,
      "overflow_y": null,
      "padding": null,
      "right": null,
      "top": null,
      "visibility": null,
      "width": null
     }
    },
    "8c9d03c202794e4489894dcdc25d3c77": {
     "model_module": "@jupyter-widgets/base",
     "model_module_version": "1.2.0",
     "model_name": "LayoutModel",
     "state": {
      "_model_module": "@jupyter-widgets/base",
      "_model_module_version": "1.2.0",
      "_model_name": "LayoutModel",
      "_view_count": null,
      "_view_module": "@jupyter-widgets/base",
      "_view_module_version": "1.2.0",
      "_view_name": "LayoutView",
      "align_content": null,
      "align_items": null,
      "align_self": null,
      "border": null,
      "bottom": null,
      "display": null,
      "flex": null,
      "flex_flow": null,
      "grid_area": null,
      "grid_auto_columns": null,
      "grid_auto_flow": null,
      "grid_auto_rows": null,
      "grid_column": null,
      "grid_gap": null,
      "grid_row": null,
      "grid_template_areas": null,
      "grid_template_columns": null,
      "grid_template_rows": null,
      "height": null,
      "justify_content": null,
      "justify_items": null,
      "left": null,
      "margin": null,
      "max_height": null,
      "max_width": null,
      "min_height": null,
      "min_width": null,
      "object_fit": null,
      "object_position": null,
      "order": null,
      "overflow": null,
      "overflow_x": null,
      "overflow_y": null,
      "padding": null,
      "right": null,
      "top": null,
      "visibility": null,
      "width": null
     }
    },
    "8d872cf856184bc2a2ab55092441b86a": {
     "model_module": "@jupyter-widgets/controls",
     "model_module_version": "1.5.0",
     "model_name": "ProgressStyleModel",
     "state": {
      "_model_module": "@jupyter-widgets/controls",
      "_model_module_version": "1.5.0",
      "_model_name": "ProgressStyleModel",
      "_view_count": null,
      "_view_module": "@jupyter-widgets/base",
      "_view_module_version": "1.2.0",
      "_view_name": "StyleView",
      "bar_color": null,
      "description_width": ""
     }
    },
    "8fcd99492a1241749b0deb42c24dd172": {
     "model_module": "@jupyter-widgets/controls",
     "model_module_version": "1.5.0",
     "model_name": "DescriptionStyleModel",
     "state": {
      "_model_module": "@jupyter-widgets/controls",
      "_model_module_version": "1.5.0",
      "_model_name": "DescriptionStyleModel",
      "_view_count": null,
      "_view_module": "@jupyter-widgets/base",
      "_view_module_version": "1.2.0",
      "_view_name": "StyleView",
      "description_width": ""
     }
    },
    "973b363b49474509b99f37b010389fcd": {
     "model_module": "@jupyter-widgets/base",
     "model_module_version": "1.2.0",
     "model_name": "LayoutModel",
     "state": {
      "_model_module": "@jupyter-widgets/base",
      "_model_module_version": "1.2.0",
      "_model_name": "LayoutModel",
      "_view_count": null,
      "_view_module": "@jupyter-widgets/base",
      "_view_module_version": "1.2.0",
      "_view_name": "LayoutView",
      "align_content": null,
      "align_items": null,
      "align_self": null,
      "border": null,
      "bottom": null,
      "display": null,
      "flex": null,
      "flex_flow": null,
      "grid_area": null,
      "grid_auto_columns": null,
      "grid_auto_flow": null,
      "grid_auto_rows": null,
      "grid_column": null,
      "grid_gap": null,
      "grid_row": null,
      "grid_template_areas": null,
      "grid_template_columns": null,
      "grid_template_rows": null,
      "height": null,
      "justify_content": null,
      "justify_items": null,
      "left": null,
      "margin": null,
      "max_height": null,
      "max_width": null,
      "min_height": null,
      "min_width": null,
      "object_fit": null,
      "object_position": null,
      "order": null,
      "overflow": null,
      "overflow_x": null,
      "overflow_y": null,
      "padding": null,
      "right": null,
      "top": null,
      "visibility": null,
      "width": null
     }
    },
    "9c1e0d7b9fe948b498b01fefb3fe2f99": {
     "model_module": "@jupyter-widgets/controls",
     "model_module_version": "1.5.0",
     "model_name": "DescriptionStyleModel",
     "state": {
      "_model_module": "@jupyter-widgets/controls",
      "_model_module_version": "1.5.0",
      "_model_name": "DescriptionStyleModel",
      "_view_count": null,
      "_view_module": "@jupyter-widgets/base",
      "_view_module_version": "1.2.0",
      "_view_name": "StyleView",
      "description_width": ""
     }
    },
    "a0d936a04f3f48b3b3da8f4b2fd69e8e": {
     "model_module": "@jupyter-widgets/base",
     "model_module_version": "1.2.0",
     "model_name": "LayoutModel",
     "state": {
      "_model_module": "@jupyter-widgets/base",
      "_model_module_version": "1.2.0",
      "_model_name": "LayoutModel",
      "_view_count": null,
      "_view_module": "@jupyter-widgets/base",
      "_view_module_version": "1.2.0",
      "_view_name": "LayoutView",
      "align_content": null,
      "align_items": null,
      "align_self": null,
      "border": null,
      "bottom": null,
      "display": null,
      "flex": null,
      "flex_flow": null,
      "grid_area": null,
      "grid_auto_columns": null,
      "grid_auto_flow": null,
      "grid_auto_rows": null,
      "grid_column": null,
      "grid_gap": null,
      "grid_row": null,
      "grid_template_areas": null,
      "grid_template_columns": null,
      "grid_template_rows": null,
      "height": null,
      "justify_content": null,
      "justify_items": null,
      "left": null,
      "margin": null,
      "max_height": null,
      "max_width": null,
      "min_height": null,
      "min_width": null,
      "object_fit": null,
      "object_position": null,
      "order": null,
      "overflow": null,
      "overflow_x": null,
      "overflow_y": null,
      "padding": null,
      "right": null,
      "top": null,
      "visibility": null,
      "width": null
     }
    },
    "a0f7a8a44937495498041108246ae066": {
     "model_module": "@jupyter-widgets/controls",
     "model_module_version": "1.5.0",
     "model_name": "LabelModel",
     "state": {
      "_dom_classes": [],
      "_model_module": "@jupyter-widgets/controls",
      "_model_module_version": "1.5.0",
      "_model_name": "LabelModel",
      "_view_count": null,
      "_view_module": "@jupyter-widgets/controls",
      "_view_module_version": "1.5.0",
      "_view_name": "LabelView",
      "description": "",
      "description_tooltip": null,
      "layout": "IPY_MODEL_e42864b7f02d4447ad3eb0c828a11252",
      "placeholder": "​",
      "style": "IPY_MODEL_db270f0f8f9c41cf83c30fa2b0d2a002",
      "value": "80000 / 80000"
     }
    },
    "a6d1b20fb54a4b118cdbbb2ac7c99f0c": {
     "model_module": "@jupyter-widgets/controls",
     "model_module_version": "1.5.0",
     "model_name": "HBoxModel",
     "state": {
      "_dom_classes": [],
      "_model_module": "@jupyter-widgets/controls",
      "_model_module_version": "1.5.0",
      "_model_name": "HBoxModel",
      "_view_count": null,
      "_view_module": "@jupyter-widgets/controls",
      "_view_module_version": "1.5.0",
      "_view_name": "HBoxView",
      "box_style": "",
      "children": [
       "IPY_MODEL_52ce3195b3c94c0aa2944afb96e87986",
       "IPY_MODEL_f80f157f91374804b37ba9aa2fd52e01",
       "IPY_MODEL_df05ed52416f4acfb783a073d84b84f1"
      ],
      "layout": "IPY_MODEL_2baa788fe5f142f58c3e7cb6991440df"
     }
    },
    "aa7de4d866c44b74aa3f068dea22f761": {
     "model_module": "@jupyter-widgets/base",
     "model_module_version": "1.2.0",
     "model_name": "LayoutModel",
     "state": {
      "_model_module": "@jupyter-widgets/base",
      "_model_module_version": "1.2.0",
      "_model_name": "LayoutModel",
      "_view_count": null,
      "_view_module": "@jupyter-widgets/base",
      "_view_module_version": "1.2.0",
      "_view_name": "LayoutView",
      "align_content": null,
      "align_items": null,
      "align_self": null,
      "border": null,
      "bottom": null,
      "display": null,
      "flex": null,
      "flex_flow": null,
      "grid_area": null,
      "grid_auto_columns": null,
      "grid_auto_flow": null,
      "grid_auto_rows": null,
      "grid_column": null,
      "grid_gap": null,
      "grid_row": null,
      "grid_template_areas": null,
      "grid_template_columns": null,
      "grid_template_rows": null,
      "height": null,
      "justify_content": null,
      "justify_items": null,
      "left": null,
      "margin": null,
      "max_height": null,
      "max_width": null,
      "min_height": null,
      "min_width": null,
      "object_fit": null,
      "object_position": null,
      "order": null,
      "overflow": null,
      "overflow_x": null,
      "overflow_y": null,
      "padding": null,
      "right": null,
      "top": null,
      "visibility": null,
      "width": null
     }
    },
    "ac04b74d3f0d44acbb272d890e31ac05": {
     "model_module": "@jupyter-widgets/controls",
     "model_module_version": "1.5.0",
     "model_name": "ProgressStyleModel",
     "state": {
      "_model_module": "@jupyter-widgets/controls",
      "_model_module_version": "1.5.0",
      "_model_name": "ProgressStyleModel",
      "_view_count": null,
      "_view_module": "@jupyter-widgets/base",
      "_view_module_version": "1.2.0",
      "_view_name": "StyleView",
      "bar_color": null,
      "description_width": ""
     }
    },
    "aec5de15d0c2454aa7e5e90949c2a1ed": {
     "model_module": "@jupyter-widgets/controls",
     "model_module_version": "1.5.0",
     "model_name": "FloatProgressModel",
     "state": {
      "_dom_classes": [],
      "_model_module": "@jupyter-widgets/controls",
      "_model_module_version": "1.5.0",
      "_model_name": "FloatProgressModel",
      "_view_count": null,
      "_view_module": "@jupyter-widgets/controls",
      "_view_module_version": "1.5.0",
      "_view_name": "ProgressView",
      "bar_style": "success",
      "description": "",
      "description_tooltip": null,
      "layout": "IPY_MODEL_b0c11ba9d4ff41789a02fc4eec4a49cf",
      "max": 231508,
      "min": 0,
      "orientation": "horizontal",
      "style": "IPY_MODEL_1212e0512ecf4dfbba3b1008ead17c30",
      "value": 231508
     }
    },
    "b0c11ba9d4ff41789a02fc4eec4a49cf": {
     "model_module": "@jupyter-widgets/base",
     "model_module_version": "1.2.0",
     "model_name": "LayoutModel",
     "state": {
      "_model_module": "@jupyter-widgets/base",
      "_model_module_version": "1.2.0",
      "_model_name": "LayoutModel",
      "_view_count": null,
      "_view_module": "@jupyter-widgets/base",
      "_view_module_version": "1.2.0",
      "_view_name": "LayoutView",
      "align_content": null,
      "align_items": null,
      "align_self": null,
      "border": null,
      "bottom": null,
      "display": null,
      "flex": null,
      "flex_flow": null,
      "grid_area": null,
      "grid_auto_columns": null,
      "grid_auto_flow": null,
      "grid_auto_rows": null,
      "grid_column": null,
      "grid_gap": null,
      "grid_row": null,
      "grid_template_areas": null,
      "grid_template_columns": null,
      "grid_template_rows": null,
      "height": null,
      "justify_content": null,
      "justify_items": null,
      "left": null,
      "margin": null,
      "max_height": null,
      "max_width": null,
      "min_height": null,
      "min_width": null,
      "object_fit": null,
      "object_position": null,
      "order": null,
      "overflow": null,
      "overflow_x": null,
      "overflow_y": null,
      "padding": null,
      "right": null,
      "top": null,
      "visibility": null,
      "width": null
     }
    },
    "b9ffbd184c5e4617b9b15209b91b6f1b": {
     "model_module": "@jupyter-widgets/controls",
     "model_module_version": "1.5.0",
     "model_name": "IntProgressModel",
     "state": {
      "_dom_classes": [],
      "_model_module": "@jupyter-widgets/controls",
      "_model_module_version": "1.5.0",
      "_model_name": "IntProgressModel",
      "_view_count": null,
      "_view_module": "@jupyter-widgets/controls",
      "_view_module_version": "1.5.0",
      "_view_name": "ProgressView",
      "bar_style": "success",
      "description": "100.00%",
      "description_tooltip": null,
      "layout": "IPY_MODEL_462da257e78c470cacd2ac36135c1159",
      "max": 80000,
      "min": 0,
      "orientation": "horizontal",
      "style": "IPY_MODEL_babe12dc6c39471c8c25cbdbf5158a32",
      "value": 80000
     }
    },
    "ba761077051745368f738c59328b6bed": {
     "model_module": "@jupyter-widgets/controls",
     "model_module_version": "1.5.0",
     "model_name": "HBoxModel",
     "state": {
      "_dom_classes": [],
      "_model_module": "@jupyter-widgets/controls",
      "_model_module_version": "1.5.0",
      "_model_name": "HBoxModel",
      "_view_count": null,
      "_view_module": "@jupyter-widgets/controls",
      "_view_module_version": "1.5.0",
      "_view_name": "HBoxView",
      "box_style": "",
      "children": [
       "IPY_MODEL_44eb60bba81d466889ca54e06d1acaf5",
       "IPY_MODEL_2dfcd02a27b348c59f06524ed969f993",
       "IPY_MODEL_71ad09dcf7654a38985493bbf7f8b020"
      ],
      "layout": "IPY_MODEL_f7471ec6405a4d6fae50d8d3b2c11104"
     }
    },
    "babe12dc6c39471c8c25cbdbf5158a32": {
     "model_module": "@jupyter-widgets/controls",
     "model_module_version": "1.5.0",
     "model_name": "ProgressStyleModel",
     "state": {
      "_model_module": "@jupyter-widgets/controls",
      "_model_module_version": "1.5.0",
      "_model_name": "ProgressStyleModel",
      "_view_count": null,
      "_view_module": "@jupyter-widgets/base",
      "_view_module_version": "1.2.0",
      "_view_name": "StyleView",
      "bar_color": null,
      "description_width": ""
     }
    },
    "c0a7e6b67e944e84bb9e621eac19975d": {
     "model_module": "@jupyter-widgets/controls",
     "model_module_version": "1.5.0",
     "model_name": "DescriptionStyleModel",
     "state": {
      "_model_module": "@jupyter-widgets/controls",
      "_model_module_version": "1.5.0",
      "_model_name": "DescriptionStyleModel",
      "_view_count": null,
      "_view_module": "@jupyter-widgets/base",
      "_view_module_version": "1.2.0",
      "_view_name": "StyleView",
      "description_width": ""
     }
    },
    "cfd59dc4ac6f49069eb8137ee5feb904": {
     "model_module": "@jupyter-widgets/controls",
     "model_module_version": "1.5.0",
     "model_name": "DescriptionStyleModel",
     "state": {
      "_model_module": "@jupyter-widgets/controls",
      "_model_module_version": "1.5.0",
      "_model_name": "DescriptionStyleModel",
      "_view_count": null,
      "_view_module": "@jupyter-widgets/base",
      "_view_module_version": "1.2.0",
      "_view_name": "StyleView",
      "description_width": ""
     }
    },
    "d07f9711d67b48808dfd8e293c2a5242": {
     "model_module": "@jupyter-widgets/controls",
     "model_module_version": "1.5.0",
     "model_name": "HTMLModel",
     "state": {
      "_dom_classes": [],
      "_model_module": "@jupyter-widgets/controls",
      "_model_module_version": "1.5.0",
      "_model_name": "HTMLModel",
      "_view_count": null,
      "_view_module": "@jupyter-widgets/controls",
      "_view_module_version": "1.5.0",
      "_view_name": "HTMLView",
      "description": "",
      "description_tooltip": null,
      "layout": "IPY_MODEL_2bf1737d0c514195aeec1b1640684338",
      "placeholder": "​",
      "style": "IPY_MODEL_8fcd99492a1241749b0deb42c24dd172",
      "value": "Downloading (…)cial_tokens_map.json: 100%"
     }
    },
    "d1fd074b553b4ee29bc4c3b1c60cb282": {
     "model_module": "@jupyter-widgets/base",
     "model_module_version": "1.2.0",
     "model_name": "LayoutModel",
     "state": {
      "_model_module": "@jupyter-widgets/base",
      "_model_module_version": "1.2.0",
      "_model_name": "LayoutModel",
      "_view_count": null,
      "_view_module": "@jupyter-widgets/base",
      "_view_module_version": "1.2.0",
      "_view_name": "LayoutView",
      "align_content": null,
      "align_items": null,
      "align_self": null,
      "border": null,
      "bottom": null,
      "display": null,
      "flex": null,
      "flex_flow": null,
      "grid_area": null,
      "grid_auto_columns": null,
      "grid_auto_flow": null,
      "grid_auto_rows": null,
      "grid_column": null,
      "grid_gap": null,
      "grid_row": null,
      "grid_template_areas": null,
      "grid_template_columns": null,
      "grid_template_rows": null,
      "height": null,
      "justify_content": null,
      "justify_items": null,
      "left": null,
      "margin": null,
      "max_height": null,
      "max_width": null,
      "min_height": null,
      "min_width": null,
      "object_fit": null,
      "object_position": null,
      "order": null,
      "overflow": null,
      "overflow_x": null,
      "overflow_y": null,
      "padding": null,
      "right": null,
      "top": null,
      "visibility": null,
      "width": null
     }
    },
    "da66e65f3a6d4e1585ead8017f8fef5f": {
     "model_module": "@jupyter-widgets/controls",
     "model_module_version": "1.5.0",
     "model_name": "DescriptionStyleModel",
     "state": {
      "_model_module": "@jupyter-widgets/controls",
      "_model_module_version": "1.5.0",
      "_model_name": "DescriptionStyleModel",
      "_view_count": null,
      "_view_module": "@jupyter-widgets/base",
      "_view_module_version": "1.2.0",
      "_view_name": "StyleView",
      "description_width": ""
     }
    },
    "db270f0f8f9c41cf83c30fa2b0d2a002": {
     "model_module": "@jupyter-widgets/controls",
     "model_module_version": "1.5.0",
     "model_name": "DescriptionStyleModel",
     "state": {
      "_model_module": "@jupyter-widgets/controls",
      "_model_module_version": "1.5.0",
      "_model_name": "DescriptionStyleModel",
      "_view_count": null,
      "_view_module": "@jupyter-widgets/base",
      "_view_module_version": "1.2.0",
      "_view_name": "StyleView",
      "description_width": ""
     }
    },
    "df05ed52416f4acfb783a073d84b84f1": {
     "model_module": "@jupyter-widgets/controls",
     "model_module_version": "1.5.0",
     "model_name": "HTMLModel",
     "state": {
      "_dom_classes": [],
      "_model_module": "@jupyter-widgets/controls",
      "_model_module_version": "1.5.0",
      "_model_name": "HTMLModel",
      "_view_count": null,
      "_view_module": "@jupyter-widgets/controls",
      "_view_module_version": "1.5.0",
      "_view_name": "HTMLView",
      "description": "",
      "description_tooltip": null,
      "layout": "IPY_MODEL_e7b569dbce7f4855819f1afffc9af871",
      "placeholder": "​",
      "style": "IPY_MODEL_16ff63ffcbac4eae8155b270ceff2320",
      "value": " 800/800 [42:45&lt;00:00,  3.21s/it]"
     }
    },
    "e42864b7f02d4447ad3eb0c828a11252": {
     "model_module": "@jupyter-widgets/base",
     "model_module_version": "1.2.0",
     "model_name": "LayoutModel",
     "state": {
      "_model_module": "@jupyter-widgets/base",
      "_model_module_version": "1.2.0",
      "_model_name": "LayoutModel",
      "_view_count": null,
      "_view_module": "@jupyter-widgets/base",
      "_view_module_version": "1.2.0",
      "_view_name": "LayoutView",
      "align_content": null,
      "align_items": null,
      "align_self": null,
      "border": null,
      "bottom": null,
      "display": null,
      "flex": null,
      "flex_flow": null,
      "grid_area": null,
      "grid_auto_columns": null,
      "grid_auto_flow": null,
      "grid_auto_rows": null,
      "grid_column": null,
      "grid_gap": null,
      "grid_row": null,
      "grid_template_areas": null,
      "grid_template_columns": null,
      "grid_template_rows": null,
      "height": null,
      "justify_content": null,
      "justify_items": null,
      "left": null,
      "margin": null,
      "max_height": null,
      "max_width": null,
      "min_height": null,
      "min_width": null,
      "object_fit": null,
      "object_position": null,
      "order": null,
      "overflow": null,
      "overflow_x": null,
      "overflow_y": null,
      "padding": null,
      "right": null,
      "top": null,
      "visibility": null,
      "width": null
     }
    },
    "e7b569dbce7f4855819f1afffc9af871": {
     "model_module": "@jupyter-widgets/base",
     "model_module_version": "1.2.0",
     "model_name": "LayoutModel",
     "state": {
      "_model_module": "@jupyter-widgets/base",
      "_model_module_version": "1.2.0",
      "_model_name": "LayoutModel",
      "_view_count": null,
      "_view_module": "@jupyter-widgets/base",
      "_view_module_version": "1.2.0",
      "_view_name": "LayoutView",
      "align_content": null,
      "align_items": null,
      "align_self": null,
      "border": null,
      "bottom": null,
      "display": null,
      "flex": null,
      "flex_flow": null,
      "grid_area": null,
      "grid_auto_columns": null,
      "grid_auto_flow": null,
      "grid_auto_rows": null,
      "grid_column": null,
      "grid_gap": null,
      "grid_row": null,
      "grid_template_areas": null,
      "grid_template_columns": null,
      "grid_template_rows": null,
      "height": null,
      "justify_content": null,
      "justify_items": null,
      "left": null,
      "margin": null,
      "max_height": null,
      "max_width": null,
      "min_height": null,
      "min_width": null,
      "object_fit": null,
      "object_position": null,
      "order": null,
      "overflow": null,
      "overflow_x": null,
      "overflow_y": null,
      "padding": null,
      "right": null,
      "top": null,
      "visibility": null,
      "width": null
     }
    },
    "eaee91db53b0403ca72275a987844dee": {
     "model_module": "@jupyter-widgets/controls",
     "model_module_version": "1.5.0",
     "model_name": "HBoxModel",
     "state": {
      "_dom_classes": [],
      "_model_module": "@jupyter-widgets/controls",
      "_model_module_version": "1.5.0",
      "_model_name": "HBoxModel",
      "_view_count": null,
      "_view_module": "@jupyter-widgets/controls",
      "_view_module_version": "1.5.0",
      "_view_name": "HBoxView",
      "box_style": "",
      "children": [
       "IPY_MODEL_b9ffbd184c5e4617b9b15209b91b6f1b",
       "IPY_MODEL_355965de697c4519b1749aab43dd81e7"
      ],
      "layout": "IPY_MODEL_2bfcdc4f00884034b727bb555ee9c1af"
     }
    },
    "f19539b0a546408bb43f2e68dbda10db": {
     "model_module": "@jupyter-widgets/controls",
     "model_module_version": "1.5.0",
     "model_name": "HBoxModel",
     "state": {
      "_dom_classes": [],
      "_model_module": "@jupyter-widgets/controls",
      "_model_module_version": "1.5.0",
      "_model_name": "HBoxModel",
      "_view_count": null,
      "_view_module": "@jupyter-widgets/controls",
      "_view_module_version": "1.5.0",
      "_view_name": "HBoxView",
      "box_style": "",
      "children": [
       "IPY_MODEL_56896c329fec4b85b9783370c2e3ecc9",
       "IPY_MODEL_aec5de15d0c2454aa7e5e90949c2a1ed",
       "IPY_MODEL_571e531df3f74811b61ee832097ced11"
      ],
      "layout": "IPY_MODEL_11256a262b54467790eb19542c0e9e81"
     }
    },
    "f21a6c62a0db431d8b5463b6101c119c": {
     "model_module": "@jupyter-widgets/controls",
     "model_module_version": "1.5.0",
     "model_name": "DescriptionStyleModel",
     "state": {
      "_model_module": "@jupyter-widgets/controls",
      "_model_module_version": "1.5.0",
      "_model_name": "DescriptionStyleModel",
      "_view_count": null,
      "_view_module": "@jupyter-widgets/base",
      "_view_module_version": "1.2.0",
      "_view_name": "StyleView",
      "description_width": ""
     }
    },
    "f64f0fb964914231880c487e2a1ed895": {
     "model_module": "@jupyter-widgets/base",
     "model_module_version": "1.2.0",
     "model_name": "LayoutModel",
     "state": {
      "_model_module": "@jupyter-widgets/base",
      "_model_module_version": "1.2.0",
      "_model_name": "LayoutModel",
      "_view_count": null,
      "_view_module": "@jupyter-widgets/base",
      "_view_module_version": "1.2.0",
      "_view_name": "LayoutView",
      "align_content": null,
      "align_items": null,
      "align_self": null,
      "border": null,
      "bottom": null,
      "display": null,
      "flex": null,
      "flex_flow": null,
      "grid_area": null,
      "grid_auto_columns": null,
      "grid_auto_flow": null,
      "grid_auto_rows": null,
      "grid_column": null,
      "grid_gap": null,
      "grid_row": null,
      "grid_template_areas": null,
      "grid_template_columns": null,
      "grid_template_rows": null,
      "height": null,
      "justify_content": null,
      "justify_items": null,
      "left": null,
      "margin": null,
      "max_height": null,
      "max_width": null,
      "min_height": null,
      "min_width": null,
      "object_fit": null,
      "object_position": null,
      "order": null,
      "overflow": null,
      "overflow_x": null,
      "overflow_y": null,
      "padding": null,
      "right": null,
      "top": null,
      "visibility": null,
      "width": null
     }
    },
    "f7471ec6405a4d6fae50d8d3b2c11104": {
     "model_module": "@jupyter-widgets/base",
     "model_module_version": "1.2.0",
     "model_name": "LayoutModel",
     "state": {
      "_model_module": "@jupyter-widgets/base",
      "_model_module_version": "1.2.0",
      "_model_name": "LayoutModel",
      "_view_count": null,
      "_view_module": "@jupyter-widgets/base",
      "_view_module_version": "1.2.0",
      "_view_name": "LayoutView",
      "align_content": null,
      "align_items": null,
      "align_self": null,
      "border": null,
      "bottom": null,
      "display": null,
      "flex": null,
      "flex_flow": null,
      "grid_area": null,
      "grid_auto_columns": null,
      "grid_auto_flow": null,
      "grid_auto_rows": null,
      "grid_column": null,
      "grid_gap": null,
      "grid_row": null,
      "grid_template_areas": null,
      "grid_template_columns": null,
      "grid_template_rows": null,
      "height": null,
      "justify_content": null,
      "justify_items": null,
      "left": null,
      "margin": null,
      "max_height": null,
      "max_width": null,
      "min_height": null,
      "min_width": null,
      "object_fit": null,
      "object_position": null,
      "order": null,
      "overflow": null,
      "overflow_x": null,
      "overflow_y": null,
      "padding": null,
      "right": null,
      "top": null,
      "visibility": null,
      "width": null
     }
    },
    "f75844d15d4e4fffb2d4da6af14103b0": {
     "model_module": "@jupyter-widgets/controls",
     "model_module_version": "1.5.0",
     "model_name": "ProgressStyleModel",
     "state": {
      "_model_module": "@jupyter-widgets/controls",
      "_model_module_version": "1.5.0",
      "_model_name": "ProgressStyleModel",
      "_view_count": null,
      "_view_module": "@jupyter-widgets/base",
      "_view_module_version": "1.2.0",
      "_view_name": "StyleView",
      "bar_color": null,
      "description_width": ""
     }
    },
    "f77d1859f9f64415a67ab97d43b53266": {
     "model_module": "@jupyter-widgets/base",
     "model_module_version": "1.2.0",
     "model_name": "LayoutModel",
     "state": {
      "_model_module": "@jupyter-widgets/base",
      "_model_module_version": "1.2.0",
      "_model_name": "LayoutModel",
      "_view_count": null,
      "_view_module": "@jupyter-widgets/base",
      "_view_module_version": "1.2.0",
      "_view_name": "LayoutView",
      "align_content": null,
      "align_items": null,
      "align_self": null,
      "border": null,
      "bottom": null,
      "display": null,
      "flex": null,
      "flex_flow": null,
      "grid_area": null,
      "grid_auto_columns": null,
      "grid_auto_flow": null,
      "grid_auto_rows": null,
      "grid_column": null,
      "grid_gap": null,
      "grid_row": null,
      "grid_template_areas": null,
      "grid_template_columns": null,
      "grid_template_rows": null,
      "height": null,
      "justify_content": null,
      "justify_items": null,
      "left": null,
      "margin": null,
      "max_height": null,
      "max_width": null,
      "min_height": null,
      "min_width": null,
      "object_fit": null,
      "object_position": null,
      "order": null,
      "overflow": null,
      "overflow_x": null,
      "overflow_y": null,
      "padding": null,
      "right": null,
      "top": null,
      "visibility": null,
      "width": null
     }
    },
    "f80f157f91374804b37ba9aa2fd52e01": {
     "model_module": "@jupyter-widgets/controls",
     "model_module_version": "1.5.0",
     "model_name": "FloatProgressModel",
     "state": {
      "_dom_classes": [],
      "_model_module": "@jupyter-widgets/controls",
      "_model_module_version": "1.5.0",
      "_model_name": "FloatProgressModel",
      "_view_count": null,
      "_view_module": "@jupyter-widgets/controls",
      "_view_module_version": "1.5.0",
      "_view_name": "ProgressView",
      "bar_style": "success",
      "description": "",
      "description_tooltip": null,
      "layout": "IPY_MODEL_230ea882beec4282bc637ba48c4bfcab",
      "max": 800,
      "min": 0,
      "orientation": "horizontal",
      "style": "IPY_MODEL_1297c66ea2504ba9afb4488871a3d60e",
      "value": 800
     }
    }
   }
  }
 },
 "nbformat": 4,
 "nbformat_minor": 1
}
