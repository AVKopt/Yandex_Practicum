{
 "cells": [
  {
   "cell_type": "markdown",
   "metadata": {},
   "source": [
    "# Определение стоимости автомобилей"
   ]
  },
  {
   "cell_type": "markdown",
   "metadata": {},
   "source": [
    "**Описание проекта**\n",
    "\n",
    "Сервис по продаже автомобилей с пробегом «Не бит, не крашен» разрабатывает приложение, чтобы привлечь новых клиентов. В нём можно будет узнать рыночную стоимость своего автомобиля. \n",
    "\n",
    "Необходимо построить модель, которая умеет её определять. В распоряжении есть данные о технических характеристиках, комплектации и ценах других автомобилей.\n",
    "\n",
    "Критерии, которые важны заказчику:\n",
    "- качество предсказания;\n",
    "- время обучения модели;\n",
    "- время предсказания модели.\n",
    "\n",
    "\n",
    "**Основные шаги:**\n",
    "\n",
    "- загрузка данных;\n",
    "- изучение данных. Заполннение пропущенныех значений и обработка аномалий в столбцах; \n",
    "- подготовка выборки для обучения моделей;\n",
    "- обучение разных моделей, одна из которых — LightGBM, как минимум одна — не бустинг, для каждой модели будет спользован перебор гиперпараметров;\n",
    "- анализ времени обучения, времени предсказания и качества моделей;\n",
    "- выбор лучшей модели, согласно критериям заказчика.\n",
    "\n",
    "Примечания:\n",
    "\n",
    "Для оценки качества моделей будет использована метрика RMSE.\n",
    "\n",
    "**Значение метрики RMSE должно быть меньше 2500.**\n",
    " \n",
    "**Описание данных**\n",
    "\n",
    "*Признаки*\n",
    "\n",
    "- `DateCrawled` — дата скачивания анкеты из базы\n",
    "- `VehicleType` — тип автомобильного кузова\n",
    "- `RegistrationYear` — год регистрации автомобиля\n",
    "- `Gearbox` — тип коробки передач\n",
    "- `Power` — мощность (л. с.)\n",
    "- `Model` — модель автомобиля\n",
    "- `Kilometer` — пробег (км)\n",
    "- `RegistrationMonth` — месяц регистрации автомобиля\n",
    "- `FuelType` — тип топлива\n",
    "- `Brand` — марка автомобиля\n",
    "- `Repaired` — была машина в ремонте или нет\n",
    "- `DateCreated` — дата создания анкеты\n",
    "- `NumberOfPictures` — количество фотографий автомобиля\n",
    "- `PostalCode` — почтовый индекс владельца анкеты (пользователя)\n",
    "- `LastSeen` — дата последней активности пользователя\n",
    "\n",
    "*Целевой признак*\n",
    "\n",
    "- `Price` — цена (евро)"
   ]
  },
  {
   "cell_type": "markdown",
   "metadata": {},
   "source": [
    "## Подготовка данных"
   ]
  },
  {
   "cell_type": "markdown",
   "metadata": {},
   "source": [
    "**Импорт необходимых для работы библиотек.**"
   ]
  },
  {
   "cell_type": "code",
   "execution_count": 1,
   "metadata": {},
   "outputs": [],
   "source": [
    "import pandas as pd\n",
    "import matplotlib.pyplot as plt\n",
    "import seaborn as sns\n",
    "import numpy as np\n",
    "import time\n",
    "\n",
    "from sklearn.preprocessing import OrdinalEncoder\n",
    "from sklearn.preprocessing import OneHotEncoder\n",
    "from sklearn.linear_model import LinearRegression\n",
    "from sklearn.ensemble import RandomForestRegressor\n",
    "from sklearn.model_selection import train_test_split\n",
    "from sklearn.preprocessing import RobustScaler\n",
    "from sklearn.pipeline import Pipeline\n",
    "from sklearn.pipeline import make_pipeline\n",
    "from sklearn.compose import make_column_transformer\n",
    "from sklearn.compose import make_column_selector\n",
    "from sklearn.tree import DecisionTreeRegressor\n",
    "from sklearn.model_selection import GridSearchCV\n",
    "from sklearn.metrics import mean_squared_error\n",
    "from catboost import CatBoostRegressor\n",
    "from lightgbm import LGBMRegressor\n",
    "\n",
    "pd.set_option('display.max_columns', None)\n",
    "\n",
    "from colorama import Fore, Style \n",
    "\n",
    "import warnings\n",
    "\n",
    "warnings.filterwarnings('ignore')\n",
    "\n",
    "RANDOM = 1234"
   ]
  },
  {
   "cell_type": "markdown",
   "metadata": {},
   "source": [
    "**Загрузка датасета.**"
   ]
  },
  {
   "cell_type": "code",
   "execution_count": 2,
   "metadata": {},
   "outputs": [],
   "source": [
    "try:\n",
    "    data = pd.read_csv(\"/datasets/autos.csv\")\n",
    "except FileNotFoundError:\n",
    "    data = pd.read_csv(\"https://code.s3.yandex.net/datasets/autos.csv\")"
   ]
  },
  {
   "cell_type": "markdown",
   "metadata": {},
   "source": [
    "**Первые пять строк датасета.**"
   ]
  },
  {
   "cell_type": "code",
   "execution_count": 3,
   "metadata": {},
   "outputs": [
    {
     "name": "stdout",
     "output_type": "stream",
     "text": [
      "\u001b[32m\u001b[1mПервые пять строк датасета:\u001b[0m\n"
     ]
    },
    {
     "data": {
      "text/html": [
       "<div>\n",
       "<style scoped>\n",
       "    .dataframe tbody tr th:only-of-type {\n",
       "        vertical-align: middle;\n",
       "    }\n",
       "\n",
       "    .dataframe tbody tr th {\n",
       "        vertical-align: top;\n",
       "    }\n",
       "\n",
       "    .dataframe thead th {\n",
       "        text-align: right;\n",
       "    }\n",
       "</style>\n",
       "<table border=\"1\" class=\"dataframe\">\n",
       "  <thead>\n",
       "    <tr style=\"text-align: right;\">\n",
       "      <th></th>\n",
       "      <th>DateCrawled</th>\n",
       "      <th>Price</th>\n",
       "      <th>VehicleType</th>\n",
       "      <th>RegistrationYear</th>\n",
       "      <th>Gearbox</th>\n",
       "      <th>Power</th>\n",
       "      <th>Model</th>\n",
       "      <th>Kilometer</th>\n",
       "      <th>RegistrationMonth</th>\n",
       "      <th>FuelType</th>\n",
       "      <th>Brand</th>\n",
       "      <th>Repaired</th>\n",
       "      <th>DateCreated</th>\n",
       "      <th>NumberOfPictures</th>\n",
       "      <th>PostalCode</th>\n",
       "      <th>LastSeen</th>\n",
       "    </tr>\n",
       "  </thead>\n",
       "  <tbody>\n",
       "    <tr>\n",
       "      <th>0</th>\n",
       "      <td>2016-03-24 11:52:17</td>\n",
       "      <td>480</td>\n",
       "      <td>NaN</td>\n",
       "      <td>1993</td>\n",
       "      <td>manual</td>\n",
       "      <td>0</td>\n",
       "      <td>golf</td>\n",
       "      <td>150000</td>\n",
       "      <td>0</td>\n",
       "      <td>petrol</td>\n",
       "      <td>volkswagen</td>\n",
       "      <td>NaN</td>\n",
       "      <td>2016-03-24 00:00:00</td>\n",
       "      <td>0</td>\n",
       "      <td>70435</td>\n",
       "      <td>2016-04-07 03:16:57</td>\n",
       "    </tr>\n",
       "    <tr>\n",
       "      <th>1</th>\n",
       "      <td>2016-03-24 10:58:45</td>\n",
       "      <td>18300</td>\n",
       "      <td>coupe</td>\n",
       "      <td>2011</td>\n",
       "      <td>manual</td>\n",
       "      <td>190</td>\n",
       "      <td>NaN</td>\n",
       "      <td>125000</td>\n",
       "      <td>5</td>\n",
       "      <td>gasoline</td>\n",
       "      <td>audi</td>\n",
       "      <td>yes</td>\n",
       "      <td>2016-03-24 00:00:00</td>\n",
       "      <td>0</td>\n",
       "      <td>66954</td>\n",
       "      <td>2016-04-07 01:46:50</td>\n",
       "    </tr>\n",
       "    <tr>\n",
       "      <th>2</th>\n",
       "      <td>2016-03-14 12:52:21</td>\n",
       "      <td>9800</td>\n",
       "      <td>suv</td>\n",
       "      <td>2004</td>\n",
       "      <td>auto</td>\n",
       "      <td>163</td>\n",
       "      <td>grand</td>\n",
       "      <td>125000</td>\n",
       "      <td>8</td>\n",
       "      <td>gasoline</td>\n",
       "      <td>jeep</td>\n",
       "      <td>NaN</td>\n",
       "      <td>2016-03-14 00:00:00</td>\n",
       "      <td>0</td>\n",
       "      <td>90480</td>\n",
       "      <td>2016-04-05 12:47:46</td>\n",
       "    </tr>\n",
       "    <tr>\n",
       "      <th>3</th>\n",
       "      <td>2016-03-17 16:54:04</td>\n",
       "      <td>1500</td>\n",
       "      <td>small</td>\n",
       "      <td>2001</td>\n",
       "      <td>manual</td>\n",
       "      <td>75</td>\n",
       "      <td>golf</td>\n",
       "      <td>150000</td>\n",
       "      <td>6</td>\n",
       "      <td>petrol</td>\n",
       "      <td>volkswagen</td>\n",
       "      <td>no</td>\n",
       "      <td>2016-03-17 00:00:00</td>\n",
       "      <td>0</td>\n",
       "      <td>91074</td>\n",
       "      <td>2016-03-17 17:40:17</td>\n",
       "    </tr>\n",
       "    <tr>\n",
       "      <th>4</th>\n",
       "      <td>2016-03-31 17:25:20</td>\n",
       "      <td>3600</td>\n",
       "      <td>small</td>\n",
       "      <td>2008</td>\n",
       "      <td>manual</td>\n",
       "      <td>69</td>\n",
       "      <td>fabia</td>\n",
       "      <td>90000</td>\n",
       "      <td>7</td>\n",
       "      <td>gasoline</td>\n",
       "      <td>skoda</td>\n",
       "      <td>no</td>\n",
       "      <td>2016-03-31 00:00:00</td>\n",
       "      <td>0</td>\n",
       "      <td>60437</td>\n",
       "      <td>2016-04-06 10:17:21</td>\n",
       "    </tr>\n",
       "  </tbody>\n",
       "</table>\n",
       "</div>"
      ],
      "text/plain": [
       "           DateCrawled  Price VehicleType  RegistrationYear Gearbox  Power  \\\n",
       "0  2016-03-24 11:52:17    480         NaN              1993  manual      0   \n",
       "1  2016-03-24 10:58:45  18300       coupe              2011  manual    190   \n",
       "2  2016-03-14 12:52:21   9800         suv              2004    auto    163   \n",
       "3  2016-03-17 16:54:04   1500       small              2001  manual     75   \n",
       "4  2016-03-31 17:25:20   3600       small              2008  manual     69   \n",
       "\n",
       "   Model  Kilometer  RegistrationMonth  FuelType       Brand Repaired  \\\n",
       "0   golf     150000                  0    petrol  volkswagen      NaN   \n",
       "1    NaN     125000                  5  gasoline        audi      yes   \n",
       "2  grand     125000                  8  gasoline        jeep      NaN   \n",
       "3   golf     150000                  6    petrol  volkswagen       no   \n",
       "4  fabia      90000                  7  gasoline       skoda       no   \n",
       "\n",
       "           DateCreated  NumberOfPictures  PostalCode             LastSeen  \n",
       "0  2016-03-24 00:00:00                 0       70435  2016-04-07 03:16:57  \n",
       "1  2016-03-24 00:00:00                 0       66954  2016-04-07 01:46:50  \n",
       "2  2016-03-14 00:00:00                 0       90480  2016-04-05 12:47:46  \n",
       "3  2016-03-17 00:00:00                 0       91074  2016-03-17 17:40:17  \n",
       "4  2016-03-31 00:00:00                 0       60437  2016-04-06 10:17:21  "
      ]
     },
     "metadata": {},
     "output_type": "display_data"
    }
   ],
   "source": [
    "print(\n",
    "    f\"{Fore.GREEN}{Style.BRIGHT}Первые пять строк датасета:{Style.RESET_ALL}\")\n",
    "display(data.head())"
   ]
  },
  {
   "cell_type": "markdown",
   "metadata": {},
   "source": [
    "Имена столбцов приведены в произвольной форме. Приведем их к змеиному стилю."
   ]
  },
  {
   "cell_type": "code",
   "execution_count": 4,
   "metadata": {},
   "outputs": [],
   "source": [
    "data.columns = data.columns.str.replace(r\"([A-Z])\",\n",
    "                                        r\"_\\1\").str.strip('_').str.lower()"
   ]
  },
  {
   "cell_type": "markdown",
   "metadata": {},
   "source": [
    "**Вывод информации по датафрейму и пропусков в данных**"
   ]
  },
  {
   "cell_type": "code",
   "execution_count": 5,
   "metadata": {},
   "outputs": [
    {
     "name": "stdout",
     "output_type": "stream",
     "text": [
      "\u001b[32m\u001b[1mИнформация по датафрейму:\u001b[0m \n",
      "\n",
      "<class 'pandas.core.frame.DataFrame'>\n",
      "RangeIndex: 354369 entries, 0 to 354368\n",
      "Data columns (total 16 columns):\n",
      " #   Column              Non-Null Count   Dtype \n",
      "---  ------              --------------   ----- \n",
      " 0   date_crawled        354369 non-null  object\n",
      " 1   price               354369 non-null  int64 \n",
      " 2   vehicle_type        316879 non-null  object\n",
      " 3   registration_year   354369 non-null  int64 \n",
      " 4   gearbox             334536 non-null  object\n",
      " 5   power               354369 non-null  int64 \n",
      " 6   model               334664 non-null  object\n",
      " 7   kilometer           354369 non-null  int64 \n",
      " 8   registration_month  354369 non-null  int64 \n",
      " 9   fuel_type           321474 non-null  object\n",
      " 10  brand               354369 non-null  object\n",
      " 11  repaired            283215 non-null  object\n",
      " 12  date_created        354369 non-null  object\n",
      " 13  number_of_pictures  354369 non-null  int64 \n",
      " 14  postal_code         354369 non-null  int64 \n",
      " 15  last_seen           354369 non-null  object\n",
      "dtypes: int64(7), object(9)\n",
      "memory usage: 43.3+ MB\n"
     ]
    }
   ],
   "source": [
    "print(\n",
    "    f\"{Fore.GREEN}{Style.BRIGHT}Информация по датафрейму:{Style.RESET_ALL} \\n\")\n",
    "data.info()"
   ]
  },
  {
   "cell_type": "code",
   "execution_count": 6,
   "metadata": {},
   "outputs": [
    {
     "name": "stdout",
     "output_type": "stream",
     "text": [
      "\u001b[31m\u001b[1mПропуски в данных:\u001b[0m\n"
     ]
    },
    {
     "data": {
      "text/plain": [
       "date_crawled              0\n",
       "price                     0\n",
       "vehicle_type          37490\n",
       "registration_year         0\n",
       "gearbox               19833\n",
       "power                     0\n",
       "model                 19705\n",
       "kilometer                 0\n",
       "registration_month        0\n",
       "fuel_type             32895\n",
       "brand                     0\n",
       "repaired              71154\n",
       "date_created              0\n",
       "number_of_pictures        0\n",
       "postal_code               0\n",
       "last_seen                 0\n",
       "dtype: int64"
      ]
     },
     "metadata": {},
     "output_type": "display_data"
    }
   ],
   "source": [
    "print(f\"{Fore.RED}{Style.BRIGHT}Пропуски в данных:{Style.RESET_ALL}\")\n",
    "display(data.isna().sum())"
   ]
  },
  {
   "cell_type": "markdown",
   "metadata": {},
   "source": [
    "**Описательная статистика**"
   ]
  },
  {
   "cell_type": "code",
   "execution_count": 7,
   "metadata": {},
   "outputs": [
    {
     "data": {
      "text/html": [
       "<div>\n",
       "<style scoped>\n",
       "    .dataframe tbody tr th:only-of-type {\n",
       "        vertical-align: middle;\n",
       "    }\n",
       "\n",
       "    .dataframe tbody tr th {\n",
       "        vertical-align: top;\n",
       "    }\n",
       "\n",
       "    .dataframe thead th {\n",
       "        text-align: right;\n",
       "    }\n",
       "</style>\n",
       "<table border=\"1\" class=\"dataframe\">\n",
       "  <thead>\n",
       "    <tr style=\"text-align: right;\">\n",
       "      <th></th>\n",
       "      <th>count</th>\n",
       "      <th>mean</th>\n",
       "      <th>std</th>\n",
       "      <th>min</th>\n",
       "      <th>25%</th>\n",
       "      <th>50%</th>\n",
       "      <th>75%</th>\n",
       "      <th>max</th>\n",
       "    </tr>\n",
       "  </thead>\n",
       "  <tbody>\n",
       "    <tr>\n",
       "      <th>price</th>\n",
       "      <td>354369.0</td>\n",
       "      <td>4416.656776</td>\n",
       "      <td>4514.158514</td>\n",
       "      <td>0.0</td>\n",
       "      <td>1050.0</td>\n",
       "      <td>2700.0</td>\n",
       "      <td>6400.0</td>\n",
       "      <td>20000.0</td>\n",
       "    </tr>\n",
       "    <tr>\n",
       "      <th>registration_year</th>\n",
       "      <td>354369.0</td>\n",
       "      <td>2004.234448</td>\n",
       "      <td>90.227958</td>\n",
       "      <td>1000.0</td>\n",
       "      <td>1999.0</td>\n",
       "      <td>2003.0</td>\n",
       "      <td>2008.0</td>\n",
       "      <td>9999.0</td>\n",
       "    </tr>\n",
       "    <tr>\n",
       "      <th>power</th>\n",
       "      <td>354369.0</td>\n",
       "      <td>110.094337</td>\n",
       "      <td>189.850405</td>\n",
       "      <td>0.0</td>\n",
       "      <td>69.0</td>\n",
       "      <td>105.0</td>\n",
       "      <td>143.0</td>\n",
       "      <td>20000.0</td>\n",
       "    </tr>\n",
       "    <tr>\n",
       "      <th>kilometer</th>\n",
       "      <td>354369.0</td>\n",
       "      <td>128211.172535</td>\n",
       "      <td>37905.341530</td>\n",
       "      <td>5000.0</td>\n",
       "      <td>125000.0</td>\n",
       "      <td>150000.0</td>\n",
       "      <td>150000.0</td>\n",
       "      <td>150000.0</td>\n",
       "    </tr>\n",
       "    <tr>\n",
       "      <th>registration_month</th>\n",
       "      <td>354369.0</td>\n",
       "      <td>5.714645</td>\n",
       "      <td>3.726421</td>\n",
       "      <td>0.0</td>\n",
       "      <td>3.0</td>\n",
       "      <td>6.0</td>\n",
       "      <td>9.0</td>\n",
       "      <td>12.0</td>\n",
       "    </tr>\n",
       "    <tr>\n",
       "      <th>number_of_pictures</th>\n",
       "      <td>354369.0</td>\n",
       "      <td>0.000000</td>\n",
       "      <td>0.000000</td>\n",
       "      <td>0.0</td>\n",
       "      <td>0.0</td>\n",
       "      <td>0.0</td>\n",
       "      <td>0.0</td>\n",
       "      <td>0.0</td>\n",
       "    </tr>\n",
       "    <tr>\n",
       "      <th>postal_code</th>\n",
       "      <td>354369.0</td>\n",
       "      <td>50508.689087</td>\n",
       "      <td>25783.096248</td>\n",
       "      <td>1067.0</td>\n",
       "      <td>30165.0</td>\n",
       "      <td>49413.0</td>\n",
       "      <td>71083.0</td>\n",
       "      <td>99998.0</td>\n",
       "    </tr>\n",
       "  </tbody>\n",
       "</table>\n",
       "</div>"
      ],
      "text/plain": [
       "                       count           mean           std     min       25%  \\\n",
       "price               354369.0    4416.656776   4514.158514     0.0    1050.0   \n",
       "registration_year   354369.0    2004.234448     90.227958  1000.0    1999.0   \n",
       "power               354369.0     110.094337    189.850405     0.0      69.0   \n",
       "kilometer           354369.0  128211.172535  37905.341530  5000.0  125000.0   \n",
       "registration_month  354369.0       5.714645      3.726421     0.0       3.0   \n",
       "number_of_pictures  354369.0       0.000000      0.000000     0.0       0.0   \n",
       "postal_code         354369.0   50508.689087  25783.096248  1067.0   30165.0   \n",
       "\n",
       "                         50%       75%       max  \n",
       "price                 2700.0    6400.0   20000.0  \n",
       "registration_year     2003.0    2008.0    9999.0  \n",
       "power                  105.0     143.0   20000.0  \n",
       "kilometer           150000.0  150000.0  150000.0  \n",
       "registration_month       6.0       9.0      12.0  \n",
       "number_of_pictures       0.0       0.0       0.0  \n",
       "postal_code          49413.0   71083.0   99998.0  "
      ]
     },
     "metadata": {},
     "output_type": "display_data"
    }
   ],
   "source": [
    "display(data.describe().T)"
   ]
  },
  {
   "cell_type": "markdown",
   "metadata": {},
   "source": [
    "Из выше приведенной статистики видно: \n",
    "- есть пропуски в данных (столбцы: `vehicle_type`, `gearbox`, `model`, `fuel_type`, `repaired`); \n",
    "- можно заменить типы данных в столбцах;\n",
    "- в целевом признаке `price` есть нулевая цена;\n",
    "- в столбце `registration_year` есть странные значения вроде 1000 или 9999 годов;\n",
    "- в столбце `registration_month` есть нулевой месяц;\n",
    "- фотографии машин `number_of_pictures` вообще отсутствуют.\n",
    "\n",
    "Столбец с фотографиями `number_of_pictures` можно удалить сразу как абсолютно неинформативный для дальнейшего исследования."
   ]
  },
  {
   "cell_type": "code",
   "execution_count": 8,
   "metadata": {},
   "outputs": [],
   "source": [
    "data = data.drop(['number_of_pictures'], axis=1)"
   ]
  },
  {
   "cell_type": "markdown",
   "metadata": {},
   "source": [
    "**Проверка на дубликаты.**"
   ]
  },
  {
   "cell_type": "code",
   "execution_count": 9,
   "metadata": {},
   "outputs": [
    {
     "data": {
      "text/plain": [
       "4"
      ]
     },
     "execution_count": 9,
     "metadata": {},
     "output_type": "execute_result"
    }
   ],
   "source": [
    "data.duplicated().sum()"
   ]
  },
  {
   "cell_type": "markdown",
   "metadata": {},
   "source": [
    "Удаление дубликатов"
   ]
  },
  {
   "cell_type": "code",
   "execution_count": 10,
   "metadata": {},
   "outputs": [],
   "source": [
    "data.drop_duplicates(inplace=True)"
   ]
  },
  {
   "cell_type": "markdown",
   "metadata": {},
   "source": [
    "**Обработка пропусков.**"
   ]
  },
  {
   "cell_type": "markdown",
   "metadata": {},
   "source": [
    "**Столбец `model` - модель автомобиля** \n",
    "\n",
    "В столбце 19705 пропусков. Это 5% от всей выборки. Но модель существенный параметр для формирования цены. Т.к. фотографии отсутствуют и не возможно понять что это за машина - пропуски лучше удалить."
   ]
  },
  {
   "cell_type": "code",
   "execution_count": 11,
   "metadata": {},
   "outputs": [],
   "source": [
    "data.dropna(subset=['model'], inplace=True)"
   ]
  },
  {
   "cell_type": "markdown",
   "metadata": {},
   "source": [
    "**Столбец `repaired` — была машина в ремонте или нет**\n",
    "\n",
    "Есть два значения `yes` и `no`. Пропусков 71154 - это 20% от выборки. Процент большой.\n",
    "Любая машина скорее всего будет в ремонте. Но существует вероятность, что машина проходила только ТО и действительно не была в незапланированном ремонте..\n",
    "\n",
    "Поэтому можно заменить пропуски на значение `unknown`, чтобы не терять 20% выборки"
   ]
  },
  {
   "cell_type": "code",
   "execution_count": 12,
   "metadata": {},
   "outputs": [],
   "source": [
    "data.fillna({'repaired': 'unknown'}, inplace=True)"
   ]
  },
  {
   "cell_type": "markdown",
   "metadata": {},
   "source": [
    "**Столбец `fuel_type` — тип топлива**"
   ]
  },
  {
   "cell_type": "code",
   "execution_count": 13,
   "metadata": {},
   "outputs": [
    {
     "data": {
      "text/plain": [
       "array(['cng', 'electric', 'gasoline', 'hybrid', 'lpg', 'other', 'petrol',\n",
       "       nan], dtype=object)"
      ]
     },
     "execution_count": 13,
     "metadata": {},
     "output_type": "execute_result"
    }
   ],
   "source": [
    "data['fuel_type'].sort_values().unique()"
   ]
  },
  {
   "cell_type": "markdown",
   "metadata": {},
   "source": [
    "Имеется 32895 пропусков - это около 9% выборки. В уникальных значениях есть тип `other`. Чтобы не придумывать новое значение и сохранить выборку, заполним пропуски этим значением. "
   ]
  },
  {
   "cell_type": "code",
   "execution_count": 14,
   "metadata": {},
   "outputs": [],
   "source": [
    "data.fillna({'fuel_type': 'other'}, inplace=True)"
   ]
  },
  {
   "cell_type": "markdown",
   "metadata": {},
   "source": [
    "**Столбец `gearbox` — тип коробки передач**"
   ]
  },
  {
   "cell_type": "code",
   "execution_count": 15,
   "metadata": {},
   "outputs": [
    {
     "data": {
      "text/plain": [
       "array(['auto', 'manual', nan], dtype=object)"
      ]
     },
     "execution_count": 15,
     "metadata": {},
     "output_type": "execute_result"
    }
   ],
   "source": [
    "data['gearbox'].sort_values().unique()"
   ]
  },
  {
   "cell_type": "markdown",
   "metadata": {},
   "source": [
    "Имеется 19833 пропусков - это около 5% выборки. В уникальных значениях два значения ручная или автомат. Параметр для формирования цены существенный. заменим пропуски на `manual`"
   ]
  },
  {
   "cell_type": "code",
   "execution_count": 16,
   "metadata": {},
   "outputs": [],
   "source": [
    "data.fillna({'gearbox': 'manual'}, inplace=True)"
   ]
  },
  {
   "cell_type": "markdown",
   "metadata": {},
   "source": [
    "**Столбец `vehicle_type` - тип автомобильного кузова**"
   ]
  },
  {
   "cell_type": "code",
   "execution_count": 17,
   "metadata": {},
   "outputs": [
    {
     "data": {
      "text/plain": [
       "array(['bus', 'convertible', 'coupe', 'other', 'sedan', 'small', 'suv',\n",
       "       'wagon', nan], dtype=object)"
      ]
     },
     "execution_count": 17,
     "metadata": {},
     "output_type": "execute_result"
    }
   ],
   "source": [
    "data['vehicle_type'].sort_values().unique()"
   ]
  },
  {
   "cell_type": "code",
   "execution_count": 18,
   "metadata": {},
   "outputs": [
    {
     "data": {
      "text/html": [
       "<div>\n",
       "<style scoped>\n",
       "    .dataframe tbody tr th:only-of-type {\n",
       "        vertical-align: middle;\n",
       "    }\n",
       "\n",
       "    .dataframe tbody tr th {\n",
       "        vertical-align: top;\n",
       "    }\n",
       "\n",
       "    .dataframe thead th {\n",
       "        text-align: right;\n",
       "    }\n",
       "</style>\n",
       "<table border=\"1\" class=\"dataframe\">\n",
       "  <thead>\n",
       "    <tr style=\"text-align: right;\">\n",
       "      <th></th>\n",
       "      <th>vehicle_type</th>\n",
       "      <th>model</th>\n",
       "      <th>brand</th>\n",
       "    </tr>\n",
       "  </thead>\n",
       "  <tbody>\n",
       "    <tr>\n",
       "      <th>0</th>\n",
       "      <td>NaN</td>\n",
       "      <td>golf</td>\n",
       "      <td>volkswagen</td>\n",
       "    </tr>\n",
       "    <tr>\n",
       "      <th>16</th>\n",
       "      <td>NaN</td>\n",
       "      <td>polo</td>\n",
       "      <td>volkswagen</td>\n",
       "    </tr>\n",
       "    <tr>\n",
       "      <th>22</th>\n",
       "      <td>NaN</td>\n",
       "      <td>meriva</td>\n",
       "      <td>opel</td>\n",
       "    </tr>\n",
       "    <tr>\n",
       "      <th>26</th>\n",
       "      <td>NaN</td>\n",
       "      <td>c4</td>\n",
       "      <td>citroen</td>\n",
       "    </tr>\n",
       "    <tr>\n",
       "      <th>31</th>\n",
       "      <td>NaN</td>\n",
       "      <td>clio</td>\n",
       "      <td>renault</td>\n",
       "    </tr>\n",
       "  </tbody>\n",
       "</table>\n",
       "</div>"
      ],
      "text/plain": [
       "   vehicle_type   model       brand\n",
       "0           NaN    golf  volkswagen\n",
       "16          NaN    polo  volkswagen\n",
       "22          NaN  meriva        opel\n",
       "26          NaN      c4     citroen\n",
       "31          NaN    clio     renault"
      ]
     },
     "execution_count": 18,
     "metadata": {},
     "output_type": "execute_result"
    }
   ],
   "source": [
    "data.loc[data['vehicle_type'].isna(),\n",
    "         ['vehicle_type', 'model', 'brand']].head()"
   ]
  },
  {
   "cell_type": "code",
   "execution_count": 19,
   "metadata": {},
   "outputs": [
    {
     "data": {
      "text/html": [
       "<div>\n",
       "<style scoped>\n",
       "    .dataframe tbody tr th:only-of-type {\n",
       "        vertical-align: middle;\n",
       "    }\n",
       "\n",
       "    .dataframe tbody tr th {\n",
       "        vertical-align: top;\n",
       "    }\n",
       "\n",
       "    .dataframe thead th {\n",
       "        text-align: right;\n",
       "    }\n",
       "</style>\n",
       "<table border=\"1\" class=\"dataframe\">\n",
       "  <thead>\n",
       "    <tr style=\"text-align: right;\">\n",
       "      <th></th>\n",
       "      <th>vehicle_type</th>\n",
       "      <th>model</th>\n",
       "      <th>brand</th>\n",
       "    </tr>\n",
       "  </thead>\n",
       "  <tbody>\n",
       "    <tr>\n",
       "      <th>36</th>\n",
       "      <td>other</td>\n",
       "      <td>kadett</td>\n",
       "      <td>opel</td>\n",
       "    </tr>\n",
       "    <tr>\n",
       "      <th>38</th>\n",
       "      <td>other</td>\n",
       "      <td>other</td>\n",
       "      <td>volkswagen</td>\n",
       "    </tr>\n",
       "    <tr>\n",
       "      <th>76</th>\n",
       "      <td>other</td>\n",
       "      <td>vito</td>\n",
       "      <td>mercedes_benz</td>\n",
       "    </tr>\n",
       "    <tr>\n",
       "      <th>191</th>\n",
       "      <td>other</td>\n",
       "      <td>golf</td>\n",
       "      <td>volkswagen</td>\n",
       "    </tr>\n",
       "    <tr>\n",
       "      <th>433</th>\n",
       "      <td>other</td>\n",
       "      <td>other</td>\n",
       "      <td>citroen</td>\n",
       "    </tr>\n",
       "  </tbody>\n",
       "</table>\n",
       "</div>"
      ],
      "text/plain": [
       "    vehicle_type   model          brand\n",
       "36         other  kadett           opel\n",
       "38         other   other     volkswagen\n",
       "76         other    vito  mercedes_benz\n",
       "191        other    golf     volkswagen\n",
       "433        other   other        citroen"
      ]
     },
     "execution_count": 19,
     "metadata": {},
     "output_type": "execute_result"
    }
   ],
   "source": [
    "data.loc[data['vehicle_type'] == 'other',\n",
    "         ['vehicle_type', 'model', 'brand']].head()"
   ]
  },
  {
   "cell_type": "code",
   "execution_count": 20,
   "metadata": {},
   "outputs": [
    {
     "data": {
      "text/plain": [
       "array(['coupe', 'sedan', 'small', 'wagon', nan], dtype=object)"
      ]
     },
     "execution_count": 20,
     "metadata": {},
     "output_type": "execute_result"
    }
   ],
   "source": [
    "data.loc[data['model'] == 'accord', 'vehicle_type'].sort_values().unique()"
   ]
  },
  {
   "cell_type": "code",
   "execution_count": 21,
   "metadata": {},
   "outputs": [
    {
     "data": {
      "text/plain": [
       "array(['bus', 'convertible', 'coupe', 'other', 'sedan', 'small', 'suv',\n",
       "       'wagon', nan], dtype=object)"
      ]
     },
     "execution_count": 21,
     "metadata": {},
     "output_type": "execute_result"
    }
   ],
   "source": [
    "data.loc[data['model'] == 'golf', 'vehicle_type'].sort_values().unique()"
   ]
  },
  {
   "cell_type": "markdown",
   "metadata": {},
   "source": [
    "Выше видно, что заполнение данных было сделано совсем странным образом. К примеру для VW Golf есть мнго типов кузова: `['bus', 'convertible', 'coupe', 'other', 'sedan', 'small', 'suv', 'wagon', nan]`, а это вообще хэтчбэк...\n",
    "\n",
    "По Honda Accord все более или менее правильно. Поэтому заменим пропуски на `unknown`"
   ]
  },
  {
   "cell_type": "code",
   "execution_count": 22,
   "metadata": {},
   "outputs": [],
   "source": [
    "data.fillna({'vehicle_type': 'unknown'}, inplace=True)"
   ]
  },
  {
   "cell_type": "markdown",
   "metadata": {},
   "source": [
    "**Обработка аномальных значений.**"
   ]
  },
  {
   "cell_type": "code",
   "execution_count": 23,
   "metadata": {},
   "outputs": [],
   "source": [
    "#функции для вывода гистограммы и диаграммы размаха\n",
    "\n",
    "def histogram(column):\n",
    "    plt.figure(figsize=(15, 10))\n",
    "    plt.title('Гистограмма')\n",
    "    sns.histplot(data=data, x=column, kde=True)\n",
    "    plt.show()\n",
    "    \n",
    "def box(column):\n",
    "    plt.figure(figsize=(10, 5))\n",
    "    plt.title('Диаграмма размаха')\n",
    "    sns.boxplot(x=column, color='g', data=data, orient='h', fliersize=6)\n",
    "    plt.show()"
   ]
  },
  {
   "cell_type": "markdown",
   "metadata": {},
   "source": [
    "**Столбец `price`**"
   ]
  },
  {
   "cell_type": "code",
   "execution_count": 24,
   "metadata": {},
   "outputs": [
    {
     "data": {
      "image/png": "[encoded data removed]",
      "text/plain": [
       "<Figure size 1000x500 with 1 Axes>"
      ]
     },
     "metadata": {},
     "output_type": "display_data"
    }
   ],
   "source": [
    "box('price')"
   ]
  },
  {
   "cell_type": "code",
   "execution_count": 25,
   "metadata": {},
   "outputs": [
    {
     "data": {
      "image/png": "[encoded data removed]",
      "text/plain": [
       "<Figure size 1500x1000 with 1 Axes>"
      ]
     },
     "metadata": {},
     "output_type": "display_data"
    }
   ],
   "source": [
    "histogram('price')"
   ]
  },
  {
   "cell_type": "code",
   "execution_count": 26,
   "metadata": {},
   "outputs": [
    {
     "data": {
      "text/plain": [
       "count    334660.000000\n",
       "mean       4504.372249\n",
       "std        4531.457109\n",
       "min           0.000000\n",
       "25%        1150.000000\n",
       "50%        2800.000000\n",
       "75%        6500.000000\n",
       "max       20000.000000\n",
       "Name: price, dtype: float64"
      ]
     },
     "execution_count": 26,
     "metadata": {},
     "output_type": "execute_result"
    }
   ],
   "source": [
    "data['price'].describe()"
   ]
  },
  {
   "cell_type": "markdown",
   "metadata": {},
   "source": [
    "Присутствуют нулевые значения цены. Строки с нулем лучше удалить. 25% квантиль это цена 1150 евро. за машину.\n",
    "В принципе подержанные машины могут стоить меньше. Проверим 10%-квантиль."
   ]
  },
  {
   "cell_type": "code",
   "execution_count": 27,
   "metadata": {},
   "outputs": [
    {
     "data": {
      "text/plain": [
       "0.1    500.0\n",
       "Name: price, dtype: float64"
      ]
     },
     "execution_count": 27,
     "metadata": {},
     "output_type": "execute_result"
    }
   ],
   "source": [
    "data['price'].quantile([.1])"
   ]
  },
  {
   "cell_type": "markdown",
   "metadata": {},
   "source": [
    "В принципе машину за 500 евро. даже могут быть на ходу. На нашем auto.ru такие иногда бывают)). Поэтому оставляем все, что дороже 500 евро. Максимум в 20000 евро вполне реален."
   ]
  },
  {
   "cell_type": "code",
   "execution_count": 28,
   "metadata": {},
   "outputs": [],
   "source": [
    "data = data.loc[data['price'] >= 500]"
   ]
  },
  {
   "cell_type": "markdown",
   "metadata": {},
   "source": [
    "**Столбец `registration_year`**"
   ]
  },
  {
   "cell_type": "code",
   "execution_count": 29,
   "metadata": {},
   "outputs": [
    {
     "data": {
      "text/plain": [
       "count    303630.000000\n",
       "mean       2004.014116\n",
       "std          53.271307\n",
       "min        1000.000000\n",
       "25%        2000.000000\n",
       "50%        2004.000000\n",
       "75%        2008.000000\n",
       "max        9999.000000\n",
       "Name: registration_year, dtype: float64"
      ]
     },
     "execution_count": 29,
     "metadata": {},
     "output_type": "execute_result"
    }
   ],
   "source": [
    "data['registration_year'].describe()"
   ]
  },
  {
   "cell_type": "code",
   "execution_count": 30,
   "metadata": {},
   "outputs": [
    {
     "data": {
      "text/plain": [
       "array([1000, 1001, 1400, 1500, 1600, 1602, 1800, 1910, 1923, 1927, 1928,\n",
       "       1929, 1930, 1931, 1932, 1933, 1934, 1935, 1936, 1937, 1938, 1941,\n",
       "       1942, 1943, 1945, 1947, 1949, 1950, 1951, 1952, 1953, 1954, 1955,\n",
       "       1956, 1957, 1958, 1959, 1960, 1961, 1962, 1963, 1964, 1965, 1966,\n",
       "       1967, 1968, 1969, 1970, 1971, 1972, 1973, 1974, 1975, 1976, 1977,\n",
       "       1978, 1979, 1980, 1981, 1982, 1983, 1984, 1985, 1986, 1987, 1988,\n",
       "       1989, 1990, 1991, 1992, 1993, 1994, 1995, 1996, 1997, 1998, 1999,\n",
       "       2000, 2001, 2002, 2003, 2004, 2005, 2006, 2007, 2008, 2009, 2010,\n",
       "       2011, 2012, 2013, 2014, 2015, 2016, 2017, 2018, 2019, 2066, 2290,\n",
       "       2900, 3700, 4000, 4500, 5000, 5555, 5911, 6000, 7000, 7100, 7800,\n",
       "       8200, 8500, 9000, 9999])"
      ]
     },
     "execution_count": 30,
     "metadata": {},
     "output_type": "execute_result"
    }
   ],
   "source": [
    "data['registration_year'].sort_values().unique()"
   ]
  },
  {
   "cell_type": "markdown",
   "metadata": {},
   "source": [
    "Видно, что есть аномальные значения ранее 1910 года и позже 2019 года. Эти значения будут отброшены.\n",
    "\n",
    "Помимо этого есть столбец `date_created` - дата создания анкеты. "
   ]
  },
  {
   "cell_type": "code",
   "execution_count": 31,
   "metadata": {},
   "outputs": [
    {
     "data": {
      "text/plain": [
       "'2016-04-07 00:00:00'"
      ]
     },
     "execution_count": 31,
     "metadata": {},
     "output_type": "execute_result"
    }
   ],
   "source": [
    "data['date_created'].max()"
   ]
  },
  {
   "cell_type": "markdown",
   "metadata": {},
   "source": [
    "Максимум тут 7 апреля 2016 года. Соотсветственно годы регистрации позденее 2016 года и совсем старые машины старше 50 лет можно отбросить.  "
   ]
  },
  {
   "cell_type": "code",
   "execution_count": 32,
   "metadata": {},
   "outputs": [],
   "source": [
    "data = data.loc[(data['registration_year'] >= 1965)\n",
    "                & (data['registration_year'] <= 2016)]"
   ]
  },
  {
   "cell_type": "code",
   "execution_count": 33,
   "metadata": {},
   "outputs": [
    {
     "data": {
      "image/png": "[encoded data removed]",
      "text/plain": [
       "<Figure size 1500x1000 with 1 Axes>"
      ]
     },
     "metadata": {},
     "output_type": "display_data"
    }
   ],
   "source": [
    "histogram('registration_year')"
   ]
  },
  {
   "cell_type": "markdown",
   "metadata": {},
   "source": [
    "**Столбец `power` — мощность (л. с.)**"
   ]
  },
  {
   "cell_type": "code",
   "execution_count": 34,
   "metadata": {},
   "outputs": [
    {
     "data": {
      "text/plain": [
       "count    291995.000000\n",
       "mean        116.724276\n",
       "std         182.436241\n",
       "min           0.000000\n",
       "25%          75.000000\n",
       "50%         109.000000\n",
       "75%         147.000000\n",
       "max       20000.000000\n",
       "Name: power, dtype: float64"
      ]
     },
     "execution_count": 34,
     "metadata": {},
     "output_type": "execute_result"
    }
   ],
   "source": [
    "data['power'].describe()"
   ]
  },
  {
   "cell_type": "code",
   "execution_count": 35,
   "metadata": {},
   "outputs": [
    {
     "data": {
      "image/png": "[encoded data removed]",
      "text/plain": [
       "<Figure size 1000x500 with 1 Axes>"
      ]
     },
     "metadata": {},
     "output_type": "display_data"
    }
   ],
   "source": [
    "box('power')"
   ]
  },
  {
   "cell_type": "code",
   "execution_count": 36,
   "metadata": {},
   "outputs": [
    {
     "data": {
      "text/html": [
       "<div>\n",
       "<style scoped>\n",
       "    .dataframe tbody tr th:only-of-type {\n",
       "        vertical-align: middle;\n",
       "    }\n",
       "\n",
       "    .dataframe tbody tr th {\n",
       "        vertical-align: top;\n",
       "    }\n",
       "\n",
       "    .dataframe thead th {\n",
       "        text-align: right;\n",
       "    }\n",
       "</style>\n",
       "<table border=\"1\" class=\"dataframe\">\n",
       "  <thead>\n",
       "    <tr style=\"text-align: right;\">\n",
       "      <th></th>\n",
       "      <th>date_crawled</th>\n",
       "      <th>price</th>\n",
       "      <th>vehicle_type</th>\n",
       "      <th>registration_year</th>\n",
       "      <th>gearbox</th>\n",
       "      <th>power</th>\n",
       "      <th>model</th>\n",
       "      <th>kilometer</th>\n",
       "      <th>registration_month</th>\n",
       "      <th>fuel_type</th>\n",
       "      <th>brand</th>\n",
       "      <th>repaired</th>\n",
       "      <th>date_created</th>\n",
       "      <th>postal_code</th>\n",
       "      <th>last_seen</th>\n",
       "    </tr>\n",
       "  </thead>\n",
       "  <tbody>\n",
       "    <tr>\n",
       "      <th>1816</th>\n",
       "      <td>2016-03-22 20:52:00</td>\n",
       "      <td>3200</td>\n",
       "      <td>small</td>\n",
       "      <td>2004</td>\n",
       "      <td>manual</td>\n",
       "      <td>1398</td>\n",
       "      <td>corolla</td>\n",
       "      <td>5000</td>\n",
       "      <td>6</td>\n",
       "      <td>petrol</td>\n",
       "      <td>toyota</td>\n",
       "      <td>no</td>\n",
       "      <td>2016-03-22 00:00:00</td>\n",
       "      <td>22043</td>\n",
       "      <td>2016-03-22 21:43:26</td>\n",
       "    </tr>\n",
       "    <tr>\n",
       "      <th>4060</th>\n",
       "      <td>2016-04-03 20:31:00</td>\n",
       "      <td>3100</td>\n",
       "      <td>sedan</td>\n",
       "      <td>2005</td>\n",
       "      <td>manual</td>\n",
       "      <td>953</td>\n",
       "      <td>colt</td>\n",
       "      <td>150000</td>\n",
       "      <td>4</td>\n",
       "      <td>gasoline</td>\n",
       "      <td>mitsubishi</td>\n",
       "      <td>no</td>\n",
       "      <td>2016-04-03 00:00:00</td>\n",
       "      <td>60326</td>\n",
       "      <td>2016-04-07 14:56:46</td>\n",
       "    </tr>\n",
       "    <tr>\n",
       "      <th>5328</th>\n",
       "      <td>2016-03-29 19:44:48</td>\n",
       "      <td>500</td>\n",
       "      <td>wagon</td>\n",
       "      <td>1999</td>\n",
       "      <td>manual</td>\n",
       "      <td>1001</td>\n",
       "      <td>astra</td>\n",
       "      <td>150000</td>\n",
       "      <td>7</td>\n",
       "      <td>petrol</td>\n",
       "      <td>opel</td>\n",
       "      <td>unknown</td>\n",
       "      <td>2016-03-29 00:00:00</td>\n",
       "      <td>33154</td>\n",
       "      <td>2016-04-06 05:44:36</td>\n",
       "    </tr>\n",
       "    <tr>\n",
       "      <th>6296</th>\n",
       "      <td>2016-03-31 23:50:47</td>\n",
       "      <td>599</td>\n",
       "      <td>small</td>\n",
       "      <td>2002</td>\n",
       "      <td>manual</td>\n",
       "      <td>603</td>\n",
       "      <td>matiz</td>\n",
       "      <td>5000</td>\n",
       "      <td>11</td>\n",
       "      <td>petrol</td>\n",
       "      <td>chevrolet</td>\n",
       "      <td>yes</td>\n",
       "      <td>2016-03-31 00:00:00</td>\n",
       "      <td>44379</td>\n",
       "      <td>2016-04-01 03:41:52</td>\n",
       "    </tr>\n",
       "    <tr>\n",
       "      <th>6504</th>\n",
       "      <td>2016-03-14 15:54:34</td>\n",
       "      <td>3000</td>\n",
       "      <td>small</td>\n",
       "      <td>2009</td>\n",
       "      <td>manual</td>\n",
       "      <td>771</td>\n",
       "      <td>punto</td>\n",
       "      <td>125000</td>\n",
       "      <td>0</td>\n",
       "      <td>petrol</td>\n",
       "      <td>fiat</td>\n",
       "      <td>unknown</td>\n",
       "      <td>2016-03-14 00:00:00</td>\n",
       "      <td>40721</td>\n",
       "      <td>2016-03-14 15:54:34</td>\n",
       "    </tr>\n",
       "    <tr>\n",
       "      <th>...</th>\n",
       "      <td>...</td>\n",
       "      <td>...</td>\n",
       "      <td>...</td>\n",
       "      <td>...</td>\n",
       "      <td>...</td>\n",
       "      <td>...</td>\n",
       "      <td>...</td>\n",
       "      <td>...</td>\n",
       "      <td>...</td>\n",
       "      <td>...</td>\n",
       "      <td>...</td>\n",
       "      <td>...</td>\n",
       "      <td>...</td>\n",
       "      <td>...</td>\n",
       "      <td>...</td>\n",
       "    </tr>\n",
       "    <tr>\n",
       "      <th>348237</th>\n",
       "      <td>2016-04-04 12:38:11</td>\n",
       "      <td>3000</td>\n",
       "      <td>coupe</td>\n",
       "      <td>2007</td>\n",
       "      <td>manual</td>\n",
       "      <td>2007</td>\n",
       "      <td>corsa</td>\n",
       "      <td>150000</td>\n",
       "      <td>3</td>\n",
       "      <td>gasoline</td>\n",
       "      <td>opel</td>\n",
       "      <td>yes</td>\n",
       "      <td>2016-04-04 00:00:00</td>\n",
       "      <td>72218</td>\n",
       "      <td>2016-04-04 12:38:11</td>\n",
       "    </tr>\n",
       "    <tr>\n",
       "      <th>348668</th>\n",
       "      <td>2016-03-05 17:53:09</td>\n",
       "      <td>1000</td>\n",
       "      <td>wagon</td>\n",
       "      <td>1996</td>\n",
       "      <td>manual</td>\n",
       "      <td>2598</td>\n",
       "      <td>a6</td>\n",
       "      <td>150000</td>\n",
       "      <td>7</td>\n",
       "      <td>other</td>\n",
       "      <td>audi</td>\n",
       "      <td>unknown</td>\n",
       "      <td>2016-03-05 00:00:00</td>\n",
       "      <td>7646</td>\n",
       "      <td>2016-03-07 16:17:01</td>\n",
       "    </tr>\n",
       "    <tr>\n",
       "      <th>348883</th>\n",
       "      <td>2016-03-13 11:51:57</td>\n",
       "      <td>7500</td>\n",
       "      <td>sedan</td>\n",
       "      <td>2011</td>\n",
       "      <td>manual</td>\n",
       "      <td>1548</td>\n",
       "      <td>scenic</td>\n",
       "      <td>90000</td>\n",
       "      <td>4</td>\n",
       "      <td>petrol</td>\n",
       "      <td>renault</td>\n",
       "      <td>unknown</td>\n",
       "      <td>2016-03-13 00:00:00</td>\n",
       "      <td>24568</td>\n",
       "      <td>2016-04-06 15:17:39</td>\n",
       "    </tr>\n",
       "    <tr>\n",
       "      <th>351947</th>\n",
       "      <td>2016-03-07 21:36:19</td>\n",
       "      <td>1500</td>\n",
       "      <td>bus</td>\n",
       "      <td>2001</td>\n",
       "      <td>manual</td>\n",
       "      <td>1001</td>\n",
       "      <td>zafira</td>\n",
       "      <td>5000</td>\n",
       "      <td>7</td>\n",
       "      <td>gasoline</td>\n",
       "      <td>opel</td>\n",
       "      <td>no</td>\n",
       "      <td>2016-03-07 00:00:00</td>\n",
       "      <td>66117</td>\n",
       "      <td>2016-03-09 12:47:08</td>\n",
       "    </tr>\n",
       "    <tr>\n",
       "      <th>353633</th>\n",
       "      <td>2016-03-23 23:55:21</td>\n",
       "      <td>2400</td>\n",
       "      <td>sedan</td>\n",
       "      <td>2007</td>\n",
       "      <td>manual</td>\n",
       "      <td>650</td>\n",
       "      <td>c2</td>\n",
       "      <td>150000</td>\n",
       "      <td>8</td>\n",
       "      <td>petrol</td>\n",
       "      <td>citroen</td>\n",
       "      <td>unknown</td>\n",
       "      <td>2016-03-23 00:00:00</td>\n",
       "      <td>45277</td>\n",
       "      <td>2016-03-27 01:15:17</td>\n",
       "    </tr>\n",
       "  </tbody>\n",
       "</table>\n",
       "<p>264 rows × 15 columns</p>\n",
       "</div>"
      ],
      "text/plain": [
       "               date_crawled  price vehicle_type  registration_year gearbox  \\\n",
       "1816    2016-03-22 20:52:00   3200        small               2004  manual   \n",
       "4060    2016-04-03 20:31:00   3100        sedan               2005  manual   \n",
       "5328    2016-03-29 19:44:48    500        wagon               1999  manual   \n",
       "6296    2016-03-31 23:50:47    599        small               2002  manual   \n",
       "6504    2016-03-14 15:54:34   3000        small               2009  manual   \n",
       "...                     ...    ...          ...                ...     ...   \n",
       "348237  2016-04-04 12:38:11   3000        coupe               2007  manual   \n",
       "348668  2016-03-05 17:53:09   1000        wagon               1996  manual   \n",
       "348883  2016-03-13 11:51:57   7500        sedan               2011  manual   \n",
       "351947  2016-03-07 21:36:19   1500          bus               2001  manual   \n",
       "353633  2016-03-23 23:55:21   2400        sedan               2007  manual   \n",
       "\n",
       "        power    model  kilometer  registration_month fuel_type       brand  \\\n",
       "1816     1398  corolla       5000                   6    petrol      toyota   \n",
       "4060      953     colt     150000                   4  gasoline  mitsubishi   \n",
       "5328     1001    astra     150000                   7    petrol        opel   \n",
       "6296      603    matiz       5000                  11    petrol   chevrolet   \n",
       "6504      771    punto     125000                   0    petrol        fiat   \n",
       "...       ...      ...        ...                 ...       ...         ...   \n",
       "348237   2007    corsa     150000                   3  gasoline        opel   \n",
       "348668   2598       a6     150000                   7     other        audi   \n",
       "348883   1548   scenic      90000                   4    petrol     renault   \n",
       "351947   1001   zafira       5000                   7  gasoline        opel   \n",
       "353633    650       c2     150000                   8    petrol     citroen   \n",
       "\n",
       "       repaired         date_created  postal_code            last_seen  \n",
       "1816         no  2016-03-22 00:00:00        22043  2016-03-22 21:43:26  \n",
       "4060         no  2016-04-03 00:00:00        60326  2016-04-07 14:56:46  \n",
       "5328    unknown  2016-03-29 00:00:00        33154  2016-04-06 05:44:36  \n",
       "6296        yes  2016-03-31 00:00:00        44379  2016-04-01 03:41:52  \n",
       "6504    unknown  2016-03-14 00:00:00        40721  2016-03-14 15:54:34  \n",
       "...         ...                  ...          ...                  ...  \n",
       "348237      yes  2016-04-04 00:00:00        72218  2016-04-04 12:38:11  \n",
       "348668  unknown  2016-03-05 00:00:00         7646  2016-03-07 16:17:01  \n",
       "348883  unknown  2016-03-13 00:00:00        24568  2016-04-06 15:17:39  \n",
       "351947       no  2016-03-07 00:00:00        66117  2016-03-09 12:47:08  \n",
       "353633  unknown  2016-03-23 00:00:00        45277  2016-03-27 01:15:17  \n",
       "\n",
       "[264 rows x 15 columns]"
      ]
     },
     "execution_count": 36,
     "metadata": {},
     "output_type": "execute_result"
    }
   ],
   "source": [
    "data.loc[data['power'] >= 600]"
   ]
  },
  {
   "cell_type": "markdown",
   "metadata": {},
   "source": [
    "Выше видно, что данные заполнялись вообще не понятным образом. Ограничим верхний порог как 600 л.с. и нижний как 10 л.с "
   ]
  },
  {
   "cell_type": "code",
   "execution_count": 37,
   "metadata": {},
   "outputs": [],
   "source": [
    "data = data.loc[(data['power'] >= 10) & (data['power'] <= 600)]"
   ]
  },
  {
   "cell_type": "markdown",
   "metadata": {},
   "source": [
    "**Столбец `kilometer` — пробег (км)**"
   ]
  },
  {
   "cell_type": "code",
   "execution_count": 38,
   "metadata": {},
   "outputs": [
    {
     "data": {
      "text/plain": [
       "count    269428.000000\n",
       "mean     127748.749202\n",
       "std       36766.776612\n",
       "min        5000.000000\n",
       "25%      125000.000000\n",
       "50%      150000.000000\n",
       "75%      150000.000000\n",
       "max      150000.000000\n",
       "Name: kilometer, dtype: float64"
      ]
     },
     "execution_count": 38,
     "metadata": {},
     "output_type": "execute_result"
    }
   ],
   "source": [
    "data['kilometer'].describe()"
   ]
  },
  {
   "cell_type": "markdown",
   "metadata": {},
   "source": [
    "Тут все в норме. Оставляем как есть.\n",
    "\n",
    "**Столбец `registration_month` — пробег (км)**\n",
    "\n",
    "В столбце есть нулевые значения. Возможно это ошибка и это 10 месяц. Чтобы не терять часть выборки заменим на 10 месяц. "
   ]
  },
  {
   "cell_type": "code",
   "execution_count": 39,
   "metadata": {},
   "outputs": [],
   "source": [
    "data.loc[data['registration_month'] == 0, 'registration_month'] = 10"
   ]
  },
  {
   "cell_type": "markdown",
   "metadata": {},
   "source": [
    "**Столбец `postal_code` — почтовый индекс владельца анкеты**\n",
    "\n",
    "В дальнейшем столбец не понадобится, т.к. данные и синдексом владельца на цену не влияют. Его можно удалить.\n",
    "Так же можно удалить столбцы: `date_crawled`, `date_created`, `last_seen`"
   ]
  },
  {
   "cell_type": "code",
   "execution_count": 40,
   "metadata": {},
   "outputs": [],
   "source": [
    "data = data.drop(['date_crawled', 'date_created', 'postal_code', 'last_seen'],\n",
    "                 axis=1)"
   ]
  },
  {
   "cell_type": "markdown",
   "metadata": {},
   "source": [
    "**Приведение типов данных к оптимальным.**"
   ]
  },
  {
   "cell_type": "code",
   "execution_count": 41,
   "metadata": {},
   "outputs": [],
   "source": [
    "data['registration_month'] = data['registration_month'].astype('uint8')\n",
    "data[['price', 'power',\n",
    "      'registration_year']] = data[['price', 'power',\n",
    "                                    'registration_year']].astype('uint16')\n",
    "data['kilometer'] = data['kilometer'].astype('uint32')"
   ]
  },
  {
   "cell_type": "code",
   "execution_count": 42,
   "metadata": {},
   "outputs": [
    {
     "name": "stdout",
     "output_type": "stream",
     "text": [
      "\u001b[32m\u001b[1mФинальная информация по датафрейму:\u001b[0m \n",
      "\n",
      "<class 'pandas.core.frame.DataFrame'>\n",
      "Int64Index: 269428 entries, 2 to 354368\n",
      "Data columns (total 11 columns):\n",
      " #   Column              Non-Null Count   Dtype \n",
      "---  ------              --------------   ----- \n",
      " 0   price               269428 non-null  uint16\n",
      " 1   vehicle_type        269428 non-null  object\n",
      " 2   registration_year   269428 non-null  uint16\n",
      " 3   gearbox             269428 non-null  object\n",
      " 4   power               269428 non-null  uint16\n",
      " 5   model               269428 non-null  object\n",
      " 6   kilometer           269428 non-null  uint32\n",
      " 7   registration_month  269428 non-null  uint8 \n",
      " 8   fuel_type           269428 non-null  object\n",
      " 9   brand               269428 non-null  object\n",
      " 10  repaired            269428 non-null  object\n",
      "dtypes: object(6), uint16(3), uint32(1), uint8(1)\n",
      "memory usage: 17.2+ MB\n"
     ]
    }
   ],
   "source": [
    "print(\n",
    "    f\"{Fore.GREEN}{Style.BRIGHT}Финальная информация по датафрейму:{Style.RESET_ALL} \\n\"\n",
    ")\n",
    "data.info()"
   ]
  },
  {
   "cell_type": "markdown",
   "metadata": {},
   "source": [
    "**Данные подготовлены.**"
   ]
  },
  {
   "cell_type": "markdown",
   "metadata": {},
   "source": [
    "## Обучение моделей"
   ]
  },
  {
   "cell_type": "markdown",
   "metadata": {},
   "source": [
    "**Выделение целевого признака и признаков для обучения.**"
   ]
  },
  {
   "cell_type": "code",
   "execution_count": 43,
   "metadata": {},
   "outputs": [],
   "source": [
    "target = data['price']\n",
    "features = data.drop(['price'], axis=1)"
   ]
  },
  {
   "cell_type": "markdown",
   "metadata": {},
   "source": [
    "**Разбиение на тренировочную и тестовую выборки в соотношении 80% на 20%.**"
   ]
  },
  {
   "cell_type": "code",
   "execution_count": 44,
   "metadata": {},
   "outputs": [],
   "source": [
    "features_train, features_test, target_train, target_test = train_test_split(\n",
    "    features, target, test_size=.2, random_state=RANDOM)"
   ]
  },
  {
   "cell_type": "markdown",
   "metadata": {},
   "source": [
    "**Проверка разбиения на выборки.**"
   ]
  },
  {
   "cell_type": "code",
   "execution_count": 45,
   "metadata": {},
   "outputs": [
    {
     "data": {
      "text/plain": [
       "((215542, 10), (215542,), (53886, 10), (53886,))"
      ]
     },
     "execution_count": 45,
     "metadata": {},
     "output_type": "execute_result"
    }
   ],
   "source": [
    "features_train.shape, target_train.shape, features_test.shape, target_test.shape"
   ]
  },
  {
   "cell_type": "markdown",
   "metadata": {},
   "source": [
    "В обучении будут использованы 5 моделей:\n",
    "\n",
    "- DecisionTreeRegressor;\n",
    "- RandomForestRegressor;\n",
    "- LinearRegression;\n",
    "- LGBMRegressor;\n",
    "- CatBoostRegressor.\n",
    "\n",
    "**Инициализация моделей.**"
   ]
  },
  {
   "cell_type": "code",
   "execution_count": 46,
   "metadata": {},
   "outputs": [],
   "source": [
    "model_tree = DecisionTreeRegressor(random_state=RANDOM)\n",
    "model_forest = RandomForestRegressor(random_state=RANDOM)\n",
    "model_linreg = LinearRegression()\n",
    "model_lgbm = LGBMRegressor(random_state=RANDOM)\n",
    "model_catboost = CatBoostRegressor(iterations=30, random_state=RANDOM)"
   ]
  },
  {
   "cell_type": "markdown",
   "metadata": {},
   "source": [
    "Обучение будет проводиться с помощью создания `pipeline` и `GridSearchCV` с параметром кроссвалидации `cv=5`."
   ]
  },
  {
   "cell_type": "markdown",
   "metadata": {},
   "source": [
    "**Создание сеток с параметрами для перебора и поиска лучшего значения метрики `RMSE`.**"
   ]
  },
  {
   "cell_type": "code",
   "execution_count": 47,
   "metadata": {},
   "outputs": [],
   "source": [
    "# Сетка с гиперпараметрами для модели DecisionTreeRegressor\n",
    "param_grid_tree = {\n",
    "    'decisiontreeregressor__max_depth': np.arange(1, 16, 2),\n",
    "    'decisiontreeregressor__min_samples_leaf': np.arange(1, 11, 2),\n",
    "}\n",
    "\n",
    "# Сетка с гиперпараметрами для модели RandomForestRegressor\n",
    "param_grid_forest = {\n",
    "    'randomforestregressor__max_depth': np.arange(1, 11, 2),\n",
    "    'randomforestregressor__min_samples_leaf': np.arange(1, 11, 2)\n",
    "}\n",
    "\n",
    "# Сетка с гиперпараметрами для модели LinearRegression\n",
    "param_grid_linreg = {\n",
    "    'linearregression__fit_intercept': [True, False],\n",
    "    'linearregression__copy_X': [True, False]\n",
    "}\n",
    "\n",
    "# Сетка с гиперпараметрами для модели LGBMRegressor\n",
    "param_grid_lgbm = {\n",
    "    'lgbmregressor__max_depth': np.arange(1, 16, 2),\n",
    "    'lgbmregressor__learning_rate': np.arange(0.1, 1, 0.1)\n",
    "}\n",
    "\n",
    "# Сетка с гиперпараметрами для модели CatBoostRegressor\n",
    "param_grid_catboost = {\n",
    "    'catboostregressor__max_depth': np.arange(1, 16, 2),\n",
    "    'catboostregressor__learning_rate': np.arange(0.1, 1, 0.2),\n",
    "    'catboostregressor__verbose': [False]\n",
    "}"
   ]
  },
  {
   "cell_type": "markdown",
   "metadata": {},
   "source": [
    "**Создание трансформера для масштабирования признаков для `pipeline` при помощи `make_column_transformer` и `make_column_selector`.**\n",
    "\n",
    "Для моделей: `DecisionTreeRegressor`, `RandomForestRegressor`, `LGBMRegressor`, `CatBoostRegressor` будет использован `OrdinalEncoder`.\n",
    "\n",
    "Для модели `LinearRegression` - `OneHotEncoder`.\n",
    "\n",
    "Числовые признаки будут преобразованя через `RobustScaler`."
   ]
  },
  {
   "cell_type": "code",
   "execution_count": 48,
   "metadata": {},
   "outputs": [],
   "source": [
    "transformer = make_column_transformer(\n",
    "    (OrdinalEncoder(\n",
    "        dtype='int16', handle_unknown='use_encoded_value',\n",
    "        unknown_value=-1), make_column_selector(dtype_include='object')),\n",
    "    (RobustScaler(), make_column_selector(dtype_exclude='object')),\n",
    "    remainder='passthrough')\n",
    "\n",
    "transformer_linreg = make_column_transformer(\n",
    "    (OneHotEncoder(dtype='int16', handle_unknown='ignore'),\n",
    "     make_column_selector(dtype_include='object')),\n",
    "    (RobustScaler(), make_column_selector(dtype_exclude='object')),\n",
    "    remainder='passthrough')"
   ]
  },
  {
   "cell_type": "markdown",
   "metadata": {},
   "source": [
    "**Создание пайпов для моделей**"
   ]
  },
  {
   "cell_type": "code",
   "execution_count": 49,
   "metadata": {},
   "outputs": [],
   "source": [
    "pipe_tree = make_pipeline(transformer, model_tree)\n",
    "pipe_forest = make_pipeline(transformer, model_forest)\n",
    "pipe_linreg = make_pipeline(transformer_linreg, model_linreg)\n",
    "pipe_lgbm = make_pipeline(transformer, model_lgbm)\n",
    "pipe_catboost = make_pipeline(transformer, model_catboost)"
   ]
  },
  {
   "cell_type": "markdown",
   "metadata": {},
   "source": [
    "**Финальная сборка в `GridSearchCV`.**"
   ]
  },
  {
   "cell_type": "code",
   "execution_count": 50,
   "metadata": {},
   "outputs": [],
   "source": [
    "tree_final = GridSearchCV(pipe_tree,\n",
    "                          param_grid_tree,\n",
    "                          scoring='neg_mean_squared_error',\n",
    "                          cv=5,\n",
    "                          n_jobs=-1)\n",
    "forest_final = GridSearchCV(pipe_forest,\n",
    "                            param_grid_forest,\n",
    "                            scoring='neg_mean_squared_error',\n",
    "                            cv=5,\n",
    "                            n_jobs=-1)\n",
    "linreg_final = GridSearchCV(pipe_linreg,\n",
    "                            param_grid_linreg,\n",
    "                            scoring='neg_mean_squared_error',\n",
    "                            cv=5,\n",
    "                            n_jobs=-1)\n",
    "lgbm_final = GridSearchCV(pipe_lgbm,\n",
    "                          param_grid_lgbm,\n",
    "                          scoring='neg_mean_squared_error',\n",
    "                          cv=5,\n",
    "                          n_jobs=-1)\n",
    "catboost_final = GridSearchCV(pipe_catboost,\n",
    "                              param_grid_catboost,\n",
    "                              scoring='neg_mean_squared_error',\n",
    "                              cv=5,\n",
    "                              n_jobs=-1)"
   ]
  },
  {
   "cell_type": "markdown",
   "metadata": {},
   "source": [
    "**Обучение модели `DecisionTreeRegressor`.**"
   ]
  },
  {
   "cell_type": "code",
   "execution_count": 51,
   "metadata": {},
   "outputs": [
    {
     "name": "stdout",
     "output_type": "stream",
     "text": [
      "\u001b[30m\u001b[1mМодель обучена.\u001b[0m\n"
     ]
    }
   ],
   "source": [
    "start = time.time()\n",
    "tree_final.fit(features_train, target_train)\n",
    "end = time.time()\n",
    "tree_train_time = round(end - start, 2)\n",
    "\n",
    "print(f\"{Fore.BLACK}{Style.BRIGHT}Модель обучена.{Style.RESET_ALL}\")"
   ]
  },
  {
   "cell_type": "code",
   "execution_count": 52,
   "metadata": {},
   "outputs": [
    {
     "name": "stdout",
     "output_type": "stream",
     "text": [
      "\u001b[32m\u001b[1mВремя обучения модели: 95.49 секунд(ы).\u001b[0m\n",
      "\n",
      "\u001b[31m\u001b[1mЛучшие гипермараметры: {'decisiontreeregressor__max_depth': 15, 'decisiontreeregressor__min_samples_leaf': 9}\u001b[0m\n",
      "\n",
      "\u001b[34m\u001b[1mRMSE модели: 1771.1698\u001b[0m\n"
     ]
    }
   ],
   "source": [
    "print(\n",
    "    f\"{Fore.GREEN}{Style.BRIGHT}Время обучения модели: {tree_train_time} секунд(ы).{Style.RESET_ALL}\\n\"\n",
    ")\n",
    "print(\n",
    "    f\"{Fore.RED}{Style.BRIGHT}Лучшие гипермараметры: {tree_final.best_params_}{Style.RESET_ALL}\\n\"\n",
    ")\n",
    "\n",
    "rmse_tree = round(np.sqrt(-1 * tree_final.best_score_), 4)\n",
    "\n",
    "print(f\"{Fore.BLUE}{Style.BRIGHT}RMSE модели: {rmse_tree}{Style.RESET_ALL}\")"
   ]
  },
  {
   "cell_type": "markdown",
   "metadata": {},
   "source": [
    "**Время предсказания модели `DecisionTreeRegressor` на тренировочной выборке с наилучшими гиперпараметрами.**"
   ]
  },
  {
   "cell_type": "code",
   "execution_count": 53,
   "metadata": {},
   "outputs": [
    {
     "name": "stdout",
     "output_type": "stream",
     "text": [
      "\u001b[32m\u001b[1mВремя предсказаний модели: 0.31 секунд(ы).\u001b[0m\n",
      "\n"
     ]
    }
   ],
   "source": [
    "start = time.time()\n",
    "predicted_tree = tree_final.best_estimator_.predict(features_train)\n",
    "end = time.time()\n",
    "tree_predict_time = round(end - start, 2)\n",
    "\n",
    "print(\n",
    "    f\"{Fore.GREEN}{Style.BRIGHT}Время предсказаний модели: {tree_predict_time} секунд(ы).{Style.RESET_ALL}\\n\"\n",
    ")"
   ]
  },
  {
   "cell_type": "markdown",
   "metadata": {},
   "source": [
    "**Обучение модели `RandomForestRegressor`.**"
   ]
  },
  {
   "cell_type": "code",
   "execution_count": 54,
   "metadata": {},
   "outputs": [
    {
     "name": "stdout",
     "output_type": "stream",
     "text": [
      "\u001b[30m\u001b[1mМодель обучена.\u001b[0m\n"
     ]
    }
   ],
   "source": [
    "start = time.time()\n",
    "forest_final.fit(features_train, target_train)\n",
    "end = time.time()\n",
    "forest_train_time = round(end - start, 2)\n",
    "\n",
    "print(f\"{Fore.BLACK}{Style.BRIGHT}Модель обучена.{Style.RESET_ALL}\")"
   ]
  },
  {
   "cell_type": "code",
   "execution_count": 55,
   "metadata": {},
   "outputs": [
    {
     "name": "stdout",
     "output_type": "stream",
     "text": [
      "\u001b[32m\u001b[1mВремя обучения модели: 1456.18 секунд(ы).\u001b[0m\n",
      "\n",
      "\u001b[31m\u001b[1mЛучшие гипермараметры: {'randomforestregressor__max_depth': 9, 'randomforestregressor__min_samples_leaf': 3}\u001b[0m\n",
      "\n",
      "\u001b[34m\u001b[1mRMSE модели: 1918.3523\u001b[0m\n"
     ]
    }
   ],
   "source": [
    "print(\n",
    "    f\"{Fore.GREEN}{Style.BRIGHT}Время обучения модели: {forest_train_time} секунд(ы).{Style.RESET_ALL}\\n\"\n",
    ")\n",
    "print(\n",
    "    f\"{Fore.RED}{Style.BRIGHT}Лучшие гипермараметры: {forest_final.best_params_}{Style.RESET_ALL}\\n\"\n",
    ")\n",
    "\n",
    "rmse_forest = round(np.sqrt(-1 * forest_final.best_score_), 4)\n",
    "\n",
    "print(f\"{Fore.BLUE}{Style.BRIGHT}RMSE модели: {rmse_forest}{Style.RESET_ALL}\")"
   ]
  },
  {
   "cell_type": "markdown",
   "metadata": {},
   "source": [
    "**Время предсказания модели `RandomForestRegressor` на тренирочной выборке с наилучшими гиперпараметрами.**"
   ]
  },
  {
   "cell_type": "code",
   "execution_count": 56,
   "metadata": {},
   "outputs": [
    {
     "name": "stdout",
     "output_type": "stream",
     "text": [
      "\u001b[32m\u001b[1mВремя предсказаний модели: 1.99 секунд(ы).\u001b[0m\n",
      "\n"
     ]
    }
   ],
   "source": [
    "start = time.time()\n",
    "predicted_forest = forest_final.best_estimator_.predict(features_train)\n",
    "end = time.time()\n",
    "forest_predict_time = round(end - start, 2)\n",
    "\n",
    "print(\n",
    "    f\"{Fore.GREEN}{Style.BRIGHT}Время предсказаний модели: {forest_predict_time} секунд(ы).{Style.RESET_ALL}\\n\"\n",
    ")"
   ]
  },
  {
   "cell_type": "markdown",
   "metadata": {},
   "source": [
    "**Обучение модели `LinearRegression`.**"
   ]
  },
  {
   "cell_type": "code",
   "execution_count": 57,
   "metadata": {},
   "outputs": [
    {
     "name": "stdout",
     "output_type": "stream",
     "text": [
      "\u001b[30m\u001b[1mМодель обучена.\u001b[0m\n"
     ]
    }
   ],
   "source": [
    "start = time.time()\n",
    "linreg_final.fit(features_train, target_train)\n",
    "end = time.time()\n",
    "linreg_train_time = round(end - start, 2)\n",
    "\n",
    "print(f\"{Fore.BLACK}{Style.BRIGHT}Модель обучена.{Style.RESET_ALL}\")"
   ]
  },
  {
   "cell_type": "code",
   "execution_count": 58,
   "metadata": {},
   "outputs": [
    {
     "name": "stdout",
     "output_type": "stream",
     "text": [
      "\u001b[32m\u001b[1mВремя обучения модели: 54.12 секунд(ы).\u001b[0m\n",
      "\n",
      "\u001b[31m\u001b[1mЛучшие гипермараметры: {'linearregression__copy_X': True, 'linearregression__fit_intercept': True}\u001b[0m\n",
      "\n",
      "\u001b[34m\u001b[1mRMSE модели: 2499.4594\u001b[0m\n"
     ]
    }
   ],
   "source": [
    "print(\n",
    "    f\"{Fore.GREEN}{Style.BRIGHT}Время обучения модели: {linreg_train_time} секунд(ы).{Style.RESET_ALL}\\n\"\n",
    ")\n",
    "print(\n",
    "    f\"{Fore.RED}{Style.BRIGHT}Лучшие гипермараметры: {linreg_final.best_params_}{Style.RESET_ALL}\\n\"\n",
    ")\n",
    "\n",
    "rmse_linreg = round(np.sqrt(-1 * linreg_final.best_score_), 4)\n",
    "\n",
    "print(f\"{Fore.BLUE}{Style.BRIGHT}RMSE модели: {rmse_linreg}{Style.RESET_ALL}\")"
   ]
  },
  {
   "cell_type": "markdown",
   "metadata": {},
   "source": [
    "**Время предсказания модели `LinearRegressionr` на тренировочной выборке с наилучшими гиперпараметрами.**"
   ]
  },
  {
   "cell_type": "code",
   "execution_count": 59,
   "metadata": {},
   "outputs": [
    {
     "name": "stdout",
     "output_type": "stream",
     "text": [
      "\u001b[32m\u001b[1mВремя предсказаний модели: 0.4 секунд(ы).\u001b[0m\n",
      "\n"
     ]
    }
   ],
   "source": [
    "start = time.time()\n",
    "predicted_linreg = linreg_final.best_estimator_.predict(features_train)\n",
    "end = time.time()\n",
    "linreg_predict_time = round(end - start, 2)\n",
    "\n",
    "print(\n",
    "    f\"{Fore.GREEN}{Style.BRIGHT}Время предсказаний модели: {linreg_predict_time} секунд(ы).{Style.RESET_ALL}\\n\"\n",
    ")"
   ]
  },
  {
   "cell_type": "markdown",
   "metadata": {},
   "source": [
    "**Обучение модели `LGBMRegressor`.**"
   ]
  },
  {
   "cell_type": "code",
   "execution_count": 60,
   "metadata": {},
   "outputs": [
    {
     "name": "stdout",
     "output_type": "stream",
     "text": [
      "\u001b[30m\u001b[1mМодель обучена.\u001b[0m\n"
     ]
    }
   ],
   "source": [
    "start = time.time()\n",
    "lgbm_final.fit(features_train, target_train)\n",
    "end = time.time()\n",
    "lgbm_train_time = round(end - start, 2)\n",
    "\n",
    "print(f\"{Fore.BLACK}{Style.BRIGHT}Модель обучена.{Style.RESET_ALL}\")"
   ]
  },
  {
   "cell_type": "code",
   "execution_count": 61,
   "metadata": {},
   "outputs": [
    {
     "name": "stdout",
     "output_type": "stream",
     "text": [
      "\u001b[32m\u001b[1mВремя обучения модели: 398.16 секунд(ы).\u001b[0m\n",
      "\n",
      "\u001b[31m\u001b[1mЛучшие гипермараметры: {'lgbmregressor__learning_rate': 0.4, 'lgbmregressor__max_depth': 11}\u001b[0m\n",
      "\n",
      "\u001b[34m\u001b[1mRMSE модели: 1575.6321\u001b[0m\n"
     ]
    }
   ],
   "source": [
    "print(\n",
    "    f\"{Fore.GREEN}{Style.BRIGHT}Время обучения модели: {lgbm_train_time} секунд(ы).{Style.RESET_ALL}\\n\"\n",
    ")\n",
    "print(\n",
    "    f\"{Fore.RED}{Style.BRIGHT}Лучшие гипермараметры: {lgbm_final.best_params_}{Style.RESET_ALL}\\n\"\n",
    ")\n",
    "\n",
    "rmse_lgbm = round(np.sqrt(-1 * lgbm_final.best_score_), 4)\n",
    "\n",
    "print(f\"{Fore.BLUE}{Style.BRIGHT}RMSE модели: {rmse_lgbm}{Style.RESET_ALL}\")"
   ]
  },
  {
   "cell_type": "markdown",
   "metadata": {},
   "source": [
    "**Время предсказания модели `LGBMRegressor` на тренировочной выборке с наилучшими гиперпараметрами.**"
   ]
  },
  {
   "cell_type": "code",
   "execution_count": 62,
   "metadata": {},
   "outputs": [
    {
     "name": "stdout",
     "output_type": "stream",
     "text": [
      "\u001b[32m\u001b[1mВремя предсказаний модели: 1.59 секунд(ы).\u001b[0m\n",
      "\n"
     ]
    }
   ],
   "source": [
    "start = time.time()\n",
    "predicted_lgbm = lgbm_final.best_estimator_.predict(features_train)\n",
    "end = time.time()\n",
    "lgbm_predict_time = round(end - start, 2)\n",
    "\n",
    "print(\n",
    "    f\"{Fore.GREEN}{Style.BRIGHT}Время предсказаний модели: {lgbm_predict_time} секунд(ы).{Style.RESET_ALL}\\n\"\n",
    ")"
   ]
  },
  {
   "cell_type": "markdown",
   "metadata": {},
   "source": [
    "**Обучение модели `CatBoostRegressor`.**"
   ]
  },
  {
   "cell_type": "code",
   "execution_count": 63,
   "metadata": {},
   "outputs": [
    {
     "name": "stdout",
     "output_type": "stream",
     "text": [
      "\u001b[30m\u001b[1mМодель обучена.\u001b[0m\n"
     ]
    }
   ],
   "source": [
    "start = time.time()\n",
    "catboost_final.fit(features_train, target_train)\n",
    "end = time.time()\n",
    "catboost_train_time = round(end - start, 2)\n",
    "\n",
    "print(f\"{Fore.BLACK}{Style.BRIGHT}Модель обучена.{Style.RESET_ALL}\")"
   ]
  },
  {
   "cell_type": "code",
   "execution_count": 64,
   "metadata": {},
   "outputs": [
    {
     "name": "stdout",
     "output_type": "stream",
     "text": [
      "\u001b[32m\u001b[1mВремя обучения модели: 640.01 секунд(ы).\u001b[0m\n",
      "\n",
      "\u001b[31m\u001b[1mЛучшие гипермараметры: {'catboostregressor__learning_rate': 0.5000000000000001, 'catboostregressor__max_depth': 15, 'catboostregressor__verbose': False}\u001b[0m\n",
      "\n",
      "\u001b[34m\u001b[1mRMSE модели: 1589.534\u001b[0m\n"
     ]
    }
   ],
   "source": [
    "print(\n",
    "    f\"{Fore.GREEN}{Style.BRIGHT}Время обучения модели: {catboost_train_time} секунд(ы).{Style.RESET_ALL}\\n\"\n",
    ")\n",
    "print(\n",
    "    f\"{Fore.RED}{Style.BRIGHT}Лучшие гипермараметры: {catboost_final.best_params_}{Style.RESET_ALL}\\n\"\n",
    ")\n",
    "\n",
    "rmse_catboost = round(np.sqrt(-1 * catboost_final.best_score_), 4)\n",
    "\n",
    "print(\n",
    "    f\"{Fore.BLUE}{Style.BRIGHT}RMSE модели: {rmse_catboost}{Style.RESET_ALL}\")"
   ]
  },
  {
   "cell_type": "markdown",
   "metadata": {},
   "source": [
    "**Время предсказания модели `CatBoostRegressor` на тренировочной выборке с наилучшими гиперпараметрами.**"
   ]
  },
  {
   "cell_type": "code",
   "execution_count": 65,
   "metadata": {},
   "outputs": [
    {
     "name": "stdout",
     "output_type": "stream",
     "text": [
      "\u001b[32m\u001b[1mВремя предсказаний модели: 0.9 секунд(ы).\u001b[0m\n",
      "\n"
     ]
    }
   ],
   "source": [
    "start = time.time()\n",
    "predicted_catboost = catboost_final.best_estimator_.predict(features_train)\n",
    "end = time.time()\n",
    "catboost_predict_time = round(end - start, 2)\n",
    "\n",
    "print(\n",
    "    f\"{Fore.GREEN}{Style.BRIGHT}Время предсказаний модели: {catboost_predict_time} секунд(ы).{Style.RESET_ALL}\\n\"\n",
    ")"
   ]
  },
  {
   "cell_type": "markdown",
   "metadata": {},
   "source": [
    "**Модели обучены, предсказания сделаны, метрики получены.**"
   ]
  },
  {
   "cell_type": "markdown",
   "metadata": {},
   "source": [
    "## Анализ моделей"
   ]
  },
  {
   "cell_type": "markdown",
   "metadata": {},
   "source": [
    "**Сведение полученных данных в общую таблицу.**"
   ]
  },
  {
   "cell_type": "code",
   "execution_count": 66,
   "metadata": {},
   "outputs": [
    {
     "data": {
      "text/html": [
       "<div>\n",
       "<style scoped>\n",
       "    .dataframe tbody tr th:only-of-type {\n",
       "        vertical-align: middle;\n",
       "    }\n",
       "\n",
       "    .dataframe tbody tr th {\n",
       "        vertical-align: top;\n",
       "    }\n",
       "\n",
       "    .dataframe thead th {\n",
       "        text-align: right;\n",
       "    }\n",
       "</style>\n",
       "<table border=\"1\" class=\"dataframe\">\n",
       "  <thead>\n",
       "    <tr style=\"text-align: right;\">\n",
       "      <th></th>\n",
       "      <th>RMSE train</th>\n",
       "      <th>Time train seconds</th>\n",
       "      <th>Time predict seconds</th>\n",
       "    </tr>\n",
       "  </thead>\n",
       "  <tbody>\n",
       "    <tr>\n",
       "      <th>DecisionTreeRegressor</th>\n",
       "      <td>1771.1698</td>\n",
       "      <td>95.49</td>\n",
       "      <td>0.31</td>\n",
       "    </tr>\n",
       "    <tr>\n",
       "      <th>RandomForestRegressor</th>\n",
       "      <td>1918.3523</td>\n",
       "      <td>1456.18</td>\n",
       "      <td>1.99</td>\n",
       "    </tr>\n",
       "    <tr>\n",
       "      <th>LinearRegression</th>\n",
       "      <td>2499.4594</td>\n",
       "      <td>54.12</td>\n",
       "      <td>0.40</td>\n",
       "    </tr>\n",
       "    <tr>\n",
       "      <th>LGBMRegressor</th>\n",
       "      <td>1575.6321</td>\n",
       "      <td>398.16</td>\n",
       "      <td>1.59</td>\n",
       "    </tr>\n",
       "    <tr>\n",
       "      <th>CatBoostRegressor</th>\n",
       "      <td>1589.5340</td>\n",
       "      <td>640.01</td>\n",
       "      <td>0.90</td>\n",
       "    </tr>\n",
       "  </tbody>\n",
       "</table>\n",
       "</div>"
      ],
      "text/plain": [
       "                       RMSE train  Time train seconds  Time predict seconds\n",
       "DecisionTreeRegressor   1771.1698               95.49                  0.31\n",
       "RandomForestRegressor   1918.3523             1456.18                  1.99\n",
       "LinearRegression        2499.4594               54.12                  0.40\n",
       "LGBMRegressor           1575.6321              398.16                  1.59\n",
       "CatBoostRegressor       1589.5340              640.01                  0.90"
      ]
     },
     "execution_count": 66,
     "metadata": {},
     "output_type": "execute_result"
    }
   ],
   "source": [
    "data_f1 = {\n",
    "    'RMSE train':\n",
    "    [rmse_tree, rmse_forest, rmse_linreg, rmse_lgbm, rmse_catboost],\n",
    "    'Time train seconds': [\n",
    "        tree_train_time, forest_train_time, linreg_train_time, lgbm_train_time,\n",
    "        catboost_train_time\n",
    "    ],\n",
    "    'Time predict seconds': [\n",
    "        tree_predict_time, forest_predict_time, linreg_predict_time,\n",
    "        lgbm_predict_time, catboost_predict_time\n",
    "    ]\n",
    "}\n",
    "\n",
    "data_result = pd.DataFrame(data_f1,\n",
    "                           index=[\n",
    "                               'DecisionTreeRegressor',\n",
    "                               'RandomForestRegressor', 'LinearRegression',\n",
    "                               'LGBMRegressor', 'CatBoostRegressor'\n",
    "                           ])\n",
    "data_result"
   ]
  },
  {
   "cell_type": "markdown",
   "metadata": {},
   "source": [
    "**Важно!**\n",
    "\n",
    "Т.к. при обучении использовались пайплайны, gridsearch с кроссвалидацией и перебором значений гиперпараметров в едином целом, то некоторые модели обучались достаточно долго.\n",
    "\n",
    "После прогона в тренажере, время выполнения ячеек с обучением моделей было очень долгим....\n",
    "    \n",
    "Но метрики не изменились, разве что совсем немного в долях после запятой.\n",
    "\n",
    "Результат по времени выполнения выше в разы: от 2 до 10 раз превышение по времени идет..   \n",
    "\n",
    "Поэтому для ревью был загружен проект с локальной машины. Параметры тоже достаточно слабые (старенький двухядерный: Intel© Core™ i7-4510U CPU @ 2.00GHz, ОП -8 Гб)\n",
    "    \n",
    "Соответственно время выполнения конечно будет уменьшаться при использовании мощных современных процессоров. Заказчику стоит обратить на это внимание..   "
   ]
  },
  {
   "cell_type": "markdown",
   "metadata": {},
   "source": [
    "Из приведенной таблицы видно, что все модели достигли нужного значения метрики `RMSE` до 2500.\n",
    "\n",
    "Самая быстрая модель - `LinearRegression`, но она имеет самый худший результат.\n",
    "\n",
    "`RandomForestRegressor` - самый долгий вариант.\n",
    "\n",
    "`DecisionTreeRegressor` - 2-е место по скорости обучения, но 3-е по качеству.\n",
    "\n",
    "`CatBoostRegressor` - 4-е место по скорости обучения, но 2-е по качеству.\n",
    "\n",
    "`LGBMRegressor` - 3-е место по скорости обучения, и самое главное 1-е по качеству. Модель обучалась с перебором параметров и кросвалидацией около 5 минут.\n",
    "\n",
    "В принципе время для обучения модели не критичное.\n",
    "\n",
    "Поэтому можно рекомендовать модель на `LGBMRegressor`. "
   ]
  },
  {
   "cell_type": "markdown",
   "metadata": {},
   "source": [
    "## Тестирование лучшей модели"
   ]
  },
  {
   "cell_type": "markdown",
   "metadata": {},
   "source": [
    "**Время предсказания модели `LGBMRegressor` и `RMSE` на тестовой выборке с наилучшими гиперпараметрами.**"
   ]
  },
  {
   "cell_type": "code",
   "execution_count": 67,
   "metadata": {},
   "outputs": [
    {
     "name": "stdout",
     "output_type": "stream",
     "text": [
      "\u001b[31m\u001b[1mЛучшие гипермараметры: {'lgbmregressor__learning_rate': 0.4, 'lgbmregressor__max_depth': 11}\u001b[0m\n",
      "\n",
      "\u001b[32m\u001b[1mВремя предсказаний модели: 0.24 секунд(ы).\u001b[0m\n",
      "\n",
      "\u001b[34m\u001b[1mRMSE модели на тестовой выборке: 1570.6206\u001b[0m\n"
     ]
    }
   ],
   "source": [
    "print(\n",
    "    f\"{Fore.RED}{Style.BRIGHT}Лучшие гипермараметры: {lgbm_final.best_params_}{Style.RESET_ALL}\\n\"\n",
    ")\n",
    "\n",
    "start = time.time()\n",
    "predicted_lgbm = lgbm_final.best_estimator_.predict(features_test)\n",
    "end = time.time()\n",
    "lgbm_predict_time_test = round(end - start, 2)\n",
    "\n",
    "print(\n",
    "    f\"{Fore.GREEN}{Style.BRIGHT}Время предсказаний модели: {lgbm_predict_time_test} секунд(ы).{Style.RESET_ALL}\\n\"\n",
    ")\n",
    "\n",
    "rmse_lgbm_test = round(\n",
    "    np.sqrt(mean_squared_error(target_test, predicted_lgbm)), 4)\n",
    "\n",
    "print(\n",
    "    f\"{Fore.BLUE}{Style.BRIGHT}RMSE модели на тестовой выборке: {rmse_lgbm_test}{Style.RESET_ALL}\"\n",
    ")"
   ]
  },
  {
   "cell_type": "markdown",
   "metadata": {},
   "source": [
    "Рекомендованая модель LGBMRegressor с гиперпараметрами `learning_rate: 0.4`, `max_depth': 11` протестирована на тестовой выборке. `RMSE` получилась чуть лучше - `1570.6206`."
   ]
  },
  {
   "cell_type": "markdown",
   "metadata": {},
   "source": [
    "## Вывод"
   ]
  },
  {
   "cell_type": "markdown",
   "metadata": {},
   "source": [
    "В процессе исследования были.\n",
    "\n",
    "- изучены данные, обработаны пропуски и аномалии, приведены типы данных к оптимальным и удалены неинформативные столбцы; \n",
    "- подготовлены выборки для обучения моделей;\n",
    "- обучены разные модели:\n",
    "   - DecisionTreeRegressor;\n",
    "   - RandomForestRegressor;\n",
    "   - LinearRegression;\n",
    "   - LGBMRegressor;\n",
    "   - CatBoostRegressor;\n",
    "\n",
    "- сведены данные по времени обучения, времени предсказания и качества моделей в единую таблицу; \n",
    "\n",
    "Лучшей моделью по качеству можно признать LGBMRegressor. Время обучения около 6 минут. `RMSE` = `1575.6321` тренировочной выборке и `1570.6206` на тестовой выборке."
   ]
  }
 ],
 "metadata": {
  "kernelspec": {
   "display_name": "Python 3 (ipykernel)",
   "language": "python",
   "name": "python3"
  },
  "language_info": {
   "codemirror_mode": {
    "name": "ipython",
    "version": 3
   },
   "file_extension": ".py",
   "mimetype": "text/x-python",
   "name": "python",
   "nbconvert_exporter": "python",
   "pygments_lexer": "ipython3",
   "version": "3.10.9"
  },
  "latex_envs": {
   "LaTeX_envs_menu_present": true,
   "autoclose": false,
   "autocomplete": true,
   "bibliofile": "biblio.bib",
   "cite_by": "apalike",
   "current_citInitial": 1,
   "eqLabelWithNumbers": true,
   "eqNumInitial": 1,
   "hotkeys": {
    "equation": "Ctrl-E",
    "itemize": "Ctrl-I"
   },
   "labels_anchors": false,
   "latex_user_defs": false,
   "report_style_numbering": false,
   "user_envs_cfg": false
  },
  "toc": {
   "base_numbering": 1,
   "nav_menu": {},
   "number_sections": true,
   "sideBar": true,
   "skip_h1_title": true,
   "title_cell": "Table of Contents",
   "title_sidebar": "Contents",
   "toc_cell": false,
   "toc_position": {},
   "toc_section_display": true,
   "toc_window_display": false
  },
  "varInspector": {
   "cols": {
    "lenName": 16,
    "lenType": 16,
    "lenVar": 40
   },
   "kernels_config": {
    "python": {
     "delete_cmd_postfix": "",
     "delete_cmd_prefix": "del ",
     "library": "var_list.py",
     "varRefreshCmd": "print(var_dic_list())"
    },
    "r": {
     "delete_cmd_postfix": ") ",
     "delete_cmd_prefix": "rm(",
     "library": "var_list.r",
     "varRefreshCmd": "cat(var_dic_list()) "
    }
   },
   "types_to_exclude": [
    "module",
    "function",
    "builtin_function_or_method",
    "instance",
    "_Feature"
   ],
   "window_display": false
  }
 },
 "nbformat": 4,
 "nbformat_minor": 4
}
