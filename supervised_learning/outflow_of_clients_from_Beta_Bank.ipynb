{
 "cells": [
  {
   "cell_type": "markdown",
   "metadata": {},
   "source": [
    "# Отток клиентов"
   ]
  },
  {
   "cell_type": "markdown",
   "metadata": {},
   "source": [
    "## Описание проекта\n",
    "\n",
    "Из «Бета-Банка» стали уходить клиенты. Каждый месяц. Немного, но заметно. Банковские маркетологи посчитали: сохранять текущих клиентов дешевле, чем привлекать новых.\n",
    "\n",
    "Нужно спрогнозировать, уйдёт клиент из банка в ближайшее время или нет. В наличии есть исторические данные о поведении клиентов и расторжении договоров с банком. \n",
    "\n",
    "Необходимо построить модель с предельно большим значением *F1*-меры. Довести метрику до 0.59. Проверить *F1*-меру на тестовой выборке самостоятельно.\n",
    "\n",
    "Дополнительно вычислить *AUC-ROC*, и сравнить её значение с *F1*-мерой.\n",
    "\n",
    "Источник данных: [https://www.kaggle.com/barelydedicated/bank-customer-churn-modeling](https://www.kaggle.com/barelydedicated/bank-customer-churn-modeling)"
   ]
  },
  {
   "cell_type": "markdown",
   "metadata": {},
   "source": [
    "## Описание данных\n",
    "\n",
    "### Признаки\n",
    "\n",
    "- `RowNumber` — индекс строки в данных\n",
    "- `CustomerId` — уникальный идентификатор клиента\n",
    "- `Surname` — фамилия\n",
    "- `CreditScore` — кредитный рейтинг\n",
    "- `Geography` — страна проживания\n",
    "- `Gender` — пол\n",
    "- `Age` — возраст\n",
    "- `Tenure` — сколько лет человек является клиентом банка\n",
    "- `Balance` — баланс на счёте\n",
    "- `NumOfProducts` — количество продуктов банка, используемых клиентом\n",
    "- `HasCrCard` — наличие кредитной карты\n",
    "- `IsActiveMember` — активность клиента\n",
    "- `EstimatedSalary` — предполагаемая зарплата\n",
    "\n",
    "### Целевой признак\n",
    "\n",
    "- `Exited` — факт ухода клиента"
   ]
  },
  {
   "cell_type": "markdown",
   "metadata": {},
   "source": [
    "## Подготовка данных"
   ]
  },
  {
   "cell_type": "markdown",
   "metadata": {},
   "source": [
    "### Импорт необходимыx библиотек для работы"
   ]
  },
  {
   "cell_type": "code",
   "execution_count": 1,
   "metadata": {},
   "outputs": [],
   "source": [
    "import pandas as pd\n",
    "import matplotlib.pyplot as plt\n",
    "\n",
    "from sklearn.tree import DecisionTreeClassifier\n",
    "from sklearn.ensemble import RandomForestClassifier\n",
    "from sklearn.linear_model import LogisticRegression\n",
    "from sklearn.model_selection import train_test_split\n",
    "from sklearn.preprocessing import OrdinalEncoder\n",
    "from sklearn.preprocessing import StandardScaler\n",
    "from sklearn.metrics import f1_score\n",
    "from sklearn.utils import shuffle\n",
    "from sklearn.metrics import roc_curve\n",
    "from sklearn.metrics import roc_auc_score\n",
    "from sklearn.metrics import accuracy_score\n",
    "\n",
    "RANDOM = 42  # значение random_state для моделирования\n",
    "pd.options.mode.chained_assignment = None"
   ]
  },
  {
   "cell_type": "markdown",
   "metadata": {},
   "source": [
    "###  Загружаем данные из файла `Churn.csv` в датафрейм `data`."
   ]
  },
  {
   "cell_type": "code",
   "execution_count": 2,
   "metadata": {},
   "outputs": [],
   "source": [
    "try:\n",
    "    data = pd.read_csv(\"/datasets/Churn.csv\")\n",
    "except FileNotFoundError:\n",
    "    data = pd.read_csv(\"https://code.s3.yandex.net/datasets/Churn.csv\")"
   ]
  },
  {
   "cell_type": "markdown",
   "metadata": {},
   "source": [
    "### Посмотрим правильность загрузки данных методом `head()` и информацию по дарафрейму методом `info()`"
   ]
  },
  {
   "cell_type": "code",
   "execution_count": 3,
   "metadata": {},
   "outputs": [
    {
     "data": {
      "text/html": [
       "<div>\n",
       "<style scoped>\n",
       "    .dataframe tbody tr th:only-of-type {\n",
       "        vertical-align: middle;\n",
       "    }\n",
       "\n",
       "    .dataframe tbody tr th {\n",
       "        vertical-align: top;\n",
       "    }\n",
       "\n",
       "    .dataframe thead th {\n",
       "        text-align: right;\n",
       "    }\n",
       "</style>\n",
       "<table border=\"1\" class=\"dataframe\">\n",
       "  <thead>\n",
       "    <tr style=\"text-align: right;\">\n",
       "      <th></th>\n",
       "      <th>RowNumber</th>\n",
       "      <th>CustomerId</th>\n",
       "      <th>Surname</th>\n",
       "      <th>CreditScore</th>\n",
       "      <th>Geography</th>\n",
       "      <th>Gender</th>\n",
       "      <th>Age</th>\n",
       "      <th>Tenure</th>\n",
       "      <th>Balance</th>\n",
       "      <th>NumOfProducts</th>\n",
       "      <th>HasCrCard</th>\n",
       "      <th>IsActiveMember</th>\n",
       "      <th>EstimatedSalary</th>\n",
       "      <th>Exited</th>\n",
       "    </tr>\n",
       "  </thead>\n",
       "  <tbody>\n",
       "    <tr>\n",
       "      <th>0</th>\n",
       "      <td>1</td>\n",
       "      <td>15634602</td>\n",
       "      <td>Hargrave</td>\n",
       "      <td>619</td>\n",
       "      <td>France</td>\n",
       "      <td>Female</td>\n",
       "      <td>42</td>\n",
       "      <td>2.0</td>\n",
       "      <td>0.00</td>\n",
       "      <td>1</td>\n",
       "      <td>1</td>\n",
       "      <td>1</td>\n",
       "      <td>101348.88</td>\n",
       "      <td>1</td>\n",
       "    </tr>\n",
       "    <tr>\n",
       "      <th>1</th>\n",
       "      <td>2</td>\n",
       "      <td>15647311</td>\n",
       "      <td>Hill</td>\n",
       "      <td>608</td>\n",
       "      <td>Spain</td>\n",
       "      <td>Female</td>\n",
       "      <td>41</td>\n",
       "      <td>1.0</td>\n",
       "      <td>83807.86</td>\n",
       "      <td>1</td>\n",
       "      <td>0</td>\n",
       "      <td>1</td>\n",
       "      <td>112542.58</td>\n",
       "      <td>0</td>\n",
       "    </tr>\n",
       "    <tr>\n",
       "      <th>2</th>\n",
       "      <td>3</td>\n",
       "      <td>15619304</td>\n",
       "      <td>Onio</td>\n",
       "      <td>502</td>\n",
       "      <td>France</td>\n",
       "      <td>Female</td>\n",
       "      <td>42</td>\n",
       "      <td>8.0</td>\n",
       "      <td>159660.80</td>\n",
       "      <td>3</td>\n",
       "      <td>1</td>\n",
       "      <td>0</td>\n",
       "      <td>113931.57</td>\n",
       "      <td>1</td>\n",
       "    </tr>\n",
       "    <tr>\n",
       "      <th>3</th>\n",
       "      <td>4</td>\n",
       "      <td>15701354</td>\n",
       "      <td>Boni</td>\n",
       "      <td>699</td>\n",
       "      <td>France</td>\n",
       "      <td>Female</td>\n",
       "      <td>39</td>\n",
       "      <td>1.0</td>\n",
       "      <td>0.00</td>\n",
       "      <td>2</td>\n",
       "      <td>0</td>\n",
       "      <td>0</td>\n",
       "      <td>93826.63</td>\n",
       "      <td>0</td>\n",
       "    </tr>\n",
       "    <tr>\n",
       "      <th>4</th>\n",
       "      <td>5</td>\n",
       "      <td>15737888</td>\n",
       "      <td>Mitchell</td>\n",
       "      <td>850</td>\n",
       "      <td>Spain</td>\n",
       "      <td>Female</td>\n",
       "      <td>43</td>\n",
       "      <td>2.0</td>\n",
       "      <td>125510.82</td>\n",
       "      <td>1</td>\n",
       "      <td>1</td>\n",
       "      <td>1</td>\n",
       "      <td>79084.10</td>\n",
       "      <td>0</td>\n",
       "    </tr>\n",
       "  </tbody>\n",
       "</table>\n",
       "</div>"
      ],
      "text/plain": [
       "   RowNumber  CustomerId   Surname  CreditScore Geography  Gender  Age  \\\n",
       "0          1    15634602  Hargrave          619    France  Female   42   \n",
       "1          2    15647311      Hill          608     Spain  Female   41   \n",
       "2          3    15619304      Onio          502    France  Female   42   \n",
       "3          4    15701354      Boni          699    France  Female   39   \n",
       "4          5    15737888  Mitchell          850     Spain  Female   43   \n",
       "\n",
       "   Tenure    Balance  NumOfProducts  HasCrCard  IsActiveMember  \\\n",
       "0     2.0       0.00              1          1               1   \n",
       "1     1.0   83807.86              1          0               1   \n",
       "2     8.0  159660.80              3          1               0   \n",
       "3     1.0       0.00              2          0               0   \n",
       "4     2.0  125510.82              1          1               1   \n",
       "\n",
       "   EstimatedSalary  Exited  \n",
       "0        101348.88       1  \n",
       "1        112542.58       0  \n",
       "2        113931.57       1  \n",
       "3         93826.63       0  \n",
       "4         79084.10       0  "
      ]
     },
     "execution_count": 3,
     "metadata": {},
     "output_type": "execute_result"
    }
   ],
   "source": [
    "data.head()"
   ]
  },
  {
   "cell_type": "code",
   "execution_count": 4,
   "metadata": {},
   "outputs": [
    {
     "name": "stdout",
     "output_type": "stream",
     "text": [
      "<class 'pandas.core.frame.DataFrame'>\n",
      "RangeIndex: 10000 entries, 0 to 9999\n",
      "Data columns (total 14 columns):\n",
      " #   Column           Non-Null Count  Dtype  \n",
      "---  ------           --------------  -----  \n",
      " 0   RowNumber        10000 non-null  int64  \n",
      " 1   CustomerId       10000 non-null  int64  \n",
      " 2   Surname          10000 non-null  object \n",
      " 3   CreditScore      10000 non-null  int64  \n",
      " 4   Geography        10000 non-null  object \n",
      " 5   Gender           10000 non-null  object \n",
      " 6   Age              10000 non-null  int64  \n",
      " 7   Tenure           9091 non-null   float64\n",
      " 8   Balance          10000 non-null  float64\n",
      " 9   NumOfProducts    10000 non-null  int64  \n",
      " 10  HasCrCard        10000 non-null  int64  \n",
      " 11  IsActiveMember   10000 non-null  int64  \n",
      " 12  EstimatedSalary  10000 non-null  float64\n",
      " 13  Exited           10000 non-null  int64  \n",
      "dtypes: float64(3), int64(8), object(3)\n",
      "memory usage: 1.1+ MB\n"
     ]
    }
   ],
   "source": [
    "data.info()"
   ]
  },
  {
   "cell_type": "markdown",
   "metadata": {},
   "source": [
    "### Удалим столбцы `RowNumber`, `CustomerId` и `Surname`. \n",
    "\n",
    "- `RowNumber` повторяет индекс датафрейма - столбец получается лишним, \n",
    "- `CustomerId` - Id клиента-  никак не зависит от действий пользователя и не влияет на модели обучения,\n",
    "- `Surname` - фамилия, то же никак не повлияет на уход из банка."
   ]
  },
  {
   "cell_type": "code",
   "execution_count": 5,
   "metadata": {},
   "outputs": [],
   "source": [
    "data = data.drop(['RowNumber', 'CustomerId', 'Surname'], axis=1)"
   ]
  },
  {
   "cell_type": "markdown",
   "metadata": {},
   "source": [
    "###  Приведем название столбцов к нижнему регистру"
   ]
  },
  {
   "cell_type": "code",
   "execution_count": 6,
   "metadata": {},
   "outputs": [],
   "source": [
    "data.columns = data.columns.str.lower()"
   ]
  },
  {
   "cell_type": "markdown",
   "metadata": {},
   "source": [
    "### Столбец `tenure`\n",
    "\n",
    "В столбце `tenure` имеются пропуски. 909 пропущенныйх значений."
   ]
  },
  {
   "cell_type": "code",
   "execution_count": 7,
   "metadata": {},
   "outputs": [
    {
     "data": {
      "text/plain": [
       "1.0     952\n",
       "2.0     950\n",
       "8.0     933\n",
       "3.0     928\n",
       "5.0     927\n",
       "7.0     925\n",
       "4.0     885\n",
       "9.0     882\n",
       "6.0     881\n",
       "10.0    446\n",
       "0.0     382\n",
       "Name: tenure, dtype: int64"
      ]
     },
     "execution_count": 7,
     "metadata": {},
     "output_type": "execute_result"
    }
   ],
   "source": [
    "data['tenure'].value_counts()"
   ]
  },
  {
   "cell_type": "code",
   "execution_count": 8,
   "metadata": {},
   "outputs": [
    {
     "data": {
      "text/plain": [
       "count    9091.000000\n",
       "mean        4.997690\n",
       "std         2.894723\n",
       "min         0.000000\n",
       "25%         2.000000\n",
       "50%         5.000000\n",
       "75%         7.000000\n",
       "max        10.000000\n",
       "Name: tenure, dtype: float64"
      ]
     },
     "execution_count": 8,
     "metadata": {},
     "output_type": "execute_result"
    }
   ],
   "source": [
    "data['tenure'].describe()"
   ]
  },
  {
   "cell_type": "markdown",
   "metadata": {},
   "source": [
    "Так как в столбце указано сколько лет человек является клиентом банка. Как видно из `value_counts()`. Значения распределены достаточно равномерно. Приблизительно одинаково по количству в зависимости от года. Заменять средним или медеинным значением будет некорретно. Проверим сооотношение выбывших клиентов к оставшимся для пропущенных и заполненных значений в столбце `tenure`."
   ]
  },
  {
   "cell_type": "code",
   "execution_count": 9,
   "metadata": {},
   "outputs": [
    {
     "data": {
      "text/plain": [
       "0.25206611570247933"
      ]
     },
     "execution_count": 9,
     "metadata": {},
     "output_type": "execute_result"
    }
   ],
   "source": [
    "len(data[(data['tenure'].isnull()) & (data['exited'] == 1)]) / len(\n",
    "    data[(data['tenure'].isnull()) & (data['exited'] == 0)])"
   ]
  },
  {
   "cell_type": "code",
   "execution_count": 10,
   "metadata": {},
   "outputs": [
    {
     "data": {
      "text/plain": [
       "0.2561835014508774"
      ]
     },
     "execution_count": 10,
     "metadata": {},
     "output_type": "execute_result"
    }
   ],
   "source": [
    "len(data[(data['tenure'].isnull() == False) & (data['exited'] == 1)]) / len(\n",
    "    data[(data['tenure'].isnull() == False) & (data['exited'] == 0)])"
   ]
  },
  {
   "cell_type": "code",
   "execution_count": 11,
   "metadata": {},
   "outputs": [
    {
     "data": {
      "image/png": "[encoded data removed]",
      "text/plain": [
       "<Figure size 1000x600 with 1 Axes>"
      ]
     },
     "metadata": {},
     "output_type": "display_data"
    }
   ],
   "source": [
    "data['exited'].value_counts(normalize=True).plot(\n",
    "    kind='bar',\n",
    "    grid=True,\n",
    "    figsize=(10, 6),\n",
    "    title='Соотношение 1 к 4 оттока клиентов')\n",
    "plt.show()"
   ]
  },
  {
   "cell_type": "markdown",
   "metadata": {},
   "source": [
    "Соотношения одинаковые 1 к 4. Так как пропусков всего 9% и соотношения они не меняют их можно удалить."
   ]
  },
  {
   "cell_type": "code",
   "execution_count": 12,
   "metadata": {},
   "outputs": [
    {
     "name": "stdout",
     "output_type": "stream",
     "text": [
      "<class 'pandas.core.frame.DataFrame'>\n",
      "Int64Index: 9091 entries, 0 to 9998\n",
      "Data columns (total 11 columns):\n",
      " #   Column           Non-Null Count  Dtype  \n",
      "---  ------           --------------  -----  \n",
      " 0   creditscore      9091 non-null   int64  \n",
      " 1   geography        9091 non-null   object \n",
      " 2   gender           9091 non-null   object \n",
      " 3   age              9091 non-null   int64  \n",
      " 4   tenure           9091 non-null   float64\n",
      " 5   balance          9091 non-null   float64\n",
      " 6   numofproducts    9091 non-null   int64  \n",
      " 7   hascrcard        9091 non-null   int64  \n",
      " 8   isactivemember   9091 non-null   int64  \n",
      " 9   estimatedsalary  9091 non-null   float64\n",
      " 10  exited           9091 non-null   int64  \n",
      "dtypes: float64(3), int64(6), object(2)\n",
      "memory usage: 852.3+ KB\n"
     ]
    }
   ],
   "source": [
    "data.dropna(inplace=True)\n",
    "data.info()"
   ]
  },
  {
   "cell_type": "markdown",
   "metadata": {},
   "source": [
    "Для уменьшения занимаемой оперативной памяти приведем типы данный к оптимальным и чуть чуть сократим занимаемую ОП.\n",
    "\n",
    "- cтолбец `age` - все значение находятся в дипазоне до 127 , можно привести к типу `int8`,\n",
    "- cтолбец `tenure` - всего 11 значений (от 0 до 10), можно привести к типу `int8`,\n",
    "- cтолбец `numofproducts` - всего 4 значения (от 1 до 4), можно привести к типу `int8`,\n",
    "- cтолбец `hascrcard` - всего 2 значения, можно привести к типу `int8`,\n",
    "- cтолбец `isactivemember` - всего 2 значения, можно привести к типу `int8`,\n",
    "- cтолбец `exited` - всего 2 значения, можно привести к типу `int8`."
   ]
  },
  {
   "cell_type": "code",
   "execution_count": 13,
   "metadata": {},
   "outputs": [
    {
     "name": "stdout",
     "output_type": "stream",
     "text": [
      "<class 'pandas.core.frame.DataFrame'>\n",
      "Int64Index: 9091 entries, 0 to 9998\n",
      "Data columns (total 11 columns):\n",
      " #   Column           Non-Null Count  Dtype  \n",
      "---  ------           --------------  -----  \n",
      " 0   creditscore      9091 non-null   int64  \n",
      " 1   geography        9091 non-null   object \n",
      " 2   gender           9091 non-null   object \n",
      " 3   age              9091 non-null   int8   \n",
      " 4   tenure           9091 non-null   int8   \n",
      " 5   balance          9091 non-null   float64\n",
      " 6   numofproducts    9091 non-null   int8   \n",
      " 7   hascrcard        9091 non-null   int8   \n",
      " 8   isactivemember   9091 non-null   int8   \n",
      " 9   estimatedsalary  9091 non-null   float64\n",
      " 10  exited           9091 non-null   int8   \n",
      "dtypes: float64(2), int64(1), int8(6), object(2)\n",
      "memory usage: 479.4+ KB\n"
     ]
    }
   ],
   "source": [
    "data[[\n",
    "    'age', 'tenure', 'numofproducts', 'hascrcard', 'isactivemember', 'exited'\n",
    "]] = data[[\n",
    "    'age', 'tenure', 'numofproducts', 'hascrcard', 'isactivemember', 'exited'\n",
    "]].astype('int8')\n",
    "data.info()"
   ]
  },
  {
   "cell_type": "markdown",
   "metadata": {},
   "source": [
    "**Вывод** \n",
    "\n",
    "Данные подготовлены к исследованию. Удалены пропуски, оптимизированы типы данных (удалось высвободить почти 50% занимаемой ОП)."
   ]
  },
  {
   "cell_type": "markdown",
   "metadata": {},
   "source": [
    "## Исследование задачи"
   ]
  },
  {
   "cell_type": "markdown",
   "metadata": {},
   "source": [
    "### Избавляемся от категориальных признаков методом One hot encoder. \n",
    "\n",
    "Применим метод `get_dummies` и создадим новый датафрейм `data_ohe`"
   ]
  },
  {
   "cell_type": "code",
   "execution_count": 14,
   "metadata": {},
   "outputs": [],
   "source": [
    "data_ohe = pd.get_dummies(data, drop_first=True)"
   ]
  },
  {
   "cell_type": "markdown",
   "metadata": {},
   "source": [
    "### Cформируем датасеты для признаков и целевого признака.\n",
    "\n",
    "Целевой признак `target` - столбец `exited`. \n",
    "\n",
    "Остальные столбцы будут являтся признаками - `features`."
   ]
  },
  {
   "cell_type": "code",
   "execution_count": 15,
   "metadata": {},
   "outputs": [],
   "source": [
    "target = data_ohe['exited']\n",
    "features = data_ohe.drop(['exited'], axis=1)"
   ]
  },
  {
   "cell_type": "markdown",
   "metadata": {},
   "source": [
    "### Разобъём данные на 3 выборки.\n",
    "\n",
    "- обучающую, \n",
    "- валидационную,\n",
    "- тестовую.\n",
    "\n",
    "Размеры тестового и валидационного наборов обычно равны. Исходные данные разбиваем в соотношении 3:1:1 (60% : 20% : 20%)\n",
    "\n",
    "Используем параметр `stratify` для распределение таргетов во всех новых датасетах."
   ]
  },
  {
   "cell_type": "code",
   "execution_count": 16,
   "metadata": {},
   "outputs": [],
   "source": [
    "features_train, features_test, target_train, target_test = train_test_split(\n",
    "    features,\n",
    "    target,\n",
    "    train_size=0.6,\n",
    "    test_size=0.4,\n",
    "    random_state=RANDOM,\n",
    "    stratify=target)\n",
    "features_test, features_valid, target_test, target_valid = train_test_split(\n",
    "    features_test,\n",
    "    target_test,\n",
    "    test_size=0.5,\n",
    "    random_state=RANDOM,\n",
    "    stratify=target_test)"
   ]
  },
  {
   "cell_type": "markdown",
   "metadata": {},
   "source": [
    "**Проверяем разбиение на выборки**"
   ]
  },
  {
   "cell_type": "code",
   "execution_count": 17,
   "metadata": {},
   "outputs": [
    {
     "name": "stdout",
     "output_type": "stream",
     "text": [
      "(5454, 11)\n",
      "(5454,)\n",
      "(1819, 11)\n",
      "(1819,)\n",
      "(1818, 11)\n",
      "(1818,)\n"
     ]
    }
   ],
   "source": [
    "print(features_train.shape)\n",
    "print(target_train.shape)\n",
    "print(features_valid.shape)\n",
    "print(target_valid.shape)\n",
    "print(features_test.shape)\n",
    "print(target_test.shape)"
   ]
  },
  {
   "cell_type": "markdown",
   "metadata": {},
   "source": [
    "Исходный датасет разделили верно."
   ]
  },
  {
   "cell_type": "markdown",
   "metadata": {},
   "source": [
    "### Стандартизируем численные признаки методом `StandardScaler()`."
   ]
  },
  {
   "cell_type": "code",
   "execution_count": 18,
   "metadata": {},
   "outputs": [],
   "source": [
    "numeric = [\n",
    "    'creditscore', 'age', 'tenure', 'balance', 'numofproducts', 'hascrcard',\n",
    "    'isactivemember', 'estimatedsalary'\n",
    "]\n",
    "scaler = StandardScaler()\n",
    "scaler.fit(features_train[numeric])\n",
    "features_train[numeric] = scaler.transform(features_train[numeric])\n",
    "features_valid[numeric] = scaler.transform(features_valid[numeric])\n",
    "features_test[numeric] = scaler.transform(features_test[numeric])"
   ]
  },
  {
   "cell_type": "markdown",
   "metadata": {},
   "source": [
    "### В исследовании несбалансированных данных будем проверять следующие модели машинного обучения:\n",
    "\n",
    "- Решающее дерево,\n",
    "- Случайный лес,\n",
    "- Логистическая регрессия."
   ]
  },
  {
   "cell_type": "markdown",
   "metadata": {},
   "source": [
    "#### Решающее дерево.\n",
    "\n",
    "Переберем варианты максимальной глубины дерева от 1 до 15 и найдем значение F1-меры."
   ]
  },
  {
   "cell_type": "code",
   "execution_count": 19,
   "metadata": {},
   "outputs": [
    {
     "name": "stdout",
     "output_type": "stream",
     "text": [
      "Наилучшая F1 - мера 0.577 в модели решающего леса достигается при глубине 8\n"
     ]
    }
   ],
   "source": [
    "best_model = None\n",
    "best_f1 = 0\n",
    "best_depth = 0\n",
    "\n",
    "for depth in range(1, 16):\n",
    "    model_tree = DecisionTreeClassifier(random_state=RANDOM, max_depth=depth)\n",
    "    model_tree.fit(features_train, target_train)\n",
    "    prediction_tree = model_tree.predict(features_valid)\n",
    "    result_f1 = round(f1_score(target_valid, prediction_tree), 3)\n",
    "    if best_f1 < result_f1:\n",
    "        best_model = model_tree\n",
    "        best_f1 = result_f1\n",
    "        best_depth = depth\n",
    "\n",
    "print(\n",
    "    f'''Наилучшая F1 - мера {best_f1} в модели решающего леса достигается при глубине {best_model.max_depth}'''\n",
    ")"
   ]
  },
  {
   "cell_type": "markdown",
   "metadata": {},
   "source": [
    "**Лучший результат F1 = 0.577 в модели решающего леса достигается при глубине 8**"
   ]
  },
  {
   "cell_type": "markdown",
   "metadata": {},
   "source": [
    "#### Случайный лес. \n",
    "\n",
    "Переберем варианты максимальной глубины дерева от 1 до 15, количества деревьев от 1 до 40 и найдем значение F1-меры."
   ]
  },
  {
   "cell_type": "code",
   "execution_count": 20,
   "metadata": {},
   "outputs": [
    {
     "name": "stdout",
     "output_type": "stream",
     "text": [
      "Наилучшая F1 мера - 0.583 в модели случайного леса достигается при глубине 10 и количестве деревьев 40\n"
     ]
    }
   ],
   "source": [
    "best_model_forest = None\n",
    "best_f1_forest = 0\n",
    "best_depth_forest = 0\n",
    "best_estim_forest = 0\n",
    "\n",
    "for depth in range(1, 16):\n",
    "    for n_estim in range(1, 41):\n",
    "        model_forest = RandomForestClassifier(random_state=RANDOM,\n",
    "                                              max_depth=depth,\n",
    "                                              n_estimators=n_estim)\n",
    "        model_forest.fit(features_train, target_train)\n",
    "        predictions_forest = model_forest.predict(features_valid)\n",
    "        forest_f1 = round(f1_score(target_valid, predictions_forest), 3)\n",
    "        if best_f1_forest < forest_f1:\n",
    "            best_model_forest = model_forest\n",
    "            best_f1_forest = forest_f1\n",
    "            best_depth_forest = depth\n",
    "            best_estim_forest = n_estim\n",
    "\n",
    "print(\n",
    "    f'''Наилучшая F1 мера - {best_f1_forest} в модели случайного леса достигается при глубине {best_model_forest.max_depth} и количестве деревьев {best_model_forest.n_estimators}'''\n",
    ")"
   ]
  },
  {
   "cell_type": "markdown",
   "metadata": {},
   "source": [
    "**Лучший результат F1 = 0.583 в модели случайного леса достигается при глубине 10 и количестве деревьев 40**"
   ]
  },
  {
   "cell_type": "markdown",
   "metadata": {},
   "source": [
    "#### Логистическая регрессия."
   ]
  },
  {
   "cell_type": "code",
   "execution_count": 21,
   "metadata": {},
   "outputs": [
    {
     "name": "stdout",
     "output_type": "stream",
     "text": [
      "Максимальное F1: 0.321\n"
     ]
    }
   ],
   "source": [
    "model_regression = LogisticRegression(random_state=RANDOM, solver='liblinear')\n",
    "model_regression.fit(features_train, target_train)\n",
    "predictions_model_regression = model_regression.predict(features_valid)\n",
    "f1_model_regression = round(\n",
    "    f1_score(target_valid, predictions_model_regression), 3)\n",
    "\n",
    "print('Максимальное F1:', f1_model_regression)"
   ]
  },
  {
   "cell_type": "markdown",
   "metadata": {},
   "source": [
    "**F1 = 0.321 в логистической регрессии.**\n",
    "\n",
    "**Вывод**\n",
    "\n",
    "В результате исследования несбалансированнных данных лучший результат показала модель случайного леса (Наилучшая F1 мера - 0.5832 в модели случайного леса достигается при глубине 10 и количестве деревьев 16)"
   ]
  },
  {
   "cell_type": "markdown",
   "metadata": {},
   "source": [
    "## Борьба с дисбалансом"
   ]
  },
  {
   "cell_type": "markdown",
   "metadata": {},
   "source": [
    "**Для борьбы с дисбалансом попробуем использовать 3 метода.**\n",
    "\n",
    "- Взвешивание классов,\n",
    "- Увеличение выборки (upsampling),\n",
    "- Уменьшение выборки (downsampling).\n",
    "\n",
    "Каждый из методов применим к трем моделям и найдем лучшее значение F1 меры."
   ]
  },
  {
   "cell_type": "markdown",
   "metadata": {},
   "source": [
    "### Балансировка классов\n",
    "\n",
    "Придам объектам редкого класса 1 больший вес используя гиперпараметр `class_weight='balanced'`"
   ]
  },
  {
   "cell_type": "markdown",
   "metadata": {},
   "source": [
    "#### Решающее дерево.\n",
    "\n",
    "Переберем варианты максимальной глубины дерева от 1 до 15 и найдем значение F1-меры."
   ]
  },
  {
   "cell_type": "code",
   "execution_count": 22,
   "metadata": {},
   "outputs": [
    {
     "name": "stdout",
     "output_type": "stream",
     "text": [
      "Наилучшая F1 - мера 0.574 в модели решающего леса достигается при глубине 5\n"
     ]
    }
   ],
   "source": [
    "best_model_balance = None\n",
    "best_f1_balance = 0\n",
    "best_depth_balance = 0\n",
    "\n",
    "for depth in range(1, 16):\n",
    "    model_tree_balance = DecisionTreeClassifier(random_state=RANDOM,\n",
    "                                                max_depth=depth,\n",
    "                                                class_weight='balanced')\n",
    "    model_tree_balance.fit(features_train, target_train)\n",
    "    prediction_tree_balance = model_tree_balance.predict(features_valid)\n",
    "    result_f1_balance = round(f1_score(target_valid, prediction_tree_balance),\n",
    "                              3)\n",
    "    if best_f1_balance < result_f1_balance:\n",
    "        best_model_balance = model_tree_balance\n",
    "        best_f1_balance = result_f1_balance\n",
    "        best_depth_balance = depth\n",
    "\n",
    "print(\n",
    "    f'''Наилучшая F1 - мера {best_f1_balance} в модели решающего леса достигается при глубине {best_model_balance.max_depth}'''\n",
    ")"
   ]
  },
  {
   "cell_type": "markdown",
   "metadata": {},
   "source": [
    "**Значение F1 чуть увеличилось до 0,574, но пока не дотягивается до необходимого..**"
   ]
  },
  {
   "cell_type": "markdown",
   "metadata": {},
   "source": [
    "#### Случайный лес. \n",
    "\n",
    "Переберем варианты максимальной глубины дерева от 1 до 15, количества деревьев от 1 до 40 и найдем значение F1-меры."
   ]
  },
  {
   "cell_type": "code",
   "execution_count": 23,
   "metadata": {},
   "outputs": [
    {
     "name": "stdout",
     "output_type": "stream",
     "text": [
      "Наилучшая F1 мера - 0.613 в модели случайного леса достигается при глубине 7 и количестве деревьев 19\n"
     ]
    }
   ],
   "source": [
    "best_model_forest_balance = None\n",
    "best_f1_forest_balance = 0\n",
    "best_depth_forest_balance = 0\n",
    "best_estim_forest_balance = 0\n",
    "\n",
    "for depth in range(1, 16):\n",
    "    for n_estim in range(1, 41):\n",
    "        model_forest_balance = RandomForestClassifier(random_state=RANDOM,\n",
    "                                                      max_depth=depth,\n",
    "                                                      n_estimators=n_estim,\n",
    "                                                      class_weight='balanced')\n",
    "        model_forest_balance.fit(features_train, target_train)\n",
    "        predictions_forest_balance = model_forest_balance.predict(\n",
    "            features_valid)\n",
    "        forest_f1_balance = round(\n",
    "            f1_score(target_valid, predictions_forest_balance), 3)\n",
    "        if best_f1_forest_balance < forest_f1_balance:\n",
    "            best_model_forest_balance = model_forest_balance\n",
    "            best_f1_forest_balance = forest_f1_balance\n",
    "            best_depth_forest_balance = depth\n",
    "            best_estim_forest_balance = n_estim\n",
    "\n",
    "print(\n",
    "    f'''Наилучшая F1 мера - {best_f1_forest_balance} в модели случайного леса достигается при глубине {best_model_forest_balance.max_depth} и количестве деревьев {best_model_forest_balance.n_estimators}'''\n",
    ")"
   ]
  },
  {
   "cell_type": "markdown",
   "metadata": {},
   "source": [
    "**Значение F1 увеличилось до 0.613, но все равно другими методами можно попробовать его увеличить.**"
   ]
  },
  {
   "cell_type": "markdown",
   "metadata": {},
   "source": [
    "#### Логистическая регрессия."
   ]
  },
  {
   "cell_type": "code",
   "execution_count": 24,
   "metadata": {},
   "outputs": [
    {
     "name": "stdout",
     "output_type": "stream",
     "text": [
      "Максимальное F1: 0.481\n"
     ]
    }
   ],
   "source": [
    "model_regression_balance = LogisticRegression(random_state=RANDOM,\n",
    "                                              solver='liblinear',\n",
    "                                              class_weight='balanced')\n",
    "model_regression_balance.fit(features_train, target_train)\n",
    "predictions_model_regression_balance = model_regression_balance.predict(\n",
    "    features_valid)\n",
    "f1_model_regression_balance = round(\n",
    "    f1_score(target_valid, predictions_model_regression_balance), 3)\n",
    "\n",
    "print('Максимальное F1:', f1_model_regression_balance)"
   ]
  },
  {
   "cell_type": "markdown",
   "metadata": {},
   "source": [
    "**И здесь значение F1 увеличилось до 0.481**"
   ]
  },
  {
   "cell_type": "markdown",
   "metadata": {},
   "source": [
    "### Увеличение выборки (upsampling)\n",
    "\n",
    "Напишем функцию upsampling\n",
    "\n",
    "Преобразование проходит в несколько этапов:\n",
    "\n",
    "- Разделить обучающую выборку на отрицательные и положительные объекты;\n",
    "- Скопировать несколько раз положительные объекты;\n",
    "- С учётом полученных данных создать новую обучающую выборку;\n",
    "- Перемешать данные."
   ]
  },
  {
   "cell_type": "code",
   "execution_count": 25,
   "metadata": {},
   "outputs": [],
   "source": [
    "def upsample(features, target, repeat):\n",
    "    features_zeros = features[target == 0]\n",
    "    features_ones = features[target == 1]\n",
    "    target_zeros = target[target == 0]\n",
    "    target_ones = target[target == 1]\n",
    "\n",
    "    features_upsampled = pd.concat([features_zeros] + [features_ones] * repeat)\n",
    "    target_upsampled = pd.concat([target_zeros] + [target_ones] * repeat)\n",
    "\n",
    "    features_upsampled, target_upsampled = shuffle(features_upsampled,\n",
    "                                                   target_upsampled,\n",
    "                                                   random_state=RANDOM)\n",
    "\n",
    "    return features_upsampled, target_upsampled\n",
    "\n",
    "\n",
    "features_upsampled, target_upsampled = upsample(features_train, target_train,\n",
    "                                                5)"
   ]
  },
  {
   "cell_type": "markdown",
   "metadata": {},
   "source": [
    "Переобучим наши модели на новых датасетах."
   ]
  },
  {
   "cell_type": "markdown",
   "metadata": {},
   "source": [
    "#### Решающее дерево.\n",
    "\n",
    "Переберем варианты максимальной глубины дерева от 1 до 15 и найдем значение F1-меры."
   ]
  },
  {
   "cell_type": "code",
   "execution_count": 26,
   "metadata": {},
   "outputs": [
    {
     "name": "stdout",
     "output_type": "stream",
     "text": [
      "Наилучшая F1 - мера 0.556 в модели решающего леса достигается при глубине 7\n"
     ]
    }
   ],
   "source": [
    "best_model_unsampled = None\n",
    "best_f1_unsampled = 0\n",
    "best_depth_unsampled = 0\n",
    "\n",
    "for depth in range(1, 16):\n",
    "    model_tree_unsampled = DecisionTreeClassifier(random_state=RANDOM,\n",
    "                                                  max_depth=depth)\n",
    "    model_tree_unsampled.fit(features_upsampled, target_upsampled)\n",
    "    prediction_tree_unsampled = model_tree_unsampled.predict(features_valid)\n",
    "    result_f1_unsampled = round(\n",
    "        f1_score(target_valid, prediction_tree_unsampled), 3)\n",
    "    if best_f1_unsampled < result_f1_unsampled:\n",
    "        best_model_unsampled = model_tree_unsampled\n",
    "        best_f1_unsampled = result_f1_unsampled\n",
    "        best_depth_unsampled = depth\n",
    "\n",
    "print(\n",
    "    f'''Наилучшая F1 - мера {best_f1_unsampled} в модели решающего леса достигается при глубине {best_model_unsampled.max_depth}'''\n",
    ")"
   ]
  },
  {
   "cell_type": "markdown",
   "metadata": {},
   "source": [
    "**Значение F1 уменьшилось до 0.556**"
   ]
  },
  {
   "cell_type": "markdown",
   "metadata": {},
   "source": [
    "#### Случайный лес. \n",
    "\n",
    "Переберем варианты максимальной глубины дерева от 1 до 15, количества деревьев от 1 до 40 и найдем значение F1-меры."
   ]
  },
  {
   "cell_type": "code",
   "execution_count": 27,
   "metadata": {},
   "outputs": [
    {
     "name": "stdout",
     "output_type": "stream",
     "text": [
      "Наилучшая F1 мера - 0.606 в модели случайного леса достигается при глубине 14 и количестве деревьев 31\n"
     ]
    }
   ],
   "source": [
    "best_model_forest_unsampled = None\n",
    "best_f1_forest_unsampled = 0\n",
    "best_depth_forest_unsampled = 0\n",
    "best_estim_forest_unsampled = 0\n",
    "\n",
    "for depth in range(1, 16):\n",
    "    for n_estim in range(1, 41):\n",
    "        model_forest_unsampled = RandomForestClassifier(random_state=RANDOM,\n",
    "                                                        max_depth=depth,\n",
    "                                                        n_estimators=n_estim)\n",
    "        model_forest_unsampled.fit(features_upsampled, target_upsampled)\n",
    "        predictions_forest_unsampled = model_forest_unsampled.predict(\n",
    "            features_valid)\n",
    "        forest_f1_unsampled = round(\n",
    "            f1_score(target_valid, predictions_forest_unsampled), 3)\n",
    "        if best_f1_forest_unsampled < forest_f1_unsampled:\n",
    "            best_model_forest_unsampled = model_forest_unsampled\n",
    "            best_f1_forest_unsampled = forest_f1_unsampled\n",
    "            best_depth_forest_unsampled = depth\n",
    "            best_estim_forest_unsampled = n_estim\n",
    "\n",
    "print(\n",
    "    f'''Наилучшая F1 мера - {best_f1_forest_unsampled} в модели случайного леса достигается при глубине {best_model_forest_unsampled.max_depth} и количестве деревьев {best_model_forest_unsampled.n_estimators}'''\n",
    ")"
   ]
  },
  {
   "cell_type": "markdown",
   "metadata": {},
   "source": [
    "**А вот тут значение F1 уменьшилось до 0.606.**"
   ]
  },
  {
   "cell_type": "markdown",
   "metadata": {},
   "source": [
    "#### Логистическая регрессия."
   ]
  },
  {
   "cell_type": "code",
   "execution_count": 28,
   "metadata": {},
   "outputs": [
    {
     "name": "stdout",
     "output_type": "stream",
     "text": [
      "Максимальное F1: 0.474\n"
     ]
    }
   ],
   "source": [
    "model_regression_unsampled = LogisticRegression(random_state=RANDOM,\n",
    "                                                solver='liblinear')\n",
    "model_regression_unsampled.fit(features_upsampled, target_upsampled)\n",
    "predictions_model_regression_unsampled = model_regression_unsampled.predict(\n",
    "    features_valid)\n",
    "f1_model_regression_unsampled = round(\n",
    "    f1_score(target_valid, predictions_model_regression_unsampled), 3)\n",
    "\n",
    "print('Максимальное F1:', f1_model_regression_unsampled)"
   ]
  },
  {
   "cell_type": "markdown",
   "metadata": {},
   "source": [
    "**Значение F1 - 0.474...**"
   ]
  },
  {
   "cell_type": "markdown",
   "metadata": {},
   "source": [
    "### Уменьшение выборки (downsampling)\n",
    "\n",
    "Напишем функцию downsample\n",
    "\n",
    "Преобразование проходит в несколько этапов:\n",
    "\n",
    "- Разделить обучающую выборку на отрицательные и положительные объекты;\n",
    "- Случайным образом отбросить часть из отрицательных объектов;\n",
    "- С учётом полученных данных создать новую обучающую выборку;\n",
    "- Перемешать данные. "
   ]
  },
  {
   "cell_type": "code",
   "execution_count": 29,
   "metadata": {},
   "outputs": [],
   "source": [
    "def downsample(features, target, fraction):\n",
    "    features_zeros = features[target == 0]\n",
    "    features_ones = features[target == 1]\n",
    "    target_zeros = target[target == 0]\n",
    "    target_ones = target[target == 1]\n",
    "\n",
    "    features_downsampled = pd.concat(\n",
    "        [features_zeros.sample(frac=fraction, random_state=RANDOM)] +\n",
    "        [features_ones])\n",
    "    target_downsampled = pd.concat(\n",
    "        [target_zeros.sample(frac=fraction, random_state=RANDOM)] +\n",
    "        [target_ones])\n",
    "\n",
    "    features_downsampled, target_downsampled = shuffle(features_downsampled,\n",
    "                                                       target_downsampled,\n",
    "                                                       random_state=RANDOM)\n",
    "\n",
    "    return features_downsampled, target_downsampled\n",
    "\n",
    "\n",
    "features_downsampled, target_downsampled = downsample(features_train,\n",
    "                                                      target_train, 0.1)"
   ]
  },
  {
   "cell_type": "markdown",
   "metadata": {},
   "source": [
    "Переобучим наши модели на новых датасетах."
   ]
  },
  {
   "cell_type": "markdown",
   "metadata": {},
   "source": [
    "#### Решающее дерево.\n",
    "\n",
    "Переберем варианты максимальной глубины дерева от 1 до 15 и найдем значение F1-меры."
   ]
  },
  {
   "cell_type": "code",
   "execution_count": 30,
   "metadata": {},
   "outputs": [
    {
     "name": "stdout",
     "output_type": "stream",
     "text": [
      "Наилучшая F1 - мера 0.538 в модели решающего леса достигается при глубине 4\n"
     ]
    }
   ],
   "source": [
    "best_model_downsampled = None\n",
    "best_f1_downsampled = 0\n",
    "best_depth_downsampled = 0\n",
    "\n",
    "for depth in range(1, 16):\n",
    "    model_tree_downsampled = DecisionTreeClassifier(random_state=RANDOM,\n",
    "                                                    max_depth=depth)\n",
    "    model_tree_downsampled.fit(features_downsampled, target_downsampled)\n",
    "    prediction_tree_downsampled = model_tree_downsampled.predict(\n",
    "        features_valid)\n",
    "    result_f1_downsampled = round(\n",
    "        f1_score(target_valid, prediction_tree_downsampled), 3)\n",
    "    if best_f1_downsampled < result_f1_downsampled:\n",
    "        best_model_downsampled = model_tree_downsampled\n",
    "        best_f1_downsampled = result_f1_downsampled\n",
    "        best_depth_downsampled = depth\n",
    "\n",
    "print(\n",
    "    f'''Наилучшая F1 - мера {best_f1_downsampled} в модели решающего леса достигается при глубине {best_model_downsampled.max_depth}'''\n",
    ")"
   ]
  },
  {
   "cell_type": "markdown",
   "metadata": {},
   "source": [
    "**Значение F1 - 0.538**"
   ]
  },
  {
   "cell_type": "markdown",
   "metadata": {},
   "source": [
    "#### Случайный лес. \n",
    "\n",
    "Переберем варианты максимальной глубины дерева от 1 до 15, количества деревьев от 1 до 40 и найдем значение F1-меры."
   ]
  },
  {
   "cell_type": "code",
   "execution_count": 31,
   "metadata": {},
   "outputs": [
    {
     "name": "stdout",
     "output_type": "stream",
     "text": [
      "Наилучшая F1 мера - 0.591 в модели случайного леса достигается при глубине 1 и количестве деревьев 1\n"
     ]
    }
   ],
   "source": [
    "best_model_forest_downsampled = None\n",
    "best_f1_forest_downsampled = 0\n",
    "best_depth_forest_downsampled = 0\n",
    "best_estim_forest_downsampled = 0\n",
    "\n",
    "for depth in range(1, 16):\n",
    "    for n_estim in range(1, 41):\n",
    "        model_forest_downsampled = RandomForestClassifier(random_state=RANDOM,\n",
    "                                                          max_depth=depth,\n",
    "                                                          n_estimators=n_estim)\n",
    "        model_forest_downsampled.fit(features_downsampled, target_downsampled)\n",
    "        predictions_forest_downsampled = model_forest_unsampled.predict(\n",
    "            features_valid)\n",
    "        forest_f1_downsampled = round(\n",
    "            f1_score(target_valid, predictions_forest_downsampled), 3)\n",
    "        if best_f1_forest_downsampled < forest_f1_downsampled:\n",
    "            best_model_forest_downsampled = model_forest_downsampled\n",
    "            best_f1_forest_downsampled = forest_f1_downsampled\n",
    "            best_depth_forest_downsampled = depth\n",
    "            best_estim_forest_downsampled = n_estim\n",
    "\n",
    "print(\n",
    "    f'''Наилучшая F1 мера - {best_f1_forest_downsampled} в модели случайного леса достигается при глубине {best_model_forest_downsampled.max_depth} и количестве деревьев {best_model_forest_downsampled.n_estimators}'''\n",
    ")"
   ]
  },
  {
   "cell_type": "markdown",
   "metadata": {},
   "source": [
    "**Значение F1 уменьшилось до 0.591**"
   ]
  },
  {
   "cell_type": "markdown",
   "metadata": {},
   "source": [
    "#### Логистическая регрессия."
   ]
  },
  {
   "cell_type": "code",
   "execution_count": 32,
   "metadata": {},
   "outputs": [
    {
     "name": "stdout",
     "output_type": "stream",
     "text": [
      "Максимальное F1: 0.416\n"
     ]
    }
   ],
   "source": [
    "model_regression_downsampled = LogisticRegression(random_state=RANDOM,\n",
    "                                                  solver='liblinear')\n",
    "model_regression_downsampled.fit(features_downsampled, target_downsampled)\n",
    "predictions_model_regression_downsampled = model_regression_downsampled.predict(\n",
    "    features_valid)\n",
    "f1_model_regression_downsampled = round(\n",
    "    f1_score(target_valid, predictions_model_regression_downsampled), 3)\n",
    "\n",
    "print('Максимальное F1:', f1_model_regression_downsampled)"
   ]
  },
  {
   "cell_type": "markdown",
   "metadata": {},
   "source": [
    "**Значение F1 уменьшилось до 0.416**"
   ]
  },
  {
   "cell_type": "markdown",
   "metadata": {},
   "source": [
    "### Выведем на экран все результаты полученных значений F1-меры в виде датафрейма"
   ]
  },
  {
   "cell_type": "code",
   "execution_count": 33,
   "metadata": {},
   "outputs": [
    {
     "data": {
      "text/html": [
       "<div>\n",
       "<style scoped>\n",
       "    .dataframe tbody tr th:only-of-type {\n",
       "        vertical-align: middle;\n",
       "    }\n",
       "\n",
       "    .dataframe tbody tr th {\n",
       "        vertical-align: top;\n",
       "    }\n",
       "\n",
       "    .dataframe thead th {\n",
       "        text-align: right;\n",
       "    }\n",
       "</style>\n",
       "<table border=\"1\" class=\"dataframe\">\n",
       "  <thead>\n",
       "    <tr style=\"text-align: right;\">\n",
       "      <th></th>\n",
       "      <th>С дисбалансом классов</th>\n",
       "      <th>Балансировка классов</th>\n",
       "      <th>Увеличение выборки (upsampling)</th>\n",
       "      <th>Уменьшение выборки (downsampling)</th>\n",
       "    </tr>\n",
       "  </thead>\n",
       "  <tbody>\n",
       "    <tr>\n",
       "      <th>Дерево решений</th>\n",
       "      <td>0.577</td>\n",
       "      <td>0.574</td>\n",
       "      <td>0.556</td>\n",
       "      <td>0.538</td>\n",
       "    </tr>\n",
       "    <tr>\n",
       "      <th>Случайный лес</th>\n",
       "      <td>0.583</td>\n",
       "      <td>0.613</td>\n",
       "      <td>0.606</td>\n",
       "      <td>0.591</td>\n",
       "    </tr>\n",
       "    <tr>\n",
       "      <th>Логистическая регрессия</th>\n",
       "      <td>0.321</td>\n",
       "      <td>0.481</td>\n",
       "      <td>0.474</td>\n",
       "      <td>0.416</td>\n",
       "    </tr>\n",
       "  </tbody>\n",
       "</table>\n",
       "</div>"
      ],
      "text/plain": [
       "                         С дисбалансом классов  Балансировка классов  \\\n",
       "Дерево решений                           0.577                 0.574   \n",
       "Случайный лес                            0.583                 0.613   \n",
       "Логистическая регрессия                  0.321                 0.481   \n",
       "\n",
       "                         Увеличение выборки (upsampling)  \\\n",
       "Дерево решений                                     0.556   \n",
       "Случайный лес                                      0.606   \n",
       "Логистическая регрессия                            0.474   \n",
       "\n",
       "                         Уменьшение выборки (downsampling)  \n",
       "Дерево решений                                       0.538  \n",
       "Случайный лес                                        0.591  \n",
       "Логистическая регрессия                              0.416  "
      ]
     },
     "execution_count": 33,
     "metadata": {},
     "output_type": "execute_result"
    }
   ],
   "source": [
    "data_f1 = {\n",
    "    'С дисбалансом классов': [best_f1, best_f1_forest, f1_model_regression],\n",
    "    'Балансировка классов':\n",
    "    [best_f1_balance, best_f1_forest_balance, f1_model_regression_balance],\n",
    "    'Увеличение выборки (upsampling)': [\n",
    "        best_f1_unsampled, best_f1_forest_unsampled,\n",
    "        f1_model_regression_unsampled\n",
    "    ],\n",
    "    'Уменьшение выборки (downsampling)': [\n",
    "        best_f1_downsampled, best_f1_forest_downsampled,\n",
    "        f1_model_regression_downsampled\n",
    "    ]\n",
    "}\n",
    "\n",
    "data_result = pd.DataFrame(\n",
    "    data_f1,\n",
    "    index=['Дерево решений', 'Случайный лес', 'Логистическая регрессия'])\n",
    "data_result"
   ]
  },
  {
   "cell_type": "markdown",
   "metadata": {},
   "source": [
    "**Наилучшая модель - это случайный лес со значением F1 меры - 0.613  при глубине 7 и количестве деревьев 19 получена при балансировке классов с использованием гиперпараметра `class_weight='balanced'`**"
   ]
  },
  {
   "cell_type": "markdown",
   "metadata": {},
   "source": [
    "### Построим ROC-кривую и посчитаем AUC-ROC и Accuracy лучшей модели."
   ]
  },
  {
   "cell_type": "code",
   "execution_count": 34,
   "metadata": {},
   "outputs": [
    {
     "data": {
      "image/png": "[encoded data removed]",
      "text/plain": [
       "<Figure size 1200x900 with 1 Axes>"
      ]
     },
     "metadata": {},
     "output_type": "display_data"
    },
    {
     "name": "stdout",
     "output_type": "stream",
     "text": [
      "AUC-ROC модели случайного леса 0.853\n"
     ]
    }
   ],
   "source": [
    "plt.figure(figsize=[12, 9])\n",
    "\n",
    "plt.plot([0, 1], [0, 1], linestyle='--', label='Случайная модель')\n",
    "\n",
    "best_model_forest_balance = RandomForestClassifier(random_state=RANDOM,\n",
    "                                                   max_depth=7,\n",
    "                                                   n_estimators=19,\n",
    "                                                   class_weight='balanced')\n",
    "best_model_forest_balance.fit(features_train, target_train)\n",
    "predictions_best_forest_balance = best_model_forest_balance.predict(\n",
    "    features_valid)\n",
    "\n",
    "probabilities_valid = best_model_forest_balance.predict_proba(features_valid)\n",
    "probabilities_one_valid = probabilities_valid[:, 1]\n",
    "fpr, tpr, thresholds = roc_curve(target_valid, probabilities_one_valid)\n",
    "auc_roc = round(roc_auc_score(target_valid, probabilities_one_valid), 3)\n",
    "\n",
    "plt.plot(fpr, tpr, label='Модель случайного леса')\n",
    "\n",
    "plt.xlim([0, 1])\n",
    "plt.ylim([0, 1])\n",
    "\n",
    "plt.xlabel(\"False Positive Rate\")\n",
    "plt.ylabel(\"True Positive Rate\")\n",
    "\n",
    "plt.legend(loc='lower right', fontsize='x-large')\n",
    "\n",
    "plt.title(\"ROC-кривая\")\n",
    "plt.show()\n",
    "\n",
    "print('AUC-ROC модели случайного леса', auc_roc)"
   ]
  },
  {
   "cell_type": "markdown",
   "metadata": {},
   "source": [
    "## Тестирование модели"
   ]
  },
  {
   "cell_type": "markdown",
   "metadata": {},
   "source": [
    "### Протестируем лучшую модель на тестовой выборке"
   ]
  },
  {
   "cell_type": "code",
   "execution_count": 35,
   "metadata": {},
   "outputs": [
    {
     "name": "stdout",
     "output_type": "stream",
     "text": [
      "Значение F1 на тестовой выборке: 0.618705\n",
      "\n",
      "AUC-ROC на тестовой выборке: 0.855435\n"
     ]
    }
   ],
   "source": [
    "model_forest_test = RandomForestClassifier(random_state=RANDOM,\n",
    "                                           max_depth=7,\n",
    "                                           n_estimators=19,\n",
    "                                           class_weight='balanced')\n",
    "model_forest_test.fit(features_train, target_train)\n",
    "prediction_forest_test = model_forest_test.predict(features_test)\n",
    "forest_f1_test = round(f1_score(target_test, prediction_forest_test), 6)\n",
    "probabilities_valid_test = model_forest_test.predict_proba(features_test)\n",
    "probabilities_one_valid_test = probabilities_valid_test[:, 1]\n",
    "auc_roc_test = round(roc_auc_score(target_test, probabilities_one_valid_test),\n",
    "                     6)\n",
    "\n",
    "print('Значение F1 на тестовой выборке:', forest_f1_test)\n",
    "print()\n",
    "print('AUC-ROC на тестовой выборке:', auc_roc_test)"
   ]
  },
  {
   "cell_type": "markdown",
   "metadata": {},
   "source": [
    "**Значения F1, AUC-ROC увеличились**"
   ]
  },
  {
   "cell_type": "markdown",
   "metadata": {},
   "source": [
    "### Попробуем переобучить модель тренировочной + валидационной выборке.\n",
    "\n",
    "Объединим тренировочную и валидационную выборки и проверим на тестовой."
   ]
  },
  {
   "cell_type": "code",
   "execution_count": 36,
   "metadata": {},
   "outputs": [],
   "source": [
    "new_features_train = pd.concat((features_valid, features_train),\n",
    "                               axis=0,\n",
    "                               join='outer')\n",
    "new_target_train = pd.concat((target_valid, target_train),\n",
    "                             axis=0,\n",
    "                             join='outer')"
   ]
  },
  {
   "cell_type": "code",
   "execution_count": 37,
   "metadata": {},
   "outputs": [
    {
     "name": "stdout",
     "output_type": "stream",
     "text": [
      "F1 на тестовой выборке: 0.597\n",
      "AUC-ROC на тестовой выборке: 0.855\n"
     ]
    }
   ],
   "source": [
    "model_forest_new = RandomForestClassifier(random_state=RANDOM,\n",
    "                                          max_depth=7,\n",
    "                                          n_estimators=19,\n",
    "                                          class_weight='balanced')\n",
    "model_forest_new.fit(new_features_train, new_target_train)\n",
    "predictions_model_forest_new = model_forest_new.predict(features_test)\n",
    "f1_model_new = round(f1_score(target_test, predictions_model_forest_new), 3)\n",
    "probabilities_valid_test_new = model_forest_new.predict_proba(features_test)\n",
    "probabilities_one_valid_test_new = probabilities_valid_test_new[:, 1]\n",
    "auc_roc_test_new = round(\n",
    "    roc_auc_score(target_test, probabilities_one_valid_test_new), 3)\n",
    "print('F1 на тестовой выборке:', f1_model_new)\n",
    "print('AUC-ROC на тестовой выборке:', auc_roc_test_new)"
   ]
  },
  {
   "cell_type": "markdown",
   "metadata": {},
   "source": [
    "**Здесь не удалось добиться увеличения F1-меры**"
   ]
  },
  {
   "cell_type": "code",
   "execution_count": 38,
   "metadata": {},
   "outputs": [
    {
     "data": {
      "image/png": "[encoded data removed]",
      "text/plain": [
       "<Figure size 1200x900 with 1 Axes>"
      ]
     },
     "metadata": {},
     "output_type": "display_data"
    }
   ],
   "source": [
    "plt.figure(figsize=[12,9])\n",
    "\n",
    "plt.plot([0, 1], [0, 1], linestyle='--', label='Случайная модель')\n",
    "\n",
    "model_forest_test_final = RandomForestClassifier(random_state=RANDOM, max_depth=8, n_estimators=14, class_weight='balanced')\n",
    "model_forest_test_final.fit(new_features_train, new_target_train)\n",
    "\n",
    "probabilities_valid_final = model_forest_test_final.predict_proba(features_test)\n",
    "probabilities_one_valid_final = probabilities_valid_final[:, 1]\n",
    "\n",
    "fpr, tpr, thresholds = roc_curve(target_test, probabilities_one_valid_final)\n",
    "\n",
    "plt.plot(fpr, tpr, label='Модель случайного леса')\n",
    "\n",
    "plt.xlim([0,1])\n",
    "plt.ylim([0,1])\n",
    "\n",
    "plt.xlabel(\"False Positive Rate\")\n",
    "plt.ylabel(\"True Positive Rate\")\n",
    "\n",
    "plt.legend(loc='lower right', fontsize='x-large')\n",
    "\n",
    "plt.title(\"ROC-кривая\")\n",
    "plt.show()\n"
   ]
  },
  {
   "cell_type": "markdown",
   "metadata": {},
   "source": [
    "## Общий вывод\n",
    "\n",
    "В результате исследования были обучены три модели:\n",
    "\n",
    "- Решающее дерево,\n",
    "- Случайный лес,\n",
    "- Логистическая регрессия.\n",
    "\n",
    "Поиск лучшего значения проводился четырьмя этапами:\n",
    "\n",
    "1. Обучение с дисбалансом классов.\n",
    "2. С балансированием классов.\n",
    "3. Увеличением выборки.\n",
    "4. Уменьшением выборки.\n",
    "\n",
    "Лучшей моделью оказалась - модель случайного леса ( при глубине 7 и количестве деревьев 19), обученнная при балансировке классов.\n",
    "Полученное значение *F1-меры* - 0.613, что соответветсвует требуемому пороговому значению в 0.59.\n",
    "\n",
    "При проверке на тестовой выборке модель показала увеличение значения *F1-меры* до 0.618705 и при дополнительном обучении модели на тренировочной + валидационной выборке не удалось увеличить значение *F1-меры*.\n",
    "\n",
    "*AUC-ROC* на тестовой выборке: 0.855435"
   ]
  }
 ],
 "metadata": {
  "ExecuteTimeLog": [
   {
    "duration": 43,
    "start_time": "2022-10-18T07:05:17.081Z"
   },
   {
    "duration": 1435,
    "start_time": "2022-10-18T07:05:49.886Z"
   },
   {
    "duration": 54,
    "start_time": "2022-10-18T07:05:51.541Z"
   },
   {
    "duration": 17,
    "start_time": "2022-10-18T07:05:53.029Z"
   },
   {
    "duration": 13,
    "start_time": "2022-10-18T07:05:53.614Z"
   },
   {
    "duration": 4,
    "start_time": "2022-10-18T07:06:00.124Z"
   },
   {
    "duration": 3,
    "start_time": "2022-10-18T07:06:01.279Z"
   },
   {
    "duration": 5,
    "start_time": "2022-10-18T07:06:02.469Z"
   },
   {
    "duration": 8,
    "start_time": "2022-10-18T07:06:02.709Z"
   },
   {
    "duration": 8,
    "start_time": "2022-10-18T07:06:05.116Z"
   },
   {
    "duration": 8,
    "start_time": "2022-10-18T07:06:06.085Z"
   },
   {
    "duration": 148,
    "start_time": "2022-10-18T07:06:09.767Z"
   },
   {
    "duration": 14,
    "start_time": "2022-10-18T07:06:14.191Z"
   },
   {
    "duration": 17,
    "start_time": "2022-10-18T07:06:17.065Z"
   },
   {
    "duration": 10,
    "start_time": "2022-10-18T07:10:41.679Z"
   },
   {
    "duration": 5,
    "start_time": "2022-10-18T07:11:08.412Z"
   },
   {
    "duration": 11,
    "start_time": "2022-10-18T07:11:43.447Z"
   },
   {
    "duration": 4,
    "start_time": "2022-10-18T07:12:12.284Z"
   },
   {
    "duration": 31,
    "start_time": "2022-10-18T07:13:30.023Z"
   },
   {
    "duration": 1279,
    "start_time": "2022-10-18T07:15:22.002Z"
   },
   {
    "duration": 28,
    "start_time": "2022-10-18T07:15:25.449Z"
   },
   {
    "duration": 15,
    "start_time": "2022-10-18T07:15:27.189Z"
   },
   {
    "duration": 12,
    "start_time": "2022-10-18T07:15:27.732Z"
   },
   {
    "duration": 5,
    "start_time": "2022-10-18T07:15:28.961Z"
   },
   {
    "duration": 4,
    "start_time": "2022-10-18T07:15:30.073Z"
   },
   {
    "duration": 7,
    "start_time": "2022-10-18T07:15:31.030Z"
   },
   {
    "duration": 9,
    "start_time": "2022-10-18T07:15:31.526Z"
   },
   {
    "duration": 7,
    "start_time": "2022-10-18T07:15:32.931Z"
   },
   {
    "duration": 9,
    "start_time": "2022-10-18T07:15:33.445Z"
   },
   {
    "duration": 133,
    "start_time": "2022-10-18T07:15:34.144Z"
   },
   {
    "duration": 14,
    "start_time": "2022-10-18T07:15:35.263Z"
   },
   {
    "duration": 15,
    "start_time": "2022-10-18T07:15:36.263Z"
   },
   {
    "duration": 16,
    "start_time": "2022-10-18T07:15:38.116Z"
   },
   {
    "duration": 5,
    "start_time": "2022-10-18T07:15:39.122Z"
   },
   {
    "duration": 11,
    "start_time": "2022-10-18T07:15:40.277Z"
   },
   {
    "duration": 4,
    "start_time": "2022-10-18T07:15:41.287Z"
   },
   {
    "duration": 30,
    "start_time": "2022-10-18T07:15:43.139Z"
   },
   {
    "duration": 271,
    "start_time": "2022-10-18T07:16:40.647Z"
   },
   {
    "duration": 30248,
    "start_time": "2022-10-18T07:17:29.027Z"
   },
   {
    "duration": 25,
    "start_time": "2022-10-18T07:18:46.699Z"
   },
   {
    "duration": 272,
    "start_time": "2022-10-18T07:21:20.013Z"
   },
   {
    "duration": 31008,
    "start_time": "2022-10-18T07:22:14.654Z"
   },
   {
    "duration": 20,
    "start_time": "2022-10-18T07:24:07.421Z"
   },
   {
    "duration": 9,
    "start_time": "2022-10-18T07:26:19.743Z"
   },
   {
    "duration": 365,
    "start_time": "2022-10-18T07:27:03.581Z"
   },
   {
    "duration": 42717,
    "start_time": "2022-10-18T07:28:01.489Z"
   },
   {
    "duration": 30,
    "start_time": "2022-10-18T07:29:23.399Z"
   },
   {
    "duration": 9,
    "start_time": "2022-10-18T07:30:17.685Z"
   },
   {
    "duration": 127,
    "start_time": "2022-10-18T07:33:34.519Z"
   },
   {
    "duration": 21357,
    "start_time": "2022-10-18T07:34:27.376Z"
   },
   {
    "duration": 14,
    "start_time": "2022-10-18T07:35:12.467Z"
   },
   {
    "duration": 11,
    "start_time": "2022-10-18T07:36:11.935Z"
   },
   {
    "duration": 301,
    "start_time": "2022-10-18T07:38:02.906Z"
   },
   {
    "duration": 79,
    "start_time": "2022-10-18T07:38:58.264Z"
   },
   {
    "duration": 135,
    "start_time": "2022-10-18T07:39:08.258Z"
   },
   {
    "duration": 5,
    "start_time": "2022-10-18T07:40:42.589Z"
   },
   {
    "duration": 87,
    "start_time": "2022-10-18T07:40:53.270Z"
   },
   {
    "duration": 290,
    "start_time": "2022-10-18T07:43:52.116Z"
   },
   {
    "duration": 133,
    "start_time": "2022-10-18T07:43:57.344Z"
   },
   {
    "duration": 4,
    "start_time": "2022-10-18T07:44:01.793Z"
   },
   {
    "duration": 87,
    "start_time": "2022-10-18T07:44:02.468Z"
   },
   {
    "duration": 1292,
    "start_time": "2022-10-18T07:44:51.427Z"
   },
   {
    "duration": 28,
    "start_time": "2022-10-18T07:44:52.721Z"
   },
   {
    "duration": 16,
    "start_time": "2022-10-18T07:44:52.813Z"
   },
   {
    "duration": 14,
    "start_time": "2022-10-18T07:44:53.017Z"
   },
   {
    "duration": 3,
    "start_time": "2022-10-18T07:44:53.516Z"
   },
   {
    "duration": 3,
    "start_time": "2022-10-18T07:44:54.076Z"
   },
   {
    "duration": 6,
    "start_time": "2022-10-18T07:44:54.553Z"
   },
   {
    "duration": 8,
    "start_time": "2022-10-18T07:44:54.857Z"
   },
   {
    "duration": 8,
    "start_time": "2022-10-18T07:44:55.922Z"
   },
   {
    "duration": 8,
    "start_time": "2022-10-18T07:44:56.517Z"
   },
   {
    "duration": 129,
    "start_time": "2022-10-18T07:44:57.140Z"
   },
   {
    "duration": 13,
    "start_time": "2022-10-18T07:44:58.334Z"
   },
   {
    "duration": 14,
    "start_time": "2022-10-18T07:44:59.419Z"
   },
   {
    "duration": 10,
    "start_time": "2022-10-18T07:45:01.471Z"
   },
   {
    "duration": 5,
    "start_time": "2022-10-18T07:45:02.451Z"
   },
   {
    "duration": 10,
    "start_time": "2022-10-18T07:45:03.488Z"
   },
   {
    "duration": 3,
    "start_time": "2022-10-18T07:45:04.696Z"
   },
   {
    "duration": 28,
    "start_time": "2022-10-18T07:45:06.408Z"
   },
   {
    "duration": 270,
    "start_time": "2022-10-18T07:45:12.858Z"
   },
   {
    "duration": 30108,
    "start_time": "2022-10-18T07:45:29.872Z"
   },
   {
    "duration": 23,
    "start_time": "2022-10-18T07:48:24.076Z"
   },
   {
    "duration": 284,
    "start_time": "2022-10-18T07:48:35.606Z"
   },
   {
    "duration": 30896,
    "start_time": "2022-10-18T07:48:51.664Z"
   },
   {
    "duration": 30,
    "start_time": "2022-10-18T07:49:32.173Z"
   },
   {
    "duration": 8,
    "start_time": "2022-10-18T07:49:42.444Z"
   },
   {
    "duration": 356,
    "start_time": "2022-10-18T07:49:48.371Z"
   },
   {
    "duration": 42580,
    "start_time": "2022-10-18T07:50:04.630Z"
   },
   {
    "duration": 26,
    "start_time": "2022-10-18T07:51:16.136Z"
   },
   {
    "duration": 10,
    "start_time": "2022-10-18T07:51:27.626Z"
   },
   {
    "duration": 119,
    "start_time": "2022-10-18T07:51:34.880Z"
   },
   {
    "duration": 20832,
    "start_time": "2022-10-18T07:51:44.718Z"
   },
   {
    "duration": 23,
    "start_time": "2022-10-18T07:52:15.165Z"
   },
   {
    "duration": 11,
    "start_time": "2022-10-18T07:52:23.683Z"
   },
   {
    "duration": 303,
    "start_time": "2022-10-18T07:52:40.795Z"
   },
   {
    "duration": 139,
    "start_time": "2022-10-18T07:52:49.812Z"
   },
   {
    "duration": 117,
    "start_time": "2022-10-18T07:53:03.024Z"
   },
   {
    "duration": 5,
    "start_time": "2022-10-18T07:53:07.261Z"
   },
   {
    "duration": 97,
    "start_time": "2022-10-18T07:53:07.940Z"
   },
   {
    "duration": 1280,
    "start_time": "2022-10-18T11:12:29.725Z"
   },
   {
    "duration": 29,
    "start_time": "2022-10-18T11:12:31.558Z"
   },
   {
    "duration": 16,
    "start_time": "2022-10-18T11:12:32.541Z"
   },
   {
    "duration": 13,
    "start_time": "2022-10-18T11:12:33.052Z"
   },
   {
    "duration": 5,
    "start_time": "2022-10-18T11:12:33.957Z"
   },
   {
    "duration": 3,
    "start_time": "2022-10-18T11:12:34.811Z"
   },
   {
    "duration": 6,
    "start_time": "2022-10-18T11:12:35.995Z"
   },
   {
    "duration": 7,
    "start_time": "2022-10-18T11:12:36.520Z"
   },
   {
    "duration": 8,
    "start_time": "2022-10-18T11:12:37.525Z"
   },
   {
    "duration": 8,
    "start_time": "2022-10-18T11:12:38.058Z"
   },
   {
    "duration": 136,
    "start_time": "2022-10-18T11:12:38.614Z"
   },
   {
    "duration": 17,
    "start_time": "2022-10-18T11:12:39.621Z"
   },
   {
    "duration": 17,
    "start_time": "2022-10-18T11:12:40.649Z"
   },
   {
    "duration": 12,
    "start_time": "2022-10-18T11:12:43.095Z"
   },
   {
    "duration": 5,
    "start_time": "2022-10-18T11:12:44.145Z"
   },
   {
    "duration": 10,
    "start_time": "2022-10-18T11:12:45.158Z"
   },
   {
    "duration": 4,
    "start_time": "2022-10-18T11:12:46.285Z"
   },
   {
    "duration": 28,
    "start_time": "2022-10-18T11:12:47.723Z"
   },
   {
    "duration": 269,
    "start_time": "2022-10-18T11:12:49.255Z"
   },
   {
    "duration": 30743,
    "start_time": "2022-10-18T11:12:56.948Z"
   },
   {
    "duration": 32,
    "start_time": "2022-10-18T11:13:27.693Z"
   },
   {
    "duration": 455,
    "start_time": "2022-10-18T11:13:27.727Z"
   },
   {
    "duration": 31001,
    "start_time": "2022-10-18T11:13:28.184Z"
   },
   {
    "duration": 43,
    "start_time": "2022-10-18T11:13:59.187Z"
   },
   {
    "duration": 94,
    "start_time": "2022-10-18T11:13:59.232Z"
   },
   {
    "duration": 427,
    "start_time": "2022-10-18T11:13:59.328Z"
   },
   {
    "duration": 42693,
    "start_time": "2022-10-18T11:13:59.756Z"
   },
   {
    "duration": 25,
    "start_time": "2022-10-18T11:14:42.450Z"
   },
   {
    "duration": 97,
    "start_time": "2022-10-18T11:14:42.527Z"
   },
   {
    "duration": 128,
    "start_time": "2022-10-18T11:14:42.625Z"
   },
   {
    "duration": 21524,
    "start_time": "2022-10-18T11:14:42.755Z"
   },
   {
    "duration": 43,
    "start_time": "2022-10-18T11:15:04.280Z"
   },
   {
    "duration": 100,
    "start_time": "2022-10-18T11:15:04.325Z"
   },
   {
    "duration": 365,
    "start_time": "2022-10-18T11:15:04.427Z"
   },
   {
    "duration": 149,
    "start_time": "2022-10-18T11:15:04.793Z"
   },
   {
    "duration": 5,
    "start_time": "2022-10-18T11:15:04.943Z"
   },
   {
    "duration": 101,
    "start_time": "2022-10-18T11:15:04.950Z"
   },
   {
    "duration": 1472,
    "start_time": "2022-10-19T06:13:44.927Z"
   },
   {
    "duration": 56,
    "start_time": "2022-10-19T06:13:46.401Z"
   },
   {
    "duration": 17,
    "start_time": "2022-10-19T06:13:46.458Z"
   },
   {
    "duration": 16,
    "start_time": "2022-10-19T06:13:46.477Z"
   },
   {
    "duration": 4,
    "start_time": "2022-10-19T06:13:46.902Z"
   },
   {
    "duration": 4,
    "start_time": "2022-10-19T06:13:47.505Z"
   },
   {
    "duration": 6,
    "start_time": "2022-10-19T06:13:47.928Z"
   },
   {
    "duration": 8,
    "start_time": "2022-10-19T06:13:48.119Z"
   },
   {
    "duration": 7,
    "start_time": "2022-10-19T06:13:48.558Z"
   },
   {
    "duration": 8,
    "start_time": "2022-10-19T06:13:48.755Z"
   },
   {
    "duration": 134,
    "start_time": "2022-10-19T06:13:48.982Z"
   },
   {
    "duration": 15,
    "start_time": "2022-10-19T06:13:49.653Z"
   },
   {
    "duration": 13,
    "start_time": "2022-10-19T06:13:50.361Z"
   },
   {
    "duration": 10,
    "start_time": "2022-10-19T06:13:51.328Z"
   },
   {
    "duration": 5,
    "start_time": "2022-10-19T06:13:51.765Z"
   },
   {
    "duration": 9,
    "start_time": "2022-10-19T06:13:52.628Z"
   },
   {
    "duration": 4,
    "start_time": "2022-10-19T06:13:53.129Z"
   },
   {
    "duration": 26,
    "start_time": "2022-10-19T06:13:53.832Z"
   },
   {
    "duration": 305,
    "start_time": "2022-10-19T06:13:55.263Z"
   },
   {
    "duration": 32794,
    "start_time": "2022-10-19T06:13:56.803Z"
   },
   {
    "duration": 20,
    "start_time": "2022-10-19T06:14:29.599Z"
   },
   {
    "duration": 489,
    "start_time": "2022-10-19T06:14:29.620Z"
   },
   {
    "duration": 33746,
    "start_time": "2022-10-19T06:14:30.112Z"
   },
   {
    "duration": 58,
    "start_time": "2022-10-19T06:15:03.859Z"
   },
   {
    "duration": 9,
    "start_time": "2022-10-19T06:15:04.009Z"
   },
   {
    "duration": 433,
    "start_time": "2022-10-19T06:15:04.020Z"
   },
   {
    "duration": 47374,
    "start_time": "2022-10-19T06:15:04.455Z"
   },
   {
    "duration": 25,
    "start_time": "2022-10-19T06:15:51.831Z"
   },
   {
    "duration": 154,
    "start_time": "2022-10-19T06:15:51.858Z"
   },
   {
    "duration": 141,
    "start_time": "2022-10-19T06:15:52.014Z"
   },
   {
    "duration": 20788,
    "start_time": "2022-10-19T06:15:52.156Z"
   },
   {
    "duration": 11,
    "start_time": "2022-10-19T06:16:12.945Z"
   },
   {
    "duration": 158,
    "start_time": "2022-10-19T06:16:12.957Z"
   },
   {
    "duration": 320,
    "start_time": "2022-10-19T06:16:13.116Z"
   },
   {
    "duration": 154,
    "start_time": "2022-10-19T06:16:13.437Z"
   },
   {
    "duration": 4,
    "start_time": "2022-10-19T06:16:13.593Z"
   },
   {
    "duration": 99,
    "start_time": "2022-10-19T06:16:13.599Z"
   },
   {
    "duration": 180,
    "start_time": "2022-10-19T06:19:17.628Z"
   },
   {
    "duration": 292,
    "start_time": "2022-10-19T06:20:33.726Z"
   },
   {
    "duration": 97,
    "start_time": "2022-10-19T06:20:42.342Z"
   },
   {
    "duration": 176,
    "start_time": "2022-10-19T06:25:45.431Z"
   },
   {
    "duration": 96,
    "start_time": "2022-10-19T06:27:08.152Z"
   },
   {
    "duration": 79,
    "start_time": "2022-10-19T06:27:18.983Z"
   },
   {
    "duration": 144,
    "start_time": "2022-10-19T06:27:27.037Z"
   },
   {
    "duration": 341,
    "start_time": "2022-10-19T06:29:46.471Z"
   },
   {
    "duration": 340,
    "start_time": "2022-10-19T06:30:14.857Z"
   },
   {
    "duration": 249,
    "start_time": "2022-10-19T06:30:28.369Z"
   },
   {
    "duration": 326,
    "start_time": "2022-10-19T06:30:39.505Z"
   },
   {
    "duration": 133,
    "start_time": "2022-10-19T06:38:21.945Z"
   },
   {
    "duration": 40291,
    "start_time": "2022-10-19T06:39:00.983Z"
   },
   {
    "duration": 102,
    "start_time": "2022-10-19T06:40:03.502Z"
   },
   {
    "duration": 267,
    "start_time": "2022-10-19T06:41:18.508Z"
   },
   {
    "duration": 33759,
    "start_time": "2022-10-19T06:50:07.079Z"
   },
   {
    "duration": 1280,
    "start_time": "2022-10-19T06:50:58.239Z"
   },
   {
    "duration": 29,
    "start_time": "2022-10-19T06:50:59.520Z"
   },
   {
    "duration": 23,
    "start_time": "2022-10-19T06:51:00.280Z"
   },
   {
    "duration": 17,
    "start_time": "2022-10-19T06:51:00.704Z"
   },
   {
    "duration": 4,
    "start_time": "2022-10-19T06:51:02.143Z"
   },
   {
    "duration": 3,
    "start_time": "2022-10-19T06:51:03.578Z"
   },
   {
    "duration": 6,
    "start_time": "2022-10-19T06:51:04.734Z"
   },
   {
    "duration": 10,
    "start_time": "2022-10-19T06:51:05.178Z"
   },
   {
    "duration": 10,
    "start_time": "2022-10-19T06:51:06.261Z"
   },
   {
    "duration": 9,
    "start_time": "2022-10-19T06:51:06.967Z"
   },
   {
    "duration": 132,
    "start_time": "2022-10-19T06:51:07.538Z"
   },
   {
    "duration": 14,
    "start_time": "2022-10-19T06:51:10.284Z"
   },
   {
    "duration": 15,
    "start_time": "2022-10-19T06:51:11.838Z"
   },
   {
    "duration": 10,
    "start_time": "2022-10-19T06:51:13.634Z"
   },
   {
    "duration": 6,
    "start_time": "2022-10-19T06:51:14.611Z"
   },
   {
    "duration": 9,
    "start_time": "2022-10-19T06:51:16.079Z"
   },
   {
    "duration": 4,
    "start_time": "2022-10-19T06:51:16.957Z"
   },
   {
    "duration": 26,
    "start_time": "2022-10-19T06:51:18.355Z"
   },
   {
    "duration": 316,
    "start_time": "2022-10-19T06:51:22.754Z"
   },
   {
    "duration": 60325,
    "start_time": "2022-10-19T06:51:30.899Z"
   },
   {
    "duration": 125,
    "start_time": "2022-10-19T06:53:10.695Z"
   },
   {
    "duration": 314,
    "start_time": "2022-10-19T06:53:15.243Z"
   },
   {
    "duration": 60005,
    "start_time": "2022-10-19T06:53:22.857Z"
   },
   {
    "duration": 4,
    "start_time": "2022-10-19T06:55:08.684Z"
   },
   {
    "duration": 23,
    "start_time": "2022-10-19T06:55:58.442Z"
   },
   {
    "duration": 11,
    "start_time": "2022-10-19T06:56:01.785Z"
   },
   {
    "duration": 415,
    "start_time": "2022-10-19T06:56:03.935Z"
   },
   {
    "duration": 85222,
    "start_time": "2022-10-19T06:56:10.414Z"
   },
   {
    "duration": 26,
    "start_time": "2022-10-19T06:58:01.573Z"
   },
   {
    "duration": 9,
    "start_time": "2022-10-19T06:58:04.672Z"
   },
   {
    "duration": 127,
    "start_time": "2022-10-19T06:58:06.767Z"
   },
   {
    "duration": 35059,
    "start_time": "2022-10-19T06:58:16.660Z"
   },
   {
    "duration": 16,
    "start_time": "2022-10-19T06:59:15.299Z"
   },
   {
    "duration": 11,
    "start_time": "2022-10-19T06:59:18.533Z"
   },
   {
    "duration": 316,
    "start_time": "2022-10-19T06:59:25.804Z"
   },
   {
    "duration": 149,
    "start_time": "2022-10-19T06:59:32.030Z"
   },
   {
    "duration": 5,
    "start_time": "2022-10-19T06:59:43.791Z"
   },
   {
    "duration": 311484,
    "start_time": "2022-10-19T07:01:33.334Z"
   },
   {
    "duration": 329,
    "start_time": "2022-10-19T07:07:28.540Z"
   },
   {
    "duration": 315093,
    "start_time": "2022-10-19T07:07:56.577Z"
   },
   {
    "duration": 215,
    "start_time": "2022-10-19T07:14:10.146Z"
   },
   {
    "duration": 138,
    "start_time": "2022-10-19T07:14:16.447Z"
   },
   {
    "duration": 98038,
    "start_time": "2022-10-19T07:14:33.932Z"
   },
   {
    "duration": 110,
    "start_time": "2022-10-19T07:16:11.972Z"
   },
   {
    "duration": 262,
    "start_time": "2022-10-19T07:20:43.632Z"
   },
   {
    "duration": 27,
    "start_time": "2022-10-19T07:21:01.877Z"
   },
   {
    "duration": 74795,
    "start_time": "2022-10-19T07:21:44.057Z"
   },
   {
    "duration": 383,
    "start_time": "2022-10-19T07:23:29.063Z"
   },
   {
    "duration": 103,
    "start_time": "2022-10-19T07:23:47.082Z"
   },
   {
    "duration": 74690,
    "start_time": "2022-10-19T07:25:00.171Z"
   },
   {
    "duration": 83,
    "start_time": "2022-10-19T07:31:25.678Z"
   },
   {
    "duration": 146,
    "start_time": "2022-10-19T07:31:34.976Z"
   },
   {
    "duration": 86,
    "start_time": "2022-10-19T07:31:55.195Z"
   },
   {
    "duration": 147,
    "start_time": "2022-10-19T07:32:07.264Z"
   },
   {
    "duration": 150,
    "start_time": "2022-10-19T07:35:30.571Z"
   },
   {
    "duration": 146,
    "start_time": "2022-10-19T07:35:37.327Z"
   },
   {
    "duration": 84,
    "start_time": "2022-10-19T07:35:51.672Z"
   },
   {
    "duration": 146,
    "start_time": "2022-10-19T07:36:05.627Z"
   },
   {
    "duration": 105,
    "start_time": "2022-10-19T07:50:09.571Z"
   },
   {
    "duration": 264,
    "start_time": "2022-10-19T07:51:23.098Z"
   },
   {
    "duration": 269,
    "start_time": "2022-10-19T07:51:36.732Z"
   },
   {
    "duration": 1331,
    "start_time": "2022-10-19T08:05:11.340Z"
   },
   {
    "duration": 38,
    "start_time": "2022-10-19T08:05:12.742Z"
   },
   {
    "duration": 18,
    "start_time": "2022-10-19T08:05:13.706Z"
   },
   {
    "duration": 16,
    "start_time": "2022-10-19T08:05:14.082Z"
   },
   {
    "duration": 4,
    "start_time": "2022-10-19T08:05:14.651Z"
   },
   {
    "duration": 3,
    "start_time": "2022-10-19T08:05:15.165Z"
   },
   {
    "duration": 7,
    "start_time": "2022-10-19T08:05:15.561Z"
   },
   {
    "duration": 9,
    "start_time": "2022-10-19T08:05:15.760Z"
   },
   {
    "duration": 8,
    "start_time": "2022-10-19T08:05:16.174Z"
   },
   {
    "duration": 9,
    "start_time": "2022-10-19T08:05:16.376Z"
   },
   {
    "duration": 142,
    "start_time": "2022-10-19T08:05:16.568Z"
   },
   {
    "duration": 15,
    "start_time": "2022-10-19T08:05:17.248Z"
   },
   {
    "duration": 15,
    "start_time": "2022-10-19T08:05:17.940Z"
   },
   {
    "duration": 10,
    "start_time": "2022-10-19T08:05:18.940Z"
   },
   {
    "duration": 5,
    "start_time": "2022-10-19T08:05:19.348Z"
   },
   {
    "duration": 14,
    "start_time": "2022-10-19T08:05:20.256Z"
   },
   {
    "duration": 5,
    "start_time": "2022-10-19T08:05:20.705Z"
   },
   {
    "duration": 29,
    "start_time": "2022-10-19T08:05:21.399Z"
   },
   {
    "duration": 326,
    "start_time": "2022-10-19T08:05:22.350Z"
   },
   {
    "duration": 60187,
    "start_time": "2022-10-19T08:05:23.291Z"
   },
   {
    "duration": 31,
    "start_time": "2022-10-19T08:06:23.480Z"
   },
   {
    "duration": 512,
    "start_time": "2022-10-19T08:06:23.512Z"
   },
   {
    "duration": 60297,
    "start_time": "2022-10-19T08:06:24.026Z"
   },
   {
    "duration": 19,
    "start_time": "2022-10-19T08:07:24.325Z"
   },
   {
    "duration": 168,
    "start_time": "2022-10-19T08:07:24.346Z"
   },
   {
    "duration": 432,
    "start_time": "2022-10-19T08:07:24.516Z"
   },
   {
    "duration": 85571,
    "start_time": "2022-10-19T08:07:24.950Z"
   },
   {
    "duration": 27,
    "start_time": "2022-10-19T08:08:50.523Z"
   },
   {
    "duration": 99,
    "start_time": "2022-10-19T08:08:50.610Z"
   },
   {
    "duration": 133,
    "start_time": "2022-10-19T08:08:50.711Z"
   },
   {
    "duration": 34994,
    "start_time": "2022-10-19T08:08:50.846Z"
   },
   {
    "duration": 11,
    "start_time": "2022-10-19T08:09:25.842Z"
   },
   {
    "duration": 157,
    "start_time": "2022-10-19T08:09:25.854Z"
   },
   {
    "duration": 327,
    "start_time": "2022-10-19T08:09:26.013Z"
   },
   {
    "duration": 153,
    "start_time": "2022-10-19T08:09:26.341Z"
   },
   {
    "duration": 8,
    "start_time": "2022-10-19T08:09:26.496Z"
   },
   {
    "duration": 73736,
    "start_time": "2022-10-19T08:09:26.509Z"
   },
   {
    "duration": 103,
    "start_time": "2022-10-19T08:10:40.247Z"
   },
   {
    "duration": 275,
    "start_time": "2022-10-19T08:10:40.352Z"
   },
   {
    "duration": 1267,
    "start_time": "2022-10-19T08:11:51.159Z"
   },
   {
    "duration": 30,
    "start_time": "2022-10-19T08:11:52.427Z"
   },
   {
    "duration": 16,
    "start_time": "2022-10-19T08:11:52.458Z"
   },
   {
    "duration": 14,
    "start_time": "2022-10-19T08:11:52.476Z"
   },
   {
    "duration": 4,
    "start_time": "2022-10-19T08:11:52.692Z"
   },
   {
    "duration": 3,
    "start_time": "2022-10-19T08:11:53.196Z"
   },
   {
    "duration": 6,
    "start_time": "2022-10-19T08:11:53.559Z"
   },
   {
    "duration": 8,
    "start_time": "2022-10-19T08:11:53.740Z"
   },
   {
    "duration": 8,
    "start_time": "2022-10-19T08:11:54.077Z"
   },
   {
    "duration": 9,
    "start_time": "2022-10-19T08:11:54.252Z"
   },
   {
    "duration": 171,
    "start_time": "2022-10-19T08:11:54.440Z"
   },
   {
    "duration": 15,
    "start_time": "2022-10-19T08:11:54.956Z"
   },
   {
    "duration": 14,
    "start_time": "2022-10-19T08:11:55.453Z"
   },
   {
    "duration": 10,
    "start_time": "2022-10-19T08:11:56.111Z"
   },
   {
    "duration": 5,
    "start_time": "2022-10-19T08:11:56.457Z"
   },
   {
    "duration": 12,
    "start_time": "2022-10-19T08:11:57.080Z"
   },
   {
    "duration": 4,
    "start_time": "2022-10-19T08:11:57.463Z"
   },
   {
    "duration": 28,
    "start_time": "2022-10-19T08:11:58.014Z"
   },
   {
    "duration": 329,
    "start_time": "2022-10-19T08:11:58.792Z"
   },
   {
    "duration": 60282,
    "start_time": "2022-10-19T08:11:59.757Z"
   },
   {
    "duration": 17,
    "start_time": "2022-10-19T08:13:00.041Z"
   },
   {
    "duration": 461,
    "start_time": "2022-10-19T08:13:00.060Z"
   },
   {
    "duration": 60462,
    "start_time": "2022-10-19T08:13:00.523Z"
   },
   {
    "duration": 26,
    "start_time": "2022-10-19T08:14:00.987Z"
   },
   {
    "duration": 201,
    "start_time": "2022-10-19T08:14:01.015Z"
   },
   {
    "duration": 445,
    "start_time": "2022-10-19T08:14:01.217Z"
   },
   {
    "duration": 85841,
    "start_time": "2022-10-19T08:14:01.664Z"
   },
   {
    "duration": 26,
    "start_time": "2022-10-19T08:15:27.509Z"
   },
   {
    "duration": 98,
    "start_time": "2022-10-19T08:15:27.611Z"
   },
   {
    "duration": 142,
    "start_time": "2022-10-19T08:15:27.711Z"
   },
   {
    "duration": 35785,
    "start_time": "2022-10-19T08:15:27.855Z"
   },
   {
    "duration": 11,
    "start_time": "2022-10-19T08:16:03.642Z"
   },
   {
    "duration": 174,
    "start_time": "2022-10-19T08:16:03.655Z"
   },
   {
    "duration": 348,
    "start_time": "2022-10-19T08:16:03.830Z"
   },
   {
    "duration": 151,
    "start_time": "2022-10-19T08:16:04.180Z"
   },
   {
    "duration": 4,
    "start_time": "2022-10-19T08:16:04.333Z"
   },
   {
    "duration": 74005,
    "start_time": "2022-10-19T08:16:04.339Z"
   },
   {
    "duration": 98,
    "start_time": "2022-10-19T08:17:18.346Z"
   },
   {
    "duration": 257,
    "start_time": "2022-10-19T08:17:18.445Z"
   }
  ],
  "kernelspec": {
   "display_name": "Python 3 (ipykernel)",
   "language": "python",
   "name": "python3"
  },
  "language_info": {
   "codemirror_mode": {
    "name": "ipython",
    "version": 3
   },
   "file_extension": ".py",
   "mimetype": "text/x-python",
   "name": "python",
   "nbconvert_exporter": "python",
   "pygments_lexer": "ipython3",
   "version": "3.10.9"
  },
  "latex_envs": {
   "LaTeX_envs_menu_present": true,
   "autoclose": false,
   "autocomplete": true,
   "bibliofile": "biblio.bib",
   "cite_by": "apalike",
   "current_citInitial": 1,
   "eqLabelWithNumbers": true,
   "eqNumInitial": 1,
   "hotkeys": {
    "equation": "Ctrl-E",
    "itemize": "Ctrl-I"
   },
   "labels_anchors": false,
   "latex_user_defs": false,
   "report_style_numbering": false,
   "user_envs_cfg": false
  },
  "toc": {
   "base_numbering": 1,
   "nav_menu": {},
   "number_sections": true,
   "sideBar": true,
   "skip_h1_title": true,
   "title_cell": "Содержание",
   "title_sidebar": "Contents",
   "toc_cell": false,
   "toc_position": {
    "height": "calc(100% - 180px)",
    "left": "10px",
    "top": "150px",
    "width": "405px"
   },
   "toc_section_display": true,
   "toc_window_display": false
  },
  "varInspector": {
   "cols": {
    "lenName": 16,
    "lenType": 16,
    "lenVar": 40
   },
   "kernels_config": {
    "python": {
     "delete_cmd_postfix": "",
     "delete_cmd_prefix": "del ",
     "library": "var_list.py",
     "varRefreshCmd": "print(var_dic_list())"
    },
    "r": {
     "delete_cmd_postfix": ") ",
     "delete_cmd_prefix": "rm(",
     "library": "var_list.r",
     "varRefreshCmd": "cat(var_dic_list()) "
    }
   },
   "types_to_exclude": [
    "module",
    "function",
    "builtin_function_or_method",
    "instance",
    "_Feature"
   ],
   "window_display": false
  }
 },
 "nbformat": 4,
 "nbformat_minor": 4
}
